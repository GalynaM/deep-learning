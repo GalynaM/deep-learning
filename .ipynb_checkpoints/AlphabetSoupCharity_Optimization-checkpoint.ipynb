{
 "cells": [
  {
   "cell_type": "code",
   "execution_count": 1,
   "metadata": {},
   "outputs": [],
   "source": [
    "import warnings\n",
    "warnings.simplefilter(\"ignore\")\n",
    "\n",
    "import json\n",
    "import pandas as pd\n",
    "import numpy as np \n",
    "\n",
    "from sklearn.model_selection import train_test_split\n",
    "from sklearn.preprocessing import StandardScaler\n",
    "\n",
    "import tensorflow as tf\n",
    "from tensorflow.keras.models import Sequential"
   ]
  },
  {
   "cell_type": "code",
   "execution_count": 2,
   "metadata": {},
   "outputs": [
    {
     "data": {
      "text/html": [
       "<div>\n",
       "<style scoped>\n",
       "    .dataframe tbody tr th:only-of-type {\n",
       "        vertical-align: middle;\n",
       "    }\n",
       "\n",
       "    .dataframe tbody tr th {\n",
       "        vertical-align: top;\n",
       "    }\n",
       "\n",
       "    .dataframe thead th {\n",
       "        text-align: right;\n",
       "    }\n",
       "</style>\n",
       "<table border=\"1\" class=\"dataframe\">\n",
       "  <thead>\n",
       "    <tr style=\"text-align: right;\">\n",
       "      <th></th>\n",
       "      <th>EIN</th>\n",
       "      <th>NAME</th>\n",
       "      <th>APPLICATION_TYPE</th>\n",
       "      <th>AFFILIATION</th>\n",
       "      <th>CLASSIFICATION</th>\n",
       "      <th>USE_CASE</th>\n",
       "      <th>ORGANIZATION</th>\n",
       "      <th>STATUS</th>\n",
       "      <th>INCOME_AMT</th>\n",
       "      <th>SPECIAL_CONSIDERATIONS</th>\n",
       "      <th>ASK_AMT</th>\n",
       "      <th>IS_SUCCESSFUL</th>\n",
       "    </tr>\n",
       "  </thead>\n",
       "  <tbody>\n",
       "    <tr>\n",
       "      <th>0</th>\n",
       "      <td>10520599</td>\n",
       "      <td>BLUE KNIGHTS MOTORCYCLE CLUB</td>\n",
       "      <td>T10</td>\n",
       "      <td>Independent</td>\n",
       "      <td>C1000</td>\n",
       "      <td>ProductDev</td>\n",
       "      <td>Association</td>\n",
       "      <td>1</td>\n",
       "      <td>0</td>\n",
       "      <td>N</td>\n",
       "      <td>5000</td>\n",
       "      <td>1</td>\n",
       "    </tr>\n",
       "    <tr>\n",
       "      <th>1</th>\n",
       "      <td>10531628</td>\n",
       "      <td>AMERICAN CHESAPEAKE CLUB CHARITABLE TR</td>\n",
       "      <td>T3</td>\n",
       "      <td>Independent</td>\n",
       "      <td>C2000</td>\n",
       "      <td>Preservation</td>\n",
       "      <td>Co-operative</td>\n",
       "      <td>1</td>\n",
       "      <td>1-9999</td>\n",
       "      <td>N</td>\n",
       "      <td>108590</td>\n",
       "      <td>1</td>\n",
       "    </tr>\n",
       "    <tr>\n",
       "      <th>2</th>\n",
       "      <td>10547893</td>\n",
       "      <td>ST CLOUD PROFESSIONAL FIREFIGHTERS</td>\n",
       "      <td>T5</td>\n",
       "      <td>CompanySponsored</td>\n",
       "      <td>C3000</td>\n",
       "      <td>ProductDev</td>\n",
       "      <td>Association</td>\n",
       "      <td>1</td>\n",
       "      <td>0</td>\n",
       "      <td>N</td>\n",
       "      <td>5000</td>\n",
       "      <td>0</td>\n",
       "    </tr>\n",
       "    <tr>\n",
       "      <th>3</th>\n",
       "      <td>10553066</td>\n",
       "      <td>SOUTHSIDE ATHLETIC ASSOCIATION</td>\n",
       "      <td>T3</td>\n",
       "      <td>CompanySponsored</td>\n",
       "      <td>C2000</td>\n",
       "      <td>Preservation</td>\n",
       "      <td>Trust</td>\n",
       "      <td>1</td>\n",
       "      <td>10000-24999</td>\n",
       "      <td>N</td>\n",
       "      <td>6692</td>\n",
       "      <td>1</td>\n",
       "    </tr>\n",
       "    <tr>\n",
       "      <th>4</th>\n",
       "      <td>10556103</td>\n",
       "      <td>GENETIC RESEARCH INSTITUTE OF THE DESERT</td>\n",
       "      <td>T3</td>\n",
       "      <td>Independent</td>\n",
       "      <td>C1000</td>\n",
       "      <td>Heathcare</td>\n",
       "      <td>Trust</td>\n",
       "      <td>1</td>\n",
       "      <td>100000-499999</td>\n",
       "      <td>N</td>\n",
       "      <td>142590</td>\n",
       "      <td>1</td>\n",
       "    </tr>\n",
       "    <tr>\n",
       "      <th>...</th>\n",
       "      <td>...</td>\n",
       "      <td>...</td>\n",
       "      <td>...</td>\n",
       "      <td>...</td>\n",
       "      <td>...</td>\n",
       "      <td>...</td>\n",
       "      <td>...</td>\n",
       "      <td>...</td>\n",
       "      <td>...</td>\n",
       "      <td>...</td>\n",
       "      <td>...</td>\n",
       "      <td>...</td>\n",
       "    </tr>\n",
       "    <tr>\n",
       "      <th>34294</th>\n",
       "      <td>996009318</td>\n",
       "      <td>THE LIONS CLUB OF HONOLULU KAMEHAMEHA</td>\n",
       "      <td>T4</td>\n",
       "      <td>Independent</td>\n",
       "      <td>C1000</td>\n",
       "      <td>ProductDev</td>\n",
       "      <td>Association</td>\n",
       "      <td>1</td>\n",
       "      <td>0</td>\n",
       "      <td>N</td>\n",
       "      <td>5000</td>\n",
       "      <td>0</td>\n",
       "    </tr>\n",
       "    <tr>\n",
       "      <th>34295</th>\n",
       "      <td>996010315</td>\n",
       "      <td>INTERNATIONAL ASSOCIATION OF LIONS CLUBS</td>\n",
       "      <td>T4</td>\n",
       "      <td>CompanySponsored</td>\n",
       "      <td>C3000</td>\n",
       "      <td>ProductDev</td>\n",
       "      <td>Association</td>\n",
       "      <td>1</td>\n",
       "      <td>0</td>\n",
       "      <td>N</td>\n",
       "      <td>5000</td>\n",
       "      <td>0</td>\n",
       "    </tr>\n",
       "    <tr>\n",
       "      <th>34296</th>\n",
       "      <td>996012607</td>\n",
       "      <td>PTA HAWAII CONGRESS</td>\n",
       "      <td>T3</td>\n",
       "      <td>CompanySponsored</td>\n",
       "      <td>C2000</td>\n",
       "      <td>Preservation</td>\n",
       "      <td>Association</td>\n",
       "      <td>1</td>\n",
       "      <td>0</td>\n",
       "      <td>N</td>\n",
       "      <td>5000</td>\n",
       "      <td>0</td>\n",
       "    </tr>\n",
       "    <tr>\n",
       "      <th>34297</th>\n",
       "      <td>996015768</td>\n",
       "      <td>AMERICAN FEDERATION OF GOVERNMENT EMPLOYEES LO...</td>\n",
       "      <td>T5</td>\n",
       "      <td>Independent</td>\n",
       "      <td>C3000</td>\n",
       "      <td>ProductDev</td>\n",
       "      <td>Association</td>\n",
       "      <td>1</td>\n",
       "      <td>0</td>\n",
       "      <td>N</td>\n",
       "      <td>5000</td>\n",
       "      <td>1</td>\n",
       "    </tr>\n",
       "    <tr>\n",
       "      <th>34298</th>\n",
       "      <td>996086871</td>\n",
       "      <td>WATERHOUSE CHARITABLE TR</td>\n",
       "      <td>T3</td>\n",
       "      <td>Independent</td>\n",
       "      <td>C1000</td>\n",
       "      <td>Preservation</td>\n",
       "      <td>Co-operative</td>\n",
       "      <td>1</td>\n",
       "      <td>1M-5M</td>\n",
       "      <td>N</td>\n",
       "      <td>36500179</td>\n",
       "      <td>0</td>\n",
       "    </tr>\n",
       "  </tbody>\n",
       "</table>\n",
       "<p>34299 rows × 12 columns</p>\n",
       "</div>"
      ],
      "text/plain": [
       "             EIN                                               NAME  \\\n",
       "0       10520599                       BLUE KNIGHTS MOTORCYCLE CLUB   \n",
       "1       10531628             AMERICAN CHESAPEAKE CLUB CHARITABLE TR   \n",
       "2       10547893                 ST CLOUD PROFESSIONAL FIREFIGHTERS   \n",
       "3       10553066                     SOUTHSIDE ATHLETIC ASSOCIATION   \n",
       "4       10556103           GENETIC RESEARCH INSTITUTE OF THE DESERT   \n",
       "...          ...                                                ...   \n",
       "34294  996009318              THE LIONS CLUB OF HONOLULU KAMEHAMEHA   \n",
       "34295  996010315           INTERNATIONAL ASSOCIATION OF LIONS CLUBS   \n",
       "34296  996012607                                PTA HAWAII CONGRESS   \n",
       "34297  996015768  AMERICAN FEDERATION OF GOVERNMENT EMPLOYEES LO...   \n",
       "34298  996086871                           WATERHOUSE CHARITABLE TR   \n",
       "\n",
       "      APPLICATION_TYPE       AFFILIATION CLASSIFICATION      USE_CASE  \\\n",
       "0                  T10       Independent          C1000    ProductDev   \n",
       "1                   T3       Independent          C2000  Preservation   \n",
       "2                   T5  CompanySponsored          C3000    ProductDev   \n",
       "3                   T3  CompanySponsored          C2000  Preservation   \n",
       "4                   T3       Independent          C1000     Heathcare   \n",
       "...                ...               ...            ...           ...   \n",
       "34294               T4       Independent          C1000    ProductDev   \n",
       "34295               T4  CompanySponsored          C3000    ProductDev   \n",
       "34296               T3  CompanySponsored          C2000  Preservation   \n",
       "34297               T5       Independent          C3000    ProductDev   \n",
       "34298               T3       Independent          C1000  Preservation   \n",
       "\n",
       "       ORGANIZATION  STATUS     INCOME_AMT SPECIAL_CONSIDERATIONS   ASK_AMT  \\\n",
       "0       Association       1              0                      N      5000   \n",
       "1      Co-operative       1         1-9999                      N    108590   \n",
       "2       Association       1              0                      N      5000   \n",
       "3             Trust       1    10000-24999                      N      6692   \n",
       "4             Trust       1  100000-499999                      N    142590   \n",
       "...             ...     ...            ...                    ...       ...   \n",
       "34294   Association       1              0                      N      5000   \n",
       "34295   Association       1              0                      N      5000   \n",
       "34296   Association       1              0                      N      5000   \n",
       "34297   Association       1              0                      N      5000   \n",
       "34298  Co-operative       1          1M-5M                      N  36500179   \n",
       "\n",
       "       IS_SUCCESSFUL  \n",
       "0                  1  \n",
       "1                  1  \n",
       "2                  0  \n",
       "3                  1  \n",
       "4                  1  \n",
       "...              ...  \n",
       "34294              0  \n",
       "34295              0  \n",
       "34296              0  \n",
       "34297              1  \n",
       "34298              0  \n",
       "\n",
       "[34299 rows x 12 columns]"
      ]
     },
     "execution_count": 2,
     "metadata": {},
     "output_type": "execute_result"
    }
   ],
   "source": [
    "#  Import and read the charity_data.csv.\n",
    "application_df = pd.read_csv(\"Resources/charity_data.csv\")\n",
    "application_df"
   ]
  },
  {
   "cell_type": "markdown",
   "metadata": {},
   "source": [
    "### Adjust the input data to ensure that there are no variables or outliers that are causing confusion in the model:\n",
    "\n",
    "* Drop more columns.\n",
    "* Create more bins for rare occurrences in columns.\n",
    "* Increase or decrease the number of values for each bin."
   ]
  },
  {
   "cell_type": "markdown",
   "metadata": {},
   "source": [
    "#### Create bins for INCOME_AMT and ASK_AMT"
   ]
  },
  {
   "cell_type": "code",
   "execution_count": 3,
   "metadata": {},
   "outputs": [
    {
     "data": {
      "text/plain": [
       "0                24388\n",
       "25000-99999       3747\n",
       "100000-499999     3374\n",
       "1M-5M              955\n",
       "1-9999             728\n",
       "10000-24999        543\n",
       "10M-50M            240\n",
       "5M-10M             185\n",
       "50M+               139\n",
       "Name: INCOME_AMT, dtype: int64"
      ]
     },
     "execution_count": 3,
     "metadata": {},
     "output_type": "execute_result"
    }
   ],
   "source": [
    "# Look at INCOME_AMT value counts for binning\n",
    "incms = application_df['INCOME_AMT'].value_counts()\n",
    "incms"
   ]
  },
  {
   "cell_type": "code",
   "execution_count": 4,
   "metadata": {},
   "outputs": [
    {
     "data": {
      "text/html": [
       "<div>\n",
       "<style scoped>\n",
       "    .dataframe tbody tr th:only-of-type {\n",
       "        vertical-align: middle;\n",
       "    }\n",
       "\n",
       "    .dataframe tbody tr th {\n",
       "        vertical-align: top;\n",
       "    }\n",
       "\n",
       "    .dataframe thead th {\n",
       "        text-align: right;\n",
       "    }\n",
       "</style>\n",
       "<table border=\"1\" class=\"dataframe\">\n",
       "  <thead>\n",
       "    <tr style=\"text-align: right;\">\n",
       "      <th></th>\n",
       "      <th>EIN</th>\n",
       "      <th>NAME</th>\n",
       "      <th>APPLICATION_TYPE</th>\n",
       "      <th>AFFILIATION</th>\n",
       "      <th>CLASSIFICATION</th>\n",
       "      <th>USE_CASE</th>\n",
       "      <th>ORGANIZATION</th>\n",
       "      <th>STATUS</th>\n",
       "      <th>INCOME_AMT</th>\n",
       "      <th>SPECIAL_CONSIDERATIONS</th>\n",
       "      <th>ASK_AMT</th>\n",
       "      <th>IS_SUCCESSFUL</th>\n",
       "    </tr>\n",
       "  </thead>\n",
       "  <tbody>\n",
       "    <tr>\n",
       "      <th>0</th>\n",
       "      <td>10520599</td>\n",
       "      <td>BLUE KNIGHTS MOTORCYCLE CLUB</td>\n",
       "      <td>T10</td>\n",
       "      <td>Independent</td>\n",
       "      <td>C1000</td>\n",
       "      <td>ProductDev</td>\n",
       "      <td>Association</td>\n",
       "      <td>1</td>\n",
       "      <td>0</td>\n",
       "      <td>N</td>\n",
       "      <td>5000</td>\n",
       "      <td>1</td>\n",
       "    </tr>\n",
       "    <tr>\n",
       "      <th>1</th>\n",
       "      <td>10531628</td>\n",
       "      <td>AMERICAN CHESAPEAKE CLUB CHARITABLE TR</td>\n",
       "      <td>T3</td>\n",
       "      <td>Independent</td>\n",
       "      <td>C2000</td>\n",
       "      <td>Preservation</td>\n",
       "      <td>Co-operative</td>\n",
       "      <td>1</td>\n",
       "      <td>1-9999</td>\n",
       "      <td>N</td>\n",
       "      <td>108590</td>\n",
       "      <td>1</td>\n",
       "    </tr>\n",
       "    <tr>\n",
       "      <th>2</th>\n",
       "      <td>10547893</td>\n",
       "      <td>ST CLOUD PROFESSIONAL FIREFIGHTERS</td>\n",
       "      <td>T5</td>\n",
       "      <td>CompanySponsored</td>\n",
       "      <td>C3000</td>\n",
       "      <td>ProductDev</td>\n",
       "      <td>Association</td>\n",
       "      <td>1</td>\n",
       "      <td>0</td>\n",
       "      <td>N</td>\n",
       "      <td>5000</td>\n",
       "      <td>0</td>\n",
       "    </tr>\n",
       "    <tr>\n",
       "      <th>3</th>\n",
       "      <td>10553066</td>\n",
       "      <td>SOUTHSIDE ATHLETIC ASSOCIATION</td>\n",
       "      <td>T3</td>\n",
       "      <td>CompanySponsored</td>\n",
       "      <td>C2000</td>\n",
       "      <td>Preservation</td>\n",
       "      <td>Trust</td>\n",
       "      <td>1</td>\n",
       "      <td>10000-24999</td>\n",
       "      <td>N</td>\n",
       "      <td>6692</td>\n",
       "      <td>1</td>\n",
       "    </tr>\n",
       "    <tr>\n",
       "      <th>4</th>\n",
       "      <td>10556103</td>\n",
       "      <td>GENETIC RESEARCH INSTITUTE OF THE DESERT</td>\n",
       "      <td>T3</td>\n",
       "      <td>Independent</td>\n",
       "      <td>C1000</td>\n",
       "      <td>Heathcare</td>\n",
       "      <td>Trust</td>\n",
       "      <td>1</td>\n",
       "      <td>100000-499999</td>\n",
       "      <td>N</td>\n",
       "      <td>142590</td>\n",
       "      <td>1</td>\n",
       "    </tr>\n",
       "    <tr>\n",
       "      <th>...</th>\n",
       "      <td>...</td>\n",
       "      <td>...</td>\n",
       "      <td>...</td>\n",
       "      <td>...</td>\n",
       "      <td>...</td>\n",
       "      <td>...</td>\n",
       "      <td>...</td>\n",
       "      <td>...</td>\n",
       "      <td>...</td>\n",
       "      <td>...</td>\n",
       "      <td>...</td>\n",
       "      <td>...</td>\n",
       "    </tr>\n",
       "    <tr>\n",
       "      <th>34294</th>\n",
       "      <td>996009318</td>\n",
       "      <td>THE LIONS CLUB OF HONOLULU KAMEHAMEHA</td>\n",
       "      <td>T4</td>\n",
       "      <td>Independent</td>\n",
       "      <td>C1000</td>\n",
       "      <td>ProductDev</td>\n",
       "      <td>Association</td>\n",
       "      <td>1</td>\n",
       "      <td>0</td>\n",
       "      <td>N</td>\n",
       "      <td>5000</td>\n",
       "      <td>0</td>\n",
       "    </tr>\n",
       "    <tr>\n",
       "      <th>34295</th>\n",
       "      <td>996010315</td>\n",
       "      <td>INTERNATIONAL ASSOCIATION OF LIONS CLUBS</td>\n",
       "      <td>T4</td>\n",
       "      <td>CompanySponsored</td>\n",
       "      <td>C3000</td>\n",
       "      <td>ProductDev</td>\n",
       "      <td>Association</td>\n",
       "      <td>1</td>\n",
       "      <td>0</td>\n",
       "      <td>N</td>\n",
       "      <td>5000</td>\n",
       "      <td>0</td>\n",
       "    </tr>\n",
       "    <tr>\n",
       "      <th>34296</th>\n",
       "      <td>996012607</td>\n",
       "      <td>PTA HAWAII CONGRESS</td>\n",
       "      <td>T3</td>\n",
       "      <td>CompanySponsored</td>\n",
       "      <td>C2000</td>\n",
       "      <td>Preservation</td>\n",
       "      <td>Association</td>\n",
       "      <td>1</td>\n",
       "      <td>0</td>\n",
       "      <td>N</td>\n",
       "      <td>5000</td>\n",
       "      <td>0</td>\n",
       "    </tr>\n",
       "    <tr>\n",
       "      <th>34297</th>\n",
       "      <td>996015768</td>\n",
       "      <td>AMERICAN FEDERATION OF GOVERNMENT EMPLOYEES LO...</td>\n",
       "      <td>T5</td>\n",
       "      <td>Independent</td>\n",
       "      <td>C3000</td>\n",
       "      <td>ProductDev</td>\n",
       "      <td>Association</td>\n",
       "      <td>1</td>\n",
       "      <td>0</td>\n",
       "      <td>N</td>\n",
       "      <td>5000</td>\n",
       "      <td>1</td>\n",
       "    </tr>\n",
       "    <tr>\n",
       "      <th>34298</th>\n",
       "      <td>996086871</td>\n",
       "      <td>WATERHOUSE CHARITABLE TR</td>\n",
       "      <td>T3</td>\n",
       "      <td>Independent</td>\n",
       "      <td>C1000</td>\n",
       "      <td>Preservation</td>\n",
       "      <td>Co-operative</td>\n",
       "      <td>1</td>\n",
       "      <td>1M-5M</td>\n",
       "      <td>N</td>\n",
       "      <td>36500179</td>\n",
       "      <td>0</td>\n",
       "    </tr>\n",
       "  </tbody>\n",
       "</table>\n",
       "<p>34299 rows × 12 columns</p>\n",
       "</div>"
      ],
      "text/plain": [
       "             EIN                                               NAME  \\\n",
       "0       10520599                       BLUE KNIGHTS MOTORCYCLE CLUB   \n",
       "1       10531628             AMERICAN CHESAPEAKE CLUB CHARITABLE TR   \n",
       "2       10547893                 ST CLOUD PROFESSIONAL FIREFIGHTERS   \n",
       "3       10553066                     SOUTHSIDE ATHLETIC ASSOCIATION   \n",
       "4       10556103           GENETIC RESEARCH INSTITUTE OF THE DESERT   \n",
       "...          ...                                                ...   \n",
       "34294  996009318              THE LIONS CLUB OF HONOLULU KAMEHAMEHA   \n",
       "34295  996010315           INTERNATIONAL ASSOCIATION OF LIONS CLUBS   \n",
       "34296  996012607                                PTA HAWAII CONGRESS   \n",
       "34297  996015768  AMERICAN FEDERATION OF GOVERNMENT EMPLOYEES LO...   \n",
       "34298  996086871                           WATERHOUSE CHARITABLE TR   \n",
       "\n",
       "      APPLICATION_TYPE       AFFILIATION CLASSIFICATION      USE_CASE  \\\n",
       "0                  T10       Independent          C1000    ProductDev   \n",
       "1                   T3       Independent          C2000  Preservation   \n",
       "2                   T5  CompanySponsored          C3000    ProductDev   \n",
       "3                   T3  CompanySponsored          C2000  Preservation   \n",
       "4                   T3       Independent          C1000     Heathcare   \n",
       "...                ...               ...            ...           ...   \n",
       "34294               T4       Independent          C1000    ProductDev   \n",
       "34295               T4  CompanySponsored          C3000    ProductDev   \n",
       "34296               T3  CompanySponsored          C2000  Preservation   \n",
       "34297               T5       Independent          C3000    ProductDev   \n",
       "34298               T3       Independent          C1000  Preservation   \n",
       "\n",
       "       ORGANIZATION  STATUS     INCOME_AMT SPECIAL_CONSIDERATIONS   ASK_AMT  \\\n",
       "0       Association       1              0                      N      5000   \n",
       "1      Co-operative       1         1-9999                      N    108590   \n",
       "2       Association       1              0                      N      5000   \n",
       "3             Trust       1    10000-24999                      N      6692   \n",
       "4             Trust       1  100000-499999                      N    142590   \n",
       "...             ...     ...            ...                    ...       ...   \n",
       "34294   Association       1              0                      N      5000   \n",
       "34295   Association       1              0                      N      5000   \n",
       "34296   Association       1              0                      N      5000   \n",
       "34297   Association       1              0                      N      5000   \n",
       "34298  Co-operative       1          1M-5M                      N  36500179   \n",
       "\n",
       "       IS_SUCCESSFUL  \n",
       "0                  1  \n",
       "1                  1  \n",
       "2                  0  \n",
       "3                  1  \n",
       "4                  1  \n",
       "...              ...  \n",
       "34294              0  \n",
       "34295              0  \n",
       "34296              0  \n",
       "34297              1  \n",
       "34298              0  \n",
       "\n",
       "[34299 rows x 12 columns]"
      ]
     },
     "execution_count": 4,
     "metadata": {},
     "output_type": "execute_result"
    }
   ],
   "source": [
    "# create a list of INCOME_AMT values to be replaced\n",
    "cut = 500\n",
    "income_to_replace = incms[incms < cut].index.values.tolist()\n",
    "\n",
    "for inc in income_to_replace:\n",
    "    application_df['INCOME_AMT'] = application_df['INCOME_AMT'].replace(inc,\"5M+\")\n",
    "application_df"
   ]
  },
  {
   "cell_type": "code",
   "execution_count": 5,
   "metadata": {},
   "outputs": [
    {
     "data": {
      "text/plain": [
       "5000        25398\n",
       "10478           3\n",
       "15583           3\n",
       "63981           3\n",
       "6725            3\n",
       "            ...  \n",
       "5371754         1\n",
       "30060           1\n",
       "43091152        1\n",
       "18683           1\n",
       "36500179        1\n",
       "Name: ASK_AMT, Length: 8747, dtype: int64"
      ]
     },
     "execution_count": 5,
     "metadata": {},
     "output_type": "execute_result"
    }
   ],
   "source": [
    "# Look at ASK_AMT values\n",
    "am = application_df['ASK_AMT'].value_counts()\n",
    "am"
   ]
  },
  {
   "cell_type": "code",
   "execution_count": 6,
   "metadata": {},
   "outputs": [
    {
     "data": {
      "text/html": [
       "<div>\n",
       "<style scoped>\n",
       "    .dataframe tbody tr th:only-of-type {\n",
       "        vertical-align: middle;\n",
       "    }\n",
       "\n",
       "    .dataframe tbody tr th {\n",
       "        vertical-align: top;\n",
       "    }\n",
       "\n",
       "    .dataframe thead th {\n",
       "        text-align: right;\n",
       "    }\n",
       "</style>\n",
       "<table border=\"1\" class=\"dataframe\">\n",
       "  <thead>\n",
       "    <tr style=\"text-align: right;\">\n",
       "      <th></th>\n",
       "      <th>EIN</th>\n",
       "      <th>NAME</th>\n",
       "      <th>APPLICATION_TYPE</th>\n",
       "      <th>AFFILIATION</th>\n",
       "      <th>CLASSIFICATION</th>\n",
       "      <th>USE_CASE</th>\n",
       "      <th>ORGANIZATION</th>\n",
       "      <th>STATUS</th>\n",
       "      <th>INCOME_AMT</th>\n",
       "      <th>SPECIAL_CONSIDERATIONS</th>\n",
       "      <th>ASK_AMT</th>\n",
       "      <th>IS_SUCCESSFUL</th>\n",
       "      <th>bins</th>\n",
       "    </tr>\n",
       "  </thead>\n",
       "  <tbody>\n",
       "    <tr>\n",
       "      <th>0</th>\n",
       "      <td>10520599</td>\n",
       "      <td>BLUE KNIGHTS MOTORCYCLE CLUB</td>\n",
       "      <td>T10</td>\n",
       "      <td>Independent</td>\n",
       "      <td>C1000</td>\n",
       "      <td>ProductDev</td>\n",
       "      <td>Association</td>\n",
       "      <td>1</td>\n",
       "      <td>0</td>\n",
       "      <td>N</td>\n",
       "      <td>5000</td>\n",
       "      <td>1</td>\n",
       "      <td>5000</td>\n",
       "    </tr>\n",
       "    <tr>\n",
       "      <th>1</th>\n",
       "      <td>10531628</td>\n",
       "      <td>AMERICAN CHESAPEAKE CLUB CHARITABLE TR</td>\n",
       "      <td>T3</td>\n",
       "      <td>Independent</td>\n",
       "      <td>C2000</td>\n",
       "      <td>Preservation</td>\n",
       "      <td>Co-operative</td>\n",
       "      <td>1</td>\n",
       "      <td>1-9999</td>\n",
       "      <td>N</td>\n",
       "      <td>108590</td>\n",
       "      <td>1</td>\n",
       "      <td>100-500k</td>\n",
       "    </tr>\n",
       "    <tr>\n",
       "      <th>2</th>\n",
       "      <td>10547893</td>\n",
       "      <td>ST CLOUD PROFESSIONAL FIREFIGHTERS</td>\n",
       "      <td>T5</td>\n",
       "      <td>CompanySponsored</td>\n",
       "      <td>C3000</td>\n",
       "      <td>ProductDev</td>\n",
       "      <td>Association</td>\n",
       "      <td>1</td>\n",
       "      <td>0</td>\n",
       "      <td>N</td>\n",
       "      <td>5000</td>\n",
       "      <td>0</td>\n",
       "      <td>5000</td>\n",
       "    </tr>\n",
       "    <tr>\n",
       "      <th>3</th>\n",
       "      <td>10553066</td>\n",
       "      <td>SOUTHSIDE ATHLETIC ASSOCIATION</td>\n",
       "      <td>T3</td>\n",
       "      <td>CompanySponsored</td>\n",
       "      <td>C2000</td>\n",
       "      <td>Preservation</td>\n",
       "      <td>Trust</td>\n",
       "      <td>1</td>\n",
       "      <td>10000-24999</td>\n",
       "      <td>N</td>\n",
       "      <td>6692</td>\n",
       "      <td>1</td>\n",
       "      <td>5-10k</td>\n",
       "    </tr>\n",
       "    <tr>\n",
       "      <th>4</th>\n",
       "      <td>10556103</td>\n",
       "      <td>GENETIC RESEARCH INSTITUTE OF THE DESERT</td>\n",
       "      <td>T3</td>\n",
       "      <td>Independent</td>\n",
       "      <td>C1000</td>\n",
       "      <td>Heathcare</td>\n",
       "      <td>Trust</td>\n",
       "      <td>1</td>\n",
       "      <td>100000-499999</td>\n",
       "      <td>N</td>\n",
       "      <td>142590</td>\n",
       "      <td>1</td>\n",
       "      <td>100-500k</td>\n",
       "    </tr>\n",
       "    <tr>\n",
       "      <th>...</th>\n",
       "      <td>...</td>\n",
       "      <td>...</td>\n",
       "      <td>...</td>\n",
       "      <td>...</td>\n",
       "      <td>...</td>\n",
       "      <td>...</td>\n",
       "      <td>...</td>\n",
       "      <td>...</td>\n",
       "      <td>...</td>\n",
       "      <td>...</td>\n",
       "      <td>...</td>\n",
       "      <td>...</td>\n",
       "      <td>...</td>\n",
       "    </tr>\n",
       "    <tr>\n",
       "      <th>34294</th>\n",
       "      <td>996009318</td>\n",
       "      <td>THE LIONS CLUB OF HONOLULU KAMEHAMEHA</td>\n",
       "      <td>T4</td>\n",
       "      <td>Independent</td>\n",
       "      <td>C1000</td>\n",
       "      <td>ProductDev</td>\n",
       "      <td>Association</td>\n",
       "      <td>1</td>\n",
       "      <td>0</td>\n",
       "      <td>N</td>\n",
       "      <td>5000</td>\n",
       "      <td>0</td>\n",
       "      <td>5000</td>\n",
       "    </tr>\n",
       "    <tr>\n",
       "      <th>34295</th>\n",
       "      <td>996010315</td>\n",
       "      <td>INTERNATIONAL ASSOCIATION OF LIONS CLUBS</td>\n",
       "      <td>T4</td>\n",
       "      <td>CompanySponsored</td>\n",
       "      <td>C3000</td>\n",
       "      <td>ProductDev</td>\n",
       "      <td>Association</td>\n",
       "      <td>1</td>\n",
       "      <td>0</td>\n",
       "      <td>N</td>\n",
       "      <td>5000</td>\n",
       "      <td>0</td>\n",
       "      <td>5000</td>\n",
       "    </tr>\n",
       "    <tr>\n",
       "      <th>34296</th>\n",
       "      <td>996012607</td>\n",
       "      <td>PTA HAWAII CONGRESS</td>\n",
       "      <td>T3</td>\n",
       "      <td>CompanySponsored</td>\n",
       "      <td>C2000</td>\n",
       "      <td>Preservation</td>\n",
       "      <td>Association</td>\n",
       "      <td>1</td>\n",
       "      <td>0</td>\n",
       "      <td>N</td>\n",
       "      <td>5000</td>\n",
       "      <td>0</td>\n",
       "      <td>5000</td>\n",
       "    </tr>\n",
       "    <tr>\n",
       "      <th>34297</th>\n",
       "      <td>996015768</td>\n",
       "      <td>AMERICAN FEDERATION OF GOVERNMENT EMPLOYEES LO...</td>\n",
       "      <td>T5</td>\n",
       "      <td>Independent</td>\n",
       "      <td>C3000</td>\n",
       "      <td>ProductDev</td>\n",
       "      <td>Association</td>\n",
       "      <td>1</td>\n",
       "      <td>0</td>\n",
       "      <td>N</td>\n",
       "      <td>5000</td>\n",
       "      <td>1</td>\n",
       "      <td>5000</td>\n",
       "    </tr>\n",
       "    <tr>\n",
       "      <th>34298</th>\n",
       "      <td>996086871</td>\n",
       "      <td>WATERHOUSE CHARITABLE TR</td>\n",
       "      <td>T3</td>\n",
       "      <td>Independent</td>\n",
       "      <td>C1000</td>\n",
       "      <td>Preservation</td>\n",
       "      <td>Co-operative</td>\n",
       "      <td>1</td>\n",
       "      <td>1M-5M</td>\n",
       "      <td>N</td>\n",
       "      <td>36500179</td>\n",
       "      <td>0</td>\n",
       "      <td>1M+</td>\n",
       "    </tr>\n",
       "  </tbody>\n",
       "</table>\n",
       "<p>34299 rows × 13 columns</p>\n",
       "</div>"
      ],
      "text/plain": [
       "             EIN                                               NAME  \\\n",
       "0       10520599                       BLUE KNIGHTS MOTORCYCLE CLUB   \n",
       "1       10531628             AMERICAN CHESAPEAKE CLUB CHARITABLE TR   \n",
       "2       10547893                 ST CLOUD PROFESSIONAL FIREFIGHTERS   \n",
       "3       10553066                     SOUTHSIDE ATHLETIC ASSOCIATION   \n",
       "4       10556103           GENETIC RESEARCH INSTITUTE OF THE DESERT   \n",
       "...          ...                                                ...   \n",
       "34294  996009318              THE LIONS CLUB OF HONOLULU KAMEHAMEHA   \n",
       "34295  996010315           INTERNATIONAL ASSOCIATION OF LIONS CLUBS   \n",
       "34296  996012607                                PTA HAWAII CONGRESS   \n",
       "34297  996015768  AMERICAN FEDERATION OF GOVERNMENT EMPLOYEES LO...   \n",
       "34298  996086871                           WATERHOUSE CHARITABLE TR   \n",
       "\n",
       "      APPLICATION_TYPE       AFFILIATION CLASSIFICATION      USE_CASE  \\\n",
       "0                  T10       Independent          C1000    ProductDev   \n",
       "1                   T3       Independent          C2000  Preservation   \n",
       "2                   T5  CompanySponsored          C3000    ProductDev   \n",
       "3                   T3  CompanySponsored          C2000  Preservation   \n",
       "4                   T3       Independent          C1000     Heathcare   \n",
       "...                ...               ...            ...           ...   \n",
       "34294               T4       Independent          C1000    ProductDev   \n",
       "34295               T4  CompanySponsored          C3000    ProductDev   \n",
       "34296               T3  CompanySponsored          C2000  Preservation   \n",
       "34297               T5       Independent          C3000    ProductDev   \n",
       "34298               T3       Independent          C1000  Preservation   \n",
       "\n",
       "       ORGANIZATION  STATUS     INCOME_AMT SPECIAL_CONSIDERATIONS   ASK_AMT  \\\n",
       "0       Association       1              0                      N      5000   \n",
       "1      Co-operative       1         1-9999                      N    108590   \n",
       "2       Association       1              0                      N      5000   \n",
       "3             Trust       1    10000-24999                      N      6692   \n",
       "4             Trust       1  100000-499999                      N    142590   \n",
       "...             ...     ...            ...                    ...       ...   \n",
       "34294   Association       1              0                      N      5000   \n",
       "34295   Association       1              0                      N      5000   \n",
       "34296   Association       1              0                      N      5000   \n",
       "34297   Association       1              0                      N      5000   \n",
       "34298  Co-operative       1          1M-5M                      N  36500179   \n",
       "\n",
       "       IS_SUCCESSFUL      bins  \n",
       "0                  1      5000  \n",
       "1                  1  100-500k  \n",
       "2                  0      5000  \n",
       "3                  1     5-10k  \n",
       "4                  1  100-500k  \n",
       "...              ...       ...  \n",
       "34294              0      5000  \n",
       "34295              0      5000  \n",
       "34296              0      5000  \n",
       "34297              1      5000  \n",
       "34298              0       1M+  \n",
       "\n",
       "[34299 rows x 13 columns]"
      ]
     },
     "execution_count": 6,
     "metadata": {},
     "output_type": "execute_result"
    }
   ],
   "source": [
    "# create bins for ASK_AMT values\n",
    "application_df['bins'] = np.select(\n",
    "    [\n",
    "        application_df['ASK_AMT']== 5000, \n",
    "        application_df['ASK_AMT'].between(5000, 10000, inclusive=False),\n",
    "        application_df['ASK_AMT'].between(10000, 100000, inclusive=True), \n",
    "        application_df['ASK_AMT'].between(100000, 500000, inclusive=False),\n",
    "        application_df['ASK_AMT'].between(500000, 999999, inclusive=True), \n",
    "        application_df['ASK_AMT'].between(1000000, 1000000000, inclusive=True)\n",
    "    ], \n",
    "    [\n",
    "        '5000', \n",
    "        '5-10k',\n",
    "        '10-100k',\n",
    "        '100-500k',\n",
    "        '500k-1M',\n",
    "        '1M+'\n",
    "    ], \n",
    "    default='Unknown'\n",
    ")\n",
    "application_df"
   ]
  },
  {
   "cell_type": "markdown",
   "metadata": {},
   "source": [
    "#### Drop columns that are not considered valuable for model"
   ]
  },
  {
   "cell_type": "code",
   "execution_count": null,
   "metadata": {},
   "outputs": [],
   "source": [
    "# Drop the non-beneficial ID columns, 'EIN' and 'NAME'.\n",
    "application_df.drop(['EIN', 'NAME'], axis = 1, inplace = True)"
   ]
  },
  {
   "cell_type": "code",
   "execution_count": 7,
   "metadata": {},
   "outputs": [],
   "source": [
    "# values of SPECIAL_CONSIDERATIONS are always N\n",
    "# status does not seem to influence the result\n",
    "# ASK_AMT we substitude with a new column bins that contains grouped values from ASK_AMT\n",
    "application_df.drop(['STATUS', 'SPECIAL_CONSIDERATIONS', 'ASK_AMT'], axis = 1, inplace = True)"
   ]
  },
  {
   "cell_type": "markdown",
   "metadata": {},
   "source": [
    "#### Increase or decrease the number of values for each bin."
   ]
  },
  {
   "cell_type": "code",
   "execution_count": 8,
   "metadata": {},
   "outputs": [],
   "source": [
    "# Create a list of application types to be replaced\n",
    "type_series = application_df['APPLICATION_TYPE'].value_counts()\n",
    "\n",
    "cutoff = 1000\n",
    "application_types_to_replace = type_series[type_series < cutoff].index.values.tolist()\n",
    "\n",
    "for app in application_types_to_replace:\n",
    "    application_df['APPLICATION_TYPE'] = application_df['APPLICATION_TYPE'].replace(app,\"Other\")"
   ]
  },
  {
   "cell_type": "code",
   "execution_count": 9,
   "metadata": {},
   "outputs": [],
   "source": [
    "# create a list of classification types to be replaced\n",
    "class_series = application_df['CLASSIFICATION'].value_counts()\n",
    "\n",
    "cutoffc = 200\n",
    "classifications_to_replace = class_series[class_series < cutoffc].index.values.tolist()\n",
    "\n",
    "for cls in classifications_to_replace:\n",
    "    application_df['CLASSIFICATION'] = application_df['CLASSIFICATION'].replace(cls,\"Other\")"
   ]
  },
  {
   "cell_type": "code",
   "execution_count": 10,
   "metadata": {},
   "outputs": [
    {
     "data": {
      "text/plain": [
       "C1000    17326\n",
       "C2000     6074\n",
       "C1200     4837\n",
       "C3000     1918\n",
       "C2100     1883\n",
       "Other     1197\n",
       "C7000      777\n",
       "C1700      287\n",
       "Name: CLASSIFICATION, dtype: int64"
      ]
     },
     "execution_count": 10,
     "metadata": {},
     "output_type": "execute_result"
    }
   ],
   "source": [
    "application_df['CLASSIFICATION'].value_counts()"
   ]
  },
  {
   "cell_type": "code",
   "execution_count": 11,
   "metadata": {},
   "outputs": [
    {
     "data": {
      "text/html": [
       "<div>\n",
       "<style scoped>\n",
       "    .dataframe tbody tr th:only-of-type {\n",
       "        vertical-align: middle;\n",
       "    }\n",
       "\n",
       "    .dataframe tbody tr th {\n",
       "        vertical-align: top;\n",
       "    }\n",
       "\n",
       "    .dataframe thead th {\n",
       "        text-align: right;\n",
       "    }\n",
       "</style>\n",
       "<table border=\"1\" class=\"dataframe\">\n",
       "  <thead>\n",
       "    <tr style=\"text-align: right;\">\n",
       "      <th></th>\n",
       "      <th>EIN</th>\n",
       "      <th>IS_SUCCESSFUL</th>\n",
       "      <th>NAME_1 DAY RANCH RESCUE AND RURAL OKLAHOMA ANIMAL RESOURCE INC</th>\n",
       "      <th>NAME_100 BLACK MEN OF AMERICA</th>\n",
       "      <th>NAME_100 BLACK MEN OF MEMPHIS INC</th>\n",
       "      <th>NAME_100 BLACK MEN OF WEST GEORGIA INC</th>\n",
       "      <th>NAME_1150 WEBSTER STREET INC</th>\n",
       "      <th>NAME_116TH CAVALRY REGIMENT CHAPTER OF THE US CAVALRY &amp; ARMOR ASSOCIATION</th>\n",
       "      <th>NAME_13TH BOMB SQUADRON ASSOCIATION</th>\n",
       "      <th>NAME_146TH ALUMNI ASSOCIATION</th>\n",
       "      <th>...</th>\n",
       "      <th>INCOME_AMT_1M-5M</th>\n",
       "      <th>INCOME_AMT_25000-99999</th>\n",
       "      <th>INCOME_AMT_5M+</th>\n",
       "      <th>bins_10-100k</th>\n",
       "      <th>bins_100-500k</th>\n",
       "      <th>bins_1M+</th>\n",
       "      <th>bins_5-10k</th>\n",
       "      <th>bins_5000</th>\n",
       "      <th>bins_500k-1M</th>\n",
       "      <th>bins_Unknown</th>\n",
       "    </tr>\n",
       "  </thead>\n",
       "  <tbody>\n",
       "    <tr>\n",
       "      <th>0</th>\n",
       "      <td>10520599</td>\n",
       "      <td>1</td>\n",
       "      <td>0</td>\n",
       "      <td>0</td>\n",
       "      <td>0</td>\n",
       "      <td>0</td>\n",
       "      <td>0</td>\n",
       "      <td>0</td>\n",
       "      <td>0</td>\n",
       "      <td>0</td>\n",
       "      <td>...</td>\n",
       "      <td>0</td>\n",
       "      <td>0</td>\n",
       "      <td>0</td>\n",
       "      <td>0</td>\n",
       "      <td>0</td>\n",
       "      <td>0</td>\n",
       "      <td>0</td>\n",
       "      <td>1</td>\n",
       "      <td>0</td>\n",
       "      <td>0</td>\n",
       "    </tr>\n",
       "    <tr>\n",
       "      <th>1</th>\n",
       "      <td>10531628</td>\n",
       "      <td>1</td>\n",
       "      <td>0</td>\n",
       "      <td>0</td>\n",
       "      <td>0</td>\n",
       "      <td>0</td>\n",
       "      <td>0</td>\n",
       "      <td>0</td>\n",
       "      <td>0</td>\n",
       "      <td>0</td>\n",
       "      <td>...</td>\n",
       "      <td>0</td>\n",
       "      <td>0</td>\n",
       "      <td>0</td>\n",
       "      <td>0</td>\n",
       "      <td>1</td>\n",
       "      <td>0</td>\n",
       "      <td>0</td>\n",
       "      <td>0</td>\n",
       "      <td>0</td>\n",
       "      <td>0</td>\n",
       "    </tr>\n",
       "    <tr>\n",
       "      <th>2</th>\n",
       "      <td>10547893</td>\n",
       "      <td>0</td>\n",
       "      <td>0</td>\n",
       "      <td>0</td>\n",
       "      <td>0</td>\n",
       "      <td>0</td>\n",
       "      <td>0</td>\n",
       "      <td>0</td>\n",
       "      <td>0</td>\n",
       "      <td>0</td>\n",
       "      <td>...</td>\n",
       "      <td>0</td>\n",
       "      <td>0</td>\n",
       "      <td>0</td>\n",
       "      <td>0</td>\n",
       "      <td>0</td>\n",
       "      <td>0</td>\n",
       "      <td>0</td>\n",
       "      <td>1</td>\n",
       "      <td>0</td>\n",
       "      <td>0</td>\n",
       "    </tr>\n",
       "    <tr>\n",
       "      <th>3</th>\n",
       "      <td>10553066</td>\n",
       "      <td>1</td>\n",
       "      <td>0</td>\n",
       "      <td>0</td>\n",
       "      <td>0</td>\n",
       "      <td>0</td>\n",
       "      <td>0</td>\n",
       "      <td>0</td>\n",
       "      <td>0</td>\n",
       "      <td>0</td>\n",
       "      <td>...</td>\n",
       "      <td>0</td>\n",
       "      <td>0</td>\n",
       "      <td>0</td>\n",
       "      <td>0</td>\n",
       "      <td>0</td>\n",
       "      <td>0</td>\n",
       "      <td>1</td>\n",
       "      <td>0</td>\n",
       "      <td>0</td>\n",
       "      <td>0</td>\n",
       "    </tr>\n",
       "    <tr>\n",
       "      <th>4</th>\n",
       "      <td>10556103</td>\n",
       "      <td>1</td>\n",
       "      <td>0</td>\n",
       "      <td>0</td>\n",
       "      <td>0</td>\n",
       "      <td>0</td>\n",
       "      <td>0</td>\n",
       "      <td>0</td>\n",
       "      <td>0</td>\n",
       "      <td>0</td>\n",
       "      <td>...</td>\n",
       "      <td>0</td>\n",
       "      <td>0</td>\n",
       "      <td>0</td>\n",
       "      <td>0</td>\n",
       "      <td>1</td>\n",
       "      <td>0</td>\n",
       "      <td>0</td>\n",
       "      <td>0</td>\n",
       "      <td>0</td>\n",
       "      <td>0</td>\n",
       "    </tr>\n",
       "    <tr>\n",
       "      <th>...</th>\n",
       "      <td>...</td>\n",
       "      <td>...</td>\n",
       "      <td>...</td>\n",
       "      <td>...</td>\n",
       "      <td>...</td>\n",
       "      <td>...</td>\n",
       "      <td>...</td>\n",
       "      <td>...</td>\n",
       "      <td>...</td>\n",
       "      <td>...</td>\n",
       "      <td>...</td>\n",
       "      <td>...</td>\n",
       "      <td>...</td>\n",
       "      <td>...</td>\n",
       "      <td>...</td>\n",
       "      <td>...</td>\n",
       "      <td>...</td>\n",
       "      <td>...</td>\n",
       "      <td>...</td>\n",
       "      <td>...</td>\n",
       "      <td>...</td>\n",
       "    </tr>\n",
       "    <tr>\n",
       "      <th>34294</th>\n",
       "      <td>996009318</td>\n",
       "      <td>0</td>\n",
       "      <td>0</td>\n",
       "      <td>0</td>\n",
       "      <td>0</td>\n",
       "      <td>0</td>\n",
       "      <td>0</td>\n",
       "      <td>0</td>\n",
       "      <td>0</td>\n",
       "      <td>0</td>\n",
       "      <td>...</td>\n",
       "      <td>0</td>\n",
       "      <td>0</td>\n",
       "      <td>0</td>\n",
       "      <td>0</td>\n",
       "      <td>0</td>\n",
       "      <td>0</td>\n",
       "      <td>0</td>\n",
       "      <td>1</td>\n",
       "      <td>0</td>\n",
       "      <td>0</td>\n",
       "    </tr>\n",
       "    <tr>\n",
       "      <th>34295</th>\n",
       "      <td>996010315</td>\n",
       "      <td>0</td>\n",
       "      <td>0</td>\n",
       "      <td>0</td>\n",
       "      <td>0</td>\n",
       "      <td>0</td>\n",
       "      <td>0</td>\n",
       "      <td>0</td>\n",
       "      <td>0</td>\n",
       "      <td>0</td>\n",
       "      <td>...</td>\n",
       "      <td>0</td>\n",
       "      <td>0</td>\n",
       "      <td>0</td>\n",
       "      <td>0</td>\n",
       "      <td>0</td>\n",
       "      <td>0</td>\n",
       "      <td>0</td>\n",
       "      <td>1</td>\n",
       "      <td>0</td>\n",
       "      <td>0</td>\n",
       "    </tr>\n",
       "    <tr>\n",
       "      <th>34296</th>\n",
       "      <td>996012607</td>\n",
       "      <td>0</td>\n",
       "      <td>0</td>\n",
       "      <td>0</td>\n",
       "      <td>0</td>\n",
       "      <td>0</td>\n",
       "      <td>0</td>\n",
       "      <td>0</td>\n",
       "      <td>0</td>\n",
       "      <td>0</td>\n",
       "      <td>...</td>\n",
       "      <td>0</td>\n",
       "      <td>0</td>\n",
       "      <td>0</td>\n",
       "      <td>0</td>\n",
       "      <td>0</td>\n",
       "      <td>0</td>\n",
       "      <td>0</td>\n",
       "      <td>1</td>\n",
       "      <td>0</td>\n",
       "      <td>0</td>\n",
       "    </tr>\n",
       "    <tr>\n",
       "      <th>34297</th>\n",
       "      <td>996015768</td>\n",
       "      <td>1</td>\n",
       "      <td>0</td>\n",
       "      <td>0</td>\n",
       "      <td>0</td>\n",
       "      <td>0</td>\n",
       "      <td>0</td>\n",
       "      <td>0</td>\n",
       "      <td>0</td>\n",
       "      <td>0</td>\n",
       "      <td>...</td>\n",
       "      <td>0</td>\n",
       "      <td>0</td>\n",
       "      <td>0</td>\n",
       "      <td>0</td>\n",
       "      <td>0</td>\n",
       "      <td>0</td>\n",
       "      <td>0</td>\n",
       "      <td>1</td>\n",
       "      <td>0</td>\n",
       "      <td>0</td>\n",
       "    </tr>\n",
       "    <tr>\n",
       "      <th>34298</th>\n",
       "      <td>996086871</td>\n",
       "      <td>0</td>\n",
       "      <td>0</td>\n",
       "      <td>0</td>\n",
       "      <td>0</td>\n",
       "      <td>0</td>\n",
       "      <td>0</td>\n",
       "      <td>0</td>\n",
       "      <td>0</td>\n",
       "      <td>0</td>\n",
       "      <td>...</td>\n",
       "      <td>1</td>\n",
       "      <td>0</td>\n",
       "      <td>0</td>\n",
       "      <td>0</td>\n",
       "      <td>0</td>\n",
       "      <td>1</td>\n",
       "      <td>0</td>\n",
       "      <td>0</td>\n",
       "      <td>0</td>\n",
       "      <td>0</td>\n",
       "    </tr>\n",
       "  </tbody>\n",
       "</table>\n",
       "<p>34299 rows × 19613 columns</p>\n",
       "</div>"
      ],
      "text/plain": [
       "             EIN  IS_SUCCESSFUL  \\\n",
       "0       10520599              1   \n",
       "1       10531628              1   \n",
       "2       10547893              0   \n",
       "3       10553066              1   \n",
       "4       10556103              1   \n",
       "...          ...            ...   \n",
       "34294  996009318              0   \n",
       "34295  996010315              0   \n",
       "34296  996012607              0   \n",
       "34297  996015768              1   \n",
       "34298  996086871              0   \n",
       "\n",
       "       NAME_1 DAY RANCH RESCUE AND RURAL OKLAHOMA ANIMAL RESOURCE INC  \\\n",
       "0                                                      0                \n",
       "1                                                      0                \n",
       "2                                                      0                \n",
       "3                                                      0                \n",
       "4                                                      0                \n",
       "...                                                  ...                \n",
       "34294                                                  0                \n",
       "34295                                                  0                \n",
       "34296                                                  0                \n",
       "34297                                                  0                \n",
       "34298                                                  0                \n",
       "\n",
       "       NAME_100 BLACK MEN OF AMERICA  NAME_100 BLACK MEN OF MEMPHIS INC  \\\n",
       "0                                  0                                  0   \n",
       "1                                  0                                  0   \n",
       "2                                  0                                  0   \n",
       "3                                  0                                  0   \n",
       "4                                  0                                  0   \n",
       "...                              ...                                ...   \n",
       "34294                              0                                  0   \n",
       "34295                              0                                  0   \n",
       "34296                              0                                  0   \n",
       "34297                              0                                  0   \n",
       "34298                              0                                  0   \n",
       "\n",
       "       NAME_100 BLACK MEN OF WEST GEORGIA INC  NAME_1150 WEBSTER STREET INC  \\\n",
       "0                                           0                             0   \n",
       "1                                           0                             0   \n",
       "2                                           0                             0   \n",
       "3                                           0                             0   \n",
       "4                                           0                             0   \n",
       "...                                       ...                           ...   \n",
       "34294                                       0                             0   \n",
       "34295                                       0                             0   \n",
       "34296                                       0                             0   \n",
       "34297                                       0                             0   \n",
       "34298                                       0                             0   \n",
       "\n",
       "       NAME_116TH CAVALRY REGIMENT CHAPTER OF THE US CAVALRY & ARMOR ASSOCIATION  \\\n",
       "0                                                      0                           \n",
       "1                                                      0                           \n",
       "2                                                      0                           \n",
       "3                                                      0                           \n",
       "4                                                      0                           \n",
       "...                                                  ...                           \n",
       "34294                                                  0                           \n",
       "34295                                                  0                           \n",
       "34296                                                  0                           \n",
       "34297                                                  0                           \n",
       "34298                                                  0                           \n",
       "\n",
       "       NAME_13TH BOMB SQUADRON ASSOCIATION  NAME_146TH ALUMNI ASSOCIATION  \\\n",
       "0                                        0                              0   \n",
       "1                                        0                              0   \n",
       "2                                        0                              0   \n",
       "3                                        0                              0   \n",
       "4                                        0                              0   \n",
       "...                                    ...                            ...   \n",
       "34294                                    0                              0   \n",
       "34295                                    0                              0   \n",
       "34296                                    0                              0   \n",
       "34297                                    0                              0   \n",
       "34298                                    0                              0   \n",
       "\n",
       "       ...  INCOME_AMT_1M-5M  INCOME_AMT_25000-99999  INCOME_AMT_5M+  \\\n",
       "0      ...                 0                       0               0   \n",
       "1      ...                 0                       0               0   \n",
       "2      ...                 0                       0               0   \n",
       "3      ...                 0                       0               0   \n",
       "4      ...                 0                       0               0   \n",
       "...    ...               ...                     ...             ...   \n",
       "34294  ...                 0                       0               0   \n",
       "34295  ...                 0                       0               0   \n",
       "34296  ...                 0                       0               0   \n",
       "34297  ...                 0                       0               0   \n",
       "34298  ...                 1                       0               0   \n",
       "\n",
       "       bins_10-100k  bins_100-500k  bins_1M+  bins_5-10k  bins_5000  \\\n",
       "0                 0              0         0           0          1   \n",
       "1                 0              1         0           0          0   \n",
       "2                 0              0         0           0          1   \n",
       "3                 0              0         0           1          0   \n",
       "4                 0              1         0           0          0   \n",
       "...             ...            ...       ...         ...        ...   \n",
       "34294             0              0         0           0          1   \n",
       "34295             0              0         0           0          1   \n",
       "34296             0              0         0           0          1   \n",
       "34297             0              0         0           0          1   \n",
       "34298             0              0         1           0          0   \n",
       "\n",
       "       bins_500k-1M  bins_Unknown  \n",
       "0                 0             0  \n",
       "1                 0             0  \n",
       "2                 0             0  \n",
       "3                 0             0  \n",
       "4                 0             0  \n",
       "...             ...           ...  \n",
       "34294             0             0  \n",
       "34295             0             0  \n",
       "34296             0             0  \n",
       "34297             0             0  \n",
       "34298             0             0  \n",
       "\n",
       "[34299 rows x 19613 columns]"
      ]
     },
     "execution_count": 11,
     "metadata": {},
     "output_type": "execute_result"
    }
   ],
   "source": [
    "# Convert categorical values to numeric\n",
    "X_dummies = pd.get_dummies(application_df)\n",
    "X_dummies"
   ]
  },
  {
   "cell_type": "code",
   "execution_count": 12,
   "metadata": {},
   "outputs": [
    {
     "data": {
      "text/html": [
       "<div>\n",
       "<style scoped>\n",
       "    .dataframe tbody tr th:only-of-type {\n",
       "        vertical-align: middle;\n",
       "    }\n",
       "\n",
       "    .dataframe tbody tr th {\n",
       "        vertical-align: top;\n",
       "    }\n",
       "\n",
       "    .dataframe thead th {\n",
       "        text-align: right;\n",
       "    }\n",
       "</style>\n",
       "<table border=\"1\" class=\"dataframe\">\n",
       "  <thead>\n",
       "    <tr style=\"text-align: right;\">\n",
       "      <th></th>\n",
       "      <th>EIN</th>\n",
       "      <th>NAME_1 DAY RANCH RESCUE AND RURAL OKLAHOMA ANIMAL RESOURCE INC</th>\n",
       "      <th>NAME_100 BLACK MEN OF AMERICA</th>\n",
       "      <th>NAME_100 BLACK MEN OF MEMPHIS INC</th>\n",
       "      <th>NAME_100 BLACK MEN OF WEST GEORGIA INC</th>\n",
       "      <th>NAME_1150 WEBSTER STREET INC</th>\n",
       "      <th>NAME_116TH CAVALRY REGIMENT CHAPTER OF THE US CAVALRY &amp; ARMOR ASSOCIATION</th>\n",
       "      <th>NAME_13TH BOMB SQUADRON ASSOCIATION</th>\n",
       "      <th>NAME_146TH ALUMNI ASSOCIATION</th>\n",
       "      <th>NAME_14TH ARMORED DIVISION</th>\n",
       "      <th>...</th>\n",
       "      <th>INCOME_AMT_1M-5M</th>\n",
       "      <th>INCOME_AMT_25000-99999</th>\n",
       "      <th>INCOME_AMT_5M+</th>\n",
       "      <th>bins_10-100k</th>\n",
       "      <th>bins_100-500k</th>\n",
       "      <th>bins_1M+</th>\n",
       "      <th>bins_5-10k</th>\n",
       "      <th>bins_5000</th>\n",
       "      <th>bins_500k-1M</th>\n",
       "      <th>bins_Unknown</th>\n",
       "    </tr>\n",
       "  </thead>\n",
       "  <tbody>\n",
       "    <tr>\n",
       "      <th>0</th>\n",
       "      <td>10520599</td>\n",
       "      <td>0</td>\n",
       "      <td>0</td>\n",
       "      <td>0</td>\n",
       "      <td>0</td>\n",
       "      <td>0</td>\n",
       "      <td>0</td>\n",
       "      <td>0</td>\n",
       "      <td>0</td>\n",
       "      <td>0</td>\n",
       "      <td>...</td>\n",
       "      <td>0</td>\n",
       "      <td>0</td>\n",
       "      <td>0</td>\n",
       "      <td>0</td>\n",
       "      <td>0</td>\n",
       "      <td>0</td>\n",
       "      <td>0</td>\n",
       "      <td>1</td>\n",
       "      <td>0</td>\n",
       "      <td>0</td>\n",
       "    </tr>\n",
       "    <tr>\n",
       "      <th>1</th>\n",
       "      <td>10531628</td>\n",
       "      <td>0</td>\n",
       "      <td>0</td>\n",
       "      <td>0</td>\n",
       "      <td>0</td>\n",
       "      <td>0</td>\n",
       "      <td>0</td>\n",
       "      <td>0</td>\n",
       "      <td>0</td>\n",
       "      <td>0</td>\n",
       "      <td>...</td>\n",
       "      <td>0</td>\n",
       "      <td>0</td>\n",
       "      <td>0</td>\n",
       "      <td>0</td>\n",
       "      <td>1</td>\n",
       "      <td>0</td>\n",
       "      <td>0</td>\n",
       "      <td>0</td>\n",
       "      <td>0</td>\n",
       "      <td>0</td>\n",
       "    </tr>\n",
       "    <tr>\n",
       "      <th>2</th>\n",
       "      <td>10547893</td>\n",
       "      <td>0</td>\n",
       "      <td>0</td>\n",
       "      <td>0</td>\n",
       "      <td>0</td>\n",
       "      <td>0</td>\n",
       "      <td>0</td>\n",
       "      <td>0</td>\n",
       "      <td>0</td>\n",
       "      <td>0</td>\n",
       "      <td>...</td>\n",
       "      <td>0</td>\n",
       "      <td>0</td>\n",
       "      <td>0</td>\n",
       "      <td>0</td>\n",
       "      <td>0</td>\n",
       "      <td>0</td>\n",
       "      <td>0</td>\n",
       "      <td>1</td>\n",
       "      <td>0</td>\n",
       "      <td>0</td>\n",
       "    </tr>\n",
       "    <tr>\n",
       "      <th>3</th>\n",
       "      <td>10553066</td>\n",
       "      <td>0</td>\n",
       "      <td>0</td>\n",
       "      <td>0</td>\n",
       "      <td>0</td>\n",
       "      <td>0</td>\n",
       "      <td>0</td>\n",
       "      <td>0</td>\n",
       "      <td>0</td>\n",
       "      <td>0</td>\n",
       "      <td>...</td>\n",
       "      <td>0</td>\n",
       "      <td>0</td>\n",
       "      <td>0</td>\n",
       "      <td>0</td>\n",
       "      <td>0</td>\n",
       "      <td>0</td>\n",
       "      <td>1</td>\n",
       "      <td>0</td>\n",
       "      <td>0</td>\n",
       "      <td>0</td>\n",
       "    </tr>\n",
       "    <tr>\n",
       "      <th>4</th>\n",
       "      <td>10556103</td>\n",
       "      <td>0</td>\n",
       "      <td>0</td>\n",
       "      <td>0</td>\n",
       "      <td>0</td>\n",
       "      <td>0</td>\n",
       "      <td>0</td>\n",
       "      <td>0</td>\n",
       "      <td>0</td>\n",
       "      <td>0</td>\n",
       "      <td>...</td>\n",
       "      <td>0</td>\n",
       "      <td>0</td>\n",
       "      <td>0</td>\n",
       "      <td>0</td>\n",
       "      <td>1</td>\n",
       "      <td>0</td>\n",
       "      <td>0</td>\n",
       "      <td>0</td>\n",
       "      <td>0</td>\n",
       "      <td>0</td>\n",
       "    </tr>\n",
       "    <tr>\n",
       "      <th>...</th>\n",
       "      <td>...</td>\n",
       "      <td>...</td>\n",
       "      <td>...</td>\n",
       "      <td>...</td>\n",
       "      <td>...</td>\n",
       "      <td>...</td>\n",
       "      <td>...</td>\n",
       "      <td>...</td>\n",
       "      <td>...</td>\n",
       "      <td>...</td>\n",
       "      <td>...</td>\n",
       "      <td>...</td>\n",
       "      <td>...</td>\n",
       "      <td>...</td>\n",
       "      <td>...</td>\n",
       "      <td>...</td>\n",
       "      <td>...</td>\n",
       "      <td>...</td>\n",
       "      <td>...</td>\n",
       "      <td>...</td>\n",
       "      <td>...</td>\n",
       "    </tr>\n",
       "    <tr>\n",
       "      <th>34294</th>\n",
       "      <td>996009318</td>\n",
       "      <td>0</td>\n",
       "      <td>0</td>\n",
       "      <td>0</td>\n",
       "      <td>0</td>\n",
       "      <td>0</td>\n",
       "      <td>0</td>\n",
       "      <td>0</td>\n",
       "      <td>0</td>\n",
       "      <td>0</td>\n",
       "      <td>...</td>\n",
       "      <td>0</td>\n",
       "      <td>0</td>\n",
       "      <td>0</td>\n",
       "      <td>0</td>\n",
       "      <td>0</td>\n",
       "      <td>0</td>\n",
       "      <td>0</td>\n",
       "      <td>1</td>\n",
       "      <td>0</td>\n",
       "      <td>0</td>\n",
       "    </tr>\n",
       "    <tr>\n",
       "      <th>34295</th>\n",
       "      <td>996010315</td>\n",
       "      <td>0</td>\n",
       "      <td>0</td>\n",
       "      <td>0</td>\n",
       "      <td>0</td>\n",
       "      <td>0</td>\n",
       "      <td>0</td>\n",
       "      <td>0</td>\n",
       "      <td>0</td>\n",
       "      <td>0</td>\n",
       "      <td>...</td>\n",
       "      <td>0</td>\n",
       "      <td>0</td>\n",
       "      <td>0</td>\n",
       "      <td>0</td>\n",
       "      <td>0</td>\n",
       "      <td>0</td>\n",
       "      <td>0</td>\n",
       "      <td>1</td>\n",
       "      <td>0</td>\n",
       "      <td>0</td>\n",
       "    </tr>\n",
       "    <tr>\n",
       "      <th>34296</th>\n",
       "      <td>996012607</td>\n",
       "      <td>0</td>\n",
       "      <td>0</td>\n",
       "      <td>0</td>\n",
       "      <td>0</td>\n",
       "      <td>0</td>\n",
       "      <td>0</td>\n",
       "      <td>0</td>\n",
       "      <td>0</td>\n",
       "      <td>0</td>\n",
       "      <td>...</td>\n",
       "      <td>0</td>\n",
       "      <td>0</td>\n",
       "      <td>0</td>\n",
       "      <td>0</td>\n",
       "      <td>0</td>\n",
       "      <td>0</td>\n",
       "      <td>0</td>\n",
       "      <td>1</td>\n",
       "      <td>0</td>\n",
       "      <td>0</td>\n",
       "    </tr>\n",
       "    <tr>\n",
       "      <th>34297</th>\n",
       "      <td>996015768</td>\n",
       "      <td>0</td>\n",
       "      <td>0</td>\n",
       "      <td>0</td>\n",
       "      <td>0</td>\n",
       "      <td>0</td>\n",
       "      <td>0</td>\n",
       "      <td>0</td>\n",
       "      <td>0</td>\n",
       "      <td>0</td>\n",
       "      <td>...</td>\n",
       "      <td>0</td>\n",
       "      <td>0</td>\n",
       "      <td>0</td>\n",
       "      <td>0</td>\n",
       "      <td>0</td>\n",
       "      <td>0</td>\n",
       "      <td>0</td>\n",
       "      <td>1</td>\n",
       "      <td>0</td>\n",
       "      <td>0</td>\n",
       "    </tr>\n",
       "    <tr>\n",
       "      <th>34298</th>\n",
       "      <td>996086871</td>\n",
       "      <td>0</td>\n",
       "      <td>0</td>\n",
       "      <td>0</td>\n",
       "      <td>0</td>\n",
       "      <td>0</td>\n",
       "      <td>0</td>\n",
       "      <td>0</td>\n",
       "      <td>0</td>\n",
       "      <td>0</td>\n",
       "      <td>...</td>\n",
       "      <td>1</td>\n",
       "      <td>0</td>\n",
       "      <td>0</td>\n",
       "      <td>0</td>\n",
       "      <td>0</td>\n",
       "      <td>1</td>\n",
       "      <td>0</td>\n",
       "      <td>0</td>\n",
       "      <td>0</td>\n",
       "      <td>0</td>\n",
       "    </tr>\n",
       "  </tbody>\n",
       "</table>\n",
       "<p>34299 rows × 19612 columns</p>\n",
       "</div>"
      ],
      "text/plain": [
       "             EIN  \\\n",
       "0       10520599   \n",
       "1       10531628   \n",
       "2       10547893   \n",
       "3       10553066   \n",
       "4       10556103   \n",
       "...          ...   \n",
       "34294  996009318   \n",
       "34295  996010315   \n",
       "34296  996012607   \n",
       "34297  996015768   \n",
       "34298  996086871   \n",
       "\n",
       "       NAME_1 DAY RANCH RESCUE AND RURAL OKLAHOMA ANIMAL RESOURCE INC  \\\n",
       "0                                                      0                \n",
       "1                                                      0                \n",
       "2                                                      0                \n",
       "3                                                      0                \n",
       "4                                                      0                \n",
       "...                                                  ...                \n",
       "34294                                                  0                \n",
       "34295                                                  0                \n",
       "34296                                                  0                \n",
       "34297                                                  0                \n",
       "34298                                                  0                \n",
       "\n",
       "       NAME_100 BLACK MEN OF AMERICA  NAME_100 BLACK MEN OF MEMPHIS INC  \\\n",
       "0                                  0                                  0   \n",
       "1                                  0                                  0   \n",
       "2                                  0                                  0   \n",
       "3                                  0                                  0   \n",
       "4                                  0                                  0   \n",
       "...                              ...                                ...   \n",
       "34294                              0                                  0   \n",
       "34295                              0                                  0   \n",
       "34296                              0                                  0   \n",
       "34297                              0                                  0   \n",
       "34298                              0                                  0   \n",
       "\n",
       "       NAME_100 BLACK MEN OF WEST GEORGIA INC  NAME_1150 WEBSTER STREET INC  \\\n",
       "0                                           0                             0   \n",
       "1                                           0                             0   \n",
       "2                                           0                             0   \n",
       "3                                           0                             0   \n",
       "4                                           0                             0   \n",
       "...                                       ...                           ...   \n",
       "34294                                       0                             0   \n",
       "34295                                       0                             0   \n",
       "34296                                       0                             0   \n",
       "34297                                       0                             0   \n",
       "34298                                       0                             0   \n",
       "\n",
       "       NAME_116TH CAVALRY REGIMENT CHAPTER OF THE US CAVALRY & ARMOR ASSOCIATION  \\\n",
       "0                                                      0                           \n",
       "1                                                      0                           \n",
       "2                                                      0                           \n",
       "3                                                      0                           \n",
       "4                                                      0                           \n",
       "...                                                  ...                           \n",
       "34294                                                  0                           \n",
       "34295                                                  0                           \n",
       "34296                                                  0                           \n",
       "34297                                                  0                           \n",
       "34298                                                  0                           \n",
       "\n",
       "       NAME_13TH BOMB SQUADRON ASSOCIATION  NAME_146TH ALUMNI ASSOCIATION  \\\n",
       "0                                        0                              0   \n",
       "1                                        0                              0   \n",
       "2                                        0                              0   \n",
       "3                                        0                              0   \n",
       "4                                        0                              0   \n",
       "...                                    ...                            ...   \n",
       "34294                                    0                              0   \n",
       "34295                                    0                              0   \n",
       "34296                                    0                              0   \n",
       "34297                                    0                              0   \n",
       "34298                                    0                              0   \n",
       "\n",
       "       NAME_14TH ARMORED DIVISION  ...  INCOME_AMT_1M-5M  \\\n",
       "0                               0  ...                 0   \n",
       "1                               0  ...                 0   \n",
       "2                               0  ...                 0   \n",
       "3                               0  ...                 0   \n",
       "4                               0  ...                 0   \n",
       "...                           ...  ...               ...   \n",
       "34294                           0  ...                 0   \n",
       "34295                           0  ...                 0   \n",
       "34296                           0  ...                 0   \n",
       "34297                           0  ...                 0   \n",
       "34298                           0  ...                 1   \n",
       "\n",
       "       INCOME_AMT_25000-99999  INCOME_AMT_5M+  bins_10-100k  bins_100-500k  \\\n",
       "0                           0               0             0              0   \n",
       "1                           0               0             0              1   \n",
       "2                           0               0             0              0   \n",
       "3                           0               0             0              0   \n",
       "4                           0               0             0              1   \n",
       "...                       ...             ...           ...            ...   \n",
       "34294                       0               0             0              0   \n",
       "34295                       0               0             0              0   \n",
       "34296                       0               0             0              0   \n",
       "34297                       0               0             0              0   \n",
       "34298                       0               0             0              0   \n",
       "\n",
       "       bins_1M+  bins_5-10k  bins_5000  bins_500k-1M  bins_Unknown  \n",
       "0             0           0          1             0             0  \n",
       "1             0           0          0             0             0  \n",
       "2             0           0          1             0             0  \n",
       "3             0           1          0             0             0  \n",
       "4             0           0          0             0             0  \n",
       "...         ...         ...        ...           ...           ...  \n",
       "34294         0           0          1             0             0  \n",
       "34295         0           0          1             0             0  \n",
       "34296         0           0          1             0             0  \n",
       "34297         0           0          1             0             0  \n",
       "34298         1           0          0             0             0  \n",
       "\n",
       "[34299 rows x 19612 columns]"
      ]
     },
     "execution_count": 12,
     "metadata": {},
     "output_type": "execute_result"
    }
   ],
   "source": [
    "# Split our preprocessed data into our features and target arrays\n",
    "X = X_dummies.drop(columns=[\"IS_SUCCESSFUL\"])\n",
    "y = X_dummies[\"IS_SUCCESSFUL\"]\n",
    "X"
   ]
  },
  {
   "cell_type": "code",
   "execution_count": 13,
   "metadata": {},
   "outputs": [],
   "source": [
    "X_train, X_test, y_train, y_test = train_test_split(X, y, random_state=78)\n",
    "\n",
    "# Create a StandardScaler instances\n",
    "scaler = StandardScaler()\n",
    "\n",
    "# Fit the StandardScaler\n",
    "X_scaler = scaler.fit(X_train)\n",
    "\n",
    "# Scale the data\n",
    "X_train_scaled = X_scaler.transform(X_train)\n",
    "X_test_scaled = X_scaler.transform(X_test)"
   ]
  },
  {
   "cell_type": "code",
   "execution_count": 14,
   "metadata": {},
   "outputs": [],
   "source": [
    "number_input_features = len(X_train_scaled[0])"
   ]
  },
  {
   "cell_type": "markdown",
   "metadata": {},
   "source": [
    "### Adjust model parameters\n",
    "* Add more neurons to a hidden layer.\n",
    "* Add more hidden layers.\n",
    "* Use different activation functions for the hidden layers.\n",
    "* Add or reduce the number of epochs to the training regimen."
   ]
  },
  {
   "cell_type": "code",
   "execution_count": 15,
   "metadata": {},
   "outputs": [],
   "source": [
    "# Create a method that creates a new Sequential model with hyperparameter options\n",
    "def create_model(hp):\n",
    "    nn_model = tf.keras.models.Sequential()\n",
    "\n",
    "    # Allow kerastuner to decide which activation function to use in hidden layers\n",
    "    activation = hp.Choice('activation',['relu','tanh'])\n",
    "    \n",
    "    # Allow kerastuner to decide number of neurons in first layer\n",
    "    nn_model.add(tf.keras.layers.Dense(units=hp.Int('first_units',\n",
    "        min_value=50,\n",
    "        max_value=100,\n",
    "        step=5), activation=activation, input_dim=number_input_features))\n",
    "\n",
    "    # Allow kerastuner to decide number of hidden layers and neurons in hidden layers\n",
    "    for i in range(hp.Int('num_layers', 1, 5)):\n",
    "        nn_model.add(tf.keras.layers.Dense(units=hp.Int('units_' + str(i),\n",
    "            min_value=10,\n",
    "            max_value=50,\n",
    "            step=5),\n",
    "            activation=activation))\n",
    "    \n",
    "    nn_model.add(tf.keras.layers.Dense(units=1, activation=\"sigmoid\"))\n",
    "\n",
    "    # Compile the model\n",
    "    nn_model.compile(loss=\"binary_crossentropy\", optimizer='adam', metrics=[\"accuracy\"])\n",
    "    \n",
    "    return nn_model"
   ]
  },
  {
   "cell_type": "code",
   "execution_count": 17,
   "metadata": {},
   "outputs": [],
   "source": [
    "# Import the kerastuner library\n",
    "import kerastuner as kt\n",
    "\n",
    "tuner = kt.Hyperband(\n",
    "    create_model,\n",
    "    objective=\"val_accuracy\",\n",
    "    max_epochs=5,\n",
    "    hyperband_iterations=2,\n",
    "    directory='a3'\n",
    ")"
   ]
  },
  {
   "cell_type": "code",
   "execution_count": 18,
   "metadata": {},
   "outputs": [
    {
     "data": {
      "text/html": [
       "<span style=\"color:#4527A0\"><h1 style=\"font-size:18px\">Starting new trial</h1></span>"
      ],
      "text/plain": [
       "<IPython.core.display.HTML object>"
      ]
     },
     "metadata": {},
     "output_type": "display_data"
    },
    {
     "name": "stdout",
     "output_type": "stream",
     "text": [
      "Epoch 1/2\n",
      "804/804 [==============================] - ETA: 8:14 - loss: 0.9607 - accuracy: 0.50 - ETA: 3s - loss: 1.0408 - accuracy: 0.3170 - ETA: 3s - loss: 1.1075 - accuracy: 0.31 - ETA: 3s - loss: 1.1795 - accuracy: 0.31 - ETA: 3s - loss: 1.1296 - accuracy: 0.32 - ETA: 3s - loss: 1.0793 - accuracy: 0.33 - ETA: 3s - loss: 1.0207 - accuracy: 0.36 - ETA: 3s - loss: 0.9588 - accuracy: 0.39 - ETA: 3s - loss: 0.9179 - accuracy: 0.41 - ETA: 2s - loss: 0.8832 - accuracy: 0.42 - ETA: 2s - loss: 0.8602 - accuracy: 0.43 - ETA: 2s - loss: 0.8370 - accuracy: 0.43 - ETA: 2s - loss: 0.8168 - accuracy: 0.46 - ETA: 2s - loss: 0.8019 - accuracy: 0.48 - ETA: 2s - loss: 0.7918 - accuracy: 0.50 - ETA: 2s - loss: 0.7797 - accuracy: 0.52 - ETA: 2s - loss: 0.7692 - accuracy: 0.53 - ETA: 2s - loss: 0.7582 - accuracy: 0.55 - ETA: 2s - loss: 0.7463 - accuracy: 0.56 - ETA: 2s - loss: 0.7400 - accuracy: 0.57 - ETA: 2s - loss: 0.7343 - accuracy: 0.58 - ETA: 2s - loss: 0.7290 - accuracy: 0.59 - ETA: 1s - loss: 0.7236 - accuracy: 0.60 - ETA: 1s - loss: 0.7156 - accuracy: 0.61 - ETA: 1s - loss: 0.7081 - accuracy: 0.61 - ETA: 1s - loss: 0.7007 - accuracy: 0.62 - ETA: 1s - loss: 0.6922 - accuracy: 0.62 - ETA: 1s - loss: 0.6851 - accuracy: 0.63 - ETA: 1s - loss: 0.6758 - accuracy: 0.63 - ETA: 1s - loss: 0.6681 - accuracy: 0.64 - ETA: 1s - loss: 0.6625 - accuracy: 0.64 - ETA: 1s - loss: 0.6558 - accuracy: 0.65 - ETA: 1s - loss: 0.6503 - accuracy: 0.65 - ETA: 1s - loss: 0.6439 - accuracy: 0.65 - ETA: 1s - loss: 0.6379 - accuracy: 0.66 - ETA: 1s - loss: 0.6310 - accuracy: 0.66 - ETA: 1s - loss: 0.6267 - accuracy: 0.67 - ETA: 1s - loss: 0.6214 - accuracy: 0.67 - ETA: 1s - loss: 0.6179 - accuracy: 0.67 - ETA: 1s - loss: 0.6128 - accuracy: 0.68 - ETA: 0s - loss: 0.6098 - accuracy: 0.68 - ETA: 0s - loss: 0.6052 - accuracy: 0.68 - ETA: 0s - loss: 0.6023 - accuracy: 0.68 - ETA: 0s - loss: 0.5991 - accuracy: 0.69 - ETA: 0s - loss: 0.5962 - accuracy: 0.69 - ETA: 0s - loss: 0.5937 - accuracy: 0.69 - ETA: 0s - loss: 0.5893 - accuracy: 0.69 - ETA: 0s - loss: 0.5859 - accuracy: 0.69 - ETA: 0s - loss: 0.5832 - accuracy: 0.70 - ETA: 0s - loss: 0.5794 - accuracy: 0.70 - ETA: 0s - loss: 0.5768 - accuracy: 0.70 - ETA: 0s - loss: 0.5740 - accuracy: 0.70 - ETA: 0s - loss: 0.5709 - accuracy: 0.71 - ETA: 0s - loss: 0.5685 - accuracy: 0.71 - ETA: 0s - loss: 0.5666 - accuracy: 0.71 - ETA: 0s - loss: 0.5651 - accuracy: 0.71 - ETA: 0s - loss: 0.5620 - accuracy: 0.71 - ETA: 0s - loss: 0.5601 - accuracy: 0.71 - ETA: 0s - loss: 0.5586 - accuracy: 0.71 - 11s 14ms/step - loss: 0.5574 - accuracy: 0.7187 - val_loss: 0.6676 - val_accuracy: 0.5757\n",
      "Epoch 2/2\n",
      "804/804 [==============================] - ETA: 5s - loss: 0.3839 - accuracy: 0.81 - ETA: 3s - loss: 0.2315 - accuracy: 0.90 - ETA: 3s - loss: 0.2068 - accuracy: 0.91 - ETA: 3s - loss: 0.1941 - accuracy: 0.92 - ETA: 3s - loss: 0.1906 - accuracy: 0.92 - ETA: 3s - loss: 0.1812 - accuracy: 0.92 - ETA: 3s - loss: 0.1720 - accuracy: 0.93 - ETA: 3s - loss: 0.1701 - accuracy: 0.93 - ETA: 3s - loss: 0.1651 - accuracy: 0.93 - ETA: 3s - loss: 0.1611 - accuracy: 0.93 - ETA: 3s - loss: 0.1568 - accuracy: 0.94 - ETA: 3s - loss: 0.1598 - accuracy: 0.94 - ETA: 3s - loss: 0.1590 - accuracy: 0.93 - ETA: 3s - loss: 0.1574 - accuracy: 0.93 - ETA: 3s - loss: 0.1530 - accuracy: 0.94 - ETA: 3s - loss: 0.1499 - accuracy: 0.94 - ETA: 3s - loss: 0.1499 - accuracy: 0.94 - ETA: 3s - loss: 0.1484 - accuracy: 0.94 - ETA: 3s - loss: 0.1492 - accuracy: 0.94 - ETA: 3s - loss: 0.1496 - accuracy: 0.94 - ETA: 3s - loss: 0.1472 - accuracy: 0.94 - ETA: 3s - loss: 0.1469 - accuracy: 0.94 - ETA: 3s - loss: 0.1432 - accuracy: 0.94 - ETA: 3s - loss: 0.1412 - accuracy: 0.94 - ETA: 2s - loss: 0.1429 - accuracy: 0.94 - ETA: 2s - loss: 0.1415 - accuracy: 0.94 - ETA: 2s - loss: 0.1407 - accuracy: 0.94 - ETA: 2s - loss: 0.1417 - accuracy: 0.94 - ETA: 2s - loss: 0.1420 - accuracy: 0.94 - ETA: 2s - loss: 0.1422 - accuracy: 0.94 - ETA: 2s - loss: 0.1411 - accuracy: 0.94 - ETA: 2s - loss: 0.1402 - accuracy: 0.94 - ETA: 2s - loss: 0.1398 - accuracy: 0.94 - ETA: 2s - loss: 0.1382 - accuracy: 0.94 - ETA: 2s - loss: 0.1381 - accuracy: 0.94 - ETA: 2s - loss: 0.1382 - accuracy: 0.94 - ETA: 2s - loss: 0.1370 - accuracy: 0.94 - ETA: 2s - loss: 0.1372 - accuracy: 0.94 - ETA: 2s - loss: 0.1369 - accuracy: 0.94 - ETA: 2s - loss: 0.1362 - accuracy: 0.94 - ETA: 2s - loss: 0.1363 - accuracy: 0.94 - ETA: 2s - loss: 0.1356 - accuracy: 0.94 - ETA: 2s - loss: 0.1360 - accuracy: 0.94 - ETA: 2s - loss: 0.1354 - accuracy: 0.94 - ETA: 2s - loss: 0.1357 - accuracy: 0.94 - ETA: 2s - loss: 0.1346 - accuracy: 0.94 - ETA: 2s - loss: 0.1345 - accuracy: 0.94 - ETA: 2s - loss: 0.1342 - accuracy: 0.94 - ETA: 1s - loss: 0.1339 - accuracy: 0.94 - ETA: 1s - loss: 0.1345 - accuracy: 0.94 - ETA: 1s - loss: 0.1338 - accuracy: 0.94 - ETA: 1s - loss: 0.1339 - accuracy: 0.94 - ETA: 1s - loss: 0.1338 - accuracy: 0.94 - ETA: 1s - loss: 0.1336 - accuracy: 0.94 - ETA: 1s - loss: 0.1329 - accuracy: 0.94 - ETA: 1s - loss: 0.1320 - accuracy: 0.94 - ETA: 1s - loss: 0.1330 - accuracy: 0.94 - ETA: 1s - loss: 0.1331 - accuracy: 0.94 - ETA: 1s - loss: 0.1331 - accuracy: 0.94 - ETA: 1s - loss: 0.1332 - accuracy: 0.94 - ETA: 1s - loss: 0.1329 - accuracy: 0.94 - ETA: 1s - loss: 0.1330 - accuracy: 0.94 - ETA: 1s - loss: 0.1330 - accuracy: 0.94 - ETA: 1s - loss: 0.1332 - accuracy: 0.94 - ETA: 1s - loss: 0.1332 - accuracy: 0.94 - ETA: 1s - loss: 0.1331 - accuracy: 0.94 - ETA: 1s - loss: 0.1330 - accuracy: 0.94 - ETA: 1s - loss: 0.1332 - accuracy: 0.94 - ETA: 0s - loss: 0.1332 - accuracy: 0.94 - ETA: 0s - loss: 0.1330 - accuracy: 0.94 - ETA: 0s - loss: 0.1320 - accuracy: 0.94 - ETA: 0s - loss: 0.1321 - accuracy: 0.94 - ETA: 0s - loss: 0.1322 - accuracy: 0.94 - ETA: 0s - loss: 0.1328 - accuracy: 0.94 - ETA: 0s - loss: 0.1327 - accuracy: 0.94 - ETA: 0s - loss: 0.1328 - accuracy: 0.94 - ETA: 0s - loss: 0.1330 - accuracy: 0.94 - ETA: 0s - loss: 0.1332 - accuracy: 0.94 - ETA: 0s - loss: 0.1338 - accuracy: 0.94 - ETA: 0s - loss: 0.1335 - accuracy: 0.94 - ETA: 0s - loss: 0.1340 - accuracy: 0.94 - ETA: 0s - loss: 0.1339 - accuracy: 0.94 - ETA: 0s - loss: 0.1338 - accuracy: 0.94 - ETA: 0s - loss: 0.1340 - accuracy: 0.94 - ETA: 0s - loss: 0.1342 - accuracy: 0.94 - ETA: 0s - loss: 0.1339 - accuracy: 0.94 - ETA: 0s - loss: 0.1343 - accuracy: 0.94 - ETA: 0s - loss: 0.1343 - accuracy: 0.94 - ETA: 0s - loss: 0.1342 - accuracy: 0.94 - ETA: 0s - loss: 0.1342 - accuracy: 0.94 - ETA: 0s - loss: 0.1343 - accuracy: 0.94 - ETA: 0s - loss: 0.1345 - accuracy: 0.94 - ETA: 0s - loss: 0.1342 - accuracy: 0.94 - 6s 7ms/step - loss: 0.1342 - accuracy: 0.9485 - val_loss: 0.4648 - val_accuracy: 0.7901\n"
     ]
    },
    {
     "data": {
      "text/html": [
       "<span style=\"color:#4527A0\"><h1 style=\"font-size:18px\">Trial complete</h1></span>"
      ],
      "text/plain": [
       "<IPython.core.display.HTML object>"
      ]
     },
     "metadata": {},
     "output_type": "display_data"
    },
    {
     "data": {
      "text/html": [
       "<span style=\"color:#4527A0\"><h1 style=\"font-size:18px\">Trial summary</h1></span>"
      ],
      "text/plain": [
       "<IPython.core.display.HTML object>"
      ]
     },
     "metadata": {},
     "output_type": "display_data"
    },
    {
     "data": {
      "text/html": [
       "<span style=\"color:cyan\"> |-Trial ID: 5b82170fd061045849c81cec8fb37c92</span>"
      ],
      "text/plain": [
       "<IPython.core.display.HTML object>"
      ]
     },
     "metadata": {},
     "output_type": "display_data"
    },
    {
     "data": {
      "text/html": [
       "<span style=\"color:cyan\"> |-Score: 0.7900874614715576</span>"
      ],
      "text/plain": [
       "<IPython.core.display.HTML object>"
      ]
     },
     "metadata": {},
     "output_type": "display_data"
    },
    {
     "data": {
      "text/html": [
       "<span style=\"color:cyan\"> |-Best step: 0</span>"
      ],
      "text/plain": [
       "<IPython.core.display.HTML object>"
      ]
     },
     "metadata": {},
     "output_type": "display_data"
    },
    {
     "data": {
      "text/html": [
       "<span style=\"color:#7E57C2\"><h2 style=\"font-size:16px\">Hyperparameters:</h2></span>"
      ],
      "text/plain": [
       "<IPython.core.display.HTML object>"
      ]
     },
     "metadata": {},
     "output_type": "display_data"
    },
    {
     "data": {
      "text/html": [
       "<span style=\"color:cyan\"> |-activation: relu</span>"
      ],
      "text/plain": [
       "<IPython.core.display.HTML object>"
      ]
     },
     "metadata": {},
     "output_type": "display_data"
    },
    {
     "data": {
      "text/html": [
       "<span style=\"color:blue\"> |-first_units: 70</span>"
      ],
      "text/plain": [
       "<IPython.core.display.HTML object>"
      ]
     },
     "metadata": {},
     "output_type": "display_data"
    },
    {
     "data": {
      "text/html": [
       "<span style=\"color:cyan\"> |-num_layers: 1</span>"
      ],
      "text/plain": [
       "<IPython.core.display.HTML object>"
      ]
     },
     "metadata": {},
     "output_type": "display_data"
    },
    {
     "data": {
      "text/html": [
       "<span style=\"color:blue\"> |-tuner/bracket: 1</span>"
      ],
      "text/plain": [
       "<IPython.core.display.HTML object>"
      ]
     },
     "metadata": {},
     "output_type": "display_data"
    },
    {
     "data": {
      "text/html": [
       "<span style=\"color:cyan\"> |-tuner/epochs: 2</span>"
      ],
      "text/plain": [
       "<IPython.core.display.HTML object>"
      ]
     },
     "metadata": {},
     "output_type": "display_data"
    },
    {
     "data": {
      "text/html": [
       "<span style=\"color:blue\"> |-tuner/initial_epoch: 0</span>"
      ],
      "text/plain": [
       "<IPython.core.display.HTML object>"
      ]
     },
     "metadata": {},
     "output_type": "display_data"
    },
    {
     "data": {
      "text/html": [
       "<span style=\"color:cyan\"> |-tuner/round: 0</span>"
      ],
      "text/plain": [
       "<IPython.core.display.HTML object>"
      ]
     },
     "metadata": {},
     "output_type": "display_data"
    },
    {
     "data": {
      "text/html": [
       "<span style=\"color:blue\"> |-units_0: 15</span>"
      ],
      "text/plain": [
       "<IPython.core.display.HTML object>"
      ]
     },
     "metadata": {},
     "output_type": "display_data"
    },
    {
     "data": {
      "text/html": [
       "<span style=\"color:#4527A0\"><h1 style=\"font-size:18px\">Starting new trial</h1></span>"
      ],
      "text/plain": [
       "<IPython.core.display.HTML object>"
      ]
     },
     "metadata": {},
     "output_type": "display_data"
    },
    {
     "name": "stdout",
     "output_type": "stream",
     "text": [
      "Epoch 1/2\n",
      "804/804 [==============================] - ETA: 5:11 - loss: 0.8194 - accuracy: 0.43 - ETA: 2s - loss: 0.6855 - accuracy: 0.5875 - ETA: 3s - loss: 0.6766 - accuracy: 0.60 - ETA: 2s - loss: 0.6598 - accuracy: 0.63 - ETA: 2s - loss: 0.6323 - accuracy: 0.65 - ETA: 2s - loss: 0.6175 - accuracy: 0.67 - ETA: 2s - loss: 0.6004 - accuracy: 0.68 - ETA: 2s - loss: 0.5912 - accuracy: 0.69 - ETA: 2s - loss: 0.5776 - accuracy: 0.70 - ETA: 2s - loss: 0.5721 - accuracy: 0.70 - ETA: 2s - loss: 0.5679 - accuracy: 0.71 - ETA: 2s - loss: 0.5630 - accuracy: 0.71 - ETA: 2s - loss: 0.5550 - accuracy: 0.72 - ETA: 2s - loss: 0.5527 - accuracy: 0.72 - ETA: 2s - loss: 0.5454 - accuracy: 0.72 - ETA: 2s - loss: 0.5423 - accuracy: 0.73 - ETA: 2s - loss: 0.5390 - accuracy: 0.73 - ETA: 2s - loss: 0.5355 - accuracy: 0.73 - ETA: 2s - loss: 0.5326 - accuracy: 0.73 - ETA: 2s - loss: 0.5312 - accuracy: 0.73 - ETA: 1s - loss: 0.5270 - accuracy: 0.73 - ETA: 1s - loss: 0.5234 - accuracy: 0.74 - ETA: 1s - loss: 0.5196 - accuracy: 0.74 - ETA: 1s - loss: 0.5166 - accuracy: 0.74 - ETA: 1s - loss: 0.5139 - accuracy: 0.74 - ETA: 1s - loss: 0.5121 - accuracy: 0.74 - ETA: 1s - loss: 0.5109 - accuracy: 0.74 - ETA: 1s - loss: 0.5088 - accuracy: 0.74 - ETA: 1s - loss: 0.5090 - accuracy: 0.75 - ETA: 1s - loss: 0.5081 - accuracy: 0.75 - ETA: 1s - loss: 0.5063 - accuracy: 0.75 - ETA: 1s - loss: 0.5043 - accuracy: 0.75 - ETA: 1s - loss: 0.5031 - accuracy: 0.75 - ETA: 1s - loss: 0.5015 - accuracy: 0.75 - ETA: 1s - loss: 0.5011 - accuracy: 0.75 - ETA: 1s - loss: 0.5009 - accuracy: 0.75 - ETA: 1s - loss: 0.5001 - accuracy: 0.75 - ETA: 1s - loss: 0.4980 - accuracy: 0.75 - ETA: 1s - loss: 0.4976 - accuracy: 0.75 - ETA: 1s - loss: 0.4963 - accuracy: 0.75 - ETA: 1s - loss: 0.4951 - accuracy: 0.75 - ETA: 1s - loss: 0.4939 - accuracy: 0.76 - ETA: 1s - loss: 0.4931 - accuracy: 0.76 - ETA: 1s - loss: 0.4918 - accuracy: 0.76 - ETA: 1s - loss: 0.4910 - accuracy: 0.76 - ETA: 1s - loss: 0.4899 - accuracy: 0.76 - ETA: 0s - loss: 0.4890 - accuracy: 0.76 - ETA: 0s - loss: 0.4882 - accuracy: 0.76 - ETA: 0s - loss: 0.4876 - accuracy: 0.76 - ETA: 0s - loss: 0.4874 - accuracy: 0.76 - ETA: 0s - loss: 0.4874 - accuracy: 0.76 - ETA: 0s - loss: 0.4866 - accuracy: 0.76 - ETA: 0s - loss: 0.4857 - accuracy: 0.76 - ETA: 0s - loss: 0.4854 - accuracy: 0.76 - ETA: 0s - loss: 0.4846 - accuracy: 0.76 - ETA: 0s - loss: 0.4844 - accuracy: 0.76 - ETA: 0s - loss: 0.4846 - accuracy: 0.76 - ETA: 0s - loss: 0.4842 - accuracy: 0.76 - ETA: 0s - loss: 0.4844 - accuracy: 0.76 - ETA: 0s - loss: 0.4845 - accuracy: 0.76 - ETA: 0s - loss: 0.4843 - accuracy: 0.76 - ETA: 0s - loss: 0.4841 - accuracy: 0.76 - ETA: 0s - loss: 0.4839 - accuracy: 0.76 - ETA: 0s - loss: 0.4839 - accuracy: 0.76 - ETA: 0s - loss: 0.4836 - accuracy: 0.76 - ETA: 0s - loss: 0.4832 - accuracy: 0.76 - ETA: 0s - loss: 0.4828 - accuracy: 0.76 - ETA: 0s - loss: 0.4823 - accuracy: 0.76 - ETA: 0s - loss: 0.4817 - accuracy: 0.76 - ETA: 0s - loss: 0.4812 - accuracy: 0.76 - ETA: 0s - loss: 0.4805 - accuracy: 0.76 - ETA: 0s - loss: 0.4802 - accuracy: 0.76 - ETA: 0s - loss: 0.4799 - accuracy: 0.76 - ETA: 0s - loss: 0.4797 - accuracy: 0.76 - ETA: 0s - loss: 0.4791 - accuracy: 0.76 - ETA: 0s - loss: 0.4789 - accuracy: 0.76 - ETA: 0s - loss: 0.4778 - accuracy: 0.77 - ETA: 0s - loss: 0.4777 - accuracy: 0.76 - ETA: 0s - loss: 0.4770 - accuracy: 0.77 - ETA: 0s - loss: 0.4767 - accuracy: 0.77 - ETA: 0s - loss: 0.4763 - accuracy: 0.77 - ETA: 0s - loss: 0.4762 - accuracy: 0.77 - ETA: 0s - loss: 0.4759 - accuracy: 0.77 - 10s 12ms/step - loss: 0.4756 - accuracy: 0.7707 - val_loss: 0.4759 - val_accuracy: 0.7534\n",
      "Epoch 2/2\n"
     ]
    },
    {
     "name": "stdout",
     "output_type": "stream",
     "text": [
      "804/804 [==============================] - ETA: 6s - loss: 0.1492 - accuracy: 0.93 - ETA: 4s - loss: 0.3036 - accuracy: 0.84 - ETA: 4s - loss: 0.2529 - accuracy: 0.88 - ETA: 4s - loss: 0.2275 - accuracy: 0.90 - ETA: 4s - loss: 0.2116 - accuracy: 0.91 - ETA: 4s - loss: 0.1988 - accuracy: 0.92 - ETA: 4s - loss: 0.1951 - accuracy: 0.92 - ETA: 3s - loss: 0.1921 - accuracy: 0.92 - ETA: 3s - loss: 0.1824 - accuracy: 0.93 - ETA: 3s - loss: 0.1810 - accuracy: 0.93 - ETA: 3s - loss: 0.1775 - accuracy: 0.93 - ETA: 3s - loss: 0.1746 - accuracy: 0.93 - ETA: 3s - loss: 0.1744 - accuracy: 0.93 - ETA: 3s - loss: 0.1665 - accuracy: 0.93 - ETA: 3s - loss: 0.1648 - accuracy: 0.93 - ETA: 3s - loss: 0.1659 - accuracy: 0.93 - ETA: 3s - loss: 0.1647 - accuracy: 0.93 - ETA: 3s - loss: 0.1655 - accuracy: 0.93 - ETA: 3s - loss: 0.1648 - accuracy: 0.93 - ETA: 3s - loss: 0.1670 - accuracy: 0.93 - ETA: 3s - loss: 0.1666 - accuracy: 0.93 - ETA: 3s - loss: 0.1662 - accuracy: 0.93 - ETA: 3s - loss: 0.1652 - accuracy: 0.93 - ETA: 3s - loss: 0.1645 - accuracy: 0.93 - ETA: 3s - loss: 0.1641 - accuracy: 0.93 - ETA: 3s - loss: 0.1627 - accuracy: 0.93 - ETA: 3s - loss: 0.1633 - accuracy: 0.93 - ETA: 3s - loss: 0.1619 - accuracy: 0.93 - ETA: 3s - loss: 0.1612 - accuracy: 0.93 - ETA: 3s - loss: 0.1618 - accuracy: 0.93 - ETA: 3s - loss: 0.1614 - accuracy: 0.93 - ETA: 3s - loss: 0.1603 - accuracy: 0.93 - ETA: 3s - loss: 0.1602 - accuracy: 0.94 - ETA: 3s - loss: 0.1608 - accuracy: 0.93 - ETA: 3s - loss: 0.1594 - accuracy: 0.94 - ETA: 3s - loss: 0.1593 - accuracy: 0.94 - ETA: 3s - loss: 0.1587 - accuracy: 0.94 - ETA: 3s - loss: 0.1582 - accuracy: 0.94 - ETA: 3s - loss: 0.1575 - accuracy: 0.94 - ETA: 3s - loss: 0.1572 - accuracy: 0.94 - ETA: 3s - loss: 0.1563 - accuracy: 0.94 - ETA: 3s - loss: 0.1558 - accuracy: 0.94 - ETA: 3s - loss: 0.1548 - accuracy: 0.94 - ETA: 3s - loss: 0.1548 - accuracy: 0.94 - ETA: 3s - loss: 0.1549 - accuracy: 0.94 - ETA: 2s - loss: 0.1544 - accuracy: 0.94 - ETA: 2s - loss: 0.1541 - accuracy: 0.94 - ETA: 2s - loss: 0.1537 - accuracy: 0.94 - ETA: 2s - loss: 0.1536 - accuracy: 0.94 - ETA: 2s - loss: 0.1533 - accuracy: 0.94 - ETA: 2s - loss: 0.1537 - accuracy: 0.94 - ETA: 2s - loss: 0.1532 - accuracy: 0.94 - ETA: 2s - loss: 0.1526 - accuracy: 0.94 - ETA: 2s - loss: 0.1521 - accuracy: 0.94 - ETA: 2s - loss: 0.1520 - accuracy: 0.94 - ETA: 2s - loss: 0.1518 - accuracy: 0.94 - ETA: 2s - loss: 0.1510 - accuracy: 0.94 - ETA: 2s - loss: 0.1507 - accuracy: 0.94 - ETA: 2s - loss: 0.1504 - accuracy: 0.94 - ETA: 2s - loss: 0.1499 - accuracy: 0.94 - ETA: 2s - loss: 0.1502 - accuracy: 0.94 - ETA: 2s - loss: 0.1502 - accuracy: 0.94 - ETA: 2s - loss: 0.1504 - accuracy: 0.94 - ETA: 2s - loss: 0.1503 - accuracy: 0.94 - ETA: 2s - loss: 0.1499 - accuracy: 0.94 - ETA: 2s - loss: 0.1496 - accuracy: 0.94 - ETA: 2s - loss: 0.1498 - accuracy: 0.94 - ETA: 2s - loss: 0.1506 - accuracy: 0.94 - ETA: 2s - loss: 0.1514 - accuracy: 0.94 - ETA: 2s - loss: 0.1518 - accuracy: 0.94 - ETA: 2s - loss: 0.1516 - accuracy: 0.94 - ETA: 2s - loss: 0.1514 - accuracy: 0.94 - ETA: 2s - loss: 0.1509 - accuracy: 0.94 - ETA: 2s - loss: 0.1510 - accuracy: 0.94 - ETA: 2s - loss: 0.1506 - accuracy: 0.94 - ETA: 1s - loss: 0.1507 - accuracy: 0.94 - ETA: 1s - loss: 0.1509 - accuracy: 0.94 - ETA: 1s - loss: 0.1504 - accuracy: 0.94 - ETA: 1s - loss: 0.1502 - accuracy: 0.94 - ETA: 1s - loss: 0.1504 - accuracy: 0.94 - ETA: 1s - loss: 0.1507 - accuracy: 0.94 - ETA: 1s - loss: 0.1510 - accuracy: 0.94 - ETA: 1s - loss: 0.1509 - accuracy: 0.94 - ETA: 1s - loss: 0.1510 - accuracy: 0.94 - ETA: 1s - loss: 0.1508 - accuracy: 0.94 - ETA: 1s - loss: 0.1505 - accuracy: 0.94 - ETA: 1s - loss: 0.1506 - accuracy: 0.94 - ETA: 1s - loss: 0.1506 - accuracy: 0.94 - ETA: 1s - loss: 0.1505 - accuracy: 0.94 - ETA: 1s - loss: 0.1510 - accuracy: 0.94 - ETA: 1s - loss: 0.1508 - accuracy: 0.94 - ETA: 1s - loss: 0.1509 - accuracy: 0.94 - ETA: 1s - loss: 0.1505 - accuracy: 0.94 - ETA: 1s - loss: 0.1503 - accuracy: 0.94 - ETA: 1s - loss: 0.1499 - accuracy: 0.94 - ETA: 1s - loss: 0.1497 - accuracy: 0.94 - ETA: 1s - loss: 0.1492 - accuracy: 0.94 - ETA: 1s - loss: 0.1492 - accuracy: 0.94 - ETA: 1s - loss: 0.1489 - accuracy: 0.94 - ETA: 1s - loss: 0.1484 - accuracy: 0.94 - ETA: 1s - loss: 0.1482 - accuracy: 0.94 - ETA: 1s - loss: 0.1489 - accuracy: 0.94 - ETA: 1s - loss: 0.1485 - accuracy: 0.94 - ETA: 1s - loss: 0.1488 - accuracy: 0.94 - ETA: 1s - loss: 0.1487 - accuracy: 0.94 - ETA: 1s - loss: 0.1487 - accuracy: 0.94 - ETA: 1s - loss: 0.1490 - accuracy: 0.94 - ETA: 0s - loss: 0.1489 - accuracy: 0.94 - ETA: 0s - loss: 0.1488 - accuracy: 0.94 - ETA: 0s - loss: 0.1485 - accuracy: 0.94 - ETA: 0s - loss: 0.1483 - accuracy: 0.94 - ETA: 0s - loss: 0.1485 - accuracy: 0.94 - ETA: 0s - loss: 0.1486 - accuracy: 0.94 - ETA: 0s - loss: 0.1484 - accuracy: 0.94 - ETA: 0s - loss: 0.1480 - accuracy: 0.94 - ETA: 0s - loss: 0.1479 - accuracy: 0.94 - ETA: 0s - loss: 0.1476 - accuracy: 0.94 - ETA: 0s - loss: 0.1478 - accuracy: 0.94 - ETA: 0s - loss: 0.1475 - accuracy: 0.94 - ETA: 0s - loss: 0.1476 - accuracy: 0.94 - ETA: 0s - loss: 0.1478 - accuracy: 0.94 - ETA: 0s - loss: 0.1473 - accuracy: 0.94 - ETA: 0s - loss: 0.1473 - accuracy: 0.94 - ETA: 0s - loss: 0.1471 - accuracy: 0.94 - ETA: 0s - loss: 0.1468 - accuracy: 0.94 - ETA: 0s - loss: 0.1468 - accuracy: 0.94 - ETA: 0s - loss: 0.1467 - accuracy: 0.94 - 9s 12ms/step - loss: 0.1465 - accuracy: 0.9440 - val_loss: 0.7036 - val_accuracy: 0.6054\n"
     ]
    },
    {
     "data": {
      "text/html": [
       "<span style=\"color:#4527A0\"><h1 style=\"font-size:18px\">Trial complete</h1></span>"
      ],
      "text/plain": [
       "<IPython.core.display.HTML object>"
      ]
     },
     "metadata": {},
     "output_type": "display_data"
    },
    {
     "data": {
      "text/html": [
       "<span style=\"color:#4527A0\"><h1 style=\"font-size:18px\">Trial summary</h1></span>"
      ],
      "text/plain": [
       "<IPython.core.display.HTML object>"
      ]
     },
     "metadata": {},
     "output_type": "display_data"
    },
    {
     "data": {
      "text/html": [
       "<span style=\"color:cyan\"> |-Trial ID: 730c0942af7fad2ee395f0d2f49c8892</span>"
      ],
      "text/plain": [
       "<IPython.core.display.HTML object>"
      ]
     },
     "metadata": {},
     "output_type": "display_data"
    },
    {
     "data": {
      "text/html": [
       "<span style=\"color:cyan\"> |-Score: 0.7533527612686157</span>"
      ],
      "text/plain": [
       "<IPython.core.display.HTML object>"
      ]
     },
     "metadata": {},
     "output_type": "display_data"
    },
    {
     "data": {
      "text/html": [
       "<span style=\"color:cyan\"> |-Best step: 0</span>"
      ],
      "text/plain": [
       "<IPython.core.display.HTML object>"
      ]
     },
     "metadata": {},
     "output_type": "display_data"
    },
    {
     "data": {
      "text/html": [
       "<span style=\"color:#7E57C2\"><h2 style=\"font-size:16px\">Hyperparameters:</h2></span>"
      ],
      "text/plain": [
       "<IPython.core.display.HTML object>"
      ]
     },
     "metadata": {},
     "output_type": "display_data"
    },
    {
     "data": {
      "text/html": [
       "<span style=\"color:cyan\"> |-activation: relu</span>"
      ],
      "text/plain": [
       "<IPython.core.display.HTML object>"
      ]
     },
     "metadata": {},
     "output_type": "display_data"
    },
    {
     "data": {
      "text/html": [
       "<span style=\"color:blue\"> |-first_units: 65</span>"
      ],
      "text/plain": [
       "<IPython.core.display.HTML object>"
      ]
     },
     "metadata": {},
     "output_type": "display_data"
    },
    {
     "data": {
      "text/html": [
       "<span style=\"color:cyan\"> |-num_layers: 3</span>"
      ],
      "text/plain": [
       "<IPython.core.display.HTML object>"
      ]
     },
     "metadata": {},
     "output_type": "display_data"
    },
    {
     "data": {
      "text/html": [
       "<span style=\"color:blue\"> |-tuner/bracket: 1</span>"
      ],
      "text/plain": [
       "<IPython.core.display.HTML object>"
      ]
     },
     "metadata": {},
     "output_type": "display_data"
    },
    {
     "data": {
      "text/html": [
       "<span style=\"color:cyan\"> |-tuner/epochs: 2</span>"
      ],
      "text/plain": [
       "<IPython.core.display.HTML object>"
      ]
     },
     "metadata": {},
     "output_type": "display_data"
    },
    {
     "data": {
      "text/html": [
       "<span style=\"color:blue\"> |-tuner/initial_epoch: 0</span>"
      ],
      "text/plain": [
       "<IPython.core.display.HTML object>"
      ]
     },
     "metadata": {},
     "output_type": "display_data"
    },
    {
     "data": {
      "text/html": [
       "<span style=\"color:cyan\"> |-tuner/round: 0</span>"
      ],
      "text/plain": [
       "<IPython.core.display.HTML object>"
      ]
     },
     "metadata": {},
     "output_type": "display_data"
    },
    {
     "data": {
      "text/html": [
       "<span style=\"color:blue\"> |-units_0: 20</span>"
      ],
      "text/plain": [
       "<IPython.core.display.HTML object>"
      ]
     },
     "metadata": {},
     "output_type": "display_data"
    },
    {
     "data": {
      "text/html": [
       "<span style=\"color:cyan\"> |-units_1: 10</span>"
      ],
      "text/plain": [
       "<IPython.core.display.HTML object>"
      ]
     },
     "metadata": {},
     "output_type": "display_data"
    },
    {
     "data": {
      "text/html": [
       "<span style=\"color:blue\"> |-units_2: 10</span>"
      ],
      "text/plain": [
       "<IPython.core.display.HTML object>"
      ]
     },
     "metadata": {},
     "output_type": "display_data"
    },
    {
     "data": {
      "text/html": [
       "<span style=\"color:#4527A0\"><h1 style=\"font-size:18px\">Starting new trial</h1></span>"
      ],
      "text/plain": [
       "<IPython.core.display.HTML object>"
      ]
     },
     "metadata": {},
     "output_type": "display_data"
    },
    {
     "name": "stdout",
     "output_type": "stream",
     "text": [
      "Epoch 1/2\n"
     ]
    },
    {
     "name": "stdout",
     "output_type": "stream",
     "text": [
      "740/804 [==========================>...] - ETA: 9:35 - loss: 0.6797 - accuracy: 0.43 - ETA: 4s - loss: 0.6758 - accuracy: 0.5688 - ETA: 4s - loss: 0.6508 - accuracy: 0.61 - ETA: 5s - loss: 0.6456 - accuracy: 0.61 - ETA: 5s - loss: 0.6366 - accuracy: 0.62 - ETA: 5s - loss: 0.6265 - accuracy: 0.63 - ETA: 4s - loss: 0.6093 - accuracy: 0.65 - ETA: 4s - loss: 0.5970 - accuracy: 0.66 - ETA: 4s - loss: 0.5900 - accuracy: 0.67 - ETA: 4s - loss: 0.5821 - accuracy: 0.67 - ETA: 4s - loss: 0.5811 - accuracy: 0.67 - ETA: 5s - loss: 0.5789 - accuracy: 0.68 - ETA: 5s - loss: 0.5744 - accuracy: 0.68 - ETA: 5s - loss: 0.5726 - accuracy: 0.68 - ETA: 5s - loss: 0.5715 - accuracy: 0.68 - ETA: 6s - loss: 0.5703 - accuracy: 0.68 - ETA: 6s - loss: 0.5691 - accuracy: 0.68 - ETA: 6s - loss: 0.5661 - accuracy: 0.69 - ETA: 6s - loss: 0.5608 - accuracy: 0.69 - ETA: 6s - loss: 0.5601 - accuracy: 0.69 - ETA: 5s - loss: 0.5573 - accuracy: 0.69 - ETA: 5s - loss: 0.5545 - accuracy: 0.70 - ETA: 5s - loss: 0.5527 - accuracy: 0.70 - ETA: 6s - loss: 0.5505 - accuracy: 0.70 - ETA: 6s - loss: 0.5506 - accuracy: 0.70 - ETA: 6s - loss: 0.5511 - accuracy: 0.70 - ETA: 6s - loss: 0.5519 - accuracy: 0.70 - ETA: 6s - loss: 0.5511 - accuracy: 0.70 - ETA: 6s - loss: 0.5507 - accuracy: 0.70 - ETA: 6s - loss: 0.5484 - accuracy: 0.70 - ETA: 6s - loss: 0.5490 - accuracy: 0.70 - ETA: 6s - loss: 0.5474 - accuracy: 0.71 - ETA: 6s - loss: 0.5450 - accuracy: 0.71 - ETA: 6s - loss: 0.5443 - accuracy: 0.71 - ETA: 6s - loss: 0.5446 - accuracy: 0.71 - ETA: 6s - loss: 0.5428 - accuracy: 0.71 - ETA: 6s - loss: 0.5418 - accuracy: 0.71 - ETA: 6s - loss: 0.5423 - accuracy: 0.71 - ETA: 6s - loss: 0.5406 - accuracy: 0.71 - ETA: 6s - loss: 0.5394 - accuracy: 0.71 - ETA: 6s - loss: 0.5379 - accuracy: 0.71 - ETA: 6s - loss: 0.5385 - accuracy: 0.71 - ETA: 6s - loss: 0.5374 - accuracy: 0.71 - ETA: 6s - loss: 0.5353 - accuracy: 0.71 - ETA: 6s - loss: 0.5345 - accuracy: 0.71 - ETA: 6s - loss: 0.5342 - accuracy: 0.71 - ETA: 6s - loss: 0.5329 - accuracy: 0.72 - ETA: 6s - loss: 0.5315 - accuracy: 0.72 - ETA: 6s - loss: 0.5318 - accuracy: 0.72 - ETA: 6s - loss: 0.5321 - accuracy: 0.72 - ETA: 6s - loss: 0.5318 - accuracy: 0.72 - ETA: 7s - loss: 0.5312 - accuracy: 0.72 - ETA: 7s - loss: 0.5300 - accuracy: 0.72 - ETA: 6s - loss: 0.5300 - accuracy: 0.72 - ETA: 6s - loss: 0.5295 - accuracy: 0.72 - ETA: 6s - loss: 0.5305 - accuracy: 0.72 - ETA: 6s - loss: 0.5306 - accuracy: 0.72 - ETA: 6s - loss: 0.5300 - accuracy: 0.72 - ETA: 6s - loss: 0.5297 - accuracy: 0.72 - ETA: 6s - loss: 0.5296 - accuracy: 0.72 - ETA: 6s - loss: 0.5288 - accuracy: 0.72 - ETA: 6s - loss: 0.5269 - accuracy: 0.72 - ETA: 6s - loss: 0.5252 - accuracy: 0.72 - ETA: 6s - loss: 0.5241 - accuracy: 0.72 - ETA: 6s - loss: 0.5218 - accuracy: 0.72 - ETA: 6s - loss: 0.5201 - accuracy: 0.73 - ETA: 6s - loss: 0.5199 - accuracy: 0.73 - ETA: 6s - loss: 0.5196 - accuracy: 0.73 - ETA: 6s - loss: 0.5184 - accuracy: 0.73 - ETA: 6s - loss: 0.5182 - accuracy: 0.73 - ETA: 6s - loss: 0.5179 - accuracy: 0.73 - ETA: 6s - loss: 0.5178 - accuracy: 0.73 - ETA: 6s - loss: 0.5170 - accuracy: 0.73 - ETA: 6s - loss: 0.5165 - accuracy: 0.73 - ETA: 6s - loss: 0.5156 - accuracy: 0.73 - ETA: 6s - loss: 0.5162 - accuracy: 0.73 - ETA: 6s - loss: 0.5156 - accuracy: 0.73 - ETA: 6s - loss: 0.5156 - accuracy: 0.73 - ETA: 6s - loss: 0.5151 - accuracy: 0.73 - ETA: 6s - loss: 0.5148 - accuracy: 0.73 - ETA: 6s - loss: 0.5140 - accuracy: 0.73 - ETA: 6s - loss: 0.5142 - accuracy: 0.73 - ETA: 6s - loss: 0.5133 - accuracy: 0.73 - ETA: 6s - loss: 0.5131 - accuracy: 0.73 - ETA: 6s - loss: 0.5130 - accuracy: 0.73 - ETA: 6s - loss: 0.5120 - accuracy: 0.74 - ETA: 6s - loss: 0.5112 - accuracy: 0.74 - ETA: 6s - loss: 0.5104 - accuracy: 0.74 - ETA: 6s - loss: 0.5104 - accuracy: 0.74 - ETA: 5s - loss: 0.5105 - accuracy: 0.74 - ETA: 5s - loss: 0.5102 - accuracy: 0.74 - ETA: 5s - loss: 0.5101 - accuracy: 0.74 - ETA: 5s - loss: 0.5091 - accuracy: 0.74 - ETA: 5s - loss: 0.5082 - accuracy: 0.74 - ETA: 5s - loss: 0.5075 - accuracy: 0.74 - ETA: 5s - loss: 0.5069 - accuracy: 0.74 - ETA: 5s - loss: 0.5062 - accuracy: 0.74 - ETA: 5s - loss: 0.5061 - accuracy: 0.74 - ETA: 5s - loss: 0.5051 - accuracy: 0.74 - ETA: 5s - loss: 0.5049 - accuracy: 0.74 - ETA: 5s - loss: 0.5045 - accuracy: 0.74 - ETA: 5s - loss: 0.5048 - accuracy: 0.74 - ETA: 5s - loss: 0.5051 - accuracy: 0.74 - ETA: 4s - loss: 0.5045 - accuracy: 0.74 - ETA: 4s - loss: 0.5041 - accuracy: 0.74 - ETA: 4s - loss: 0.5037 - accuracy: 0.74 - ETA: 4s - loss: 0.5033 - accuracy: 0.74 - ETA: 4s - loss: 0.5030 - accuracy: 0.75 - ETA: 4s - loss: 0.5026 - accuracy: 0.75 - ETA: 4s - loss: 0.5019 - accuracy: 0.75 - ETA: 4s - loss: 0.5016 - accuracy: 0.75 - ETA: 4s - loss: 0.5013 - accuracy: 0.75 - ETA: 4s - loss: 0.5006 - accuracy: 0.75 - ETA: 4s - loss: 0.5003 - accuracy: 0.75 - ETA: 4s - loss: 0.5003 - accuracy: 0.75 - ETA: 4s - loss: 0.4998 - accuracy: 0.75 - ETA: 4s - loss: 0.4992 - accuracy: 0.75 - ETA: 4s - loss: 0.4993 - accuracy: 0.75 - ETA: 4s - loss: 0.4989 - accuracy: 0.75 - ETA: 4s - loss: 0.4988 - accuracy: 0.75 - ETA: 4s - loss: 0.4989 - accuracy: 0.75 - ETA: 4s - loss: 0.4986 - accuracy: 0.75 - ETA: 4s - loss: 0.4982 - accuracy: 0.75 - ETA: 4s - loss: 0.4983 - accuracy: 0.75 - ETA: 4s - loss: 0.4986 - accuracy: 0.75 - ETA: 4s - loss: 0.4987 - accuracy: 0.75 - ETA: 4s - loss: 0.4990 - accuracy: 0.75 - ETA: 4s - loss: 0.4988 - accuracy: 0.75 - ETA: 4s - loss: 0.4995 - accuracy: 0.75 - ETA: 4s - loss: 0.5001 - accuracy: 0.74 - ETA: 4s - loss: 0.5002 - accuracy: 0.74 - ETA: 3s - loss: 0.5003 - accuracy: 0.74 - ETA: 3s - loss: 0.5001 - accuracy: 0.74 - ETA: 3s - loss: 0.5008 - accuracy: 0.74 - ETA: 3s - loss: 0.5010 - accuracy: 0.74 - ETA: 3s - loss: 0.5007 - accuracy: 0.74 - ETA: 3s - loss: 0.5004 - accuracy: 0.74 - ETA: 3s - loss: 0.5002 - accuracy: 0.74 - ETA: 3s - loss: 0.5000 - accuracy: 0.74 - ETA: 3s - loss: 0.4998 - accuracy: 0.75 - ETA: 3s - loss: 0.4997 - accuracy: 0.75 - ETA: 3s - loss: 0.5000 - accuracy: 0.75 - ETA: 3s - loss: 0.4999 - accuracy: 0.75 - ETA: 3s - loss: 0.4998 - accuracy: 0.75 - ETA: 3s - loss: 0.4997 - accuracy: 0.75 - ETA: 3s - loss: 0.4998 - accuracy: 0.75 - ETA: 3s - loss: 0.4995 - accuracy: 0.75 - ETA: 3s - loss: 0.4995 - accuracy: 0.75 - ETA: 3s - loss: 0.4992 - accuracy: 0.75 - ETA: 3s - loss: 0.4993 - accuracy: 0.75 - ETA: 3s - loss: 0.4986 - accuracy: 0.75 - ETA: 3s - loss: 0.4985 - accuracy: 0.75 - ETA: 3s - loss: 0.4985 - accuracy: 0.75 - ETA: 2s - loss: 0.4983 - accuracy: 0.75 - ETA: 2s - loss: 0.4981 - accuracy: 0.75 - ETA: 2s - loss: 0.4974 - accuracy: 0.75 - ETA: 2s - loss: 0.4973 - accuracy: 0.75 - ETA: 2s - loss: 0.4970 - accuracy: 0.75 - ETA: 2s - loss: 0.4966 - accuracy: 0.75 - ETA: 2s - loss: 0.4964 - accuracy: 0.75 - ETA: 2s - loss: 0.4963 - accuracy: 0.75 - ETA: 2s - loss: 0.4964 - accuracy: 0.75 - ETA: 2s - loss: 0.4964 - accuracy: 0.75 - ETA: 2s - loss: 0.4961 - accuracy: 0.75 - ETA: 2s - loss: 0.4960 - accuracy: 0.75 - ETA: 2s - loss: 0.4958 - accuracy: 0.75 - ETA: 2s - loss: 0.4956 - accuracy: 0.75 - ETA: 2s - loss: 0.4952 - accuracy: 0.75 - ETA: 2s - loss: 0.4953 - accuracy: 0.75 - ETA: 2s - loss: 0.4950 - accuracy: 0.75 - ETA: 2s - loss: 0.4948 - accuracy: 0.75 - ETA: 2s - loss: 0.4945 - accuracy: 0.75 - ETA: 2s - loss: 0.4939 - accuracy: 0.75 - ETA: 2s - loss: 0.4942 - accuracy: 0.75 - ETA: 2s - loss: 0.4935 - accuracy: 0.75 - ETA: 1s - loss: 0.4935 - accuracy: 0.75 - ETA: 1s - loss: 0.4933 - accuracy: 0.75 - ETA: 1s - loss: 0.4929 - accuracy: 0.75 - ETA: 1s - loss: 0.4927 - accuracy: 0.75 - ETA: 1s - loss: 0.4929 - accuracy: 0.75 - ETA: 1s - loss: 0.4925 - accuracy: 0.75 - ETA: 1s - loss: 0.4924 - accuracy: 0.75 - ETA: 1s - loss: 0.4920 - accuracy: 0.75 - ETA: 1s - loss: 0.4921 - accuracy: 0.75 - ETA: 1s - loss: 0.4919 - accuracy: 0.75 - ETA: 1s - loss: 0.4916 - accuracy: 0.75 - ETA: 1s - loss: 0.4913 - accuracy: 0.75 - ETA: 1s - loss: 0.4912 - accuracy: 0.75 - ETA: 1s - loss: 0.4916 - accuracy: 0.75 - ETA: 1s - loss: 0.4916 - accuracy: 0.75 - ETA: 1s - loss: 0.4913 - accuracy: 0.75 - ETA: 1s - loss: 0.4906 - accuracy: 0.75 - ETA: 1s - loss: 0.4906 - accuracy: 0.75 - ETA: 1s - loss: 0.4902 - accuracy: 0.7582\b\b\b\b\b\b\b\b\b\b\b\b\b\b\b\b\b\b\b\b\b\b\b\b\b\b\b\b\b\b\b\b\b\b\b\b\b\b\b\b\b\b\b\b\b\b\b\b\b\b\b\b\b\b\b\b\b\b\b\b\b\b\b\b\b\b\b\b\b\b\b\b\b\b\b\b\b\b\b\b\b\b\b\b"
     ]
    },
    {
     "name": "stdout",
     "output_type": "stream",
     "text": [
      "804/804 [==============================] - ETA: 0s - loss: 0.4900 - accuracy: 0.75 - ETA: 0s - loss: 0.4898 - accuracy: 0.75 - ETA: 0s - loss: 0.4894 - accuracy: 0.75 - ETA: 0s - loss: 0.4895 - accuracy: 0.75 - ETA: 0s - loss: 0.4888 - accuracy: 0.75 - ETA: 0s - loss: 0.4885 - accuracy: 0.75 - ETA: 0s - loss: 0.4889 - accuracy: 0.75 - ETA: 0s - loss: 0.4886 - accuracy: 0.75 - ETA: 0s - loss: 0.4883 - accuracy: 0.75 - ETA: 0s - loss: 0.4880 - accuracy: 0.75 - ETA: 0s - loss: 0.4882 - accuracy: 0.75 - ETA: 0s - loss: 0.4882 - accuracy: 0.75 - ETA: 0s - loss: 0.4882 - accuracy: 0.75 - ETA: 0s - loss: 0.4879 - accuracy: 0.76 - ETA: 0s - loss: 0.4876 - accuracy: 0.76 - ETA: 0s - loss: 0.4876 - accuracy: 0.76 - 19s 23ms/step - loss: 0.4878 - accuracy: 0.7602 - val_loss: 0.4561 - val_accuracy: 0.7901\n",
      "Epoch 2/2\n"
     ]
    },
    {
     "name": "stdout",
     "output_type": "stream",
     "text": [
      "592/804 [=====================>........] - ETA: 16s - loss: 0.2779 - accuracy: 0.875 - ETA: 17s - loss: 0.3205 - accuracy: 0.828 - ETA: 20s - loss: 0.3524 - accuracy: 0.817 - ETA: 22s - loss: 0.3607 - accuracy: 0.816 - ETA: 18s - loss: 0.3428 - accuracy: 0.825 - ETA: 16s - loss: 0.3270 - accuracy: 0.837 - ETA: 15s - loss: 0.3072 - accuracy: 0.851 - ETA: 16s - loss: 0.3046 - accuracy: 0.854 - ETA: 16s - loss: 0.2921 - accuracy: 0.860 - ETA: 15s - loss: 0.2758 - accuracy: 0.873 - ETA: 13s - loss: 0.2504 - accuracy: 0.889 - ETA: 12s - loss: 0.2352 - accuracy: 0.897 - ETA: 11s - loss: 0.2218 - accuracy: 0.906 - ETA: 10s - loss: 0.2060 - accuracy: 0.913 - ETA: 9s - loss: 0.2048 - accuracy: 0.915 - ETA: 9s - loss: 0.1958 - accuracy: 0.91 - ETA: 9s - loss: 0.1936 - accuracy: 0.92 - ETA: 9s - loss: 0.1896 - accuracy: 0.92 - ETA: 9s - loss: 0.1840 - accuracy: 0.92 - ETA: 10s - loss: 0.1831 - accuracy: 0.925 - ETA: 10s - loss: 0.1814 - accuracy: 0.926 - ETA: 10s - loss: 0.1822 - accuracy: 0.925 - ETA: 11s - loss: 0.1833 - accuracy: 0.925 - ETA: 11s - loss: 0.1858 - accuracy: 0.924 - ETA: 11s - loss: 0.1837 - accuracy: 0.925 - ETA: 11s - loss: 0.1836 - accuracy: 0.925 - ETA: 12s - loss: 0.1847 - accuracy: 0.925 - ETA: 11s - loss: 0.1822 - accuracy: 0.928 - ETA: 11s - loss: 0.1827 - accuracy: 0.928 - ETA: 11s - loss: 0.1823 - accuracy: 0.929 - ETA: 11s - loss: 0.1833 - accuracy: 0.928 - ETA: 10s - loss: 0.1810 - accuracy: 0.929 - ETA: 10s - loss: 0.1795 - accuracy: 0.929 - ETA: 10s - loss: 0.1761 - accuracy: 0.931 - ETA: 10s - loss: 0.1728 - accuracy: 0.932 - ETA: 9s - loss: 0.1688 - accuracy: 0.934 - ETA: 9s - loss: 0.1681 - accuracy: 0.93 - ETA: 9s - loss: 0.1683 - accuracy: 0.93 - ETA: 9s - loss: 0.1677 - accuracy: 0.93 - ETA: 9s - loss: 0.1661 - accuracy: 0.93 - ETA: 9s - loss: 0.1655 - accuracy: 0.93 - ETA: 9s - loss: 0.1657 - accuracy: 0.93 - ETA: 9s - loss: 0.1676 - accuracy: 0.93 - ETA: 9s - loss: 0.1677 - accuracy: 0.93 - ETA: 9s - loss: 0.1693 - accuracy: 0.93 - ETA: 9s - loss: 0.1683 - accuracy: 0.93 - ETA: 9s - loss: 0.1673 - accuracy: 0.93 - ETA: 9s - loss: 0.1674 - accuracy: 0.93 - ETA: 10s - loss: 0.1666 - accuracy: 0.937 - ETA: 10s - loss: 0.1669 - accuracy: 0.937 - ETA: 10s - loss: 0.1653 - accuracy: 0.938 - ETA: 9s - loss: 0.1640 - accuracy: 0.938 - ETA: 9s - loss: 0.1644 - accuracy: 0.93 - ETA: 9s - loss: 0.1633 - accuracy: 0.93 - ETA: 9s - loss: 0.1620 - accuracy: 0.93 - ETA: 9s - loss: 0.1615 - accuracy: 0.94 - ETA: 9s - loss: 0.1603 - accuracy: 0.94 - ETA: 9s - loss: 0.1600 - accuracy: 0.94 - ETA: 9s - loss: 0.1587 - accuracy: 0.94 - ETA: 9s - loss: 0.1595 - accuracy: 0.94 - ETA: 9s - loss: 0.1587 - accuracy: 0.94 - ETA: 9s - loss: 0.1582 - accuracy: 0.94 - ETA: 9s - loss: 0.1580 - accuracy: 0.94 - ETA: 9s - loss: 0.1578 - accuracy: 0.94 - ETA: 9s - loss: 0.1577 - accuracy: 0.94 - ETA: 9s - loss: 0.1576 - accuracy: 0.94 - ETA: 9s - loss: 0.1570 - accuracy: 0.94 - ETA: 9s - loss: 0.1572 - accuracy: 0.94 - ETA: 9s - loss: 0.1580 - accuracy: 0.94 - ETA: 9s - loss: 0.1576 - accuracy: 0.94 - ETA: 9s - loss: 0.1585 - accuracy: 0.94 - ETA: 9s - loss: 0.1586 - accuracy: 0.94 - ETA: 9s - loss: 0.1586 - accuracy: 0.94 - ETA: 9s - loss: 0.1580 - accuracy: 0.94 - ETA: 9s - loss: 0.1572 - accuracy: 0.94 - ETA: 9s - loss: 0.1575 - accuracy: 0.94 - ETA: 9s - loss: 0.1574 - accuracy: 0.94 - ETA: 9s - loss: 0.1576 - accuracy: 0.94 - ETA: 9s - loss: 0.1571 - accuracy: 0.94 - ETA: 9s - loss: 0.1572 - accuracy: 0.94 - ETA: 9s - loss: 0.1571 - accuracy: 0.94 - ETA: 9s - loss: 0.1582 - accuracy: 0.94 - ETA: 9s - loss: 0.1579 - accuracy: 0.94 - ETA: 9s - loss: 0.1579 - accuracy: 0.94 - ETA: 9s - loss: 0.1574 - accuracy: 0.94 - ETA: 9s - loss: 0.1574 - accuracy: 0.94 - ETA: 9s - loss: 0.1575 - accuracy: 0.94 - ETA: 9s - loss: 0.1585 - accuracy: 0.94 - ETA: 9s - loss: 0.1578 - accuracy: 0.94 - ETA: 9s - loss: 0.1578 - accuracy: 0.94 - ETA: 9s - loss: 0.1576 - accuracy: 0.94 - ETA: 9s - loss: 0.1571 - accuracy: 0.94 - ETA: 9s - loss: 0.1568 - accuracy: 0.94 - ETA: 9s - loss: 0.1567 - accuracy: 0.94 - ETA: 9s - loss: 0.1557 - accuracy: 0.94 - ETA: 8s - loss: 0.1551 - accuracy: 0.94 - ETA: 8s - loss: 0.1551 - accuracy: 0.94 - ETA: 8s - loss: 0.1555 - accuracy: 0.94 - ETA: 8s - loss: 0.1560 - accuracy: 0.94 - ETA: 8s - loss: 0.1568 - accuracy: 0.94 - ETA: 8s - loss: 0.1581 - accuracy: 0.94 - ETA: 8s - loss: 0.1577 - accuracy: 0.94 - ETA: 8s - loss: 0.1574 - accuracy: 0.94 - ETA: 8s - loss: 0.1576 - accuracy: 0.94 - ETA: 8s - loss: 0.1578 - accuracy: 0.94 - ETA: 8s - loss: 0.1575 - accuracy: 0.94 - ETA: 8s - loss: 0.1573 - accuracy: 0.94 - ETA: 8s - loss: 0.1571 - accuracy: 0.94 - ETA: 8s - loss: 0.1567 - accuracy: 0.94 - ETA: 8s - loss: 0.1563 - accuracy: 0.94 - ETA: 8s - loss: 0.1561 - accuracy: 0.94 - ETA: 8s - loss: 0.1558 - accuracy: 0.94 - ETA: 8s - loss: 0.1562 - accuracy: 0.94 - ETA: 8s - loss: 0.1559 - accuracy: 0.94 - ETA: 8s - loss: 0.1557 - accuracy: 0.94 - ETA: 8s - loss: 0.1551 - accuracy: 0.94 - ETA: 8s - loss: 0.1545 - accuracy: 0.94 - ETA: 8s - loss: 0.1546 - accuracy: 0.94 - ETA: 8s - loss: 0.1543 - accuracy: 0.94 - ETA: 8s - loss: 0.1544 - accuracy: 0.94 - ETA: 8s - loss: 0.1541 - accuracy: 0.94 - ETA: 11s - loss: 0.1539 - accuracy: 0.944 - ETA: 11s - loss: 0.1537 - accuracy: 0.944 - ETA: 11s - loss: 0.1539 - accuracy: 0.944 - ETA: 11s - loss: 0.1535 - accuracy: 0.944 - ETA: 11s - loss: 0.1535 - accuracy: 0.944 - ETA: 10s - loss: 0.1530 - accuracy: 0.944 - ETA: 10s - loss: 0.1527 - accuracy: 0.944 - ETA: 10s - loss: 0.1525 - accuracy: 0.944 - ETA: 10s - loss: 0.1531 - accuracy: 0.944 - ETA: 10s - loss: 0.1527 - accuracy: 0.944 - ETA: 10s - loss: 0.1524 - accuracy: 0.944 - ETA: 10s - loss: 0.1523 - accuracy: 0.944 - ETA: 10s - loss: 0.1521 - accuracy: 0.945 - ETA: 10s - loss: 0.1522 - accuracy: 0.945 - ETA: 10s - loss: 0.1521 - accuracy: 0.945 - ETA: 9s - loss: 0.1519 - accuracy: 0.945 - ETA: 9s - loss: 0.1519 - accuracy: 0.94 - ETA: 9s - loss: 0.1520 - accuracy: 0.94 - ETA: 9s - loss: 0.1520 - accuracy: 0.94 - ETA: 9s - loss: 0.1517 - accuracy: 0.94 - ETA: 9s - loss: 0.1513 - accuracy: 0.94 - ETA: 9s - loss: 0.1507 - accuracy: 0.94 - ETA: 9s - loss: 0.1501 - accuracy: 0.94 - ETA: 9s - loss: 0.1495 - accuracy: 0.94 - ETA: 9s - loss: 0.1498 - accuracy: 0.94 - ETA: 9s - loss: 0.1491 - accuracy: 0.94 - ETA: 8s - loss: 0.1490 - accuracy: 0.94 - ETA: 8s - loss: 0.1487 - accuracy: 0.94 - ETA: 8s - loss: 0.1485 - accuracy: 0.94 - ETA: 8s - loss: 0.1486 - accuracy: 0.94 - ETA: 8s - loss: 0.1485 - accuracy: 0.94 - ETA: 8s - loss: 0.1480 - accuracy: 0.94 - ETA: 8s - loss: 0.1478 - accuracy: 0.94 - ETA: 8s - loss: 0.1481 - accuracy: 0.94 - ETA: 7s - loss: 0.1476 - accuracy: 0.94 - ETA: 7s - loss: 0.1468 - accuracy: 0.94 - ETA: 7s - loss: 0.1465 - accuracy: 0.94 - ETA: 7s - loss: 0.1459 - accuracy: 0.94 - ETA: 7s - loss: 0.1455 - accuracy: 0.94 - ETA: 7s - loss: 0.1454 - accuracy: 0.94 - ETA: 7s - loss: 0.1450 - accuracy: 0.94 - ETA: 7s - loss: 0.1448 - accuracy: 0.94 - ETA: 7s - loss: 0.1451 - accuracy: 0.94 - ETA: 7s - loss: 0.1450 - accuracy: 0.94 - ETA: 7s - loss: 0.1450 - accuracy: 0.94 - ETA: 7s - loss: 0.1449 - accuracy: 0.94 - ETA: 6s - loss: 0.1444 - accuracy: 0.94 - ETA: 7s - loss: 0.1445 - accuracy: 0.94 - ETA: 6s - loss: 0.1449 - accuracy: 0.94 - ETA: 6s - loss: 0.1446 - accuracy: 0.94 - ETA: 6s - loss: 0.1454 - accuracy: 0.94 - ETA: 6s - loss: 0.1453 - accuracy: 0.94 - ETA: 6s - loss: 0.1452 - accuracy: 0.94 - ETA: 6s - loss: 0.1453 - accuracy: 0.94 - ETA: 6s - loss: 0.1451 - accuracy: 0.94 - ETA: 6s - loss: 0.1452 - accuracy: 0.94 - ETA: 6s - loss: 0.1452 - accuracy: 0.94 - ETA: 6s - loss: 0.1448 - accuracy: 0.94 - ETA: 6s - loss: 0.1446 - accuracy: 0.94 - ETA: 6s - loss: 0.1445 - accuracy: 0.94 - ETA: 6s - loss: 0.1443 - accuracy: 0.94 - ETA: 6s - loss: 0.1448 - accuracy: 0.94 - ETA: 6s - loss: 0.1442 - accuracy: 0.94 - ETA: 5s - loss: 0.1439 - accuracy: 0.94 - ETA: 5s - loss: 0.1435 - accuracy: 0.94 - ETA: 5s - loss: 0.1429 - accuracy: 0.94 - ETA: 5s - loss: 0.1425 - accuracy: 0.94 - ETA: 5s - loss: 0.1422 - accuracy: 0.94 - ETA: 5s - loss: 0.1418 - accuracy: 0.94 - ETA: 5s - loss: 0.1417 - accuracy: 0.94 - ETA: 5s - loss: 0.1417 - accuracy: 0.9497"
     ]
    },
    {
     "name": "stdout",
     "output_type": "stream",
     "text": [
      "804/804 [==============================] - ETA: 5s - loss: 0.1412 - accuracy: 0.94 - ETA: 4s - loss: 0.1407 - accuracy: 0.95 - ETA: 4s - loss: 0.1406 - accuracy: 0.95 - ETA: 4s - loss: 0.1406 - accuracy: 0.95 - ETA: 4s - loss: 0.1406 - accuracy: 0.95 - ETA: 4s - loss: 0.1404 - accuracy: 0.95 - ETA: 4s - loss: 0.1402 - accuracy: 0.95 - ETA: 4s - loss: 0.1401 - accuracy: 0.95 - ETA: 4s - loss: 0.1400 - accuracy: 0.95 - ETA: 4s - loss: 0.1402 - accuracy: 0.95 - ETA: 4s - loss: 0.1401 - accuracy: 0.95 - ETA: 4s - loss: 0.1399 - accuracy: 0.95 - ETA: 4s - loss: 0.1398 - accuracy: 0.95 - ETA: 4s - loss: 0.1402 - accuracy: 0.95 - ETA: 4s - loss: 0.1401 - accuracy: 0.95 - ETA: 4s - loss: 0.1399 - accuracy: 0.95 - ETA: 4s - loss: 0.1399 - accuracy: 0.95 - ETA: 4s - loss: 0.1396 - accuracy: 0.95 - ETA: 4s - loss: 0.1396 - accuracy: 0.95 - ETA: 3s - loss: 0.1397 - accuracy: 0.95 - ETA: 3s - loss: 0.1398 - accuracy: 0.95 - ETA: 3s - loss: 0.1399 - accuracy: 0.95 - ETA: 3s - loss: 0.1399 - accuracy: 0.95 - ETA: 3s - loss: 0.1399 - accuracy: 0.95 - ETA: 3s - loss: 0.1398 - accuracy: 0.95 - ETA: 3s - loss: 0.1395 - accuracy: 0.95 - ETA: 3s - loss: 0.1395 - accuracy: 0.95 - ETA: 3s - loss: 0.1395 - accuracy: 0.95 - ETA: 3s - loss: 0.1396 - accuracy: 0.95 - ETA: 3s - loss: 0.1396 - accuracy: 0.95 - ETA: 3s - loss: 0.1395 - accuracy: 0.95 - ETA: 3s - loss: 0.1393 - accuracy: 0.95 - ETA: 3s - loss: 0.1393 - accuracy: 0.95 - ETA: 3s - loss: 0.1396 - accuracy: 0.95 - ETA: 2s - loss: 0.1399 - accuracy: 0.95 - ETA: 2s - loss: 0.1398 - accuracy: 0.95 - ETA: 2s - loss: 0.1401 - accuracy: 0.95 - ETA: 2s - loss: 0.1399 - accuracy: 0.95 - ETA: 2s - loss: 0.1395 - accuracy: 0.95 - ETA: 2s - loss: 0.1393 - accuracy: 0.95 - ETA: 2s - loss: 0.1391 - accuracy: 0.95 - ETA: 2s - loss: 0.1389 - accuracy: 0.95 - ETA: 2s - loss: 0.1389 - accuracy: 0.95 - ETA: 2s - loss: 0.1385 - accuracy: 0.95 - ETA: 2s - loss: 0.1386 - accuracy: 0.95 - ETA: 2s - loss: 0.1385 - accuracy: 0.95 - ETA: 2s - loss: 0.1384 - accuracy: 0.95 - ETA: 2s - loss: 0.1382 - accuracy: 0.95 - ETA: 1s - loss: 0.1381 - accuracy: 0.95 - ETA: 1s - loss: 0.1381 - accuracy: 0.95 - ETA: 1s - loss: 0.1383 - accuracy: 0.95 - ETA: 1s - loss: 0.1382 - accuracy: 0.95 - ETA: 1s - loss: 0.1380 - accuracy: 0.95 - ETA: 1s - loss: 0.1382 - accuracy: 0.95 - ETA: 1s - loss: 0.1385 - accuracy: 0.95 - ETA: 1s - loss: 0.1389 - accuracy: 0.95 - ETA: 1s - loss: 0.1387 - accuracy: 0.95 - ETA: 1s - loss: 0.1385 - accuracy: 0.95 - ETA: 1s - loss: 0.1383 - accuracy: 0.95 - ETA: 1s - loss: 0.1384 - accuracy: 0.95 - ETA: 0s - loss: 0.1386 - accuracy: 0.95 - ETA: 0s - loss: 0.1384 - accuracy: 0.95 - ETA: 0s - loss: 0.1382 - accuracy: 0.95 - ETA: 0s - loss: 0.1384 - accuracy: 0.95 - ETA: 0s - loss: 0.1382 - accuracy: 0.95 - ETA: 0s - loss: 0.1382 - accuracy: 0.95 - ETA: 0s - loss: 0.1383 - accuracy: 0.95 - ETA: 0s - loss: 0.1387 - accuracy: 0.95 - ETA: 0s - loss: 0.1384 - accuracy: 0.95 - ETA: 0s - loss: 0.1384 - accuracy: 0.95 - ETA: 0s - loss: 0.1382 - accuracy: 0.95 - ETA: 0s - loss: 0.1382 - accuracy: 0.95 - ETA: 0s - loss: 0.1382 - accuracy: 0.95 - ETA: 0s - loss: 0.1380 - accuracy: 0.95 - ETA: 0s - loss: 0.1377 - accuracy: 0.95 - ETA: 0s - loss: 0.1376 - accuracy: 0.95 - ETA: 0s - loss: 0.1374 - accuracy: 0.95 - ETA: 0s - loss: 0.1373 - accuracy: 0.95 - ETA: 0s - loss: 0.1375 - accuracy: 0.95 - 21s 26ms/step - loss: 0.1375 - accuracy: 0.9523 - val_loss: 0.4823 - val_accuracy: 0.7608\n"
     ]
    },
    {
     "data": {
      "text/html": [
       "<span style=\"color:#4527A0\"><h1 style=\"font-size:18px\">Trial complete</h1></span>"
      ],
      "text/plain": [
       "<IPython.core.display.HTML object>"
      ]
     },
     "metadata": {},
     "output_type": "display_data"
    },
    {
     "data": {
      "text/html": [
       "<span style=\"color:#4527A0\"><h1 style=\"font-size:18px\">Trial summary</h1></span>"
      ],
      "text/plain": [
       "<IPython.core.display.HTML object>"
      ]
     },
     "metadata": {},
     "output_type": "display_data"
    },
    {
     "data": {
      "text/html": [
       "<span style=\"color:cyan\"> |-Trial ID: 9a445b95dcf2c04ef571ba16acf189b3</span>"
      ],
      "text/plain": [
       "<IPython.core.display.HTML object>"
      ]
     },
     "metadata": {},
     "output_type": "display_data"
    },
    {
     "data": {
      "text/html": [
       "<span style=\"color:cyan\"> |-Score: 0.7900874614715576</span>"
      ],
      "text/plain": [
       "<IPython.core.display.HTML object>"
      ]
     },
     "metadata": {},
     "output_type": "display_data"
    },
    {
     "data": {
      "text/html": [
       "<span style=\"color:cyan\"> |-Best step: 0</span>"
      ],
      "text/plain": [
       "<IPython.core.display.HTML object>"
      ]
     },
     "metadata": {},
     "output_type": "display_data"
    },
    {
     "data": {
      "text/html": [
       "<span style=\"color:#7E57C2\"><h2 style=\"font-size:16px\">Hyperparameters:</h2></span>"
      ],
      "text/plain": [
       "<IPython.core.display.HTML object>"
      ]
     },
     "metadata": {},
     "output_type": "display_data"
    },
    {
     "data": {
      "text/html": [
       "<span style=\"color:cyan\"> |-activation: tanh</span>"
      ],
      "text/plain": [
       "<IPython.core.display.HTML object>"
      ]
     },
     "metadata": {},
     "output_type": "display_data"
    },
    {
     "data": {
      "text/html": [
       "<span style=\"color:blue\"> |-first_units: 90</span>"
      ],
      "text/plain": [
       "<IPython.core.display.HTML object>"
      ]
     },
     "metadata": {},
     "output_type": "display_data"
    },
    {
     "data": {
      "text/html": [
       "<span style=\"color:cyan\"> |-num_layers: 3</span>"
      ],
      "text/plain": [
       "<IPython.core.display.HTML object>"
      ]
     },
     "metadata": {},
     "output_type": "display_data"
    },
    {
     "data": {
      "text/html": [
       "<span style=\"color:blue\"> |-tuner/bracket: 1</span>"
      ],
      "text/plain": [
       "<IPython.core.display.HTML object>"
      ]
     },
     "metadata": {},
     "output_type": "display_data"
    },
    {
     "data": {
      "text/html": [
       "<span style=\"color:cyan\"> |-tuner/epochs: 2</span>"
      ],
      "text/plain": [
       "<IPython.core.display.HTML object>"
      ]
     },
     "metadata": {},
     "output_type": "display_data"
    },
    {
     "data": {
      "text/html": [
       "<span style=\"color:blue\"> |-tuner/initial_epoch: 0</span>"
      ],
      "text/plain": [
       "<IPython.core.display.HTML object>"
      ]
     },
     "metadata": {},
     "output_type": "display_data"
    },
    {
     "data": {
      "text/html": [
       "<span style=\"color:cyan\"> |-tuner/round: 0</span>"
      ],
      "text/plain": [
       "<IPython.core.display.HTML object>"
      ]
     },
     "metadata": {},
     "output_type": "display_data"
    },
    {
     "data": {
      "text/html": [
       "<span style=\"color:blue\"> |-units_0: 35</span>"
      ],
      "text/plain": [
       "<IPython.core.display.HTML object>"
      ]
     },
     "metadata": {},
     "output_type": "display_data"
    },
    {
     "data": {
      "text/html": [
       "<span style=\"color:cyan\"> |-units_1: 25</span>"
      ],
      "text/plain": [
       "<IPython.core.display.HTML object>"
      ]
     },
     "metadata": {},
     "output_type": "display_data"
    },
    {
     "data": {
      "text/html": [
       "<span style=\"color:blue\"> |-units_2: 15</span>"
      ],
      "text/plain": [
       "<IPython.core.display.HTML object>"
      ]
     },
     "metadata": {},
     "output_type": "display_data"
    },
    {
     "data": {
      "text/html": [
       "<span style=\"color:#4527A0\"><h1 style=\"font-size:18px\">Starting new trial</h1></span>"
      ],
      "text/plain": [
       "<IPython.core.display.HTML object>"
      ]
     },
     "metadata": {},
     "output_type": "display_data"
    },
    {
     "name": "stdout",
     "output_type": "stream",
     "text": [
      "Epoch 1/2\n",
      "804/804 [==============================] - ETA: 6:25 - loss: 0.8066 - accuracy: 0.43 - ETA: 3s - loss: 0.6648 - accuracy: 0.6094 - ETA: 3s - loss: 0.6421 - accuracy: 0.63 - ETA: 3s - loss: 0.6262 - accuracy: 0.65 - ETA: 3s - loss: 0.6132 - accuracy: 0.66 - ETA: 3s - loss: 0.5969 - accuracy: 0.67 - ETA: 3s - loss: 0.5881 - accuracy: 0.68 - ETA: 2s - loss: 0.5789 - accuracy: 0.68 - ETA: 2s - loss: 0.5731 - accuracy: 0.69 - ETA: 2s - loss: 0.5689 - accuracy: 0.69 - ETA: 2s - loss: 0.5594 - accuracy: 0.70 - ETA: 2s - loss: 0.5538 - accuracy: 0.71 - ETA: 2s - loss: 0.5506 - accuracy: 0.71 - ETA: 2s - loss: 0.5457 - accuracy: 0.71 - ETA: 2s - loss: 0.5423 - accuracy: 0.72 - ETA: 2s - loss: 0.5411 - accuracy: 0.72 - ETA: 2s - loss: 0.5390 - accuracy: 0.72 - ETA: 2s - loss: 0.5392 - accuracy: 0.72 - ETA: 2s - loss: 0.5378 - accuracy: 0.73 - ETA: 2s - loss: 0.5356 - accuracy: 0.73 - ETA: 2s - loss: 0.5324 - accuracy: 0.73 - ETA: 2s - loss: 0.5325 - accuracy: 0.73 - ETA: 2s - loss: 0.5287 - accuracy: 0.73 - ETA: 2s - loss: 0.5275 - accuracy: 0.73 - ETA: 2s - loss: 0.5251 - accuracy: 0.73 - ETA: 2s - loss: 0.5236 - accuracy: 0.74 - ETA: 2s - loss: 0.5220 - accuracy: 0.74 - ETA: 2s - loss: 0.5206 - accuracy: 0.74 - ETA: 2s - loss: 0.5188 - accuracy: 0.74 - ETA: 2s - loss: 0.5170 - accuracy: 0.74 - ETA: 2s - loss: 0.5161 - accuracy: 0.74 - ETA: 2s - loss: 0.5167 - accuracy: 0.74 - ETA: 2s - loss: 0.5156 - accuracy: 0.74 - ETA: 2s - loss: 0.5155 - accuracy: 0.74 - ETA: 2s - loss: 0.5144 - accuracy: 0.74 - ETA: 2s - loss: 0.5133 - accuracy: 0.74 - ETA: 2s - loss: 0.5123 - accuracy: 0.74 - ETA: 2s - loss: 0.5107 - accuracy: 0.74 - ETA: 2s - loss: 0.5104 - accuracy: 0.74 - ETA: 2s - loss: 0.5092 - accuracy: 0.75 - ETA: 2s - loss: 0.5077 - accuracy: 0.75 - ETA: 2s - loss: 0.5072 - accuracy: 0.75 - ETA: 2s - loss: 0.5065 - accuracy: 0.75 - ETA: 2s - loss: 0.5060 - accuracy: 0.75 - ETA: 2s - loss: 0.5055 - accuracy: 0.75 - ETA: 2s - loss: 0.5051 - accuracy: 0.75 - ETA: 1s - loss: 0.5043 - accuracy: 0.75 - ETA: 1s - loss: 0.5035 - accuracy: 0.75 - ETA: 1s - loss: 0.5029 - accuracy: 0.75 - ETA: 1s - loss: 0.5015 - accuracy: 0.75 - ETA: 1s - loss: 0.5008 - accuracy: 0.75 - ETA: 1s - loss: 0.4994 - accuracy: 0.75 - ETA: 1s - loss: 0.4989 - accuracy: 0.75 - ETA: 1s - loss: 0.4986 - accuracy: 0.75 - ETA: 1s - loss: 0.4985 - accuracy: 0.75 - ETA: 1s - loss: 0.4982 - accuracy: 0.75 - ETA: 1s - loss: 0.4974 - accuracy: 0.75 - ETA: 1s - loss: 0.4972 - accuracy: 0.75 - ETA: 1s - loss: 0.4975 - accuracy: 0.75 - ETA: 1s - loss: 0.4970 - accuracy: 0.75 - ETA: 1s - loss: 0.4968 - accuracy: 0.75 - ETA: 1s - loss: 0.4963 - accuracy: 0.75 - ETA: 1s - loss: 0.4958 - accuracy: 0.75 - ETA: 1s - loss: 0.4956 - accuracy: 0.75 - ETA: 1s - loss: 0.4950 - accuracy: 0.75 - ETA: 1s - loss: 0.4948 - accuracy: 0.75 - ETA: 1s - loss: 0.4949 - accuracy: 0.75 - ETA: 1s - loss: 0.4943 - accuracy: 0.75 - ETA: 1s - loss: 0.4937 - accuracy: 0.75 - ETA: 1s - loss: 0.4937 - accuracy: 0.75 - ETA: 1s - loss: 0.4941 - accuracy: 0.75 - ETA: 1s - loss: 0.4936 - accuracy: 0.75 - ETA: 1s - loss: 0.4926 - accuracy: 0.76 - ETA: 1s - loss: 0.4922 - accuracy: 0.76 - ETA: 1s - loss: 0.4915 - accuracy: 0.76 - ETA: 1s - loss: 0.4916 - accuracy: 0.76 - ETA: 1s - loss: 0.4911 - accuracy: 0.76 - ETA: 1s - loss: 0.4912 - accuracy: 0.76 - ETA: 1s - loss: 0.4911 - accuracy: 0.76 - ETA: 1s - loss: 0.4911 - accuracy: 0.76 - ETA: 1s - loss: 0.4915 - accuracy: 0.76 - ETA: 1s - loss: 0.4910 - accuracy: 0.76 - ETA: 1s - loss: 0.4910 - accuracy: 0.76 - ETA: 1s - loss: 0.4905 - accuracy: 0.76 - ETA: 1s - loss: 0.4901 - accuracy: 0.76 - ETA: 1s - loss: 0.4900 - accuracy: 0.76 - ETA: 1s - loss: 0.4903 - accuracy: 0.76 - ETA: 1s - loss: 0.4906 - accuracy: 0.76 - ETA: 1s - loss: 0.4900 - accuracy: 0.76 - ETA: 1s - loss: 0.4898 - accuracy: 0.76 - ETA: 1s - loss: 0.4895 - accuracy: 0.76 - ETA: 1s - loss: 0.4893 - accuracy: 0.76 - ETA: 0s - loss: 0.4890 - accuracy: 0.76 - ETA: 0s - loss: 0.4884 - accuracy: 0.76 - ETA: 0s - loss: 0.4880 - accuracy: 0.76 - ETA: 0s - loss: 0.4878 - accuracy: 0.76 - ETA: 0s - loss: 0.4875 - accuracy: 0.76 - ETA: 0s - loss: 0.4869 - accuracy: 0.76 - ETA: 0s - loss: 0.4865 - accuracy: 0.76 - ETA: 0s - loss: 0.4863 - accuracy: 0.76 - ETA: 0s - loss: 0.4860 - accuracy: 0.76 - ETA: 0s - loss: 0.4864 - accuracy: 0.76 - ETA: 0s - loss: 0.4863 - accuracy: 0.76 - ETA: 0s - loss: 0.4858 - accuracy: 0.76 - ETA: 0s - loss: 0.4855 - accuracy: 0.76 - ETA: 0s - loss: 0.4858 - accuracy: 0.76 - ETA: 0s - loss: 0.4855 - accuracy: 0.76 - ETA: 0s - loss: 0.4854 - accuracy: 0.76 - ETA: 0s - loss: 0.4852 - accuracy: 0.76 - ETA: 0s - loss: 0.4848 - accuracy: 0.76 - ETA: 0s - loss: 0.4847 - accuracy: 0.76 - ETA: 0s - loss: 0.4842 - accuracy: 0.76 - ETA: 0s - loss: 0.4842 - accuracy: 0.76 - ETA: 0s - loss: 0.4842 - accuracy: 0.76 - ETA: 0s - loss: 0.4844 - accuracy: 0.76 - ETA: 0s - loss: 0.4842 - accuracy: 0.76 - ETA: 0s - loss: 0.4843 - accuracy: 0.76 - ETA: 0s - loss: 0.4842 - accuracy: 0.76 - ETA: 0s - loss: 0.4844 - accuracy: 0.76 - ETA: 0s - loss: 0.4841 - accuracy: 0.76 - ETA: 0s - loss: 0.4841 - accuracy: 0.76 - 21s 26ms/step - loss: 0.4841 - accuracy: 0.7659 - val_loss: 0.4855 - val_accuracy: 0.7787\n",
      "Epoch 2/2\n"
     ]
    },
    {
     "name": "stdout",
     "output_type": "stream",
     "text": [
      "530/804 [==================>...........] - ETA: 23s - loss: 0.2571 - accuracy: 0.875 - ETA: 23s - loss: 0.2638 - accuracy: 0.885 - ETA: 34s - loss: 0.2211 - accuracy: 0.914 - ETA: 29s - loss: 0.2403 - accuracy: 0.911 - ETA: 21s - loss: 0.2654 - accuracy: 0.903 - ETA: 19s - loss: 0.2514 - accuracy: 0.906 - ETA: 18s - loss: 0.2363 - accuracy: 0.910 - ETA: 16s - loss: 0.2276 - accuracy: 0.918 - ETA: 15s - loss: 0.2231 - accuracy: 0.924 - ETA: 15s - loss: 0.2284 - accuracy: 0.918 - ETA: 22s - loss: 0.2246 - accuracy: 0.918 - ETA: 20s - loss: 0.2255 - accuracy: 0.917 - ETA: 18s - loss: 0.2185 - accuracy: 0.922 - ETA: 18s - loss: 0.2156 - accuracy: 0.924 - ETA: 17s - loss: 0.2108 - accuracy: 0.924 - ETA: 17s - loss: 0.2079 - accuracy: 0.925 - ETA: 16s - loss: 0.2034 - accuracy: 0.927 - ETA: 16s - loss: 0.1976 - accuracy: 0.928 - ETA: 15s - loss: 0.1954 - accuracy: 0.929 - ETA: 15s - loss: 0.1914 - accuracy: 0.931 - ETA: 14s - loss: 0.1872 - accuracy: 0.933 - ETA: 14s - loss: 0.1859 - accuracy: 0.934 - ETA: 14s - loss: 0.1872 - accuracy: 0.934 - ETA: 13s - loss: 0.1873 - accuracy: 0.935 - ETA: 13s - loss: 0.1858 - accuracy: 0.936 - ETA: 13s - loss: 0.1844 - accuracy: 0.936 - ETA: 13s - loss: 0.1838 - accuracy: 0.936 - ETA: 12s - loss: 0.1807 - accuracy: 0.938 - ETA: 12s - loss: 0.1806 - accuracy: 0.937 - ETA: 12s - loss: 0.1800 - accuracy: 0.937 - ETA: 12s - loss: 0.1796 - accuracy: 0.936 - ETA: 12s - loss: 0.1770 - accuracy: 0.937 - ETA: 12s - loss: 0.1760 - accuracy: 0.938 - ETA: 11s - loss: 0.1742 - accuracy: 0.938 - ETA: 11s - loss: 0.1723 - accuracy: 0.939 - ETA: 11s - loss: 0.1727 - accuracy: 0.939 - ETA: 11s - loss: 0.1734 - accuracy: 0.939 - ETA: 11s - loss: 0.1708 - accuracy: 0.940 - ETA: 11s - loss: 0.1681 - accuracy: 0.941 - ETA: 11s - loss: 0.1683 - accuracy: 0.941 - ETA: 11s - loss: 0.1674 - accuracy: 0.941 - ETA: 11s - loss: 0.1694 - accuracy: 0.941 - ETA: 11s - loss: 0.1679 - accuracy: 0.941 - ETA: 10s - loss: 0.1658 - accuracy: 0.942 - ETA: 10s - loss: 0.1661 - accuracy: 0.942 - ETA: 10s - loss: 0.1657 - accuracy: 0.942 - ETA: 10s - loss: 0.1640 - accuracy: 0.943 - ETA: 10s - loss: 0.1641 - accuracy: 0.943 - ETA: 10s - loss: 0.1630 - accuracy: 0.943 - ETA: 10s - loss: 0.1627 - accuracy: 0.943 - ETA: 10s - loss: 0.1621 - accuracy: 0.944 - ETA: 10s - loss: 0.1615 - accuracy: 0.944 - ETA: 10s - loss: 0.1609 - accuracy: 0.944 - ETA: 10s - loss: 0.1612 - accuracy: 0.944 - ETA: 10s - loss: 0.1611 - accuracy: 0.944 - ETA: 10s - loss: 0.1622 - accuracy: 0.943 - ETA: 10s - loss: 0.1622 - accuracy: 0.944 - ETA: 10s - loss: 0.1622 - accuracy: 0.943 - ETA: 10s - loss: 0.1616 - accuracy: 0.944 - ETA: 11s - loss: 0.1615 - accuracy: 0.944 - ETA: 10s - loss: 0.1612 - accuracy: 0.944 - ETA: 10s - loss: 0.1622 - accuracy: 0.944 - ETA: 10s - loss: 0.1608 - accuracy: 0.944 - ETA: 10s - loss: 0.1592 - accuracy: 0.945 - ETA: 10s - loss: 0.1594 - accuracy: 0.944 - ETA: 10s - loss: 0.1590 - accuracy: 0.945 - ETA: 10s - loss: 0.1580 - accuracy: 0.945 - ETA: 10s - loss: 0.1576 - accuracy: 0.945 - ETA: 10s - loss: 0.1565 - accuracy: 0.946 - ETA: 10s - loss: 0.1558 - accuracy: 0.946 - ETA: 10s - loss: 0.1553 - accuracy: 0.946 - ETA: 10s - loss: 0.1551 - accuracy: 0.946 - ETA: 10s - loss: 0.1557 - accuracy: 0.945 - ETA: 10s - loss: 0.1566 - accuracy: 0.945 - ETA: 10s - loss: 0.1563 - accuracy: 0.945 - ETA: 10s - loss: 0.1555 - accuracy: 0.946 - ETA: 10s - loss: 0.1552 - accuracy: 0.946 - ETA: 10s - loss: 0.1569 - accuracy: 0.945 - ETA: 10s - loss: 0.1571 - accuracy: 0.945 - ETA: 10s - loss: 0.1567 - accuracy: 0.945 - ETA: 10s - loss: 0.1571 - accuracy: 0.945 - ETA: 10s - loss: 0.1570 - accuracy: 0.946 - ETA: 10s - loss: 0.1567 - accuracy: 0.946 - ETA: 10s - loss: 0.1564 - accuracy: 0.946 - ETA: 10s - loss: 0.1561 - accuracy: 0.946 - ETA: 10s - loss: 0.1556 - accuracy: 0.946 - ETA: 10s - loss: 0.1552 - accuracy: 0.946 - ETA: 10s - loss: 0.1555 - accuracy: 0.946 - ETA: 10s - loss: 0.1556 - accuracy: 0.946 - ETA: 10s - loss: 0.1555 - accuracy: 0.946 - ETA: 10s - loss: 0.1552 - accuracy: 0.946 - ETA: 10s - loss: 0.1549 - accuracy: 0.947 - ETA: 10s - loss: 0.1541 - accuracy: 0.947 - ETA: 10s - loss: 0.1542 - accuracy: 0.946 - ETA: 10s - loss: 0.1535 - accuracy: 0.947 - ETA: 10s - loss: 0.1525 - accuracy: 0.947 - ETA: 10s - loss: 0.1525 - accuracy: 0.947 - ETA: 9s - loss: 0.1533 - accuracy: 0.947 - ETA: 9s - loss: 0.1526 - accuracy: 0.94 - ETA: 9s - loss: 0.1522 - accuracy: 0.94 - ETA: 9s - loss: 0.1522 - accuracy: 0.94 - ETA: 9s - loss: 0.1518 - accuracy: 0.94 - ETA: 9s - loss: 0.1513 - accuracy: 0.94 - ETA: 9s - loss: 0.1511 - accuracy: 0.94 - ETA: 9s - loss: 0.1510 - accuracy: 0.94 - ETA: 9s - loss: 0.1510 - accuracy: 0.94 - ETA: 9s - loss: 0.1509 - accuracy: 0.94 - ETA: 9s - loss: 0.1511 - accuracy: 0.94 - ETA: 9s - loss: 0.1511 - accuracy: 0.94 - ETA: 9s - loss: 0.1508 - accuracy: 0.94 - ETA: 9s - loss: 0.1510 - accuracy: 0.94 - ETA: 9s - loss: 0.1506 - accuracy: 0.94 - ETA: 9s - loss: 0.1506 - accuracy: 0.94 - ETA: 9s - loss: 0.1506 - accuracy: 0.94 - ETA: 9s - loss: 0.1507 - accuracy: 0.94 - ETA: 9s - loss: 0.1502 - accuracy: 0.94 - ETA: 9s - loss: 0.1506 - accuracy: 0.94 - ETA: 9s - loss: 0.1499 - accuracy: 0.94 - ETA: 9s - loss: 0.1506 - accuracy: 0.94 - ETA: 9s - loss: 0.1508 - accuracy: 0.94 - ETA: 9s - loss: 0.1515 - accuracy: 0.94 - ETA: 9s - loss: 0.1520 - accuracy: 0.94 - ETA: 9s - loss: 0.1517 - accuracy: 0.94 - ETA: 9s - loss: 0.1521 - accuracy: 0.94 - ETA: 9s - loss: 0.1522 - accuracy: 0.94 - ETA: 9s - loss: 0.1520 - accuracy: 0.94 - ETA: 9s - loss: 0.1517 - accuracy: 0.94 - ETA: 9s - loss: 0.1513 - accuracy: 0.94 - ETA: 9s - loss: 0.1513 - accuracy: 0.94 - ETA: 9s - loss: 0.1511 - accuracy: 0.94 - ETA: 9s - loss: 0.1515 - accuracy: 0.94 - ETA: 9s - loss: 0.1512 - accuracy: 0.94 - ETA: 9s - loss: 0.1510 - accuracy: 0.94 - ETA: 9s - loss: 0.1514 - accuracy: 0.94 - ETA: 9s - loss: 0.1510 - accuracy: 0.94 - ETA: 9s - loss: 0.1508 - accuracy: 0.94 - ETA: 9s - loss: 0.1503 - accuracy: 0.94 - ETA: 8s - loss: 0.1499 - accuracy: 0.94 - ETA: 8s - loss: 0.1497 - accuracy: 0.94 - ETA: 8s - loss: 0.1497 - accuracy: 0.94 - ETA: 8s - loss: 0.1493 - accuracy: 0.94 - ETA: 8s - loss: 0.1490 - accuracy: 0.94 - ETA: 8s - loss: 0.1484 - accuracy: 0.94 - ETA: 8s - loss: 0.1482 - accuracy: 0.94 - ETA: 8s - loss: 0.1480 - accuracy: 0.94 - ETA: 8s - loss: 0.1476 - accuracy: 0.94 - ETA: 8s - loss: 0.1470 - accuracy: 0.94 - ETA: 8s - loss: 0.1469 - accuracy: 0.94 - ETA: 8s - loss: 0.1471 - accuracy: 0.94 - ETA: 8s - loss: 0.1467 - accuracy: 0.94 - ETA: 8s - loss: 0.1463 - accuracy: 0.95 - ETA: 8s - loss: 0.1462 - accuracy: 0.95 - ETA: 8s - loss: 0.1462 - accuracy: 0.95 - ETA: 8s - loss: 0.1460 - accuracy: 0.95 - ETA: 8s - loss: 0.1455 - accuracy: 0.95 - ETA: 8s - loss: 0.1454 - accuracy: 0.95 - ETA: 7s - loss: 0.1458 - accuracy: 0.95 - ETA: 7s - loss: 0.1458 - accuracy: 0.95 - ETA: 7s - loss: 0.1457 - accuracy: 0.95 - ETA: 7s - loss: 0.1454 - accuracy: 0.95 - ETA: 7s - loss: 0.1458 - accuracy: 0.95 - ETA: 7s - loss: 0.1457 - accuracy: 0.95 - ETA: 7s - loss: 0.1460 - accuracy: 0.95 - ETA: 7s - loss: 0.1466 - accuracy: 0.95 - ETA: 7s - loss: 0.1464 - accuracy: 0.95 - ETA: 7s - loss: 0.1463 - accuracy: 0.95 - ETA: 7s - loss: 0.1462 - accuracy: 0.95 - ETA: 7s - loss: 0.1469 - accuracy: 0.95 - ETA: 7s - loss: 0.1464 - accuracy: 0.95 - ETA: 7s - loss: 0.1468 - accuracy: 0.95 - ETA: 7s - loss: 0.1466 - accuracy: 0.95 - ETA: 7s - loss: 0.1466 - accuracy: 0.95 - ETA: 7s - loss: 0.1469 - accuracy: 0.95 - ETA: 7s - loss: 0.1468 - accuracy: 0.95 - ETA: 6s - loss: 0.1465 - accuracy: 0.95 - ETA: 6s - loss: 0.1463 - accuracy: 0.95 - ETA: 6s - loss: 0.1457 - accuracy: 0.95 - ETA: 6s - loss: 0.1462 - accuracy: 0.95 - ETA: 6s - loss: 0.1462 - accuracy: 0.95 - ETA: 6s - loss: 0.1458 - accuracy: 0.95 - ETA: 6s - loss: 0.1460 - accuracy: 0.95 - ETA: 6s - loss: 0.1460 - accuracy: 0.95 - ETA: 6s - loss: 0.1458 - accuracy: 0.95 - ETA: 6s - loss: 0.1456 - accuracy: 0.95 - ETA: 6s - loss: 0.1458 - accuracy: 0.95 - ETA: 6s - loss: 0.1459 - accuracy: 0.95 - ETA: 6s - loss: 0.1458 - accuracy: 0.95 - ETA: 6s - loss: 0.1457 - accuracy: 0.95 - ETA: 6s - loss: 0.1454 - accuracy: 0.95 - ETA: 6s - loss: 0.1451 - accuracy: 0.9507"
     ]
    },
    {
     "name": "stdout",
     "output_type": "stream",
     "text": [
      "804/804 [==============================] - ETA: 5s - loss: 0.1449 - accuracy: 0.95 - ETA: 5s - loss: 0.1445 - accuracy: 0.95 - ETA: 5s - loss: 0.1449 - accuracy: 0.95 - ETA: 5s - loss: 0.1446 - accuracy: 0.95 - ETA: 5s - loss: 0.1445 - accuracy: 0.95 - ETA: 5s - loss: 0.1443 - accuracy: 0.95 - ETA: 5s - loss: 0.1440 - accuracy: 0.95 - ETA: 5s - loss: 0.1436 - accuracy: 0.95 - ETA: 5s - loss: 0.1442 - accuracy: 0.95 - ETA: 5s - loss: 0.1440 - accuracy: 0.95 - ETA: 5s - loss: 0.1440 - accuracy: 0.95 - ETA: 5s - loss: 0.1442 - accuracy: 0.95 - ETA: 5s - loss: 0.1441 - accuracy: 0.95 - ETA: 5s - loss: 0.1442 - accuracy: 0.95 - ETA: 5s - loss: 0.1440 - accuracy: 0.95 - ETA: 5s - loss: 0.1438 - accuracy: 0.95 - ETA: 5s - loss: 0.1433 - accuracy: 0.95 - ETA: 4s - loss: 0.1430 - accuracy: 0.95 - ETA: 4s - loss: 0.1426 - accuracy: 0.95 - ETA: 4s - loss: 0.1426 - accuracy: 0.95 - ETA: 4s - loss: 0.1424 - accuracy: 0.95 - ETA: 4s - loss: 0.1425 - accuracy: 0.95 - ETA: 4s - loss: 0.1425 - accuracy: 0.95 - ETA: 4s - loss: 0.1427 - accuracy: 0.95 - ETA: 4s - loss: 0.1421 - accuracy: 0.95 - ETA: 4s - loss: 0.1419 - accuracy: 0.95 - ETA: 4s - loss: 0.1417 - accuracy: 0.95 - ETA: 4s - loss: 0.1413 - accuracy: 0.95 - ETA: 4s - loss: 0.1410 - accuracy: 0.95 - ETA: 4s - loss: 0.1409 - accuracy: 0.95 - ETA: 4s - loss: 0.1407 - accuracy: 0.95 - ETA: 4s - loss: 0.1409 - accuracy: 0.95 - ETA: 4s - loss: 0.1406 - accuracy: 0.95 - ETA: 4s - loss: 0.1407 - accuracy: 0.95 - ETA: 4s - loss: 0.1406 - accuracy: 0.95 - ETA: 3s - loss: 0.1407 - accuracy: 0.95 - ETA: 3s - loss: 0.1408 - accuracy: 0.95 - ETA: 3s - loss: 0.1405 - accuracy: 0.95 - ETA: 3s - loss: 0.1401 - accuracy: 0.95 - ETA: 3s - loss: 0.1402 - accuracy: 0.95 - ETA: 3s - loss: 0.1407 - accuracy: 0.95 - ETA: 3s - loss: 0.1411 - accuracy: 0.95 - ETA: 3s - loss: 0.1413 - accuracy: 0.95 - ETA: 3s - loss: 0.1410 - accuracy: 0.95 - ETA: 3s - loss: 0.1410 - accuracy: 0.95 - ETA: 3s - loss: 0.1408 - accuracy: 0.95 - ETA: 3s - loss: 0.1404 - accuracy: 0.95 - ETA: 3s - loss: 0.1406 - accuracy: 0.95 - ETA: 3s - loss: 0.1404 - accuracy: 0.95 - ETA: 2s - loss: 0.1401 - accuracy: 0.95 - ETA: 2s - loss: 0.1402 - accuracy: 0.95 - ETA: 2s - loss: 0.1400 - accuracy: 0.95 - ETA: 2s - loss: 0.1400 - accuracy: 0.95 - ETA: 2s - loss: 0.1399 - accuracy: 0.95 - ETA: 2s - loss: 0.1399 - accuracy: 0.95 - ETA: 2s - loss: 0.1399 - accuracy: 0.95 - ETA: 2s - loss: 0.1396 - accuracy: 0.95 - ETA: 2s - loss: 0.1396 - accuracy: 0.95 - ETA: 2s - loss: 0.1393 - accuracy: 0.95 - ETA: 2s - loss: 0.1390 - accuracy: 0.95 - ETA: 2s - loss: 0.1387 - accuracy: 0.95 - ETA: 2s - loss: 0.1386 - accuracy: 0.95 - ETA: 2s - loss: 0.1385 - accuracy: 0.95 - ETA: 2s - loss: 0.1384 - accuracy: 0.95 - ETA: 1s - loss: 0.1390 - accuracy: 0.95 - ETA: 1s - loss: 0.1390 - accuracy: 0.95 - ETA: 1s - loss: 0.1389 - accuracy: 0.95 - ETA: 1s - loss: 0.1388 - accuracy: 0.95 - ETA: 1s - loss: 0.1390 - accuracy: 0.95 - ETA: 1s - loss: 0.1388 - accuracy: 0.95 - ETA: 1s - loss: 0.1389 - accuracy: 0.95 - ETA: 1s - loss: 0.1385 - accuracy: 0.95 - ETA: 1s - loss: 0.1386 - accuracy: 0.95 - ETA: 1s - loss: 0.1385 - accuracy: 0.95 - ETA: 1s - loss: 0.1385 - accuracy: 0.95 - ETA: 1s - loss: 0.1385 - accuracy: 0.95 - ETA: 1s - loss: 0.1384 - accuracy: 0.95 - ETA: 1s - loss: 0.1383 - accuracy: 0.95 - ETA: 1s - loss: 0.1379 - accuracy: 0.95 - ETA: 1s - loss: 0.1380 - accuracy: 0.95 - ETA: 1s - loss: 0.1380 - accuracy: 0.95 - ETA: 0s - loss: 0.1381 - accuracy: 0.95 - ETA: 0s - loss: 0.1381 - accuracy: 0.95 - ETA: 0s - loss: 0.1382 - accuracy: 0.95 - ETA: 0s - loss: 0.1380 - accuracy: 0.95 - ETA: 0s - loss: 0.1378 - accuracy: 0.95 - ETA: 0s - loss: 0.1377 - accuracy: 0.95 - ETA: 0s - loss: 0.1377 - accuracy: 0.95 - ETA: 0s - loss: 0.1377 - accuracy: 0.95 - ETA: 0s - loss: 0.1377 - accuracy: 0.95 - ETA: 0s - loss: 0.1374 - accuracy: 0.95 - ETA: 0s - loss: 0.1375 - accuracy: 0.95 - ETA: 0s - loss: 0.1373 - accuracy: 0.95 - ETA: 0s - loss: 0.1372 - accuracy: 0.95 - ETA: 0s - loss: 0.1375 - accuracy: 0.95 - 21s 26ms/step - loss: 0.1376 - accuracy: 0.9529 - val_loss: 0.7431 - val_accuracy: 0.5922\n"
     ]
    },
    {
     "data": {
      "text/html": [
       "<span style=\"color:#4527A0\"><h1 style=\"font-size:18px\">Trial complete</h1></span>"
      ],
      "text/plain": [
       "<IPython.core.display.HTML object>"
      ]
     },
     "metadata": {},
     "output_type": "display_data"
    },
    {
     "data": {
      "text/html": [
       "<span style=\"color:#4527A0\"><h1 style=\"font-size:18px\">Trial summary</h1></span>"
      ],
      "text/plain": [
       "<IPython.core.display.HTML object>"
      ]
     },
     "metadata": {},
     "output_type": "display_data"
    },
    {
     "data": {
      "text/html": [
       "<span style=\"color:cyan\"> |-Trial ID: 79c065f3a21565b37e641c8c95749682</span>"
      ],
      "text/plain": [
       "<IPython.core.display.HTML object>"
      ]
     },
     "metadata": {},
     "output_type": "display_data"
    },
    {
     "data": {
      "text/html": [
       "<span style=\"color:cyan\"> |-Score: 0.7786588668823242</span>"
      ],
      "text/plain": [
       "<IPython.core.display.HTML object>"
      ]
     },
     "metadata": {},
     "output_type": "display_data"
    },
    {
     "data": {
      "text/html": [
       "<span style=\"color:cyan\"> |-Best step: 0</span>"
      ],
      "text/plain": [
       "<IPython.core.display.HTML object>"
      ]
     },
     "metadata": {},
     "output_type": "display_data"
    },
    {
     "data": {
      "text/html": [
       "<span style=\"color:#7E57C2\"><h2 style=\"font-size:16px\">Hyperparameters:</h2></span>"
      ],
      "text/plain": [
       "<IPython.core.display.HTML object>"
      ]
     },
     "metadata": {},
     "output_type": "display_data"
    },
    {
     "data": {
      "text/html": [
       "<span style=\"color:cyan\"> |-activation: tanh</span>"
      ],
      "text/plain": [
       "<IPython.core.display.HTML object>"
      ]
     },
     "metadata": {},
     "output_type": "display_data"
    },
    {
     "data": {
      "text/html": [
       "<span style=\"color:blue\"> |-first_units: 70</span>"
      ],
      "text/plain": [
       "<IPython.core.display.HTML object>"
      ]
     },
     "metadata": {},
     "output_type": "display_data"
    },
    {
     "data": {
      "text/html": [
       "<span style=\"color:cyan\"> |-num_layers: 4</span>"
      ],
      "text/plain": [
       "<IPython.core.display.HTML object>"
      ]
     },
     "metadata": {},
     "output_type": "display_data"
    },
    {
     "data": {
      "text/html": [
       "<span style=\"color:blue\"> |-tuner/bracket: 1</span>"
      ],
      "text/plain": [
       "<IPython.core.display.HTML object>"
      ]
     },
     "metadata": {},
     "output_type": "display_data"
    },
    {
     "data": {
      "text/html": [
       "<span style=\"color:cyan\"> |-tuner/epochs: 2</span>"
      ],
      "text/plain": [
       "<IPython.core.display.HTML object>"
      ]
     },
     "metadata": {},
     "output_type": "display_data"
    },
    {
     "data": {
      "text/html": [
       "<span style=\"color:blue\"> |-tuner/initial_epoch: 0</span>"
      ],
      "text/plain": [
       "<IPython.core.display.HTML object>"
      ]
     },
     "metadata": {},
     "output_type": "display_data"
    },
    {
     "data": {
      "text/html": [
       "<span style=\"color:cyan\"> |-tuner/round: 0</span>"
      ],
      "text/plain": [
       "<IPython.core.display.HTML object>"
      ]
     },
     "metadata": {},
     "output_type": "display_data"
    },
    {
     "data": {
      "text/html": [
       "<span style=\"color:blue\"> |-units_0: 40</span>"
      ],
      "text/plain": [
       "<IPython.core.display.HTML object>"
      ]
     },
     "metadata": {},
     "output_type": "display_data"
    },
    {
     "data": {
      "text/html": [
       "<span style=\"color:cyan\"> |-units_1: 45</span>"
      ],
      "text/plain": [
       "<IPython.core.display.HTML object>"
      ]
     },
     "metadata": {},
     "output_type": "display_data"
    },
    {
     "data": {
      "text/html": [
       "<span style=\"color:blue\"> |-units_2: 20</span>"
      ],
      "text/plain": [
       "<IPython.core.display.HTML object>"
      ]
     },
     "metadata": {},
     "output_type": "display_data"
    },
    {
     "data": {
      "text/html": [
       "<span style=\"color:cyan\"> |-units_3: 10</span>"
      ],
      "text/plain": [
       "<IPython.core.display.HTML object>"
      ]
     },
     "metadata": {},
     "output_type": "display_data"
    },
    {
     "data": {
      "text/html": [
       "<span style=\"color:#4527A0\"><h1 style=\"font-size:18px\">Starting new trial</h1></span>"
      ],
      "text/plain": [
       "<IPython.core.display.HTML object>"
      ]
     },
     "metadata": {},
     "output_type": "display_data"
    },
    {
     "name": "stdout",
     "output_type": "stream",
     "text": [
      "Epoch 1/2\n",
      "804/804 [==============================] - ETA: 9:40 - loss: 0.7389 - accuracy: 0.40 - ETA: 8s - loss: 0.6942 - accuracy: 0.5052 - ETA: 10s - loss: 0.6752 - accuracy: 0.559 - ETA: 9s - loss: 0.6591 - accuracy: 0.581 - ETA: 7s - loss: 0.6329 - accuracy: 0.61 - ETA: 6s - loss: 0.6132 - accuracy: 0.63 - ETA: 6s - loss: 0.5973 - accuracy: 0.65 - ETA: 6s - loss: 0.5924 - accuracy: 0.66 - ETA: 5s - loss: 0.5810 - accuracy: 0.67 - ETA: 5s - loss: 0.5722 - accuracy: 0.68 - ETA: 5s - loss: 0.5706 - accuracy: 0.68 - ETA: 5s - loss: 0.5700 - accuracy: 0.68 - ETA: 5s - loss: 0.5672 - accuracy: 0.69 - ETA: 5s - loss: 0.5640 - accuracy: 0.70 - ETA: 5s - loss: 0.5659 - accuracy: 0.69 - ETA: 5s - loss: 0.5595 - accuracy: 0.70 - ETA: 5s - loss: 0.5540 - accuracy: 0.70 - ETA: 5s - loss: 0.5542 - accuracy: 0.70 - ETA: 5s - loss: 0.5509 - accuracy: 0.71 - ETA: 5s - loss: 0.5494 - accuracy: 0.71 - ETA: 5s - loss: 0.5466 - accuracy: 0.71 - ETA: 5s - loss: 0.5432 - accuracy: 0.71 - ETA: 5s - loss: 0.5426 - accuracy: 0.72 - ETA: 5s - loss: 0.5426 - accuracy: 0.72 - ETA: 5s - loss: 0.5434 - accuracy: 0.72 - ETA: 5s - loss: 0.5434 - accuracy: 0.72 - ETA: 5s - loss: 0.5410 - accuracy: 0.72 - ETA: 5s - loss: 0.5408 - accuracy: 0.72 - ETA: 5s - loss: 0.5383 - accuracy: 0.72 - ETA: 5s - loss: 0.5362 - accuracy: 0.72 - ETA: 5s - loss: 0.5332 - accuracy: 0.72 - ETA: 5s - loss: 0.5314 - accuracy: 0.73 - ETA: 5s - loss: 0.5308 - accuracy: 0.73 - ETA: 5s - loss: 0.5297 - accuracy: 0.73 - ETA: 5s - loss: 0.5271 - accuracy: 0.73 - ETA: 5s - loss: 0.5261 - accuracy: 0.73 - ETA: 5s - loss: 0.5273 - accuracy: 0.73 - ETA: 5s - loss: 0.5290 - accuracy: 0.73 - ETA: 5s - loss: 0.5284 - accuracy: 0.73 - ETA: 6s - loss: 0.5284 - accuracy: 0.73 - ETA: 6s - loss: 0.5283 - accuracy: 0.73 - ETA: 6s - loss: 0.5271 - accuracy: 0.73 - ETA: 6s - loss: 0.5252 - accuracy: 0.73 - ETA: 6s - loss: 0.5241 - accuracy: 0.73 - ETA: 6s - loss: 0.5223 - accuracy: 0.73 - ETA: 6s - loss: 0.5211 - accuracy: 0.73 - ETA: 6s - loss: 0.5209 - accuracy: 0.73 - ETA: 6s - loss: 0.5196 - accuracy: 0.73 - ETA: 5s - loss: 0.5183 - accuracy: 0.74 - ETA: 5s - loss: 0.5180 - accuracy: 0.74 - ETA: 5s - loss: 0.5173 - accuracy: 0.74 - ETA: 6s - loss: 0.5174 - accuracy: 0.74 - ETA: 6s - loss: 0.5167 - accuracy: 0.74 - ETA: 6s - loss: 0.5173 - accuracy: 0.74 - ETA: 6s - loss: 0.5168 - accuracy: 0.74 - ETA: 6s - loss: 0.5158 - accuracy: 0.74 - ETA: 5s - loss: 0.5150 - accuracy: 0.74 - ETA: 5s - loss: 0.5137 - accuracy: 0.74 - ETA: 5s - loss: 0.5137 - accuracy: 0.74 - ETA: 5s - loss: 0.5148 - accuracy: 0.74 - ETA: 5s - loss: 0.5137 - accuracy: 0.74 - ETA: 5s - loss: 0.5136 - accuracy: 0.74 - ETA: 5s - loss: 0.5127 - accuracy: 0.74 - ETA: 5s - loss: 0.5113 - accuracy: 0.74 - ETA: 5s - loss: 0.5112 - accuracy: 0.74 - ETA: 5s - loss: 0.5093 - accuracy: 0.74 - ETA: 5s - loss: 0.5084 - accuracy: 0.74 - ETA: 5s - loss: 0.5089 - accuracy: 0.74 - ETA: 5s - loss: 0.5095 - accuracy: 0.74 - ETA: 5s - loss: 0.5089 - accuracy: 0.74 - ETA: 5s - loss: 0.5092 - accuracy: 0.75 - ETA: 5s - loss: 0.5099 - accuracy: 0.74 - ETA: 5s - loss: 0.5098 - accuracy: 0.75 - ETA: 5s - loss: 0.5095 - accuracy: 0.75 - ETA: 5s - loss: 0.5094 - accuracy: 0.75 - ETA: 5s - loss: 0.5090 - accuracy: 0.75 - ETA: 5s - loss: 0.5091 - accuracy: 0.75 - ETA: 5s - loss: 0.5085 - accuracy: 0.75 - ETA: 5s - loss: 0.5080 - accuracy: 0.75 - ETA: 5s - loss: 0.5075 - accuracy: 0.75 - ETA: 5s - loss: 0.5069 - accuracy: 0.75 - ETA: 4s - loss: 0.5069 - accuracy: 0.75 - ETA: 4s - loss: 0.5068 - accuracy: 0.75 - ETA: 4s - loss: 0.5065 - accuracy: 0.75 - ETA: 4s - loss: 0.5064 - accuracy: 0.75 - ETA: 4s - loss: 0.5059 - accuracy: 0.75 - ETA: 4s - loss: 0.5057 - accuracy: 0.75 - ETA: 4s - loss: 0.5057 - accuracy: 0.75 - ETA: 4s - loss: 0.5054 - accuracy: 0.75 - ETA: 4s - loss: 0.5052 - accuracy: 0.75 - ETA: 4s - loss: 0.5046 - accuracy: 0.75 - ETA: 4s - loss: 0.5043 - accuracy: 0.75 - ETA: 4s - loss: 0.5038 - accuracy: 0.75 - ETA: 4s - loss: 0.5027 - accuracy: 0.75 - ETA: 4s - loss: 0.5023 - accuracy: 0.75 - ETA: 4s - loss: 0.5022 - accuracy: 0.75 - ETA: 4s - loss: 0.5020 - accuracy: 0.75 - ETA: 4s - loss: 0.5026 - accuracy: 0.75 - ETA: 4s - loss: 0.5021 - accuracy: 0.75 - ETA: 4s - loss: 0.5016 - accuracy: 0.75 - ETA: 4s - loss: 0.5007 - accuracy: 0.75 - ETA: 4s - loss: 0.5009 - accuracy: 0.75 - ETA: 4s - loss: 0.5002 - accuracy: 0.75 - ETA: 4s - loss: 0.4998 - accuracy: 0.75 - ETA: 3s - loss: 0.4998 - accuracy: 0.75 - ETA: 3s - loss: 0.5000 - accuracy: 0.75 - ETA: 3s - loss: 0.4997 - accuracy: 0.75 - ETA: 3s - loss: 0.4989 - accuracy: 0.75 - ETA: 3s - loss: 0.4988 - accuracy: 0.75 - ETA: 3s - loss: 0.4979 - accuracy: 0.75 - ETA: 3s - loss: 0.4978 - accuracy: 0.75 - ETA: 3s - loss: 0.4976 - accuracy: 0.75 - ETA: 3s - loss: 0.4973 - accuracy: 0.75 - ETA: 3s - loss: 0.4970 - accuracy: 0.75 - ETA: 3s - loss: 0.4964 - accuracy: 0.75 - ETA: 3s - loss: 0.4962 - accuracy: 0.75 - ETA: 3s - loss: 0.4963 - accuracy: 0.75 - ETA: 3s - loss: 0.4962 - accuracy: 0.75 - ETA: 3s - loss: 0.4964 - accuracy: 0.75 - ETA: 3s - loss: 0.4960 - accuracy: 0.75 - ETA: 3s - loss: 0.4961 - accuracy: 0.75 - ETA: 3s - loss: 0.4957 - accuracy: 0.75 - ETA: 3s - loss: 0.4952 - accuracy: 0.75 - ETA: 3s - loss: 0.4947 - accuracy: 0.75 - ETA: 3s - loss: 0.4945 - accuracy: 0.75 - ETA: 3s - loss: 0.4945 - accuracy: 0.75 - ETA: 3s - loss: 0.4942 - accuracy: 0.75 - ETA: 2s - loss: 0.4936 - accuracy: 0.76 - ETA: 2s - loss: 0.4930 - accuracy: 0.76 - ETA: 2s - loss: 0.4928 - accuracy: 0.76 - ETA: 2s - loss: 0.4931 - accuracy: 0.76 - ETA: 2s - loss: 0.4931 - accuracy: 0.76 - ETA: 2s - loss: 0.4925 - accuracy: 0.76 - ETA: 2s - loss: 0.4922 - accuracy: 0.76 - ETA: 2s - loss: 0.4921 - accuracy: 0.76 - ETA: 2s - loss: 0.4920 - accuracy: 0.76 - ETA: 2s - loss: 0.4918 - accuracy: 0.76 - ETA: 2s - loss: 0.4916 - accuracy: 0.76 - ETA: 2s - loss: 0.4919 - accuracy: 0.76 - ETA: 2s - loss: 0.4921 - accuracy: 0.76 - ETA: 2s - loss: 0.4921 - accuracy: 0.76 - ETA: 2s - loss: 0.4919 - accuracy: 0.76 - ETA: 2s - loss: 0.4915 - accuracy: 0.76 - ETA: 2s - loss: 0.4914 - accuracy: 0.76 - ETA: 2s - loss: 0.4910 - accuracy: 0.76 - ETA: 2s - loss: 0.4911 - accuracy: 0.76 - ETA: 2s - loss: 0.4907 - accuracy: 0.76 - ETA: 2s - loss: 0.4900 - accuracy: 0.76 - ETA: 2s - loss: 0.4899 - accuracy: 0.76 - ETA: 2s - loss: 0.4896 - accuracy: 0.76 - ETA: 2s - loss: 0.4894 - accuracy: 0.76 - ETA: 1s - loss: 0.4895 - accuracy: 0.76 - ETA: 1s - loss: 0.4894 - accuracy: 0.76 - ETA: 1s - loss: 0.4899 - accuracy: 0.76 - ETA: 1s - loss: 0.4895 - accuracy: 0.76 - ETA: 1s - loss: 0.4895 - accuracy: 0.76 - ETA: 1s - loss: 0.4893 - accuracy: 0.76 - ETA: 1s - loss: 0.4888 - accuracy: 0.76 - ETA: 1s - loss: 0.4885 - accuracy: 0.76 - ETA: 1s - loss: 0.4892 - accuracy: 0.76 - ETA: 1s - loss: 0.4888 - accuracy: 0.76 - ETA: 1s - loss: 0.4883 - accuracy: 0.76 - ETA: 1s - loss: 0.4884 - accuracy: 0.76 - ETA: 1s - loss: 0.4883 - accuracy: 0.76 - ETA: 1s - loss: 0.4883 - accuracy: 0.76 - ETA: 1s - loss: 0.4880 - accuracy: 0.76 - ETA: 1s - loss: 0.4882 - accuracy: 0.76 - ETA: 1s - loss: 0.4878 - accuracy: 0.76 - ETA: 1s - loss: 0.4875 - accuracy: 0.76 - ETA: 1s - loss: 0.4869 - accuracy: 0.76 - ETA: 1s - loss: 0.4866 - accuracy: 0.76 - ETA: 1s - loss: 0.4864 - accuracy: 0.76 - ETA: 0s - loss: 0.4863 - accuracy: 0.76 - ETA: 0s - loss: 0.4863 - accuracy: 0.76 - ETA: 0s - loss: 0.4860 - accuracy: 0.76 - ETA: 0s - loss: 0.4856 - accuracy: 0.76 - ETA: 0s - loss: 0.4851 - accuracy: 0.76 - ETA: 0s - loss: 0.4851 - accuracy: 0.76 - ETA: 0s - loss: 0.4849 - accuracy: 0.76 - ETA: 0s - loss: 0.4849 - accuracy: 0.76 - ETA: 0s - loss: 0.4848 - accuracy: 0.76 - ETA: 0s - loss: 0.4849 - accuracy: 0.76 - ETA: 0s - loss: 0.4847 - accuracy: 0.76 - ETA: 0s - loss: 0.4844 - accuracy: 0.76 - ETA: 0s - loss: 0.4842 - accuracy: 0.76 - ETA: 0s - loss: 0.4839 - accuracy: 0.76 - ETA: 0s - loss: 0.4840 - accuracy: 0.76 - ETA: 0s - loss: 0.4842 - accuracy: 0.76 - ETA: 0s - loss: 0.4840 - accuracy: 0.76 - ETA: 0s - loss: 0.4842 - accuracy: 0.76 - ETA: 0s - loss: 0.4836 - accuracy: 0.76 - 21s 25ms/step - loss: 0.4834 - accuracy: 0.7645 - val_loss: 0.4529 - val_accuracy: 0.7920\n",
      "Epoch 2/2\n"
     ]
    },
    {
     "name": "stdout",
     "output_type": "stream",
     "text": [
      "675/804 [========================>.....] - ETA: 7s - loss: 0.4384 - accuracy: 0.75 - ETA: 5s - loss: 0.2845 - accuracy: 0.85 - ETA: 6s - loss: 0.2535 - accuracy: 0.88 - ETA: 41s - loss: 0.2429 - accuracy: 0.889 - ETA: 29s - loss: 0.2121 - accuracy: 0.911 - ETA: 24s - loss: 0.1814 - accuracy: 0.927 - ETA: 20s - loss: 0.1767 - accuracy: 0.933 - ETA: 43s - loss: 0.1731 - accuracy: 0.935 - ETA: 38s - loss: 0.1698 - accuracy: 0.938 - ETA: 33s - loss: 0.1691 - accuracy: 0.940 - ETA: 30s - loss: 0.1691 - accuracy: 0.940 - ETA: 27s - loss: 0.1687 - accuracy: 0.940 - ETA: 25s - loss: 0.1622 - accuracy: 0.943 - ETA: 23s - loss: 0.1584 - accuracy: 0.945 - ETA: 22s - loss: 0.1493 - accuracy: 0.949 - ETA: 21s - loss: 0.1480 - accuracy: 0.949 - ETA: 20s - loss: 0.1506 - accuracy: 0.948 - ETA: 21s - loss: 0.1493 - accuracy: 0.948 - ETA: 21s - loss: 0.1480 - accuracy: 0.949 - ETA: 21s - loss: 0.1461 - accuracy: 0.950 - ETA: 21s - loss: 0.1449 - accuracy: 0.950 - ETA: 24s - loss: 0.1432 - accuracy: 0.951 - ETA: 24s - loss: 0.1425 - accuracy: 0.951 - ETA: 24s - loss: 0.1407 - accuracy: 0.953 - ETA: 23s - loss: 0.1425 - accuracy: 0.952 - ETA: 22s - loss: 0.1414 - accuracy: 0.953 - ETA: 22s - loss: 0.1421 - accuracy: 0.952 - ETA: 21s - loss: 0.1443 - accuracy: 0.951 - ETA: 20s - loss: 0.1429 - accuracy: 0.951 - ETA: 20s - loss: 0.1412 - accuracy: 0.952 - ETA: 19s - loss: 0.1423 - accuracy: 0.951 - ETA: 19s - loss: 0.1410 - accuracy: 0.952 - ETA: 18s - loss: 0.1414 - accuracy: 0.952 - ETA: 18s - loss: 0.1409 - accuracy: 0.952 - ETA: 18s - loss: 0.1412 - accuracy: 0.952 - ETA: 18s - loss: 0.1404 - accuracy: 0.952 - ETA: 18s - loss: 0.1405 - accuracy: 0.952 - ETA: 17s - loss: 0.1414 - accuracy: 0.952 - ETA: 17s - loss: 0.1419 - accuracy: 0.952 - ETA: 17s - loss: 0.1417 - accuracy: 0.952 - ETA: 17s - loss: 0.1411 - accuracy: 0.952 - ETA: 17s - loss: 0.1407 - accuracy: 0.952 - ETA: 17s - loss: 0.1408 - accuracy: 0.952 - ETA: 17s - loss: 0.1408 - accuracy: 0.952 - ETA: 17s - loss: 0.1417 - accuracy: 0.952 - ETA: 16s - loss: 0.1417 - accuracy: 0.951 - ETA: 16s - loss: 0.1415 - accuracy: 0.951 - ETA: 16s - loss: 0.1404 - accuracy: 0.952 - ETA: 16s - loss: 0.1401 - accuracy: 0.952 - ETA: 15s - loss: 0.1384 - accuracy: 0.953 - ETA: 15s - loss: 0.1374 - accuracy: 0.953 - ETA: 15s - loss: 0.1373 - accuracy: 0.953 - ETA: 14s - loss: 0.1372 - accuracy: 0.953 - ETA: 14s - loss: 0.1375 - accuracy: 0.953 - ETA: 14s - loss: 0.1391 - accuracy: 0.952 - ETA: 14s - loss: 0.1380 - accuracy: 0.952 - ETA: 14s - loss: 0.1377 - accuracy: 0.952 - ETA: 14s - loss: 0.1390 - accuracy: 0.952 - ETA: 13s - loss: 0.1384 - accuracy: 0.952 - ETA: 13s - loss: 0.1378 - accuracy: 0.952 - ETA: 13s - loss: 0.1372 - accuracy: 0.952 - ETA: 13s - loss: 0.1371 - accuracy: 0.953 - ETA: 13s - loss: 0.1366 - accuracy: 0.953 - ETA: 13s - loss: 0.1364 - accuracy: 0.953 - ETA: 12s - loss: 0.1358 - accuracy: 0.953 - ETA: 12s - loss: 0.1351 - accuracy: 0.953 - ETA: 12s - loss: 0.1355 - accuracy: 0.953 - ETA: 12s - loss: 0.1349 - accuracy: 0.953 - ETA: 12s - loss: 0.1351 - accuracy: 0.953 - ETA: 12s - loss: 0.1349 - accuracy: 0.953 - ETA: 12s - loss: 0.1347 - accuracy: 0.953 - ETA: 12s - loss: 0.1348 - accuracy: 0.953 - ETA: 12s - loss: 0.1338 - accuracy: 0.954 - ETA: 12s - loss: 0.1343 - accuracy: 0.953 - ETA: 11s - loss: 0.1341 - accuracy: 0.953 - ETA: 11s - loss: 0.1346 - accuracy: 0.953 - ETA: 11s - loss: 0.1341 - accuracy: 0.953 - ETA: 11s - loss: 0.1341 - accuracy: 0.953 - ETA: 11s - loss: 0.1339 - accuracy: 0.953 - ETA: 11s - loss: 0.1341 - accuracy: 0.953 - ETA: 11s - loss: 0.1335 - accuracy: 0.954 - ETA: 10s - loss: 0.1332 - accuracy: 0.954 - ETA: 10s - loss: 0.1333 - accuracy: 0.954 - ETA: 10s - loss: 0.1327 - accuracy: 0.954 - ETA: 10s - loss: 0.1330 - accuracy: 0.954 - ETA: 10s - loss: 0.1331 - accuracy: 0.954 - ETA: 10s - loss: 0.1339 - accuracy: 0.954 - ETA: 10s - loss: 0.1342 - accuracy: 0.954 - ETA: 10s - loss: 0.1343 - accuracy: 0.954 - ETA: 9s - loss: 0.1342 - accuracy: 0.954 - ETA: 9s - loss: 0.1339 - accuracy: 0.95 - ETA: 9s - loss: 0.1339 - accuracy: 0.95 - ETA: 9s - loss: 0.1340 - accuracy: 0.95 - ETA: 9s - loss: 0.1340 - accuracy: 0.95 - ETA: 9s - loss: 0.1338 - accuracy: 0.95 - ETA: 9s - loss: 0.1335 - accuracy: 0.95 - ETA: 9s - loss: 0.1330 - accuracy: 0.95 - ETA: 9s - loss: 0.1330 - accuracy: 0.95 - ETA: 9s - loss: 0.1324 - accuracy: 0.95 - ETA: 9s - loss: 0.1322 - accuracy: 0.95 - ETA: 9s - loss: 0.1320 - accuracy: 0.95 - ETA: 8s - loss: 0.1316 - accuracy: 0.95 - ETA: 8s - loss: 0.1314 - accuracy: 0.95 - ETA: 8s - loss: 0.1306 - accuracy: 0.95 - ETA: 8s - loss: 0.1301 - accuracy: 0.95 - ETA: 8s - loss: 0.1295 - accuracy: 0.95 - ETA: 8s - loss: 0.1296 - accuracy: 0.95 - ETA: 8s - loss: 0.1299 - accuracy: 0.95 - ETA: 8s - loss: 0.1298 - accuracy: 0.95 - ETA: 8s - loss: 0.1294 - accuracy: 0.95 - ETA: 8s - loss: 0.1288 - accuracy: 0.95 - ETA: 8s - loss: 0.1288 - accuracy: 0.95 - ETA: 8s - loss: 0.1283 - accuracy: 0.95 - ETA: 7s - loss: 0.1287 - accuracy: 0.95 - ETA: 7s - loss: 0.1287 - accuracy: 0.95 - ETA: 7s - loss: 0.1281 - accuracy: 0.95 - ETA: 7s - loss: 0.1282 - accuracy: 0.95 - ETA: 7s - loss: 0.1286 - accuracy: 0.95 - ETA: 7s - loss: 0.1289 - accuracy: 0.95 - ETA: 7s - loss: 0.1288 - accuracy: 0.95 - ETA: 7s - loss: 0.1290 - accuracy: 0.95 - ETA: 7s - loss: 0.1291 - accuracy: 0.95 - ETA: 7s - loss: 0.1302 - accuracy: 0.95 - ETA: 7s - loss: 0.1302 - accuracy: 0.95 - ETA: 7s - loss: 0.1309 - accuracy: 0.95 - ETA: 6s - loss: 0.1310 - accuracy: 0.95 - ETA: 6s - loss: 0.1314 - accuracy: 0.95 - ETA: 6s - loss: 0.1315 - accuracy: 0.95 - ETA: 6s - loss: 0.1315 - accuracy: 0.95 - ETA: 6s - loss: 0.1315 - accuracy: 0.95 - ETA: 6s - loss: 0.1314 - accuracy: 0.95 - ETA: 6s - loss: 0.1316 - accuracy: 0.95 - ETA: 6s - loss: 0.1321 - accuracy: 0.95 - ETA: 6s - loss: 0.1317 - accuracy: 0.95 - ETA: 6s - loss: 0.1313 - accuracy: 0.95 - ETA: 6s - loss: 0.1316 - accuracy: 0.95 - ETA: 6s - loss: 0.1321 - accuracy: 0.95 - ETA: 6s - loss: 0.1317 - accuracy: 0.95 - ETA: 6s - loss: 0.1317 - accuracy: 0.95 - ETA: 6s - loss: 0.1316 - accuracy: 0.95 - ETA: 6s - loss: 0.1319 - accuracy: 0.95 - ETA: 5s - loss: 0.1320 - accuracy: 0.95 - ETA: 5s - loss: 0.1315 - accuracy: 0.95 - ETA: 5s - loss: 0.1315 - accuracy: 0.95 - ETA: 5s - loss: 0.1312 - accuracy: 0.95 - ETA: 5s - loss: 0.1312 - accuracy: 0.95 - ETA: 5s - loss: 0.1311 - accuracy: 0.95 - ETA: 5s - loss: 0.1310 - accuracy: 0.95 - ETA: 5s - loss: 0.1312 - accuracy: 0.95 - ETA: 5s - loss: 0.1317 - accuracy: 0.95 - ETA: 5s - loss: 0.1319 - accuracy: 0.95 - ETA: 5s - loss: 0.1317 - accuracy: 0.95 - ETA: 5s - loss: 0.1317 - accuracy: 0.95 - ETA: 5s - loss: 0.1317 - accuracy: 0.95 - ETA: 5s - loss: 0.1315 - accuracy: 0.95 - ETA: 4s - loss: 0.1314 - accuracy: 0.95 - ETA: 4s - loss: 0.1309 - accuracy: 0.95 - ETA: 4s - loss: 0.1305 - accuracy: 0.95 - ETA: 4s - loss: 0.1309 - accuracy: 0.95 - ETA: 5s - loss: 0.1308 - accuracy: 0.95 - ETA: 4s - loss: 0.1314 - accuracy: 0.95 - ETA: 4s - loss: 0.1313 - accuracy: 0.95 - ETA: 4s - loss: 0.1313 - accuracy: 0.95 - ETA: 4s - loss: 0.1309 - accuracy: 0.95 - ETA: 4s - loss: 0.1308 - accuracy: 0.95 - ETA: 4s - loss: 0.1309 - accuracy: 0.95 - ETA: 4s - loss: 0.1313 - accuracy: 0.95 - ETA: 4s - loss: 0.1310 - accuracy: 0.95 - ETA: 4s - loss: 0.1305 - accuracy: 0.95 - ETA: 4s - loss: 0.1306 - accuracy: 0.95 - ETA: 4s - loss: 0.1305 - accuracy: 0.95 - ETA: 4s - loss: 0.1303 - accuracy: 0.95 - ETA: 3s - loss: 0.1305 - accuracy: 0.95 - ETA: 3s - loss: 0.1304 - accuracy: 0.95 - ETA: 3s - loss: 0.1307 - accuracy: 0.95 - ETA: 3s - loss: 0.1307 - accuracy: 0.95 - ETA: 3s - loss: 0.1310 - accuracy: 0.95 - ETA: 3s - loss: 0.1308 - accuracy: 0.95 - ETA: 3s - loss: 0.1308 - accuracy: 0.95 - ETA: 3s - loss: 0.1304 - accuracy: 0.95 - ETA: 3s - loss: 0.1307 - accuracy: 0.95 - ETA: 3s - loss: 0.1313 - accuracy: 0.95 - ETA: 3s - loss: 0.1310 - accuracy: 0.95 - ETA: 3s - loss: 0.1314 - accuracy: 0.95 - ETA: 3s - loss: 0.1315 - accuracy: 0.95 - ETA: 2s - loss: 0.1314 - accuracy: 0.95 - ETA: 2s - loss: 0.1310 - accuracy: 0.95 - ETA: 2s - loss: 0.1305 - accuracy: 0.95 - ETA: 2s - loss: 0.1302 - accuracy: 0.95 - ETA: 2s - loss: 0.1306 - accuracy: 0.9550"
     ]
    },
    {
     "name": "stdout",
     "output_type": "stream",
     "text": [
      "804/804 [==============================] - ETA: 2s - loss: 0.1309 - accuracy: 0.95 - ETA: 2s - loss: 0.1307 - accuracy: 0.95 - ETA: 2s - loss: 0.1305 - accuracy: 0.95 - ETA: 2s - loss: 0.1306 - accuracy: 0.95 - ETA: 2s - loss: 0.1308 - accuracy: 0.95 - ETA: 2s - loss: 0.1305 - accuracy: 0.95 - ETA: 2s - loss: 0.1305 - accuracy: 0.95 - ETA: 2s - loss: 0.1303 - accuracy: 0.95 - ETA: 1s - loss: 0.1302 - accuracy: 0.95 - ETA: 1s - loss: 0.1300 - accuracy: 0.95 - ETA: 1s - loss: 0.1303 - accuracy: 0.95 - ETA: 1s - loss: 0.1304 - accuracy: 0.95 - ETA: 1s - loss: 0.1302 - accuracy: 0.95 - ETA: 1s - loss: 0.1303 - accuracy: 0.95 - ETA: 1s - loss: 0.1302 - accuracy: 0.95 - ETA: 1s - loss: 0.1305 - accuracy: 0.95 - ETA: 1s - loss: 0.1302 - accuracy: 0.95 - ETA: 1s - loss: 0.1302 - accuracy: 0.95 - ETA: 1s - loss: 0.1303 - accuracy: 0.95 - ETA: 1s - loss: 0.1300 - accuracy: 0.95 - ETA: 1s - loss: 0.1299 - accuracy: 0.95 - ETA: 1s - loss: 0.1300 - accuracy: 0.95 - ETA: 0s - loss: 0.1298 - accuracy: 0.95 - ETA: 0s - loss: 0.1295 - accuracy: 0.95 - ETA: 0s - loss: 0.1296 - accuracy: 0.95 - ETA: 0s - loss: 0.1293 - accuracy: 0.95 - ETA: 0s - loss: 0.1292 - accuracy: 0.95 - ETA: 0s - loss: 0.1290 - accuracy: 0.95 - ETA: 0s - loss: 0.1287 - accuracy: 0.95 - ETA: 0s - loss: 0.1285 - accuracy: 0.95 - ETA: 0s - loss: 0.1285 - accuracy: 0.95 - ETA: 0s - loss: 0.1282 - accuracy: 0.95 - ETA: 0s - loss: 0.1281 - accuracy: 0.95 - ETA: 0s - loss: 0.1280 - accuracy: 0.95 - ETA: 0s - loss: 0.1284 - accuracy: 0.95 - ETA: 0s - loss: 0.1282 - accuracy: 0.95 - ETA: 0s - loss: 0.1279 - accuracy: 0.95 - ETA: 0s - loss: 0.1277 - accuracy: 0.95 - 17s 22ms/step - loss: 0.1277 - accuracy: 0.9555 - val_loss: 0.5217 - val_accuracy: 0.7107\n"
     ]
    },
    {
     "data": {
      "text/html": [
       "<span style=\"color:#4527A0\"><h1 style=\"font-size:18px\">Trial complete</h1></span>"
      ],
      "text/plain": [
       "<IPython.core.display.HTML object>"
      ]
     },
     "metadata": {},
     "output_type": "display_data"
    },
    {
     "data": {
      "text/html": [
       "<span style=\"color:#4527A0\"><h1 style=\"font-size:18px\">Trial summary</h1></span>"
      ],
      "text/plain": [
       "<IPython.core.display.HTML object>"
      ]
     },
     "metadata": {},
     "output_type": "display_data"
    },
    {
     "data": {
      "text/html": [
       "<span style=\"color:cyan\"> |-Trial ID: 9a035d7ca2a803ba20f5f2ed3a96f439</span>"
      ],
      "text/plain": [
       "<IPython.core.display.HTML object>"
      ]
     },
     "metadata": {},
     "output_type": "display_data"
    },
    {
     "data": {
      "text/html": [
       "<span style=\"color:cyan\"> |-Score: 0.7919533252716064</span>"
      ],
      "text/plain": [
       "<IPython.core.display.HTML object>"
      ]
     },
     "metadata": {},
     "output_type": "display_data"
    },
    {
     "data": {
      "text/html": [
       "<span style=\"color:cyan\"> |-Best step: 0</span>"
      ],
      "text/plain": [
       "<IPython.core.display.HTML object>"
      ]
     },
     "metadata": {},
     "output_type": "display_data"
    },
    {
     "data": {
      "text/html": [
       "<span style=\"color:#7E57C2\"><h2 style=\"font-size:16px\">Hyperparameters:</h2></span>"
      ],
      "text/plain": [
       "<IPython.core.display.HTML object>"
      ]
     },
     "metadata": {},
     "output_type": "display_data"
    },
    {
     "data": {
      "text/html": [
       "<span style=\"color:cyan\"> |-activation: tanh</span>"
      ],
      "text/plain": [
       "<IPython.core.display.HTML object>"
      ]
     },
     "metadata": {},
     "output_type": "display_data"
    },
    {
     "data": {
      "text/html": [
       "<span style=\"color:blue\"> |-first_units: 70</span>"
      ],
      "text/plain": [
       "<IPython.core.display.HTML object>"
      ]
     },
     "metadata": {},
     "output_type": "display_data"
    },
    {
     "data": {
      "text/html": [
       "<span style=\"color:cyan\"> |-num_layers: 4</span>"
      ],
      "text/plain": [
       "<IPython.core.display.HTML object>"
      ]
     },
     "metadata": {},
     "output_type": "display_data"
    },
    {
     "data": {
      "text/html": [
       "<span style=\"color:blue\"> |-tuner/bracket: 1</span>"
      ],
      "text/plain": [
       "<IPython.core.display.HTML object>"
      ]
     },
     "metadata": {},
     "output_type": "display_data"
    },
    {
     "data": {
      "text/html": [
       "<span style=\"color:cyan\"> |-tuner/epochs: 2</span>"
      ],
      "text/plain": [
       "<IPython.core.display.HTML object>"
      ]
     },
     "metadata": {},
     "output_type": "display_data"
    },
    {
     "data": {
      "text/html": [
       "<span style=\"color:blue\"> |-tuner/initial_epoch: 0</span>"
      ],
      "text/plain": [
       "<IPython.core.display.HTML object>"
      ]
     },
     "metadata": {},
     "output_type": "display_data"
    },
    {
     "data": {
      "text/html": [
       "<span style=\"color:cyan\"> |-tuner/round: 0</span>"
      ],
      "text/plain": [
       "<IPython.core.display.HTML object>"
      ]
     },
     "metadata": {},
     "output_type": "display_data"
    },
    {
     "data": {
      "text/html": [
       "<span style=\"color:blue\"> |-units_0: 20</span>"
      ],
      "text/plain": [
       "<IPython.core.display.HTML object>"
      ]
     },
     "metadata": {},
     "output_type": "display_data"
    },
    {
     "data": {
      "text/html": [
       "<span style=\"color:cyan\"> |-units_1: 30</span>"
      ],
      "text/plain": [
       "<IPython.core.display.HTML object>"
      ]
     },
     "metadata": {},
     "output_type": "display_data"
    },
    {
     "data": {
      "text/html": [
       "<span style=\"color:blue\"> |-units_2: 40</span>"
      ],
      "text/plain": [
       "<IPython.core.display.HTML object>"
      ]
     },
     "metadata": {},
     "output_type": "display_data"
    },
    {
     "data": {
      "text/html": [
       "<span style=\"color:cyan\"> |-units_3: 35</span>"
      ],
      "text/plain": [
       "<IPython.core.display.HTML object>"
      ]
     },
     "metadata": {},
     "output_type": "display_data"
    },
    {
     "data": {
      "text/html": [
       "<span style=\"color:#4527A0\"><h1 style=\"font-size:18px\">Starting new trial</h1></span>"
      ],
      "text/plain": [
       "<IPython.core.display.HTML object>"
      ]
     },
     "metadata": {},
     "output_type": "display_data"
    },
    {
     "name": "stdout",
     "output_type": "stream",
     "text": [
      "Epoch 3/5\n",
      "804/804 [==============================] - ETA: 7:04 - loss: 0.7340 - accuracy: 0.25 - ETA: 3s - loss: 0.6347 - accuracy: 0.6302 - ETA: 3s - loss: 0.6332 - accuracy: 0.63 - ETA: 3s - loss: 0.6241 - accuracy: 0.63 - ETA: 3s - loss: 0.6104 - accuracy: 0.65 - ETA: 3s - loss: 0.6014 - accuracy: 0.66 - ETA: 3s - loss: 0.5877 - accuracy: 0.67 - ETA: 3s - loss: 0.5816 - accuracy: 0.68 - ETA: 3s - loss: 0.5745 - accuracy: 0.69 - ETA: 3s - loss: 0.5678 - accuracy: 0.70 - ETA: 3s - loss: 0.5626 - accuracy: 0.70 - ETA: 3s - loss: 0.5567 - accuracy: 0.70 - ETA: 3s - loss: 0.5517 - accuracy: 0.71 - ETA: 3s - loss: 0.5494 - accuracy: 0.71 - ETA: 3s - loss: 0.5447 - accuracy: 0.72 - ETA: 3s - loss: 0.5404 - accuracy: 0.72 - ETA: 3s - loss: 0.5368 - accuracy: 0.72 - ETA: 3s - loss: 0.5357 - accuracy: 0.72 - ETA: 3s - loss: 0.5343 - accuracy: 0.72 - ETA: 3s - loss: 0.5310 - accuracy: 0.73 - ETA: 3s - loss: 0.5318 - accuracy: 0.73 - ETA: 3s - loss: 0.5314 - accuracy: 0.73 - ETA: 3s - loss: 0.5295 - accuracy: 0.73 - ETA: 3s - loss: 0.5266 - accuracy: 0.73 - ETA: 3s - loss: 0.5232 - accuracy: 0.73 - ETA: 3s - loss: 0.5229 - accuracy: 0.73 - ETA: 3s - loss: 0.5207 - accuracy: 0.74 - ETA: 3s - loss: 0.5193 - accuracy: 0.74 - ETA: 3s - loss: 0.5197 - accuracy: 0.74 - ETA: 3s - loss: 0.5185 - accuracy: 0.74 - ETA: 3s - loss: 0.5175 - accuracy: 0.74 - ETA: 3s - loss: 0.5156 - accuracy: 0.74 - ETA: 2s - loss: 0.5154 - accuracy: 0.74 - ETA: 2s - loss: 0.5141 - accuracy: 0.74 - ETA: 2s - loss: 0.5131 - accuracy: 0.74 - ETA: 2s - loss: 0.5110 - accuracy: 0.74 - ETA: 2s - loss: 0.5106 - accuracy: 0.74 - ETA: 2s - loss: 0.5102 - accuracy: 0.74 - ETA: 2s - loss: 0.5102 - accuracy: 0.74 - ETA: 2s - loss: 0.5093 - accuracy: 0.74 - ETA: 2s - loss: 0.5080 - accuracy: 0.74 - ETA: 2s - loss: 0.5073 - accuracy: 0.74 - ETA: 2s - loss: 0.5064 - accuracy: 0.74 - ETA: 2s - loss: 0.5067 - accuracy: 0.74 - ETA: 2s - loss: 0.5073 - accuracy: 0.74 - ETA: 2s - loss: 0.5068 - accuracy: 0.74 - ETA: 2s - loss: 0.5050 - accuracy: 0.75 - ETA: 2s - loss: 0.5043 - accuracy: 0.75 - ETA: 2s - loss: 0.5036 - accuracy: 0.75 - ETA: 2s - loss: 0.5026 - accuracy: 0.75 - ETA: 2s - loss: 0.5016 - accuracy: 0.75 - ETA: 2s - loss: 0.5021 - accuracy: 0.75 - ETA: 2s - loss: 0.5018 - accuracy: 0.75 - ETA: 2s - loss: 0.5013 - accuracy: 0.75 - ETA: 2s - loss: 0.5012 - accuracy: 0.75 - ETA: 2s - loss: 0.5003 - accuracy: 0.75 - ETA: 2s - loss: 0.5003 - accuracy: 0.75 - ETA: 2s - loss: 0.5003 - accuracy: 0.75 - ETA: 2s - loss: 0.4997 - accuracy: 0.75 - ETA: 2s - loss: 0.4991 - accuracy: 0.75 - ETA: 2s - loss: 0.4981 - accuracy: 0.75 - ETA: 2s - loss: 0.4981 - accuracy: 0.75 - ETA: 2s - loss: 0.4982 - accuracy: 0.75 - ETA: 2s - loss: 0.4981 - accuracy: 0.75 - ETA: 2s - loss: 0.4980 - accuracy: 0.75 - ETA: 2s - loss: 0.4987 - accuracy: 0.75 - ETA: 2s - loss: 0.4983 - accuracy: 0.75 - ETA: 2s - loss: 0.4977 - accuracy: 0.75 - ETA: 2s - loss: 0.4976 - accuracy: 0.75 - ETA: 2s - loss: 0.4974 - accuracy: 0.75 - ETA: 2s - loss: 0.4972 - accuracy: 0.75 - ETA: 2s - loss: 0.4963 - accuracy: 0.75 - ETA: 2s - loss: 0.4959 - accuracy: 0.75 - ETA: 2s - loss: 0.4958 - accuracy: 0.75 - ETA: 2s - loss: 0.4954 - accuracy: 0.75 - ETA: 2s - loss: 0.4944 - accuracy: 0.75 - ETA: 2s - loss: 0.4936 - accuracy: 0.75 - ETA: 2s - loss: 0.4936 - accuracy: 0.75 - ETA: 2s - loss: 0.4934 - accuracy: 0.75 - ETA: 2s - loss: 0.4938 - accuracy: 0.75 - ETA: 2s - loss: 0.4934 - accuracy: 0.75 - ETA: 2s - loss: 0.4935 - accuracy: 0.75 - ETA: 2s - loss: 0.4933 - accuracy: 0.75 - ETA: 2s - loss: 0.4928 - accuracy: 0.75 - ETA: 1s - loss: 0.4927 - accuracy: 0.75 - ETA: 1s - loss: 0.4920 - accuracy: 0.76 - ETA: 1s - loss: 0.4915 - accuracy: 0.76 - ETA: 1s - loss: 0.4920 - accuracy: 0.76 - ETA: 1s - loss: 0.4921 - accuracy: 0.76 - ETA: 1s - loss: 0.4920 - accuracy: 0.76 - ETA: 1s - loss: 0.4922 - accuracy: 0.76 - ETA: 1s - loss: 0.4921 - accuracy: 0.76 - ETA: 1s - loss: 0.4920 - accuracy: 0.76 - ETA: 1s - loss: 0.4925 - accuracy: 0.75 - ETA: 1s - loss: 0.4928 - accuracy: 0.75 - ETA: 1s - loss: 0.4930 - accuracy: 0.75 - ETA: 1s - loss: 0.4925 - accuracy: 0.75 - ETA: 1s - loss: 0.4921 - accuracy: 0.75 - ETA: 1s - loss: 0.4919 - accuracy: 0.75 - ETA: 1s - loss: 0.4920 - accuracy: 0.75 - ETA: 1s - loss: 0.4915 - accuracy: 0.76 - ETA: 1s - loss: 0.4911 - accuracy: 0.76 - ETA: 1s - loss: 0.4908 - accuracy: 0.76 - ETA: 1s - loss: 0.4903 - accuracy: 0.76 - ETA: 1s - loss: 0.4904 - accuracy: 0.76 - ETA: 1s - loss: 0.4904 - accuracy: 0.76 - ETA: 1s - loss: 0.4900 - accuracy: 0.76 - ETA: 1s - loss: 0.4901 - accuracy: 0.76 - ETA: 1s - loss: 0.4896 - accuracy: 0.76 - ETA: 1s - loss: 0.4891 - accuracy: 0.76 - ETA: 1s - loss: 0.4891 - accuracy: 0.76 - ETA: 1s - loss: 0.4894 - accuracy: 0.76 - ETA: 1s - loss: 0.4893 - accuracy: 0.76 - ETA: 1s - loss: 0.4892 - accuracy: 0.76 - ETA: 1s - loss: 0.4886 - accuracy: 0.76 - ETA: 1s - loss: 0.4887 - accuracy: 0.76 - ETA: 0s - loss: 0.4890 - accuracy: 0.76 - ETA: 0s - loss: 0.4887 - accuracy: 0.76 - ETA: 0s - loss: 0.4882 - accuracy: 0.76 - ETA: 0s - loss: 0.4883 - accuracy: 0.76 - ETA: 0s - loss: 0.4881 - accuracy: 0.76 - ETA: 0s - loss: 0.4881 - accuracy: 0.76 - ETA: 0s - loss: 0.4879 - accuracy: 0.76 - ETA: 0s - loss: 0.4875 - accuracy: 0.76 - ETA: 0s - loss: 0.4872 - accuracy: 0.76 - ETA: 0s - loss: 0.4869 - accuracy: 0.76 - ETA: 0s - loss: 0.4868 - accuracy: 0.76 - ETA: 0s - loss: 0.4869 - accuracy: 0.76 - ETA: 0s - loss: 0.4868 - accuracy: 0.76 - ETA: 0s - loss: 0.4869 - accuracy: 0.76 - ETA: 0s - loss: 0.4867 - accuracy: 0.76 - ETA: 0s - loss: 0.4866 - accuracy: 0.76 - ETA: 0s - loss: 0.4861 - accuracy: 0.76 - ETA: 0s - loss: 0.4856 - accuracy: 0.76 - ETA: 0s - loss: 0.4852 - accuracy: 0.76 - ETA: 0s - loss: 0.4847 - accuracy: 0.76 - ETA: 0s - loss: 0.4844 - accuracy: 0.76 - ETA: 0s - loss: 0.4842 - accuracy: 0.76 - ETA: 0s - loss: 0.4842 - accuracy: 0.76 - ETA: 0s - loss: 0.4836 - accuracy: 0.76 - ETA: 0s - loss: 0.4838 - accuracy: 0.76 - ETA: 0s - loss: 0.4839 - accuracy: 0.76 - ETA: 0s - loss: 0.4833 - accuracy: 0.76 - ETA: 0s - loss: 0.4830 - accuracy: 0.76 - 17s 20ms/step - loss: 0.4832 - accuracy: 0.7647 - val_loss: 0.4761 - val_accuracy: 0.7918\n",
      "Epoch 4/5\n"
     ]
    },
    {
     "name": "stdout",
     "output_type": "stream",
     "text": [
      "680/804 [========================>.....] - ETA: 7s - loss: 0.1918 - accuracy: 0.96 - ETA: 5s - loss: 0.2733 - accuracy: 0.87 - ETA: 5s - loss: 0.2526 - accuracy: 0.87 - ETA: 5s - loss: 0.2419 - accuracy: 0.88 - ETA: 5s - loss: 0.2187 - accuracy: 0.90 - ETA: 5s - loss: 0.2007 - accuracy: 0.91 - ETA: 5s - loss: 0.2015 - accuracy: 0.92 - ETA: 5s - loss: 0.1922 - accuracy: 0.92 - ETA: 5s - loss: 0.1869 - accuracy: 0.93 - ETA: 5s - loss: 0.1831 - accuracy: 0.93 - ETA: 5s - loss: 0.1884 - accuracy: 0.93 - ETA: 5s - loss: 0.1883 - accuracy: 0.93 - ETA: 5s - loss: 0.1864 - accuracy: 0.93 - ETA: 5s - loss: 0.1843 - accuracy: 0.93 - ETA: 5s - loss: 0.1809 - accuracy: 0.93 - ETA: 5s - loss: 0.1774 - accuracy: 0.93 - ETA: 5s - loss: 0.1749 - accuracy: 0.93 - ETA: 5s - loss: 0.1749 - accuracy: 0.93 - ETA: 5s - loss: 0.1743 - accuracy: 0.93 - ETA: 5s - loss: 0.1729 - accuracy: 0.94 - ETA: 5s - loss: 0.1704 - accuracy: 0.94 - ETA: 5s - loss: 0.1665 - accuracy: 0.94 - ETA: 5s - loss: 0.1637 - accuracy: 0.94 - ETA: 5s - loss: 0.1629 - accuracy: 0.94 - ETA: 5s - loss: 0.1623 - accuracy: 0.94 - ETA: 5s - loss: 0.1606 - accuracy: 0.94 - ETA: 5s - loss: 0.1586 - accuracy: 0.94 - ETA: 5s - loss: 0.1575 - accuracy: 0.94 - ETA: 5s - loss: 0.1581 - accuracy: 0.94 - ETA: 5s - loss: 0.1571 - accuracy: 0.94 - ETA: 5s - loss: 0.1574 - accuracy: 0.94 - ETA: 5s - loss: 0.1549 - accuracy: 0.94 - ETA: 5s - loss: 0.1540 - accuracy: 0.94 - ETA: 5s - loss: 0.1530 - accuracy: 0.94 - ETA: 5s - loss: 0.1519 - accuracy: 0.94 - ETA: 5s - loss: 0.1515 - accuracy: 0.94 - ETA: 5s - loss: 0.1530 - accuracy: 0.94 - ETA: 5s - loss: 0.1531 - accuracy: 0.94 - ETA: 5s - loss: 0.1530 - accuracy: 0.94 - ETA: 5s - loss: 0.1541 - accuracy: 0.94 - ETA: 5s - loss: 0.1522 - accuracy: 0.94 - ETA: 5s - loss: 0.1523 - accuracy: 0.94 - ETA: 5s - loss: 0.1516 - accuracy: 0.94 - ETA: 5s - loss: 0.1505 - accuracy: 0.94 - ETA: 5s - loss: 0.1505 - accuracy: 0.94 - ETA: 5s - loss: 0.1505 - accuracy: 0.94 - ETA: 5s - loss: 0.1498 - accuracy: 0.94 - ETA: 5s - loss: 0.1492 - accuracy: 0.94 - ETA: 5s - loss: 0.1494 - accuracy: 0.94 - ETA: 5s - loss: 0.1499 - accuracy: 0.94 - ETA: 5s - loss: 0.1493 - accuracy: 0.94 - ETA: 5s - loss: 0.1489 - accuracy: 0.94 - ETA: 5s - loss: 0.1486 - accuracy: 0.95 - ETA: 5s - loss: 0.1492 - accuracy: 0.95 - ETA: 5s - loss: 0.1486 - accuracy: 0.95 - ETA: 5s - loss: 0.1486 - accuracy: 0.95 - ETA: 5s - loss: 0.1480 - accuracy: 0.95 - ETA: 5s - loss: 0.1472 - accuracy: 0.95 - ETA: 5s - loss: 0.1472 - accuracy: 0.95 - ETA: 5s - loss: 0.1474 - accuracy: 0.95 - ETA: 5s - loss: 0.1468 - accuracy: 0.95 - ETA: 5s - loss: 0.1462 - accuracy: 0.95 - ETA: 5s - loss: 0.1466 - accuracy: 0.95 - ETA: 5s - loss: 0.1456 - accuracy: 0.95 - ETA: 5s - loss: 0.1451 - accuracy: 0.95 - ETA: 5s - loss: 0.1454 - accuracy: 0.95 - ETA: 5s - loss: 0.1452 - accuracy: 0.95 - ETA: 5s - loss: 0.1447 - accuracy: 0.95 - ETA: 5s - loss: 0.1444 - accuracy: 0.95 - ETA: 5s - loss: 0.1438 - accuracy: 0.95 - ETA: 5s - loss: 0.1443 - accuracy: 0.95 - ETA: 5s - loss: 0.1441 - accuracy: 0.95 - ETA: 5s - loss: 0.1435 - accuracy: 0.95 - ETA: 5s - loss: 0.1430 - accuracy: 0.95 - ETA: 5s - loss: 0.1425 - accuracy: 0.95 - ETA: 5s - loss: 0.1423 - accuracy: 0.95 - ETA: 5s - loss: 0.1417 - accuracy: 0.95 - ETA: 5s - loss: 0.1422 - accuracy: 0.95 - ETA: 5s - loss: 0.1419 - accuracy: 0.95 - ETA: 5s - loss: 0.1417 - accuracy: 0.95 - ETA: 5s - loss: 0.1411 - accuracy: 0.95 - ETA: 5s - loss: 0.1415 - accuracy: 0.95 - ETA: 5s - loss: 0.1408 - accuracy: 0.95 - ETA: 5s - loss: 0.1411 - accuracy: 0.95 - ETA: 5s - loss: 0.1415 - accuracy: 0.95 - ETA: 5s - loss: 0.1414 - accuracy: 0.95 - ETA: 5s - loss: 0.1420 - accuracy: 0.95 - ETA: 5s - loss: 0.1422 - accuracy: 0.95 - ETA: 5s - loss: 0.1414 - accuracy: 0.95 - ETA: 5s - loss: 0.1407 - accuracy: 0.95 - ETA: 5s - loss: 0.1411 - accuracy: 0.95 - ETA: 5s - loss: 0.1406 - accuracy: 0.95 - ETA: 5s - loss: 0.1404 - accuracy: 0.95 - ETA: 5s - loss: 0.1406 - accuracy: 0.95 - ETA: 5s - loss: 0.1407 - accuracy: 0.95 - ETA: 5s - loss: 0.1412 - accuracy: 0.95 - ETA: 5s - loss: 0.1404 - accuracy: 0.95 - ETA: 5s - loss: 0.1404 - accuracy: 0.95 - ETA: 5s - loss: 0.1404 - accuracy: 0.95 - ETA: 5s - loss: 0.1405 - accuracy: 0.95 - ETA: 5s - loss: 0.1410 - accuracy: 0.95 - ETA: 5s - loss: 0.1406 - accuracy: 0.95 - ETA: 5s - loss: 0.1404 - accuracy: 0.95 - ETA: 5s - loss: 0.1399 - accuracy: 0.95 - ETA: 5s - loss: 0.1400 - accuracy: 0.95 - ETA: 5s - loss: 0.1400 - accuracy: 0.95 - ETA: 5s - loss: 0.1403 - accuracy: 0.95 - ETA: 5s - loss: 0.1401 - accuracy: 0.95 - ETA: 5s - loss: 0.1400 - accuracy: 0.95 - ETA: 5s - loss: 0.1397 - accuracy: 0.95 - ETA: 5s - loss: 0.1390 - accuracy: 0.95 - ETA: 5s - loss: 0.1382 - accuracy: 0.95 - ETA: 5s - loss: 0.1381 - accuracy: 0.95 - ETA: 5s - loss: 0.1378 - accuracy: 0.95 - ETA: 5s - loss: 0.1374 - accuracy: 0.95 - ETA: 5s - loss: 0.1377 - accuracy: 0.95 - ETA: 5s - loss: 0.1377 - accuracy: 0.95 - ETA: 5s - loss: 0.1377 - accuracy: 0.95 - ETA: 5s - loss: 0.1380 - accuracy: 0.95 - ETA: 5s - loss: 0.1377 - accuracy: 0.95 - ETA: 5s - loss: 0.1381 - accuracy: 0.95 - ETA: 5s - loss: 0.1374 - accuracy: 0.95 - ETA: 4s - loss: 0.1373 - accuracy: 0.95 - ETA: 4s - loss: 0.1368 - accuracy: 0.95 - ETA: 4s - loss: 0.1367 - accuracy: 0.95 - ETA: 4s - loss: 0.1363 - accuracy: 0.95 - ETA: 4s - loss: 0.1360 - accuracy: 0.95 - ETA: 4s - loss: 0.1358 - accuracy: 0.95 - ETA: 4s - loss: 0.1361 - accuracy: 0.95 - ETA: 4s - loss: 0.1361 - accuracy: 0.95 - ETA: 4s - loss: 0.1363 - accuracy: 0.95 - ETA: 4s - loss: 0.1361 - accuracy: 0.95 - ETA: 4s - loss: 0.1365 - accuracy: 0.95 - ETA: 4s - loss: 0.1365 - accuracy: 0.95 - ETA: 4s - loss: 0.1364 - accuracy: 0.95 - ETA: 4s - loss: 0.1365 - accuracy: 0.95 - ETA: 4s - loss: 0.1363 - accuracy: 0.95 - ETA: 4s - loss: 0.1361 - accuracy: 0.95 - ETA: 4s - loss: 0.1365 - accuracy: 0.95 - ETA: 4s - loss: 0.1367 - accuracy: 0.95 - ETA: 4s - loss: 0.1368 - accuracy: 0.95 - ETA: 3s - loss: 0.1366 - accuracy: 0.95 - ETA: 3s - loss: 0.1363 - accuracy: 0.95 - ETA: 3s - loss: 0.1359 - accuracy: 0.95 - ETA: 3s - loss: 0.1355 - accuracy: 0.95 - ETA: 3s - loss: 0.1354 - accuracy: 0.95 - ETA: 3s - loss: 0.1357 - accuracy: 0.95 - ETA: 3s - loss: 0.1355 - accuracy: 0.95 - ETA: 3s - loss: 0.1356 - accuracy: 0.95 - ETA: 3s - loss: 0.1358 - accuracy: 0.95 - ETA: 3s - loss: 0.1356 - accuracy: 0.95 - ETA: 3s - loss: 0.1355 - accuracy: 0.95 - ETA: 3s - loss: 0.1354 - accuracy: 0.95 - ETA: 3s - loss: 0.1355 - accuracy: 0.95 - ETA: 3s - loss: 0.1355 - accuracy: 0.95 - ETA: 3s - loss: 0.1352 - accuracy: 0.95 - ETA: 3s - loss: 0.1350 - accuracy: 0.95 - ETA: 3s - loss: 0.1350 - accuracy: 0.95 - ETA: 3s - loss: 0.1352 - accuracy: 0.95 - ETA: 3s - loss: 0.1349 - accuracy: 0.95 - ETA: 3s - loss: 0.1349 - accuracy: 0.95 - ETA: 3s - loss: 0.1347 - accuracy: 0.95 - ETA: 3s - loss: 0.1348 - accuracy: 0.95 - ETA: 3s - loss: 0.1348 - accuracy: 0.95 - ETA: 3s - loss: 0.1348 - accuracy: 0.95 - ETA: 3s - loss: 0.1349 - accuracy: 0.95 - ETA: 3s - loss: 0.1349 - accuracy: 0.95 - ETA: 3s - loss: 0.1347 - accuracy: 0.95 - ETA: 3s - loss: 0.1346 - accuracy: 0.95 - ETA: 3s - loss: 0.1345 - accuracy: 0.95 - ETA: 3s - loss: 0.1344 - accuracy: 0.95 - ETA: 3s - loss: 0.1343 - accuracy: 0.95 - ETA: 3s - loss: 0.1343 - accuracy: 0.95 - ETA: 2s - loss: 0.1341 - accuracy: 0.95 - ETA: 2s - loss: 0.1345 - accuracy: 0.95 - ETA: 2s - loss: 0.1344 - accuracy: 0.95 - ETA: 2s - loss: 0.1345 - accuracy: 0.95 - ETA: 2s - loss: 0.1346 - accuracy: 0.95 - ETA: 2s - loss: 0.1343 - accuracy: 0.95 - ETA: 2s - loss: 0.1340 - accuracy: 0.95 - ETA: 2s - loss: 0.1340 - accuracy: 0.95 - ETA: 2s - loss: 0.1338 - accuracy: 0.95 - ETA: 2s - loss: 0.1341 - accuracy: 0.95 - ETA: 2s - loss: 0.1344 - accuracy: 0.95 - ETA: 2s - loss: 0.1343 - accuracy: 0.95 - ETA: 2s - loss: 0.1341 - accuracy: 0.95 - ETA: 2s - loss: 0.1340 - accuracy: 0.95 - ETA: 2s - loss: 0.1344 - accuracy: 0.95 - ETA: 2s - loss: 0.1346 - accuracy: 0.95 - ETA: 2s - loss: 0.1345 - accuracy: 0.95 - ETA: 2s - loss: 0.1345 - accuracy: 0.95 - ETA: 2s - loss: 0.1342 - accuracy: 0.95 - ETA: 2s - loss: 0.1343 - accuracy: 0.95 - ETA: 2s - loss: 0.1342 - accuracy: 0.95 - ETA: 2s - loss: 0.1341 - accuracy: 0.9542"
     ]
    },
    {
     "name": "stdout",
     "output_type": "stream",
     "text": [
      "804/804 [==============================] - ETA: 2s - loss: 0.1342 - accuracy: 0.95 - ETA: 2s - loss: 0.1341 - accuracy: 0.95 - ETA: 2s - loss: 0.1342 - accuracy: 0.95 - ETA: 1s - loss: 0.1340 - accuracy: 0.95 - ETA: 1s - loss: 0.1341 - accuracy: 0.95 - ETA: 1s - loss: 0.1339 - accuracy: 0.95 - ETA: 1s - loss: 0.1340 - accuracy: 0.95 - ETA: 1s - loss: 0.1340 - accuracy: 0.95 - ETA: 1s - loss: 0.1338 - accuracy: 0.95 - ETA: 1s - loss: 0.1337 - accuracy: 0.95 - ETA: 1s - loss: 0.1337 - accuracy: 0.95 - ETA: 1s - loss: 0.1335 - accuracy: 0.95 - ETA: 1s - loss: 0.1332 - accuracy: 0.95 - ETA: 1s - loss: 0.1328 - accuracy: 0.95 - ETA: 1s - loss: 0.1328 - accuracy: 0.95 - ETA: 1s - loss: 0.1330 - accuracy: 0.95 - ETA: 1s - loss: 0.1333 - accuracy: 0.95 - ETA: 1s - loss: 0.1332 - accuracy: 0.95 - ETA: 1s - loss: 0.1333 - accuracy: 0.95 - ETA: 1s - loss: 0.1331 - accuracy: 0.95 - ETA: 1s - loss: 0.1331 - accuracy: 0.95 - ETA: 1s - loss: 0.1333 - accuracy: 0.95 - ETA: 1s - loss: 0.1333 - accuracy: 0.95 - ETA: 1s - loss: 0.1329 - accuracy: 0.95 - ETA: 1s - loss: 0.1332 - accuracy: 0.95 - ETA: 0s - loss: 0.1335 - accuracy: 0.95 - ETA: 0s - loss: 0.1333 - accuracy: 0.95 - ETA: 0s - loss: 0.1330 - accuracy: 0.95 - ETA: 0s - loss: 0.1332 - accuracy: 0.95 - ETA: 0s - loss: 0.1332 - accuracy: 0.95 - ETA: 0s - loss: 0.1332 - accuracy: 0.95 - ETA: 0s - loss: 0.1330 - accuracy: 0.95 - ETA: 0s - loss: 0.1330 - accuracy: 0.95 - ETA: 0s - loss: 0.1326 - accuracy: 0.95 - ETA: 0s - loss: 0.1322 - accuracy: 0.95 - ETA: 0s - loss: 0.1321 - accuracy: 0.95 - ETA: 0s - loss: 0.1323 - accuracy: 0.95 - ETA: 0s - loss: 0.1325 - accuracy: 0.95 - ETA: 0s - loss: 0.1327 - accuracy: 0.95 - ETA: 0s - loss: 0.1324 - accuracy: 0.95 - ETA: 0s - loss: 0.1321 - accuracy: 0.95 - ETA: 0s - loss: 0.1318 - accuracy: 0.95 - ETA: 0s - loss: 0.1315 - accuracy: 0.95 - 16s 20ms/step - loss: 0.1315 - accuracy: 0.9550 - val_loss: 0.6357 - val_accuracy: 0.6128\n",
      "Epoch 5/5\n"
     ]
    },
    {
     "name": "stdout",
     "output_type": "stream",
     "text": [
      "750/804 [==========================>...] - ETA: 15s - loss: 0.0683 - accuracy: 0.968 - ETA: 10s - loss: 0.0889 - accuracy: 0.968 - ETA: 10s - loss: 0.0778 - accuracy: 0.972 - ETA: 10s - loss: 0.0727 - accuracy: 0.973 - ETA: 11s - loss: 0.0851 - accuracy: 0.968 - ETA: 10s - loss: 0.0861 - accuracy: 0.968 - ETA: 10s - loss: 0.0864 - accuracy: 0.970 - ETA: 10s - loss: 0.0822 - accuracy: 0.970 - ETA: 9s - loss: 0.0814 - accuracy: 0.970 - ETA: 9s - loss: 0.0811 - accuracy: 0.97 - ETA: 9s - loss: 0.0818 - accuracy: 0.96 - ETA: 9s - loss: 0.0799 - accuracy: 0.97 - ETA: 9s - loss: 0.0888 - accuracy: 0.96 - ETA: 9s - loss: 0.0904 - accuracy: 0.96 - ETA: 9s - loss: 0.0891 - accuracy: 0.96 - ETA: 9s - loss: 0.0875 - accuracy: 0.96 - ETA: 9s - loss: 0.0896 - accuracy: 0.96 - ETA: 9s - loss: 0.0907 - accuracy: 0.96 - ETA: 9s - loss: 0.0915 - accuracy: 0.96 - ETA: 9s - loss: 0.0937 - accuracy: 0.96 - ETA: 9s - loss: 0.0930 - accuracy: 0.96 - ETA: 9s - loss: 0.0920 - accuracy: 0.96 - ETA: 9s - loss: 0.0941 - accuracy: 0.96 - ETA: 9s - loss: 0.0939 - accuracy: 0.96 - ETA: 9s - loss: 0.0939 - accuracy: 0.96 - ETA: 9s - loss: 0.0955 - accuracy: 0.96 - ETA: 9s - loss: 0.0952 - accuracy: 0.96 - ETA: 9s - loss: 0.0984 - accuracy: 0.96 - ETA: 9s - loss: 0.0970 - accuracy: 0.96 - ETA: 9s - loss: 0.0968 - accuracy: 0.96 - ETA: 9s - loss: 0.0973 - accuracy: 0.96 - ETA: 8s - loss: 0.0976 - accuracy: 0.96 - ETA: 8s - loss: 0.0983 - accuracy: 0.96 - ETA: 8s - loss: 0.0980 - accuracy: 0.96 - ETA: 8s - loss: 0.0981 - accuracy: 0.96 - ETA: 8s - loss: 0.0989 - accuracy: 0.96 - ETA: 8s - loss: 0.0983 - accuracy: 0.96 - ETA: 8s - loss: 0.0972 - accuracy: 0.96 - ETA: 8s - loss: 0.0982 - accuracy: 0.96 - ETA: 8s - loss: 0.0991 - accuracy: 0.96 - ETA: 8s - loss: 0.0990 - accuracy: 0.96 - ETA: 8s - loss: 0.0988 - accuracy: 0.96 - ETA: 8s - loss: 0.0986 - accuracy: 0.96 - ETA: 8s - loss: 0.0988 - accuracy: 0.96 - ETA: 8s - loss: 0.0999 - accuracy: 0.96 - ETA: 8s - loss: 0.0995 - accuracy: 0.96 - ETA: 8s - loss: 0.0989 - accuracy: 0.96 - ETA: 8s - loss: 0.0993 - accuracy: 0.96 - ETA: 8s - loss: 0.0980 - accuracy: 0.96 - ETA: 8s - loss: 0.0977 - accuracy: 0.96 - ETA: 8s - loss: 0.0979 - accuracy: 0.96 - ETA: 8s - loss: 0.0971 - accuracy: 0.96 - ETA: 8s - loss: 0.0969 - accuracy: 0.96 - ETA: 8s - loss: 0.0965 - accuracy: 0.96 - ETA: 8s - loss: 0.0967 - accuracy: 0.96 - ETA: 8s - loss: 0.0969 - accuracy: 0.96 - ETA: 8s - loss: 0.0972 - accuracy: 0.96 - ETA: 8s - loss: 0.0966 - accuracy: 0.96 - ETA: 8s - loss: 0.0957 - accuracy: 0.96 - ETA: 8s - loss: 0.0964 - accuracy: 0.96 - ETA: 8s - loss: 0.0972 - accuracy: 0.96 - ETA: 8s - loss: 0.0970 - accuracy: 0.96 - ETA: 7s - loss: 0.0970 - accuracy: 0.96 - ETA: 7s - loss: 0.0968 - accuracy: 0.96 - ETA: 7s - loss: 0.0971 - accuracy: 0.96 - ETA: 7s - loss: 0.0973 - accuracy: 0.96 - ETA: 7s - loss: 0.0971 - accuracy: 0.96 - ETA: 7s - loss: 0.0974 - accuracy: 0.96 - ETA: 7s - loss: 0.0968 - accuracy: 0.96 - ETA: 7s - loss: 0.0963 - accuracy: 0.96 - ETA: 7s - loss: 0.0956 - accuracy: 0.96 - ETA: 7s - loss: 0.0952 - accuracy: 0.96 - ETA: 7s - loss: 0.0944 - accuracy: 0.96 - ETA: 7s - loss: 0.0948 - accuracy: 0.96 - ETA: 7s - loss: 0.0948 - accuracy: 0.96 - ETA: 7s - loss: 0.0941 - accuracy: 0.96 - ETA: 7s - loss: 0.0933 - accuracy: 0.96 - ETA: 7s - loss: 0.0934 - accuracy: 0.96 - ETA: 7s - loss: 0.0924 - accuracy: 0.96 - ETA: 6s - loss: 0.0917 - accuracy: 0.96 - ETA: 6s - loss: 0.0915 - accuracy: 0.96 - ETA: 6s - loss: 0.0922 - accuracy: 0.96 - ETA: 6s - loss: 0.0931 - accuracy: 0.96 - ETA: 6s - loss: 0.0935 - accuracy: 0.96 - ETA: 6s - loss: 0.0939 - accuracy: 0.96 - ETA: 6s - loss: 0.0952 - accuracy: 0.96 - ETA: 6s - loss: 0.0952 - accuracy: 0.96 - ETA: 6s - loss: 0.0950 - accuracy: 0.96 - ETA: 6s - loss: 0.0947 - accuracy: 0.96 - ETA: 6s - loss: 0.0950 - accuracy: 0.96 - ETA: 6s - loss: 0.0951 - accuracy: 0.96 - ETA: 6s - loss: 0.0950 - accuracy: 0.96 - ETA: 6s - loss: 0.0952 - accuracy: 0.96 - ETA: 6s - loss: 0.0954 - accuracy: 0.96 - ETA: 6s - loss: 0.0957 - accuracy: 0.96 - ETA: 6s - loss: 0.0957 - accuracy: 0.96 - ETA: 6s - loss: 0.0960 - accuracy: 0.96 - ETA: 5s - loss: 0.0964 - accuracy: 0.96 - ETA: 5s - loss: 0.0967 - accuracy: 0.96 - ETA: 5s - loss: 0.0962 - accuracy: 0.96 - ETA: 5s - loss: 0.0960 - accuracy: 0.96 - ETA: 5s - loss: 0.0959 - accuracy: 0.96 - ETA: 5s - loss: 0.0961 - accuracy: 0.96 - ETA: 5s - loss: 0.0965 - accuracy: 0.96 - ETA: 5s - loss: 0.0964 - accuracy: 0.96 - ETA: 5s - loss: 0.0971 - accuracy: 0.96 - ETA: 5s - loss: 0.0965 - accuracy: 0.96 - ETA: 5s - loss: 0.0967 - accuracy: 0.96 - ETA: 5s - loss: 0.0964 - accuracy: 0.96 - ETA: 5s - loss: 0.0959 - accuracy: 0.96 - ETA: 5s - loss: 0.0956 - accuracy: 0.96 - ETA: 5s - loss: 0.0955 - accuracy: 0.96 - ETA: 5s - loss: 0.0954 - accuracy: 0.96 - ETA: 4s - loss: 0.0962 - accuracy: 0.96 - ETA: 4s - loss: 0.0962 - accuracy: 0.96 - ETA: 4s - loss: 0.0960 - accuracy: 0.96 - ETA: 4s - loss: 0.0957 - accuracy: 0.96 - ETA: 4s - loss: 0.0957 - accuracy: 0.96 - ETA: 4s - loss: 0.0967 - accuracy: 0.96 - ETA: 4s - loss: 0.0965 - accuracy: 0.96 - ETA: 4s - loss: 0.0963 - accuracy: 0.96 - ETA: 4s - loss: 0.0960 - accuracy: 0.96 - ETA: 4s - loss: 0.0960 - accuracy: 0.96 - ETA: 4s - loss: 0.0962 - accuracy: 0.96 - ETA: 4s - loss: 0.0965 - accuracy: 0.96 - ETA: 4s - loss: 0.0971 - accuracy: 0.96 - ETA: 4s - loss: 0.0973 - accuracy: 0.96 - ETA: 4s - loss: 0.0975 - accuracy: 0.96 - ETA: 4s - loss: 0.0975 - accuracy: 0.96 - ETA: 3s - loss: 0.0977 - accuracy: 0.96 - ETA: 3s - loss: 0.0976 - accuracy: 0.96 - ETA: 3s - loss: 0.0976 - accuracy: 0.96 - ETA: 3s - loss: 0.0975 - accuracy: 0.96 - ETA: 3s - loss: 0.0979 - accuracy: 0.96 - ETA: 3s - loss: 0.0977 - accuracy: 0.96 - ETA: 3s - loss: 0.0985 - accuracy: 0.96 - ETA: 3s - loss: 0.0988 - accuracy: 0.96 - ETA: 3s - loss: 0.0986 - accuracy: 0.96 - ETA: 3s - loss: 0.0990 - accuracy: 0.96 - ETA: 3s - loss: 0.0990 - accuracy: 0.96 - ETA: 3s - loss: 0.0990 - accuracy: 0.96 - ETA: 3s - loss: 0.0990 - accuracy: 0.96 - ETA: 3s - loss: 0.0991 - accuracy: 0.96 - ETA: 3s - loss: 0.0988 - accuracy: 0.96 - ETA: 3s - loss: 0.0989 - accuracy: 0.96 - ETA: 3s - loss: 0.0992 - accuracy: 0.96 - ETA: 3s - loss: 0.0991 - accuracy: 0.96 - ETA: 3s - loss: 0.0991 - accuracy: 0.96 - ETA: 3s - loss: 0.0990 - accuracy: 0.96 - ETA: 2s - loss: 0.0989 - accuracy: 0.96 - ETA: 2s - loss: 0.0989 - accuracy: 0.96 - ETA: 2s - loss: 0.0989 - accuracy: 0.96 - ETA: 2s - loss: 0.0988 - accuracy: 0.96 - ETA: 2s - loss: 0.0989 - accuracy: 0.96 - ETA: 2s - loss: 0.0988 - accuracy: 0.96 - ETA: 2s - loss: 0.0988 - accuracy: 0.96 - ETA: 2s - loss: 0.0988 - accuracy: 0.96 - ETA: 2s - loss: 0.0993 - accuracy: 0.96 - ETA: 2s - loss: 0.0992 - accuracy: 0.96 - ETA: 2s - loss: 0.0989 - accuracy: 0.96 - ETA: 2s - loss: 0.0991 - accuracy: 0.96 - ETA: 2s - loss: 0.0992 - accuracy: 0.96 - ETA: 2s - loss: 0.0997 - accuracy: 0.96 - ETA: 2s - loss: 0.0999 - accuracy: 0.96 - ETA: 2s - loss: 0.0998 - accuracy: 0.96 - ETA: 2s - loss: 0.0996 - accuracy: 0.96 - ETA: 2s - loss: 0.0995 - accuracy: 0.96 - ETA: 2s - loss: 0.0993 - accuracy: 0.96 - ETA: 2s - loss: 0.0992 - accuracy: 0.96 - ETA: 2s - loss: 0.0992 - accuracy: 0.96 - ETA: 2s - loss: 0.0994 - accuracy: 0.96 - ETA: 1s - loss: 0.0994 - accuracy: 0.96 - ETA: 1s - loss: 0.0995 - accuracy: 0.96 - ETA: 1s - loss: 0.0996 - accuracy: 0.96 - ETA: 1s - loss: 0.0995 - accuracy: 0.96 - ETA: 1s - loss: 0.0997 - accuracy: 0.96 - ETA: 1s - loss: 0.1001 - accuracy: 0.96 - ETA: 1s - loss: 0.1002 - accuracy: 0.96 - ETA: 1s - loss: 0.1003 - accuracy: 0.96 - ETA: 1s - loss: 0.1002 - accuracy: 0.96 - ETA: 1s - loss: 0.1001 - accuracy: 0.96 - ETA: 1s - loss: 0.1002 - accuracy: 0.96 - ETA: 1s - loss: 0.1004 - accuracy: 0.96 - ETA: 1s - loss: 0.1004 - accuracy: 0.96 - ETA: 1s - loss: 0.1002 - accuracy: 0.96 - ETA: 1s - loss: 0.1000 - accuracy: 0.96 - ETA: 1s - loss: 0.0998 - accuracy: 0.96 - ETA: 1s - loss: 0.0996 - accuracy: 0.96 - ETA: 1s - loss: 0.0998 - accuracy: 0.96 - ETA: 1s - loss: 0.0996 - accuracy: 0.96 - ETA: 0s - loss: 0.1002 - accuracy: 0.96 - ETA: 0s - loss: 0.1001 - accuracy: 0.96 - ETA: 0s - loss: 0.1002 - accuracy: 0.96 - ETA: 0s - loss: 0.1003 - accuracy: 0.9620"
     ]
    },
    {
     "name": "stdout",
     "output_type": "stream",
     "text": [
      "804/804 [==============================] - ETA: 0s - loss: 0.1004 - accuracy: 0.96 - ETA: 0s - loss: 0.1002 - accuracy: 0.96 - ETA: 0s - loss: 0.1001 - accuracy: 0.96 - ETA: 0s - loss: 0.1001 - accuracy: 0.96 - ETA: 0s - loss: 0.1001 - accuracy: 0.96 - ETA: 0s - loss: 0.1000 - accuracy: 0.96 - ETA: 0s - loss: 0.1003 - accuracy: 0.96 - ETA: 0s - loss: 0.1002 - accuracy: 0.96 - ETA: 0s - loss: 0.1002 - accuracy: 0.96 - ETA: 0s - loss: 0.0999 - accuracy: 0.96 - ETA: 0s - loss: 0.1001 - accuracy: 0.96 - ETA: 0s - loss: 0.0998 - accuracy: 0.96 - ETA: 0s - loss: 0.0998 - accuracy: 0.96 - ETA: 0s - loss: 0.0999 - accuracy: 0.96 - 13s 16ms/step - loss: 0.0999 - accuracy: 0.9622 - val_loss: 0.6956 - val_accuracy: 0.5871\n"
     ]
    },
    {
     "data": {
      "text/html": [
       "<span style=\"color:#4527A0\"><h1 style=\"font-size:18px\">Trial complete</h1></span>"
      ],
      "text/plain": [
       "<IPython.core.display.HTML object>"
      ]
     },
     "metadata": {},
     "output_type": "display_data"
    },
    {
     "data": {
      "text/html": [
       "<span style=\"color:#4527A0\"><h1 style=\"font-size:18px\">Trial summary</h1></span>"
      ],
      "text/plain": [
       "<IPython.core.display.HTML object>"
      ]
     },
     "metadata": {},
     "output_type": "display_data"
    },
    {
     "data": {
      "text/html": [
       "<span style=\"color:cyan\"> |-Trial ID: 2aaacf59cd15f8e2379c5841fbe12ae1</span>"
      ],
      "text/plain": [
       "<IPython.core.display.HTML object>"
      ]
     },
     "metadata": {},
     "output_type": "display_data"
    },
    {
     "data": {
      "text/html": [
       "<span style=\"color:cyan\"> |-Score: 0.7918367385864258</span>"
      ],
      "text/plain": [
       "<IPython.core.display.HTML object>"
      ]
     },
     "metadata": {},
     "output_type": "display_data"
    },
    {
     "data": {
      "text/html": [
       "<span style=\"color:cyan\"> |-Best step: 0</span>"
      ],
      "text/plain": [
       "<IPython.core.display.HTML object>"
      ]
     },
     "metadata": {},
     "output_type": "display_data"
    },
    {
     "data": {
      "text/html": [
       "<span style=\"color:#7E57C2\"><h2 style=\"font-size:16px\">Hyperparameters:</h2></span>"
      ],
      "text/plain": [
       "<IPython.core.display.HTML object>"
      ]
     },
     "metadata": {},
     "output_type": "display_data"
    },
    {
     "data": {
      "text/html": [
       "<span style=\"color:cyan\"> |-activation: tanh</span>"
      ],
      "text/plain": [
       "<IPython.core.display.HTML object>"
      ]
     },
     "metadata": {},
     "output_type": "display_data"
    },
    {
     "data": {
      "text/html": [
       "<span style=\"color:blue\"> |-first_units: 70</span>"
      ],
      "text/plain": [
       "<IPython.core.display.HTML object>"
      ]
     },
     "metadata": {},
     "output_type": "display_data"
    },
    {
     "data": {
      "text/html": [
       "<span style=\"color:cyan\"> |-num_layers: 4</span>"
      ],
      "text/plain": [
       "<IPython.core.display.HTML object>"
      ]
     },
     "metadata": {},
     "output_type": "display_data"
    },
    {
     "data": {
      "text/html": [
       "<span style=\"color:blue\"> |-tuner/bracket: 1</span>"
      ],
      "text/plain": [
       "<IPython.core.display.HTML object>"
      ]
     },
     "metadata": {},
     "output_type": "display_data"
    },
    {
     "data": {
      "text/html": [
       "<span style=\"color:cyan\"> |-tuner/epochs: 5</span>"
      ],
      "text/plain": [
       "<IPython.core.display.HTML object>"
      ]
     },
     "metadata": {},
     "output_type": "display_data"
    },
    {
     "data": {
      "text/html": [
       "<span style=\"color:blue\"> |-tuner/initial_epoch: 2</span>"
      ],
      "text/plain": [
       "<IPython.core.display.HTML object>"
      ]
     },
     "metadata": {},
     "output_type": "display_data"
    },
    {
     "data": {
      "text/html": [
       "<span style=\"color:cyan\"> |-tuner/round: 1</span>"
      ],
      "text/plain": [
       "<IPython.core.display.HTML object>"
      ]
     },
     "metadata": {},
     "output_type": "display_data"
    },
    {
     "data": {
      "text/html": [
       "<span style=\"color:blue\"> |-tuner/trial_id: 9a035d7ca2a803ba20f5f2ed3a96f439</span>"
      ],
      "text/plain": [
       "<IPython.core.display.HTML object>"
      ]
     },
     "metadata": {},
     "output_type": "display_data"
    },
    {
     "data": {
      "text/html": [
       "<span style=\"color:cyan\"> |-units_0: 20</span>"
      ],
      "text/plain": [
       "<IPython.core.display.HTML object>"
      ]
     },
     "metadata": {},
     "output_type": "display_data"
    },
    {
     "data": {
      "text/html": [
       "<span style=\"color:blue\"> |-units_1: 30</span>"
      ],
      "text/plain": [
       "<IPython.core.display.HTML object>"
      ]
     },
     "metadata": {},
     "output_type": "display_data"
    },
    {
     "data": {
      "text/html": [
       "<span style=\"color:cyan\"> |-units_2: 40</span>"
      ],
      "text/plain": [
       "<IPython.core.display.HTML object>"
      ]
     },
     "metadata": {},
     "output_type": "display_data"
    },
    {
     "data": {
      "text/html": [
       "<span style=\"color:blue\"> |-units_3: 35</span>"
      ],
      "text/plain": [
       "<IPython.core.display.HTML object>"
      ]
     },
     "metadata": {},
     "output_type": "display_data"
    },
    {
     "data": {
      "text/html": [
       "<span style=\"color:#4527A0\"><h1 style=\"font-size:18px\">Starting new trial</h1></span>"
      ],
      "text/plain": [
       "<IPython.core.display.HTML object>"
      ]
     },
     "metadata": {},
     "output_type": "display_data"
    },
    {
     "name": "stdout",
     "output_type": "stream",
     "text": [
      "Epoch 3/5\n",
      "804/804 [==============================] - ETA: 5:16 - loss: 0.7355 - accuracy: 0.56 - ETA: 3s - loss: 0.7289 - accuracy: 0.5433 - ETA: 3s - loss: 0.7242 - accuracy: 0.54 - ETA: 3s - loss: 0.7054 - accuracy: 0.56 - ETA: 3s - loss: 0.6882 - accuracy: 0.57 - ETA: 3s - loss: 0.6761 - accuracy: 0.58 - ETA: 3s - loss: 0.6524 - accuracy: 0.60 - ETA: 3s - loss: 0.6389 - accuracy: 0.61 - ETA: 3s - loss: 0.6176 - accuracy: 0.63 - ETA: 3s - loss: 0.6064 - accuracy: 0.65 - ETA: 2s - loss: 0.5983 - accuracy: 0.66 - ETA: 2s - loss: 0.5871 - accuracy: 0.67 - ETA: 2s - loss: 0.5813 - accuracy: 0.67 - ETA: 2s - loss: 0.5698 - accuracy: 0.68 - ETA: 2s - loss: 0.5638 - accuracy: 0.69 - ETA: 2s - loss: 0.5605 - accuracy: 0.69 - ETA: 2s - loss: 0.5568 - accuracy: 0.70 - ETA: 2s - loss: 0.5525 - accuracy: 0.70 - ETA: 2s - loss: 0.5505 - accuracy: 0.70 - ETA: 2s - loss: 0.5480 - accuracy: 0.71 - ETA: 2s - loss: 0.5482 - accuracy: 0.71 - ETA: 2s - loss: 0.5476 - accuracy: 0.71 - ETA: 2s - loss: 0.5447 - accuracy: 0.71 - ETA: 2s - loss: 0.5429 - accuracy: 0.71 - ETA: 2s - loss: 0.5406 - accuracy: 0.71 - ETA: 2s - loss: 0.5365 - accuracy: 0.72 - ETA: 2s - loss: 0.5356 - accuracy: 0.72 - ETA: 2s - loss: 0.5335 - accuracy: 0.72 - ETA: 2s - loss: 0.5310 - accuracy: 0.72 - ETA: 2s - loss: 0.5287 - accuracy: 0.72 - ETA: 2s - loss: 0.5260 - accuracy: 0.72 - ETA: 2s - loss: 0.5254 - accuracy: 0.72 - ETA: 2s - loss: 0.5239 - accuracy: 0.73 - ETA: 2s - loss: 0.5244 - accuracy: 0.73 - ETA: 2s - loss: 0.5233 - accuracy: 0.73 - ETA: 2s - loss: 0.5222 - accuracy: 0.73 - ETA: 2s - loss: 0.5214 - accuracy: 0.73 - ETA: 2s - loss: 0.5203 - accuracy: 0.73 - ETA: 2s - loss: 0.5188 - accuracy: 0.73 - ETA: 2s - loss: 0.5187 - accuracy: 0.73 - ETA: 2s - loss: 0.5176 - accuracy: 0.73 - ETA: 2s - loss: 0.5163 - accuracy: 0.73 - ETA: 2s - loss: 0.5145 - accuracy: 0.73 - ETA: 2s - loss: 0.5128 - accuracy: 0.73 - ETA: 2s - loss: 0.5119 - accuracy: 0.73 - ETA: 2s - loss: 0.5116 - accuracy: 0.73 - ETA: 2s - loss: 0.5104 - accuracy: 0.73 - ETA: 1s - loss: 0.5095 - accuracy: 0.74 - ETA: 1s - loss: 0.5096 - accuracy: 0.74 - ETA: 1s - loss: 0.5079 - accuracy: 0.74 - ETA: 1s - loss: 0.5078 - accuracy: 0.74 - ETA: 1s - loss: 0.5067 - accuracy: 0.74 - ETA: 1s - loss: 0.5055 - accuracy: 0.74 - ETA: 1s - loss: 0.5061 - accuracy: 0.74 - ETA: 1s - loss: 0.5062 - accuracy: 0.74 - ETA: 1s - loss: 0.5069 - accuracy: 0.74 - ETA: 1s - loss: 0.5064 - accuracy: 0.74 - ETA: 1s - loss: 0.5067 - accuracy: 0.74 - ETA: 1s - loss: 0.5071 - accuracy: 0.74 - ETA: 1s - loss: 0.5072 - accuracy: 0.74 - ETA: 1s - loss: 0.5062 - accuracy: 0.74 - ETA: 1s - loss: 0.5052 - accuracy: 0.74 - ETA: 1s - loss: 0.5047 - accuracy: 0.74 - ETA: 1s - loss: 0.5039 - accuracy: 0.74 - ETA: 1s - loss: 0.5035 - accuracy: 0.74 - ETA: 1s - loss: 0.5030 - accuracy: 0.74 - ETA: 1s - loss: 0.5023 - accuracy: 0.74 - ETA: 1s - loss: 0.5019 - accuracy: 0.74 - ETA: 1s - loss: 0.5025 - accuracy: 0.74 - ETA: 1s - loss: 0.5016 - accuracy: 0.74 - ETA: 1s - loss: 0.5007 - accuracy: 0.74 - ETA: 1s - loss: 0.5007 - accuracy: 0.74 - ETA: 1s - loss: 0.4996 - accuracy: 0.74 - ETA: 1s - loss: 0.4985 - accuracy: 0.74 - ETA: 1s - loss: 0.4980 - accuracy: 0.74 - ETA: 1s - loss: 0.4976 - accuracy: 0.74 - ETA: 1s - loss: 0.4978 - accuracy: 0.74 - ETA: 1s - loss: 0.4981 - accuracy: 0.74 - ETA: 1s - loss: 0.4976 - accuracy: 0.75 - ETA: 1s - loss: 0.4977 - accuracy: 0.75 - ETA: 1s - loss: 0.4975 - accuracy: 0.75 - ETA: 1s - loss: 0.4974 - accuracy: 0.75 - ETA: 1s - loss: 0.4969 - accuracy: 0.75 - ETA: 1s - loss: 0.4967 - accuracy: 0.75 - ETA: 1s - loss: 0.4962 - accuracy: 0.75 - ETA: 1s - loss: 0.4958 - accuracy: 0.75 - ETA: 1s - loss: 0.4961 - accuracy: 0.75 - ETA: 1s - loss: 0.4959 - accuracy: 0.75 - ETA: 1s - loss: 0.4954 - accuracy: 0.75 - ETA: 1s - loss: 0.4957 - accuracy: 0.75 - ETA: 1s - loss: 0.4959 - accuracy: 0.75 - ETA: 1s - loss: 0.4953 - accuracy: 0.75 - ETA: 1s - loss: 0.4948 - accuracy: 0.75 - ETA: 0s - loss: 0.4947 - accuracy: 0.75 - ETA: 0s - loss: 0.4949 - accuracy: 0.75 - ETA: 0s - loss: 0.4951 - accuracy: 0.75 - ETA: 0s - loss: 0.4952 - accuracy: 0.75 - ETA: 0s - loss: 0.4945 - accuracy: 0.75 - ETA: 0s - loss: 0.4940 - accuracy: 0.75 - ETA: 0s - loss: 0.4939 - accuracy: 0.75 - ETA: 0s - loss: 0.4935 - accuracy: 0.75 - ETA: 0s - loss: 0.4934 - accuracy: 0.75 - ETA: 0s - loss: 0.4928 - accuracy: 0.75 - ETA: 0s - loss: 0.4923 - accuracy: 0.75 - ETA: 0s - loss: 0.4926 - accuracy: 0.75 - ETA: 0s - loss: 0.4928 - accuracy: 0.75 - ETA: 0s - loss: 0.4933 - accuracy: 0.75 - ETA: 0s - loss: 0.4931 - accuracy: 0.75 - ETA: 0s - loss: 0.4924 - accuracy: 0.75 - ETA: 0s - loss: 0.4920 - accuracy: 0.75 - ETA: 0s - loss: 0.4919 - accuracy: 0.75 - ETA: 0s - loss: 0.4921 - accuracy: 0.75 - ETA: 0s - loss: 0.4919 - accuracy: 0.75 - ETA: 0s - loss: 0.4915 - accuracy: 0.75 - ETA: 0s - loss: 0.4910 - accuracy: 0.75 - ETA: 0s - loss: 0.4914 - accuracy: 0.75 - ETA: 0s - loss: 0.4913 - accuracy: 0.75 - ETA: 0s - loss: 0.4913 - accuracy: 0.75 - ETA: 0s - loss: 0.4913 - accuracy: 0.75 - ETA: 0s - loss: 0.4919 - accuracy: 0.75 - ETA: 0s - loss: 0.4918 - accuracy: 0.75 - ETA: 0s - loss: 0.4912 - accuracy: 0.75 - ETA: 0s - loss: 0.4913 - accuracy: 0.75 - ETA: 0s - loss: 0.4914 - accuracy: 0.75 - ETA: 0s - loss: 0.4913 - accuracy: 0.75 - ETA: 0s - loss: 0.4913 - accuracy: 0.75 - ETA: 0s - loss: 0.4911 - accuracy: 0.75 - ETA: 0s - loss: 0.4911 - accuracy: 0.75 - ETA: 0s - loss: 0.4910 - accuracy: 0.75 - ETA: 0s - loss: 0.4908 - accuracy: 0.75 - 22s 27ms/step - loss: 0.4909 - accuracy: 0.7570 - val_loss: 0.5995 - val_accuracy: 0.5960\n",
      "Epoch 4/5\n"
     ]
    },
    {
     "name": "stdout",
     "output_type": "stream",
     "text": [
      "712/804 [=========================>....] - ETA: 25s - loss: 0.4457 - accuracy: 0.843 - ETA: 19s - loss: 0.3231 - accuracy: 0.882 - ETA: 21s - loss: 0.2833 - accuracy: 0.901 - ETA: 20s - loss: 0.2735 - accuracy: 0.894 - ETA: 18s - loss: 0.2606 - accuracy: 0.903 - ETA: 16s - loss: 0.2628 - accuracy: 0.891 - ETA: 15s - loss: 0.2577 - accuracy: 0.894 - ETA: 14s - loss: 0.2464 - accuracy: 0.903 - ETA: 14s - loss: 0.2411 - accuracy: 0.903 - ETA: 13s - loss: 0.2412 - accuracy: 0.903 - ETA: 13s - loss: 0.2471 - accuracy: 0.897 - ETA: 13s - loss: 0.2406 - accuracy: 0.900 - ETA: 13s - loss: 0.2373 - accuracy: 0.904 - ETA: 12s - loss: 0.2357 - accuracy: 0.905 - ETA: 12s - loss: 0.2318 - accuracy: 0.907 - ETA: 12s - loss: 0.2245 - accuracy: 0.911 - ETA: 12s - loss: 0.2222 - accuracy: 0.912 - ETA: 13s - loss: 0.2225 - accuracy: 0.911 - ETA: 13s - loss: 0.2196 - accuracy: 0.912 - ETA: 13s - loss: 0.2188 - accuracy: 0.911 - ETA: 13s - loss: 0.2185 - accuracy: 0.910 - ETA: 13s - loss: 0.2138 - accuracy: 0.913 - ETA: 13s - loss: 0.2106 - accuracy: 0.915 - ETA: 13s - loss: 0.2087 - accuracy: 0.917 - ETA: 13s - loss: 0.2064 - accuracy: 0.917 - ETA: 13s - loss: 0.2022 - accuracy: 0.919 - ETA: 13s - loss: 0.2039 - accuracy: 0.919 - ETA: 13s - loss: 0.2050 - accuracy: 0.917 - ETA: 13s - loss: 0.2025 - accuracy: 0.918 - ETA: 13s - loss: 0.1993 - accuracy: 0.919 - ETA: 13s - loss: 0.1985 - accuracy: 0.920 - ETA: 13s - loss: 0.1979 - accuracy: 0.921 - ETA: 12s - loss: 0.1974 - accuracy: 0.922 - ETA: 12s - loss: 0.1957 - accuracy: 0.922 - ETA: 12s - loss: 0.1934 - accuracy: 0.924 - ETA: 12s - loss: 0.1925 - accuracy: 0.924 - ETA: 12s - loss: 0.1903 - accuracy: 0.925 - ETA: 12s - loss: 0.1891 - accuracy: 0.926 - ETA: 12s - loss: 0.1876 - accuracy: 0.927 - ETA: 12s - loss: 0.1880 - accuracy: 0.927 - ETA: 12s - loss: 0.1857 - accuracy: 0.928 - ETA: 12s - loss: 0.1862 - accuracy: 0.927 - ETA: 12s - loss: 0.1849 - accuracy: 0.928 - ETA: 12s - loss: 0.1844 - accuracy: 0.928 - ETA: 15s - loss: 0.1844 - accuracy: 0.928 - ETA: 15s - loss: 0.1840 - accuracy: 0.929 - ETA: 15s - loss: 0.1846 - accuracy: 0.929 - ETA: 15s - loss: 0.1820 - accuracy: 0.930 - ETA: 14s - loss: 0.1793 - accuracy: 0.931 - ETA: 14s - loss: 0.1780 - accuracy: 0.932 - ETA: 14s - loss: 0.1792 - accuracy: 0.932 - ETA: 14s - loss: 0.1787 - accuracy: 0.932 - ETA: 14s - loss: 0.1794 - accuracy: 0.931 - ETA: 14s - loss: 0.1796 - accuracy: 0.931 - ETA: 14s - loss: 0.1790 - accuracy: 0.931 - ETA: 13s - loss: 0.1805 - accuracy: 0.931 - ETA: 13s - loss: 0.1802 - accuracy: 0.931 - ETA: 13s - loss: 0.1802 - accuracy: 0.931 - ETA: 13s - loss: 0.1811 - accuracy: 0.931 - ETA: 13s - loss: 0.1820 - accuracy: 0.930 - ETA: 13s - loss: 0.1808 - accuracy: 0.930 - ETA: 12s - loss: 0.1793 - accuracy: 0.931 - ETA: 12s - loss: 0.1803 - accuracy: 0.931 - ETA: 12s - loss: 0.1795 - accuracy: 0.931 - ETA: 12s - loss: 0.1785 - accuracy: 0.931 - ETA: 12s - loss: 0.1782 - accuracy: 0.931 - ETA: 12s - loss: 0.1778 - accuracy: 0.931 - ETA: 12s - loss: 0.1786 - accuracy: 0.931 - ETA: 11s - loss: 0.1779 - accuracy: 0.931 - ETA: 11s - loss: 0.1777 - accuracy: 0.931 - ETA: 11s - loss: 0.1766 - accuracy: 0.931 - ETA: 11s - loss: 0.1771 - accuracy: 0.931 - ETA: 11s - loss: 0.1768 - accuracy: 0.931 - ETA: 11s - loss: 0.1759 - accuracy: 0.931 - ETA: 11s - loss: 0.1754 - accuracy: 0.932 - ETA: 11s - loss: 0.1749 - accuracy: 0.932 - ETA: 11s - loss: 0.1748 - accuracy: 0.932 - ETA: 10s - loss: 0.1755 - accuracy: 0.932 - ETA: 10s - loss: 0.1748 - accuracy: 0.932 - ETA: 10s - loss: 0.1741 - accuracy: 0.932 - ETA: 10s - loss: 0.1736 - accuracy: 0.933 - ETA: 10s - loss: 0.1729 - accuracy: 0.933 - ETA: 10s - loss: 0.1718 - accuracy: 0.934 - ETA: 10s - loss: 0.1709 - accuracy: 0.934 - ETA: 10s - loss: 0.1711 - accuracy: 0.934 - ETA: 10s - loss: 0.1706 - accuracy: 0.934 - ETA: 10s - loss: 0.1700 - accuracy: 0.934 - ETA: 9s - loss: 0.1697 - accuracy: 0.934 - ETA: 9s - loss: 0.1692 - accuracy: 0.93 - ETA: 9s - loss: 0.1684 - accuracy: 0.93 - ETA: 9s - loss: 0.1676 - accuracy: 0.93 - ETA: 9s - loss: 0.1675 - accuracy: 0.93 - ETA: 9s - loss: 0.1670 - accuracy: 0.93 - ETA: 9s - loss: 0.1670 - accuracy: 0.93 - ETA: 9s - loss: 0.1664 - accuracy: 0.93 - ETA: 9s - loss: 0.1661 - accuracy: 0.93 - ETA: 9s - loss: 0.1654 - accuracy: 0.93 - ETA: 9s - loss: 0.1652 - accuracy: 0.93 - ETA: 9s - loss: 0.1649 - accuracy: 0.93 - ETA: 9s - loss: 0.1643 - accuracy: 0.93 - ETA: 8s - loss: 0.1638 - accuracy: 0.93 - ETA: 8s - loss: 0.1630 - accuracy: 0.93 - ETA: 8s - loss: 0.1632 - accuracy: 0.93 - ETA: 8s - loss: 0.1628 - accuracy: 0.93 - ETA: 8s - loss: 0.1622 - accuracy: 0.93 - ETA: 10s - loss: 0.1623 - accuracy: 0.936 - ETA: 10s - loss: 0.1624 - accuracy: 0.936 - ETA: 10s - loss: 0.1632 - accuracy: 0.936 - ETA: 10s - loss: 0.1634 - accuracy: 0.936 - ETA: 10s - loss: 0.1628 - accuracy: 0.936 - ETA: 9s - loss: 0.1630 - accuracy: 0.936 - ETA: 9s - loss: 0.1632 - accuracy: 0.93 - ETA: 9s - loss: 0.1631 - accuracy: 0.93 - ETA: 9s - loss: 0.1645 - accuracy: 0.93 - ETA: 9s - loss: 0.1646 - accuracy: 0.93 - ETA: 9s - loss: 0.1647 - accuracy: 0.93 - ETA: 8s - loss: 0.1643 - accuracy: 0.93 - ETA: 8s - loss: 0.1644 - accuracy: 0.93 - ETA: 8s - loss: 0.1644 - accuracy: 0.93 - ETA: 8s - loss: 0.1650 - accuracy: 0.93 - ETA: 8s - loss: 0.1646 - accuracy: 0.93 - ETA: 8s - loss: 0.1641 - accuracy: 0.93 - ETA: 7s - loss: 0.1638 - accuracy: 0.93 - ETA: 7s - loss: 0.1634 - accuracy: 0.93 - ETA: 7s - loss: 0.1629 - accuracy: 0.93 - ETA: 7s - loss: 0.1622 - accuracy: 0.93 - ETA: 7s - loss: 0.1621 - accuracy: 0.93 - ETA: 7s - loss: 0.1624 - accuracy: 0.93 - ETA: 7s - loss: 0.1624 - accuracy: 0.93 - ETA: 7s - loss: 0.1628 - accuracy: 0.93 - ETA: 6s - loss: 0.1622 - accuracy: 0.93 - ETA: 6s - loss: 0.1623 - accuracy: 0.93 - ETA: 6s - loss: 0.1623 - accuracy: 0.93 - ETA: 6s - loss: 0.1617 - accuracy: 0.93 - ETA: 6s - loss: 0.1611 - accuracy: 0.93 - ETA: 6s - loss: 0.1606 - accuracy: 0.93 - ETA: 6s - loss: 0.1609 - accuracy: 0.93 - ETA: 6s - loss: 0.1607 - accuracy: 0.93 - ETA: 6s - loss: 0.1609 - accuracy: 0.93 - ETA: 6s - loss: 0.1604 - accuracy: 0.93 - ETA: 5s - loss: 0.1599 - accuracy: 0.93 - ETA: 5s - loss: 0.1598 - accuracy: 0.93 - ETA: 5s - loss: 0.1593 - accuracy: 0.93 - ETA: 5s - loss: 0.1597 - accuracy: 0.93 - ETA: 5s - loss: 0.1593 - accuracy: 0.93 - ETA: 5s - loss: 0.1594 - accuracy: 0.93 - ETA: 5s - loss: 0.1597 - accuracy: 0.93 - ETA: 5s - loss: 0.1600 - accuracy: 0.93 - ETA: 5s - loss: 0.1598 - accuracy: 0.93 - ETA: 5s - loss: 0.1600 - accuracy: 0.93 - ETA: 5s - loss: 0.1601 - accuracy: 0.93 - ETA: 4s - loss: 0.1597 - accuracy: 0.93 - ETA: 4s - loss: 0.1600 - accuracy: 0.93 - ETA: 4s - loss: 0.1602 - accuracy: 0.93 - ETA: 4s - loss: 0.1599 - accuracy: 0.93 - ETA: 4s - loss: 0.1598 - accuracy: 0.93 - ETA: 4s - loss: 0.1596 - accuracy: 0.93 - ETA: 4s - loss: 0.1597 - accuracy: 0.93 - ETA: 4s - loss: 0.1598 - accuracy: 0.93 - ETA: 4s - loss: 0.1596 - accuracy: 0.93 - ETA: 4s - loss: 0.1592 - accuracy: 0.93 - ETA: 4s - loss: 0.1590 - accuracy: 0.93 - ETA: 3s - loss: 0.1591 - accuracy: 0.93 - ETA: 3s - loss: 0.1588 - accuracy: 0.93 - ETA: 3s - loss: 0.1581 - accuracy: 0.93 - ETA: 3s - loss: 0.1581 - accuracy: 0.93 - ETA: 3s - loss: 0.1576 - accuracy: 0.93 - ETA: 3s - loss: 0.1573 - accuracy: 0.93 - ETA: 3s - loss: 0.1570 - accuracy: 0.93 - ETA: 3s - loss: 0.1568 - accuracy: 0.93 - ETA: 3s - loss: 0.1564 - accuracy: 0.93 - ETA: 3s - loss: 0.1564 - accuracy: 0.93 - ETA: 3s - loss: 0.1562 - accuracy: 0.94 - ETA: 2s - loss: 0.1563 - accuracy: 0.94 - ETA: 2s - loss: 0.1560 - accuracy: 0.94 - ETA: 2s - loss: 0.1561 - accuracy: 0.94 - ETA: 2s - loss: 0.1562 - accuracy: 0.94 - ETA: 2s - loss: 0.1561 - accuracy: 0.94 - ETA: 2s - loss: 0.1560 - accuracy: 0.94 - ETA: 2s - loss: 0.1562 - accuracy: 0.94 - ETA: 2s - loss: 0.1563 - accuracy: 0.94 - ETA: 2s - loss: 0.1561 - accuracy: 0.94 - ETA: 2s - loss: 0.1557 - accuracy: 0.94 - ETA: 2s - loss: 0.1554 - accuracy: 0.94 - ETA: 2s - loss: 0.1552 - accuracy: 0.94 - ETA: 2s - loss: 0.1547 - accuracy: 0.94 - ETA: 1s - loss: 0.1544 - accuracy: 0.94 - ETA: 1s - loss: 0.1542 - accuracy: 0.94 - ETA: 1s - loss: 0.1541 - accuracy: 0.94 - ETA: 1s - loss: 0.1538 - accuracy: 0.9413"
     ]
    },
    {
     "name": "stdout",
     "output_type": "stream",
     "text": [
      "804/804 [==============================] - ETA: 1s - loss: 0.1536 - accuracy: 0.94 - ETA: 1s - loss: 0.1538 - accuracy: 0.94 - ETA: 1s - loss: 0.1537 - accuracy: 0.94 - ETA: 1s - loss: 0.1539 - accuracy: 0.94 - ETA: 1s - loss: 0.1539 - accuracy: 0.94 - ETA: 1s - loss: 0.1539 - accuracy: 0.94 - ETA: 1s - loss: 0.1536 - accuracy: 0.94 - ETA: 1s - loss: 0.1539 - accuracy: 0.94 - ETA: 1s - loss: 0.1542 - accuracy: 0.94 - ETA: 1s - loss: 0.1541 - accuracy: 0.94 - ETA: 1s - loss: 0.1540 - accuracy: 0.94 - ETA: 1s - loss: 0.1542 - accuracy: 0.94 - ETA: 1s - loss: 0.1541 - accuracy: 0.94 - ETA: 1s - loss: 0.1544 - accuracy: 0.94 - ETA: 1s - loss: 0.1543 - accuracy: 0.94 - ETA: 0s - loss: 0.1543 - accuracy: 0.94 - ETA: 0s - loss: 0.1540 - accuracy: 0.94 - ETA: 0s - loss: 0.1538 - accuracy: 0.94 - ETA: 0s - loss: 0.1538 - accuracy: 0.94 - ETA: 0s - loss: 0.1535 - accuracy: 0.94 - ETA: 0s - loss: 0.1534 - accuracy: 0.94 - ETA: 0s - loss: 0.1531 - accuracy: 0.94 - ETA: 0s - loss: 0.1532 - accuracy: 0.94 - ETA: 0s - loss: 0.1532 - accuracy: 0.94 - ETA: 0s - loss: 0.1530 - accuracy: 0.94 - ETA: 0s - loss: 0.1535 - accuracy: 0.94 - ETA: 0s - loss: 0.1533 - accuracy: 0.94 - 18s 22ms/step - loss: 0.1532 - accuracy: 0.9416 - val_loss: 0.5266 - val_accuracy: 0.6797\n",
      "Epoch 5/5\n"
     ]
    },
    {
     "name": "stdout",
     "output_type": "stream",
     "text": [
      "681/804 [========================>.....] - ETA: 10s - loss: 0.0829 - accuracy: 0.968 - ETA: 8s - loss: 0.0682 - accuracy: 0.979 - ETA: 8s - loss: 0.0684 - accuracy: 0.97 - ETA: 8s - loss: 0.0777 - accuracy: 0.96 - ETA: 8s - loss: 0.0923 - accuracy: 0.96 - ETA: 8s - loss: 0.0948 - accuracy: 0.96 - ETA: 8s - loss: 0.0968 - accuracy: 0.95 - ETA: 8s - loss: 0.1024 - accuracy: 0.95 - ETA: 8s - loss: 0.1006 - accuracy: 0.95 - ETA: 8s - loss: 0.1041 - accuracy: 0.95 - ETA: 8s - loss: 0.1011 - accuracy: 0.95 - ETA: 8s - loss: 0.1024 - accuracy: 0.95 - ETA: 8s - loss: 0.0993 - accuracy: 0.95 - ETA: 8s - loss: 0.1000 - accuracy: 0.95 - ETA: 8s - loss: 0.0989 - accuracy: 0.95 - ETA: 8s - loss: 0.1003 - accuracy: 0.95 - ETA: 8s - loss: 0.0990 - accuracy: 0.95 - ETA: 8s - loss: 0.1017 - accuracy: 0.95 - ETA: 9s - loss: 0.1016 - accuracy: 0.95 - ETA: 9s - loss: 0.1009 - accuracy: 0.95 - ETA: 9s - loss: 0.1005 - accuracy: 0.95 - ETA: 9s - loss: 0.1002 - accuracy: 0.96 - ETA: 9s - loss: 0.0975 - accuracy: 0.96 - ETA: 9s - loss: 0.0953 - accuracy: 0.96 - ETA: 9s - loss: 0.0963 - accuracy: 0.96 - ETA: 9s - loss: 0.0970 - accuracy: 0.96 - ETA: 9s - loss: 0.0978 - accuracy: 0.96 - ETA: 9s - loss: 0.0979 - accuracy: 0.96 - ETA: 9s - loss: 0.0973 - accuracy: 0.96 - ETA: 9s - loss: 0.0974 - accuracy: 0.96 - ETA: 9s - loss: 0.0973 - accuracy: 0.96 - ETA: 9s - loss: 0.0995 - accuracy: 0.96 - ETA: 8s - loss: 0.0993 - accuracy: 0.96 - ETA: 8s - loss: 0.0988 - accuracy: 0.96 - ETA: 8s - loss: 0.0993 - accuracy: 0.96 - ETA: 8s - loss: 0.0981 - accuracy: 0.96 - ETA: 8s - loss: 0.1003 - accuracy: 0.96 - ETA: 8s - loss: 0.1002 - accuracy: 0.96 - ETA: 8s - loss: 0.0993 - accuracy: 0.96 - ETA: 8s - loss: 0.0987 - accuracy: 0.96 - ETA: 8s - loss: 0.0985 - accuracy: 0.96 - ETA: 8s - loss: 0.0996 - accuracy: 0.96 - ETA: 8s - loss: 0.0986 - accuracy: 0.96 - ETA: 8s - loss: 0.0985 - accuracy: 0.96 - ETA: 8s - loss: 0.0980 - accuracy: 0.96 - ETA: 8s - loss: 0.0974 - accuracy: 0.96 - ETA: 8s - loss: 0.0978 - accuracy: 0.96 - ETA: 8s - loss: 0.0981 - accuracy: 0.96 - ETA: 8s - loss: 0.0986 - accuracy: 0.96 - ETA: 8s - loss: 0.0978 - accuracy: 0.96 - ETA: 9s - loss: 0.0983 - accuracy: 0.96 - ETA: 9s - loss: 0.0973 - accuracy: 0.96 - ETA: 9s - loss: 0.0970 - accuracy: 0.96 - ETA: 9s - loss: 0.0962 - accuracy: 0.96 - ETA: 9s - loss: 0.0962 - accuracy: 0.96 - ETA: 9s - loss: 0.0971 - accuracy: 0.96 - ETA: 9s - loss: 0.0977 - accuracy: 0.96 - ETA: 9s - loss: 0.0981 - accuracy: 0.96 - ETA: 9s - loss: 0.0981 - accuracy: 0.96 - ETA: 9s - loss: 0.0978 - accuracy: 0.96 - ETA: 8s - loss: 0.0977 - accuracy: 0.96 - ETA: 8s - loss: 0.0976 - accuracy: 0.96 - ETA: 9s - loss: 0.0973 - accuracy: 0.96 - ETA: 9s - loss: 0.0981 - accuracy: 0.96 - ETA: 8s - loss: 0.0978 - accuracy: 0.96 - ETA: 8s - loss: 0.0975 - accuracy: 0.96 - ETA: 8s - loss: 0.0976 - accuracy: 0.96 - ETA: 8s - loss: 0.0974 - accuracy: 0.96 - ETA: 8s - loss: 0.0966 - accuracy: 0.96 - ETA: 8s - loss: 0.0972 - accuracy: 0.96 - ETA: 8s - loss: 0.0969 - accuracy: 0.96 - ETA: 8s - loss: 0.0962 - accuracy: 0.96 - ETA: 8s - loss: 0.0968 - accuracy: 0.96 - ETA: 8s - loss: 0.0969 - accuracy: 0.96 - ETA: 8s - loss: 0.0989 - accuracy: 0.96 - ETA: 8s - loss: 0.0998 - accuracy: 0.96 - ETA: 8s - loss: 0.1004 - accuracy: 0.96 - ETA: 8s - loss: 0.1001 - accuracy: 0.96 - ETA: 8s - loss: 0.1006 - accuracy: 0.96 - ETA: 8s - loss: 0.1006 - accuracy: 0.96 - ETA: 8s - loss: 0.0999 - accuracy: 0.96 - ETA: 8s - loss: 0.1004 - accuracy: 0.96 - ETA: 8s - loss: 0.1000 - accuracy: 0.96 - ETA: 8s - loss: 0.1000 - accuracy: 0.96 - ETA: 7s - loss: 0.0998 - accuracy: 0.96 - ETA: 7s - loss: 0.0995 - accuracy: 0.96 - ETA: 7s - loss: 0.0988 - accuracy: 0.96 - ETA: 7s - loss: 0.0997 - accuracy: 0.96 - ETA: 7s - loss: 0.0992 - accuracy: 0.96 - ETA: 7s - loss: 0.0986 - accuracy: 0.96 - ETA: 7s - loss: 0.0985 - accuracy: 0.96 - ETA: 7s - loss: 0.0987 - accuracy: 0.96 - ETA: 7s - loss: 0.0999 - accuracy: 0.96 - ETA: 7s - loss: 0.0997 - accuracy: 0.96 - ETA: 7s - loss: 0.1004 - accuracy: 0.96 - ETA: 7s - loss: 0.1001 - accuracy: 0.96 - ETA: 7s - loss: 0.1000 - accuracy: 0.96 - ETA: 7s - loss: 0.0994 - accuracy: 0.96 - ETA: 7s - loss: 0.0992 - accuracy: 0.96 - ETA: 7s - loss: 0.0992 - accuracy: 0.96 - ETA: 7s - loss: 0.0995 - accuracy: 0.96 - ETA: 7s - loss: 0.0996 - accuracy: 0.96 - ETA: 7s - loss: 0.0997 - accuracy: 0.96 - ETA: 7s - loss: 0.0998 - accuracy: 0.96 - ETA: 7s - loss: 0.1000 - accuracy: 0.96 - ETA: 7s - loss: 0.1003 - accuracy: 0.96 - ETA: 7s - loss: 0.1000 - accuracy: 0.96 - ETA: 7s - loss: 0.1002 - accuracy: 0.96 - ETA: 7s - loss: 0.1002 - accuracy: 0.96 - ETA: 6s - loss: 0.1001 - accuracy: 0.96 - ETA: 6s - loss: 0.1008 - accuracy: 0.96 - ETA: 6s - loss: 0.1009 - accuracy: 0.96 - ETA: 6s - loss: 0.1014 - accuracy: 0.96 - ETA: 6s - loss: 0.1010 - accuracy: 0.96 - ETA: 6s - loss: 0.1012 - accuracy: 0.96 - ETA: 6s - loss: 0.1012 - accuracy: 0.96 - ETA: 6s - loss: 0.1009 - accuracy: 0.96 - ETA: 6s - loss: 0.1006 - accuracy: 0.96 - ETA: 6s - loss: 0.1008 - accuracy: 0.96 - ETA: 6s - loss: 0.1004 - accuracy: 0.96 - ETA: 6s - loss: 0.1006 - accuracy: 0.96 - ETA: 6s - loss: 0.1000 - accuracy: 0.96 - ETA: 6s - loss: 0.0999 - accuracy: 0.96 - ETA: 6s - loss: 0.0996 - accuracy: 0.96 - ETA: 6s - loss: 0.1000 - accuracy: 0.96 - ETA: 5s - loss: 0.0999 - accuracy: 0.96 - ETA: 5s - loss: 0.1005 - accuracy: 0.96 - ETA: 5s - loss: 0.1003 - accuracy: 0.96 - ETA: 5s - loss: 0.0998 - accuracy: 0.96 - ETA: 5s - loss: 0.0998 - accuracy: 0.96 - ETA: 5s - loss: 0.1000 - accuracy: 0.96 - ETA: 5s - loss: 0.1008 - accuracy: 0.96 - ETA: 5s - loss: 0.1010 - accuracy: 0.96 - ETA: 5s - loss: 0.1012 - accuracy: 0.96 - ETA: 5s - loss: 0.1010 - accuracy: 0.96 - ETA: 5s - loss: 0.1010 - accuracy: 0.96 - ETA: 5s - loss: 0.1015 - accuracy: 0.96 - ETA: 5s - loss: 0.1015 - accuracy: 0.96 - ETA: 5s - loss: 0.1015 - accuracy: 0.96 - ETA: 5s - loss: 0.1015 - accuracy: 0.96 - ETA: 5s - loss: 0.1017 - accuracy: 0.96 - ETA: 5s - loss: 0.1019 - accuracy: 0.96 - ETA: 4s - loss: 0.1019 - accuracy: 0.96 - ETA: 4s - loss: 0.1018 - accuracy: 0.96 - ETA: 4s - loss: 0.1016 - accuracy: 0.96 - ETA: 4s - loss: 0.1021 - accuracy: 0.96 - ETA: 4s - loss: 0.1018 - accuracy: 0.96 - ETA: 4s - loss: 0.1019 - accuracy: 0.96 - ETA: 4s - loss: 0.1021 - accuracy: 0.96 - ETA: 4s - loss: 0.1021 - accuracy: 0.95 - ETA: 4s - loss: 0.1017 - accuracy: 0.96 - ETA: 4s - loss: 0.1015 - accuracy: 0.96 - ETA: 4s - loss: 0.1013 - accuracy: 0.96 - ETA: 4s - loss: 0.1010 - accuracy: 0.96 - ETA: 4s - loss: 0.1011 - accuracy: 0.96 - ETA: 4s - loss: 0.1009 - accuracy: 0.96 - ETA: 4s - loss: 0.1010 - accuracy: 0.96 - ETA: 4s - loss: 0.1008 - accuracy: 0.96 - ETA: 4s - loss: 0.1006 - accuracy: 0.96 - ETA: 4s - loss: 0.1006 - accuracy: 0.96 - ETA: 3s - loss: 0.1008 - accuracy: 0.96 - ETA: 3s - loss: 0.1012 - accuracy: 0.96 - ETA: 3s - loss: 0.1009 - accuracy: 0.96 - ETA: 3s - loss: 0.1011 - accuracy: 0.96 - ETA: 3s - loss: 0.1009 - accuracy: 0.96 - ETA: 3s - loss: 0.1008 - accuracy: 0.96 - ETA: 3s - loss: 0.1007 - accuracy: 0.96 - ETA: 3s - loss: 0.1004 - accuracy: 0.96 - ETA: 3s - loss: 0.1006 - accuracy: 0.96 - ETA: 3s - loss: 0.1009 - accuracy: 0.96 - ETA: 3s - loss: 0.1005 - accuracy: 0.96 - ETA: 3s - loss: 0.1006 - accuracy: 0.96 - ETA: 3s - loss: 0.1004 - accuracy: 0.96 - ETA: 3s - loss: 0.1004 - accuracy: 0.96 - ETA: 3s - loss: 0.1003 - accuracy: 0.96 - ETA: 3s - loss: 0.1002 - accuracy: 0.96 - ETA: 2s - loss: 0.1004 - accuracy: 0.96 - ETA: 2s - loss: 0.1000 - accuracy: 0.96 - ETA: 2s - loss: 0.0998 - accuracy: 0.96 - ETA: 2s - loss: 0.0996 - accuracy: 0.96 - ETA: 2s - loss: 0.0997 - accuracy: 0.96 - ETA: 2s - loss: 0.0994 - accuracy: 0.96 - ETA: 2s - loss: 0.0997 - accuracy: 0.96 - ETA: 2s - loss: 0.0996 - accuracy: 0.96 - ETA: 2s - loss: 0.0995 - accuracy: 0.96 - ETA: 2s - loss: 0.0992 - accuracy: 0.96 - ETA: 2s - loss: 0.0989 - accuracy: 0.96 - ETA: 2s - loss: 0.0993 - accuracy: 0.96 - ETA: 2s - loss: 0.0993 - accuracy: 0.96 - ETA: 2s - loss: 0.0991 - accuracy: 0.96 - ETA: 2s - loss: 0.0992 - accuracy: 0.96 - ETA: 2s - loss: 0.0992 - accuracy: 0.96 - ETA: 2s - loss: 0.0995 - accuracy: 0.96 - ETA: 1s - loss: 0.0995 - accuracy: 0.9610"
     ]
    },
    {
     "name": "stdout",
     "output_type": "stream",
     "text": [
      "804/804 [==============================] - ETA: 1s - loss: 0.0994 - accuracy: 0.96 - ETA: 1s - loss: 0.0994 - accuracy: 0.96 - ETA: 1s - loss: 0.0997 - accuracy: 0.96 - ETA: 1s - loss: 0.0996 - accuracy: 0.96 - ETA: 1s - loss: 0.0995 - accuracy: 0.96 - ETA: 1s - loss: 0.0993 - accuracy: 0.96 - ETA: 1s - loss: 0.0994 - accuracy: 0.96 - ETA: 1s - loss: 0.0995 - accuracy: 0.96 - ETA: 1s - loss: 0.0997 - accuracy: 0.96 - ETA: 1s - loss: 0.0997 - accuracy: 0.96 - ETA: 1s - loss: 0.0996 - accuracy: 0.96 - ETA: 1s - loss: 0.0997 - accuracy: 0.96 - ETA: 1s - loss: 0.0995 - accuracy: 0.96 - ETA: 1s - loss: 0.0996 - accuracy: 0.96 - ETA: 1s - loss: 0.0997 - accuracy: 0.96 - ETA: 1s - loss: 0.1000 - accuracy: 0.96 - ETA: 1s - loss: 0.0998 - accuracy: 0.96 - ETA: 1s - loss: 0.0999 - accuracy: 0.96 - ETA: 1s - loss: 0.0999 - accuracy: 0.96 - ETA: 0s - loss: 0.0999 - accuracy: 0.96 - ETA: 0s - loss: 0.1001 - accuracy: 0.96 - ETA: 0s - loss: 0.1000 - accuracy: 0.96 - ETA: 0s - loss: 0.0998 - accuracy: 0.96 - ETA: 0s - loss: 0.0999 - accuracy: 0.96 - ETA: 0s - loss: 0.0997 - accuracy: 0.96 - ETA: 0s - loss: 0.0996 - accuracy: 0.96 - ETA: 0s - loss: 0.0997 - accuracy: 0.96 - ETA: 0s - loss: 0.0997 - accuracy: 0.96 - ETA: 0s - loss: 0.0999 - accuracy: 0.96 - ETA: 0s - loss: 0.0997 - accuracy: 0.96 - ETA: 0s - loss: 0.0998 - accuracy: 0.96 - ETA: 0s - loss: 0.0996 - accuracy: 0.96 - ETA: 0s - loss: 0.0996 - accuracy: 0.96 - ETA: 0s - loss: 0.0996 - accuracy: 0.96 - ETA: 0s - loss: 0.0998 - accuracy: 0.96 - ETA: 0s - loss: 0.1001 - accuracy: 0.96 - ETA: 0s - loss: 0.0999 - accuracy: 0.96 - ETA: 0s - loss: 0.1002 - accuracy: 0.96 - 15s 18ms/step - loss: 0.1002 - accuracy: 0.9610 - val_loss: 0.6190 - val_accuracy: 0.6075\n"
     ]
    },
    {
     "data": {
      "text/html": [
       "<span style=\"color:#4527A0\"><h1 style=\"font-size:18px\">Trial complete</h1></span>"
      ],
      "text/plain": [
       "<IPython.core.display.HTML object>"
      ]
     },
     "metadata": {},
     "output_type": "display_data"
    },
    {
     "data": {
      "text/html": [
       "<span style=\"color:#4527A0\"><h1 style=\"font-size:18px\">Trial summary</h1></span>"
      ],
      "text/plain": [
       "<IPython.core.display.HTML object>"
      ]
     },
     "metadata": {},
     "output_type": "display_data"
    },
    {
     "data": {
      "text/html": [
       "<span style=\"color:cyan\"> |-Trial ID: dedc6e97621920ff95f48c26a2c4c452</span>"
      ],
      "text/plain": [
       "<IPython.core.display.HTML object>"
      ]
     },
     "metadata": {},
     "output_type": "display_data"
    },
    {
     "data": {
      "text/html": [
       "<span style=\"color:cyan\"> |-Score: 0.6796501278877258</span>"
      ],
      "text/plain": [
       "<IPython.core.display.HTML object>"
      ]
     },
     "metadata": {},
     "output_type": "display_data"
    },
    {
     "data": {
      "text/html": [
       "<span style=\"color:cyan\"> |-Best step: 0</span>"
      ],
      "text/plain": [
       "<IPython.core.display.HTML object>"
      ]
     },
     "metadata": {},
     "output_type": "display_data"
    },
    {
     "data": {
      "text/html": [
       "<span style=\"color:#7E57C2\"><h2 style=\"font-size:16px\">Hyperparameters:</h2></span>"
      ],
      "text/plain": [
       "<IPython.core.display.HTML object>"
      ]
     },
     "metadata": {},
     "output_type": "display_data"
    },
    {
     "data": {
      "text/html": [
       "<span style=\"color:cyan\"> |-activation: relu</span>"
      ],
      "text/plain": [
       "<IPython.core.display.HTML object>"
      ]
     },
     "metadata": {},
     "output_type": "display_data"
    },
    {
     "data": {
      "text/html": [
       "<span style=\"color:blue\"> |-first_units: 70</span>"
      ],
      "text/plain": [
       "<IPython.core.display.HTML object>"
      ]
     },
     "metadata": {},
     "output_type": "display_data"
    },
    {
     "data": {
      "text/html": [
       "<span style=\"color:cyan\"> |-num_layers: 1</span>"
      ],
      "text/plain": [
       "<IPython.core.display.HTML object>"
      ]
     },
     "metadata": {},
     "output_type": "display_data"
    },
    {
     "data": {
      "text/html": [
       "<span style=\"color:blue\"> |-tuner/bracket: 1</span>"
      ],
      "text/plain": [
       "<IPython.core.display.HTML object>"
      ]
     },
     "metadata": {},
     "output_type": "display_data"
    },
    {
     "data": {
      "text/html": [
       "<span style=\"color:cyan\"> |-tuner/epochs: 5</span>"
      ],
      "text/plain": [
       "<IPython.core.display.HTML object>"
      ]
     },
     "metadata": {},
     "output_type": "display_data"
    },
    {
     "data": {
      "text/html": [
       "<span style=\"color:blue\"> |-tuner/initial_epoch: 2</span>"
      ],
      "text/plain": [
       "<IPython.core.display.HTML object>"
      ]
     },
     "metadata": {},
     "output_type": "display_data"
    },
    {
     "data": {
      "text/html": [
       "<span style=\"color:cyan\"> |-tuner/round: 1</span>"
      ],
      "text/plain": [
       "<IPython.core.display.HTML object>"
      ]
     },
     "metadata": {},
     "output_type": "display_data"
    },
    {
     "data": {
      "text/html": [
       "<span style=\"color:blue\"> |-tuner/trial_id: 5b82170fd061045849c81cec8fb37c92</span>"
      ],
      "text/plain": [
       "<IPython.core.display.HTML object>"
      ]
     },
     "metadata": {},
     "output_type": "display_data"
    },
    {
     "data": {
      "text/html": [
       "<span style=\"color:cyan\"> |-units_0: 15</span>"
      ],
      "text/plain": [
       "<IPython.core.display.HTML object>"
      ]
     },
     "metadata": {},
     "output_type": "display_data"
    },
    {
     "data": {
      "text/html": [
       "<span style=\"color:#4527A0\"><h1 style=\"font-size:18px\">Starting new trial</h1></span>"
      ],
      "text/plain": [
       "<IPython.core.display.HTML object>"
      ]
     },
     "metadata": {},
     "output_type": "display_data"
    },
    {
     "name": "stdout",
     "output_type": "stream",
     "text": [
      "Epoch 1/5\n"
     ]
    },
    {
     "name": "stdout",
     "output_type": "stream",
     "text": [
      "802/804 [============================>.] - ETA: 7:12 - loss: 0.7435 - accuracy: 0.53 - ETA: 4s - loss: 0.6955 - accuracy: 0.5375 - ETA: 4s - loss: 0.6538 - accuracy: 0.60 - ETA: 4s - loss: 0.6343 - accuracy: 0.63 - ETA: 4s - loss: 0.6391 - accuracy: 0.62 - ETA: 4s - loss: 0.6336 - accuracy: 0.63 - ETA: 4s - loss: 0.6253 - accuracy: 0.64 - ETA: 4s - loss: 0.6094 - accuracy: 0.65 - ETA: 4s - loss: 0.6036 - accuracy: 0.66 - ETA: 4s - loss: 0.5974 - accuracy: 0.66 - ETA: 4s - loss: 0.5945 - accuracy: 0.67 - ETA: 4s - loss: 0.5871 - accuracy: 0.68 - ETA: 4s - loss: 0.5807 - accuracy: 0.68 - ETA: 4s - loss: 0.5783 - accuracy: 0.69 - ETA: 4s - loss: 0.5742 - accuracy: 0.69 - ETA: 4s - loss: 0.5715 - accuracy: 0.69 - ETA: 4s - loss: 0.5662 - accuracy: 0.70 - ETA: 4s - loss: 0.5616 - accuracy: 0.70 - ETA: 4s - loss: 0.5578 - accuracy: 0.70 - ETA: 4s - loss: 0.5554 - accuracy: 0.71 - ETA: 4s - loss: 0.5545 - accuracy: 0.71 - ETA: 4s - loss: 0.5521 - accuracy: 0.71 - ETA: 4s - loss: 0.5488 - accuracy: 0.71 - ETA: 4s - loss: 0.5457 - accuracy: 0.71 - ETA: 4s - loss: 0.5414 - accuracy: 0.72 - ETA: 4s - loss: 0.5392 - accuracy: 0.72 - ETA: 3s - loss: 0.5385 - accuracy: 0.72 - ETA: 3s - loss: 0.5358 - accuracy: 0.72 - ETA: 3s - loss: 0.5361 - accuracy: 0.72 - ETA: 3s - loss: 0.5364 - accuracy: 0.72 - ETA: 3s - loss: 0.5354 - accuracy: 0.72 - ETA: 3s - loss: 0.5342 - accuracy: 0.73 - ETA: 3s - loss: 0.5321 - accuracy: 0.73 - ETA: 3s - loss: 0.5317 - accuracy: 0.73 - ETA: 3s - loss: 0.5303 - accuracy: 0.73 - ETA: 3s - loss: 0.5294 - accuracy: 0.73 - ETA: 3s - loss: 0.5282 - accuracy: 0.73 - ETA: 3s - loss: 0.5259 - accuracy: 0.73 - ETA: 3s - loss: 0.5243 - accuracy: 0.73 - ETA: 3s - loss: 0.5231 - accuracy: 0.73 - ETA: 3s - loss: 0.5231 - accuracy: 0.73 - ETA: 3s - loss: 0.5227 - accuracy: 0.73 - ETA: 3s - loss: 0.5216 - accuracy: 0.73 - ETA: 3s - loss: 0.5205 - accuracy: 0.73 - ETA: 3s - loss: 0.5198 - accuracy: 0.73 - ETA: 3s - loss: 0.5201 - accuracy: 0.73 - ETA: 3s - loss: 0.5191 - accuracy: 0.73 - ETA: 3s - loss: 0.5180 - accuracy: 0.74 - ETA: 3s - loss: 0.5172 - accuracy: 0.74 - ETA: 3s - loss: 0.5164 - accuracy: 0.74 - ETA: 3s - loss: 0.5167 - accuracy: 0.74 - ETA: 3s - loss: 0.5174 - accuracy: 0.74 - ETA: 3s - loss: 0.5161 - accuracy: 0.74 - ETA: 3s - loss: 0.5152 - accuracy: 0.74 - ETA: 3s - loss: 0.5143 - accuracy: 0.74 - ETA: 3s - loss: 0.5135 - accuracy: 0.74 - ETA: 3s - loss: 0.5126 - accuracy: 0.74 - ETA: 3s - loss: 0.5127 - accuracy: 0.74 - ETA: 3s - loss: 0.5119 - accuracy: 0.74 - ETA: 3s - loss: 0.5116 - accuracy: 0.74 - ETA: 3s - loss: 0.5119 - accuracy: 0.74 - ETA: 3s - loss: 0.5122 - accuracy: 0.74 - ETA: 3s - loss: 0.5108 - accuracy: 0.74 - ETA: 3s - loss: 0.5102 - accuracy: 0.74 - ETA: 3s - loss: 0.5099 - accuracy: 0.74 - ETA: 3s - loss: 0.5093 - accuracy: 0.74 - ETA: 3s - loss: 0.5083 - accuracy: 0.74 - ETA: 3s - loss: 0.5068 - accuracy: 0.74 - ETA: 3s - loss: 0.5068 - accuracy: 0.74 - ETA: 3s - loss: 0.5068 - accuracy: 0.74 - ETA: 3s - loss: 0.5062 - accuracy: 0.75 - ETA: 3s - loss: 0.5063 - accuracy: 0.75 - ETA: 3s - loss: 0.5062 - accuracy: 0.75 - ETA: 3s - loss: 0.5064 - accuracy: 0.75 - ETA: 3s - loss: 0.5066 - accuracy: 0.75 - ETA: 3s - loss: 0.5062 - accuracy: 0.75 - ETA: 3s - loss: 0.5053 - accuracy: 0.75 - ETA: 3s - loss: 0.5057 - accuracy: 0.75 - ETA: 3s - loss: 0.5050 - accuracy: 0.75 - ETA: 3s - loss: 0.5045 - accuracy: 0.75 - ETA: 3s - loss: 0.5041 - accuracy: 0.75 - ETA: 3s - loss: 0.5039 - accuracy: 0.75 - ETA: 3s - loss: 0.5036 - accuracy: 0.75 - ETA: 3s - loss: 0.5034 - accuracy: 0.75 - ETA: 3s - loss: 0.5029 - accuracy: 0.75 - ETA: 3s - loss: 0.5026 - accuracy: 0.75 - ETA: 3s - loss: 0.5025 - accuracy: 0.75 - ETA: 3s - loss: 0.5020 - accuracy: 0.75 - ETA: 3s - loss: 0.5022 - accuracy: 0.75 - ETA: 3s - loss: 0.5019 - accuracy: 0.75 - ETA: 3s - loss: 0.5020 - accuracy: 0.75 - ETA: 3s - loss: 0.5019 - accuracy: 0.75 - ETA: 3s - loss: 0.5022 - accuracy: 0.75 - ETA: 3s - loss: 0.5022 - accuracy: 0.75 - ETA: 3s - loss: 0.5023 - accuracy: 0.75 - ETA: 3s - loss: 0.5021 - accuracy: 0.75 - ETA: 3s - loss: 0.5019 - accuracy: 0.75 - ETA: 3s - loss: 0.5020 - accuracy: 0.75 - ETA: 3s - loss: 0.5018 - accuracy: 0.75 - ETA: 3s - loss: 0.5016 - accuracy: 0.75 - ETA: 2s - loss: 0.5013 - accuracy: 0.75 - ETA: 2s - loss: 0.5011 - accuracy: 0.75 - ETA: 2s - loss: 0.5008 - accuracy: 0.75 - ETA: 2s - loss: 0.5007 - accuracy: 0.75 - ETA: 2s - loss: 0.5004 - accuracy: 0.75 - ETA: 2s - loss: 0.4999 - accuracy: 0.75 - ETA: 2s - loss: 0.4999 - accuracy: 0.75 - ETA: 2s - loss: 0.5000 - accuracy: 0.75 - ETA: 2s - loss: 0.4996 - accuracy: 0.75 - ETA: 2s - loss: 0.4990 - accuracy: 0.75 - ETA: 2s - loss: 0.4990 - accuracy: 0.75 - ETA: 2s - loss: 0.4983 - accuracy: 0.75 - ETA: 2s - loss: 0.4983 - accuracy: 0.75 - ETA: 2s - loss: 0.4980 - accuracy: 0.75 - ETA: 2s - loss: 0.4975 - accuracy: 0.75 - ETA: 2s - loss: 0.4975 - accuracy: 0.75 - ETA: 2s - loss: 0.4967 - accuracy: 0.75 - ETA: 2s - loss: 0.4968 - accuracy: 0.75 - ETA: 2s - loss: 0.4966 - accuracy: 0.75 - ETA: 2s - loss: 0.4962 - accuracy: 0.75 - ETA: 2s - loss: 0.4965 - accuracy: 0.75 - ETA: 2s - loss: 0.4964 - accuracy: 0.75 - ETA: 2s - loss: 0.4965 - accuracy: 0.75 - ETA: 2s - loss: 0.4960 - accuracy: 0.75 - ETA: 2s - loss: 0.4962 - accuracy: 0.75 - ETA: 2s - loss: 0.4960 - accuracy: 0.75 - ETA: 2s - loss: 0.4960 - accuracy: 0.75 - ETA: 2s - loss: 0.4956 - accuracy: 0.75 - ETA: 2s - loss: 0.4954 - accuracy: 0.75 - ETA: 2s - loss: 0.4951 - accuracy: 0.75 - ETA: 2s - loss: 0.4947 - accuracy: 0.75 - ETA: 2s - loss: 0.4943 - accuracy: 0.75 - ETA: 2s - loss: 0.4941 - accuracy: 0.75 - ETA: 2s - loss: 0.4936 - accuracy: 0.75 - ETA: 2s - loss: 0.4933 - accuracy: 0.75 - ETA: 2s - loss: 0.4932 - accuracy: 0.75 - ETA: 2s - loss: 0.4931 - accuracy: 0.75 - ETA: 2s - loss: 0.4931 - accuracy: 0.75 - ETA: 2s - loss: 0.4930 - accuracy: 0.75 - ETA: 1s - loss: 0.4929 - accuracy: 0.75 - ETA: 1s - loss: 0.4928 - accuracy: 0.75 - ETA: 1s - loss: 0.4924 - accuracy: 0.75 - ETA: 1s - loss: 0.4921 - accuracy: 0.76 - ETA: 1s - loss: 0.4917 - accuracy: 0.76 - ETA: 1s - loss: 0.4915 - accuracy: 0.76 - ETA: 1s - loss: 0.4913 - accuracy: 0.76 - ETA: 1s - loss: 0.4910 - accuracy: 0.76 - ETA: 1s - loss: 0.4911 - accuracy: 0.76 - ETA: 1s - loss: 0.4907 - accuracy: 0.76 - ETA: 1s - loss: 0.4905 - accuracy: 0.76 - ETA: 1s - loss: 0.4900 - accuracy: 0.76 - ETA: 1s - loss: 0.4900 - accuracy: 0.76 - ETA: 1s - loss: 0.4900 - accuracy: 0.76 - ETA: 1s - loss: 0.4895 - accuracy: 0.76 - ETA: 1s - loss: 0.4890 - accuracy: 0.76 - ETA: 1s - loss: 0.4889 - accuracy: 0.76 - ETA: 1s - loss: 0.4887 - accuracy: 0.76 - ETA: 1s - loss: 0.4888 - accuracy: 0.76 - ETA: 1s - loss: 0.4885 - accuracy: 0.76 - ETA: 1s - loss: 0.4881 - accuracy: 0.76 - ETA: 1s - loss: 0.4878 - accuracy: 0.76 - ETA: 1s - loss: 0.4874 - accuracy: 0.76 - ETA: 1s - loss: 0.4873 - accuracy: 0.76 - ETA: 1s - loss: 0.4872 - accuracy: 0.76 - ETA: 1s - loss: 0.4870 - accuracy: 0.76 - ETA: 1s - loss: 0.4870 - accuracy: 0.76 - ETA: 1s - loss: 0.4868 - accuracy: 0.76 - ETA: 0s - loss: 0.4867 - accuracy: 0.76 - ETA: 0s - loss: 0.4867 - accuracy: 0.76 - ETA: 0s - loss: 0.4864 - accuracy: 0.76 - ETA: 0s - loss: 0.4863 - accuracy: 0.76 - ETA: 0s - loss: 0.4862 - accuracy: 0.76 - ETA: 0s - loss: 0.4859 - accuracy: 0.76 - ETA: 0s - loss: 0.4858 - accuracy: 0.76 - ETA: 0s - loss: 0.4855 - accuracy: 0.76 - ETA: 0s - loss: 0.4856 - accuracy: 0.76 - ETA: 0s - loss: 0.4854 - accuracy: 0.76 - ETA: 0s - loss: 0.4854 - accuracy: 0.76 - ETA: 0s - loss: 0.4853 - accuracy: 0.76 - ETA: 0s - loss: 0.4855 - accuracy: 0.76 - ETA: 0s - loss: 0.4850 - accuracy: 0.76 - ETA: 0s - loss: 0.4849 - accuracy: 0.76 - ETA: 0s - loss: 0.4847 - accuracy: 0.76 - ETA: 0s - loss: 0.4849 - accuracy: 0.76 - ETA: 0s - loss: 0.4848 - accuracy: 0.76 - ETA: 0s - loss: 0.4847 - accuracy: 0.76 - ETA: 0s - loss: 0.4846 - accuracy: 0.76 - ETA: 0s - loss: 0.4845 - accuracy: 0.76 - ETA: 0s - loss: 0.4845 - accuracy: 0.76 - ETA: 0s - loss: 0.4844 - accuracy: 0.76 - ETA: 0s - loss: 0.4845 - accuracy: 0.76 - ETA: 0s - loss: 0.4842 - accuracy: 0.76 - ETA: 0s - loss: 0.4838 - accuracy: 0.76 - ETA: 0s - loss: 0.4843 - accuracy: 0.7650\b\b\b\b\b\b\b\b\b\b\b\b\b\b\b\b\b\b\b\b\b\b\b\b\b\b\b\b\b\b\b\b\b\b\b\b\b\b\b\b\b\b\b\b\b\b\b\b\b\b\b\b\b\b\b\b\b\b\b\b\b\b\b\b\b\b\b\b\b\b\b\b\b\b\b\b\b\b\b\b\b\b\b\b"
     ]
    },
    {
     "name": "stdout",
     "output_type": "stream",
     "text": [
      "804/804 [==============================] - ETA: 0s - loss: 0.4839 - accuracy: 0.76 - 21s 26ms/step - loss: 0.4839 - accuracy: 0.7653 - val_loss: 0.4744 - val_accuracy: 0.7742\n",
      "Epoch 2/5\n"
     ]
    },
    {
     "name": "stdout",
     "output_type": "stream",
     "text": [
      "602/804 [=====================>........] - ETA: 23s - loss: 0.3668 - accuracy: 0.812 - ETA: 19s - loss: 0.3548 - accuracy: 0.812 - ETA: 18s - loss: 0.3487 - accuracy: 0.808 - ETA: 15s - loss: 0.2991 - accuracy: 0.843 - ETA: 14s - loss: 0.2724 - accuracy: 0.866 - ETA: 13s - loss: 0.2361 - accuracy: 0.893 - ETA: 12s - loss: 0.2130 - accuracy: 0.907 - ETA: 12s - loss: 0.2024 - accuracy: 0.913 - ETA: 13s - loss: 0.1973 - accuracy: 0.917 - ETA: 13s - loss: 0.2007 - accuracy: 0.917 - ETA: 13s - loss: 0.1909 - accuracy: 0.921 - ETA: 13s - loss: 0.1918 - accuracy: 0.922 - ETA: 12s - loss: 0.1835 - accuracy: 0.927 - ETA: 12s - loss: 0.1746 - accuracy: 0.931 - ETA: 12s - loss: 0.1756 - accuracy: 0.931 - ETA: 12s - loss: 0.1727 - accuracy: 0.932 - ETA: 12s - loss: 0.1693 - accuracy: 0.934 - ETA: 11s - loss: 0.1701 - accuracy: 0.935 - ETA: 11s - loss: 0.1678 - accuracy: 0.938 - ETA: 15s - loss: 0.1626 - accuracy: 0.940 - ETA: 14s - loss: 0.1609 - accuracy: 0.940 - ETA: 14s - loss: 0.1585 - accuracy: 0.942 - ETA: 14s - loss: 0.1570 - accuracy: 0.943 - ETA: 13s - loss: 0.1586 - accuracy: 0.943 - ETA: 13s - loss: 0.1547 - accuracy: 0.945 - ETA: 13s - loss: 0.1558 - accuracy: 0.945 - ETA: 13s - loss: 0.1569 - accuracy: 0.945 - ETA: 12s - loss: 0.1580 - accuracy: 0.945 - ETA: 12s - loss: 0.1564 - accuracy: 0.946 - ETA: 12s - loss: 0.1557 - accuracy: 0.947 - ETA: 12s - loss: 0.1560 - accuracy: 0.947 - ETA: 12s - loss: 0.1546 - accuracy: 0.947 - ETA: 12s - loss: 0.1534 - accuracy: 0.948 - ETA: 12s - loss: 0.1538 - accuracy: 0.948 - ETA: 12s - loss: 0.1542 - accuracy: 0.948 - ETA: 11s - loss: 0.1520 - accuracy: 0.949 - ETA: 11s - loss: 0.1512 - accuracy: 0.949 - ETA: 11s - loss: 0.1509 - accuracy: 0.949 - ETA: 11s - loss: 0.1530 - accuracy: 0.949 - ETA: 11s - loss: 0.1517 - accuracy: 0.949 - ETA: 11s - loss: 0.1539 - accuracy: 0.949 - ETA: 11s - loss: 0.1533 - accuracy: 0.949 - ETA: 11s - loss: 0.1534 - accuracy: 0.949 - ETA: 11s - loss: 0.1526 - accuracy: 0.949 - ETA: 10s - loss: 0.1550 - accuracy: 0.948 - ETA: 10s - loss: 0.1557 - accuracy: 0.948 - ETA: 10s - loss: 0.1568 - accuracy: 0.948 - ETA: 10s - loss: 0.1557 - accuracy: 0.948 - ETA: 10s - loss: 0.1552 - accuracy: 0.948 - ETA: 10s - loss: 0.1570 - accuracy: 0.947 - ETA: 10s - loss: 0.1572 - accuracy: 0.947 - ETA: 10s - loss: 0.1571 - accuracy: 0.948 - ETA: 10s - loss: 0.1565 - accuracy: 0.948 - ETA: 10s - loss: 0.1554 - accuracy: 0.948 - ETA: 10s - loss: 0.1562 - accuracy: 0.948 - ETA: 10s - loss: 0.1554 - accuracy: 0.948 - ETA: 10s - loss: 0.1539 - accuracy: 0.949 - ETA: 10s - loss: 0.1550 - accuracy: 0.948 - ETA: 9s - loss: 0.1550 - accuracy: 0.948 - ETA: 9s - loss: 0.1542 - accuracy: 0.94 - ETA: 9s - loss: 0.1549 - accuracy: 0.94 - ETA: 9s - loss: 0.1549 - accuracy: 0.94 - ETA: 9s - loss: 0.1555 - accuracy: 0.94 - ETA: 9s - loss: 0.1542 - accuracy: 0.94 - ETA: 9s - loss: 0.1542 - accuracy: 0.94 - ETA: 9s - loss: 0.1541 - accuracy: 0.94 - ETA: 9s - loss: 0.1533 - accuracy: 0.94 - ETA: 9s - loss: 0.1527 - accuracy: 0.94 - ETA: 9s - loss: 0.1523 - accuracy: 0.94 - ETA: 9s - loss: 0.1523 - accuracy: 0.94 - ETA: 9s - loss: 0.1520 - accuracy: 0.94 - ETA: 9s - loss: 0.1516 - accuracy: 0.94 - ETA: 9s - loss: 0.1508 - accuracy: 0.95 - ETA: 9s - loss: 0.1504 - accuracy: 0.95 - ETA: 9s - loss: 0.1508 - accuracy: 0.95 - ETA: 9s - loss: 0.1506 - accuracy: 0.95 - ETA: 9s - loss: 0.1510 - accuracy: 0.95 - ETA: 9s - loss: 0.1505 - accuracy: 0.95 - ETA: 9s - loss: 0.1504 - accuracy: 0.95 - ETA: 9s - loss: 0.1504 - accuracy: 0.95 - ETA: 9s - loss: 0.1495 - accuracy: 0.95 - ETA: 9s - loss: 0.1498 - accuracy: 0.95 - ETA: 9s - loss: 0.1495 - accuracy: 0.95 - ETA: 9s - loss: 0.1489 - accuracy: 0.95 - ETA: 9s - loss: 0.1491 - accuracy: 0.95 - ETA: 8s - loss: 0.1488 - accuracy: 0.95 - ETA: 8s - loss: 0.1482 - accuracy: 0.95 - ETA: 8s - loss: 0.1502 - accuracy: 0.95 - ETA: 8s - loss: 0.1510 - accuracy: 0.95 - ETA: 8s - loss: 0.1506 - accuracy: 0.95 - ETA: 8s - loss: 0.1515 - accuracy: 0.94 - ETA: 8s - loss: 0.1516 - accuracy: 0.94 - ETA: 8s - loss: 0.1510 - accuracy: 0.95 - ETA: 8s - loss: 0.1506 - accuracy: 0.95 - ETA: 8s - loss: 0.1502 - accuracy: 0.95 - ETA: 8s - loss: 0.1499 - accuracy: 0.95 - ETA: 8s - loss: 0.1501 - accuracy: 0.95 - ETA: 8s - loss: 0.1497 - accuracy: 0.95 - ETA: 8s - loss: 0.1497 - accuracy: 0.95 - ETA: 8s - loss: 0.1507 - accuracy: 0.94 - ETA: 8s - loss: 0.1503 - accuracy: 0.95 - ETA: 8s - loss: 0.1501 - accuracy: 0.95 - ETA: 8s - loss: 0.1503 - accuracy: 0.95 - ETA: 8s - loss: 0.1494 - accuracy: 0.95 - ETA: 8s - loss: 0.1495 - accuracy: 0.95 - ETA: 8s - loss: 0.1490 - accuracy: 0.95 - ETA: 8s - loss: 0.1496 - accuracy: 0.95 - ETA: 8s - loss: 0.1496 - accuracy: 0.95 - ETA: 8s - loss: 0.1494 - accuracy: 0.95 - ETA: 8s - loss: 0.1494 - accuracy: 0.95 - ETA: 8s - loss: 0.1492 - accuracy: 0.95 - ETA: 7s - loss: 0.1494 - accuracy: 0.95 - ETA: 7s - loss: 0.1493 - accuracy: 0.95 - ETA: 7s - loss: 0.1487 - accuracy: 0.95 - ETA: 7s - loss: 0.1487 - accuracy: 0.95 - ETA: 7s - loss: 0.1482 - accuracy: 0.95 - ETA: 7s - loss: 0.1479 - accuracy: 0.95 - ETA: 7s - loss: 0.1477 - accuracy: 0.95 - ETA: 7s - loss: 0.1475 - accuracy: 0.95 - ETA: 7s - loss: 0.1472 - accuracy: 0.95 - ETA: 7s - loss: 0.1467 - accuracy: 0.95 - ETA: 7s - loss: 0.1467 - accuracy: 0.95 - ETA: 7s - loss: 0.1466 - accuracy: 0.95 - ETA: 7s - loss: 0.1459 - accuracy: 0.95 - ETA: 7s - loss: 0.1454 - accuracy: 0.95 - ETA: 7s - loss: 0.1451 - accuracy: 0.95 - ETA: 7s - loss: 0.1447 - accuracy: 0.95 - ETA: 7s - loss: 0.1445 - accuracy: 0.95 - ETA: 7s - loss: 0.1442 - accuracy: 0.95 - ETA: 7s - loss: 0.1434 - accuracy: 0.95 - ETA: 7s - loss: 0.1433 - accuracy: 0.95 - ETA: 7s - loss: 0.1431 - accuracy: 0.95 - ETA: 7s - loss: 0.1439 - accuracy: 0.95 - ETA: 7s - loss: 0.1434 - accuracy: 0.95 - ETA: 7s - loss: 0.1428 - accuracy: 0.95 - ETA: 6s - loss: 0.1426 - accuracy: 0.95 - ETA: 6s - loss: 0.1423 - accuracy: 0.95 - ETA: 6s - loss: 0.1420 - accuracy: 0.95 - ETA: 6s - loss: 0.1421 - accuracy: 0.95 - ETA: 6s - loss: 0.1417 - accuracy: 0.95 - ETA: 6s - loss: 0.1419 - accuracy: 0.95 - ETA: 6s - loss: 0.1421 - accuracy: 0.95 - ETA: 6s - loss: 0.1426 - accuracy: 0.95 - ETA: 6s - loss: 0.1424 - accuracy: 0.95 - ETA: 7s - loss: 0.1421 - accuracy: 0.95 - ETA: 7s - loss: 0.1421 - accuracy: 0.95 - ETA: 7s - loss: 0.1421 - accuracy: 0.95 - ETA: 7s - loss: 0.1420 - accuracy: 0.95 - ETA: 6s - loss: 0.1417 - accuracy: 0.95 - ETA: 6s - loss: 0.1417 - accuracy: 0.95 - ETA: 6s - loss: 0.1413 - accuracy: 0.95 - ETA: 6s - loss: 0.1408 - accuracy: 0.95 - ETA: 6s - loss: 0.1410 - accuracy: 0.95 - ETA: 6s - loss: 0.1409 - accuracy: 0.95 - ETA: 6s - loss: 0.1406 - accuracy: 0.95 - ETA: 6s - loss: 0.1407 - accuracy: 0.95 - ETA: 6s - loss: 0.1407 - accuracy: 0.95 - ETA: 6s - loss: 0.1407 - accuracy: 0.95 - ETA: 6s - loss: 0.1402 - accuracy: 0.95 - ETA: 6s - loss: 0.1409 - accuracy: 0.95 - ETA: 6s - loss: 0.1405 - accuracy: 0.95 - ETA: 6s - loss: 0.1408 - accuracy: 0.95 - ETA: 6s - loss: 0.1406 - accuracy: 0.95 - ETA: 6s - loss: 0.1407 - accuracy: 0.95 - ETA: 5s - loss: 0.1404 - accuracy: 0.95 - ETA: 5s - loss: 0.1404 - accuracy: 0.95 - ETA: 5s - loss: 0.1401 - accuracy: 0.95 - ETA: 5s - loss: 0.1399 - accuracy: 0.95 - ETA: 5s - loss: 0.1398 - accuracy: 0.95 - ETA: 5s - loss: 0.1394 - accuracy: 0.95 - ETA: 5s - loss: 0.1389 - accuracy: 0.95 - ETA: 5s - loss: 0.1391 - accuracy: 0.95 - ETA: 5s - loss: 0.1394 - accuracy: 0.95 - ETA: 5s - loss: 0.1394 - accuracy: 0.95 - ETA: 5s - loss: 0.1391 - accuracy: 0.95 - ETA: 5s - loss: 0.1396 - accuracy: 0.95 - ETA: 5s - loss: 0.1397 - accuracy: 0.95 - ETA: 5s - loss: 0.1396 - accuracy: 0.95 - ETA: 5s - loss: 0.1394 - accuracy: 0.95 - ETA: 5s - loss: 0.1392 - accuracy: 0.95 - ETA: 5s - loss: 0.1394 - accuracy: 0.95 - ETA: 4s - loss: 0.1394 - accuracy: 0.95 - ETA: 4s - loss: 0.1394 - accuracy: 0.95 - ETA: 4s - loss: 0.1390 - accuracy: 0.95 - ETA: 4s - loss: 0.1386 - accuracy: 0.95 - ETA: 4s - loss: 0.1387 - accuracy: 0.95 - ETA: 4s - loss: 0.1386 - accuracy: 0.95 - ETA: 4s - loss: 0.1383 - accuracy: 0.95 - ETA: 4s - loss: 0.1385 - accuracy: 0.95 - ETA: 4s - loss: 0.1383 - accuracy: 0.95 - ETA: 4s - loss: 0.1382 - accuracy: 0.95 - ETA: 4s - loss: 0.1380 - accuracy: 0.9540"
     ]
    },
    {
     "name": "stdout",
     "output_type": "stream",
     "text": [
      "804/804 [==============================] - ETA: 4s - loss: 0.1378 - accuracy: 0.95 - ETA: 4s - loss: 0.1378 - accuracy: 0.95 - ETA: 4s - loss: 0.1376 - accuracy: 0.95 - ETA: 4s - loss: 0.1378 - accuracy: 0.95 - ETA: 3s - loss: 0.1377 - accuracy: 0.95 - ETA: 3s - loss: 0.1376 - accuracy: 0.95 - ETA: 3s - loss: 0.1376 - accuracy: 0.95 - ETA: 3s - loss: 0.1376 - accuracy: 0.95 - ETA: 3s - loss: 0.1372 - accuracy: 0.95 - ETA: 3s - loss: 0.1369 - accuracy: 0.95 - ETA: 3s - loss: 0.1365 - accuracy: 0.95 - ETA: 3s - loss: 0.1364 - accuracy: 0.95 - ETA: 3s - loss: 0.1361 - accuracy: 0.95 - ETA: 3s - loss: 0.1365 - accuracy: 0.95 - ETA: 3s - loss: 0.1365 - accuracy: 0.95 - ETA: 3s - loss: 0.1369 - accuracy: 0.95 - ETA: 3s - loss: 0.1368 - accuracy: 0.95 - ETA: 3s - loss: 0.1365 - accuracy: 0.95 - ETA: 3s - loss: 0.1362 - accuracy: 0.95 - ETA: 3s - loss: 0.1362 - accuracy: 0.95 - ETA: 2s - loss: 0.1361 - accuracy: 0.95 - ETA: 2s - loss: 0.1361 - accuracy: 0.95 - ETA: 2s - loss: 0.1358 - accuracy: 0.95 - ETA: 2s - loss: 0.1361 - accuracy: 0.95 - ETA: 2s - loss: 0.1358 - accuracy: 0.95 - ETA: 2s - loss: 0.1356 - accuracy: 0.95 - ETA: 2s - loss: 0.1363 - accuracy: 0.95 - ETA: 2s - loss: 0.1359 - accuracy: 0.95 - ETA: 2s - loss: 0.1358 - accuracy: 0.95 - ETA: 2s - loss: 0.1359 - accuracy: 0.95 - ETA: 2s - loss: 0.1356 - accuracy: 0.95 - ETA: 2s - loss: 0.1359 - accuracy: 0.95 - ETA: 2s - loss: 0.1365 - accuracy: 0.95 - ETA: 2s - loss: 0.1366 - accuracy: 0.95 - ETA: 2s - loss: 0.1365 - accuracy: 0.95 - ETA: 2s - loss: 0.1365 - accuracy: 0.95 - ETA: 1s - loss: 0.1362 - accuracy: 0.95 - ETA: 1s - loss: 0.1362 - accuracy: 0.95 - ETA: 1s - loss: 0.1362 - accuracy: 0.95 - ETA: 1s - loss: 0.1361 - accuracy: 0.95 - ETA: 1s - loss: 0.1363 - accuracy: 0.95 - ETA: 1s - loss: 0.1364 - accuracy: 0.95 - ETA: 1s - loss: 0.1364 - accuracy: 0.95 - ETA: 1s - loss: 0.1364 - accuracy: 0.95 - ETA: 1s - loss: 0.1364 - accuracy: 0.95 - ETA: 1s - loss: 0.1365 - accuracy: 0.95 - ETA: 1s - loss: 0.1363 - accuracy: 0.95 - ETA: 1s - loss: 0.1367 - accuracy: 0.95 - ETA: 1s - loss: 0.1366 - accuracy: 0.95 - ETA: 1s - loss: 0.1363 - accuracy: 0.95 - ETA: 1s - loss: 0.1363 - accuracy: 0.95 - ETA: 1s - loss: 0.1361 - accuracy: 0.95 - ETA: 1s - loss: 0.1364 - accuracy: 0.95 - ETA: 1s - loss: 0.1362 - accuracy: 0.95 - ETA: 1s - loss: 0.1360 - accuracy: 0.95 - ETA: 1s - loss: 0.1359 - accuracy: 0.95 - ETA: 0s - loss: 0.1359 - accuracy: 0.95 - ETA: 0s - loss: 0.1360 - accuracy: 0.95 - ETA: 0s - loss: 0.1360 - accuracy: 0.95 - ETA: 0s - loss: 0.1361 - accuracy: 0.95 - ETA: 0s - loss: 0.1363 - accuracy: 0.95 - ETA: 0s - loss: 0.1362 - accuracy: 0.95 - ETA: 0s - loss: 0.1361 - accuracy: 0.95 - ETA: 0s - loss: 0.1364 - accuracy: 0.95 - ETA: 0s - loss: 0.1362 - accuracy: 0.95 - ETA: 0s - loss: 0.1360 - accuracy: 0.95 - ETA: 0s - loss: 0.1361 - accuracy: 0.95 - ETA: 0s - loss: 0.1359 - accuracy: 0.95 - ETA: 0s - loss: 0.1359 - accuracy: 0.95 - ETA: 0s - loss: 0.1359 - accuracy: 0.95 - ETA: 0s - loss: 0.1356 - accuracy: 0.95 - ETA: 0s - loss: 0.1354 - accuracy: 0.95 - ETA: 0s - loss: 0.1353 - accuracy: 0.95 - ETA: 0s - loss: 0.1355 - accuracy: 0.95 - 19s 24ms/step - loss: 0.1354 - accuracy: 0.9541 - val_loss: 0.5761 - val_accuracy: 0.6367\n",
      "Epoch 3/5\n"
     ]
    },
    {
     "name": "stdout",
     "output_type": "stream",
     "text": [
      "642/804 [======================>.......] - ETA: 19s - loss: 0.0534 - accuracy: 1.000 - ETA: 11s - loss: 0.0955 - accuracy: 0.975 - ETA: 12s - loss: 0.1156 - accuracy: 0.958 - ETA: 12s - loss: 0.1028 - accuracy: 0.959 - ETA: 12s - loss: 0.1080 - accuracy: 0.959 - ETA: 12s - loss: 0.1030 - accuracy: 0.959 - ETA: 11s - loss: 0.1117 - accuracy: 0.955 - ETA: 11s - loss: 0.1195 - accuracy: 0.952 - ETA: 11s - loss: 0.1208 - accuracy: 0.952 - ETA: 11s - loss: 0.1217 - accuracy: 0.952 - ETA: 11s - loss: 0.1186 - accuracy: 0.954 - ETA: 12s - loss: 0.1179 - accuracy: 0.953 - ETA: 12s - loss: 0.1208 - accuracy: 0.952 - ETA: 12s - loss: 0.1188 - accuracy: 0.954 - ETA: 12s - loss: 0.1157 - accuracy: 0.956 - ETA: 11s - loss: 0.1113 - accuracy: 0.958 - ETA: 11s - loss: 0.1099 - accuracy: 0.959 - ETA: 11s - loss: 0.1086 - accuracy: 0.959 - ETA: 11s - loss: 0.1087 - accuracy: 0.958 - ETA: 11s - loss: 0.1071 - accuracy: 0.959 - ETA: 11s - loss: 0.1055 - accuracy: 0.959 - ETA: 11s - loss: 0.1068 - accuracy: 0.958 - ETA: 11s - loss: 0.1054 - accuracy: 0.959 - ETA: 11s - loss: 0.1036 - accuracy: 0.960 - ETA: 11s - loss: 0.1021 - accuracy: 0.961 - ETA: 11s - loss: 0.1019 - accuracy: 0.962 - ETA: 11s - loss: 0.1011 - accuracy: 0.961 - ETA: 11s - loss: 0.1020 - accuracy: 0.961 - ETA: 11s - loss: 0.1021 - accuracy: 0.961 - ETA: 11s - loss: 0.1026 - accuracy: 0.961 - ETA: 11s - loss: 0.1024 - accuracy: 0.961 - ETA: 10s - loss: 0.1030 - accuracy: 0.962 - ETA: 10s - loss: 0.1017 - accuracy: 0.962 - ETA: 10s - loss: 0.1009 - accuracy: 0.963 - ETA: 10s - loss: 0.1011 - accuracy: 0.963 - ETA: 10s - loss: 0.1019 - accuracy: 0.963 - ETA: 10s - loss: 0.1017 - accuracy: 0.963 - ETA: 10s - loss: 0.1008 - accuracy: 0.963 - ETA: 10s - loss: 0.1018 - accuracy: 0.962 - ETA: 10s - loss: 0.1020 - accuracy: 0.962 - ETA: 10s - loss: 0.1014 - accuracy: 0.962 - ETA: 10s - loss: 0.1014 - accuracy: 0.962 - ETA: 10s - loss: 0.1007 - accuracy: 0.963 - ETA: 10s - loss: 0.1001 - accuracy: 0.963 - ETA: 10s - loss: 0.1003 - accuracy: 0.963 - ETA: 10s - loss: 0.1007 - accuracy: 0.962 - ETA: 10s - loss: 0.1010 - accuracy: 0.962 - ETA: 10s - loss: 0.1007 - accuracy: 0.962 - ETA: 10s - loss: 0.1016 - accuracy: 0.961 - ETA: 10s - loss: 0.1008 - accuracy: 0.962 - ETA: 10s - loss: 0.0999 - accuracy: 0.962 - ETA: 10s - loss: 0.1005 - accuracy: 0.962 - ETA: 10s - loss: 0.1000 - accuracy: 0.962 - ETA: 10s - loss: 0.0996 - accuracy: 0.962 - ETA: 10s - loss: 0.0985 - accuracy: 0.962 - ETA: 10s - loss: 0.0996 - accuracy: 0.962 - ETA: 10s - loss: 0.1005 - accuracy: 0.962 - ETA: 10s - loss: 0.1003 - accuracy: 0.962 - ETA: 9s - loss: 0.1014 - accuracy: 0.961 - ETA: 9s - loss: 0.1015 - accuracy: 0.96 - ETA: 9s - loss: 0.1018 - accuracy: 0.96 - ETA: 9s - loss: 0.1023 - accuracy: 0.96 - ETA: 9s - loss: 0.1025 - accuracy: 0.96 - ETA: 9s - loss: 0.1024 - accuracy: 0.96 - ETA: 9s - loss: 0.1023 - accuracy: 0.96 - ETA: 9s - loss: 0.1020 - accuracy: 0.96 - ETA: 9s - loss: 0.1025 - accuracy: 0.96 - ETA: 9s - loss: 0.1035 - accuracy: 0.96 - ETA: 9s - loss: 0.1031 - accuracy: 0.96 - ETA: 9s - loss: 0.1032 - accuracy: 0.96 - ETA: 9s - loss: 0.1027 - accuracy: 0.96 - ETA: 9s - loss: 0.1018 - accuracy: 0.96 - ETA: 9s - loss: 0.1016 - accuracy: 0.96 - ETA: 9s - loss: 0.1009 - accuracy: 0.96 - ETA: 9s - loss: 0.1015 - accuracy: 0.96 - ETA: 9s - loss: 0.1018 - accuracy: 0.96 - ETA: 9s - loss: 0.1020 - accuracy: 0.96 - ETA: 9s - loss: 0.1020 - accuracy: 0.96 - ETA: 9s - loss: 0.1023 - accuracy: 0.96 - ETA: 9s - loss: 0.1019 - accuracy: 0.96 - ETA: 9s - loss: 0.1012 - accuracy: 0.96 - ETA: 9s - loss: 0.1011 - accuracy: 0.96 - ETA: 8s - loss: 0.1005 - accuracy: 0.96 - ETA: 8s - loss: 0.1011 - accuracy: 0.96 - ETA: 8s - loss: 0.1013 - accuracy: 0.96 - ETA: 8s - loss: 0.1016 - accuracy: 0.96 - ETA: 8s - loss: 0.1015 - accuracy: 0.96 - ETA: 8s - loss: 0.1012 - accuracy: 0.96 - ETA: 8s - loss: 0.1010 - accuracy: 0.96 - ETA: 8s - loss: 0.1006 - accuracy: 0.96 - ETA: 8s - loss: 0.1002 - accuracy: 0.96 - ETA: 8s - loss: 0.1001 - accuracy: 0.96 - ETA: 8s - loss: 0.1001 - accuracy: 0.96 - ETA: 8s - loss: 0.1010 - accuracy: 0.96 - ETA: 8s - loss: 0.1009 - accuracy: 0.96 - ETA: 8s - loss: 0.1013 - accuracy: 0.96 - ETA: 8s - loss: 0.1019 - accuracy: 0.96 - ETA: 8s - loss: 0.1020 - accuracy: 0.96 - ETA: 7s - loss: 0.1015 - accuracy: 0.96 - ETA: 7s - loss: 0.1016 - accuracy: 0.96 - ETA: 7s - loss: 0.1020 - accuracy: 0.96 - ETA: 7s - loss: 0.1021 - accuracy: 0.96 - ETA: 7s - loss: 0.1017 - accuracy: 0.96 - ETA: 7s - loss: 0.1027 - accuracy: 0.96 - ETA: 7s - loss: 0.1025 - accuracy: 0.96 - ETA: 7s - loss: 0.1027 - accuracy: 0.96 - ETA: 7s - loss: 0.1024 - accuracy: 0.96 - ETA: 7s - loss: 0.1024 - accuracy: 0.96 - ETA: 7s - loss: 0.1022 - accuracy: 0.96 - ETA: 7s - loss: 0.1023 - accuracy: 0.96 - ETA: 7s - loss: 0.1027 - accuracy: 0.96 - ETA: 7s - loss: 0.1023 - accuracy: 0.96 - ETA: 7s - loss: 0.1024 - accuracy: 0.96 - ETA: 7s - loss: 0.1027 - accuracy: 0.96 - ETA: 6s - loss: 0.1031 - accuracy: 0.96 - ETA: 6s - loss: 0.1032 - accuracy: 0.96 - ETA: 6s - loss: 0.1031 - accuracy: 0.96 - ETA: 6s - loss: 0.1029 - accuracy: 0.96 - ETA: 6s - loss: 0.1029 - accuracy: 0.96 - ETA: 6s - loss: 0.1034 - accuracy: 0.96 - ETA: 6s - loss: 0.1034 - accuracy: 0.96 - ETA: 6s - loss: 0.1037 - accuracy: 0.96 - ETA: 6s - loss: 0.1041 - accuracy: 0.96 - ETA: 6s - loss: 0.1039 - accuracy: 0.96 - ETA: 6s - loss: 0.1037 - accuracy: 0.96 - ETA: 6s - loss: 0.1038 - accuracy: 0.96 - ETA: 6s - loss: 0.1035 - accuracy: 0.96 - ETA: 6s - loss: 0.1037 - accuracy: 0.96 - ETA: 6s - loss: 0.1037 - accuracy: 0.96 - ETA: 6s - loss: 0.1036 - accuracy: 0.96 - ETA: 6s - loss: 0.1042 - accuracy: 0.96 - ETA: 6s - loss: 0.1042 - accuracy: 0.96 - ETA: 5s - loss: 0.1046 - accuracy: 0.96 - ETA: 5s - loss: 0.1043 - accuracy: 0.96 - ETA: 5s - loss: 0.1046 - accuracy: 0.96 - ETA: 5s - loss: 0.1044 - accuracy: 0.96 - ETA: 5s - loss: 0.1040 - accuracy: 0.96 - ETA: 5s - loss: 0.1044 - accuracy: 0.96 - ETA: 5s - loss: 0.1043 - accuracy: 0.96 - ETA: 5s - loss: 0.1039 - accuracy: 0.96 - ETA: 5s - loss: 0.1037 - accuracy: 0.96 - ETA: 5s - loss: 0.1041 - accuracy: 0.96 - ETA: 5s - loss: 0.1039 - accuracy: 0.96 - ETA: 5s - loss: 0.1036 - accuracy: 0.96 - ETA: 5s - loss: 0.1041 - accuracy: 0.96 - ETA: 5s - loss: 0.1041 - accuracy: 0.96 - ETA: 5s - loss: 0.1038 - accuracy: 0.96 - ETA: 5s - loss: 0.1038 - accuracy: 0.96 - ETA: 4s - loss: 0.1036 - accuracy: 0.96 - ETA: 4s - loss: 0.1033 - accuracy: 0.96 - ETA: 4s - loss: 0.1031 - accuracy: 0.96 - ETA: 4s - loss: 0.1029 - accuracy: 0.96 - ETA: 4s - loss: 0.1028 - accuracy: 0.96 - ETA: 4s - loss: 0.1026 - accuracy: 0.96 - ETA: 4s - loss: 0.1023 - accuracy: 0.96 - ETA: 4s - loss: 0.1019 - accuracy: 0.96 - ETA: 4s - loss: 0.1022 - accuracy: 0.96 - ETA: 4s - loss: 0.1017 - accuracy: 0.96 - ETA: 4s - loss: 0.1020 - accuracy: 0.96 - ETA: 4s - loss: 0.1019 - accuracy: 0.96 - ETA: 4s - loss: 0.1016 - accuracy: 0.96 - ETA: 4s - loss: 0.1015 - accuracy: 0.96 - ETA: 4s - loss: 0.1015 - accuracy: 0.96 - ETA: 4s - loss: 0.1016 - accuracy: 0.96 - ETA: 4s - loss: 0.1014 - accuracy: 0.96 - ETA: 4s - loss: 0.1014 - accuracy: 0.96 - ETA: 4s - loss: 0.1015 - accuracy: 0.96 - ETA: 4s - loss: 0.1012 - accuracy: 0.96 - ETA: 3s - loss: 0.1015 - accuracy: 0.96 - ETA: 3s - loss: 0.1021 - accuracy: 0.96 - ETA: 3s - loss: 0.1021 - accuracy: 0.96 - ETA: 3s - loss: 0.1020 - accuracy: 0.96 - ETA: 3s - loss: 0.1021 - accuracy: 0.96 - ETA: 3s - loss: 0.1020 - accuracy: 0.96 - ETA: 3s - loss: 0.1019 - accuracy: 0.96 - ETA: 3s - loss: 0.1021 - accuracy: 0.96 - ETA: 3s - loss: 0.1022 - accuracy: 0.96 - ETA: 3s - loss: 0.1022 - accuracy: 0.96 - ETA: 3s - loss: 0.1021 - accuracy: 0.96 - ETA: 3s - loss: 0.1020 - accuracy: 0.96 - ETA: 3s - loss: 0.1022 - accuracy: 0.96 - ETA: 3s - loss: 0.1025 - accuracy: 0.96 - ETA: 3s - loss: 0.1028 - accuracy: 0.96 - ETA: 3s - loss: 0.1032 - accuracy: 0.96 - ETA: 3s - loss: 0.1030 - accuracy: 0.96 - ETA: 3s - loss: 0.1028 - accuracy: 0.96 - ETA: 2s - loss: 0.1028 - accuracy: 0.96 - ETA: 2s - loss: 0.1025 - accuracy: 0.96 - ETA: 2s - loss: 0.1022 - accuracy: 0.96 - ETA: 2s - loss: 0.1020 - accuracy: 0.96 - ETA: 2s - loss: 0.1023 - accuracy: 0.96 - ETA: 2s - loss: 0.1025 - accuracy: 0.9618"
     ]
    },
    {
     "name": "stdout",
     "output_type": "stream",
     "text": [
      "804/804 [==============================] - ETA: 2s - loss: 0.1023 - accuracy: 0.96 - ETA: 2s - loss: 0.1022 - accuracy: 0.96 - ETA: 2s - loss: 0.1023 - accuracy: 0.96 - ETA: 2s - loss: 0.1019 - accuracy: 0.96 - ETA: 2s - loss: 0.1017 - accuracy: 0.96 - ETA: 2s - loss: 0.1015 - accuracy: 0.96 - ETA: 2s - loss: 0.1013 - accuracy: 0.96 - ETA: 2s - loss: 0.1012 - accuracy: 0.96 - ETA: 2s - loss: 0.1011 - accuracy: 0.96 - ETA: 2s - loss: 0.1008 - accuracy: 0.96 - ETA: 2s - loss: 0.1006 - accuracy: 0.96 - ETA: 2s - loss: 0.1004 - accuracy: 0.96 - ETA: 2s - loss: 0.1005 - accuracy: 0.96 - ETA: 2s - loss: 0.1010 - accuracy: 0.96 - ETA: 2s - loss: 0.1009 - accuracy: 0.96 - ETA: 1s - loss: 0.1010 - accuracy: 0.96 - ETA: 1s - loss: 0.1008 - accuracy: 0.96 - ETA: 1s - loss: 0.1009 - accuracy: 0.96 - ETA: 1s - loss: 0.1008 - accuracy: 0.96 - ETA: 1s - loss: 0.1007 - accuracy: 0.96 - ETA: 1s - loss: 0.1008 - accuracy: 0.96 - ETA: 1s - loss: 0.1010 - accuracy: 0.96 - ETA: 1s - loss: 0.1011 - accuracy: 0.96 - ETA: 1s - loss: 0.1010 - accuracy: 0.96 - ETA: 1s - loss: 0.1010 - accuracy: 0.96 - ETA: 1s - loss: 0.1015 - accuracy: 0.96 - ETA: 1s - loss: 0.1018 - accuracy: 0.96 - ETA: 1s - loss: 0.1016 - accuracy: 0.96 - ETA: 1s - loss: 0.1016 - accuracy: 0.96 - ETA: 1s - loss: 0.1017 - accuracy: 0.96 - ETA: 1s - loss: 0.1019 - accuracy: 0.96 - ETA: 1s - loss: 0.1018 - accuracy: 0.96 - ETA: 1s - loss: 0.1019 - accuracy: 0.96 - ETA: 1s - loss: 0.1017 - accuracy: 0.96 - ETA: 1s - loss: 0.1018 - accuracy: 0.96 - ETA: 1s - loss: 0.1019 - accuracy: 0.96 - ETA: 1s - loss: 0.1018 - accuracy: 0.96 - ETA: 1s - loss: 0.1018 - accuracy: 0.96 - ETA: 0s - loss: 0.1020 - accuracy: 0.96 - ETA: 0s - loss: 0.1018 - accuracy: 0.96 - ETA: 0s - loss: 0.1018 - accuracy: 0.96 - ETA: 0s - loss: 0.1018 - accuracy: 0.96 - ETA: 0s - loss: 0.1020 - accuracy: 0.96 - ETA: 0s - loss: 0.1020 - accuracy: 0.96 - ETA: 0s - loss: 0.1019 - accuracy: 0.96 - ETA: 0s - loss: 0.1019 - accuracy: 0.96 - ETA: 0s - loss: 0.1020 - accuracy: 0.96 - ETA: 0s - loss: 0.1019 - accuracy: 0.96 - ETA: 0s - loss: 0.1022 - accuracy: 0.96 - ETA: 0s - loss: 0.1023 - accuracy: 0.96 - ETA: 0s - loss: 0.1025 - accuracy: 0.96 - ETA: 0s - loss: 0.1027 - accuracy: 0.96 - ETA: 0s - loss: 0.1026 - accuracy: 0.96 - ETA: 0s - loss: 0.1025 - accuracy: 0.96 - ETA: 0s - loss: 0.1025 - accuracy: 0.96 - ETA: 0s - loss: 0.1023 - accuracy: 0.96 - ETA: 0s - loss: 0.1025 - accuracy: 0.96 - ETA: 0s - loss: 0.1023 - accuracy: 0.96 - ETA: 0s - loss: 0.1023 - accuracy: 0.96 - ETA: 0s - loss: 0.1022 - accuracy: 0.96 - ETA: 0s - loss: 0.1025 - accuracy: 0.96 - 16s 20ms/step - loss: 0.1024 - accuracy: 0.9617 - val_loss: 0.5703 - val_accuracy: 0.6299\n",
      "Epoch 4/5\n"
     ]
    },
    {
     "name": "stdout",
     "output_type": "stream",
     "text": [
      "648/804 [=======================>......] - ETA: 19s - loss: 0.0620 - accuracy: 0.968 - ETA: 12s - loss: 0.0803 - accuracy: 0.968 - ETA: 13s - loss: 0.0597 - accuracy: 0.980 - ETA: 13s - loss: 0.0791 - accuracy: 0.968 - ETA: 13s - loss: 0.0757 - accuracy: 0.971 - ETA: 13s - loss: 0.0746 - accuracy: 0.972 - ETA: 13s - loss: 0.0708 - accuracy: 0.975 - ETA: 13s - loss: 0.0687 - accuracy: 0.976 - ETA: 13s - loss: 0.0700 - accuracy: 0.976 - ETA: 13s - loss: 0.0671 - accuracy: 0.977 - ETA: 13s - loss: 0.0679 - accuracy: 0.977 - ETA: 14s - loss: 0.0699 - accuracy: 0.976 - ETA: 14s - loss: 0.0684 - accuracy: 0.977 - ETA: 14s - loss: 0.0705 - accuracy: 0.977 - ETA: 14s - loss: 0.0693 - accuracy: 0.978 - ETA: 15s - loss: 0.0687 - accuracy: 0.977 - ETA: 15s - loss: 0.0672 - accuracy: 0.977 - ETA: 15s - loss: 0.0660 - accuracy: 0.977 - ETA: 15s - loss: 0.0676 - accuracy: 0.977 - ETA: 14s - loss: 0.0696 - accuracy: 0.976 - ETA: 14s - loss: 0.0697 - accuracy: 0.976 - ETA: 14s - loss: 0.0716 - accuracy: 0.975 - ETA: 14s - loss: 0.0724 - accuracy: 0.975 - ETA: 13s - loss: 0.0782 - accuracy: 0.972 - ETA: 13s - loss: 0.0799 - accuracy: 0.972 - ETA: 13s - loss: 0.0786 - accuracy: 0.972 - ETA: 13s - loss: 0.0779 - accuracy: 0.972 - ETA: 13s - loss: 0.0770 - accuracy: 0.973 - ETA: 13s - loss: 0.0792 - accuracy: 0.971 - ETA: 13s - loss: 0.0794 - accuracy: 0.971 - ETA: 13s - loss: 0.0815 - accuracy: 0.971 - ETA: 12s - loss: 0.0808 - accuracy: 0.971 - ETA: 12s - loss: 0.0794 - accuracy: 0.972 - ETA: 12s - loss: 0.0821 - accuracy: 0.970 - ETA: 12s - loss: 0.0809 - accuracy: 0.971 - ETA: 12s - loss: 0.0830 - accuracy: 0.969 - ETA: 12s - loss: 0.0829 - accuracy: 0.969 - ETA: 12s - loss: 0.0821 - accuracy: 0.969 - ETA: 12s - loss: 0.0816 - accuracy: 0.969 - ETA: 12s - loss: 0.0808 - accuracy: 0.970 - ETA: 12s - loss: 0.0815 - accuracy: 0.970 - ETA: 11s - loss: 0.0813 - accuracy: 0.970 - ETA: 11s - loss: 0.0825 - accuracy: 0.969 - ETA: 12s - loss: 0.0832 - accuracy: 0.969 - ETA: 12s - loss: 0.0839 - accuracy: 0.968 - ETA: 12s - loss: 0.0829 - accuracy: 0.969 - ETA: 12s - loss: 0.0832 - accuracy: 0.969 - ETA: 12s - loss: 0.0835 - accuracy: 0.969 - ETA: 11s - loss: 0.0830 - accuracy: 0.969 - ETA: 11s - loss: 0.0834 - accuracy: 0.968 - ETA: 11s - loss: 0.0836 - accuracy: 0.968 - ETA: 11s - loss: 0.0845 - accuracy: 0.968 - ETA: 11s - loss: 0.0844 - accuracy: 0.968 - ETA: 11s - loss: 0.0846 - accuracy: 0.967 - ETA: 11s - loss: 0.0839 - accuracy: 0.968 - ETA: 11s - loss: 0.0832 - accuracy: 0.968 - ETA: 11s - loss: 0.0844 - accuracy: 0.967 - ETA: 11s - loss: 0.0851 - accuracy: 0.967 - ETA: 11s - loss: 0.0857 - accuracy: 0.966 - ETA: 11s - loss: 0.0859 - accuracy: 0.966 - ETA: 10s - loss: 0.0856 - accuracy: 0.967 - ETA: 10s - loss: 0.0858 - accuracy: 0.966 - ETA: 10s - loss: 0.0864 - accuracy: 0.966 - ETA: 10s - loss: 0.0860 - accuracy: 0.966 - ETA: 10s - loss: 0.0863 - accuracy: 0.966 - ETA: 10s - loss: 0.0861 - accuracy: 0.967 - ETA: 10s - loss: 0.0864 - accuracy: 0.966 - ETA: 10s - loss: 0.0864 - accuracy: 0.966 - ETA: 10s - loss: 0.0871 - accuracy: 0.966 - ETA: 10s - loss: 0.0877 - accuracy: 0.966 - ETA: 10s - loss: 0.0872 - accuracy: 0.966 - ETA: 10s - loss: 0.0873 - accuracy: 0.966 - ETA: 10s - loss: 0.0868 - accuracy: 0.966 - ETA: 10s - loss: 0.0866 - accuracy: 0.966 - ETA: 10s - loss: 0.0862 - accuracy: 0.966 - ETA: 10s - loss: 0.0860 - accuracy: 0.966 - ETA: 9s - loss: 0.0866 - accuracy: 0.966 - ETA: 9s - loss: 0.0869 - accuracy: 0.96 - ETA: 9s - loss: 0.0867 - accuracy: 0.96 - ETA: 9s - loss: 0.0873 - accuracy: 0.96 - ETA: 9s - loss: 0.0871 - accuracy: 0.96 - ETA: 9s - loss: 0.0873 - accuracy: 0.96 - ETA: 9s - loss: 0.0874 - accuracy: 0.96 - ETA: 9s - loss: 0.0872 - accuracy: 0.96 - ETA: 9s - loss: 0.0869 - accuracy: 0.96 - ETA: 9s - loss: 0.0866 - accuracy: 0.96 - ETA: 9s - loss: 0.0861 - accuracy: 0.96 - ETA: 9s - loss: 0.0866 - accuracy: 0.96 - ETA: 9s - loss: 0.0866 - accuracy: 0.96 - ETA: 8s - loss: 0.0874 - accuracy: 0.96 - ETA: 8s - loss: 0.0880 - accuracy: 0.96 - ETA: 8s - loss: 0.0886 - accuracy: 0.96 - ETA: 8s - loss: 0.0888 - accuracy: 0.96 - ETA: 8s - loss: 0.0890 - accuracy: 0.96 - ETA: 8s - loss: 0.0886 - accuracy: 0.96 - ETA: 8s - loss: 0.0886 - accuracy: 0.96 - ETA: 8s - loss: 0.0891 - accuracy: 0.96 - ETA: 8s - loss: 0.0892 - accuracy: 0.96 - ETA: 8s - loss: 0.0890 - accuracy: 0.96 - ETA: 8s - loss: 0.0890 - accuracy: 0.96 - ETA: 8s - loss: 0.0890 - accuracy: 0.96 - ETA: 8s - loss: 0.0893 - accuracy: 0.96 - ETA: 8s - loss: 0.0893 - accuracy: 0.96 - ETA: 8s - loss: 0.0900 - accuracy: 0.96 - ETA: 8s - loss: 0.0907 - accuracy: 0.96 - ETA: 7s - loss: 0.0909 - accuracy: 0.96 - ETA: 7s - loss: 0.0906 - accuracy: 0.96 - ETA: 7s - loss: 0.0906 - accuracy: 0.96 - ETA: 7s - loss: 0.0905 - accuracy: 0.96 - ETA: 7s - loss: 0.0905 - accuracy: 0.96 - ETA: 7s - loss: 0.0903 - accuracy: 0.96 - ETA: 7s - loss: 0.0906 - accuracy: 0.96 - ETA: 7s - loss: 0.0910 - accuracy: 0.96 - ETA: 7s - loss: 0.0919 - accuracy: 0.96 - ETA: 7s - loss: 0.0915 - accuracy: 0.96 - ETA: 7s - loss: 0.0913 - accuracy: 0.96 - ETA: 7s - loss: 0.0909 - accuracy: 0.96 - ETA: 7s - loss: 0.0909 - accuracy: 0.96 - ETA: 7s - loss: 0.0912 - accuracy: 0.96 - ETA: 7s - loss: 0.0908 - accuracy: 0.96 - ETA: 7s - loss: 0.0908 - accuracy: 0.96 - ETA: 6s - loss: 0.0908 - accuracy: 0.96 - ETA: 6s - loss: 0.0912 - accuracy: 0.96 - ETA: 6s - loss: 0.0915 - accuracy: 0.96 - ETA: 6s - loss: 0.0912 - accuracy: 0.96 - ETA: 6s - loss: 0.0913 - accuracy: 0.96 - ETA: 6s - loss: 0.0910 - accuracy: 0.96 - ETA: 6s - loss: 0.0909 - accuracy: 0.96 - ETA: 6s - loss: 0.0908 - accuracy: 0.96 - ETA: 6s - loss: 0.0910 - accuracy: 0.96 - ETA: 6s - loss: 0.0910 - accuracy: 0.96 - ETA: 6s - loss: 0.0909 - accuracy: 0.96 - ETA: 6s - loss: 0.0907 - accuracy: 0.96 - ETA: 6s - loss: 0.0905 - accuracy: 0.96 - ETA: 6s - loss: 0.0907 - accuracy: 0.96 - ETA: 6s - loss: 0.0912 - accuracy: 0.96 - ETA: 6s - loss: 0.0916 - accuracy: 0.96 - ETA: 6s - loss: 0.0913 - accuracy: 0.96 - ETA: 5s - loss: 0.0910 - accuracy: 0.96 - ETA: 5s - loss: 0.0911 - accuracy: 0.96 - ETA: 5s - loss: 0.0911 - accuracy: 0.96 - ETA: 5s - loss: 0.0912 - accuracy: 0.96 - ETA: 5s - loss: 0.0911 - accuracy: 0.96 - ETA: 5s - loss: 0.0920 - accuracy: 0.96 - ETA: 5s - loss: 0.0922 - accuracy: 0.96 - ETA: 5s - loss: 0.0922 - accuracy: 0.96 - ETA: 5s - loss: 0.0922 - accuracy: 0.96 - ETA: 5s - loss: 0.0917 - accuracy: 0.96 - ETA: 5s - loss: 0.0916 - accuracy: 0.96 - ETA: 5s - loss: 0.0913 - accuracy: 0.96 - ETA: 5s - loss: 0.0914 - accuracy: 0.96 - ETA: 5s - loss: 0.0914 - accuracy: 0.96 - ETA: 5s - loss: 0.0914 - accuracy: 0.96 - ETA: 5s - loss: 0.0912 - accuracy: 0.96 - ETA: 5s - loss: 0.0911 - accuracy: 0.96 - ETA: 4s - loss: 0.0911 - accuracy: 0.96 - ETA: 4s - loss: 0.0919 - accuracy: 0.96 - ETA: 4s - loss: 0.0921 - accuracy: 0.96 - ETA: 4s - loss: 0.0924 - accuracy: 0.96 - ETA: 4s - loss: 0.0925 - accuracy: 0.96 - ETA: 4s - loss: 0.0923 - accuracy: 0.96 - ETA: 4s - loss: 0.0921 - accuracy: 0.96 - ETA: 4s - loss: 0.0923 - accuracy: 0.96 - ETA: 4s - loss: 0.0924 - accuracy: 0.96 - ETA: 4s - loss: 0.0921 - accuracy: 0.96 - ETA: 4s - loss: 0.0924 - accuracy: 0.96 - ETA: 4s - loss: 0.0925 - accuracy: 0.96 - ETA: 4s - loss: 0.0925 - accuracy: 0.96 - ETA: 4s - loss: 0.0925 - accuracy: 0.96 - ETA: 4s - loss: 0.0926 - accuracy: 0.96 - ETA: 4s - loss: 0.0926 - accuracy: 0.96 - ETA: 3s - loss: 0.0926 - accuracy: 0.96 - ETA: 3s - loss: 0.0931 - accuracy: 0.96 - ETA: 3s - loss: 0.0934 - accuracy: 0.96 - ETA: 3s - loss: 0.0938 - accuracy: 0.96 - ETA: 3s - loss: 0.0939 - accuracy: 0.96 - ETA: 3s - loss: 0.0939 - accuracy: 0.96 - ETA: 3s - loss: 0.0938 - accuracy: 0.96 - ETA: 3s - loss: 0.0938 - accuracy: 0.96 - ETA: 3s - loss: 0.0936 - accuracy: 0.96 - ETA: 3s - loss: 0.0936 - accuracy: 0.96 - ETA: 3s - loss: 0.0934 - accuracy: 0.96 - ETA: 3s - loss: 0.0935 - accuracy: 0.96 - ETA: 3s - loss: 0.0934 - accuracy: 0.96 - ETA: 3s - loss: 0.0933 - accuracy: 0.96 - ETA: 2s - loss: 0.0940 - accuracy: 0.96 - ETA: 2s - loss: 0.0941 - accuracy: 0.96 - ETA: 2s - loss: 0.0940 - accuracy: 0.96 - ETA: 2s - loss: 0.0937 - accuracy: 0.96 - ETA: 2s - loss: 0.0935 - accuracy: 0.96 - ETA: 2s - loss: 0.0941 - accuracy: 0.9632"
     ]
    },
    {
     "name": "stdout",
     "output_type": "stream",
     "text": [
      "804/804 [==============================] - ETA: 2s - loss: 0.0939 - accuracy: 0.96 - ETA: 2s - loss: 0.0938 - accuracy: 0.96 - ETA: 2s - loss: 0.0940 - accuracy: 0.96 - ETA: 2s - loss: 0.0942 - accuracy: 0.96 - ETA: 2s - loss: 0.0944 - accuracy: 0.96 - ETA: 2s - loss: 0.0943 - accuracy: 0.96 - ETA: 2s - loss: 0.0941 - accuracy: 0.96 - ETA: 2s - loss: 0.0940 - accuracy: 0.96 - ETA: 2s - loss: 0.0942 - accuracy: 0.96 - ETA: 2s - loss: 0.0942 - accuracy: 0.96 - ETA: 1s - loss: 0.0940 - accuracy: 0.96 - ETA: 1s - loss: 0.0939 - accuracy: 0.96 - ETA: 1s - loss: 0.0940 - accuracy: 0.96 - ETA: 1s - loss: 0.0941 - accuracy: 0.96 - ETA: 1s - loss: 0.0944 - accuracy: 0.96 - ETA: 1s - loss: 0.0944 - accuracy: 0.96 - ETA: 1s - loss: 0.0941 - accuracy: 0.96 - ETA: 1s - loss: 0.0943 - accuracy: 0.96 - ETA: 1s - loss: 0.0939 - accuracy: 0.96 - ETA: 1s - loss: 0.0938 - accuracy: 0.96 - ETA: 1s - loss: 0.0940 - accuracy: 0.96 - ETA: 1s - loss: 0.0941 - accuracy: 0.96 - ETA: 1s - loss: 0.0940 - accuracy: 0.96 - ETA: 1s - loss: 0.0939 - accuracy: 0.96 - ETA: 1s - loss: 0.0938 - accuracy: 0.96 - ETA: 1s - loss: 0.0939 - accuracy: 0.96 - ETA: 1s - loss: 0.0942 - accuracy: 0.96 - ETA: 1s - loss: 0.0945 - accuracy: 0.96 - ETA: 0s - loss: 0.0944 - accuracy: 0.96 - ETA: 0s - loss: 0.0943 - accuracy: 0.96 - ETA: 0s - loss: 0.0944 - accuracy: 0.96 - ETA: 0s - loss: 0.0945 - accuracy: 0.96 - ETA: 0s - loss: 0.0946 - accuracy: 0.96 - ETA: 0s - loss: 0.0947 - accuracy: 0.96 - ETA: 0s - loss: 0.0947 - accuracy: 0.96 - ETA: 0s - loss: 0.0945 - accuracy: 0.96 - ETA: 0s - loss: 0.0945 - accuracy: 0.96 - ETA: 0s - loss: 0.0944 - accuracy: 0.96 - ETA: 0s - loss: 0.0944 - accuracy: 0.96 - ETA: 0s - loss: 0.0946 - accuracy: 0.96 - ETA: 0s - loss: 0.0947 - accuracy: 0.96 - ETA: 0s - loss: 0.0950 - accuracy: 0.96 - ETA: 0s - loss: 0.0950 - accuracy: 0.96 - ETA: 0s - loss: 0.0949 - accuracy: 0.96 - ETA: 0s - loss: 0.0950 - accuracy: 0.96 - ETA: 0s - loss: 0.0953 - accuracy: 0.96 - 15s 19ms/step - loss: 0.0953 - accuracy: 0.9628 - val_loss: 0.6060 - val_accuracy: 0.6252\n",
      "Epoch 5/5\n"
     ]
    },
    {
     "name": "stdout",
     "output_type": "stream",
     "text": [
      "637/804 [======================>.......] - ETA: 23s - loss: 0.0481 - accuracy: 1.000 - ETA: 18s - loss: 0.0547 - accuracy: 0.984 - ETA: 20s - loss: 0.0867 - accuracy: 0.968 - ETA: 18s - loss: 0.0703 - accuracy: 0.975 - ETA: 16s - loss: 0.0859 - accuracy: 0.971 - ETA: 16s - loss: 0.0786 - accuracy: 0.972 - ETA: 16s - loss: 0.0753 - accuracy: 0.974 - ETA: 16s - loss: 0.0706 - accuracy: 0.976 - ETA: 15s - loss: 0.0811 - accuracy: 0.971 - ETA: 14s - loss: 0.0860 - accuracy: 0.966 - ETA: 14s - loss: 0.0808 - accuracy: 0.970 - ETA: 14s - loss: 0.0851 - accuracy: 0.970 - ETA: 14s - loss: 0.0866 - accuracy: 0.968 - ETA: 14s - loss: 0.0895 - accuracy: 0.967 - ETA: 14s - loss: 0.0910 - accuracy: 0.967 - ETA: 13s - loss: 0.0935 - accuracy: 0.966 - ETA: 13s - loss: 0.0912 - accuracy: 0.967 - ETA: 13s - loss: 0.0895 - accuracy: 0.968 - ETA: 13s - loss: 0.0887 - accuracy: 0.967 - ETA: 13s - loss: 0.0908 - accuracy: 0.967 - ETA: 13s - loss: 0.0909 - accuracy: 0.966 - ETA: 13s - loss: 0.0943 - accuracy: 0.964 - ETA: 13s - loss: 0.0932 - accuracy: 0.964 - ETA: 13s - loss: 0.0908 - accuracy: 0.965 - ETA: 13s - loss: 0.0921 - accuracy: 0.965 - ETA: 13s - loss: 0.0923 - accuracy: 0.965 - ETA: 13s - loss: 0.0910 - accuracy: 0.965 - ETA: 13s - loss: 0.0890 - accuracy: 0.966 - ETA: 13s - loss: 0.0900 - accuracy: 0.965 - ETA: 13s - loss: 0.0904 - accuracy: 0.965 - ETA: 13s - loss: 0.0893 - accuracy: 0.965 - ETA: 13s - loss: 0.0895 - accuracy: 0.965 - ETA: 12s - loss: 0.0874 - accuracy: 0.966 - ETA: 12s - loss: 0.0877 - accuracy: 0.966 - ETA: 12s - loss: 0.0887 - accuracy: 0.965 - ETA: 12s - loss: 0.0895 - accuracy: 0.965 - ETA: 12s - loss: 0.0901 - accuracy: 0.964 - ETA: 12s - loss: 0.0925 - accuracy: 0.963 - ETA: 12s - loss: 0.0924 - accuracy: 0.964 - ETA: 12s - loss: 0.0927 - accuracy: 0.964 - ETA: 12s - loss: 0.0915 - accuracy: 0.965 - ETA: 12s - loss: 0.0919 - accuracy: 0.965 - ETA: 12s - loss: 0.0912 - accuracy: 0.965 - ETA: 12s - loss: 0.0901 - accuracy: 0.965 - ETA: 12s - loss: 0.0893 - accuracy: 0.966 - ETA: 12s - loss: 0.0892 - accuracy: 0.966 - ETA: 12s - loss: 0.0891 - accuracy: 0.965 - ETA: 12s - loss: 0.0880 - accuracy: 0.966 - ETA: 11s - loss: 0.0877 - accuracy: 0.966 - ETA: 11s - loss: 0.0892 - accuracy: 0.966 - ETA: 11s - loss: 0.0896 - accuracy: 0.966 - ETA: 11s - loss: 0.0886 - accuracy: 0.966 - ETA: 11s - loss: 0.0882 - accuracy: 0.966 - ETA: 11s - loss: 0.0884 - accuracy: 0.966 - ETA: 11s - loss: 0.0882 - accuracy: 0.966 - ETA: 11s - loss: 0.0887 - accuracy: 0.965 - ETA: 11s - loss: 0.0887 - accuracy: 0.966 - ETA: 11s - loss: 0.0884 - accuracy: 0.966 - ETA: 11s - loss: 0.0884 - accuracy: 0.966 - ETA: 11s - loss: 0.0876 - accuracy: 0.966 - ETA: 10s - loss: 0.0873 - accuracy: 0.966 - ETA: 10s - loss: 0.0874 - accuracy: 0.966 - ETA: 10s - loss: 0.0877 - accuracy: 0.966 - ETA: 10s - loss: 0.0875 - accuracy: 0.965 - ETA: 10s - loss: 0.0870 - accuracy: 0.966 - ETA: 10s - loss: 0.0872 - accuracy: 0.966 - ETA: 10s - loss: 0.0874 - accuracy: 0.966 - ETA: 10s - loss: 0.0875 - accuracy: 0.966 - ETA: 10s - loss: 0.0879 - accuracy: 0.966 - ETA: 10s - loss: 0.0874 - accuracy: 0.966 - ETA: 10s - loss: 0.0879 - accuracy: 0.966 - ETA: 10s - loss: 0.0883 - accuracy: 0.966 - ETA: 10s - loss: 0.0883 - accuracy: 0.966 - ETA: 10s - loss: 0.0884 - accuracy: 0.966 - ETA: 9s - loss: 0.0889 - accuracy: 0.965 - ETA: 9s - loss: 0.0893 - accuracy: 0.96 - ETA: 9s - loss: 0.0891 - accuracy: 0.96 - ETA: 9s - loss: 0.0893 - accuracy: 0.96 - ETA: 9s - loss: 0.0889 - accuracy: 0.96 - ETA: 9s - loss: 0.0894 - accuracy: 0.96 - ETA: 9s - loss: 0.0890 - accuracy: 0.96 - ETA: 9s - loss: 0.0887 - accuracy: 0.96 - ETA: 9s - loss: 0.0893 - accuracy: 0.96 - ETA: 9s - loss: 0.0893 - accuracy: 0.96 - ETA: 9s - loss: 0.0889 - accuracy: 0.96 - ETA: 9s - loss: 0.0890 - accuracy: 0.96 - ETA: 9s - loss: 0.0888 - accuracy: 0.96 - ETA: 8s - loss: 0.0889 - accuracy: 0.96 - ETA: 8s - loss: 0.0895 - accuracy: 0.96 - ETA: 8s - loss: 0.0890 - accuracy: 0.96 - ETA: 8s - loss: 0.0893 - accuracy: 0.96 - ETA: 8s - loss: 0.0892 - accuracy: 0.96 - ETA: 8s - loss: 0.0893 - accuracy: 0.96 - ETA: 8s - loss: 0.0894 - accuracy: 0.96 - ETA: 8s - loss: 0.0897 - accuracy: 0.96 - ETA: 8s - loss: 0.0896 - accuracy: 0.96 - ETA: 8s - loss: 0.0892 - accuracy: 0.96 - ETA: 8s - loss: 0.0898 - accuracy: 0.96 - ETA: 8s - loss: 0.0895 - accuracy: 0.96 - ETA: 8s - loss: 0.0896 - accuracy: 0.96 - ETA: 8s - loss: 0.0892 - accuracy: 0.96 - ETA: 8s - loss: 0.0891 - accuracy: 0.96 - ETA: 7s - loss: 0.0886 - accuracy: 0.96 - ETA: 7s - loss: 0.0882 - accuracy: 0.96 - ETA: 7s - loss: 0.0881 - accuracy: 0.96 - ETA: 7s - loss: 0.0884 - accuracy: 0.96 - ETA: 7s - loss: 0.0886 - accuracy: 0.96 - ETA: 7s - loss: 0.0885 - accuracy: 0.96 - ETA: 7s - loss: 0.0880 - accuracy: 0.96 - ETA: 7s - loss: 0.0877 - accuracy: 0.96 - ETA: 7s - loss: 0.0875 - accuracy: 0.96 - ETA: 7s - loss: 0.0879 - accuracy: 0.96 - ETA: 7s - loss: 0.0873 - accuracy: 0.96 - ETA: 7s - loss: 0.0874 - accuracy: 0.96 - ETA: 7s - loss: 0.0877 - accuracy: 0.96 - ETA: 7s - loss: 0.0879 - accuracy: 0.96 - ETA: 7s - loss: 0.0877 - accuracy: 0.96 - ETA: 7s - loss: 0.0877 - accuracy: 0.96 - ETA: 7s - loss: 0.0876 - accuracy: 0.96 - ETA: 7s - loss: 0.0875 - accuracy: 0.96 - ETA: 6s - loss: 0.0873 - accuracy: 0.96 - ETA: 6s - loss: 0.0875 - accuracy: 0.96 - ETA: 6s - loss: 0.0873 - accuracy: 0.96 - ETA: 6s - loss: 0.0877 - accuracy: 0.96 - ETA: 6s - loss: 0.0877 - accuracy: 0.96 - ETA: 6s - loss: 0.0875 - accuracy: 0.96 - ETA: 6s - loss: 0.0874 - accuracy: 0.96 - ETA: 6s - loss: 0.0875 - accuracy: 0.96 - ETA: 6s - loss: 0.0876 - accuracy: 0.96 - ETA: 6s - loss: 0.0875 - accuracy: 0.96 - ETA: 6s - loss: 0.0875 - accuracy: 0.96 - ETA: 6s - loss: 0.0875 - accuracy: 0.96 - ETA: 6s - loss: 0.0871 - accuracy: 0.96 - ETA: 6s - loss: 0.0872 - accuracy: 0.96 - ETA: 6s - loss: 0.0871 - accuracy: 0.96 - ETA: 6s - loss: 0.0872 - accuracy: 0.96 - ETA: 6s - loss: 0.0873 - accuracy: 0.96 - ETA: 6s - loss: 0.0871 - accuracy: 0.96 - ETA: 5s - loss: 0.0868 - accuracy: 0.96 - ETA: 5s - loss: 0.0871 - accuracy: 0.96 - ETA: 5s - loss: 0.0878 - accuracy: 0.96 - ETA: 5s - loss: 0.0876 - accuracy: 0.96 - ETA: 5s - loss: 0.0879 - accuracy: 0.96 - ETA: 5s - loss: 0.0880 - accuracy: 0.96 - ETA: 5s - loss: 0.0878 - accuracy: 0.96 - ETA: 5s - loss: 0.0882 - accuracy: 0.96 - ETA: 5s - loss: 0.0880 - accuracy: 0.96 - ETA: 5s - loss: 0.0878 - accuracy: 0.96 - ETA: 5s - loss: 0.0877 - accuracy: 0.96 - ETA: 5s - loss: 0.0880 - accuracy: 0.96 - ETA: 5s - loss: 0.0880 - accuracy: 0.96 - ETA: 5s - loss: 0.0880 - accuracy: 0.96 - ETA: 5s - loss: 0.0887 - accuracy: 0.96 - ETA: 5s - loss: 0.0893 - accuracy: 0.96 - ETA: 5s - loss: 0.0894 - accuracy: 0.96 - ETA: 4s - loss: 0.0894 - accuracy: 0.96 - ETA: 4s - loss: 0.0899 - accuracy: 0.96 - ETA: 4s - loss: 0.0901 - accuracy: 0.96 - ETA: 4s - loss: 0.0903 - accuracy: 0.96 - ETA: 4s - loss: 0.0900 - accuracy: 0.96 - ETA: 4s - loss: 0.0901 - accuracy: 0.96 - ETA: 4s - loss: 0.0903 - accuracy: 0.96 - ETA: 4s - loss: 0.0902 - accuracy: 0.96 - ETA: 4s - loss: 0.0900 - accuracy: 0.96 - ETA: 4s - loss: 0.0900 - accuracy: 0.96 - ETA: 4s - loss: 0.0900 - accuracy: 0.96 - ETA: 4s - loss: 0.0901 - accuracy: 0.96 - ETA: 4s - loss: 0.0898 - accuracy: 0.96 - ETA: 4s - loss: 0.0898 - accuracy: 0.96 - ETA: 4s - loss: 0.0897 - accuracy: 0.96 - ETA: 4s - loss: 0.0897 - accuracy: 0.96 - ETA: 4s - loss: 0.0897 - accuracy: 0.96 - ETA: 3s - loss: 0.0896 - accuracy: 0.96 - ETA: 3s - loss: 0.0893 - accuracy: 0.96 - ETA: 3s - loss: 0.0893 - accuracy: 0.96 - ETA: 3s - loss: 0.0889 - accuracy: 0.96 - ETA: 3s - loss: 0.0889 - accuracy: 0.96 - ETA: 3s - loss: 0.0885 - accuracy: 0.96 - ETA: 3s - loss: 0.0887 - accuracy: 0.96 - ETA: 3s - loss: 0.0890 - accuracy: 0.96 - ETA: 3s - loss: 0.0896 - accuracy: 0.96 - ETA: 3s - loss: 0.0897 - accuracy: 0.96 - ETA: 3s - loss: 0.0897 - accuracy: 0.96 - ETA: 3s - loss: 0.0897 - accuracy: 0.96 - ETA: 3s - loss: 0.0900 - accuracy: 0.96 - ETA: 3s - loss: 0.0899 - accuracy: 0.96 - ETA: 3s - loss: 0.0898 - accuracy: 0.96 - ETA: 3s - loss: 0.0898 - accuracy: 0.96 - ETA: 2s - loss: 0.0898 - accuracy: 0.96 - ETA: 2s - loss: 0.0902 - accuracy: 0.96 - ETA: 2s - loss: 0.0903 - accuracy: 0.9647"
     ]
    },
    {
     "name": "stdout",
     "output_type": "stream",
     "text": [
      "804/804 [==============================] - ETA: 2s - loss: 0.0904 - accuracy: 0.96 - ETA: 2s - loss: 0.0904 - accuracy: 0.96 - ETA: 2s - loss: 0.0901 - accuracy: 0.96 - ETA: 2s - loss: 0.0901 - accuracy: 0.96 - ETA: 2s - loss: 0.0900 - accuracy: 0.96 - ETA: 2s - loss: 0.0899 - accuracy: 0.96 - ETA: 2s - loss: 0.0903 - accuracy: 0.96 - ETA: 2s - loss: 0.0903 - accuracy: 0.96 - ETA: 2s - loss: 0.0901 - accuracy: 0.96 - ETA: 2s - loss: 0.0900 - accuracy: 0.96 - ETA: 2s - loss: 0.0899 - accuracy: 0.96 - ETA: 2s - loss: 0.0897 - accuracy: 0.96 - ETA: 2s - loss: 0.0897 - accuracy: 0.96 - ETA: 2s - loss: 0.0900 - accuracy: 0.96 - ETA: 2s - loss: 0.0901 - accuracy: 0.96 - ETA: 2s - loss: 0.0900 - accuracy: 0.96 - ETA: 2s - loss: 0.0903 - accuracy: 0.96 - ETA: 2s - loss: 0.0903 - accuracy: 0.96 - ETA: 1s - loss: 0.0903 - accuracy: 0.96 - ETA: 1s - loss: 0.0901 - accuracy: 0.96 - ETA: 1s - loss: 0.0903 - accuracy: 0.96 - ETA: 1s - loss: 0.0907 - accuracy: 0.96 - ETA: 1s - loss: 0.0906 - accuracy: 0.96 - ETA: 1s - loss: 0.0906 - accuracy: 0.96 - ETA: 1s - loss: 0.0913 - accuracy: 0.96 - ETA: 1s - loss: 0.0914 - accuracy: 0.96 - ETA: 1s - loss: 0.0913 - accuracy: 0.96 - ETA: 1s - loss: 0.0915 - accuracy: 0.96 - ETA: 1s - loss: 0.0914 - accuracy: 0.96 - ETA: 1s - loss: 0.0916 - accuracy: 0.96 - ETA: 1s - loss: 0.0917 - accuracy: 0.96 - ETA: 1s - loss: 0.0917 - accuracy: 0.96 - ETA: 1s - loss: 0.0917 - accuracy: 0.96 - ETA: 1s - loss: 0.0916 - accuracy: 0.96 - ETA: 1s - loss: 0.0917 - accuracy: 0.96 - ETA: 1s - loss: 0.0919 - accuracy: 0.96 - ETA: 0s - loss: 0.0917 - accuracy: 0.96 - ETA: 0s - loss: 0.0916 - accuracy: 0.96 - ETA: 0s - loss: 0.0917 - accuracy: 0.96 - ETA: 0s - loss: 0.0917 - accuracy: 0.96 - ETA: 0s - loss: 0.0917 - accuracy: 0.96 - ETA: 0s - loss: 0.0916 - accuracy: 0.96 - ETA: 0s - loss: 0.0916 - accuracy: 0.96 - ETA: 0s - loss: 0.0916 - accuracy: 0.96 - ETA: 0s - loss: 0.0918 - accuracy: 0.96 - ETA: 0s - loss: 0.0917 - accuracy: 0.96 - ETA: 0s - loss: 0.0916 - accuracy: 0.96 - ETA: 0s - loss: 0.0915 - accuracy: 0.96 - ETA: 0s - loss: 0.0920 - accuracy: 0.96 - ETA: 0s - loss: 0.0922 - accuracy: 0.96 - ETA: 0s - loss: 0.0926 - accuracy: 0.96 - ETA: 0s - loss: 0.0925 - accuracy: 0.96 - ETA: 0s - loss: 0.0925 - accuracy: 0.96 - ETA: 0s - loss: 0.0927 - accuracy: 0.96 - 15s 19ms/step - loss: 0.0925 - accuracy: 0.9634 - val_loss: 0.5065 - val_accuracy: 0.7279\n"
     ]
    },
    {
     "data": {
      "text/html": [
       "<span style=\"color:#4527A0\"><h1 style=\"font-size:18px\">Trial complete</h1></span>"
      ],
      "text/plain": [
       "<IPython.core.display.HTML object>"
      ]
     },
     "metadata": {},
     "output_type": "display_data"
    },
    {
     "data": {
      "text/html": [
       "<span style=\"color:#4527A0\"><h1 style=\"font-size:18px\">Trial summary</h1></span>"
      ],
      "text/plain": [
       "<IPython.core.display.HTML object>"
      ]
     },
     "metadata": {},
     "output_type": "display_data"
    },
    {
     "data": {
      "text/html": [
       "<span style=\"color:cyan\"> |-Trial ID: d740f7dc4807fae1fef8886dd7a1278a</span>"
      ],
      "text/plain": [
       "<IPython.core.display.HTML object>"
      ]
     },
     "metadata": {},
     "output_type": "display_data"
    },
    {
     "data": {
      "text/html": [
       "<span style=\"color:cyan\"> |-Score: 0.7742273807525635</span>"
      ],
      "text/plain": [
       "<IPython.core.display.HTML object>"
      ]
     },
     "metadata": {},
     "output_type": "display_data"
    },
    {
     "data": {
      "text/html": [
       "<span style=\"color:cyan\"> |-Best step: 0</span>"
      ],
      "text/plain": [
       "<IPython.core.display.HTML object>"
      ]
     },
     "metadata": {},
     "output_type": "display_data"
    },
    {
     "data": {
      "text/html": [
       "<span style=\"color:#7E57C2\"><h2 style=\"font-size:16px\">Hyperparameters:</h2></span>"
      ],
      "text/plain": [
       "<IPython.core.display.HTML object>"
      ]
     },
     "metadata": {},
     "output_type": "display_data"
    },
    {
     "data": {
      "text/html": [
       "<span style=\"color:cyan\"> |-activation: tanh</span>"
      ],
      "text/plain": [
       "<IPython.core.display.HTML object>"
      ]
     },
     "metadata": {},
     "output_type": "display_data"
    },
    {
     "data": {
      "text/html": [
       "<span style=\"color:blue\"> |-first_units: 95</span>"
      ],
      "text/plain": [
       "<IPython.core.display.HTML object>"
      ]
     },
     "metadata": {},
     "output_type": "display_data"
    },
    {
     "data": {
      "text/html": [
       "<span style=\"color:cyan\"> |-num_layers: 5</span>"
      ],
      "text/plain": [
       "<IPython.core.display.HTML object>"
      ]
     },
     "metadata": {},
     "output_type": "display_data"
    },
    {
     "data": {
      "text/html": [
       "<span style=\"color:blue\"> |-tuner/bracket: 0</span>"
      ],
      "text/plain": [
       "<IPython.core.display.HTML object>"
      ]
     },
     "metadata": {},
     "output_type": "display_data"
    },
    {
     "data": {
      "text/html": [
       "<span style=\"color:cyan\"> |-tuner/epochs: 5</span>"
      ],
      "text/plain": [
       "<IPython.core.display.HTML object>"
      ]
     },
     "metadata": {},
     "output_type": "display_data"
    },
    {
     "data": {
      "text/html": [
       "<span style=\"color:blue\"> |-tuner/initial_epoch: 0</span>"
      ],
      "text/plain": [
       "<IPython.core.display.HTML object>"
      ]
     },
     "metadata": {},
     "output_type": "display_data"
    },
    {
     "data": {
      "text/html": [
       "<span style=\"color:cyan\"> |-tuner/round: 0</span>"
      ],
      "text/plain": [
       "<IPython.core.display.HTML object>"
      ]
     },
     "metadata": {},
     "output_type": "display_data"
    },
    {
     "data": {
      "text/html": [
       "<span style=\"color:blue\"> |-units_0: 30</span>"
      ],
      "text/plain": [
       "<IPython.core.display.HTML object>"
      ]
     },
     "metadata": {},
     "output_type": "display_data"
    },
    {
     "data": {
      "text/html": [
       "<span style=\"color:cyan\"> |-units_1: 35</span>"
      ],
      "text/plain": [
       "<IPython.core.display.HTML object>"
      ]
     },
     "metadata": {},
     "output_type": "display_data"
    },
    {
     "data": {
      "text/html": [
       "<span style=\"color:blue\"> |-units_2: 40</span>"
      ],
      "text/plain": [
       "<IPython.core.display.HTML object>"
      ]
     },
     "metadata": {},
     "output_type": "display_data"
    },
    {
     "data": {
      "text/html": [
       "<span style=\"color:cyan\"> |-units_3: 20</span>"
      ],
      "text/plain": [
       "<IPython.core.display.HTML object>"
      ]
     },
     "metadata": {},
     "output_type": "display_data"
    },
    {
     "data": {
      "text/html": [
       "<span style=\"color:blue\"> |-units_4: 10</span>"
      ],
      "text/plain": [
       "<IPython.core.display.HTML object>"
      ]
     },
     "metadata": {},
     "output_type": "display_data"
    },
    {
     "data": {
      "text/html": [
       "<span style=\"color:#4527A0\"><h1 style=\"font-size:18px\">Starting new trial</h1></span>"
      ],
      "text/plain": [
       "<IPython.core.display.HTML object>"
      ]
     },
     "metadata": {},
     "output_type": "display_data"
    },
    {
     "name": "stdout",
     "output_type": "stream",
     "text": [
      "Epoch 1/5\n",
      "804/804 [==============================] - ETA: 5:29 - loss: 0.7437 - accuracy: 0.53 - ETA: 3s - loss: 0.6279 - accuracy: 0.6899 - ETA: 3s - loss: 0.6257 - accuracy: 0.68 - ETA: 3s - loss: 0.6185 - accuracy: 0.67 - ETA: 3s - loss: 0.6095 - accuracy: 0.68 - ETA: 3s - loss: 0.5915 - accuracy: 0.69 - ETA: 3s - loss: 0.5849 - accuracy: 0.70 - ETA: 3s - loss: 0.5754 - accuracy: 0.71 - ETA: 3s - loss: 0.5708 - accuracy: 0.72 - ETA: 3s - loss: 0.5587 - accuracy: 0.72 - ETA: 3s - loss: 0.5583 - accuracy: 0.72 - ETA: 3s - loss: 0.5498 - accuracy: 0.73 - ETA: 3s - loss: 0.5441 - accuracy: 0.73 - ETA: 3s - loss: 0.5394 - accuracy: 0.73 - ETA: 3s - loss: 0.5376 - accuracy: 0.73 - ETA: 3s - loss: 0.5335 - accuracy: 0.74 - ETA: 2s - loss: 0.5307 - accuracy: 0.74 - ETA: 2s - loss: 0.5263 - accuracy: 0.74 - ETA: 2s - loss: 0.5245 - accuracy: 0.74 - ETA: 2s - loss: 0.5227 - accuracy: 0.74 - ETA: 2s - loss: 0.5201 - accuracy: 0.74 - ETA: 2s - loss: 0.5182 - accuracy: 0.75 - ETA: 2s - loss: 0.5157 - accuracy: 0.75 - ETA: 2s - loss: 0.5117 - accuracy: 0.75 - ETA: 2s - loss: 0.5086 - accuracy: 0.75 - ETA: 2s - loss: 0.5068 - accuracy: 0.75 - ETA: 2s - loss: 0.5074 - accuracy: 0.75 - ETA: 2s - loss: 0.5072 - accuracy: 0.75 - ETA: 2s - loss: 0.5065 - accuracy: 0.75 - ETA: 2s - loss: 0.5053 - accuracy: 0.75 - ETA: 2s - loss: 0.5039 - accuracy: 0.75 - ETA: 2s - loss: 0.5023 - accuracy: 0.76 - ETA: 2s - loss: 0.5023 - accuracy: 0.76 - ETA: 2s - loss: 0.5019 - accuracy: 0.76 - ETA: 2s - loss: 0.5016 - accuracy: 0.76 - ETA: 2s - loss: 0.4999 - accuracy: 0.76 - ETA: 2s - loss: 0.4987 - accuracy: 0.76 - ETA: 2s - loss: 0.4987 - accuracy: 0.76 - ETA: 2s - loss: 0.4976 - accuracy: 0.76 - ETA: 2s - loss: 0.4968 - accuracy: 0.76 - ETA: 2s - loss: 0.4974 - accuracy: 0.76 - ETA: 2s - loss: 0.4960 - accuracy: 0.76 - ETA: 2s - loss: 0.4954 - accuracy: 0.76 - ETA: 2s - loss: 0.4945 - accuracy: 0.76 - ETA: 2s - loss: 0.4944 - accuracy: 0.76 - ETA: 2s - loss: 0.4935 - accuracy: 0.76 - ETA: 2s - loss: 0.4933 - accuracy: 0.76 - ETA: 2s - loss: 0.4929 - accuracy: 0.76 - ETA: 2s - loss: 0.4921 - accuracy: 0.76 - ETA: 2s - loss: 0.4916 - accuracy: 0.76 - ETA: 2s - loss: 0.4906 - accuracy: 0.76 - ETA: 2s - loss: 0.4895 - accuracy: 0.76 - ETA: 2s - loss: 0.4885 - accuracy: 0.77 - ETA: 2s - loss: 0.4875 - accuracy: 0.77 - ETA: 2s - loss: 0.4874 - accuracy: 0.77 - ETA: 2s - loss: 0.4866 - accuracy: 0.77 - ETA: 2s - loss: 0.4863 - accuracy: 0.77 - ETA: 2s - loss: 0.4857 - accuracy: 0.77 - ETA: 2s - loss: 0.4851 - accuracy: 0.77 - ETA: 2s - loss: 0.4850 - accuracy: 0.77 - ETA: 2s - loss: 0.4847 - accuracy: 0.77 - ETA: 2s - loss: 0.4834 - accuracy: 0.77 - ETA: 2s - loss: 0.4835 - accuracy: 0.77 - ETA: 2s - loss: 0.4834 - accuracy: 0.77 - ETA: 2s - loss: 0.4824 - accuracy: 0.77 - ETA: 1s - loss: 0.4815 - accuracy: 0.77 - ETA: 1s - loss: 0.4813 - accuracy: 0.77 - ETA: 1s - loss: 0.4808 - accuracy: 0.77 - ETA: 1s - loss: 0.4811 - accuracy: 0.77 - ETA: 1s - loss: 0.4807 - accuracy: 0.77 - ETA: 1s - loss: 0.4807 - accuracy: 0.77 - ETA: 1s - loss: 0.4802 - accuracy: 0.77 - ETA: 1s - loss: 0.4799 - accuracy: 0.77 - ETA: 1s - loss: 0.4799 - accuracy: 0.77 - ETA: 1s - loss: 0.4799 - accuracy: 0.77 - ETA: 1s - loss: 0.4804 - accuracy: 0.77 - ETA: 1s - loss: 0.4800 - accuracy: 0.77 - ETA: 1s - loss: 0.4803 - accuracy: 0.77 - ETA: 1s - loss: 0.4803 - accuracy: 0.77 - ETA: 1s - loss: 0.4805 - accuracy: 0.77 - ETA: 1s - loss: 0.4798 - accuracy: 0.77 - ETA: 1s - loss: 0.4797 - accuracy: 0.77 - ETA: 1s - loss: 0.4797 - accuracy: 0.77 - ETA: 1s - loss: 0.4792 - accuracy: 0.77 - ETA: 1s - loss: 0.4789 - accuracy: 0.77 - ETA: 1s - loss: 0.4781 - accuracy: 0.77 - ETA: 1s - loss: 0.4782 - accuracy: 0.77 - ETA: 1s - loss: 0.4783 - accuracy: 0.77 - ETA: 1s - loss: 0.4784 - accuracy: 0.77 - ETA: 1s - loss: 0.4779 - accuracy: 0.77 - ETA: 1s - loss: 0.4779 - accuracy: 0.77 - ETA: 1s - loss: 0.4779 - accuracy: 0.77 - ETA: 1s - loss: 0.4781 - accuracy: 0.77 - ETA: 1s - loss: 0.4788 - accuracy: 0.77 - ETA: 1s - loss: 0.4785 - accuracy: 0.77 - ETA: 1s - loss: 0.4787 - accuracy: 0.77 - ETA: 1s - loss: 0.4782 - accuracy: 0.77 - ETA: 1s - loss: 0.4777 - accuracy: 0.77 - ETA: 1s - loss: 0.4775 - accuracy: 0.77 - ETA: 1s - loss: 0.4773 - accuracy: 0.77 - ETA: 1s - loss: 0.4771 - accuracy: 0.77 - ETA: 1s - loss: 0.4771 - accuracy: 0.77 - ETA: 1s - loss: 0.4773 - accuracy: 0.77 - ETA: 1s - loss: 0.4771 - accuracy: 0.77 - ETA: 0s - loss: 0.4768 - accuracy: 0.77 - ETA: 0s - loss: 0.4766 - accuracy: 0.77 - ETA: 0s - loss: 0.4765 - accuracy: 0.77 - ETA: 0s - loss: 0.4765 - accuracy: 0.77 - ETA: 0s - loss: 0.4761 - accuracy: 0.77 - ETA: 0s - loss: 0.4760 - accuracy: 0.77 - ETA: 0s - loss: 0.4760 - accuracy: 0.77 - ETA: 0s - loss: 0.4759 - accuracy: 0.77 - ETA: 0s - loss: 0.4758 - accuracy: 0.77 - ETA: 0s - loss: 0.4758 - accuracy: 0.77 - ETA: 0s - loss: 0.4756 - accuracy: 0.77 - ETA: 0s - loss: 0.4756 - accuracy: 0.77 - ETA: 0s - loss: 0.4757 - accuracy: 0.77 - ETA: 0s - loss: 0.4757 - accuracy: 0.77 - ETA: 0s - loss: 0.4751 - accuracy: 0.77 - ETA: 0s - loss: 0.4747 - accuracy: 0.77 - ETA: 0s - loss: 0.4744 - accuracy: 0.77 - ETA: 0s - loss: 0.4746 - accuracy: 0.77 - ETA: 0s - loss: 0.4743 - accuracy: 0.77 - ETA: 0s - loss: 0.4738 - accuracy: 0.77 - ETA: 0s - loss: 0.4738 - accuracy: 0.77 - ETA: 0s - loss: 0.4739 - accuracy: 0.77 - ETA: 0s - loss: 0.4738 - accuracy: 0.77 - ETA: 0s - loss: 0.4743 - accuracy: 0.77 - ETA: 0s - loss: 0.4745 - accuracy: 0.77 - ETA: 0s - loss: 0.4744 - accuracy: 0.77 - ETA: 0s - loss: 0.4738 - accuracy: 0.77 - ETA: 0s - loss: 0.4739 - accuracy: 0.77 - ETA: 0s - loss: 0.4741 - accuracy: 0.77 - ETA: 0s - loss: 0.4738 - accuracy: 0.77 - ETA: 0s - loss: 0.4737 - accuracy: 0.77 - 15s 18ms/step - loss: 0.4735 - accuracy: 0.7769 - val_loss: 0.4895 - val_accuracy: 0.7224\n",
      "Epoch 2/5\n"
     ]
    },
    {
     "name": "stdout",
     "output_type": "stream",
     "text": [
      "749/804 [==========================>...] - ETA: 8s - loss: 0.2311 - accuracy: 0.93 - ETA: 6s - loss: 0.2963 - accuracy: 0.84 - ETA: 6s - loss: 0.2833 - accuracy: 0.86 - ETA: 6s - loss: 0.2527 - accuracy: 0.88 - ETA: 5s - loss: 0.2412 - accuracy: 0.90 - ETA: 5s - loss: 0.2381 - accuracy: 0.90 - ETA: 5s - loss: 0.2336 - accuracy: 0.90 - ETA: 5s - loss: 0.2244 - accuracy: 0.90 - ETA: 5s - loss: 0.2178 - accuracy: 0.91 - ETA: 5s - loss: 0.2158 - accuracy: 0.91 - ETA: 5s - loss: 0.2150 - accuracy: 0.91 - ETA: 5s - loss: 0.2109 - accuracy: 0.91 - ETA: 5s - loss: 0.2024 - accuracy: 0.92 - ETA: 5s - loss: 0.1992 - accuracy: 0.92 - ETA: 5s - loss: 0.1975 - accuracy: 0.92 - ETA: 5s - loss: 0.1981 - accuracy: 0.92 - ETA: 5s - loss: 0.1990 - accuracy: 0.92 - ETA: 5s - loss: 0.1969 - accuracy: 0.92 - ETA: 5s - loss: 0.1943 - accuracy: 0.92 - ETA: 5s - loss: 0.1931 - accuracy: 0.92 - ETA: 5s - loss: 0.1905 - accuracy: 0.92 - ETA: 5s - loss: 0.1899 - accuracy: 0.92 - ETA: 5s - loss: 0.1857 - accuracy: 0.92 - ETA: 5s - loss: 0.1861 - accuracy: 0.92 - ETA: 5s - loss: 0.1849 - accuracy: 0.92 - ETA: 5s - loss: 0.1849 - accuracy: 0.93 - ETA: 5s - loss: 0.1848 - accuracy: 0.92 - ETA: 5s - loss: 0.1851 - accuracy: 0.92 - ETA: 5s - loss: 0.1828 - accuracy: 0.93 - ETA: 5s - loss: 0.1826 - accuracy: 0.93 - ETA: 5s - loss: 0.1803 - accuracy: 0.93 - ETA: 5s - loss: 0.1801 - accuracy: 0.93 - ETA: 5s - loss: 0.1781 - accuracy: 0.93 - ETA: 5s - loss: 0.1784 - accuracy: 0.93 - ETA: 5s - loss: 0.1790 - accuracy: 0.93 - ETA: 5s - loss: 0.1790 - accuracy: 0.93 - ETA: 5s - loss: 0.1783 - accuracy: 0.93 - ETA: 5s - loss: 0.1775 - accuracy: 0.93 - ETA: 5s - loss: 0.1763 - accuracy: 0.93 - ETA: 5s - loss: 0.1749 - accuracy: 0.93 - ETA: 5s - loss: 0.1756 - accuracy: 0.93 - ETA: 6s - loss: 0.1753 - accuracy: 0.93 - ETA: 6s - loss: 0.1747 - accuracy: 0.93 - ETA: 6s - loss: 0.1747 - accuracy: 0.93 - ETA: 5s - loss: 0.1742 - accuracy: 0.93 - ETA: 5s - loss: 0.1753 - accuracy: 0.93 - ETA: 5s - loss: 0.1765 - accuracy: 0.93 - ETA: 5s - loss: 0.1750 - accuracy: 0.93 - ETA: 6s - loss: 0.1746 - accuracy: 0.93 - ETA: 6s - loss: 0.1739 - accuracy: 0.93 - ETA: 6s - loss: 0.1734 - accuracy: 0.93 - ETA: 5s - loss: 0.1740 - accuracy: 0.93 - ETA: 6s - loss: 0.1734 - accuracy: 0.93 - ETA: 6s - loss: 0.1744 - accuracy: 0.93 - ETA: 6s - loss: 0.1736 - accuracy: 0.93 - ETA: 6s - loss: 0.1735 - accuracy: 0.93 - ETA: 6s - loss: 0.1749 - accuracy: 0.93 - ETA: 6s - loss: 0.1759 - accuracy: 0.93 - ETA: 5s - loss: 0.1762 - accuracy: 0.93 - ETA: 5s - loss: 0.1754 - accuracy: 0.93 - ETA: 6s - loss: 0.1753 - accuracy: 0.93 - ETA: 6s - loss: 0.1749 - accuracy: 0.93 - ETA: 6s - loss: 0.1749 - accuracy: 0.93 - ETA: 5s - loss: 0.1751 - accuracy: 0.93 - ETA: 5s - loss: 0.1743 - accuracy: 0.93 - ETA: 5s - loss: 0.1747 - accuracy: 0.93 - ETA: 5s - loss: 0.1745 - accuracy: 0.93 - ETA: 5s - loss: 0.1745 - accuracy: 0.93 - ETA: 5s - loss: 0.1743 - accuracy: 0.93 - ETA: 5s - loss: 0.1742 - accuracy: 0.93 - ETA: 5s - loss: 0.1752 - accuracy: 0.93 - ETA: 5s - loss: 0.1744 - accuracy: 0.93 - ETA: 5s - loss: 0.1744 - accuracy: 0.93 - ETA: 5s - loss: 0.1743 - accuracy: 0.93 - ETA: 5s - loss: 0.1736 - accuracy: 0.93 - ETA: 5s - loss: 0.1732 - accuracy: 0.93 - ETA: 5s - loss: 0.1737 - accuracy: 0.93 - ETA: 5s - loss: 0.1733 - accuracy: 0.93 - ETA: 5s - loss: 0.1734 - accuracy: 0.93 - ETA: 5s - loss: 0.1737 - accuracy: 0.93 - ETA: 5s - loss: 0.1745 - accuracy: 0.93 - ETA: 5s - loss: 0.1739 - accuracy: 0.93 - ETA: 5s - loss: 0.1736 - accuracy: 0.93 - ETA: 5s - loss: 0.1732 - accuracy: 0.93 - ETA: 5s - loss: 0.1729 - accuracy: 0.93 - ETA: 5s - loss: 0.1724 - accuracy: 0.93 - ETA: 5s - loss: 0.1717 - accuracy: 0.93 - ETA: 5s - loss: 0.1718 - accuracy: 0.93 - ETA: 5s - loss: 0.1721 - accuracy: 0.93 - ETA: 5s - loss: 0.1720 - accuracy: 0.93 - ETA: 5s - loss: 0.1721 - accuracy: 0.93 - ETA: 5s - loss: 0.1723 - accuracy: 0.93 - ETA: 5s - loss: 0.1718 - accuracy: 0.93 - ETA: 5s - loss: 0.1713 - accuracy: 0.93 - ETA: 5s - loss: 0.1720 - accuracy: 0.93 - ETA: 5s - loss: 0.1715 - accuracy: 0.93 - ETA: 5s - loss: 0.1710 - accuracy: 0.93 - ETA: 5s - loss: 0.1706 - accuracy: 0.93 - ETA: 5s - loss: 0.1699 - accuracy: 0.93 - ETA: 5s - loss: 0.1704 - accuracy: 0.93 - ETA: 5s - loss: 0.1696 - accuracy: 0.93 - ETA: 5s - loss: 0.1692 - accuracy: 0.93 - ETA: 5s - loss: 0.1693 - accuracy: 0.93 - ETA: 5s - loss: 0.1694 - accuracy: 0.93 - ETA: 5s - loss: 0.1695 - accuracy: 0.93 - ETA: 4s - loss: 0.1701 - accuracy: 0.93 - ETA: 4s - loss: 0.1706 - accuracy: 0.93 - ETA: 4s - loss: 0.1705 - accuracy: 0.93 - ETA: 4s - loss: 0.1703 - accuracy: 0.93 - ETA: 4s - loss: 0.1705 - accuracy: 0.93 - ETA: 4s - loss: 0.1704 - accuracy: 0.93 - ETA: 4s - loss: 0.1705 - accuracy: 0.93 - ETA: 4s - loss: 0.1710 - accuracy: 0.93 - ETA: 4s - loss: 0.1711 - accuracy: 0.93 - ETA: 4s - loss: 0.1715 - accuracy: 0.93 - ETA: 4s - loss: 0.1712 - accuracy: 0.93 - ETA: 4s - loss: 0.1711 - accuracy: 0.93 - ETA: 4s - loss: 0.1713 - accuracy: 0.93 - ETA: 4s - loss: 0.1710 - accuracy: 0.93 - ETA: 4s - loss: 0.1708 - accuracy: 0.93 - ETA: 4s - loss: 0.1706 - accuracy: 0.93 - ETA: 4s - loss: 0.1704 - accuracy: 0.93 - ETA: 4s - loss: 0.1704 - accuracy: 0.93 - ETA: 4s - loss: 0.1700 - accuracy: 0.93 - ETA: 4s - loss: 0.1697 - accuracy: 0.93 - ETA: 4s - loss: 0.1698 - accuracy: 0.93 - ETA: 4s - loss: 0.1694 - accuracy: 0.93 - ETA: 4s - loss: 0.1699 - accuracy: 0.93 - ETA: 3s - loss: 0.1698 - accuracy: 0.93 - ETA: 3s - loss: 0.1701 - accuracy: 0.93 - ETA: 3s - loss: 0.1696 - accuracy: 0.93 - ETA: 3s - loss: 0.1692 - accuracy: 0.93 - ETA: 3s - loss: 0.1689 - accuracy: 0.93 - ETA: 3s - loss: 0.1685 - accuracy: 0.93 - ETA: 3s - loss: 0.1681 - accuracy: 0.93 - ETA: 3s - loss: 0.1682 - accuracy: 0.93 - ETA: 3s - loss: 0.1684 - accuracy: 0.93 - ETA: 3s - loss: 0.1688 - accuracy: 0.93 - ETA: 3s - loss: 0.1688 - accuracy: 0.93 - ETA: 3s - loss: 0.1687 - accuracy: 0.93 - ETA: 3s - loss: 0.1685 - accuracy: 0.93 - ETA: 3s - loss: 0.1684 - accuracy: 0.93 - ETA: 3s - loss: 0.1685 - accuracy: 0.93 - ETA: 3s - loss: 0.1682 - accuracy: 0.93 - ETA: 3s - loss: 0.1682 - accuracy: 0.93 - ETA: 3s - loss: 0.1678 - accuracy: 0.93 - ETA: 3s - loss: 0.1679 - accuracy: 0.93 - ETA: 3s - loss: 0.1684 - accuracy: 0.93 - ETA: 2s - loss: 0.1685 - accuracy: 0.93 - ETA: 2s - loss: 0.1686 - accuracy: 0.93 - ETA: 2s - loss: 0.1682 - accuracy: 0.93 - ETA: 2s - loss: 0.1683 - accuracy: 0.93 - ETA: 2s - loss: 0.1686 - accuracy: 0.93 - ETA: 2s - loss: 0.1683 - accuracy: 0.93 - ETA: 2s - loss: 0.1683 - accuracy: 0.93 - ETA: 2s - loss: 0.1686 - accuracy: 0.93 - ETA: 2s - loss: 0.1681 - accuracy: 0.93 - ETA: 2s - loss: 0.1681 - accuracy: 0.93 - ETA: 2s - loss: 0.1685 - accuracy: 0.93 - ETA: 2s - loss: 0.1688 - accuracy: 0.93 - ETA: 2s - loss: 0.1687 - accuracy: 0.93 - ETA: 2s - loss: 0.1691 - accuracy: 0.93 - ETA: 2s - loss: 0.1687 - accuracy: 0.93 - ETA: 2s - loss: 0.1686 - accuracy: 0.93 - ETA: 2s - loss: 0.1688 - accuracy: 0.93 - ETA: 2s - loss: 0.1688 - accuracy: 0.93 - ETA: 2s - loss: 0.1686 - accuracy: 0.93 - ETA: 2s - loss: 0.1688 - accuracy: 0.93 - ETA: 2s - loss: 0.1686 - accuracy: 0.93 - ETA: 1s - loss: 0.1686 - accuracy: 0.93 - ETA: 1s - loss: 0.1684 - accuracy: 0.93 - ETA: 1s - loss: 0.1681 - accuracy: 0.93 - ETA: 1s - loss: 0.1678 - accuracy: 0.93 - ETA: 1s - loss: 0.1673 - accuracy: 0.93 - ETA: 1s - loss: 0.1681 - accuracy: 0.93 - ETA: 1s - loss: 0.1682 - accuracy: 0.93 - ETA: 1s - loss: 0.1681 - accuracy: 0.93 - ETA: 1s - loss: 0.1683 - accuracy: 0.93 - ETA: 1s - loss: 0.1682 - accuracy: 0.93 - ETA: 1s - loss: 0.1681 - accuracy: 0.93 - ETA: 1s - loss: 0.1682 - accuracy: 0.93 - ETA: 1s - loss: 0.1680 - accuracy: 0.93 - ETA: 1s - loss: 0.1676 - accuracy: 0.93 - ETA: 1s - loss: 0.1676 - accuracy: 0.93 - ETA: 1s - loss: 0.1677 - accuracy: 0.93 - ETA: 1s - loss: 0.1676 - accuracy: 0.93 - ETA: 1s - loss: 0.1676 - accuracy: 0.93 - ETA: 1s - loss: 0.1676 - accuracy: 0.93 - ETA: 1s - loss: 0.1678 - accuracy: 0.93 - ETA: 1s - loss: 0.1677 - accuracy: 0.93 - ETA: 0s - loss: 0.1678 - accuracy: 0.93 - ETA: 0s - loss: 0.1676 - accuracy: 0.93 - ETA: 0s - loss: 0.1677 - accuracy: 0.93 - ETA: 0s - loss: 0.1677 - accuracy: 0.93 - ETA: 0s - loss: 0.1677 - accuracy: 0.9368"
     ]
    },
    {
     "name": "stdout",
     "output_type": "stream",
     "text": [
      "804/804 [==============================] - ETA: 0s - loss: 0.1676 - accuracy: 0.93 - ETA: 0s - loss: 0.1673 - accuracy: 0.93 - ETA: 0s - loss: 0.1673 - accuracy: 0.93 - ETA: 0s - loss: 0.1673 - accuracy: 0.93 - ETA: 0s - loss: 0.1674 - accuracy: 0.93 - ETA: 0s - loss: 0.1671 - accuracy: 0.93 - ETA: 0s - loss: 0.1667 - accuracy: 0.93 - ETA: 0s - loss: 0.1669 - accuracy: 0.93 - ETA: 0s - loss: 0.1671 - accuracy: 0.93 - ETA: 0s - loss: 0.1670 - accuracy: 0.93 - ETA: 0s - loss: 0.1672 - accuracy: 0.93 - ETA: 0s - loss: 0.1670 - accuracy: 0.93 - ETA: 0s - loss: 0.1672 - accuracy: 0.93 - ETA: 0s - loss: 0.1671 - accuracy: 0.93 - ETA: 0s - loss: 0.1671 - accuracy: 0.93 - ETA: 0s - loss: 0.1669 - accuracy: 0.93 - 13s 16ms/step - loss: 0.1667 - accuracy: 0.9373 - val_loss: 0.5741 - val_accuracy: 0.6051\n",
      "Epoch 3/5\n"
     ]
    },
    {
     "name": "stdout",
     "output_type": "stream",
     "text": [
      "722/804 [=========================>....] - ETA: 19s - loss: 0.0419 - accuracy: 1.000 - ETA: 11s - loss: 0.0997 - accuracy: 0.962 - ETA: 11s - loss: 0.0916 - accuracy: 0.961 - ETA: 10s - loss: 0.0781 - accuracy: 0.966 - ETA: 10s - loss: 0.0825 - accuracy: 0.967 - ETA: 10s - loss: 0.0869 - accuracy: 0.963 - ETA: 10s - loss: 0.0945 - accuracy: 0.956 - ETA: 10s - loss: 0.0902 - accuracy: 0.958 - ETA: 10s - loss: 0.0854 - accuracy: 0.961 - ETA: 10s - loss: 0.0834 - accuracy: 0.963 - ETA: 10s - loss: 0.0836 - accuracy: 0.962 - ETA: 11s - loss: 0.0840 - accuracy: 0.963 - ETA: 11s - loss: 0.0832 - accuracy: 0.964 - ETA: 11s - loss: 0.0837 - accuracy: 0.964 - ETA: 10s - loss: 0.0820 - accuracy: 0.964 - ETA: 11s - loss: 0.0814 - accuracy: 0.965 - ETA: 11s - loss: 0.0880 - accuracy: 0.963 - ETA: 11s - loss: 0.0885 - accuracy: 0.963 - ETA: 11s - loss: 0.0893 - accuracy: 0.962 - ETA: 10s - loss: 0.0900 - accuracy: 0.962 - ETA: 10s - loss: 0.0904 - accuracy: 0.961 - ETA: 10s - loss: 0.0899 - accuracy: 0.961 - ETA: 10s - loss: 0.0909 - accuracy: 0.961 - ETA: 10s - loss: 0.0930 - accuracy: 0.961 - ETA: 10s - loss: 0.0925 - accuracy: 0.961 - ETA: 10s - loss: 0.0934 - accuracy: 0.961 - ETA: 10s - loss: 0.0929 - accuracy: 0.961 - ETA: 10s - loss: 0.0929 - accuracy: 0.961 - ETA: 10s - loss: 0.0944 - accuracy: 0.959 - ETA: 10s - loss: 0.0931 - accuracy: 0.960 - ETA: 10s - loss: 0.0929 - accuracy: 0.961 - ETA: 10s - loss: 0.0921 - accuracy: 0.961 - ETA: 10s - loss: 0.0921 - accuracy: 0.961 - ETA: 9s - loss: 0.0918 - accuracy: 0.961 - ETA: 9s - loss: 0.0922 - accuracy: 0.96 - ETA: 9s - loss: 0.0925 - accuracy: 0.96 - ETA: 9s - loss: 0.0927 - accuracy: 0.96 - ETA: 9s - loss: 0.0932 - accuracy: 0.96 - ETA: 9s - loss: 0.0922 - accuracy: 0.96 - ETA: 9s - loss: 0.0924 - accuracy: 0.96 - ETA: 9s - loss: 0.0924 - accuracy: 0.96 - ETA: 9s - loss: 0.0912 - accuracy: 0.96 - ETA: 9s - loss: 0.0897 - accuracy: 0.96 - ETA: 9s - loss: 0.0885 - accuracy: 0.96 - ETA: 9s - loss: 0.0879 - accuracy: 0.96 - ETA: 9s - loss: 0.0882 - accuracy: 0.96 - ETA: 9s - loss: 0.0901 - accuracy: 0.96 - ETA: 9s - loss: 0.0905 - accuracy: 0.96 - ETA: 9s - loss: 0.0908 - accuracy: 0.96 - ETA: 9s - loss: 0.0895 - accuracy: 0.96 - ETA: 9s - loss: 0.0898 - accuracy: 0.96 - ETA: 9s - loss: 0.0894 - accuracy: 0.96 - ETA: 9s - loss: 0.0899 - accuracy: 0.96 - ETA: 9s - loss: 0.0899 - accuracy: 0.96 - ETA: 9s - loss: 0.0902 - accuracy: 0.96 - ETA: 8s - loss: 0.0906 - accuracy: 0.96 - ETA: 8s - loss: 0.0902 - accuracy: 0.96 - ETA: 8s - loss: 0.0905 - accuracy: 0.96 - ETA: 8s - loss: 0.0899 - accuracy: 0.96 - ETA: 8s - loss: 0.0907 - accuracy: 0.96 - ETA: 8s - loss: 0.0908 - accuracy: 0.96 - ETA: 8s - loss: 0.0905 - accuracy: 0.96 - ETA: 8s - loss: 0.0896 - accuracy: 0.96 - ETA: 8s - loss: 0.0909 - accuracy: 0.96 - ETA: 8s - loss: 0.0908 - accuracy: 0.96 - ETA: 8s - loss: 0.0914 - accuracy: 0.96 - ETA: 8s - loss: 0.0916 - accuracy: 0.96 - ETA: 8s - loss: 0.0908 - accuracy: 0.96 - ETA: 8s - loss: 0.0905 - accuracy: 0.96 - ETA: 8s - loss: 0.0913 - accuracy: 0.96 - ETA: 8s - loss: 0.0917 - accuracy: 0.96 - ETA: 8s - loss: 0.0920 - accuracy: 0.96 - ETA: 8s - loss: 0.0919 - accuracy: 0.96 - ETA: 8s - loss: 0.0917 - accuracy: 0.96 - ETA: 7s - loss: 0.0919 - accuracy: 0.96 - ETA: 7s - loss: 0.0920 - accuracy: 0.96 - ETA: 7s - loss: 0.0925 - accuracy: 0.96 - ETA: 7s - loss: 0.0920 - accuracy: 0.96 - ETA: 7s - loss: 0.0924 - accuracy: 0.96 - ETA: 7s - loss: 0.0925 - accuracy: 0.96 - ETA: 7s - loss: 0.0924 - accuracy: 0.96 - ETA: 7s - loss: 0.0919 - accuracy: 0.96 - ETA: 7s - loss: 0.0921 - accuracy: 0.96 - ETA: 7s - loss: 0.0927 - accuracy: 0.96 - ETA: 7s - loss: 0.0924 - accuracy: 0.96 - ETA: 7s - loss: 0.0923 - accuracy: 0.96 - ETA: 7s - loss: 0.0923 - accuracy: 0.96 - ETA: 7s - loss: 0.0928 - accuracy: 0.96 - ETA: 7s - loss: 0.0928 - accuracy: 0.96 - ETA: 7s - loss: 0.0926 - accuracy: 0.96 - ETA: 7s - loss: 0.0926 - accuracy: 0.96 - ETA: 7s - loss: 0.0930 - accuracy: 0.96 - ETA: 6s - loss: 0.0936 - accuracy: 0.96 - ETA: 6s - loss: 0.0932 - accuracy: 0.96 - ETA: 6s - loss: 0.0928 - accuracy: 0.96 - ETA: 6s - loss: 0.0934 - accuracy: 0.96 - ETA: 6s - loss: 0.0942 - accuracy: 0.96 - ETA: 6s - loss: 0.0939 - accuracy: 0.96 - ETA: 6s - loss: 0.0942 - accuracy: 0.96 - ETA: 6s - loss: 0.0940 - accuracy: 0.96 - ETA: 6s - loss: 0.0933 - accuracy: 0.96 - ETA: 6s - loss: 0.0937 - accuracy: 0.96 - ETA: 6s - loss: 0.0938 - accuracy: 0.96 - ETA: 6s - loss: 0.0941 - accuracy: 0.96 - ETA: 6s - loss: 0.0946 - accuracy: 0.96 - ETA: 6s - loss: 0.0956 - accuracy: 0.96 - ETA: 6s - loss: 0.0956 - accuracy: 0.96 - ETA: 6s - loss: 0.0957 - accuracy: 0.96 - ETA: 5s - loss: 0.0952 - accuracy: 0.96 - ETA: 5s - loss: 0.0949 - accuracy: 0.96 - ETA: 5s - loss: 0.0956 - accuracy: 0.96 - ETA: 5s - loss: 0.0961 - accuracy: 0.96 - ETA: 5s - loss: 0.0959 - accuracy: 0.96 - ETA: 5s - loss: 0.0960 - accuracy: 0.96 - ETA: 5s - loss: 0.0956 - accuracy: 0.96 - ETA: 5s - loss: 0.0955 - accuracy: 0.96 - ETA: 5s - loss: 0.0954 - accuracy: 0.96 - ETA: 5s - loss: 0.0958 - accuracy: 0.96 - ETA: 5s - loss: 0.0955 - accuracy: 0.96 - ETA: 5s - loss: 0.0957 - accuracy: 0.96 - ETA: 5s - loss: 0.0962 - accuracy: 0.96 - ETA: 5s - loss: 0.0961 - accuracy: 0.96 - ETA: 5s - loss: 0.0967 - accuracy: 0.96 - ETA: 5s - loss: 0.0974 - accuracy: 0.96 - ETA: 5s - loss: 0.0974 - accuracy: 0.96 - ETA: 4s - loss: 0.0979 - accuracy: 0.96 - ETA: 4s - loss: 0.0980 - accuracy: 0.96 - ETA: 4s - loss: 0.0978 - accuracy: 0.96 - ETA: 4s - loss: 0.0976 - accuracy: 0.96 - ETA: 4s - loss: 0.0978 - accuracy: 0.96 - ETA: 4s - loss: 0.0974 - accuracy: 0.96 - ETA: 4s - loss: 0.0971 - accuracy: 0.96 - ETA: 4s - loss: 0.0971 - accuracy: 0.96 - ETA: 4s - loss: 0.0970 - accuracy: 0.96 - ETA: 4s - loss: 0.0973 - accuracy: 0.96 - ETA: 4s - loss: 0.0975 - accuracy: 0.96 - ETA: 4s - loss: 0.0976 - accuracy: 0.96 - ETA: 4s - loss: 0.0975 - accuracy: 0.96 - ETA: 4s - loss: 0.0973 - accuracy: 0.96 - ETA: 4s - loss: 0.0974 - accuracy: 0.96 - ETA: 4s - loss: 0.0972 - accuracy: 0.96 - ETA: 4s - loss: 0.0975 - accuracy: 0.96 - ETA: 3s - loss: 0.0979 - accuracy: 0.96 - ETA: 3s - loss: 0.0981 - accuracy: 0.96 - ETA: 3s - loss: 0.0982 - accuracy: 0.96 - ETA: 3s - loss: 0.0980 - accuracy: 0.96 - ETA: 3s - loss: 0.0980 - accuracy: 0.96 - ETA: 3s - loss: 0.0981 - accuracy: 0.96 - ETA: 3s - loss: 0.0981 - accuracy: 0.96 - ETA: 3s - loss: 0.0978 - accuracy: 0.96 - ETA: 3s - loss: 0.0976 - accuracy: 0.96 - ETA: 3s - loss: 0.0974 - accuracy: 0.96 - ETA: 3s - loss: 0.0970 - accuracy: 0.96 - ETA: 3s - loss: 0.0973 - accuracy: 0.96 - ETA: 3s - loss: 0.0971 - accuracy: 0.96 - ETA: 3s - loss: 0.0968 - accuracy: 0.96 - ETA: 3s - loss: 0.0968 - accuracy: 0.96 - ETA: 3s - loss: 0.0970 - accuracy: 0.96 - ETA: 2s - loss: 0.0969 - accuracy: 0.96 - ETA: 2s - loss: 0.0968 - accuracy: 0.96 - ETA: 2s - loss: 0.0969 - accuracy: 0.96 - ETA: 2s - loss: 0.0973 - accuracy: 0.96 - ETA: 2s - loss: 0.0973 - accuracy: 0.96 - ETA: 2s - loss: 0.0974 - accuracy: 0.96 - ETA: 2s - loss: 0.0978 - accuracy: 0.96 - ETA: 2s - loss: 0.0975 - accuracy: 0.96 - ETA: 2s - loss: 0.0976 - accuracy: 0.96 - ETA: 2s - loss: 0.0975 - accuracy: 0.96 - ETA: 2s - loss: 0.0975 - accuracy: 0.96 - ETA: 2s - loss: 0.0975 - accuracy: 0.96 - ETA: 2s - loss: 0.0974 - accuracy: 0.96 - ETA: 2s - loss: 0.0972 - accuracy: 0.96 - ETA: 2s - loss: 0.0968 - accuracy: 0.96 - ETA: 2s - loss: 0.0967 - accuracy: 0.96 - ETA: 2s - loss: 0.0967 - accuracy: 0.96 - ETA: 2s - loss: 0.0966 - accuracy: 0.96 - ETA: 2s - loss: 0.0967 - accuracy: 0.96 - ETA: 1s - loss: 0.0966 - accuracy: 0.96 - ETA: 1s - loss: 0.0964 - accuracy: 0.96 - ETA: 1s - loss: 0.0963 - accuracy: 0.96 - ETA: 1s - loss: 0.0963 - accuracy: 0.96 - ETA: 1s - loss: 0.0963 - accuracy: 0.96 - ETA: 1s - loss: 0.0961 - accuracy: 0.96 - ETA: 1s - loss: 0.0963 - accuracy: 0.96 - ETA: 1s - loss: 0.0961 - accuracy: 0.96 - ETA: 1s - loss: 0.0962 - accuracy: 0.96 - ETA: 1s - loss: 0.0961 - accuracy: 0.96 - ETA: 1s - loss: 0.0960 - accuracy: 0.96 - ETA: 1s - loss: 0.0960 - accuracy: 0.96 - ETA: 1s - loss: 0.0959 - accuracy: 0.96 - ETA: 1s - loss: 0.0957 - accuracy: 0.96 - ETA: 1s - loss: 0.0958 - accuracy: 0.96 - ETA: 1s - loss: 0.0958 - accuracy: 0.9613"
     ]
    },
    {
     "name": "stdout",
     "output_type": "stream",
     "text": [
      "804/804 [==============================] - ETA: 1s - loss: 0.0959 - accuracy: 0.96 - ETA: 1s - loss: 0.0960 - accuracy: 0.96 - ETA: 1s - loss: 0.0962 - accuracy: 0.96 - ETA: 1s - loss: 0.0964 - accuracy: 0.96 - ETA: 1s - loss: 0.0964 - accuracy: 0.96 - ETA: 0s - loss: 0.0963 - accuracy: 0.96 - ETA: 0s - loss: 0.0964 - accuracy: 0.96 - ETA: 0s - loss: 0.0967 - accuracy: 0.96 - ETA: 0s - loss: 0.0966 - accuracy: 0.96 - ETA: 0s - loss: 0.0964 - accuracy: 0.96 - ETA: 0s - loss: 0.0966 - accuracy: 0.96 - ETA: 0s - loss: 0.0966 - accuracy: 0.96 - ETA: 0s - loss: 0.0965 - accuracy: 0.96 - ETA: 0s - loss: 0.0964 - accuracy: 0.96 - ETA: 0s - loss: 0.0964 - accuracy: 0.96 - ETA: 0s - loss: 0.0964 - accuracy: 0.96 - ETA: 0s - loss: 0.0965 - accuracy: 0.96 - ETA: 0s - loss: 0.0966 - accuracy: 0.96 - ETA: 0s - loss: 0.0967 - accuracy: 0.96 - ETA: 0s - loss: 0.0968 - accuracy: 0.96 - ETA: 0s - loss: 0.0966 - accuracy: 0.96 - ETA: 0s - loss: 0.0966 - accuracy: 0.96 - ETA: 0s - loss: 0.0970 - accuracy: 0.96 - ETA: 0s - loss: 0.0970 - accuracy: 0.96 - 14s 17ms/step - loss: 0.0970 - accuracy: 0.9610 - val_loss: 0.5139 - val_accuracy: 0.7082\n",
      "Epoch 4/5\n"
     ]
    },
    {
     "name": "stdout",
     "output_type": "stream",
     "text": [
      "646/804 [=======================>......] - ETA: 19s - loss: 0.0559 - accuracy: 0.968 - ETA: 16s - loss: 0.0467 - accuracy: 0.984 - ETA: 16s - loss: 0.0617 - accuracy: 0.977 - ETA: 15s - loss: 0.0779 - accuracy: 0.968 - ETA: 15s - loss: 0.0716 - accuracy: 0.971 - ETA: 14s - loss: 0.0675 - accuracy: 0.974 - ETA: 14s - loss: 0.0702 - accuracy: 0.975 - ETA: 14s - loss: 0.0646 - accuracy: 0.976 - ETA: 13s - loss: 0.0716 - accuracy: 0.973 - ETA: 13s - loss: 0.0705 - accuracy: 0.973 - ETA: 12s - loss: 0.0741 - accuracy: 0.971 - ETA: 12s - loss: 0.0701 - accuracy: 0.972 - ETA: 12s - loss: 0.0741 - accuracy: 0.972 - ETA: 12s - loss: 0.0742 - accuracy: 0.973 - ETA: 12s - loss: 0.0778 - accuracy: 0.971 - ETA: 12s - loss: 0.0794 - accuracy: 0.971 - ETA: 11s - loss: 0.0789 - accuracy: 0.971 - ETA: 11s - loss: 0.0806 - accuracy: 0.970 - ETA: 11s - loss: 0.0780 - accuracy: 0.972 - ETA: 11s - loss: 0.0831 - accuracy: 0.970 - ETA: 11s - loss: 0.0823 - accuracy: 0.970 - ETA: 11s - loss: 0.0835 - accuracy: 0.970 - ETA: 11s - loss: 0.0861 - accuracy: 0.968 - ETA: 11s - loss: 0.0846 - accuracy: 0.969 - ETA: 11s - loss: 0.0870 - accuracy: 0.967 - ETA: 11s - loss: 0.0863 - accuracy: 0.967 - ETA: 11s - loss: 0.0853 - accuracy: 0.968 - ETA: 11s - loss: 0.0857 - accuracy: 0.968 - ETA: 11s - loss: 0.0865 - accuracy: 0.967 - ETA: 11s - loss: 0.0858 - accuracy: 0.967 - ETA: 10s - loss: 0.0845 - accuracy: 0.967 - ETA: 10s - loss: 0.0838 - accuracy: 0.968 - ETA: 10s - loss: 0.0839 - accuracy: 0.967 - ETA: 10s - loss: 0.0817 - accuracy: 0.968 - ETA: 10s - loss: 0.0825 - accuracy: 0.967 - ETA: 10s - loss: 0.0809 - accuracy: 0.968 - ETA: 10s - loss: 0.0831 - accuracy: 0.967 - ETA: 10s - loss: 0.0847 - accuracy: 0.966 - ETA: 10s - loss: 0.0844 - accuracy: 0.966 - ETA: 10s - loss: 0.0854 - accuracy: 0.965 - ETA: 10s - loss: 0.0853 - accuracy: 0.965 - ETA: 9s - loss: 0.0845 - accuracy: 0.966 - ETA: 9s - loss: 0.0840 - accuracy: 0.96 - ETA: 9s - loss: 0.0842 - accuracy: 0.96 - ETA: 9s - loss: 0.0840 - accuracy: 0.96 - ETA: 9s - loss: 0.0834 - accuracy: 0.96 - ETA: 9s - loss: 0.0842 - accuracy: 0.96 - ETA: 9s - loss: 0.0838 - accuracy: 0.96 - ETA: 9s - loss: 0.0834 - accuracy: 0.96 - ETA: 9s - loss: 0.0834 - accuracy: 0.96 - ETA: 9s - loss: 0.0847 - accuracy: 0.96 - ETA: 9s - loss: 0.0851 - accuracy: 0.96 - ETA: 8s - loss: 0.0855 - accuracy: 0.96 - ETA: 8s - loss: 0.0862 - accuracy: 0.96 - ETA: 8s - loss: 0.0869 - accuracy: 0.96 - ETA: 8s - loss: 0.0872 - accuracy: 0.96 - ETA: 8s - loss: 0.0873 - accuracy: 0.96 - ETA: 8s - loss: 0.0881 - accuracy: 0.96 - ETA: 8s - loss: 0.0882 - accuracy: 0.96 - ETA: 8s - loss: 0.0883 - accuracy: 0.96 - ETA: 8s - loss: 0.0884 - accuracy: 0.96 - ETA: 8s - loss: 0.0884 - accuracy: 0.96 - ETA: 8s - loss: 0.0877 - accuracy: 0.96 - ETA: 8s - loss: 0.0885 - accuracy: 0.96 - ETA: 8s - loss: 0.0880 - accuracy: 0.96 - ETA: 8s - loss: 0.0875 - accuracy: 0.96 - ETA: 7s - loss: 0.0880 - accuracy: 0.96 - ETA: 7s - loss: 0.0883 - accuracy: 0.96 - ETA: 7s - loss: 0.0891 - accuracy: 0.96 - ETA: 7s - loss: 0.0894 - accuracy: 0.96 - ETA: 7s - loss: 0.0898 - accuracy: 0.96 - ETA: 7s - loss: 0.0898 - accuracy: 0.96 - ETA: 7s - loss: 0.0898 - accuracy: 0.96 - ETA: 7s - loss: 0.0895 - accuracy: 0.96 - ETA: 7s - loss: 0.0896 - accuracy: 0.96 - ETA: 7s - loss: 0.0898 - accuracy: 0.96 - ETA: 7s - loss: 0.0902 - accuracy: 0.96 - ETA: 7s - loss: 0.0898 - accuracy: 0.96 - ETA: 7s - loss: 0.0894 - accuracy: 0.96 - ETA: 7s - loss: 0.0893 - accuracy: 0.96 - ETA: 7s - loss: 0.0889 - accuracy: 0.96 - ETA: 7s - loss: 0.0884 - accuracy: 0.96 - ETA: 7s - loss: 0.0882 - accuracy: 0.96 - ETA: 7s - loss: 0.0875 - accuracy: 0.96 - ETA: 7s - loss: 0.0874 - accuracy: 0.96 - ETA: 7s - loss: 0.0871 - accuracy: 0.96 - ETA: 7s - loss: 0.0871 - accuracy: 0.96 - ETA: 7s - loss: 0.0871 - accuracy: 0.96 - ETA: 7s - loss: 0.0870 - accuracy: 0.96 - ETA: 7s - loss: 0.0872 - accuracy: 0.96 - ETA: 7s - loss: 0.0871 - accuracy: 0.96 - ETA: 7s - loss: 0.0871 - accuracy: 0.96 - ETA: 7s - loss: 0.0872 - accuracy: 0.96 - ETA: 7s - loss: 0.0870 - accuracy: 0.96 - ETA: 7s - loss: 0.0869 - accuracy: 0.96 - ETA: 7s - loss: 0.0866 - accuracy: 0.96 - ETA: 7s - loss: 0.0883 - accuracy: 0.96 - ETA: 7s - loss: 0.0884 - accuracy: 0.96 - ETA: 7s - loss: 0.0885 - accuracy: 0.96 - ETA: 7s - loss: 0.0883 - accuracy: 0.96 - ETA: 7s - loss: 0.0883 - accuracy: 0.96 - ETA: 7s - loss: 0.0884 - accuracy: 0.96 - ETA: 7s - loss: 0.0885 - accuracy: 0.96 - ETA: 7s - loss: 0.0886 - accuracy: 0.96 - ETA: 7s - loss: 0.0884 - accuracy: 0.96 - ETA: 7s - loss: 0.0886 - accuracy: 0.96 - ETA: 7s - loss: 0.0886 - accuracy: 0.96 - ETA: 6s - loss: 0.0889 - accuracy: 0.96 - ETA: 6s - loss: 0.0895 - accuracy: 0.96 - ETA: 6s - loss: 0.0894 - accuracy: 0.96 - ETA: 6s - loss: 0.0894 - accuracy: 0.96 - ETA: 6s - loss: 0.0894 - accuracy: 0.96 - ETA: 6s - loss: 0.0896 - accuracy: 0.96 - ETA: 6s - loss: 0.0900 - accuracy: 0.96 - ETA: 6s - loss: 0.0900 - accuracy: 0.96 - ETA: 6s - loss: 0.0904 - accuracy: 0.96 - ETA: 6s - loss: 0.0907 - accuracy: 0.96 - ETA: 6s - loss: 0.0907 - accuracy: 0.96 - ETA: 6s - loss: 0.0913 - accuracy: 0.96 - ETA: 6s - loss: 0.0909 - accuracy: 0.96 - ETA: 6s - loss: 0.0908 - accuracy: 0.96 - ETA: 6s - loss: 0.0906 - accuracy: 0.96 - ETA: 6s - loss: 0.0908 - accuracy: 0.96 - ETA: 6s - loss: 0.0907 - accuracy: 0.96 - ETA: 6s - loss: 0.0909 - accuracy: 0.96 - ETA: 6s - loss: 0.0910 - accuracy: 0.96 - ETA: 6s - loss: 0.0913 - accuracy: 0.96 - ETA: 6s - loss: 0.0913 - accuracy: 0.96 - ETA: 6s - loss: 0.0911 - accuracy: 0.96 - ETA: 6s - loss: 0.0910 - accuracy: 0.96 - ETA: 6s - loss: 0.0909 - accuracy: 0.96 - ETA: 6s - loss: 0.0911 - accuracy: 0.96 - ETA: 6s - loss: 0.0911 - accuracy: 0.96 - ETA: 6s - loss: 0.0915 - accuracy: 0.96 - ETA: 6s - loss: 0.0924 - accuracy: 0.96 - ETA: 6s - loss: 0.0929 - accuracy: 0.96 - ETA: 6s - loss: 0.0930 - accuracy: 0.96 - ETA: 6s - loss: 0.0933 - accuracy: 0.96 - ETA: 5s - loss: 0.0933 - accuracy: 0.96 - ETA: 5s - loss: 0.0932 - accuracy: 0.96 - ETA: 5s - loss: 0.0934 - accuracy: 0.96 - ETA: 5s - loss: 0.0932 - accuracy: 0.96 - ETA: 5s - loss: 0.0932 - accuracy: 0.96 - ETA: 5s - loss: 0.0934 - accuracy: 0.96 - ETA: 5s - loss: 0.0936 - accuracy: 0.96 - ETA: 5s - loss: 0.0939 - accuracy: 0.96 - ETA: 5s - loss: 0.0938 - accuracy: 0.96 - ETA: 5s - loss: 0.0935 - accuracy: 0.96 - ETA: 5s - loss: 0.0937 - accuracy: 0.96 - ETA: 5s - loss: 0.0935 - accuracy: 0.96 - ETA: 5s - loss: 0.0935 - accuracy: 0.96 - ETA: 5s - loss: 0.0934 - accuracy: 0.96 - ETA: 5s - loss: 0.0937 - accuracy: 0.96 - ETA: 5s - loss: 0.0937 - accuracy: 0.96 - ETA: 5s - loss: 0.0937 - accuracy: 0.96 - ETA: 5s - loss: 0.0937 - accuracy: 0.96 - ETA: 5s - loss: 0.0936 - accuracy: 0.96 - ETA: 5s - loss: 0.0936 - accuracy: 0.96 - ETA: 5s - loss: 0.0940 - accuracy: 0.96 - ETA: 5s - loss: 0.0944 - accuracy: 0.96 - ETA: 5s - loss: 0.0948 - accuracy: 0.96 - ETA: 5s - loss: 0.0945 - accuracy: 0.96 - ETA: 4s - loss: 0.0946 - accuracy: 0.96 - ETA: 4s - loss: 0.0944 - accuracy: 0.96 - ETA: 4s - loss: 0.0941 - accuracy: 0.96 - ETA: 4s - loss: 0.0944 - accuracy: 0.96 - ETA: 4s - loss: 0.0941 - accuracy: 0.96 - ETA: 4s - loss: 0.0941 - accuracy: 0.96 - ETA: 4s - loss: 0.0936 - accuracy: 0.96 - ETA: 4s - loss: 0.0937 - accuracy: 0.96 - ETA: 4s - loss: 0.0939 - accuracy: 0.96 - ETA: 4s - loss: 0.0938 - accuracy: 0.96 - ETA: 4s - loss: 0.0936 - accuracy: 0.96 - ETA: 4s - loss: 0.0934 - accuracy: 0.96 - ETA: 4s - loss: 0.0935 - accuracy: 0.96 - ETA: 3s - loss: 0.0934 - accuracy: 0.96 - ETA: 3s - loss: 0.0935 - accuracy: 0.96 - ETA: 3s - loss: 0.0932 - accuracy: 0.96 - ETA: 3s - loss: 0.0929 - accuracy: 0.96 - ETA: 3s - loss: 0.0933 - accuracy: 0.96 - ETA: 3s - loss: 0.0934 - accuracy: 0.96 - ETA: 3s - loss: 0.0936 - accuracy: 0.96 - ETA: 3s - loss: 0.0935 - accuracy: 0.96 - ETA: 3s - loss: 0.0936 - accuracy: 0.96 - ETA: 3s - loss: 0.0935 - accuracy: 0.96 - ETA: 3s - loss: 0.0935 - accuracy: 0.96 - ETA: 3s - loss: 0.0935 - accuracy: 0.96 - ETA: 3s - loss: 0.0938 - accuracy: 0.96 - ETA: 3s - loss: 0.0936 - accuracy: 0.96 - ETA: 2s - loss: 0.0937 - accuracy: 0.96 - ETA: 2s - loss: 0.0936 - accuracy: 0.96 - ETA: 2s - loss: 0.0937 - accuracy: 0.96 - ETA: 2s - loss: 0.0942 - accuracy: 0.9613"
     ]
    },
    {
     "name": "stdout",
     "output_type": "stream",
     "text": [
      "804/804 [==============================] - ETA: 2s - loss: 0.0942 - accuracy: 0.96 - ETA: 2s - loss: 0.0943 - accuracy: 0.96 - ETA: 2s - loss: 0.0941 - accuracy: 0.96 - ETA: 2s - loss: 0.0941 - accuracy: 0.96 - ETA: 2s - loss: 0.0940 - accuracy: 0.96 - ETA: 2s - loss: 0.0943 - accuracy: 0.96 - ETA: 2s - loss: 0.0944 - accuracy: 0.96 - ETA: 2s - loss: 0.0941 - accuracy: 0.96 - ETA: 2s - loss: 0.0940 - accuracy: 0.96 - ETA: 2s - loss: 0.0940 - accuracy: 0.96 - ETA: 1s - loss: 0.0937 - accuracy: 0.96 - ETA: 1s - loss: 0.0935 - accuracy: 0.96 - ETA: 1s - loss: 0.0938 - accuracy: 0.96 - ETA: 1s - loss: 0.0935 - accuracy: 0.96 - ETA: 1s - loss: 0.0934 - accuracy: 0.96 - ETA: 1s - loss: 0.0932 - accuracy: 0.96 - ETA: 1s - loss: 0.0932 - accuracy: 0.96 - ETA: 1s - loss: 0.0933 - accuracy: 0.96 - ETA: 1s - loss: 0.0934 - accuracy: 0.96 - ETA: 1s - loss: 0.0934 - accuracy: 0.96 - ETA: 1s - loss: 0.0933 - accuracy: 0.96 - ETA: 1s - loss: 0.0933 - accuracy: 0.96 - ETA: 1s - loss: 0.0930 - accuracy: 0.96 - ETA: 1s - loss: 0.0926 - accuracy: 0.96 - ETA: 1s - loss: 0.0927 - accuracy: 0.96 - ETA: 0s - loss: 0.0927 - accuracy: 0.96 - ETA: 0s - loss: 0.0926 - accuracy: 0.96 - ETA: 0s - loss: 0.0929 - accuracy: 0.96 - ETA: 0s - loss: 0.0933 - accuracy: 0.96 - ETA: 0s - loss: 0.0930 - accuracy: 0.96 - ETA: 0s - loss: 0.0929 - accuracy: 0.96 - ETA: 0s - loss: 0.0928 - accuracy: 0.96 - ETA: 0s - loss: 0.0927 - accuracy: 0.96 - ETA: 0s - loss: 0.0928 - accuracy: 0.96 - ETA: 0s - loss: 0.0926 - accuracy: 0.96 - ETA: 0s - loss: 0.0924 - accuracy: 0.96 - ETA: 0s - loss: 0.0928 - accuracy: 0.96 - ETA: 0s - loss: 0.0926 - accuracy: 0.96 - ETA: 0s - loss: 0.0929 - accuracy: 0.96 - ETA: 0s - loss: 0.0929 - accuracy: 0.96 - ETA: 0s - loss: 0.0928 - accuracy: 0.96 - 15s 19ms/step - loss: 0.0929 - accuracy: 0.9626 - val_loss: 0.6218 - val_accuracy: 0.5931\n",
      "Epoch 5/5\n"
     ]
    },
    {
     "name": "stdout",
     "output_type": "stream",
     "text": [
      "750/804 [==========================>...] - ETA: 16s - loss: 0.0397 - accuracy: 1.000 - ETA: 10s - loss: 0.0423 - accuracy: 0.987 - ETA: 11s - loss: 0.0893 - accuracy: 0.958 - ETA: 11s - loss: 0.0813 - accuracy: 0.963 - ETA: 12s - loss: 0.0749 - accuracy: 0.966 - ETA: 11s - loss: 0.0730 - accuracy: 0.970 - ETA: 11s - loss: 0.0688 - accuracy: 0.972 - ETA: 11s - loss: 0.0685 - accuracy: 0.971 - ETA: 11s - loss: 0.0703 - accuracy: 0.970 - ETA: 11s - loss: 0.0696 - accuracy: 0.972 - ETA: 10s - loss: 0.0787 - accuracy: 0.969 - ETA: 10s - loss: 0.0832 - accuracy: 0.967 - ETA: 10s - loss: 0.0821 - accuracy: 0.968 - ETA: 10s - loss: 0.0844 - accuracy: 0.967 - ETA: 10s - loss: 0.0836 - accuracy: 0.967 - ETA: 10s - loss: 0.0832 - accuracy: 0.966 - ETA: 10s - loss: 0.0812 - accuracy: 0.967 - ETA: 10s - loss: 0.0854 - accuracy: 0.966 - ETA: 10s - loss: 0.0877 - accuracy: 0.965 - ETA: 10s - loss: 0.0855 - accuracy: 0.966 - ETA: 10s - loss: 0.0842 - accuracy: 0.967 - ETA: 10s - loss: 0.0858 - accuracy: 0.966 - ETA: 10s - loss: 0.0848 - accuracy: 0.966 - ETA: 10s - loss: 0.0835 - accuracy: 0.966 - ETA: 10s - loss: 0.0860 - accuracy: 0.965 - ETA: 10s - loss: 0.0853 - accuracy: 0.965 - ETA: 10s - loss: 0.0869 - accuracy: 0.964 - ETA: 10s - loss: 0.0864 - accuracy: 0.964 - ETA: 9s - loss: 0.0847 - accuracy: 0.964 - ETA: 9s - loss: 0.0840 - accuracy: 0.96 - ETA: 9s - loss: 0.0856 - accuracy: 0.96 - ETA: 9s - loss: 0.0846 - accuracy: 0.96 - ETA: 9s - loss: 0.0845 - accuracy: 0.96 - ETA: 9s - loss: 0.0873 - accuracy: 0.96 - ETA: 9s - loss: 0.0861 - accuracy: 0.96 - ETA: 9s - loss: 0.0858 - accuracy: 0.96 - ETA: 9s - loss: 0.0846 - accuracy: 0.96 - ETA: 9s - loss: 0.0838 - accuracy: 0.96 - ETA: 9s - loss: 0.0854 - accuracy: 0.96 - ETA: 9s - loss: 0.0855 - accuracy: 0.96 - ETA: 9s - loss: 0.0867 - accuracy: 0.96 - ETA: 9s - loss: 0.0876 - accuracy: 0.96 - ETA: 8s - loss: 0.0870 - accuracy: 0.96 - ETA: 8s - loss: 0.0880 - accuracy: 0.96 - ETA: 8s - loss: 0.0873 - accuracy: 0.96 - ETA: 8s - loss: 0.0876 - accuracy: 0.96 - ETA: 8s - loss: 0.0882 - accuracy: 0.96 - ETA: 8s - loss: 0.0877 - accuracy: 0.96 - ETA: 8s - loss: 0.0880 - accuracy: 0.96 - ETA: 8s - loss: 0.0883 - accuracy: 0.96 - ETA: 8s - loss: 0.0883 - accuracy: 0.96 - ETA: 8s - loss: 0.0885 - accuracy: 0.96 - ETA: 8s - loss: 0.0889 - accuracy: 0.96 - ETA: 8s - loss: 0.0885 - accuracy: 0.96 - ETA: 8s - loss: 0.0893 - accuracy: 0.96 - ETA: 8s - loss: 0.0893 - accuracy: 0.96 - ETA: 8s - loss: 0.0892 - accuracy: 0.96 - ETA: 7s - loss: 0.0891 - accuracy: 0.96 - ETA: 7s - loss: 0.0890 - accuracy: 0.96 - ETA: 7s - loss: 0.0883 - accuracy: 0.96 - ETA: 7s - loss: 0.0889 - accuracy: 0.96 - ETA: 7s - loss: 0.0891 - accuracy: 0.96 - ETA: 7s - loss: 0.0893 - accuracy: 0.96 - ETA: 7s - loss: 0.0896 - accuracy: 0.96 - ETA: 7s - loss: 0.0897 - accuracy: 0.96 - ETA: 7s - loss: 0.0892 - accuracy: 0.96 - ETA: 7s - loss: 0.0892 - accuracy: 0.96 - ETA: 7s - loss: 0.0900 - accuracy: 0.96 - ETA: 7s - loss: 0.0892 - accuracy: 0.96 - ETA: 7s - loss: 0.0890 - accuracy: 0.96 - ETA: 7s - loss: 0.0887 - accuracy: 0.96 - ETA: 7s - loss: 0.0899 - accuracy: 0.96 - ETA: 7s - loss: 0.0895 - accuracy: 0.96 - ETA: 7s - loss: 0.0892 - accuracy: 0.96 - ETA: 7s - loss: 0.0892 - accuracy: 0.96 - ETA: 7s - loss: 0.0890 - accuracy: 0.96 - ETA: 7s - loss: 0.0893 - accuracy: 0.96 - ETA: 7s - loss: 0.0898 - accuracy: 0.96 - ETA: 6s - loss: 0.0892 - accuracy: 0.96 - ETA: 6s - loss: 0.0889 - accuracy: 0.96 - ETA: 6s - loss: 0.0892 - accuracy: 0.96 - ETA: 6s - loss: 0.0888 - accuracy: 0.96 - ETA: 6s - loss: 0.0888 - accuracy: 0.96 - ETA: 6s - loss: 0.0884 - accuracy: 0.96 - ETA: 6s - loss: 0.0893 - accuracy: 0.96 - ETA: 6s - loss: 0.0888 - accuracy: 0.96 - ETA: 6s - loss: 0.0887 - accuracy: 0.96 - ETA: 6s - loss: 0.0888 - accuracy: 0.96 - ETA: 6s - loss: 0.0896 - accuracy: 0.96 - ETA: 6s - loss: 0.0902 - accuracy: 0.96 - ETA: 6s - loss: 0.0903 - accuracy: 0.96 - ETA: 6s - loss: 0.0902 - accuracy: 0.96 - ETA: 6s - loss: 0.0900 - accuracy: 0.96 - ETA: 6s - loss: 0.0900 - accuracy: 0.96 - ETA: 6s - loss: 0.0899 - accuracy: 0.96 - ETA: 6s - loss: 0.0902 - accuracy: 0.96 - ETA: 5s - loss: 0.0899 - accuracy: 0.96 - ETA: 5s - loss: 0.0901 - accuracy: 0.96 - ETA: 5s - loss: 0.0898 - accuracy: 0.96 - ETA: 5s - loss: 0.0896 - accuracy: 0.96 - ETA: 5s - loss: 0.0894 - accuracy: 0.96 - ETA: 5s - loss: 0.0891 - accuracy: 0.96 - ETA: 5s - loss: 0.0895 - accuracy: 0.96 - ETA: 5s - loss: 0.0900 - accuracy: 0.96 - ETA: 5s - loss: 0.0902 - accuracy: 0.96 - ETA: 5s - loss: 0.0899 - accuracy: 0.96 - ETA: 5s - loss: 0.0897 - accuracy: 0.96 - ETA: 5s - loss: 0.0897 - accuracy: 0.96 - ETA: 5s - loss: 0.0895 - accuracy: 0.96 - ETA: 5s - loss: 0.0895 - accuracy: 0.96 - ETA: 5s - loss: 0.0892 - accuracy: 0.96 - ETA: 5s - loss: 0.0890 - accuracy: 0.96 - ETA: 5s - loss: 0.0890 - accuracy: 0.96 - ETA: 5s - loss: 0.0891 - accuracy: 0.96 - ETA: 4s - loss: 0.0894 - accuracy: 0.96 - ETA: 4s - loss: 0.0893 - accuracy: 0.96 - ETA: 4s - loss: 0.0890 - accuracy: 0.96 - ETA: 4s - loss: 0.0888 - accuracy: 0.96 - ETA: 4s - loss: 0.0889 - accuracy: 0.96 - ETA: 4s - loss: 0.0890 - accuracy: 0.96 - ETA: 4s - loss: 0.0890 - accuracy: 0.96 - ETA: 4s - loss: 0.0891 - accuracy: 0.96 - ETA: 4s - loss: 0.0898 - accuracy: 0.96 - ETA: 4s - loss: 0.0895 - accuracy: 0.96 - ETA: 4s - loss: 0.0899 - accuracy: 0.96 - ETA: 4s - loss: 0.0903 - accuracy: 0.96 - ETA: 4s - loss: 0.0901 - accuracy: 0.96 - ETA: 4s - loss: 0.0901 - accuracy: 0.96 - ETA: 4s - loss: 0.0907 - accuracy: 0.96 - ETA: 4s - loss: 0.0907 - accuracy: 0.96 - ETA: 4s - loss: 0.0907 - accuracy: 0.96 - ETA: 3s - loss: 0.0906 - accuracy: 0.96 - ETA: 3s - loss: 0.0904 - accuracy: 0.96 - ETA: 3s - loss: 0.0903 - accuracy: 0.96 - ETA: 3s - loss: 0.0902 - accuracy: 0.96 - ETA: 3s - loss: 0.0900 - accuracy: 0.96 - ETA: 3s - loss: 0.0903 - accuracy: 0.96 - ETA: 3s - loss: 0.0900 - accuracy: 0.96 - ETA: 3s - loss: 0.0896 - accuracy: 0.96 - ETA: 3s - loss: 0.0893 - accuracy: 0.96 - ETA: 3s - loss: 0.0895 - accuracy: 0.96 - ETA: 3s - loss: 0.0893 - accuracy: 0.96 - ETA: 3s - loss: 0.0892 - accuracy: 0.96 - ETA: 3s - loss: 0.0892 - accuracy: 0.96 - ETA: 3s - loss: 0.0893 - accuracy: 0.96 - ETA: 3s - loss: 0.0900 - accuracy: 0.96 - ETA: 3s - loss: 0.0902 - accuracy: 0.96 - ETA: 3s - loss: 0.0899 - accuracy: 0.96 - ETA: 3s - loss: 0.0898 - accuracy: 0.96 - ETA: 2s - loss: 0.0895 - accuracy: 0.96 - ETA: 2s - loss: 0.0894 - accuracy: 0.96 - ETA: 2s - loss: 0.0891 - accuracy: 0.96 - ETA: 2s - loss: 0.0892 - accuracy: 0.96 - ETA: 2s - loss: 0.0892 - accuracy: 0.96 - ETA: 2s - loss: 0.0893 - accuracy: 0.96 - ETA: 2s - loss: 0.0895 - accuracy: 0.96 - ETA: 2s - loss: 0.0897 - accuracy: 0.96 - ETA: 2s - loss: 0.0900 - accuracy: 0.96 - ETA: 2s - loss: 0.0905 - accuracy: 0.96 - ETA: 2s - loss: 0.0904 - accuracy: 0.96 - ETA: 2s - loss: 0.0903 - accuracy: 0.96 - ETA: 2s - loss: 0.0903 - accuracy: 0.96 - ETA: 2s - loss: 0.0904 - accuracy: 0.96 - ETA: 2s - loss: 0.0908 - accuracy: 0.96 - ETA: 1s - loss: 0.0908 - accuracy: 0.96 - ETA: 1s - loss: 0.0909 - accuracy: 0.96 - ETA: 1s - loss: 0.0910 - accuracy: 0.96 - ETA: 1s - loss: 0.0910 - accuracy: 0.96 - ETA: 1s - loss: 0.0910 - accuracy: 0.96 - ETA: 1s - loss: 0.0910 - accuracy: 0.96 - ETA: 1s - loss: 0.0911 - accuracy: 0.96 - ETA: 1s - loss: 0.0910 - accuracy: 0.96 - ETA: 1s - loss: 0.0911 - accuracy: 0.96 - ETA: 1s - loss: 0.0911 - accuracy: 0.96 - ETA: 1s - loss: 0.0911 - accuracy: 0.96 - ETA: 1s - loss: 0.0909 - accuracy: 0.96 - ETA: 1s - loss: 0.0912 - accuracy: 0.96 - ETA: 1s - loss: 0.0912 - accuracy: 0.96 - ETA: 1s - loss: 0.0910 - accuracy: 0.96 - ETA: 1s - loss: 0.0911 - accuracy: 0.96 - ETA: 1s - loss: 0.0914 - accuracy: 0.96 - ETA: 1s - loss: 0.0914 - accuracy: 0.96 - ETA: 1s - loss: 0.0912 - accuracy: 0.96 - ETA: 1s - loss: 0.0912 - accuracy: 0.96 - ETA: 1s - loss: 0.0913 - accuracy: 0.96 - ETA: 1s - loss: 0.0913 - accuracy: 0.96 - ETA: 1s - loss: 0.0914 - accuracy: 0.96 - ETA: 1s - loss: 0.0913 - accuracy: 0.96 - ETA: 1s - loss: 0.0913 - accuracy: 0.96 - ETA: 0s - loss: 0.0914 - accuracy: 0.96 - ETA: 0s - loss: 0.0912 - accuracy: 0.96 - ETA: 0s - loss: 0.0914 - accuracy: 0.96 - ETA: 0s - loss: 0.0911 - accuracy: 0.9632"
     ]
    },
    {
     "name": "stdout",
     "output_type": "stream",
     "text": [
      "804/804 [==============================] - ETA: 0s - loss: 0.0912 - accuracy: 0.96 - ETA: 0s - loss: 0.0911 - accuracy: 0.96 - ETA: 0s - loss: 0.0910 - accuracy: 0.96 - ETA: 0s - loss: 0.0911 - accuracy: 0.96 - ETA: 0s - loss: 0.0910 - accuracy: 0.96 - ETA: 0s - loss: 0.0911 - accuracy: 0.96 - ETA: 0s - loss: 0.0912 - accuracy: 0.96 - ETA: 0s - loss: 0.0913 - accuracy: 0.96 - ETA: 0s - loss: 0.0915 - accuracy: 0.96 - ETA: 0s - loss: 0.0915 - accuracy: 0.96 - ETA: 0s - loss: 0.0919 - accuracy: 0.96 - ETA: 0s - loss: 0.0917 - accuracy: 0.96 - ETA: 0s - loss: 0.0918 - accuracy: 0.96 - ETA: 0s - loss: 0.0920 - accuracy: 0.96 - 13s 16ms/step - loss: 0.0921 - accuracy: 0.9629 - val_loss: 0.5747 - val_accuracy: 0.6054\n"
     ]
    },
    {
     "data": {
      "text/html": [
       "<span style=\"color:#4527A0\"><h1 style=\"font-size:18px\">Trial complete</h1></span>"
      ],
      "text/plain": [
       "<IPython.core.display.HTML object>"
      ]
     },
     "metadata": {},
     "output_type": "display_data"
    },
    {
     "data": {
      "text/html": [
       "<span style=\"color:#4527A0\"><h1 style=\"font-size:18px\">Trial summary</h1></span>"
      ],
      "text/plain": [
       "<IPython.core.display.HTML object>"
      ]
     },
     "metadata": {},
     "output_type": "display_data"
    },
    {
     "data": {
      "text/html": [
       "<span style=\"color:cyan\"> |-Trial ID: 3dcd09dc4dca55cea796d47c50ff8d19</span>"
      ],
      "text/plain": [
       "<IPython.core.display.HTML object>"
      ]
     },
     "metadata": {},
     "output_type": "display_data"
    },
    {
     "data": {
      "text/html": [
       "<span style=\"color:cyan\"> |-Score: 0.722449004650116</span>"
      ],
      "text/plain": [
       "<IPython.core.display.HTML object>"
      ]
     },
     "metadata": {},
     "output_type": "display_data"
    },
    {
     "data": {
      "text/html": [
       "<span style=\"color:cyan\"> |-Best step: 0</span>"
      ],
      "text/plain": [
       "<IPython.core.display.HTML object>"
      ]
     },
     "metadata": {},
     "output_type": "display_data"
    },
    {
     "data": {
      "text/html": [
       "<span style=\"color:#7E57C2\"><h2 style=\"font-size:16px\">Hyperparameters:</h2></span>"
      ],
      "text/plain": [
       "<IPython.core.display.HTML object>"
      ]
     },
     "metadata": {},
     "output_type": "display_data"
    },
    {
     "data": {
      "text/html": [
       "<span style=\"color:cyan\"> |-activation: relu</span>"
      ],
      "text/plain": [
       "<IPython.core.display.HTML object>"
      ]
     },
     "metadata": {},
     "output_type": "display_data"
    },
    {
     "data": {
      "text/html": [
       "<span style=\"color:blue\"> |-first_units: 75</span>"
      ],
      "text/plain": [
       "<IPython.core.display.HTML object>"
      ]
     },
     "metadata": {},
     "output_type": "display_data"
    },
    {
     "data": {
      "text/html": [
       "<span style=\"color:cyan\"> |-num_layers: 2</span>"
      ],
      "text/plain": [
       "<IPython.core.display.HTML object>"
      ]
     },
     "metadata": {},
     "output_type": "display_data"
    },
    {
     "data": {
      "text/html": [
       "<span style=\"color:blue\"> |-tuner/bracket: 0</span>"
      ],
      "text/plain": [
       "<IPython.core.display.HTML object>"
      ]
     },
     "metadata": {},
     "output_type": "display_data"
    },
    {
     "data": {
      "text/html": [
       "<span style=\"color:cyan\"> |-tuner/epochs: 5</span>"
      ],
      "text/plain": [
       "<IPython.core.display.HTML object>"
      ]
     },
     "metadata": {},
     "output_type": "display_data"
    },
    {
     "data": {
      "text/html": [
       "<span style=\"color:blue\"> |-tuner/initial_epoch: 0</span>"
      ],
      "text/plain": [
       "<IPython.core.display.HTML object>"
      ]
     },
     "metadata": {},
     "output_type": "display_data"
    },
    {
     "data": {
      "text/html": [
       "<span style=\"color:cyan\"> |-tuner/round: 0</span>"
      ],
      "text/plain": [
       "<IPython.core.display.HTML object>"
      ]
     },
     "metadata": {},
     "output_type": "display_data"
    },
    {
     "data": {
      "text/html": [
       "<span style=\"color:blue\"> |-units_0: 40</span>"
      ],
      "text/plain": [
       "<IPython.core.display.HTML object>"
      ]
     },
     "metadata": {},
     "output_type": "display_data"
    },
    {
     "data": {
      "text/html": [
       "<span style=\"color:cyan\"> |-units_1: 40</span>"
      ],
      "text/plain": [
       "<IPython.core.display.HTML object>"
      ]
     },
     "metadata": {},
     "output_type": "display_data"
    },
    {
     "data": {
      "text/html": [
       "<span style=\"color:blue\"> |-units_2: 30</span>"
      ],
      "text/plain": [
       "<IPython.core.display.HTML object>"
      ]
     },
     "metadata": {},
     "output_type": "display_data"
    },
    {
     "data": {
      "text/html": [
       "<span style=\"color:cyan\"> |-units_3: 15</span>"
      ],
      "text/plain": [
       "<IPython.core.display.HTML object>"
      ]
     },
     "metadata": {},
     "output_type": "display_data"
    },
    {
     "data": {
      "text/html": [
       "<span style=\"color:blue\"> |-units_4: 25</span>"
      ],
      "text/plain": [
       "<IPython.core.display.HTML object>"
      ]
     },
     "metadata": {},
     "output_type": "display_data"
    },
    {
     "data": {
      "text/html": [
       "<span style=\"color:#4527A0\"><h1 style=\"font-size:18px\">Starting new trial</h1></span>"
      ],
      "text/plain": [
       "<IPython.core.display.HTML object>"
      ]
     },
     "metadata": {},
     "output_type": "display_data"
    },
    {
     "name": "stdout",
     "output_type": "stream",
     "text": [
      "Epoch 1/5\n"
     ]
    },
    {
     "name": "stdout",
     "output_type": "stream",
     "text": [
      "603/804 [=====================>........] - ETA: 8:01 - loss: 0.6905 - accuracy: 0.46 - ETA: 5s - loss: 0.6591 - accuracy: 0.6146 - ETA: 5s - loss: 0.6422 - accuracy: 0.63 - ETA: 5s - loss: 0.6378 - accuracy: 0.63 - ETA: 5s - loss: 0.6257 - accuracy: 0.63 - ETA: 5s - loss: 0.6167 - accuracy: 0.64 - ETA: 5s - loss: 0.6026 - accuracy: 0.65 - ETA: 5s - loss: 0.5961 - accuracy: 0.65 - ETA: 5s - loss: 0.5912 - accuracy: 0.66 - ETA: 5s - loss: 0.5847 - accuracy: 0.66 - ETA: 5s - loss: 0.5794 - accuracy: 0.67 - ETA: 5s - loss: 0.5743 - accuracy: 0.67 - ETA: 5s - loss: 0.5699 - accuracy: 0.68 - ETA: 5s - loss: 0.5696 - accuracy: 0.68 - ETA: 5s - loss: 0.5675 - accuracy: 0.68 - ETA: 5s - loss: 0.5650 - accuracy: 0.68 - ETA: 5s - loss: 0.5625 - accuracy: 0.68 - ETA: 5s - loss: 0.5657 - accuracy: 0.68 - ETA: 6s - loss: 0.5635 - accuracy: 0.68 - ETA: 6s - loss: 0.5631 - accuracy: 0.68 - ETA: 6s - loss: 0.5637 - accuracy: 0.68 - ETA: 7s - loss: 0.5628 - accuracy: 0.68 - ETA: 7s - loss: 0.5608 - accuracy: 0.68 - ETA: 7s - loss: 0.5584 - accuracy: 0.69 - ETA: 7s - loss: 0.5596 - accuracy: 0.69 - ETA: 8s - loss: 0.5595 - accuracy: 0.68 - ETA: 8s - loss: 0.5588 - accuracy: 0.69 - ETA: 9s - loss: 0.5596 - accuracy: 0.68 - ETA: 9s - loss: 0.5583 - accuracy: 0.69 - ETA: 9s - loss: 0.5596 - accuracy: 0.68 - ETA: 9s - loss: 0.5597 - accuracy: 0.68 - ETA: 9s - loss: 0.5598 - accuracy: 0.68 - ETA: 10s - loss: 0.5598 - accuracy: 0.689 - ETA: 10s - loss: 0.5597 - accuracy: 0.689 - ETA: 9s - loss: 0.5580 - accuracy: 0.691 - ETA: 9s - loss: 0.5546 - accuracy: 0.69 - ETA: 9s - loss: 0.5527 - accuracy: 0.69 - ETA: 9s - loss: 0.5519 - accuracy: 0.69 - ETA: 9s - loss: 0.5503 - accuracy: 0.69 - ETA: 10s - loss: 0.5514 - accuracy: 0.696 - ETA: 10s - loss: 0.5514 - accuracy: 0.696 - ETA: 10s - loss: 0.5509 - accuracy: 0.696 - ETA: 10s - loss: 0.5495 - accuracy: 0.697 - ETA: 10s - loss: 0.5478 - accuracy: 0.698 - ETA: 10s - loss: 0.5479 - accuracy: 0.698 - ETA: 10s - loss: 0.5475 - accuracy: 0.698 - ETA: 10s - loss: 0.5467 - accuracy: 0.699 - ETA: 10s - loss: 0.5454 - accuracy: 0.700 - ETA: 10s - loss: 0.5439 - accuracy: 0.702 - ETA: 10s - loss: 0.5445 - accuracy: 0.702 - ETA: 10s - loss: 0.5440 - accuracy: 0.702 - ETA: 10s - loss: 0.5433 - accuracy: 0.703 - ETA: 10s - loss: 0.5436 - accuracy: 0.702 - ETA: 10s - loss: 0.5428 - accuracy: 0.703 - ETA: 10s - loss: 0.5428 - accuracy: 0.703 - ETA: 10s - loss: 0.5425 - accuracy: 0.704 - ETA: 10s - loss: 0.5421 - accuracy: 0.704 - ETA: 10s - loss: 0.5410 - accuracy: 0.705 - ETA: 10s - loss: 0.5413 - accuracy: 0.706 - ETA: 10s - loss: 0.5408 - accuracy: 0.706 - ETA: 10s - loss: 0.5399 - accuracy: 0.706 - ETA: 10s - loss: 0.5390 - accuracy: 0.707 - ETA: 11s - loss: 0.5385 - accuracy: 0.708 - ETA: 11s - loss: 0.5377 - accuracy: 0.709 - ETA: 11s - loss: 0.5376 - accuracy: 0.709 - ETA: 10s - loss: 0.5365 - accuracy: 0.710 - ETA: 10s - loss: 0.5367 - accuracy: 0.710 - ETA: 10s - loss: 0.5366 - accuracy: 0.710 - ETA: 10s - loss: 0.5358 - accuracy: 0.711 - ETA: 11s - loss: 0.5359 - accuracy: 0.711 - ETA: 11s - loss: 0.5352 - accuracy: 0.712 - ETA: 11s - loss: 0.5348 - accuracy: 0.712 - ETA: 11s - loss: 0.5339 - accuracy: 0.713 - ETA: 11s - loss: 0.5339 - accuracy: 0.713 - ETA: 11s - loss: 0.5336 - accuracy: 0.713 - ETA: 11s - loss: 0.5330 - accuracy: 0.713 - ETA: 10s - loss: 0.5334 - accuracy: 0.713 - ETA: 10s - loss: 0.5333 - accuracy: 0.712 - ETA: 10s - loss: 0.5328 - accuracy: 0.713 - ETA: 10s - loss: 0.5316 - accuracy: 0.714 - ETA: 10s - loss: 0.5317 - accuracy: 0.714 - ETA: 10s - loss: 0.5318 - accuracy: 0.713 - ETA: 10s - loss: 0.5321 - accuracy: 0.713 - ETA: 10s - loss: 0.5311 - accuracy: 0.714 - ETA: 9s - loss: 0.5309 - accuracy: 0.714 - ETA: 9s - loss: 0.5316 - accuracy: 0.71 - ETA: 9s - loss: 0.5307 - accuracy: 0.71 - ETA: 9s - loss: 0.5305 - accuracy: 0.71 - ETA: 9s - loss: 0.5301 - accuracy: 0.71 - ETA: 9s - loss: 0.5297 - accuracy: 0.71 - ETA: 9s - loss: 0.5299 - accuracy: 0.71 - ETA: 9s - loss: 0.5288 - accuracy: 0.71 - ETA: 9s - loss: 0.5286 - accuracy: 0.71 - ETA: 8s - loss: 0.5280 - accuracy: 0.71 - ETA: 8s - loss: 0.5284 - accuracy: 0.71 - ETA: 8s - loss: 0.5278 - accuracy: 0.71 - ETA: 8s - loss: 0.5275 - accuracy: 0.71 - ETA: 8s - loss: 0.5261 - accuracy: 0.71 - ETA: 8s - loss: 0.5250 - accuracy: 0.72 - ETA: 8s - loss: 0.5242 - accuracy: 0.72 - ETA: 8s - loss: 0.5233 - accuracy: 0.72 - ETA: 8s - loss: 0.5225 - accuracy: 0.72 - ETA: 8s - loss: 0.5219 - accuracy: 0.72 - ETA: 8s - loss: 0.5221 - accuracy: 0.72 - ETA: 8s - loss: 0.5221 - accuracy: 0.72 - ETA: 8s - loss: 0.5217 - accuracy: 0.72 - ETA: 8s - loss: 0.5222 - accuracy: 0.72 - ETA: 8s - loss: 0.5219 - accuracy: 0.72 - ETA: 8s - loss: 0.5209 - accuracy: 0.72 - ETA: 8s - loss: 0.5208 - accuracy: 0.72 - ETA: 7s - loss: 0.5209 - accuracy: 0.72 - ETA: 7s - loss: 0.5204 - accuracy: 0.72 - ETA: 7s - loss: 0.5200 - accuracy: 0.72 - ETA: 7s - loss: 0.5195 - accuracy: 0.72 - ETA: 7s - loss: 0.5190 - accuracy: 0.72 - ETA: 7s - loss: 0.5188 - accuracy: 0.72 - ETA: 7s - loss: 0.5181 - accuracy: 0.72 - ETA: 7s - loss: 0.5182 - accuracy: 0.72 - ETA: 7s - loss: 0.5174 - accuracy: 0.72 - ETA: 7s - loss: 0.5172 - accuracy: 0.72 - ETA: 7s - loss: 0.5170 - accuracy: 0.72 - ETA: 7s - loss: 0.5175 - accuracy: 0.72 - ETA: 7s - loss: 0.5175 - accuracy: 0.72 - ETA: 7s - loss: 0.5174 - accuracy: 0.72 - ETA: 7s - loss: 0.5167 - accuracy: 0.72 - ETA: 7s - loss: 0.5154 - accuracy: 0.72 - ETA: 7s - loss: 0.5147 - accuracy: 0.72 - ETA: 7s - loss: 0.5148 - accuracy: 0.72 - ETA: 7s - loss: 0.5149 - accuracy: 0.72 - ETA: 7s - loss: 0.5145 - accuracy: 0.73 - ETA: 7s - loss: 0.5139 - accuracy: 0.73 - ETA: 7s - loss: 0.5138 - accuracy: 0.73 - ETA: 7s - loss: 0.5137 - accuracy: 0.73 - ETA: 7s - loss: 0.5135 - accuracy: 0.73 - ETA: 7s - loss: 0.5129 - accuracy: 0.73 - ETA: 7s - loss: 0.5123 - accuracy: 0.73 - ETA: 7s - loss: 0.5117 - accuracy: 0.73 - ETA: 7s - loss: 0.5117 - accuracy: 0.73 - ETA: 6s - loss: 0.5117 - accuracy: 0.73 - ETA: 6s - loss: 0.5110 - accuracy: 0.73 - ETA: 6s - loss: 0.5115 - accuracy: 0.73 - ETA: 6s - loss: 0.5114 - accuracy: 0.73 - ETA: 6s - loss: 0.5108 - accuracy: 0.73 - ETA: 6s - loss: 0.5102 - accuracy: 0.73 - ETA: 6s - loss: 0.5102 - accuracy: 0.73 - ETA: 6s - loss: 0.5101 - accuracy: 0.73 - ETA: 6s - loss: 0.5098 - accuracy: 0.73 - ETA: 6s - loss: 0.5097 - accuracy: 0.73 - ETA: 6s - loss: 0.5094 - accuracy: 0.73 - ETA: 6s - loss: 0.5089 - accuracy: 0.73 - ETA: 6s - loss: 0.5083 - accuracy: 0.73 - ETA: 6s - loss: 0.5073 - accuracy: 0.73 - ETA: 6s - loss: 0.5070 - accuracy: 0.73 - ETA: 6s - loss: 0.5065 - accuracy: 0.73 - ETA: 6s - loss: 0.5060 - accuracy: 0.73 - ETA: 6s - loss: 0.5063 - accuracy: 0.73 - ETA: 6s - loss: 0.5058 - accuracy: 0.73 - ETA: 6s - loss: 0.5058 - accuracy: 0.73 - ETA: 6s - loss: 0.5057 - accuracy: 0.74 - ETA: 5s - loss: 0.5060 - accuracy: 0.74 - ETA: 5s - loss: 0.5065 - accuracy: 0.74 - ETA: 5s - loss: 0.5067 - accuracy: 0.74 - ETA: 5s - loss: 0.5055 - accuracy: 0.74 - ETA: 5s - loss: 0.5048 - accuracy: 0.74 - ETA: 5s - loss: 0.5053 - accuracy: 0.74 - ETA: 5s - loss: 0.5045 - accuracy: 0.74 - ETA: 5s - loss: 0.5045 - accuracy: 0.74 - ETA: 5s - loss: 0.5046 - accuracy: 0.74 - ETA: 5s - loss: 0.5045 - accuracy: 0.74 - ETA: 5s - loss: 0.5044 - accuracy: 0.74 - ETA: 5s - loss: 0.5042 - accuracy: 0.74 - ETA: 5s - loss: 0.5038 - accuracy: 0.74 - ETA: 5s - loss: 0.5039 - accuracy: 0.74 - ETA: 5s - loss: 0.5036 - accuracy: 0.74 - ETA: 5s - loss: 0.5032 - accuracy: 0.74 - ETA: 5s - loss: 0.5037 - accuracy: 0.74 - ETA: 4s - loss: 0.5036 - accuracy: 0.74 - ETA: 4s - loss: 0.5037 - accuracy: 0.74 - ETA: 4s - loss: 0.5038 - accuracy: 0.74 - ETA: 4s - loss: 0.5040 - accuracy: 0.74 - ETA: 4s - loss: 0.5040 - accuracy: 0.74 - ETA: 4s - loss: 0.5034 - accuracy: 0.74 - ETA: 4s - loss: 0.5037 - accuracy: 0.74 - ETA: 4s - loss: 0.5041 - accuracy: 0.74 - ETA: 4s - loss: 0.5039 - accuracy: 0.74 - ETA: 4s - loss: 0.5039 - accuracy: 0.74 - ETA: 4s - loss: 0.5035 - accuracy: 0.74 - ETA: 4s - loss: 0.5032 - accuracy: 0.74 - ETA: 4s - loss: 0.5032 - accuracy: 0.74 - ETA: 4s - loss: 0.5034 - accuracy: 0.74 - ETA: 4s - loss: 0.5034 - accuracy: 0.74 - ETA: 4s - loss: 0.5029 - accuracy: 0.7505\b\b\b\b\b\b\b\b\b\b\b\b\b\b\b\b\b\b\b\b\b\b\b\b\b\b\b\b\b\b\b\b\b\b\b\b\b\b\b\b\b\b\b\b\b\b\b\b\b\b\b\b\b\b\b\b\b\b\b\b\b\b\b\b\b\b\b\b\b\b\b\b\b\b\b\b\b\b\b\b\b\b\b\b"
     ]
    },
    {
     "name": "stdout",
     "output_type": "stream",
     "text": [
      "804/804 [==============================] - ETA: 3s - loss: 0.5029 - accuracy: 0.75 - ETA: 3s - loss: 0.5032 - accuracy: 0.75 - ETA: 3s - loss: 0.5033 - accuracy: 0.75 - ETA: 3s - loss: 0.5034 - accuracy: 0.75 - ETA: 3s - loss: 0.5034 - accuracy: 0.75 - ETA: 3s - loss: 0.5033 - accuracy: 0.75 - ETA: 3s - loss: 0.5034 - accuracy: 0.75 - ETA: 3s - loss: 0.5038 - accuracy: 0.75 - ETA: 3s - loss: 0.5040 - accuracy: 0.75 - ETA: 3s - loss: 0.5038 - accuracy: 0.75 - ETA: 3s - loss: 0.5038 - accuracy: 0.75 - ETA: 3s - loss: 0.5035 - accuracy: 0.75 - ETA: 3s - loss: 0.5034 - accuracy: 0.75 - ETA: 3s - loss: 0.5032 - accuracy: 0.75 - ETA: 3s - loss: 0.5030 - accuracy: 0.75 - ETA: 3s - loss: 0.5029 - accuracy: 0.75 - ETA: 3s - loss: 0.5030 - accuracy: 0.75 - ETA: 3s - loss: 0.5029 - accuracy: 0.75 - ETA: 3s - loss: 0.5029 - accuracy: 0.75 - ETA: 3s - loss: 0.5032 - accuracy: 0.75 - ETA: 3s - loss: 0.5036 - accuracy: 0.75 - ETA: 2s - loss: 0.5037 - accuracy: 0.75 - ETA: 2s - loss: 0.5039 - accuracy: 0.75 - ETA: 2s - loss: 0.5040 - accuracy: 0.75 - ETA: 2s - loss: 0.5041 - accuracy: 0.75 - ETA: 2s - loss: 0.5042 - accuracy: 0.75 - ETA: 2s - loss: 0.5041 - accuracy: 0.75 - ETA: 2s - loss: 0.5039 - accuracy: 0.75 - ETA: 2s - loss: 0.5040 - accuracy: 0.75 - ETA: 2s - loss: 0.5039 - accuracy: 0.75 - ETA: 2s - loss: 0.5042 - accuracy: 0.75 - ETA: 2s - loss: 0.5042 - accuracy: 0.75 - ETA: 2s - loss: 0.5040 - accuracy: 0.75 - ETA: 2s - loss: 0.5040 - accuracy: 0.75 - ETA: 2s - loss: 0.5040 - accuracy: 0.75 - ETA: 2s - loss: 0.5038 - accuracy: 0.75 - ETA: 2s - loss: 0.5036 - accuracy: 0.75 - ETA: 2s - loss: 0.5034 - accuracy: 0.75 - ETA: 2s - loss: 0.5033 - accuracy: 0.75 - ETA: 2s - loss: 0.5032 - accuracy: 0.75 - ETA: 2s - loss: 0.5028 - accuracy: 0.75 - ETA: 2s - loss: 0.5028 - accuracy: 0.75 - ETA: 2s - loss: 0.5026 - accuracy: 0.75 - ETA: 2s - loss: 0.5028 - accuracy: 0.75 - ETA: 2s - loss: 0.5023 - accuracy: 0.75 - ETA: 1s - loss: 0.5023 - accuracy: 0.75 - ETA: 1s - loss: 0.5025 - accuracy: 0.75 - ETA: 1s - loss: 0.5023 - accuracy: 0.75 - ETA: 1s - loss: 0.5021 - accuracy: 0.75 - ETA: 1s - loss: 0.5019 - accuracy: 0.75 - ETA: 1s - loss: 0.5019 - accuracy: 0.75 - ETA: 1s - loss: 0.5020 - accuracy: 0.75 - ETA: 1s - loss: 0.5022 - accuracy: 0.75 - ETA: 1s - loss: 0.5020 - accuracy: 0.75 - ETA: 1s - loss: 0.5021 - accuracy: 0.75 - ETA: 1s - loss: 0.5020 - accuracy: 0.75 - ETA: 1s - loss: 0.5020 - accuracy: 0.75 - ETA: 1s - loss: 0.5021 - accuracy: 0.75 - ETA: 1s - loss: 0.5019 - accuracy: 0.75 - ETA: 1s - loss: 0.5017 - accuracy: 0.75 - ETA: 1s - loss: 0.5016 - accuracy: 0.75 - ETA: 1s - loss: 0.5016 - accuracy: 0.75 - ETA: 1s - loss: 0.5013 - accuracy: 0.75 - ETA: 1s - loss: 0.5012 - accuracy: 0.75 - ETA: 1s - loss: 0.5010 - accuracy: 0.75 - ETA: 1s - loss: 0.5006 - accuracy: 0.75 - ETA: 0s - loss: 0.5005 - accuracy: 0.75 - ETA: 0s - loss: 0.5000 - accuracy: 0.75 - ETA: 0s - loss: 0.4998 - accuracy: 0.75 - ETA: 0s - loss: 0.4995 - accuracy: 0.75 - ETA: 0s - loss: 0.4994 - accuracy: 0.75 - ETA: 0s - loss: 0.4994 - accuracy: 0.75 - ETA: 0s - loss: 0.4994 - accuracy: 0.75 - ETA: 0s - loss: 0.4996 - accuracy: 0.75 - ETA: 0s - loss: 0.4994 - accuracy: 0.75 - ETA: 0s - loss: 0.4992 - accuracy: 0.75 - ETA: 0s - loss: 0.4992 - accuracy: 0.75 - ETA: 0s - loss: 0.4989 - accuracy: 0.75 - ETA: 0s - loss: 0.4988 - accuracy: 0.75 - ETA: 0s - loss: 0.4985 - accuracy: 0.76 - ETA: 0s - loss: 0.4983 - accuracy: 0.76 - 26s 31ms/step - loss: 0.4984 - accuracy: 0.7602 - val_loss: 0.6593 - val_accuracy: 0.6099\n",
      "Epoch 2/5\n"
     ]
    },
    {
     "name": "stdout",
     "output_type": "stream",
     "text": [
      "648/804 [=======================>......] - ETA: 7s - loss: 0.3429 - accuracy: 0.93 - ETA: 5s - loss: 0.3824 - accuracy: 0.87 - ETA: 5s - loss: 0.3559 - accuracy: 0.87 - ETA: 5s - loss: 0.3335 - accuracy: 0.88 - ETA: 5s - loss: 0.3172 - accuracy: 0.89 - ETA: 5s - loss: 0.2961 - accuracy: 0.90 - ETA: 5s - loss: 0.2811 - accuracy: 0.91 - ETA: 5s - loss: 0.2647 - accuracy: 0.92 - ETA: 5s - loss: 0.2575 - accuracy: 0.92 - ETA: 5s - loss: 0.2465 - accuracy: 0.92 - ETA: 5s - loss: 0.2419 - accuracy: 0.92 - ETA: 5s - loss: 0.2377 - accuracy: 0.93 - ETA: 5s - loss: 0.2340 - accuracy: 0.93 - ETA: 5s - loss: 0.2280 - accuracy: 0.93 - ETA: 5s - loss: 0.2320 - accuracy: 0.93 - ETA: 5s - loss: 0.2305 - accuracy: 0.93 - ETA: 5s - loss: 0.2284 - accuracy: 0.93 - ETA: 5s - loss: 0.2262 - accuracy: 0.93 - ETA: 5s - loss: 0.2234 - accuracy: 0.93 - ETA: 5s - loss: 0.2211 - accuracy: 0.93 - ETA: 5s - loss: 0.2191 - accuracy: 0.93 - ETA: 5s - loss: 0.2190 - accuracy: 0.93 - ETA: 5s - loss: 0.2154 - accuracy: 0.93 - ETA: 5s - loss: 0.2144 - accuracy: 0.93 - ETA: 5s - loss: 0.2148 - accuracy: 0.93 - ETA: 5s - loss: 0.2122 - accuracy: 0.93 - ETA: 5s - loss: 0.2110 - accuracy: 0.93 - ETA: 5s - loss: 0.2091 - accuracy: 0.93 - ETA: 5s - loss: 0.2086 - accuracy: 0.93 - ETA: 5s - loss: 0.2067 - accuracy: 0.93 - ETA: 5s - loss: 0.2045 - accuracy: 0.94 - ETA: 5s - loss: 0.2044 - accuracy: 0.94 - ETA: 5s - loss: 0.2035 - accuracy: 0.94 - ETA: 5s - loss: 0.2028 - accuracy: 0.94 - ETA: 5s - loss: 0.2025 - accuracy: 0.94 - ETA: 5s - loss: 0.2034 - accuracy: 0.94 - ETA: 5s - loss: 0.2026 - accuracy: 0.94 - ETA: 5s - loss: 0.2047 - accuracy: 0.93 - ETA: 5s - loss: 0.2048 - accuracy: 0.93 - ETA: 5s - loss: 0.2041 - accuracy: 0.93 - ETA: 5s - loss: 0.2031 - accuracy: 0.93 - ETA: 5s - loss: 0.2042 - accuracy: 0.93 - ETA: 5s - loss: 0.2026 - accuracy: 0.93 - ETA: 5s - loss: 0.2022 - accuracy: 0.93 - ETA: 5s - loss: 0.2021 - accuracy: 0.93 - ETA: 5s - loss: 0.2008 - accuracy: 0.93 - ETA: 5s - loss: 0.2021 - accuracy: 0.93 - ETA: 5s - loss: 0.2020 - accuracy: 0.93 - ETA: 5s - loss: 0.2022 - accuracy: 0.93 - ETA: 5s - loss: 0.2035 - accuracy: 0.93 - ETA: 5s - loss: 0.2035 - accuracy: 0.93 - ETA: 5s - loss: 0.2030 - accuracy: 0.93 - ETA: 5s - loss: 0.2042 - accuracy: 0.93 - ETA: 5s - loss: 0.2051 - accuracy: 0.93 - ETA: 5s - loss: 0.2051 - accuracy: 0.93 - ETA: 5s - loss: 0.2050 - accuracy: 0.93 - ETA: 5s - loss: 0.2055 - accuracy: 0.93 - ETA: 5s - loss: 0.2055 - accuracy: 0.93 - ETA: 5s - loss: 0.2051 - accuracy: 0.93 - ETA: 5s - loss: 0.2067 - accuracy: 0.93 - ETA: 5s - loss: 0.2068 - accuracy: 0.93 - ETA: 5s - loss: 0.2069 - accuracy: 0.93 - ETA: 5s - loss: 0.2074 - accuracy: 0.93 - ETA: 5s - loss: 0.2082 - accuracy: 0.93 - ETA: 5s - loss: 0.2086 - accuracy: 0.93 - ETA: 5s - loss: 0.2092 - accuracy: 0.93 - ETA: 5s - loss: 0.2085 - accuracy: 0.93 - ETA: 5s - loss: 0.2094 - accuracy: 0.93 - ETA: 5s - loss: 0.2095 - accuracy: 0.93 - ETA: 5s - loss: 0.2097 - accuracy: 0.93 - ETA: 5s - loss: 0.2099 - accuracy: 0.93 - ETA: 5s - loss: 0.2106 - accuracy: 0.93 - ETA: 5s - loss: 0.2102 - accuracy: 0.93 - ETA: 5s - loss: 0.2099 - accuracy: 0.93 - ETA: 5s - loss: 0.2103 - accuracy: 0.93 - ETA: 5s - loss: 0.2107 - accuracy: 0.92 - ETA: 5s - loss: 0.2112 - accuracy: 0.92 - ETA: 5s - loss: 0.2110 - accuracy: 0.92 - ETA: 5s - loss: 0.2115 - accuracy: 0.92 - ETA: 5s - loss: 0.2115 - accuracy: 0.92 - ETA: 5s - loss: 0.2117 - accuracy: 0.92 - ETA: 5s - loss: 0.2119 - accuracy: 0.92 - ETA: 5s - loss: 0.2125 - accuracy: 0.92 - ETA: 5s - loss: 0.2123 - accuracy: 0.92 - ETA: 5s - loss: 0.2120 - accuracy: 0.92 - ETA: 5s - loss: 0.2121 - accuracy: 0.92 - ETA: 5s - loss: 0.2120 - accuracy: 0.92 - ETA: 5s - loss: 0.2126 - accuracy: 0.92 - ETA: 5s - loss: 0.2128 - accuracy: 0.92 - ETA: 5s - loss: 0.2126 - accuracy: 0.92 - ETA: 5s - loss: 0.2129 - accuracy: 0.92 - ETA: 5s - loss: 0.2131 - accuracy: 0.92 - ETA: 5s - loss: 0.2129 - accuracy: 0.92 - ETA: 5s - loss: 0.2129 - accuracy: 0.92 - ETA: 5s - loss: 0.2130 - accuracy: 0.92 - ETA: 5s - loss: 0.2134 - accuracy: 0.92 - ETA: 5s - loss: 0.2138 - accuracy: 0.92 - ETA: 5s - loss: 0.2133 - accuracy: 0.92 - ETA: 5s - loss: 0.2137 - accuracy: 0.92 - ETA: 5s - loss: 0.2131 - accuracy: 0.92 - ETA: 5s - loss: 0.2128 - accuracy: 0.92 - ETA: 5s - loss: 0.2127 - accuracy: 0.92 - ETA: 5s - loss: 0.2124 - accuracy: 0.92 - ETA: 5s - loss: 0.2121 - accuracy: 0.92 - ETA: 5s - loss: 0.2118 - accuracy: 0.92 - ETA: 6s - loss: 0.2115 - accuracy: 0.92 - ETA: 5s - loss: 0.2119 - accuracy: 0.92 - ETA: 6s - loss: 0.2117 - accuracy: 0.92 - ETA: 6s - loss: 0.2111 - accuracy: 0.92 - ETA: 6s - loss: 0.2111 - accuracy: 0.92 - ETA: 6s - loss: 0.2112 - accuracy: 0.92 - ETA: 5s - loss: 0.2106 - accuracy: 0.92 - ETA: 5s - loss: 0.2104 - accuracy: 0.92 - ETA: 6s - loss: 0.2106 - accuracy: 0.92 - ETA: 6s - loss: 0.2110 - accuracy: 0.92 - ETA: 6s - loss: 0.2108 - accuracy: 0.92 - ETA: 6s - loss: 0.2105 - accuracy: 0.92 - ETA: 6s - loss: 0.2103 - accuracy: 0.92 - ETA: 6s - loss: 0.2103 - accuracy: 0.92 - ETA: 6s - loss: 0.2101 - accuracy: 0.92 - ETA: 6s - loss: 0.2099 - accuracy: 0.92 - ETA: 6s - loss: 0.2093 - accuracy: 0.92 - ETA: 6s - loss: 0.2091 - accuracy: 0.92 - ETA: 6s - loss: 0.2089 - accuracy: 0.92 - ETA: 6s - loss: 0.2084 - accuracy: 0.92 - ETA: 6s - loss: 0.2086 - accuracy: 0.92 - ETA: 6s - loss: 0.2087 - accuracy: 0.92 - ETA: 6s - loss: 0.2084 - accuracy: 0.92 - ETA: 6s - loss: 0.2083 - accuracy: 0.92 - ETA: 5s - loss: 0.2086 - accuracy: 0.92 - ETA: 6s - loss: 0.2084 - accuracy: 0.92 - ETA: 6s - loss: 0.2086 - accuracy: 0.92 - ETA: 6s - loss: 0.2084 - accuracy: 0.92 - ETA: 5s - loss: 0.2081 - accuracy: 0.92 - ETA: 6s - loss: 0.2081 - accuracy: 0.92 - ETA: 6s - loss: 0.2082 - accuracy: 0.92 - ETA: 6s - loss: 0.2085 - accuracy: 0.92 - ETA: 6s - loss: 0.2089 - accuracy: 0.92 - ETA: 6s - loss: 0.2090 - accuracy: 0.92 - ETA: 6s - loss: 0.2089 - accuracy: 0.92 - ETA: 6s - loss: 0.2091 - accuracy: 0.92 - ETA: 6s - loss: 0.2089 - accuracy: 0.92 - ETA: 6s - loss: 0.2087 - accuracy: 0.92 - ETA: 6s - loss: 0.2088 - accuracy: 0.92 - ETA: 6s - loss: 0.2091 - accuracy: 0.92 - ETA: 6s - loss: 0.2085 - accuracy: 0.92 - ETA: 6s - loss: 0.2097 - accuracy: 0.92 - ETA: 5s - loss: 0.2091 - accuracy: 0.92 - ETA: 5s - loss: 0.2093 - accuracy: 0.92 - ETA: 5s - loss: 0.2095 - accuracy: 0.92 - ETA: 5s - loss: 0.2090 - accuracy: 0.92 - ETA: 5s - loss: 0.2084 - accuracy: 0.92 - ETA: 5s - loss: 0.2084 - accuracy: 0.92 - ETA: 5s - loss: 0.2080 - accuracy: 0.92 - ETA: 5s - loss: 0.2078 - accuracy: 0.92 - ETA: 5s - loss: 0.2077 - accuracy: 0.92 - ETA: 5s - loss: 0.2075 - accuracy: 0.92 - ETA: 5s - loss: 0.2074 - accuracy: 0.92 - ETA: 5s - loss: 0.2077 - accuracy: 0.92 - ETA: 5s - loss: 0.2077 - accuracy: 0.92 - ETA: 5s - loss: 0.2077 - accuracy: 0.92 - ETA: 5s - loss: 0.2072 - accuracy: 0.92 - ETA: 4s - loss: 0.2069 - accuracy: 0.92 - ETA: 4s - loss: 0.2068 - accuracy: 0.92 - ETA: 4s - loss: 0.2066 - accuracy: 0.92 - ETA: 4s - loss: 0.2068 - accuracy: 0.92 - ETA: 4s - loss: 0.2064 - accuracy: 0.92 - ETA: 4s - loss: 0.2064 - accuracy: 0.92 - ETA: 4s - loss: 0.2064 - accuracy: 0.92 - ETA: 4s - loss: 0.2062 - accuracy: 0.92 - ETA: 4s - loss: 0.2066 - accuracy: 0.92 - ETA: 4s - loss: 0.2063 - accuracy: 0.92 - ETA: 4s - loss: 0.2070 - accuracy: 0.92 - ETA: 4s - loss: 0.2067 - accuracy: 0.92 - ETA: 4s - loss: 0.2062 - accuracy: 0.92 - ETA: 4s - loss: 0.2060 - accuracy: 0.92 - ETA: 4s - loss: 0.2059 - accuracy: 0.92 - ETA: 4s - loss: 0.2057 - accuracy: 0.92 - ETA: 4s - loss: 0.2057 - accuracy: 0.92 - ETA: 3s - loss: 0.2055 - accuracy: 0.92 - ETA: 3s - loss: 0.2047 - accuracy: 0.92 - ETA: 3s - loss: 0.2041 - accuracy: 0.92 - ETA: 3s - loss: 0.2036 - accuracy: 0.92 - ETA: 3s - loss: 0.2031 - accuracy: 0.93 - ETA: 3s - loss: 0.2029 - accuracy: 0.93 - ETA: 3s - loss: 0.2032 - accuracy: 0.92 - ETA: 3s - loss: 0.2030 - accuracy: 0.92 - ETA: 3s - loss: 0.2025 - accuracy: 0.93 - ETA: 3s - loss: 0.2024 - accuracy: 0.93 - ETA: 3s - loss: 0.2020 - accuracy: 0.93 - ETA: 3s - loss: 0.2019 - accuracy: 0.93 - ETA: 3s - loss: 0.2018 - accuracy: 0.93 - ETA: 3s - loss: 0.2018 - accuracy: 0.93 - ETA: 3s - loss: 0.2012 - accuracy: 0.93 - ETA: 2s - loss: 0.2011 - accuracy: 0.9307"
     ]
    },
    {
     "name": "stdout",
     "output_type": "stream",
     "text": [
      "804/804 [==============================] - ETA: 2s - loss: 0.2006 - accuracy: 0.93 - ETA: 2s - loss: 0.2004 - accuracy: 0.93 - ETA: 2s - loss: 0.2008 - accuracy: 0.93 - ETA: 2s - loss: 0.2002 - accuracy: 0.93 - ETA: 2s - loss: 0.2001 - accuracy: 0.93 - ETA: 2s - loss: 0.1998 - accuracy: 0.93 - ETA: 2s - loss: 0.1997 - accuracy: 0.93 - ETA: 2s - loss: 0.1996 - accuracy: 0.93 - ETA: 2s - loss: 0.1995 - accuracy: 0.93 - ETA: 2s - loss: 0.1994 - accuracy: 0.93 - ETA: 2s - loss: 0.1993 - accuracy: 0.93 - ETA: 2s - loss: 0.1994 - accuracy: 0.93 - ETA: 2s - loss: 0.1993 - accuracy: 0.93 - ETA: 2s - loss: 0.1991 - accuracy: 0.93 - ETA: 2s - loss: 0.1992 - accuracy: 0.93 - ETA: 2s - loss: 0.1990 - accuracy: 0.93 - ETA: 2s - loss: 0.1991 - accuracy: 0.93 - ETA: 2s - loss: 0.1989 - accuracy: 0.93 - ETA: 2s - loss: 0.1990 - accuracy: 0.93 - ETA: 2s - loss: 0.1987 - accuracy: 0.93 - ETA: 1s - loss: 0.1991 - accuracy: 0.93 - ETA: 1s - loss: 0.1990 - accuracy: 0.93 - ETA: 1s - loss: 0.1991 - accuracy: 0.93 - ETA: 1s - loss: 0.1990 - accuracy: 0.93 - ETA: 1s - loss: 0.1990 - accuracy: 0.93 - ETA: 1s - loss: 0.1989 - accuracy: 0.93 - ETA: 1s - loss: 0.1988 - accuracy: 0.93 - ETA: 1s - loss: 0.1984 - accuracy: 0.93 - ETA: 1s - loss: 0.1981 - accuracy: 0.93 - ETA: 1s - loss: 0.1981 - accuracy: 0.93 - ETA: 1s - loss: 0.1980 - accuracy: 0.93 - ETA: 1s - loss: 0.1975 - accuracy: 0.93 - ETA: 1s - loss: 0.1970 - accuracy: 0.93 - ETA: 1s - loss: 0.1968 - accuracy: 0.93 - ETA: 1s - loss: 0.1969 - accuracy: 0.93 - ETA: 1s - loss: 0.1968 - accuracy: 0.93 - ETA: 1s - loss: 0.1969 - accuracy: 0.93 - ETA: 1s - loss: 0.1966 - accuracy: 0.93 - ETA: 1s - loss: 0.1963 - accuracy: 0.93 - ETA: 1s - loss: 0.1962 - accuracy: 0.93 - ETA: 1s - loss: 0.1962 - accuracy: 0.93 - ETA: 1s - loss: 0.1960 - accuracy: 0.93 - ETA: 1s - loss: 0.1957 - accuracy: 0.93 - ETA: 1s - loss: 0.1957 - accuracy: 0.93 - ETA: 0s - loss: 0.1955 - accuracy: 0.93 - ETA: 0s - loss: 0.1955 - accuracy: 0.93 - ETA: 0s - loss: 0.1952 - accuracy: 0.93 - ETA: 0s - loss: 0.1955 - accuracy: 0.93 - ETA: 0s - loss: 0.1954 - accuracy: 0.93 - ETA: 0s - loss: 0.1952 - accuracy: 0.93 - ETA: 0s - loss: 0.1948 - accuracy: 0.93 - ETA: 0s - loss: 0.1944 - accuracy: 0.93 - ETA: 0s - loss: 0.1945 - accuracy: 0.93 - ETA: 0s - loss: 0.1944 - accuracy: 0.93 - ETA: 0s - loss: 0.1941 - accuracy: 0.93 - ETA: 0s - loss: 0.1940 - accuracy: 0.93 - ETA: 0s - loss: 0.1938 - accuracy: 0.93 - ETA: 0s - loss: 0.1936 - accuracy: 0.93 - ETA: 0s - loss: 0.1941 - accuracy: 0.93 - ETA: 0s - loss: 0.1939 - accuracy: 0.93 - ETA: 0s - loss: 0.1935 - accuracy: 0.93 - ETA: 0s - loss: 0.1934 - accuracy: 0.93 - ETA: 0s - loss: 0.1931 - accuracy: 0.93 - ETA: 0s - loss: 0.1933 - accuracy: 0.93 - ETA: 0s - loss: 0.1931 - accuracy: 0.93 - ETA: 0s - loss: 0.1931 - accuracy: 0.93 - 19s 23ms/step - loss: 0.1930 - accuracy: 0.9340 - val_loss: 0.4910 - val_accuracy: 0.7564\n",
      "Epoch 3/5\n"
     ]
    },
    {
     "name": "stdout",
     "output_type": "stream",
     "text": [
      "558/804 [===================>..........] - ETA: 12s - loss: 0.0683 - accuracy: 0.968 - ETA: 23s - loss: 0.0588 - accuracy: 0.979 - ETA: 23s - loss: 0.1066 - accuracy: 0.956 - ETA: 19s - loss: 0.0874 - accuracy: 0.968 - ETA: 22s - loss: 0.0862 - accuracy: 0.968 - ETA: 25s - loss: 0.0798 - accuracy: 0.971 - ETA: 22s - loss: 0.0810 - accuracy: 0.971 - ETA: 19s - loss: 0.0890 - accuracy: 0.968 - ETA: 17s - loss: 0.0866 - accuracy: 0.968 - ETA: 17s - loss: 0.0919 - accuracy: 0.967 - ETA: 16s - loss: 0.0881 - accuracy: 0.969 - ETA: 16s - loss: 0.0957 - accuracy: 0.967 - ETA: 16s - loss: 0.1018 - accuracy: 0.964 - ETA: 15s - loss: 0.1014 - accuracy: 0.963 - ETA: 15s - loss: 0.1031 - accuracy: 0.964 - ETA: 15s - loss: 0.1035 - accuracy: 0.964 - ETA: 15s - loss: 0.1013 - accuracy: 0.965 - ETA: 15s - loss: 0.1030 - accuracy: 0.964 - ETA: 15s - loss: 0.1035 - accuracy: 0.964 - ETA: 14s - loss: 0.1080 - accuracy: 0.962 - ETA: 14s - loss: 0.1077 - accuracy: 0.962 - ETA: 14s - loss: 0.1092 - accuracy: 0.961 - ETA: 14s - loss: 0.1091 - accuracy: 0.960 - ETA: 13s - loss: 0.1069 - accuracy: 0.961 - ETA: 13s - loss: 0.1053 - accuracy: 0.962 - ETA: 13s - loss: 0.1050 - accuracy: 0.962 - ETA: 13s - loss: 0.1031 - accuracy: 0.963 - ETA: 13s - loss: 0.1050 - accuracy: 0.962 - ETA: 13s - loss: 0.1055 - accuracy: 0.960 - ETA: 13s - loss: 0.1049 - accuracy: 0.960 - ETA: 13s - loss: 0.1069 - accuracy: 0.960 - ETA: 13s - loss: 0.1051 - accuracy: 0.961 - ETA: 13s - loss: 0.1053 - accuracy: 0.960 - ETA: 13s - loss: 0.1061 - accuracy: 0.959 - ETA: 13s - loss: 0.1073 - accuracy: 0.959 - ETA: 13s - loss: 0.1076 - accuracy: 0.960 - ETA: 13s - loss: 0.1084 - accuracy: 0.959 - ETA: 12s - loss: 0.1076 - accuracy: 0.960 - ETA: 12s - loss: 0.1074 - accuracy: 0.960 - ETA: 12s - loss: 0.1052 - accuracy: 0.961 - ETA: 12s - loss: 0.1054 - accuracy: 0.961 - ETA: 12s - loss: 0.1058 - accuracy: 0.961 - ETA: 12s - loss: 0.1051 - accuracy: 0.961 - ETA: 12s - loss: 0.1044 - accuracy: 0.961 - ETA: 12s - loss: 0.1041 - accuracy: 0.961 - ETA: 12s - loss: 0.1043 - accuracy: 0.961 - ETA: 12s - loss: 0.1048 - accuracy: 0.961 - ETA: 12s - loss: 0.1046 - accuracy: 0.961 - ETA: 11s - loss: 0.1051 - accuracy: 0.961 - ETA: 11s - loss: 0.1044 - accuracy: 0.961 - ETA: 11s - loss: 0.1048 - accuracy: 0.961 - ETA: 11s - loss: 0.1045 - accuracy: 0.961 - ETA: 11s - loss: 0.1044 - accuracy: 0.961 - ETA: 11s - loss: 0.1032 - accuracy: 0.961 - ETA: 11s - loss: 0.1027 - accuracy: 0.961 - ETA: 11s - loss: 0.1026 - accuracy: 0.961 - ETA: 11s - loss: 0.1019 - accuracy: 0.962 - ETA: 11s - loss: 0.1022 - accuracy: 0.962 - ETA: 11s - loss: 0.1021 - accuracy: 0.961 - ETA: 11s - loss: 0.1017 - accuracy: 0.962 - ETA: 11s - loss: 0.1018 - accuracy: 0.962 - ETA: 12s - loss: 0.1015 - accuracy: 0.962 - ETA: 12s - loss: 0.1016 - accuracy: 0.962 - ETA: 12s - loss: 0.1013 - accuracy: 0.962 - ETA: 12s - loss: 0.1011 - accuracy: 0.962 - ETA: 12s - loss: 0.1021 - accuracy: 0.961 - ETA: 12s - loss: 0.1035 - accuracy: 0.961 - ETA: 12s - loss: 0.1047 - accuracy: 0.960 - ETA: 12s - loss: 0.1049 - accuracy: 0.960 - ETA: 12s - loss: 0.1055 - accuracy: 0.960 - ETA: 12s - loss: 0.1058 - accuracy: 0.960 - ETA: 12s - loss: 0.1058 - accuracy: 0.960 - ETA: 12s - loss: 0.1066 - accuracy: 0.960 - ETA: 12s - loss: 0.1066 - accuracy: 0.960 - ETA: 12s - loss: 0.1069 - accuracy: 0.960 - ETA: 12s - loss: 0.1071 - accuracy: 0.959 - ETA: 12s - loss: 0.1072 - accuracy: 0.959 - ETA: 12s - loss: 0.1069 - accuracy: 0.960 - ETA: 12s - loss: 0.1068 - accuracy: 0.959 - ETA: 12s - loss: 0.1068 - accuracy: 0.959 - ETA: 12s - loss: 0.1064 - accuracy: 0.960 - ETA: 11s - loss: 0.1066 - accuracy: 0.960 - ETA: 11s - loss: 0.1064 - accuracy: 0.960 - ETA: 11s - loss: 0.1064 - accuracy: 0.959 - ETA: 11s - loss: 0.1062 - accuracy: 0.959 - ETA: 11s - loss: 0.1058 - accuracy: 0.960 - ETA: 11s - loss: 0.1056 - accuracy: 0.960 - ETA: 11s - loss: 0.1059 - accuracy: 0.960 - ETA: 11s - loss: 0.1050 - accuracy: 0.960 - ETA: 11s - loss: 0.1051 - accuracy: 0.960 - ETA: 11s - loss: 0.1051 - accuracy: 0.960 - ETA: 11s - loss: 0.1051 - accuracy: 0.960 - ETA: 11s - loss: 0.1056 - accuracy: 0.959 - ETA: 11s - loss: 0.1053 - accuracy: 0.960 - ETA: 11s - loss: 0.1059 - accuracy: 0.960 - ETA: 10s - loss: 0.1062 - accuracy: 0.960 - ETA: 10s - loss: 0.1070 - accuracy: 0.959 - ETA: 10s - loss: 0.1075 - accuracy: 0.959 - ETA: 10s - loss: 0.1074 - accuracy: 0.959 - ETA: 10s - loss: 0.1081 - accuracy: 0.959 - ETA: 10s - loss: 0.1079 - accuracy: 0.959 - ETA: 10s - loss: 0.1080 - accuracy: 0.959 - ETA: 10s - loss: 0.1074 - accuracy: 0.960 - ETA: 10s - loss: 0.1071 - accuracy: 0.960 - ETA: 10s - loss: 0.1075 - accuracy: 0.959 - ETA: 10s - loss: 0.1075 - accuracy: 0.960 - ETA: 10s - loss: 0.1073 - accuracy: 0.960 - ETA: 10s - loss: 0.1072 - accuracy: 0.959 - ETA: 9s - loss: 0.1074 - accuracy: 0.959 - ETA: 9s - loss: 0.1071 - accuracy: 0.95 - ETA: 9s - loss: 0.1076 - accuracy: 0.95 - ETA: 9s - loss: 0.1075 - accuracy: 0.95 - ETA: 9s - loss: 0.1075 - accuracy: 0.95 - ETA: 9s - loss: 0.1074 - accuracy: 0.95 - ETA: 9s - loss: 0.1071 - accuracy: 0.95 - ETA: 9s - loss: 0.1068 - accuracy: 0.95 - ETA: 9s - loss: 0.1074 - accuracy: 0.95 - ETA: 9s - loss: 0.1081 - accuracy: 0.95 - ETA: 9s - loss: 0.1082 - accuracy: 0.95 - ETA: 9s - loss: 0.1084 - accuracy: 0.95 - ETA: 9s - loss: 0.1083 - accuracy: 0.95 - ETA: 8s - loss: 0.1082 - accuracy: 0.95 - ETA: 8s - loss: 0.1084 - accuracy: 0.95 - ETA: 8s - loss: 0.1083 - accuracy: 0.95 - ETA: 8s - loss: 0.1081 - accuracy: 0.95 - ETA: 8s - loss: 0.1084 - accuracy: 0.95 - ETA: 8s - loss: 0.1080 - accuracy: 0.95 - ETA: 8s - loss: 0.1079 - accuracy: 0.95 - ETA: 8s - loss: 0.1074 - accuracy: 0.95 - ETA: 8s - loss: 0.1078 - accuracy: 0.95 - ETA: 8s - loss: 0.1074 - accuracy: 0.95 - ETA: 8s - loss: 0.1076 - accuracy: 0.95 - ETA: 8s - loss: 0.1075 - accuracy: 0.95 - ETA: 8s - loss: 0.1072 - accuracy: 0.95 - ETA: 7s - loss: 0.1080 - accuracy: 0.95 - ETA: 7s - loss: 0.1080 - accuracy: 0.95 - ETA: 7s - loss: 0.1078 - accuracy: 0.95 - ETA: 7s - loss: 0.1079 - accuracy: 0.95 - ETA: 7s - loss: 0.1082 - accuracy: 0.95 - ETA: 7s - loss: 0.1084 - accuracy: 0.95 - ETA: 7s - loss: 0.1089 - accuracy: 0.95 - ETA: 7s - loss: 0.1096 - accuracy: 0.95 - ETA: 7s - loss: 0.1091 - accuracy: 0.95 - ETA: 7s - loss: 0.1091 - accuracy: 0.95 - ETA: 7s - loss: 0.1088 - accuracy: 0.95 - ETA: 7s - loss: 0.1085 - accuracy: 0.95 - ETA: 7s - loss: 0.1084 - accuracy: 0.95 - ETA: 7s - loss: 0.1086 - accuracy: 0.95 - ETA: 7s - loss: 0.1087 - accuracy: 0.95 - ETA: 7s - loss: 0.1089 - accuracy: 0.95 - ETA: 6s - loss: 0.1086 - accuracy: 0.95 - ETA: 6s - loss: 0.1086 - accuracy: 0.95 - ETA: 6s - loss: 0.1087 - accuracy: 0.95 - ETA: 6s - loss: 0.1088 - accuracy: 0.95 - ETA: 6s - loss: 0.1088 - accuracy: 0.95 - ETA: 6s - loss: 0.1088 - accuracy: 0.95 - ETA: 6s - loss: 0.1085 - accuracy: 0.95 - ETA: 6s - loss: 0.1084 - accuracy: 0.95 - ETA: 6s - loss: 0.1080 - accuracy: 0.95 - ETA: 6s - loss: 0.1080 - accuracy: 0.95 - ETA: 6s - loss: 0.1078 - accuracy: 0.95 - ETA: 6s - loss: 0.1076 - accuracy: 0.95 - ETA: 6s - loss: 0.1080 - accuracy: 0.95 - ETA: 6s - loss: 0.1076 - accuracy: 0.95 - ETA: 6s - loss: 0.1077 - accuracy: 0.95 - ETA: 6s - loss: 0.1079 - accuracy: 0.95 - ETA: 6s - loss: 0.1079 - accuracy: 0.95 - ETA: 6s - loss: 0.1077 - accuracy: 0.95 - ETA: 6s - loss: 0.1074 - accuracy: 0.95 - ETA: 6s - loss: 0.1076 - accuracy: 0.95 - ETA: 6s - loss: 0.1073 - accuracy: 0.95 - ETA: 5s - loss: 0.1074 - accuracy: 0.95 - ETA: 5s - loss: 0.1075 - accuracy: 0.95 - ETA: 5s - loss: 0.1076 - accuracy: 0.95 - ETA: 5s - loss: 0.1076 - accuracy: 0.95 - ETA: 5s - loss: 0.1072 - accuracy: 0.95 - ETA: 5s - loss: 0.1076 - accuracy: 0.95 - ETA: 5s - loss: 0.1073 - accuracy: 0.95 - ETA: 5s - loss: 0.1073 - accuracy: 0.95 - ETA: 5s - loss: 0.1069 - accuracy: 0.95 - ETA: 5s - loss: 0.1066 - accuracy: 0.95 - ETA: 5s - loss: 0.1062 - accuracy: 0.95 - ETA: 5s - loss: 0.1064 - accuracy: 0.95 - ETA: 5s - loss: 0.1062 - accuracy: 0.95 - ETA: 5s - loss: 0.1061 - accuracy: 0.95 - ETA: 5s - loss: 0.1063 - accuracy: 0.95 - ETA: 5s - loss: 0.1062 - accuracy: 0.95 - ETA: 5s - loss: 0.1065 - accuracy: 0.95 - ETA: 5s - loss: 0.1063 - accuracy: 0.9598"
     ]
    },
    {
     "name": "stdout",
     "output_type": "stream",
     "text": [
      "804/804 [==============================] - ETA: 4s - loss: 0.1063 - accuracy: 0.95 - ETA: 4s - loss: 0.1063 - accuracy: 0.95 - ETA: 4s - loss: 0.1065 - accuracy: 0.95 - ETA: 4s - loss: 0.1066 - accuracy: 0.95 - ETA: 4s - loss: 0.1069 - accuracy: 0.95 - ETA: 4s - loss: 0.1068 - accuracy: 0.95 - ETA: 4s - loss: 0.1069 - accuracy: 0.95 - ETA: 4s - loss: 0.1069 - accuracy: 0.95 - ETA: 4s - loss: 0.1069 - accuracy: 0.95 - ETA: 4s - loss: 0.1069 - accuracy: 0.95 - ETA: 4s - loss: 0.1067 - accuracy: 0.96 - ETA: 4s - loss: 0.1069 - accuracy: 0.95 - ETA: 4s - loss: 0.1070 - accuracy: 0.95 - ETA: 4s - loss: 0.1070 - accuracy: 0.95 - ETA: 3s - loss: 0.1073 - accuracy: 0.95 - ETA: 3s - loss: 0.1075 - accuracy: 0.95 - ETA: 3s - loss: 0.1073 - accuracy: 0.95 - ETA: 3s - loss: 0.1072 - accuracy: 0.95 - ETA: 3s - loss: 0.1072 - accuracy: 0.96 - ETA: 3s - loss: 0.1070 - accuracy: 0.96 - ETA: 3s - loss: 0.1071 - accuracy: 0.95 - ETA: 3s - loss: 0.1075 - accuracy: 0.95 - ETA: 3s - loss: 0.1073 - accuracy: 0.95 - ETA: 3s - loss: 0.1072 - accuracy: 0.95 - ETA: 3s - loss: 0.1071 - accuracy: 0.95 - ETA: 3s - loss: 0.1072 - accuracy: 0.95 - ETA: 3s - loss: 0.1073 - accuracy: 0.95 - ETA: 3s - loss: 0.1073 - accuracy: 0.95 - ETA: 3s - loss: 0.1073 - accuracy: 0.95 - ETA: 3s - loss: 0.1072 - accuracy: 0.95 - ETA: 3s - loss: 0.1072 - accuracy: 0.95 - ETA: 3s - loss: 0.1072 - accuracy: 0.95 - ETA: 3s - loss: 0.1073 - accuracy: 0.95 - ETA: 3s - loss: 0.1072 - accuracy: 0.95 - ETA: 2s - loss: 0.1074 - accuracy: 0.95 - ETA: 2s - loss: 0.1073 - accuracy: 0.95 - ETA: 2s - loss: 0.1073 - accuracy: 0.95 - ETA: 2s - loss: 0.1077 - accuracy: 0.95 - ETA: 2s - loss: 0.1076 - accuracy: 0.95 - ETA: 2s - loss: 0.1076 - accuracy: 0.95 - ETA: 2s - loss: 0.1079 - accuracy: 0.95 - ETA: 2s - loss: 0.1078 - accuracy: 0.95 - ETA: 2s - loss: 0.1076 - accuracy: 0.95 - ETA: 2s - loss: 0.1076 - accuracy: 0.95 - ETA: 2s - loss: 0.1076 - accuracy: 0.95 - ETA: 2s - loss: 0.1078 - accuracy: 0.95 - ETA: 2s - loss: 0.1084 - accuracy: 0.95 - ETA: 2s - loss: 0.1085 - accuracy: 0.95 - ETA: 2s - loss: 0.1083 - accuracy: 0.95 - ETA: 2s - loss: 0.1083 - accuracy: 0.95 - ETA: 2s - loss: 0.1084 - accuracy: 0.95 - ETA: 2s - loss: 0.1083 - accuracy: 0.95 - ETA: 2s - loss: 0.1083 - accuracy: 0.95 - ETA: 2s - loss: 0.1081 - accuracy: 0.95 - ETA: 2s - loss: 0.1080 - accuracy: 0.95 - ETA: 2s - loss: 0.1081 - accuracy: 0.95 - ETA: 2s - loss: 0.1080 - accuracy: 0.95 - ETA: 2s - loss: 0.1080 - accuracy: 0.95 - ETA: 2s - loss: 0.1080 - accuracy: 0.95 - ETA: 2s - loss: 0.1081 - accuracy: 0.95 - ETA: 1s - loss: 0.1080 - accuracy: 0.95 - ETA: 1s - loss: 0.1080 - accuracy: 0.95 - ETA: 1s - loss: 0.1082 - accuracy: 0.95 - ETA: 1s - loss: 0.1080 - accuracy: 0.95 - ETA: 1s - loss: 0.1081 - accuracy: 0.95 - ETA: 1s - loss: 0.1078 - accuracy: 0.95 - ETA: 1s - loss: 0.1079 - accuracy: 0.95 - ETA: 1s - loss: 0.1080 - accuracy: 0.95 - ETA: 1s - loss: 0.1081 - accuracy: 0.95 - ETA: 1s - loss: 0.1078 - accuracy: 0.95 - ETA: 1s - loss: 0.1079 - accuracy: 0.95 - ETA: 1s - loss: 0.1079 - accuracy: 0.95 - ETA: 1s - loss: 0.1080 - accuracy: 0.95 - ETA: 1s - loss: 0.1079 - accuracy: 0.95 - ETA: 1s - loss: 0.1079 - accuracy: 0.95 - ETA: 0s - loss: 0.1079 - accuracy: 0.95 - ETA: 0s - loss: 0.1079 - accuracy: 0.95 - ETA: 0s - loss: 0.1076 - accuracy: 0.96 - ETA: 0s - loss: 0.1077 - accuracy: 0.96 - ETA: 0s - loss: 0.1076 - accuracy: 0.96 - ETA: 0s - loss: 0.1077 - accuracy: 0.96 - ETA: 0s - loss: 0.1077 - accuracy: 0.96 - ETA: 0s - loss: 0.1076 - accuracy: 0.96 - ETA: 0s - loss: 0.1074 - accuracy: 0.96 - ETA: 0s - loss: 0.1073 - accuracy: 0.96 - ETA: 0s - loss: 0.1075 - accuracy: 0.96 - ETA: 0s - loss: 0.1079 - accuracy: 0.95 - ETA: 0s - loss: 0.1079 - accuracy: 0.95 - ETA: 0s - loss: 0.1079 - accuracy: 0.96 - 19s 23ms/step - loss: 0.1079 - accuracy: 0.9600 - val_loss: 0.4983 - val_accuracy: 0.6560\n",
      "Epoch 4/5\n"
     ]
    },
    {
     "name": "stdout",
     "output_type": "stream",
     "text": [
      "632/804 [======================>.......] - ETA: 22s - loss: 0.0889 - accuracy: 0.937 - ETA: 15s - loss: 0.0796 - accuracy: 0.960 - ETA: 16s - loss: 0.0891 - accuracy: 0.968 - ETA: 16s - loss: 0.0824 - accuracy: 0.975 - ETA: 14s - loss: 0.0886 - accuracy: 0.968 - ETA: 13s - loss: 0.0933 - accuracy: 0.967 - ETA: 13s - loss: 0.0976 - accuracy: 0.965 - ETA: 12s - loss: 0.0952 - accuracy: 0.966 - ETA: 12s - loss: 0.0933 - accuracy: 0.966 - ETA: 12s - loss: 0.0952 - accuracy: 0.965 - ETA: 12s - loss: 0.0905 - accuracy: 0.967 - ETA: 12s - loss: 0.0869 - accuracy: 0.970 - ETA: 12s - loss: 0.0889 - accuracy: 0.969 - ETA: 12s - loss: 0.0925 - accuracy: 0.966 - ETA: 12s - loss: 0.0950 - accuracy: 0.966 - ETA: 12s - loss: 0.0957 - accuracy: 0.965 - ETA: 12s - loss: 0.0938 - accuracy: 0.965 - ETA: 12s - loss: 0.0944 - accuracy: 0.964 - ETA: 12s - loss: 0.0947 - accuracy: 0.964 - ETA: 12s - loss: 0.0954 - accuracy: 0.963 - ETA: 12s - loss: 0.0957 - accuracy: 0.964 - ETA: 12s - loss: 0.0946 - accuracy: 0.964 - ETA: 12s - loss: 0.0942 - accuracy: 0.963 - ETA: 12s - loss: 0.0936 - accuracy: 0.964 - ETA: 12s - loss: 0.0934 - accuracy: 0.964 - ETA: 12s - loss: 0.0919 - accuracy: 0.965 - ETA: 12s - loss: 0.0938 - accuracy: 0.964 - ETA: 12s - loss: 0.0925 - accuracy: 0.964 - ETA: 12s - loss: 0.0918 - accuracy: 0.964 - ETA: 11s - loss: 0.0906 - accuracy: 0.965 - ETA: 11s - loss: 0.0923 - accuracy: 0.964 - ETA: 11s - loss: 0.0922 - accuracy: 0.964 - ETA: 11s - loss: 0.0902 - accuracy: 0.965 - ETA: 11s - loss: 0.0897 - accuracy: 0.966 - ETA: 11s - loss: 0.0908 - accuracy: 0.966 - ETA: 11s - loss: 0.0932 - accuracy: 0.965 - ETA: 11s - loss: 0.0925 - accuracy: 0.965 - ETA: 11s - loss: 0.0917 - accuracy: 0.965 - ETA: 11s - loss: 0.0912 - accuracy: 0.965 - ETA: 11s - loss: 0.0908 - accuracy: 0.966 - ETA: 11s - loss: 0.0929 - accuracy: 0.965 - ETA: 10s - loss: 0.0924 - accuracy: 0.965 - ETA: 10s - loss: 0.0932 - accuracy: 0.965 - ETA: 10s - loss: 0.0919 - accuracy: 0.966 - ETA: 10s - loss: 0.0912 - accuracy: 0.966 - ETA: 11s - loss: 0.0912 - accuracy: 0.966 - ETA: 11s - loss: 0.0906 - accuracy: 0.966 - ETA: 11s - loss: 0.0910 - accuracy: 0.966 - ETA: 11s - loss: 0.0912 - accuracy: 0.966 - ETA: 11s - loss: 0.0908 - accuracy: 0.966 - ETA: 11s - loss: 0.0911 - accuracy: 0.966 - ETA: 11s - loss: 0.0905 - accuracy: 0.966 - ETA: 12s - loss: 0.0906 - accuracy: 0.966 - ETA: 12s - loss: 0.0914 - accuracy: 0.966 - ETA: 12s - loss: 0.0905 - accuracy: 0.966 - ETA: 12s - loss: 0.0910 - accuracy: 0.966 - ETA: 12s - loss: 0.0907 - accuracy: 0.966 - ETA: 12s - loss: 0.0906 - accuracy: 0.966 - ETA: 12s - loss: 0.0906 - accuracy: 0.966 - ETA: 12s - loss: 0.0911 - accuracy: 0.966 - ETA: 12s - loss: 0.0905 - accuracy: 0.966 - ETA: 12s - loss: 0.0904 - accuracy: 0.966 - ETA: 12s - loss: 0.0903 - accuracy: 0.966 - ETA: 12s - loss: 0.0908 - accuracy: 0.966 - ETA: 12s - loss: 0.0904 - accuracy: 0.966 - ETA: 12s - loss: 0.0910 - accuracy: 0.966 - ETA: 12s - loss: 0.0908 - accuracy: 0.966 - ETA: 12s - loss: 0.0913 - accuracy: 0.966 - ETA: 12s - loss: 0.0913 - accuracy: 0.966 - ETA: 12s - loss: 0.0911 - accuracy: 0.966 - ETA: 12s - loss: 0.0912 - accuracy: 0.966 - ETA: 12s - loss: 0.0909 - accuracy: 0.966 - ETA: 12s - loss: 0.0906 - accuracy: 0.966 - ETA: 11s - loss: 0.0907 - accuracy: 0.966 - ETA: 11s - loss: 0.0908 - accuracy: 0.966 - ETA: 11s - loss: 0.0913 - accuracy: 0.966 - ETA: 12s - loss: 0.0909 - accuracy: 0.966 - ETA: 12s - loss: 0.0911 - accuracy: 0.966 - ETA: 11s - loss: 0.0915 - accuracy: 0.965 - ETA: 11s - loss: 0.0925 - accuracy: 0.965 - ETA: 11s - loss: 0.0926 - accuracy: 0.965 - ETA: 11s - loss: 0.0944 - accuracy: 0.964 - ETA: 11s - loss: 0.0946 - accuracy: 0.964 - ETA: 11s - loss: 0.0943 - accuracy: 0.964 - ETA: 11s - loss: 0.0947 - accuracy: 0.964 - ETA: 11s - loss: 0.0952 - accuracy: 0.963 - ETA: 11s - loss: 0.0948 - accuracy: 0.964 - ETA: 11s - loss: 0.0942 - accuracy: 0.964 - ETA: 11s - loss: 0.0939 - accuracy: 0.964 - ETA: 11s - loss: 0.0941 - accuracy: 0.964 - ETA: 11s - loss: 0.0940 - accuracy: 0.964 - ETA: 11s - loss: 0.0940 - accuracy: 0.964 - ETA: 11s - loss: 0.0937 - accuracy: 0.964 - ETA: 11s - loss: 0.0936 - accuracy: 0.964 - ETA: 10s - loss: 0.0936 - accuracy: 0.964 - ETA: 10s - loss: 0.0935 - accuracy: 0.964 - ETA: 10s - loss: 0.0932 - accuracy: 0.964 - ETA: 10s - loss: 0.0935 - accuracy: 0.964 - ETA: 10s - loss: 0.0937 - accuracy: 0.964 - ETA: 10s - loss: 0.0940 - accuracy: 0.964 - ETA: 10s - loss: 0.0941 - accuracy: 0.963 - ETA: 10s - loss: 0.0934 - accuracy: 0.964 - ETA: 10s - loss: 0.0937 - accuracy: 0.964 - ETA: 10s - loss: 0.0934 - accuracy: 0.964 - ETA: 9s - loss: 0.0931 - accuracy: 0.964 - ETA: 9s - loss: 0.0929 - accuracy: 0.96 - ETA: 9s - loss: 0.0928 - accuracy: 0.96 - ETA: 9s - loss: 0.0935 - accuracy: 0.96 - ETA: 9s - loss: 0.0935 - accuracy: 0.96 - ETA: 9s - loss: 0.0934 - accuracy: 0.96 - ETA: 9s - loss: 0.0940 - accuracy: 0.96 - ETA: 9s - loss: 0.0934 - accuracy: 0.96 - ETA: 8s - loss: 0.0930 - accuracy: 0.96 - ETA: 8s - loss: 0.0945 - accuracy: 0.96 - ETA: 8s - loss: 0.0942 - accuracy: 0.96 - ETA: 8s - loss: 0.0941 - accuracy: 0.96 - ETA: 8s - loss: 0.0937 - accuracy: 0.96 - ETA: 8s - loss: 0.0931 - accuracy: 0.96 - ETA: 8s - loss: 0.0928 - accuracy: 0.96 - ETA: 8s - loss: 0.0928 - accuracy: 0.96 - ETA: 8s - loss: 0.0930 - accuracy: 0.96 - ETA: 8s - loss: 0.0930 - accuracy: 0.96 - ETA: 7s - loss: 0.0927 - accuracy: 0.96 - ETA: 7s - loss: 0.0922 - accuracy: 0.96 - ETA: 7s - loss: 0.0922 - accuracy: 0.96 - ETA: 7s - loss: 0.0925 - accuracy: 0.96 - ETA: 7s - loss: 0.0922 - accuracy: 0.96 - ETA: 7s - loss: 0.0924 - accuracy: 0.96 - ETA: 7s - loss: 0.0925 - accuracy: 0.96 - ETA: 7s - loss: 0.0921 - accuracy: 0.96 - ETA: 7s - loss: 0.0916 - accuracy: 0.96 - ETA: 7s - loss: 0.0919 - accuracy: 0.96 - ETA: 7s - loss: 0.0923 - accuracy: 0.96 - ETA: 7s - loss: 0.0920 - accuracy: 0.96 - ETA: 7s - loss: 0.0921 - accuracy: 0.96 - ETA: 6s - loss: 0.0921 - accuracy: 0.96 - ETA: 6s - loss: 0.0922 - accuracy: 0.96 - ETA: 6s - loss: 0.0923 - accuracy: 0.96 - ETA: 6s - loss: 0.0919 - accuracy: 0.96 - ETA: 6s - loss: 0.0916 - accuracy: 0.96 - ETA: 6s - loss: 0.0919 - accuracy: 0.96 - ETA: 6s - loss: 0.0920 - accuracy: 0.96 - ETA: 6s - loss: 0.0918 - accuracy: 0.96 - ETA: 6s - loss: 0.0916 - accuracy: 0.96 - ETA: 6s - loss: 0.0913 - accuracy: 0.96 - ETA: 6s - loss: 0.0912 - accuracy: 0.96 - ETA: 6s - loss: 0.0913 - accuracy: 0.96 - ETA: 5s - loss: 0.0908 - accuracy: 0.96 - ETA: 5s - loss: 0.0912 - accuracy: 0.96 - ETA: 5s - loss: 0.0915 - accuracy: 0.96 - ETA: 5s - loss: 0.0920 - accuracy: 0.96 - ETA: 5s - loss: 0.0923 - accuracy: 0.96 - ETA: 5s - loss: 0.0923 - accuracy: 0.96 - ETA: 5s - loss: 0.0923 - accuracy: 0.96 - ETA: 5s - loss: 0.0925 - accuracy: 0.96 - ETA: 5s - loss: 0.0923 - accuracy: 0.96 - ETA: 5s - loss: 0.0921 - accuracy: 0.96 - ETA: 5s - loss: 0.0927 - accuracy: 0.96 - ETA: 5s - loss: 0.0923 - accuracy: 0.96 - ETA: 4s - loss: 0.0919 - accuracy: 0.96 - ETA: 4s - loss: 0.0919 - accuracy: 0.96 - ETA: 4s - loss: 0.0918 - accuracy: 0.96 - ETA: 4s - loss: 0.0921 - accuracy: 0.96 - ETA: 4s - loss: 0.0920 - accuracy: 0.96 - ETA: 4s - loss: 0.0921 - accuracy: 0.96 - ETA: 4s - loss: 0.0919 - accuracy: 0.96 - ETA: 4s - loss: 0.0918 - accuracy: 0.96 - ETA: 4s - loss: 0.0916 - accuracy: 0.96 - ETA: 4s - loss: 0.0914 - accuracy: 0.96 - ETA: 4s - loss: 0.0915 - accuracy: 0.96 - ETA: 4s - loss: 0.0919 - accuracy: 0.96 - ETA: 3s - loss: 0.0921 - accuracy: 0.96 - ETA: 3s - loss: 0.0919 - accuracy: 0.96 - ETA: 3s - loss: 0.0916 - accuracy: 0.96 - ETA: 3s - loss: 0.0922 - accuracy: 0.96 - ETA: 3s - loss: 0.0928 - accuracy: 0.96 - ETA: 3s - loss: 0.0929 - accuracy: 0.96 - ETA: 3s - loss: 0.0927 - accuracy: 0.96 - ETA: 3s - loss: 0.0925 - accuracy: 0.96 - ETA: 3s - loss: 0.0925 - accuracy: 0.96 - ETA: 3s - loss: 0.0925 - accuracy: 0.96 - ETA: 3s - loss: 0.0924 - accuracy: 0.96 - ETA: 3s - loss: 0.0923 - accuracy: 0.96 - ETA: 3s - loss: 0.0924 - accuracy: 0.96 - ETA: 3s - loss: 0.0926 - accuracy: 0.96 - ETA: 3s - loss: 0.0924 - accuracy: 0.96 - ETA: 3s - loss: 0.0924 - accuracy: 0.96 - ETA: 3s - loss: 0.0924 - accuracy: 0.96 - ETA: 3s - loss: 0.0929 - accuracy: 0.96 - ETA: 3s - loss: 0.0930 - accuracy: 0.9647"
     ]
    },
    {
     "name": "stdout",
     "output_type": "stream",
     "text": [
      "804/804 [==============================] - ETA: 2s - loss: 0.0928 - accuracy: 0.96 - ETA: 2s - loss: 0.0929 - accuracy: 0.96 - ETA: 2s - loss: 0.0929 - accuracy: 0.96 - ETA: 2s - loss: 0.0932 - accuracy: 0.96 - ETA: 2s - loss: 0.0932 - accuracy: 0.96 - ETA: 2s - loss: 0.0935 - accuracy: 0.96 - ETA: 2s - loss: 0.0934 - accuracy: 0.96 - ETA: 2s - loss: 0.0937 - accuracy: 0.96 - ETA: 2s - loss: 0.0937 - accuracy: 0.96 - ETA: 2s - loss: 0.0939 - accuracy: 0.96 - ETA: 2s - loss: 0.0940 - accuracy: 0.96 - ETA: 2s - loss: 0.0938 - accuracy: 0.96 - ETA: 2s - loss: 0.0938 - accuracy: 0.96 - ETA: 2s - loss: 0.0939 - accuracy: 0.96 - ETA: 2s - loss: 0.0938 - accuracy: 0.96 - ETA: 2s - loss: 0.0937 - accuracy: 0.96 - ETA: 1s - loss: 0.0937 - accuracy: 0.96 - ETA: 1s - loss: 0.0936 - accuracy: 0.96 - ETA: 1s - loss: 0.0936 - accuracy: 0.96 - ETA: 1s - loss: 0.0937 - accuracy: 0.96 - ETA: 1s - loss: 0.0938 - accuracy: 0.96 - ETA: 1s - loss: 0.0938 - accuracy: 0.96 - ETA: 1s - loss: 0.0937 - accuracy: 0.96 - ETA: 1s - loss: 0.0936 - accuracy: 0.96 - ETA: 1s - loss: 0.0938 - accuracy: 0.96 - ETA: 1s - loss: 0.0942 - accuracy: 0.96 - ETA: 1s - loss: 0.0945 - accuracy: 0.96 - ETA: 1s - loss: 0.0950 - accuracy: 0.96 - ETA: 1s - loss: 0.0952 - accuracy: 0.96 - ETA: 1s - loss: 0.0952 - accuracy: 0.96 - ETA: 1s - loss: 0.0954 - accuracy: 0.96 - ETA: 1s - loss: 0.0956 - accuracy: 0.96 - ETA: 1s - loss: 0.0956 - accuracy: 0.96 - ETA: 0s - loss: 0.0957 - accuracy: 0.96 - ETA: 0s - loss: 0.0957 - accuracy: 0.96 - ETA: 0s - loss: 0.0957 - accuracy: 0.96 - ETA: 0s - loss: 0.0958 - accuracy: 0.96 - ETA: 0s - loss: 0.0957 - accuracy: 0.96 - ETA: 0s - loss: 0.0957 - accuracy: 0.96 - ETA: 0s - loss: 0.0956 - accuracy: 0.96 - ETA: 0s - loss: 0.0955 - accuracy: 0.96 - ETA: 0s - loss: 0.0954 - accuracy: 0.96 - ETA: 0s - loss: 0.0954 - accuracy: 0.96 - ETA: 0s - loss: 0.0955 - accuracy: 0.96 - ETA: 0s - loss: 0.0954 - accuracy: 0.96 - ETA: 0s - loss: 0.0954 - accuracy: 0.96 - ETA: 0s - loss: 0.0951 - accuracy: 0.96 - ETA: 0s - loss: 0.0952 - accuracy: 0.96 - ETA: 0s - loss: 0.0951 - accuracy: 0.96 - 15s 19ms/step - loss: 0.0951 - accuracy: 0.9632 - val_loss: 0.4859 - val_accuracy: 0.7304\n",
      "Epoch 5/5\n"
     ]
    },
    {
     "name": "stdout",
     "output_type": "stream",
     "text": [
      "783/804 [============================>.] - ETA: 17s - loss: 0.0210 - accuracy: 1.000 - ETA: 10s - loss: 0.0927 - accuracy: 0.943 - ETA: 10s - loss: 0.0816 - accuracy: 0.961 - ETA: 10s - loss: 0.0832 - accuracy: 0.961 - ETA: 10s - loss: 0.0877 - accuracy: 0.963 - ETA: 10s - loss: 0.0898 - accuracy: 0.958 - ETA: 10s - loss: 0.1003 - accuracy: 0.956 - ETA: 10s - loss: 0.0940 - accuracy: 0.960 - ETA: 10s - loss: 0.0879 - accuracy: 0.963 - ETA: 9s - loss: 0.0904 - accuracy: 0.961 - ETA: 9s - loss: 0.0877 - accuracy: 0.96 - ETA: 9s - loss: 0.0870 - accuracy: 0.96 - ETA: 9s - loss: 0.0855 - accuracy: 0.96 - ETA: 9s - loss: 0.0824 - accuracy: 0.96 - ETA: 9s - loss: 0.0800 - accuracy: 0.96 - ETA: 9s - loss: 0.0814 - accuracy: 0.96 - ETA: 9s - loss: 0.0826 - accuracy: 0.96 - ETA: 9s - loss: 0.0833 - accuracy: 0.96 - ETA: 9s - loss: 0.0831 - accuracy: 0.96 - ETA: 9s - loss: 0.0876 - accuracy: 0.96 - ETA: 9s - loss: 0.0850 - accuracy: 0.96 - ETA: 9s - loss: 0.0861 - accuracy: 0.96 - ETA: 9s - loss: 0.0855 - accuracy: 0.96 - ETA: 9s - loss: 0.0854 - accuracy: 0.96 - ETA: 9s - loss: 0.0866 - accuracy: 0.96 - ETA: 9s - loss: 0.0859 - accuracy: 0.96 - ETA: 9s - loss: 0.0854 - accuracy: 0.96 - ETA: 8s - loss: 0.0859 - accuracy: 0.96 - ETA: 8s - loss: 0.0869 - accuracy: 0.96 - ETA: 8s - loss: 0.0879 - accuracy: 0.96 - ETA: 8s - loss: 0.0879 - accuracy: 0.96 - ETA: 8s - loss: 0.0891 - accuracy: 0.96 - ETA: 8s - loss: 0.0881 - accuracy: 0.96 - ETA: 8s - loss: 0.0874 - accuracy: 0.96 - ETA: 8s - loss: 0.0874 - accuracy: 0.96 - ETA: 8s - loss: 0.0878 - accuracy: 0.96 - ETA: 8s - loss: 0.0875 - accuracy: 0.96 - ETA: 8s - loss: 0.0881 - accuracy: 0.96 - ETA: 8s - loss: 0.0881 - accuracy: 0.96 - ETA: 8s - loss: 0.0876 - accuracy: 0.96 - ETA: 8s - loss: 0.0872 - accuracy: 0.96 - ETA: 8s - loss: 0.0859 - accuracy: 0.96 - ETA: 8s - loss: 0.0858 - accuracy: 0.96 - ETA: 8s - loss: 0.0853 - accuracy: 0.96 - ETA: 7s - loss: 0.0857 - accuracy: 0.96 - ETA: 7s - loss: 0.0867 - accuracy: 0.96 - ETA: 7s - loss: 0.0874 - accuracy: 0.96 - ETA: 7s - loss: 0.0877 - accuracy: 0.96 - ETA: 7s - loss: 0.0888 - accuracy: 0.96 - ETA: 7s - loss: 0.0884 - accuracy: 0.96 - ETA: 7s - loss: 0.0880 - accuracy: 0.96 - ETA: 7s - loss: 0.0879 - accuracy: 0.96 - ETA: 7s - loss: 0.0870 - accuracy: 0.96 - ETA: 7s - loss: 0.0869 - accuracy: 0.96 - ETA: 7s - loss: 0.0873 - accuracy: 0.96 - ETA: 7s - loss: 0.0876 - accuracy: 0.96 - ETA: 7s - loss: 0.0877 - accuracy: 0.96 - ETA: 7s - loss: 0.0875 - accuracy: 0.96 - ETA: 7s - loss: 0.0874 - accuracy: 0.96 - ETA: 7s - loss: 0.0879 - accuracy: 0.96 - ETA: 7s - loss: 0.0881 - accuracy: 0.96 - ETA: 7s - loss: 0.0887 - accuracy: 0.96 - ETA: 7s - loss: 0.0897 - accuracy: 0.96 - ETA: 7s - loss: 0.0888 - accuracy: 0.96 - ETA: 7s - loss: 0.0896 - accuracy: 0.96 - ETA: 7s - loss: 0.0895 - accuracy: 0.96 - ETA: 7s - loss: 0.0892 - accuracy: 0.96 - ETA: 7s - loss: 0.0890 - accuracy: 0.96 - ETA: 6s - loss: 0.0892 - accuracy: 0.96 - ETA: 6s - loss: 0.0895 - accuracy: 0.96 - ETA: 6s - loss: 0.0891 - accuracy: 0.96 - ETA: 6s - loss: 0.0890 - accuracy: 0.96 - ETA: 6s - loss: 0.0890 - accuracy: 0.96 - ETA: 6s - loss: 0.0891 - accuracy: 0.96 - ETA: 6s - loss: 0.0895 - accuracy: 0.96 - ETA: 6s - loss: 0.0891 - accuracy: 0.96 - ETA: 6s - loss: 0.0896 - accuracy: 0.96 - ETA: 6s - loss: 0.0902 - accuracy: 0.96 - ETA: 6s - loss: 0.0899 - accuracy: 0.96 - ETA: 6s - loss: 0.0897 - accuracy: 0.96 - ETA: 6s - loss: 0.0894 - accuracy: 0.96 - ETA: 6s - loss: 0.0889 - accuracy: 0.96 - ETA: 6s - loss: 0.0897 - accuracy: 0.96 - ETA: 6s - loss: 0.0894 - accuracy: 0.96 - ETA: 6s - loss: 0.0892 - accuracy: 0.96 - ETA: 6s - loss: 0.0896 - accuracy: 0.96 - ETA: 6s - loss: 0.0896 - accuracy: 0.96 - ETA: 5s - loss: 0.0894 - accuracy: 0.96 - ETA: 5s - loss: 0.0887 - accuracy: 0.96 - ETA: 5s - loss: 0.0889 - accuracy: 0.96 - ETA: 5s - loss: 0.0889 - accuracy: 0.96 - ETA: 5s - loss: 0.0895 - accuracy: 0.96 - ETA: 5s - loss: 0.0899 - accuracy: 0.96 - ETA: 5s - loss: 0.0897 - accuracy: 0.96 - ETA: 5s - loss: 0.0902 - accuracy: 0.96 - ETA: 5s - loss: 0.0899 - accuracy: 0.96 - ETA: 5s - loss: 0.0896 - accuracy: 0.96 - ETA: 5s - loss: 0.0892 - accuracy: 0.96 - ETA: 5s - loss: 0.0894 - accuracy: 0.96 - ETA: 5s - loss: 0.0895 - accuracy: 0.96 - ETA: 5s - loss: 0.0903 - accuracy: 0.96 - ETA: 5s - loss: 0.0900 - accuracy: 0.96 - ETA: 5s - loss: 0.0900 - accuracy: 0.96 - ETA: 5s - loss: 0.0897 - accuracy: 0.96 - ETA: 4s - loss: 0.0899 - accuracy: 0.96 - ETA: 4s - loss: 0.0909 - accuracy: 0.96 - ETA: 4s - loss: 0.0910 - accuracy: 0.96 - ETA: 4s - loss: 0.0916 - accuracy: 0.96 - ETA: 4s - loss: 0.0920 - accuracy: 0.96 - ETA: 4s - loss: 0.0919 - accuracy: 0.96 - ETA: 4s - loss: 0.0919 - accuracy: 0.96 - ETA: 4s - loss: 0.0921 - accuracy: 0.96 - ETA: 4s - loss: 0.0922 - accuracy: 0.96 - ETA: 4s - loss: 0.0920 - accuracy: 0.96 - ETA: 4s - loss: 0.0918 - accuracy: 0.96 - ETA: 4s - loss: 0.0921 - accuracy: 0.96 - ETA: 4s - loss: 0.0918 - accuracy: 0.96 - ETA: 4s - loss: 0.0915 - accuracy: 0.96 - ETA: 4s - loss: 0.0912 - accuracy: 0.96 - ETA: 4s - loss: 0.0912 - accuracy: 0.96 - ETA: 4s - loss: 0.0911 - accuracy: 0.96 - ETA: 4s - loss: 0.0913 - accuracy: 0.96 - ETA: 4s - loss: 0.0911 - accuracy: 0.96 - ETA: 4s - loss: 0.0909 - accuracy: 0.96 - ETA: 3s - loss: 0.0905 - accuracy: 0.96 - ETA: 3s - loss: 0.0903 - accuracy: 0.96 - ETA: 3s - loss: 0.0905 - accuracy: 0.96 - ETA: 3s - loss: 0.0905 - accuracy: 0.96 - ETA: 3s - loss: 0.0908 - accuracy: 0.96 - ETA: 3s - loss: 0.0907 - accuracy: 0.96 - ETA: 3s - loss: 0.0906 - accuracy: 0.96 - ETA: 3s - loss: 0.0907 - accuracy: 0.96 - ETA: 3s - loss: 0.0906 - accuracy: 0.96 - ETA: 3s - loss: 0.0905 - accuracy: 0.96 - ETA: 3s - loss: 0.0906 - accuracy: 0.96 - ETA: 3s - loss: 0.0906 - accuracy: 0.96 - ETA: 3s - loss: 0.0905 - accuracy: 0.96 - ETA: 3s - loss: 0.0907 - accuracy: 0.96 - ETA: 3s - loss: 0.0909 - accuracy: 0.96 - ETA: 3s - loss: 0.0910 - accuracy: 0.96 - ETA: 3s - loss: 0.0910 - accuracy: 0.96 - ETA: 3s - loss: 0.0912 - accuracy: 0.96 - ETA: 3s - loss: 0.0909 - accuracy: 0.96 - ETA: 3s - loss: 0.0912 - accuracy: 0.96 - ETA: 2s - loss: 0.0912 - accuracy: 0.96 - ETA: 2s - loss: 0.0911 - accuracy: 0.96 - ETA: 2s - loss: 0.0912 - accuracy: 0.96 - ETA: 2s - loss: 0.0916 - accuracy: 0.96 - ETA: 2s - loss: 0.0916 - accuracy: 0.96 - ETA: 2s - loss: 0.0916 - accuracy: 0.96 - ETA: 2s - loss: 0.0916 - accuracy: 0.96 - ETA: 2s - loss: 0.0913 - accuracy: 0.96 - ETA: 2s - loss: 0.0912 - accuracy: 0.96 - ETA: 2s - loss: 0.0910 - accuracy: 0.96 - ETA: 2s - loss: 0.0912 - accuracy: 0.96 - ETA: 2s - loss: 0.0910 - accuracy: 0.96 - ETA: 2s - loss: 0.0909 - accuracy: 0.96 - ETA: 2s - loss: 0.0907 - accuracy: 0.96 - ETA: 2s - loss: 0.0909 - accuracy: 0.96 - ETA: 2s - loss: 0.0911 - accuracy: 0.96 - ETA: 2s - loss: 0.0909 - accuracy: 0.96 - ETA: 2s - loss: 0.0909 - accuracy: 0.96 - ETA: 1s - loss: 0.0912 - accuracy: 0.96 - ETA: 1s - loss: 0.0914 - accuracy: 0.96 - ETA: 1s - loss: 0.0914 - accuracy: 0.96 - ETA: 1s - loss: 0.0911 - accuracy: 0.96 - ETA: 1s - loss: 0.0908 - accuracy: 0.96 - ETA: 1s - loss: 0.0907 - accuracy: 0.96 - ETA: 1s - loss: 0.0907 - accuracy: 0.96 - ETA: 1s - loss: 0.0907 - accuracy: 0.96 - ETA: 1s - loss: 0.0908 - accuracy: 0.96 - ETA: 1s - loss: 0.0909 - accuracy: 0.96 - ETA: 1s - loss: 0.0910 - accuracy: 0.96 - ETA: 1s - loss: 0.0911 - accuracy: 0.96 - ETA: 1s - loss: 0.0909 - accuracy: 0.96 - ETA: 1s - loss: 0.0911 - accuracy: 0.96 - ETA: 1s - loss: 0.0910 - accuracy: 0.96 - ETA: 1s - loss: 0.0910 - accuracy: 0.96 - ETA: 1s - loss: 0.0908 - accuracy: 0.96 - ETA: 1s - loss: 0.0908 - accuracy: 0.96 - ETA: 1s - loss: 0.0909 - accuracy: 0.96 - ETA: 0s - loss: 0.0907 - accuracy: 0.96 - ETA: 0s - loss: 0.0905 - accuracy: 0.96 - ETA: 0s - loss: 0.0905 - accuracy: 0.96 - ETA: 0s - loss: 0.0903 - accuracy: 0.96 - ETA: 0s - loss: 0.0908 - accuracy: 0.96 - ETA: 0s - loss: 0.0908 - accuracy: 0.96 - ETA: 0s - loss: 0.0909 - accuracy: 0.96 - ETA: 0s - loss: 0.0908 - accuracy: 0.96 - ETA: 0s - loss: 0.0909 - accuracy: 0.96 - ETA: 0s - loss: 0.0908 - accuracy: 0.96 - ETA: 0s - loss: 0.0907 - accuracy: 0.96 - ETA: 0s - loss: 0.0907 - accuracy: 0.96 - ETA: 0s - loss: 0.0908 - accuracy: 0.9634"
     ]
    },
    {
     "name": "stdout",
     "output_type": "stream",
     "text": [
      "804/804 [==============================] - ETA: 0s - loss: 0.0906 - accuracy: 0.96 - ETA: 0s - loss: 0.0905 - accuracy: 0.96 - ETA: 0s - loss: 0.0905 - accuracy: 0.96 - ETA: 0s - loss: 0.0910 - accuracy: 0.96 - ETA: 0s - loss: 0.0909 - accuracy: 0.96 - 12s 15ms/step - loss: 0.0909 - accuracy: 0.9633 - val_loss: 0.5118 - val_accuracy: 0.6987\n"
     ]
    },
    {
     "data": {
      "text/html": [
       "<span style=\"color:#4527A0\"><h1 style=\"font-size:18px\">Trial complete</h1></span>"
      ],
      "text/plain": [
       "<IPython.core.display.HTML object>"
      ]
     },
     "metadata": {},
     "output_type": "display_data"
    },
    {
     "data": {
      "text/html": [
       "<span style=\"color:#4527A0\"><h1 style=\"font-size:18px\">Trial summary</h1></span>"
      ],
      "text/plain": [
       "<IPython.core.display.HTML object>"
      ]
     },
     "metadata": {},
     "output_type": "display_data"
    },
    {
     "data": {
      "text/html": [
       "<span style=\"color:cyan\"> |-Trial ID: 5b75f3242bf440e544b63ec68451a449</span>"
      ],
      "text/plain": [
       "<IPython.core.display.HTML object>"
      ]
     },
     "metadata": {},
     "output_type": "display_data"
    },
    {
     "data": {
      "text/html": [
       "<span style=\"color:cyan\"> |-Score: 0.7563848495483398</span>"
      ],
      "text/plain": [
       "<IPython.core.display.HTML object>"
      ]
     },
     "metadata": {},
     "output_type": "display_data"
    },
    {
     "data": {
      "text/html": [
       "<span style=\"color:cyan\"> |-Best step: 0</span>"
      ],
      "text/plain": [
       "<IPython.core.display.HTML object>"
      ]
     },
     "metadata": {},
     "output_type": "display_data"
    },
    {
     "data": {
      "text/html": [
       "<span style=\"color:#7E57C2\"><h2 style=\"font-size:16px\">Hyperparameters:</h2></span>"
      ],
      "text/plain": [
       "<IPython.core.display.HTML object>"
      ]
     },
     "metadata": {},
     "output_type": "display_data"
    },
    {
     "data": {
      "text/html": [
       "<span style=\"color:cyan\"> |-activation: tanh</span>"
      ],
      "text/plain": [
       "<IPython.core.display.HTML object>"
      ]
     },
     "metadata": {},
     "output_type": "display_data"
    },
    {
     "data": {
      "text/html": [
       "<span style=\"color:blue\"> |-first_units: 85</span>"
      ],
      "text/plain": [
       "<IPython.core.display.HTML object>"
      ]
     },
     "metadata": {},
     "output_type": "display_data"
    },
    {
     "data": {
      "text/html": [
       "<span style=\"color:cyan\"> |-num_layers: 2</span>"
      ],
      "text/plain": [
       "<IPython.core.display.HTML object>"
      ]
     },
     "metadata": {},
     "output_type": "display_data"
    },
    {
     "data": {
      "text/html": [
       "<span style=\"color:blue\"> |-tuner/bracket: 0</span>"
      ],
      "text/plain": [
       "<IPython.core.display.HTML object>"
      ]
     },
     "metadata": {},
     "output_type": "display_data"
    },
    {
     "data": {
      "text/html": [
       "<span style=\"color:cyan\"> |-tuner/epochs: 5</span>"
      ],
      "text/plain": [
       "<IPython.core.display.HTML object>"
      ]
     },
     "metadata": {},
     "output_type": "display_data"
    },
    {
     "data": {
      "text/html": [
       "<span style=\"color:blue\"> |-tuner/initial_epoch: 0</span>"
      ],
      "text/plain": [
       "<IPython.core.display.HTML object>"
      ]
     },
     "metadata": {},
     "output_type": "display_data"
    },
    {
     "data": {
      "text/html": [
       "<span style=\"color:cyan\"> |-tuner/round: 0</span>"
      ],
      "text/plain": [
       "<IPython.core.display.HTML object>"
      ]
     },
     "metadata": {},
     "output_type": "display_data"
    },
    {
     "data": {
      "text/html": [
       "<span style=\"color:blue\"> |-units_0: 25</span>"
      ],
      "text/plain": [
       "<IPython.core.display.HTML object>"
      ]
     },
     "metadata": {},
     "output_type": "display_data"
    },
    {
     "data": {
      "text/html": [
       "<span style=\"color:cyan\"> |-units_1: 15</span>"
      ],
      "text/plain": [
       "<IPython.core.display.HTML object>"
      ]
     },
     "metadata": {},
     "output_type": "display_data"
    },
    {
     "data": {
      "text/html": [
       "<span style=\"color:blue\"> |-units_2: 50</span>"
      ],
      "text/plain": [
       "<IPython.core.display.HTML object>"
      ]
     },
     "metadata": {},
     "output_type": "display_data"
    },
    {
     "data": {
      "text/html": [
       "<span style=\"color:cyan\"> |-units_3: 50</span>"
      ],
      "text/plain": [
       "<IPython.core.display.HTML object>"
      ]
     },
     "metadata": {},
     "output_type": "display_data"
    },
    {
     "data": {
      "text/html": [
       "<span style=\"color:blue\"> |-units_4: 10</span>"
      ],
      "text/plain": [
       "<IPython.core.display.HTML object>"
      ]
     },
     "metadata": {},
     "output_type": "display_data"
    },
    {
     "data": {
      "text/html": [
       "<span style=\"color:#4527A0\"><h1 style=\"font-size:18px\">Starting new trial</h1></span>"
      ],
      "text/plain": [
       "<IPython.core.display.HTML object>"
      ]
     },
     "metadata": {},
     "output_type": "display_data"
    },
    {
     "name": "stdout",
     "output_type": "stream",
     "text": [
      "Epoch 1/2\n",
      "804/804 [==============================] - ETA: 7:11 - loss: 0.6849 - accuracy: 0.53 - ETA: 4s - loss: 0.7326 - accuracy: 0.5781 - ETA: 4s - loss: 0.6878 - accuracy: 0.61 - ETA: 4s - loss: 0.6686 - accuracy: 0.62 - ETA: 4s - loss: 0.6606 - accuracy: 0.62 - ETA: 4s - loss: 0.6468 - accuracy: 0.63 - ETA: 4s - loss: 0.6319 - accuracy: 0.64 - ETA: 4s - loss: 0.6318 - accuracy: 0.64 - ETA: 3s - loss: 0.6203 - accuracy: 0.64 - ETA: 3s - loss: 0.6141 - accuracy: 0.65 - ETA: 3s - loss: 0.6064 - accuracy: 0.65 - ETA: 3s - loss: 0.5994 - accuracy: 0.66 - ETA: 3s - loss: 0.5979 - accuracy: 0.66 - ETA: 3s - loss: 0.5948 - accuracy: 0.66 - ETA: 3s - loss: 0.5904 - accuracy: 0.66 - ETA: 3s - loss: 0.5882 - accuracy: 0.67 - ETA: 3s - loss: 0.5862 - accuracy: 0.67 - ETA: 3s - loss: 0.5838 - accuracy: 0.67 - ETA: 3s - loss: 0.5826 - accuracy: 0.67 - ETA: 3s - loss: 0.5782 - accuracy: 0.67 - ETA: 3s - loss: 0.5731 - accuracy: 0.68 - ETA: 3s - loss: 0.5730 - accuracy: 0.68 - ETA: 3s - loss: 0.5709 - accuracy: 0.68 - ETA: 3s - loss: 0.5664 - accuracy: 0.68 - ETA: 3s - loss: 0.5653 - accuracy: 0.68 - ETA: 3s - loss: 0.5620 - accuracy: 0.69 - ETA: 3s - loss: 0.5589 - accuracy: 0.69 - ETA: 3s - loss: 0.5557 - accuracy: 0.69 - ETA: 3s - loss: 0.5543 - accuracy: 0.69 - ETA: 3s - loss: 0.5524 - accuracy: 0.69 - ETA: 3s - loss: 0.5515 - accuracy: 0.70 - ETA: 3s - loss: 0.5498 - accuracy: 0.70 - ETA: 3s - loss: 0.5472 - accuracy: 0.70 - ETA: 3s - loss: 0.5446 - accuracy: 0.70 - ETA: 3s - loss: 0.5441 - accuracy: 0.70 - ETA: 3s - loss: 0.5430 - accuracy: 0.70 - ETA: 3s - loss: 0.5421 - accuracy: 0.70 - ETA: 3s - loss: 0.5421 - accuracy: 0.70 - ETA: 3s - loss: 0.5407 - accuracy: 0.70 - ETA: 3s - loss: 0.5395 - accuracy: 0.70 - ETA: 3s - loss: 0.5384 - accuracy: 0.70 - ETA: 3s - loss: 0.5380 - accuracy: 0.70 - ETA: 3s - loss: 0.5372 - accuracy: 0.71 - ETA: 3s - loss: 0.5358 - accuracy: 0.71 - ETA: 3s - loss: 0.5338 - accuracy: 0.71 - ETA: 3s - loss: 0.5335 - accuracy: 0.71 - ETA: 3s - loss: 0.5324 - accuracy: 0.71 - ETA: 3s - loss: 0.5323 - accuracy: 0.71 - ETA: 3s - loss: 0.5321 - accuracy: 0.71 - ETA: 2s - loss: 0.5320 - accuracy: 0.71 - ETA: 2s - loss: 0.5310 - accuracy: 0.71 - ETA: 2s - loss: 0.5304 - accuracy: 0.71 - ETA: 2s - loss: 0.5307 - accuracy: 0.71 - ETA: 2s - loss: 0.5314 - accuracy: 0.71 - ETA: 2s - loss: 0.5310 - accuracy: 0.71 - ETA: 2s - loss: 0.5310 - accuracy: 0.71 - ETA: 2s - loss: 0.5302 - accuracy: 0.71 - ETA: 2s - loss: 0.5289 - accuracy: 0.71 - ETA: 2s - loss: 0.5280 - accuracy: 0.71 - ETA: 2s - loss: 0.5268 - accuracy: 0.71 - ETA: 2s - loss: 0.5264 - accuracy: 0.71 - ETA: 2s - loss: 0.5260 - accuracy: 0.72 - ETA: 2s - loss: 0.5252 - accuracy: 0.72 - ETA: 2s - loss: 0.5242 - accuracy: 0.72 - ETA: 2s - loss: 0.5231 - accuracy: 0.72 - ETA: 2s - loss: 0.5230 - accuracy: 0.72 - ETA: 2s - loss: 0.5222 - accuracy: 0.72 - ETA: 2s - loss: 0.5210 - accuracy: 0.72 - ETA: 2s - loss: 0.5211 - accuracy: 0.72 - ETA: 2s - loss: 0.5207 - accuracy: 0.72 - ETA: 2s - loss: 0.5206 - accuracy: 0.72 - ETA: 2s - loss: 0.5210 - accuracy: 0.72 - ETA: 2s - loss: 0.5218 - accuracy: 0.72 - ETA: 2s - loss: 0.5226 - accuracy: 0.72 - ETA: 2s - loss: 0.5228 - accuracy: 0.72 - ETA: 2s - loss: 0.5230 - accuracy: 0.72 - ETA: 2s - loss: 0.5232 - accuracy: 0.72 - ETA: 2s - loss: 0.5224 - accuracy: 0.72 - ETA: 2s - loss: 0.5220 - accuracy: 0.72 - ETA: 2s - loss: 0.5216 - accuracy: 0.72 - ETA: 2s - loss: 0.5214 - accuracy: 0.72 - ETA: 2s - loss: 0.5215 - accuracy: 0.72 - ETA: 2s - loss: 0.5213 - accuracy: 0.72 - ETA: 2s - loss: 0.5216 - accuracy: 0.72 - ETA: 2s - loss: 0.5208 - accuracy: 0.72 - ETA: 2s - loss: 0.5209 - accuracy: 0.72 - ETA: 2s - loss: 0.5203 - accuracy: 0.72 - ETA: 2s - loss: 0.5196 - accuracy: 0.72 - ETA: 2s - loss: 0.5194 - accuracy: 0.72 - ETA: 2s - loss: 0.5190 - accuracy: 0.72 - ETA: 2s - loss: 0.5183 - accuracy: 0.72 - ETA: 1s - loss: 0.5181 - accuracy: 0.73 - ETA: 1s - loss: 0.5178 - accuracy: 0.73 - ETA: 1s - loss: 0.5173 - accuracy: 0.73 - ETA: 1s - loss: 0.5174 - accuracy: 0.73 - ETA: 1s - loss: 0.5173 - accuracy: 0.73 - ETA: 1s - loss: 0.5170 - accuracy: 0.73 - ETA: 1s - loss: 0.5164 - accuracy: 0.73 - ETA: 1s - loss: 0.5158 - accuracy: 0.73 - ETA: 1s - loss: 0.5154 - accuracy: 0.73 - ETA: 1s - loss: 0.5153 - accuracy: 0.73 - ETA: 1s - loss: 0.5146 - accuracy: 0.73 - ETA: 1s - loss: 0.5153 - accuracy: 0.73 - ETA: 1s - loss: 0.5157 - accuracy: 0.73 - ETA: 1s - loss: 0.5165 - accuracy: 0.73 - ETA: 1s - loss: 0.5181 - accuracy: 0.73 - ETA: 1s - loss: 0.5191 - accuracy: 0.73 - ETA: 1s - loss: 0.5193 - accuracy: 0.73 - ETA: 1s - loss: 0.5198 - accuracy: 0.73 - ETA: 1s - loss: 0.5199 - accuracy: 0.73 - ETA: 1s - loss: 0.5200 - accuracy: 0.73 - ETA: 1s - loss: 0.5199 - accuracy: 0.73 - ETA: 1s - loss: 0.5198 - accuracy: 0.73 - ETA: 1s - loss: 0.5205 - accuracy: 0.73 - ETA: 1s - loss: 0.5209 - accuracy: 0.73 - ETA: 1s - loss: 0.5204 - accuracy: 0.73 - ETA: 1s - loss: 0.5210 - accuracy: 0.73 - ETA: 0s - loss: 0.5208 - accuracy: 0.74 - ETA: 0s - loss: 0.5209 - accuracy: 0.74 - ETA: 0s - loss: 0.5216 - accuracy: 0.74 - ETA: 0s - loss: 0.5214 - accuracy: 0.74 - ETA: 0s - loss: 0.5214 - accuracy: 0.74 - ETA: 0s - loss: 0.5208 - accuracy: 0.74 - ETA: 0s - loss: 0.5208 - accuracy: 0.74 - ETA: 0s - loss: 0.5205 - accuracy: 0.74 - ETA: 0s - loss: 0.5207 - accuracy: 0.74 - ETA: 0s - loss: 0.5203 - accuracy: 0.74 - ETA: 0s - loss: 0.5203 - accuracy: 0.74 - ETA: 0s - loss: 0.5201 - accuracy: 0.74 - ETA: 0s - loss: 0.5200 - accuracy: 0.74 - ETA: 0s - loss: 0.5196 - accuracy: 0.74 - ETA: 0s - loss: 0.5193 - accuracy: 0.74 - ETA: 0s - loss: 0.5188 - accuracy: 0.74 - ETA: 0s - loss: 0.5184 - accuracy: 0.74 - ETA: 0s - loss: 0.5181 - accuracy: 0.74 - ETA: 0s - loss: 0.5178 - accuracy: 0.74 - ETA: 0s - loss: 0.5179 - accuracy: 0.74 - ETA: 0s - loss: 0.5175 - accuracy: 0.74 - ETA: 0s - loss: 0.5173 - accuracy: 0.74 - ETA: 0s - loss: 0.5170 - accuracy: 0.74 - ETA: 0s - loss: 0.5166 - accuracy: 0.74 - ETA: 0s - loss: 0.5166 - accuracy: 0.74 - ETA: 0s - loss: 0.5164 - accuracy: 0.74 - ETA: 0s - loss: 0.5162 - accuracy: 0.74 - ETA: 0s - loss: 0.5161 - accuracy: 0.74 - 17s 21ms/step - loss: 0.5163 - accuracy: 0.7470 - val_loss: 0.4593 - val_accuracy: 0.7917\n",
      "Epoch 2/2\n"
     ]
    },
    {
     "name": "stdout",
     "output_type": "stream",
     "text": [
      "719/804 [=========================>....] - ETA: 9s - loss: 0.3603 - accuracy: 0.87 - ETA: 5s - loss: 0.3031 - accuracy: 0.90 - ETA: 5s - loss: 0.2852 - accuracy: 0.91 - ETA: 5s - loss: 0.2672 - accuracy: 0.92 - ETA: 5s - loss: 0.2448 - accuracy: 0.93 - ETA: 5s - loss: 0.2457 - accuracy: 0.93 - ETA: 5s - loss: 0.2389 - accuracy: 0.93 - ETA: 5s - loss: 0.2291 - accuracy: 0.93 - ETA: 5s - loss: 0.2213 - accuracy: 0.94 - ETA: 5s - loss: 0.2184 - accuracy: 0.94 - ETA: 5s - loss: 0.2139 - accuracy: 0.94 - ETA: 5s - loss: 0.2151 - accuracy: 0.94 - ETA: 5s - loss: 0.2131 - accuracy: 0.94 - ETA: 5s - loss: 0.2085 - accuracy: 0.94 - ETA: 5s - loss: 0.2074 - accuracy: 0.94 - ETA: 5s - loss: 0.2031 - accuracy: 0.94 - ETA: 5s - loss: 0.2000 - accuracy: 0.94 - ETA: 5s - loss: 0.1950 - accuracy: 0.94 - ETA: 5s - loss: 0.1945 - accuracy: 0.94 - ETA: 5s - loss: 0.1939 - accuracy: 0.94 - ETA: 5s - loss: 0.1942 - accuracy: 0.94 - ETA: 5s - loss: 0.1919 - accuracy: 0.94 - ETA: 5s - loss: 0.1908 - accuracy: 0.94 - ETA: 5s - loss: 0.1900 - accuracy: 0.94 - ETA: 5s - loss: 0.1895 - accuracy: 0.94 - ETA: 5s - loss: 0.1884 - accuracy: 0.94 - ETA: 5s - loss: 0.1885 - accuracy: 0.94 - ETA: 5s - loss: 0.1889 - accuracy: 0.94 - ETA: 5s - loss: 0.1903 - accuracy: 0.94 - ETA: 5s - loss: 0.1888 - accuracy: 0.94 - ETA: 5s - loss: 0.1888 - accuracy: 0.94 - ETA: 5s - loss: 0.1875 - accuracy: 0.94 - ETA: 5s - loss: 0.1857 - accuracy: 0.94 - ETA: 5s - loss: 0.1854 - accuracy: 0.94 - ETA: 5s - loss: 0.1844 - accuracy: 0.94 - ETA: 5s - loss: 0.1840 - accuracy: 0.94 - ETA: 5s - loss: 0.1837 - accuracy: 0.94 - ETA: 5s - loss: 0.1839 - accuracy: 0.94 - ETA: 5s - loss: 0.1836 - accuracy: 0.94 - ETA: 5s - loss: 0.1832 - accuracy: 0.94 - ETA: 6s - loss: 0.1837 - accuracy: 0.94 - ETA: 6s - loss: 0.1834 - accuracy: 0.94 - ETA: 6s - loss: 0.1837 - accuracy: 0.94 - ETA: 6s - loss: 0.1832 - accuracy: 0.94 - ETA: 6s - loss: 0.1831 - accuracy: 0.94 - ETA: 5s - loss: 0.1834 - accuracy: 0.94 - ETA: 5s - loss: 0.1826 - accuracy: 0.94 - ETA: 5s - loss: 0.1813 - accuracy: 0.94 - ETA: 5s - loss: 0.1824 - accuracy: 0.94 - ETA: 5s - loss: 0.1837 - accuracy: 0.94 - ETA: 5s - loss: 0.1841 - accuracy: 0.94 - ETA: 5s - loss: 0.1844 - accuracy: 0.94 - ETA: 5s - loss: 0.1839 - accuracy: 0.94 - ETA: 5s - loss: 0.1856 - accuracy: 0.94 - ETA: 5s - loss: 0.1869 - accuracy: 0.94 - ETA: 5s - loss: 0.1860 - accuracy: 0.94 - ETA: 5s - loss: 0.1871 - accuracy: 0.93 - ETA: 5s - loss: 0.1868 - accuracy: 0.93 - ETA: 5s - loss: 0.1858 - accuracy: 0.94 - ETA: 5s - loss: 0.1865 - accuracy: 0.93 - ETA: 5s - loss: 0.1883 - accuracy: 0.93 - ETA: 5s - loss: 0.1878 - accuracy: 0.93 - ETA: 5s - loss: 0.1876 - accuracy: 0.93 - ETA: 5s - loss: 0.1873 - accuracy: 0.93 - ETA: 5s - loss: 0.1867 - accuracy: 0.93 - ETA: 5s - loss: 0.1866 - accuracy: 0.93 - ETA: 5s - loss: 0.1873 - accuracy: 0.93 - ETA: 5s - loss: 0.1867 - accuracy: 0.93 - ETA: 5s - loss: 0.1871 - accuracy: 0.93 - ETA: 5s - loss: 0.1877 - accuracy: 0.93 - ETA: 5s - loss: 0.1878 - accuracy: 0.93 - ETA: 5s - loss: 0.1882 - accuracy: 0.93 - ETA: 5s - loss: 0.1880 - accuracy: 0.93 - ETA: 5s - loss: 0.1878 - accuracy: 0.93 - ETA: 5s - loss: 0.1875 - accuracy: 0.93 - ETA: 5s - loss: 0.1881 - accuracy: 0.93 - ETA: 5s - loss: 0.1876 - accuracy: 0.93 - ETA: 5s - loss: 0.1876 - accuracy: 0.93 - ETA: 5s - loss: 0.1874 - accuracy: 0.93 - ETA: 5s - loss: 0.1876 - accuracy: 0.93 - ETA: 5s - loss: 0.1873 - accuracy: 0.93 - ETA: 5s - loss: 0.1870 - accuracy: 0.93 - ETA: 5s - loss: 0.1871 - accuracy: 0.93 - ETA: 5s - loss: 0.1873 - accuracy: 0.93 - ETA: 5s - loss: 0.1875 - accuracy: 0.93 - ETA: 5s - loss: 0.1881 - accuracy: 0.93 - ETA: 5s - loss: 0.1878 - accuracy: 0.93 - ETA: 5s - loss: 0.1882 - accuracy: 0.93 - ETA: 5s - loss: 0.1883 - accuracy: 0.93 - ETA: 5s - loss: 0.1895 - accuracy: 0.93 - ETA: 5s - loss: 0.1893 - accuracy: 0.93 - ETA: 5s - loss: 0.1893 - accuracy: 0.93 - ETA: 5s - loss: 0.1887 - accuracy: 0.93 - ETA: 5s - loss: 0.1892 - accuracy: 0.93 - ETA: 5s - loss: 0.1891 - accuracy: 0.93 - ETA: 5s - loss: 0.1894 - accuracy: 0.93 - ETA: 5s - loss: 0.1892 - accuracy: 0.93 - ETA: 5s - loss: 0.1896 - accuracy: 0.93 - ETA: 5s - loss: 0.1900 - accuracy: 0.93 - ETA: 5s - loss: 0.1901 - accuracy: 0.93 - ETA: 4s - loss: 0.1897 - accuracy: 0.93 - ETA: 4s - loss: 0.1897 - accuracy: 0.93 - ETA: 4s - loss: 0.1897 - accuracy: 0.93 - ETA: 4s - loss: 0.1898 - accuracy: 0.93 - ETA: 4s - loss: 0.1904 - accuracy: 0.93 - ETA: 4s - loss: 0.1907 - accuracy: 0.93 - ETA: 4s - loss: 0.1911 - accuracy: 0.93 - ETA: 4s - loss: 0.1906 - accuracy: 0.93 - ETA: 4s - loss: 0.1901 - accuracy: 0.93 - ETA: 4s - loss: 0.1901 - accuracy: 0.93 - ETA: 4s - loss: 0.1902 - accuracy: 0.93 - ETA: 4s - loss: 0.1903 - accuracy: 0.93 - ETA: 4s - loss: 0.1902 - accuracy: 0.93 - ETA: 4s - loss: 0.1905 - accuracy: 0.93 - ETA: 4s - loss: 0.1908 - accuracy: 0.93 - ETA: 4s - loss: 0.1908 - accuracy: 0.93 - ETA: 4s - loss: 0.1910 - accuracy: 0.93 - ETA: 4s - loss: 0.1913 - accuracy: 0.93 - ETA: 4s - loss: 0.1914 - accuracy: 0.93 - ETA: 4s - loss: 0.1916 - accuracy: 0.93 - ETA: 4s - loss: 0.1913 - accuracy: 0.93 - ETA: 4s - loss: 0.1914 - accuracy: 0.93 - ETA: 4s - loss: 0.1913 - accuracy: 0.93 - ETA: 4s - loss: 0.1913 - accuracy: 0.93 - ETA: 4s - loss: 0.1908 - accuracy: 0.93 - ETA: 4s - loss: 0.1907 - accuracy: 0.93 - ETA: 4s - loss: 0.1905 - accuracy: 0.93 - ETA: 4s - loss: 0.1907 - accuracy: 0.93 - ETA: 4s - loss: 0.1905 - accuracy: 0.93 - ETA: 4s - loss: 0.1909 - accuracy: 0.93 - ETA: 4s - loss: 0.1909 - accuracy: 0.93 - ETA: 3s - loss: 0.1921 - accuracy: 0.93 - ETA: 3s - loss: 0.1919 - accuracy: 0.93 - ETA: 3s - loss: 0.1923 - accuracy: 0.93 - ETA: 3s - loss: 0.1924 - accuracy: 0.93 - ETA: 3s - loss: 0.1925 - accuracy: 0.93 - ETA: 3s - loss: 0.1924 - accuracy: 0.93 - ETA: 3s - loss: 0.1925 - accuracy: 0.93 - ETA: 3s - loss: 0.1931 - accuracy: 0.93 - ETA: 3s - loss: 0.1932 - accuracy: 0.93 - ETA: 3s - loss: 0.1933 - accuracy: 0.93 - ETA: 3s - loss: 0.1932 - accuracy: 0.93 - ETA: 3s - loss: 0.1932 - accuracy: 0.93 - ETA: 3s - loss: 0.1933 - accuracy: 0.93 - ETA: 3s - loss: 0.1939 - accuracy: 0.93 - ETA: 3s - loss: 0.1941 - accuracy: 0.93 - ETA: 3s - loss: 0.1947 - accuracy: 0.93 - ETA: 3s - loss: 0.1948 - accuracy: 0.93 - ETA: 3s - loss: 0.1953 - accuracy: 0.93 - ETA: 3s - loss: 0.1955 - accuracy: 0.93 - ETA: 3s - loss: 0.1953 - accuracy: 0.93 - ETA: 3s - loss: 0.1951 - accuracy: 0.93 - ETA: 3s - loss: 0.1955 - accuracy: 0.93 - ETA: 3s - loss: 0.1954 - accuracy: 0.93 - ETA: 3s - loss: 0.1953 - accuracy: 0.93 - ETA: 3s - loss: 0.1953 - accuracy: 0.93 - ETA: 3s - loss: 0.1956 - accuracy: 0.93 - ETA: 3s - loss: 0.1954 - accuracy: 0.93 - ETA: 3s - loss: 0.1953 - accuracy: 0.93 - ETA: 3s - loss: 0.1950 - accuracy: 0.93 - ETA: 2s - loss: 0.1950 - accuracy: 0.93 - ETA: 2s - loss: 0.1948 - accuracy: 0.93 - ETA: 2s - loss: 0.1952 - accuracy: 0.93 - ETA: 2s - loss: 0.1950 - accuracy: 0.93 - ETA: 2s - loss: 0.1956 - accuracy: 0.93 - ETA: 2s - loss: 0.1953 - accuracy: 0.93 - ETA: 2s - loss: 0.1954 - accuracy: 0.93 - ETA: 2s - loss: 0.1959 - accuracy: 0.93 - ETA: 2s - loss: 0.1959 - accuracy: 0.93 - ETA: 2s - loss: 0.1956 - accuracy: 0.93 - ETA: 2s - loss: 0.1953 - accuracy: 0.93 - ETA: 2s - loss: 0.1955 - accuracy: 0.93 - ETA: 2s - loss: 0.1954 - accuracy: 0.93 - ETA: 2s - loss: 0.1953 - accuracy: 0.93 - ETA: 2s - loss: 0.1955 - accuracy: 0.93 - ETA: 2s - loss: 0.1951 - accuracy: 0.93 - ETA: 2s - loss: 0.1951 - accuracy: 0.93 - ETA: 2s - loss: 0.1953 - accuracy: 0.93 - ETA: 2s - loss: 0.1952 - accuracy: 0.93 - ETA: 2s - loss: 0.1953 - accuracy: 0.93 - ETA: 1s - loss: 0.1952 - accuracy: 0.93 - ETA: 1s - loss: 0.1954 - accuracy: 0.93 - ETA: 1s - loss: 0.1951 - accuracy: 0.93 - ETA: 1s - loss: 0.1951 - accuracy: 0.93 - ETA: 1s - loss: 0.1951 - accuracy: 0.93 - ETA: 1s - loss: 0.1956 - accuracy: 0.93 - ETA: 1s - loss: 0.1954 - accuracy: 0.93 - ETA: 1s - loss: 0.1956 - accuracy: 0.93 - ETA: 1s - loss: 0.1955 - accuracy: 0.93 - ETA: 1s - loss: 0.1954 - accuracy: 0.93 - ETA: 1s - loss: 0.1957 - accuracy: 0.93 - ETA: 1s - loss: 0.1955 - accuracy: 0.93 - ETA: 1s - loss: 0.1954 - accuracy: 0.93 - ETA: 1s - loss: 0.1961 - accuracy: 0.93 - ETA: 1s - loss: 0.1962 - accuracy: 0.9325"
     ]
    },
    {
     "name": "stdout",
     "output_type": "stream",
     "text": [
      "804/804 [==============================] - ETA: 1s - loss: 0.1969 - accuracy: 0.93 - ETA: 1s - loss: 0.1963 - accuracy: 0.93 - ETA: 1s - loss: 0.1962 - accuracy: 0.93 - ETA: 1s - loss: 0.1965 - accuracy: 0.93 - ETA: 1s - loss: 0.1961 - accuracy: 0.93 - ETA: 0s - loss: 0.1960 - accuracy: 0.93 - ETA: 0s - loss: 0.1959 - accuracy: 0.93 - ETA: 0s - loss: 0.1958 - accuracy: 0.93 - ETA: 0s - loss: 0.1958 - accuracy: 0.93 - ETA: 0s - loss: 0.1957 - accuracy: 0.93 - ETA: 0s - loss: 0.1957 - accuracy: 0.93 - ETA: 0s - loss: 0.1960 - accuracy: 0.93 - ETA: 0s - loss: 0.1959 - accuracy: 0.93 - ETA: 0s - loss: 0.1957 - accuracy: 0.93 - ETA: 0s - loss: 0.1960 - accuracy: 0.93 - ETA: 0s - loss: 0.1956 - accuracy: 0.93 - ETA: 0s - loss: 0.1958 - accuracy: 0.93 - ETA: 0s - loss: 0.1958 - accuracy: 0.93 - ETA: 0s - loss: 0.1957 - accuracy: 0.93 - ETA: 0s - loss: 0.1959 - accuracy: 0.93 - ETA: 0s - loss: 0.1959 - accuracy: 0.93 - ETA: 0s - loss: 0.1959 - accuracy: 0.93 - ETA: 0s - loss: 0.1959 - accuracy: 0.93 - ETA: 0s - loss: 0.1958 - accuracy: 0.93 - ETA: 0s - loss: 0.1957 - accuracy: 0.93 - ETA: 0s - loss: 0.1959 - accuracy: 0.93 - ETA: 0s - loss: 0.1958 - accuracy: 0.93 - ETA: 0s - loss: 0.1957 - accuracy: 0.93 - ETA: 0s - loss: 0.1955 - accuracy: 0.93 - ETA: 0s - loss: 0.1954 - accuracy: 0.93 - ETA: 0s - loss: 0.1958 - accuracy: 0.93 - 15s 18ms/step - loss: 0.1958 - accuracy: 0.9333 - val_loss: 0.5417 - val_accuracy: 0.7977\n"
     ]
    },
    {
     "data": {
      "text/html": [
       "<span style=\"color:#4527A0\"><h1 style=\"font-size:18px\">Trial complete</h1></span>"
      ],
      "text/plain": [
       "<IPython.core.display.HTML object>"
      ]
     },
     "metadata": {},
     "output_type": "display_data"
    },
    {
     "data": {
      "text/html": [
       "<span style=\"color:#4527A0\"><h1 style=\"font-size:18px\">Trial summary</h1></span>"
      ],
      "text/plain": [
       "<IPython.core.display.HTML object>"
      ]
     },
     "metadata": {},
     "output_type": "display_data"
    },
    {
     "data": {
      "text/html": [
       "<span style=\"color:cyan\"> |-Trial ID: dd711750a09584adc1f43e52271a451d</span>"
      ],
      "text/plain": [
       "<IPython.core.display.HTML object>"
      ]
     },
     "metadata": {},
     "output_type": "display_data"
    },
    {
     "data": {
      "text/html": [
       "<span style=\"color:cyan\"> |-Score: 0.7976676225662231</span>"
      ],
      "text/plain": [
       "<IPython.core.display.HTML object>"
      ]
     },
     "metadata": {},
     "output_type": "display_data"
    },
    {
     "data": {
      "text/html": [
       "<span style=\"color:cyan\"> |-Best step: 0</span>"
      ],
      "text/plain": [
       "<IPython.core.display.HTML object>"
      ]
     },
     "metadata": {},
     "output_type": "display_data"
    },
    {
     "data": {
      "text/html": [
       "<span style=\"color:#7E57C2\"><h2 style=\"font-size:16px\">Hyperparameters:</h2></span>"
      ],
      "text/plain": [
       "<IPython.core.display.HTML object>"
      ]
     },
     "metadata": {},
     "output_type": "display_data"
    },
    {
     "data": {
      "text/html": [
       "<span style=\"color:cyan\"> |-activation: tanh</span>"
      ],
      "text/plain": [
       "<IPython.core.display.HTML object>"
      ]
     },
     "metadata": {},
     "output_type": "display_data"
    },
    {
     "data": {
      "text/html": [
       "<span style=\"color:blue\"> |-first_units: 80</span>"
      ],
      "text/plain": [
       "<IPython.core.display.HTML object>"
      ]
     },
     "metadata": {},
     "output_type": "display_data"
    },
    {
     "data": {
      "text/html": [
       "<span style=\"color:cyan\"> |-num_layers: 1</span>"
      ],
      "text/plain": [
       "<IPython.core.display.HTML object>"
      ]
     },
     "metadata": {},
     "output_type": "display_data"
    },
    {
     "data": {
      "text/html": [
       "<span style=\"color:blue\"> |-tuner/bracket: 1</span>"
      ],
      "text/plain": [
       "<IPython.core.display.HTML object>"
      ]
     },
     "metadata": {},
     "output_type": "display_data"
    },
    {
     "data": {
      "text/html": [
       "<span style=\"color:cyan\"> |-tuner/epochs: 2</span>"
      ],
      "text/plain": [
       "<IPython.core.display.HTML object>"
      ]
     },
     "metadata": {},
     "output_type": "display_data"
    },
    {
     "data": {
      "text/html": [
       "<span style=\"color:blue\"> |-tuner/initial_epoch: 0</span>"
      ],
      "text/plain": [
       "<IPython.core.display.HTML object>"
      ]
     },
     "metadata": {},
     "output_type": "display_data"
    },
    {
     "data": {
      "text/html": [
       "<span style=\"color:cyan\"> |-tuner/round: 0</span>"
      ],
      "text/plain": [
       "<IPython.core.display.HTML object>"
      ]
     },
     "metadata": {},
     "output_type": "display_data"
    },
    {
     "data": {
      "text/html": [
       "<span style=\"color:blue\"> |-units_0: 30</span>"
      ],
      "text/plain": [
       "<IPython.core.display.HTML object>"
      ]
     },
     "metadata": {},
     "output_type": "display_data"
    },
    {
     "data": {
      "text/html": [
       "<span style=\"color:cyan\"> |-units_1: 35</span>"
      ],
      "text/plain": [
       "<IPython.core.display.HTML object>"
      ]
     },
     "metadata": {},
     "output_type": "display_data"
    },
    {
     "data": {
      "text/html": [
       "<span style=\"color:blue\"> |-units_2: 15</span>"
      ],
      "text/plain": [
       "<IPython.core.display.HTML object>"
      ]
     },
     "metadata": {},
     "output_type": "display_data"
    },
    {
     "data": {
      "text/html": [
       "<span style=\"color:cyan\"> |-units_3: 30</span>"
      ],
      "text/plain": [
       "<IPython.core.display.HTML object>"
      ]
     },
     "metadata": {},
     "output_type": "display_data"
    },
    {
     "data": {
      "text/html": [
       "<span style=\"color:blue\"> |-units_4: 40</span>"
      ],
      "text/plain": [
       "<IPython.core.display.HTML object>"
      ]
     },
     "metadata": {},
     "output_type": "display_data"
    },
    {
     "data": {
      "text/html": [
       "<span style=\"color:#4527A0\"><h1 style=\"font-size:18px\">Starting new trial</h1></span>"
      ],
      "text/plain": [
       "<IPython.core.display.HTML object>"
      ]
     },
     "metadata": {},
     "output_type": "display_data"
    },
    {
     "name": "stdout",
     "output_type": "stream",
     "text": [
      "Epoch 1/2\n",
      "804/804 [==============================] - ETA: 6:20 - loss: 0.8186 - accuracy: 0.43 - ETA: 3s - loss: 0.6895 - accuracy: 0.6418 - ETA: 3s - loss: 0.6541 - accuracy: 0.65 - ETA: 3s - loss: 0.6367 - accuracy: 0.66 - ETA: 3s - loss: 0.6211 - accuracy: 0.68 - ETA: 3s - loss: 0.6158 - accuracy: 0.68 - ETA: 3s - loss: 0.5963 - accuracy: 0.70 - ETA: 3s - loss: 0.5864 - accuracy: 0.71 - ETA: 3s - loss: 0.5771 - accuracy: 0.71 - ETA: 3s - loss: 0.5745 - accuracy: 0.71 - ETA: 3s - loss: 0.5664 - accuracy: 0.71 - ETA: 3s - loss: 0.5611 - accuracy: 0.72 - ETA: 3s - loss: 0.5539 - accuracy: 0.72 - ETA: 3s - loss: 0.5480 - accuracy: 0.73 - ETA: 3s - loss: 0.5441 - accuracy: 0.73 - ETA: 3s - loss: 0.5423 - accuracy: 0.73 - ETA: 3s - loss: 0.5392 - accuracy: 0.73 - ETA: 3s - loss: 0.5392 - accuracy: 0.73 - ETA: 3s - loss: 0.5352 - accuracy: 0.73 - ETA: 3s - loss: 0.5319 - accuracy: 0.74 - ETA: 3s - loss: 0.5306 - accuracy: 0.74 - ETA: 3s - loss: 0.5265 - accuracy: 0.74 - ETA: 3s - loss: 0.5232 - accuracy: 0.74 - ETA: 3s - loss: 0.5206 - accuracy: 0.75 - ETA: 3s - loss: 0.5191 - accuracy: 0.75 - ETA: 2s - loss: 0.5175 - accuracy: 0.75 - ETA: 2s - loss: 0.5167 - accuracy: 0.75 - ETA: 2s - loss: 0.5161 - accuracy: 0.75 - ETA: 2s - loss: 0.5154 - accuracy: 0.75 - ETA: 2s - loss: 0.5136 - accuracy: 0.75 - ETA: 2s - loss: 0.5123 - accuracy: 0.75 - ETA: 2s - loss: 0.5108 - accuracy: 0.75 - ETA: 2s - loss: 0.5113 - accuracy: 0.75 - ETA: 2s - loss: 0.5094 - accuracy: 0.75 - ETA: 2s - loss: 0.5089 - accuracy: 0.75 - ETA: 2s - loss: 0.5067 - accuracy: 0.75 - ETA: 2s - loss: 0.5062 - accuracy: 0.75 - ETA: 2s - loss: 0.5045 - accuracy: 0.75 - ETA: 2s - loss: 0.5031 - accuracy: 0.75 - ETA: 2s - loss: 0.5033 - accuracy: 0.75 - ETA: 2s - loss: 0.5017 - accuracy: 0.75 - ETA: 2s - loss: 0.5019 - accuracy: 0.75 - ETA: 2s - loss: 0.5012 - accuracy: 0.76 - ETA: 2s - loss: 0.5002 - accuracy: 0.76 - ETA: 2s - loss: 0.4989 - accuracy: 0.76 - ETA: 2s - loss: 0.4984 - accuracy: 0.76 - ETA: 2s - loss: 0.4973 - accuracy: 0.76 - ETA: 2s - loss: 0.4973 - accuracy: 0.76 - ETA: 2s - loss: 0.4962 - accuracy: 0.76 - ETA: 2s - loss: 0.4955 - accuracy: 0.76 - ETA: 2s - loss: 0.4951 - accuracy: 0.76 - ETA: 2s - loss: 0.4951 - accuracy: 0.76 - ETA: 2s - loss: 0.4941 - accuracy: 0.76 - ETA: 2s - loss: 0.4943 - accuracy: 0.76 - ETA: 2s - loss: 0.4936 - accuracy: 0.76 - ETA: 2s - loss: 0.4932 - accuracy: 0.76 - ETA: 2s - loss: 0.4921 - accuracy: 0.76 - ETA: 2s - loss: 0.4921 - accuracy: 0.76 - ETA: 2s - loss: 0.4920 - accuracy: 0.76 - ETA: 2s - loss: 0.4914 - accuracy: 0.76 - ETA: 2s - loss: 0.4918 - accuracy: 0.76 - ETA: 2s - loss: 0.4914 - accuracy: 0.76 - ETA: 2s - loss: 0.4913 - accuracy: 0.76 - ETA: 2s - loss: 0.4906 - accuracy: 0.76 - ETA: 2s - loss: 0.4897 - accuracy: 0.76 - ETA: 2s - loss: 0.4899 - accuracy: 0.76 - ETA: 2s - loss: 0.4895 - accuracy: 0.76 - ETA: 2s - loss: 0.4895 - accuracy: 0.76 - ETA: 2s - loss: 0.4887 - accuracy: 0.76 - ETA: 2s - loss: 0.4875 - accuracy: 0.76 - ETA: 2s - loss: 0.4870 - accuracy: 0.76 - ETA: 1s - loss: 0.4867 - accuracy: 0.76 - ETA: 1s - loss: 0.4866 - accuracy: 0.76 - ETA: 1s - loss: 0.4859 - accuracy: 0.76 - ETA: 1s - loss: 0.4851 - accuracy: 0.76 - ETA: 1s - loss: 0.4845 - accuracy: 0.76 - ETA: 1s - loss: 0.4844 - accuracy: 0.76 - ETA: 1s - loss: 0.4842 - accuracy: 0.76 - ETA: 1s - loss: 0.4839 - accuracy: 0.76 - ETA: 1s - loss: 0.4836 - accuracy: 0.76 - ETA: 1s - loss: 0.4837 - accuracy: 0.76 - ETA: 1s - loss: 0.4828 - accuracy: 0.76 - ETA: 1s - loss: 0.4829 - accuracy: 0.76 - ETA: 1s - loss: 0.4830 - accuracy: 0.77 - ETA: 1s - loss: 0.4828 - accuracy: 0.77 - ETA: 1s - loss: 0.4826 - accuracy: 0.77 - ETA: 1s - loss: 0.4824 - accuracy: 0.77 - ETA: 1s - loss: 0.4809 - accuracy: 0.77 - ETA: 1s - loss: 0.4806 - accuracy: 0.77 - ETA: 1s - loss: 0.4797 - accuracy: 0.77 - ETA: 1s - loss: 0.4793 - accuracy: 0.77 - ETA: 1s - loss: 0.4785 - accuracy: 0.77 - ETA: 1s - loss: 0.4783 - accuracy: 0.77 - ETA: 1s - loss: 0.4781 - accuracy: 0.77 - ETA: 1s - loss: 0.4781 - accuracy: 0.77 - ETA: 1s - loss: 0.4778 - accuracy: 0.77 - ETA: 1s - loss: 0.4775 - accuracy: 0.77 - ETA: 1s - loss: 0.4774 - accuracy: 0.77 - ETA: 1s - loss: 0.4774 - accuracy: 0.77 - ETA: 1s - loss: 0.4780 - accuracy: 0.77 - ETA: 0s - loss: 0.4777 - accuracy: 0.77 - ETA: 0s - loss: 0.4779 - accuracy: 0.77 - ETA: 0s - loss: 0.4775 - accuracy: 0.77 - ETA: 0s - loss: 0.4773 - accuracy: 0.77 - ETA: 0s - loss: 0.4772 - accuracy: 0.77 - ETA: 0s - loss: 0.4763 - accuracy: 0.77 - ETA: 0s - loss: 0.4763 - accuracy: 0.77 - ETA: 0s - loss: 0.4761 - accuracy: 0.77 - ETA: 0s - loss: 0.4755 - accuracy: 0.77 - ETA: 0s - loss: 0.4751 - accuracy: 0.77 - ETA: 0s - loss: 0.4749 - accuracy: 0.77 - ETA: 0s - loss: 0.4748 - accuracy: 0.77 - ETA: 0s - loss: 0.4743 - accuracy: 0.77 - ETA: 0s - loss: 0.4741 - accuracy: 0.77 - ETA: 0s - loss: 0.4743 - accuracy: 0.77 - ETA: 0s - loss: 0.4741 - accuracy: 0.77 - ETA: 0s - loss: 0.4746 - accuracy: 0.77 - ETA: 0s - loss: 0.4741 - accuracy: 0.77 - ETA: 0s - loss: 0.4741 - accuracy: 0.77 - ETA: 0s - loss: 0.4739 - accuracy: 0.77 - ETA: 0s - loss: 0.4736 - accuracy: 0.77 - ETA: 0s - loss: 0.4735 - accuracy: 0.77 - ETA: 0s - loss: 0.4734 - accuracy: 0.77 - ETA: 0s - loss: 0.4732 - accuracy: 0.77 - ETA: 0s - loss: 0.4732 - accuracy: 0.77 - ETA: 0s - loss: 0.4728 - accuracy: 0.77 - ETA: 0s - loss: 0.4727 - accuracy: 0.77 - 15s 18ms/step - loss: 0.4727 - accuracy: 0.7763 - val_loss: 0.5253 - val_accuracy: 0.6129\n",
      "Epoch 2/2\n"
     ]
    },
    {
     "name": "stdout",
     "output_type": "stream",
     "text": [
      "804/804 [==============================] - ETA: 12s - loss: 0.2776 - accuracy: 0.906 - ETA: 8s - loss: 0.2857 - accuracy: 0.861 - ETA: 7s - loss: 0.2303 - accuracy: 0.89 - ETA: 6s - loss: 0.2196 - accuracy: 0.90 - ETA: 6s - loss: 0.2218 - accuracy: 0.90 - ETA: 6s - loss: 0.2071 - accuracy: 0.91 - ETA: 5s - loss: 0.1929 - accuracy: 0.92 - ETA: 10s - loss: 0.1880 - accuracy: 0.926 - ETA: 9s - loss: 0.1811 - accuracy: 0.929 - ETA: 12s - loss: 0.1763 - accuracy: 0.931 - ETA: 11s - loss: 0.1667 - accuracy: 0.936 - ETA: 17s - loss: 0.1685 - accuracy: 0.937 - ETA: 16s - loss: 0.1638 - accuracy: 0.940 - ETA: 22s - loss: 0.1634 - accuracy: 0.940 - ETA: 22s - loss: 0.1652 - accuracy: 0.940 - ETA: 22s - loss: 0.1662 - accuracy: 0.939 - ETA: 21s - loss: 0.1648 - accuracy: 0.940 - ETA: 21s - loss: 0.1638 - accuracy: 0.940 - ETA: 19s - loss: 0.1598 - accuracy: 0.942 - ETA: 18s - loss: 0.1587 - accuracy: 0.943 - ETA: 17s - loss: 0.1595 - accuracy: 0.943 - ETA: 16s - loss: 0.1599 - accuracy: 0.943 - ETA: 16s - loss: 0.1586 - accuracy: 0.943 - ETA: 15s - loss: 0.1565 - accuracy: 0.944 - ETA: 14s - loss: 0.1540 - accuracy: 0.945 - ETA: 14s - loss: 0.1539 - accuracy: 0.945 - ETA: 13s - loss: 0.1526 - accuracy: 0.946 - ETA: 13s - loss: 0.1517 - accuracy: 0.946 - ETA: 12s - loss: 0.1512 - accuracy: 0.946 - ETA: 12s - loss: 0.1499 - accuracy: 0.946 - ETA: 11s - loss: 0.1516 - accuracy: 0.946 - ETA: 11s - loss: 0.1523 - accuracy: 0.945 - ETA: 11s - loss: 0.1505 - accuracy: 0.946 - ETA: 10s - loss: 0.1510 - accuracy: 0.946 - ETA: 11s - loss: 0.1515 - accuracy: 0.946 - ETA: 11s - loss: 0.1508 - accuracy: 0.946 - ETA: 11s - loss: 0.1498 - accuracy: 0.947 - ETA: 11s - loss: 0.1512 - accuracy: 0.946 - ETA: 10s - loss: 0.1529 - accuracy: 0.945 - ETA: 10s - loss: 0.1527 - accuracy: 0.945 - ETA: 10s - loss: 0.1507 - accuracy: 0.946 - ETA: 10s - loss: 0.1511 - accuracy: 0.946 - ETA: 9s - loss: 0.1506 - accuracy: 0.945 - ETA: 9s - loss: 0.1500 - accuracy: 0.94 - ETA: 9s - loss: 0.1486 - accuracy: 0.94 - ETA: 9s - loss: 0.1475 - accuracy: 0.94 - ETA: 9s - loss: 0.1476 - accuracy: 0.94 - ETA: 9s - loss: 0.1477 - accuracy: 0.94 - ETA: 9s - loss: 0.1477 - accuracy: 0.94 - ETA: 8s - loss: 0.1469 - accuracy: 0.94 - ETA: 8s - loss: 0.1469 - accuracy: 0.94 - ETA: 8s - loss: 0.1473 - accuracy: 0.94 - ETA: 8s - loss: 0.1479 - accuracy: 0.94 - ETA: 8s - loss: 0.1478 - accuracy: 0.94 - ETA: 8s - loss: 0.1476 - accuracy: 0.94 - ETA: 7s - loss: 0.1472 - accuracy: 0.94 - ETA: 7s - loss: 0.1473 - accuracy: 0.94 - ETA: 7s - loss: 0.1485 - accuracy: 0.94 - ETA: 7s - loss: 0.1484 - accuracy: 0.94 - ETA: 7s - loss: 0.1502 - accuracy: 0.94 - ETA: 7s - loss: 0.1506 - accuracy: 0.94 - ETA: 7s - loss: 0.1504 - accuracy: 0.94 - ETA: 7s - loss: 0.1502 - accuracy: 0.94 - ETA: 7s - loss: 0.1495 - accuracy: 0.94 - ETA: 7s - loss: 0.1497 - accuracy: 0.94 - ETA: 7s - loss: 0.1490 - accuracy: 0.94 - ETA: 7s - loss: 0.1484 - accuracy: 0.94 - ETA: 7s - loss: 0.1483 - accuracy: 0.94 - ETA: 7s - loss: 0.1479 - accuracy: 0.94 - ETA: 7s - loss: 0.1486 - accuracy: 0.94 - ETA: 7s - loss: 0.1483 - accuracy: 0.94 - ETA: 7s - loss: 0.1482 - accuracy: 0.94 - ETA: 7s - loss: 0.1477 - accuracy: 0.94 - ETA: 7s - loss: 0.1476 - accuracy: 0.94 - ETA: 7s - loss: 0.1471 - accuracy: 0.94 - ETA: 7s - loss: 0.1465 - accuracy: 0.94 - ETA: 6s - loss: 0.1467 - accuracy: 0.94 - ETA: 6s - loss: 0.1469 - accuracy: 0.94 - ETA: 6s - loss: 0.1466 - accuracy: 0.94 - ETA: 6s - loss: 0.1467 - accuracy: 0.94 - ETA: 6s - loss: 0.1474 - accuracy: 0.94 - ETA: 6s - loss: 0.1474 - accuracy: 0.94 - ETA: 6s - loss: 0.1468 - accuracy: 0.94 - ETA: 6s - loss: 0.1476 - accuracy: 0.94 - ETA: 6s - loss: 0.1473 - accuracy: 0.94 - ETA: 5s - loss: 0.1467 - accuracy: 0.94 - ETA: 5s - loss: 0.1470 - accuracy: 0.94 - ETA: 5s - loss: 0.1467 - accuracy: 0.94 - ETA: 5s - loss: 0.1464 - accuracy: 0.94 - ETA: 5s - loss: 0.1464 - accuracy: 0.94 - ETA: 5s - loss: 0.1469 - accuracy: 0.94 - ETA: 5s - loss: 0.1471 - accuracy: 0.94 - ETA: 5s - loss: 0.1474 - accuracy: 0.94 - ETA: 5s - loss: 0.1478 - accuracy: 0.94 - ETA: 5s - loss: 0.1477 - accuracy: 0.94 - ETA: 5s - loss: 0.1471 - accuracy: 0.94 - ETA: 4s - loss: 0.1467 - accuracy: 0.94 - ETA: 4s - loss: 0.1468 - accuracy: 0.94 - ETA: 4s - loss: 0.1475 - accuracy: 0.94 - ETA: 4s - loss: 0.1474 - accuracy: 0.94 - ETA: 4s - loss: 0.1472 - accuracy: 0.94 - ETA: 4s - loss: 0.1472 - accuracy: 0.94 - ETA: 4s - loss: 0.1469 - accuracy: 0.94 - ETA: 4s - loss: 0.1467 - accuracy: 0.94 - ETA: 4s - loss: 0.1470 - accuracy: 0.94 - ETA: 4s - loss: 0.1467 - accuracy: 0.94 - ETA: 4s - loss: 0.1468 - accuracy: 0.94 - ETA: 4s - loss: 0.1465 - accuracy: 0.94 - ETA: 4s - loss: 0.1462 - accuracy: 0.94 - ETA: 3s - loss: 0.1460 - accuracy: 0.94 - ETA: 3s - loss: 0.1457 - accuracy: 0.94 - ETA: 3s - loss: 0.1459 - accuracy: 0.94 - ETA: 3s - loss: 0.1455 - accuracy: 0.94 - ETA: 3s - loss: 0.1455 - accuracy: 0.94 - ETA: 3s - loss: 0.1452 - accuracy: 0.94 - ETA: 3s - loss: 0.1448 - accuracy: 0.94 - ETA: 3s - loss: 0.1447 - accuracy: 0.94 - ETA: 3s - loss: 0.1447 - accuracy: 0.94 - ETA: 3s - loss: 0.1453 - accuracy: 0.94 - ETA: 3s - loss: 0.1453 - accuracy: 0.94 - ETA: 3s - loss: 0.1454 - accuracy: 0.94 - ETA: 3s - loss: 0.1453 - accuracy: 0.94 - ETA: 3s - loss: 0.1454 - accuracy: 0.94 - ETA: 3s - loss: 0.1453 - accuracy: 0.94 - ETA: 3s - loss: 0.1446 - accuracy: 0.94 - ETA: 2s - loss: 0.1445 - accuracy: 0.94 - ETA: 2s - loss: 0.1446 - accuracy: 0.94 - ETA: 2s - loss: 0.1444 - accuracy: 0.94 - ETA: 2s - loss: 0.1447 - accuracy: 0.94 - ETA: 2s - loss: 0.1448 - accuracy: 0.94 - ETA: 2s - loss: 0.1446 - accuracy: 0.94 - ETA: 2s - loss: 0.1446 - accuracy: 0.94 - ETA: 2s - loss: 0.1441 - accuracy: 0.94 - ETA: 2s - loss: 0.1444 - accuracy: 0.94 - ETA: 2s - loss: 0.1444 - accuracy: 0.94 - ETA: 2s - loss: 0.1443 - accuracy: 0.94 - ETA: 2s - loss: 0.1440 - accuracy: 0.94 - ETA: 2s - loss: 0.1441 - accuracy: 0.94 - ETA: 2s - loss: 0.1440 - accuracy: 0.94 - ETA: 2s - loss: 0.1440 - accuracy: 0.94 - ETA: 2s - loss: 0.1438 - accuracy: 0.94 - ETA: 2s - loss: 0.1436 - accuracy: 0.94 - ETA: 2s - loss: 0.1435 - accuracy: 0.94 - ETA: 2s - loss: 0.1434 - accuracy: 0.94 - ETA: 2s - loss: 0.1431 - accuracy: 0.94 - ETA: 1s - loss: 0.1430 - accuracy: 0.94 - ETA: 1s - loss: 0.1433 - accuracy: 0.94 - ETA: 1s - loss: 0.1431 - accuracy: 0.94 - ETA: 1s - loss: 0.1431 - accuracy: 0.94 - ETA: 1s - loss: 0.1430 - accuracy: 0.94 - ETA: 1s - loss: 0.1429 - accuracy: 0.94 - ETA: 1s - loss: 0.1429 - accuracy: 0.94 - ETA: 1s - loss: 0.1425 - accuracy: 0.94 - ETA: 1s - loss: 0.1423 - accuracy: 0.94 - ETA: 1s - loss: 0.1425 - accuracy: 0.94 - ETA: 1s - loss: 0.1426 - accuracy: 0.94 - ETA: 1s - loss: 0.1426 - accuracy: 0.94 - ETA: 1s - loss: 0.1427 - accuracy: 0.94 - ETA: 1s - loss: 0.1426 - accuracy: 0.94 - ETA: 1s - loss: 0.1425 - accuracy: 0.94 - ETA: 0s - loss: 0.1427 - accuracy: 0.94 - ETA: 0s - loss: 0.1425 - accuracy: 0.94 - ETA: 0s - loss: 0.1422 - accuracy: 0.94 - ETA: 0s - loss: 0.1423 - accuracy: 0.94 - ETA: 0s - loss: 0.1424 - accuracy: 0.94 - ETA: 0s - loss: 0.1427 - accuracy: 0.94 - ETA: 0s - loss: 0.1428 - accuracy: 0.94 - ETA: 0s - loss: 0.1426 - accuracy: 0.94 - ETA: 0s - loss: 0.1425 - accuracy: 0.94 - ETA: 0s - loss: 0.1426 - accuracy: 0.94 - ETA: 0s - loss: 0.1427 - accuracy: 0.94 - ETA: 0s - loss: 0.1429 - accuracy: 0.94 - ETA: 0s - loss: 0.1429 - accuracy: 0.94 - ETA: 0s - loss: 0.1429 - accuracy: 0.94 - ETA: 0s - loss: 0.1433 - accuracy: 0.94 - ETA: 0s - loss: 0.1431 - accuracy: 0.94 - 15s 18ms/step - loss: 0.1432 - accuracy: 0.9472 - val_loss: 0.6107 - val_accuracy: 0.5782\n"
     ]
    },
    {
     "data": {
      "text/html": [
       "<span style=\"color:#4527A0\"><h1 style=\"font-size:18px\">Trial complete</h1></span>"
      ],
      "text/plain": [
       "<IPython.core.display.HTML object>"
      ]
     },
     "metadata": {},
     "output_type": "display_data"
    },
    {
     "data": {
      "text/html": [
       "<span style=\"color:#4527A0\"><h1 style=\"font-size:18px\">Trial summary</h1></span>"
      ],
      "text/plain": [
       "<IPython.core.display.HTML object>"
      ]
     },
     "metadata": {},
     "output_type": "display_data"
    },
    {
     "data": {
      "text/html": [
       "<span style=\"color:cyan\"> |-Trial ID: 6262a6c75e21be4e35e6413b3a8c586b</span>"
      ],
      "text/plain": [
       "<IPython.core.display.HTML object>"
      ]
     },
     "metadata": {},
     "output_type": "display_data"
    },
    {
     "data": {
      "text/html": [
       "<span style=\"color:cyan\"> |-Score: 0.6129446029663086</span>"
      ],
      "text/plain": [
       "<IPython.core.display.HTML object>"
      ]
     },
     "metadata": {},
     "output_type": "display_data"
    },
    {
     "data": {
      "text/html": [
       "<span style=\"color:cyan\"> |-Best step: 0</span>"
      ],
      "text/plain": [
       "<IPython.core.display.HTML object>"
      ]
     },
     "metadata": {},
     "output_type": "display_data"
    },
    {
     "data": {
      "text/html": [
       "<span style=\"color:#7E57C2\"><h2 style=\"font-size:16px\">Hyperparameters:</h2></span>"
      ],
      "text/plain": [
       "<IPython.core.display.HTML object>"
      ]
     },
     "metadata": {},
     "output_type": "display_data"
    },
    {
     "data": {
      "text/html": [
       "<span style=\"color:cyan\"> |-activation: relu</span>"
      ],
      "text/plain": [
       "<IPython.core.display.HTML object>"
      ]
     },
     "metadata": {},
     "output_type": "display_data"
    },
    {
     "data": {
      "text/html": [
       "<span style=\"color:blue\"> |-first_units: 60</span>"
      ],
      "text/plain": [
       "<IPython.core.display.HTML object>"
      ]
     },
     "metadata": {},
     "output_type": "display_data"
    },
    {
     "data": {
      "text/html": [
       "<span style=\"color:cyan\"> |-num_layers: 2</span>"
      ],
      "text/plain": [
       "<IPython.core.display.HTML object>"
      ]
     },
     "metadata": {},
     "output_type": "display_data"
    },
    {
     "data": {
      "text/html": [
       "<span style=\"color:blue\"> |-tuner/bracket: 1</span>"
      ],
      "text/plain": [
       "<IPython.core.display.HTML object>"
      ]
     },
     "metadata": {},
     "output_type": "display_data"
    },
    {
     "data": {
      "text/html": [
       "<span style=\"color:cyan\"> |-tuner/epochs: 2</span>"
      ],
      "text/plain": [
       "<IPython.core.display.HTML object>"
      ]
     },
     "metadata": {},
     "output_type": "display_data"
    },
    {
     "data": {
      "text/html": [
       "<span style=\"color:blue\"> |-tuner/initial_epoch: 0</span>"
      ],
      "text/plain": [
       "<IPython.core.display.HTML object>"
      ]
     },
     "metadata": {},
     "output_type": "display_data"
    },
    {
     "data": {
      "text/html": [
       "<span style=\"color:cyan\"> |-tuner/round: 0</span>"
      ],
      "text/plain": [
       "<IPython.core.display.HTML object>"
      ]
     },
     "metadata": {},
     "output_type": "display_data"
    },
    {
     "data": {
      "text/html": [
       "<span style=\"color:blue\"> |-units_0: 45</span>"
      ],
      "text/plain": [
       "<IPython.core.display.HTML object>"
      ]
     },
     "metadata": {},
     "output_type": "display_data"
    },
    {
     "data": {
      "text/html": [
       "<span style=\"color:cyan\"> |-units_1: 35</span>"
      ],
      "text/plain": [
       "<IPython.core.display.HTML object>"
      ]
     },
     "metadata": {},
     "output_type": "display_data"
    },
    {
     "data": {
      "text/html": [
       "<span style=\"color:blue\"> |-units_2: 45</span>"
      ],
      "text/plain": [
       "<IPython.core.display.HTML object>"
      ]
     },
     "metadata": {},
     "output_type": "display_data"
    },
    {
     "data": {
      "text/html": [
       "<span style=\"color:cyan\"> |-units_3: 25</span>"
      ],
      "text/plain": [
       "<IPython.core.display.HTML object>"
      ]
     },
     "metadata": {},
     "output_type": "display_data"
    },
    {
     "data": {
      "text/html": [
       "<span style=\"color:blue\"> |-units_4: 35</span>"
      ],
      "text/plain": [
       "<IPython.core.display.HTML object>"
      ]
     },
     "metadata": {},
     "output_type": "display_data"
    },
    {
     "data": {
      "text/html": [
       "<span style=\"color:#4527A0\"><h1 style=\"font-size:18px\">Starting new trial</h1></span>"
      ],
      "text/plain": [
       "<IPython.core.display.HTML object>"
      ]
     },
     "metadata": {},
     "output_type": "display_data"
    },
    {
     "name": "stdout",
     "output_type": "stream",
     "text": [
      "Epoch 1/2\n"
     ]
    },
    {
     "name": "stdout",
     "output_type": "stream",
     "text": [
      "670/804 [========================>.....] - ETA: 9:42 - loss: 0.7072 - accuracy: 0.59 - ETA: 5s - loss: 0.6698 - accuracy: 0.6007 - ETA: 5s - loss: 0.6400 - accuracy: 0.63 - ETA: 5s - loss: 0.6248 - accuracy: 0.64 - ETA: 5s - loss: 0.6185 - accuracy: 0.65 - ETA: 5s - loss: 0.6050 - accuracy: 0.66 - ETA: 6s - loss: 0.6011 - accuracy: 0.66 - ETA: 6s - loss: 0.5960 - accuracy: 0.67 - ETA: 7s - loss: 0.5929 - accuracy: 0.67 - ETA: 7s - loss: 0.5897 - accuracy: 0.67 - ETA: 8s - loss: 0.5876 - accuracy: 0.68 - ETA: 8s - loss: 0.5855 - accuracy: 0.68 - ETA: 8s - loss: 0.5819 - accuracy: 0.68 - ETA: 8s - loss: 0.5802 - accuracy: 0.68 - ETA: 8s - loss: 0.5774 - accuracy: 0.68 - ETA: 8s - loss: 0.5731 - accuracy: 0.68 - ETA: 8s - loss: 0.5712 - accuracy: 0.69 - ETA: 8s - loss: 0.5703 - accuracy: 0.69 - ETA: 7s - loss: 0.5650 - accuracy: 0.69 - ETA: 7s - loss: 0.5613 - accuracy: 0.69 - ETA: 7s - loss: 0.5585 - accuracy: 0.70 - ETA: 7s - loss: 0.5578 - accuracy: 0.70 - ETA: 7s - loss: 0.5539 - accuracy: 0.70 - ETA: 6s - loss: 0.5531 - accuracy: 0.70 - ETA: 6s - loss: 0.5522 - accuracy: 0.70 - ETA: 6s - loss: 0.5488 - accuracy: 0.70 - ETA: 7s - loss: 0.5470 - accuracy: 0.70 - ETA: 7s - loss: 0.5472 - accuracy: 0.71 - ETA: 7s - loss: 0.5460 - accuracy: 0.71 - ETA: 7s - loss: 0.5441 - accuracy: 0.71 - ETA: 7s - loss: 0.5430 - accuracy: 0.71 - ETA: 7s - loss: 0.5422 - accuracy: 0.71 - ETA: 7s - loss: 0.5396 - accuracy: 0.71 - ETA: 7s - loss: 0.5403 - accuracy: 0.71 - ETA: 7s - loss: 0.5389 - accuracy: 0.71 - ETA: 7s - loss: 0.5378 - accuracy: 0.71 - ETA: 7s - loss: 0.5358 - accuracy: 0.71 - ETA: 7s - loss: 0.5324 - accuracy: 0.72 - ETA: 7s - loss: 0.5330 - accuracy: 0.72 - ETA: 7s - loss: 0.5315 - accuracy: 0.72 - ETA: 7s - loss: 0.5321 - accuracy: 0.72 - ETA: 7s - loss: 0.5324 - accuracy: 0.72 - ETA: 7s - loss: 0.5327 - accuracy: 0.72 - ETA: 7s - loss: 0.5336 - accuracy: 0.72 - ETA: 7s - loss: 0.5330 - accuracy: 0.72 - ETA: 7s - loss: 0.5335 - accuracy: 0.72 - ETA: 7s - loss: 0.5339 - accuracy: 0.72 - ETA: 7s - loss: 0.5331 - accuracy: 0.72 - ETA: 7s - loss: 0.5315 - accuracy: 0.72 - ETA: 7s - loss: 0.5312 - accuracy: 0.72 - ETA: 7s - loss: 0.5295 - accuracy: 0.72 - ETA: 7s - loss: 0.5265 - accuracy: 0.72 - ETA: 7s - loss: 0.5249 - accuracy: 0.72 - ETA: 7s - loss: 0.5243 - accuracy: 0.72 - ETA: 7s - loss: 0.5244 - accuracy: 0.72 - ETA: 7s - loss: 0.5231 - accuracy: 0.73 - ETA: 7s - loss: 0.5240 - accuracy: 0.72 - ETA: 6s - loss: 0.5225 - accuracy: 0.73 - ETA: 6s - loss: 0.5218 - accuracy: 0.73 - ETA: 6s - loss: 0.5218 - accuracy: 0.73 - ETA: 6s - loss: 0.5218 - accuracy: 0.73 - ETA: 6s - loss: 0.5215 - accuracy: 0.73 - ETA: 6s - loss: 0.5217 - accuracy: 0.73 - ETA: 6s - loss: 0.5210 - accuracy: 0.73 - ETA: 6s - loss: 0.5207 - accuracy: 0.73 - ETA: 6s - loss: 0.5203 - accuracy: 0.73 - ETA: 6s - loss: 0.5189 - accuracy: 0.73 - ETA: 6s - loss: 0.5188 - accuracy: 0.73 - ETA: 6s - loss: 0.5188 - accuracy: 0.73 - ETA: 7s - loss: 0.5177 - accuracy: 0.73 - ETA: 7s - loss: 0.5168 - accuracy: 0.73 - ETA: 7s - loss: 0.5165 - accuracy: 0.73 - ETA: 7s - loss: 0.5164 - accuracy: 0.73 - ETA: 7s - loss: 0.5164 - accuracy: 0.73 - ETA: 7s - loss: 0.5159 - accuracy: 0.73 - ETA: 6s - loss: 0.5146 - accuracy: 0.73 - ETA: 6s - loss: 0.5137 - accuracy: 0.73 - ETA: 6s - loss: 0.5124 - accuracy: 0.73 - ETA: 6s - loss: 0.5122 - accuracy: 0.73 - ETA: 6s - loss: 0.5125 - accuracy: 0.73 - ETA: 6s - loss: 0.5124 - accuracy: 0.73 - ETA: 6s - loss: 0.5113 - accuracy: 0.73 - ETA: 6s - loss: 0.5099 - accuracy: 0.74 - ETA: 6s - loss: 0.5096 - accuracy: 0.74 - ETA: 6s - loss: 0.5099 - accuracy: 0.74 - ETA: 6s - loss: 0.5095 - accuracy: 0.74 - ETA: 6s - loss: 0.5095 - accuracy: 0.73 - ETA: 6s - loss: 0.5100 - accuracy: 0.73 - ETA: 6s - loss: 0.5094 - accuracy: 0.74 - ETA: 6s - loss: 0.5093 - accuracy: 0.74 - ETA: 6s - loss: 0.5093 - accuracy: 0.74 - ETA: 6s - loss: 0.5091 - accuracy: 0.74 - ETA: 6s - loss: 0.5091 - accuracy: 0.74 - ETA: 6s - loss: 0.5090 - accuracy: 0.74 - ETA: 6s - loss: 0.5089 - accuracy: 0.74 - ETA: 6s - loss: 0.5094 - accuracy: 0.74 - ETA: 6s - loss: 0.5092 - accuracy: 0.74 - ETA: 6s - loss: 0.5088 - accuracy: 0.74 - ETA: 6s - loss: 0.5084 - accuracy: 0.74 - ETA: 6s - loss: 0.5082 - accuracy: 0.74 - ETA: 6s - loss: 0.5074 - accuracy: 0.74 - ETA: 6s - loss: 0.5073 - accuracy: 0.74 - ETA: 6s - loss: 0.5073 - accuracy: 0.74 - ETA: 6s - loss: 0.5066 - accuracy: 0.74 - ETA: 6s - loss: 0.5059 - accuracy: 0.74 - ETA: 6s - loss: 0.5056 - accuracy: 0.74 - ETA: 6s - loss: 0.5051 - accuracy: 0.74 - ETA: 6s - loss: 0.5050 - accuracy: 0.74 - ETA: 6s - loss: 0.5051 - accuracy: 0.74 - ETA: 6s - loss: 0.5050 - accuracy: 0.74 - ETA: 6s - loss: 0.5045 - accuracy: 0.74 - ETA: 6s - loss: 0.5037 - accuracy: 0.74 - ETA: 6s - loss: 0.5031 - accuracy: 0.74 - ETA: 6s - loss: 0.5028 - accuracy: 0.74 - ETA: 6s - loss: 0.5021 - accuracy: 0.74 - ETA: 5s - loss: 0.5027 - accuracy: 0.74 - ETA: 6s - loss: 0.5029 - accuracy: 0.74 - ETA: 6s - loss: 0.5029 - accuracy: 0.74 - ETA: 6s - loss: 0.5027 - accuracy: 0.74 - ETA: 5s - loss: 0.5030 - accuracy: 0.74 - ETA: 5s - loss: 0.5025 - accuracy: 0.74 - ETA: 5s - loss: 0.5019 - accuracy: 0.74 - ETA: 5s - loss: 0.5036 - accuracy: 0.74 - ETA: 5s - loss: 0.5033 - accuracy: 0.74 - ETA: 5s - loss: 0.5030 - accuracy: 0.74 - ETA: 5s - loss: 0.5024 - accuracy: 0.74 - ETA: 5s - loss: 0.5022 - accuracy: 0.74 - ETA: 5s - loss: 0.5022 - accuracy: 0.74 - ETA: 5s - loss: 0.5020 - accuracy: 0.74 - ETA: 5s - loss: 0.5021 - accuracy: 0.74 - ETA: 5s - loss: 0.5020 - accuracy: 0.74 - ETA: 5s - loss: 0.5018 - accuracy: 0.74 - ETA: 5s - loss: 0.5013 - accuracy: 0.74 - ETA: 5s - loss: 0.5006 - accuracy: 0.74 - ETA: 5s - loss: 0.5007 - accuracy: 0.74 - ETA: 5s - loss: 0.5000 - accuracy: 0.74 - ETA: 5s - loss: 0.4998 - accuracy: 0.74 - ETA: 5s - loss: 0.4999 - accuracy: 0.75 - ETA: 5s - loss: 0.4992 - accuracy: 0.75 - ETA: 5s - loss: 0.4989 - accuracy: 0.75 - ETA: 5s - loss: 0.4987 - accuracy: 0.75 - ETA: 5s - loss: 0.4986 - accuracy: 0.75 - ETA: 5s - loss: 0.4984 - accuracy: 0.75 - ETA: 5s - loss: 0.4979 - accuracy: 0.75 - ETA: 5s - loss: 0.4979 - accuracy: 0.75 - ETA: 5s - loss: 0.4986 - accuracy: 0.75 - ETA: 5s - loss: 0.4982 - accuracy: 0.75 - ETA: 4s - loss: 0.4978 - accuracy: 0.75 - ETA: 4s - loss: 0.4977 - accuracy: 0.75 - ETA: 4s - loss: 0.4972 - accuracy: 0.75 - ETA: 4s - loss: 0.4971 - accuracy: 0.75 - ETA: 4s - loss: 0.4971 - accuracy: 0.75 - ETA: 4s - loss: 0.4973 - accuracy: 0.75 - ETA: 4s - loss: 0.4972 - accuracy: 0.75 - ETA: 4s - loss: 0.4971 - accuracy: 0.75 - ETA: 4s - loss: 0.4970 - accuracy: 0.75 - ETA: 4s - loss: 0.4967 - accuracy: 0.75 - ETA: 4s - loss: 0.4964 - accuracy: 0.75 - ETA: 4s - loss: 0.4960 - accuracy: 0.75 - ETA: 4s - loss: 0.4952 - accuracy: 0.75 - ETA: 4s - loss: 0.4953 - accuracy: 0.75 - ETA: 4s - loss: 0.4950 - accuracy: 0.75 - ETA: 4s - loss: 0.4949 - accuracy: 0.75 - ETA: 4s - loss: 0.4948 - accuracy: 0.75 - ETA: 4s - loss: 0.4939 - accuracy: 0.75 - ETA: 4s - loss: 0.4933 - accuracy: 0.75 - ETA: 4s - loss: 0.4929 - accuracy: 0.75 - ETA: 4s - loss: 0.4931 - accuracy: 0.75 - ETA: 3s - loss: 0.4926 - accuracy: 0.75 - ETA: 3s - loss: 0.4924 - accuracy: 0.75 - ETA: 3s - loss: 0.4920 - accuracy: 0.75 - ETA: 3s - loss: 0.4918 - accuracy: 0.75 - ETA: 3s - loss: 0.4917 - accuracy: 0.75 - ETA: 3s - loss: 0.4911 - accuracy: 0.75 - ETA: 3s - loss: 0.4910 - accuracy: 0.75 - ETA: 3s - loss: 0.4909 - accuracy: 0.75 - ETA: 3s - loss: 0.4907 - accuracy: 0.75 - ETA: 3s - loss: 0.4910 - accuracy: 0.75 - ETA: 3s - loss: 0.4903 - accuracy: 0.75 - ETA: 3s - loss: 0.4902 - accuracy: 0.75 - ETA: 3s - loss: 0.4898 - accuracy: 0.75 - ETA: 3s - loss: 0.4900 - accuracy: 0.75 - ETA: 3s - loss: 0.4898 - accuracy: 0.75 - ETA: 2s - loss: 0.4901 - accuracy: 0.75 - ETA: 2s - loss: 0.4901 - accuracy: 0.75 - ETA: 2s - loss: 0.4901 - accuracy: 0.75 - ETA: 2s - loss: 0.4897 - accuracy: 0.75 - ETA: 2s - loss: 0.4895 - accuracy: 0.75 - ETA: 2s - loss: 0.4896 - accuracy: 0.75 - ETA: 2s - loss: 0.4894 - accuracy: 0.75 - ETA: 2s - loss: 0.4895 - accuracy: 0.75 - ETA: 2s - loss: 0.4896 - accuracy: 0.75 - ETA: 2s - loss: 0.4898 - accuracy: 0.75 - ETA: 2s - loss: 0.4898 - accuracy: 0.7577\b\b\b\b\b\b\b\b\b\b\b\b\b\b\b\b\b\b\b\b\b\b\b\b\b\b\b\b\b\b\b\b\b\b\b\b\b\b\b\b\b\b\b\b\b\b\b\b\b\b\b\b\b\b\b\b\b\b\b\b\b\b\b\b\b\b\b\b\b\b\b\b\b\b\b\b\b\b\b\b\b\b\b\b"
     ]
    },
    {
     "name": "stdout",
     "output_type": "stream",
     "text": [
      "804/804 [==============================] - ETA: 2s - loss: 0.4894 - accuracy: 0.75 - ETA: 2s - loss: 0.4894 - accuracy: 0.75 - ETA: 2s - loss: 0.4894 - accuracy: 0.75 - ETA: 2s - loss: 0.4895 - accuracy: 0.75 - ETA: 2s - loss: 0.4893 - accuracy: 0.75 - ETA: 1s - loss: 0.4890 - accuracy: 0.75 - ETA: 1s - loss: 0.4885 - accuracy: 0.75 - ETA: 1s - loss: 0.4884 - accuracy: 0.75 - ETA: 1s - loss: 0.4882 - accuracy: 0.75 - ETA: 1s - loss: 0.4880 - accuracy: 0.75 - ETA: 1s - loss: 0.4884 - accuracy: 0.75 - ETA: 1s - loss: 0.4881 - accuracy: 0.75 - ETA: 1s - loss: 0.4881 - accuracy: 0.75 - ETA: 1s - loss: 0.4877 - accuracy: 0.75 - ETA: 1s - loss: 0.4877 - accuracy: 0.75 - ETA: 1s - loss: 0.4872 - accuracy: 0.75 - ETA: 1s - loss: 0.4874 - accuracy: 0.75 - ETA: 1s - loss: 0.4869 - accuracy: 0.75 - ETA: 1s - loss: 0.4864 - accuracy: 0.75 - ETA: 1s - loss: 0.4865 - accuracy: 0.75 - ETA: 1s - loss: 0.4864 - accuracy: 0.75 - ETA: 0s - loss: 0.4863 - accuracy: 0.75 - ETA: 0s - loss: 0.4861 - accuracy: 0.76 - ETA: 0s - loss: 0.4863 - accuracy: 0.76 - ETA: 0s - loss: 0.4863 - accuracy: 0.76 - ETA: 0s - loss: 0.4858 - accuracy: 0.76 - ETA: 0s - loss: 0.4852 - accuracy: 0.76 - ETA: 0s - loss: 0.4848 - accuracy: 0.76 - ETA: 0s - loss: 0.4846 - accuracy: 0.76 - ETA: 0s - loss: 0.4846 - accuracy: 0.76 - ETA: 0s - loss: 0.4844 - accuracy: 0.76 - ETA: 0s - loss: 0.4844 - accuracy: 0.76 - ETA: 0s - loss: 0.4841 - accuracy: 0.76 - ETA: 0s - loss: 0.4839 - accuracy: 0.76 - 24s 29ms/step - loss: 0.4836 - accuracy: 0.7626 - val_loss: 0.4607 - val_accuracy: 0.7861\n",
      "Epoch 2/2\n"
     ]
    },
    {
     "name": "stdout",
     "output_type": "stream",
     "text": [
      "594/804 [=====================>........] - ETA: 12s - loss: 0.3001 - accuracy: 0.812 - ETA: 8s - loss: 0.2801 - accuracy: 0.849 - ETA: 12s - loss: 0.2807 - accuracy: 0.855 - ETA: 14s - loss: 0.2595 - accuracy: 0.871 - ETA: 14s - loss: 0.2657 - accuracy: 0.872 - ETA: 16s - loss: 0.2534 - accuracy: 0.879 - ETA: 19s - loss: 0.2512 - accuracy: 0.879 - ETA: 17s - loss: 0.2380 - accuracy: 0.890 - ETA: 17s - loss: 0.2313 - accuracy: 0.897 - ETA: 17s - loss: 0.2243 - accuracy: 0.899 - ETA: 19s - loss: 0.2249 - accuracy: 0.900 - ETA: 20s - loss: 0.2240 - accuracy: 0.901 - ETA: 20s - loss: 0.2163 - accuracy: 0.905 - ETA: 19s - loss: 0.2084 - accuracy: 0.910 - ETA: 18s - loss: 0.1995 - accuracy: 0.915 - ETA: 17s - loss: 0.1931 - accuracy: 0.919 - ETA: 17s - loss: 0.2037 - accuracy: 0.917 - ETA: 17s - loss: 0.1951 - accuracy: 0.921 - ETA: 16s - loss: 0.1981 - accuracy: 0.921 - ETA: 16s - loss: 0.1948 - accuracy: 0.923 - ETA: 15s - loss: 0.1897 - accuracy: 0.925 - ETA: 15s - loss: 0.1863 - accuracy: 0.927 - ETA: 15s - loss: 0.1859 - accuracy: 0.927 - ETA: 15s - loss: 0.1845 - accuracy: 0.928 - ETA: 15s - loss: 0.1828 - accuracy: 0.929 - ETA: 14s - loss: 0.1788 - accuracy: 0.931 - ETA: 14s - loss: 0.1767 - accuracy: 0.932 - ETA: 13s - loss: 0.1734 - accuracy: 0.934 - ETA: 13s - loss: 0.1736 - accuracy: 0.934 - ETA: 12s - loss: 0.1696 - accuracy: 0.936 - ETA: 12s - loss: 0.1665 - accuracy: 0.937 - ETA: 12s - loss: 0.1653 - accuracy: 0.938 - ETA: 12s - loss: 0.1649 - accuracy: 0.938 - ETA: 12s - loss: 0.1634 - accuracy: 0.938 - ETA: 12s - loss: 0.1620 - accuracy: 0.939 - ETA: 12s - loss: 0.1594 - accuracy: 0.940 - ETA: 12s - loss: 0.1584 - accuracy: 0.940 - ETA: 11s - loss: 0.1564 - accuracy: 0.941 - ETA: 11s - loss: 0.1533 - accuracy: 0.942 - ETA: 11s - loss: 0.1526 - accuracy: 0.942 - ETA: 11s - loss: 0.1533 - accuracy: 0.942 - ETA: 11s - loss: 0.1513 - accuracy: 0.943 - ETA: 11s - loss: 0.1520 - accuracy: 0.942 - ETA: 11s - loss: 0.1512 - accuracy: 0.943 - ETA: 11s - loss: 0.1515 - accuracy: 0.942 - ETA: 11s - loss: 0.1490 - accuracy: 0.943 - ETA: 10s - loss: 0.1478 - accuracy: 0.944 - ETA: 10s - loss: 0.1464 - accuracy: 0.945 - ETA: 10s - loss: 0.1454 - accuracy: 0.945 - ETA: 10s - loss: 0.1449 - accuracy: 0.946 - ETA: 10s - loss: 0.1436 - accuracy: 0.946 - ETA: 10s - loss: 0.1448 - accuracy: 0.946 - ETA: 10s - loss: 0.1437 - accuracy: 0.946 - ETA: 10s - loss: 0.1444 - accuracy: 0.945 - ETA: 9s - loss: 0.1464 - accuracy: 0.945 - ETA: 9s - loss: 0.1466 - accuracy: 0.94 - ETA: 9s - loss: 0.1460 - accuracy: 0.94 - ETA: 9s - loss: 0.1458 - accuracy: 0.94 - ETA: 9s - loss: 0.1472 - accuracy: 0.94 - ETA: 9s - loss: 0.1466 - accuracy: 0.94 - ETA: 9s - loss: 0.1469 - accuracy: 0.94 - ETA: 9s - loss: 0.1469 - accuracy: 0.94 - ETA: 9s - loss: 0.1480 - accuracy: 0.94 - ETA: 9s - loss: 0.1479 - accuracy: 0.94 - ETA: 9s - loss: 0.1471 - accuracy: 0.94 - ETA: 9s - loss: 0.1458 - accuracy: 0.94 - ETA: 9s - loss: 0.1451 - accuracy: 0.94 - ETA: 9s - loss: 0.1445 - accuracy: 0.94 - ETA: 9s - loss: 0.1445 - accuracy: 0.94 - ETA: 9s - loss: 0.1434 - accuracy: 0.94 - ETA: 8s - loss: 0.1429 - accuracy: 0.94 - ETA: 8s - loss: 0.1422 - accuracy: 0.94 - ETA: 8s - loss: 0.1447 - accuracy: 0.94 - ETA: 8s - loss: 0.1438 - accuracy: 0.94 - ETA: 8s - loss: 0.1438 - accuracy: 0.94 - ETA: 8s - loss: 0.1427 - accuracy: 0.94 - ETA: 8s - loss: 0.1417 - accuracy: 0.94 - ETA: 8s - loss: 0.1414 - accuracy: 0.94 - ETA: 8s - loss: 0.1410 - accuracy: 0.94 - ETA: 8s - loss: 0.1405 - accuracy: 0.94 - ETA: 8s - loss: 0.1407 - accuracy: 0.94 - ETA: 8s - loss: 0.1402 - accuracy: 0.94 - ETA: 8s - loss: 0.1414 - accuracy: 0.94 - ETA: 8s - loss: 0.1413 - accuracy: 0.94 - ETA: 8s - loss: 0.1406 - accuracy: 0.94 - ETA: 8s - loss: 0.1400 - accuracy: 0.94 - ETA: 8s - loss: 0.1406 - accuracy: 0.94 - ETA: 8s - loss: 0.1402 - accuracy: 0.94 - ETA: 7s - loss: 0.1395 - accuracy: 0.94 - ETA: 7s - loss: 0.1396 - accuracy: 0.94 - ETA: 7s - loss: 0.1396 - accuracy: 0.94 - ETA: 7s - loss: 0.1396 - accuracy: 0.94 - ETA: 7s - loss: 0.1391 - accuracy: 0.94 - ETA: 7s - loss: 0.1392 - accuracy: 0.95 - ETA: 7s - loss: 0.1385 - accuracy: 0.95 - ETA: 7s - loss: 0.1383 - accuracy: 0.95 - ETA: 7s - loss: 0.1381 - accuracy: 0.95 - ETA: 7s - loss: 0.1386 - accuracy: 0.95 - ETA: 7s - loss: 0.1385 - accuracy: 0.95 - ETA: 7s - loss: 0.1382 - accuracy: 0.95 - ETA: 7s - loss: 0.1386 - accuracy: 0.95 - ETA: 7s - loss: 0.1379 - accuracy: 0.95 - ETA: 7s - loss: 0.1376 - accuracy: 0.95 - ETA: 7s - loss: 0.1382 - accuracy: 0.95 - ETA: 7s - loss: 0.1382 - accuracy: 0.95 - ETA: 7s - loss: 0.1386 - accuracy: 0.95 - ETA: 7s - loss: 0.1383 - accuracy: 0.95 - ETA: 7s - loss: 0.1380 - accuracy: 0.95 - ETA: 7s - loss: 0.1375 - accuracy: 0.95 - ETA: 7s - loss: 0.1376 - accuracy: 0.95 - ETA: 7s - loss: 0.1373 - accuracy: 0.95 - ETA: 7s - loss: 0.1373 - accuracy: 0.95 - ETA: 7s - loss: 0.1372 - accuracy: 0.95 - ETA: 7s - loss: 0.1370 - accuracy: 0.95 - ETA: 7s - loss: 0.1368 - accuracy: 0.95 - ETA: 7s - loss: 0.1363 - accuracy: 0.95 - ETA: 7s - loss: 0.1368 - accuracy: 0.95 - ETA: 7s - loss: 0.1367 - accuracy: 0.95 - ETA: 7s - loss: 0.1365 - accuracy: 0.95 - ETA: 7s - loss: 0.1362 - accuracy: 0.95 - ETA: 7s - loss: 0.1363 - accuracy: 0.95 - ETA: 7s - loss: 0.1364 - accuracy: 0.95 - ETA: 7s - loss: 0.1364 - accuracy: 0.95 - ETA: 7s - loss: 0.1368 - accuracy: 0.95 - ETA: 7s - loss: 0.1366 - accuracy: 0.95 - ETA: 7s - loss: 0.1371 - accuracy: 0.95 - ETA: 7s - loss: 0.1372 - accuracy: 0.95 - ETA: 7s - loss: 0.1365 - accuracy: 0.95 - ETA: 7s - loss: 0.1361 - accuracy: 0.95 - ETA: 7s - loss: 0.1358 - accuracy: 0.95 - ETA: 7s - loss: 0.1357 - accuracy: 0.95 - ETA: 7s - loss: 0.1357 - accuracy: 0.95 - ETA: 7s - loss: 0.1355 - accuracy: 0.95 - ETA: 7s - loss: 0.1355 - accuracy: 0.95 - ETA: 7s - loss: 0.1357 - accuracy: 0.95 - ETA: 7s - loss: 0.1354 - accuracy: 0.95 - ETA: 7s - loss: 0.1359 - accuracy: 0.95 - ETA: 7s - loss: 0.1360 - accuracy: 0.95 - ETA: 7s - loss: 0.1359 - accuracy: 0.95 - ETA: 7s - loss: 0.1363 - accuracy: 0.95 - ETA: 6s - loss: 0.1367 - accuracy: 0.95 - ETA: 6s - loss: 0.1364 - accuracy: 0.95 - ETA: 6s - loss: 0.1360 - accuracy: 0.95 - ETA: 6s - loss: 0.1356 - accuracy: 0.95 - ETA: 6s - loss: 0.1357 - accuracy: 0.95 - ETA: 6s - loss: 0.1356 - accuracy: 0.95 - ETA: 6s - loss: 0.1355 - accuracy: 0.95 - ETA: 6s - loss: 0.1355 - accuracy: 0.95 - ETA: 6s - loss: 0.1353 - accuracy: 0.95 - ETA: 6s - loss: 0.1354 - accuracy: 0.95 - ETA: 6s - loss: 0.1351 - accuracy: 0.95 - ETA: 6s - loss: 0.1346 - accuracy: 0.95 - ETA: 6s - loss: 0.1343 - accuracy: 0.95 - ETA: 6s - loss: 0.1339 - accuracy: 0.95 - ETA: 6s - loss: 0.1336 - accuracy: 0.95 - ETA: 6s - loss: 0.1338 - accuracy: 0.95 - ETA: 6s - loss: 0.1341 - accuracy: 0.95 - ETA: 6s - loss: 0.1340 - accuracy: 0.95 - ETA: 6s - loss: 0.1337 - accuracy: 0.95 - ETA: 6s - loss: 0.1339 - accuracy: 0.95 - ETA: 6s - loss: 0.1338 - accuracy: 0.95 - ETA: 6s - loss: 0.1336 - accuracy: 0.95 - ETA: 6s - loss: 0.1334 - accuracy: 0.95 - ETA: 5s - loss: 0.1335 - accuracy: 0.95 - ETA: 5s - loss: 0.1335 - accuracy: 0.95 - ETA: 6s - loss: 0.1333 - accuracy: 0.95 - ETA: 6s - loss: 0.1334 - accuracy: 0.95 - ETA: 6s - loss: 0.1336 - accuracy: 0.95 - ETA: 6s - loss: 0.1338 - accuracy: 0.95 - ETA: 6s - loss: 0.1334 - accuracy: 0.95 - ETA: 6s - loss: 0.1334 - accuracy: 0.95 - ETA: 6s - loss: 0.1332 - accuracy: 0.95 - ETA: 6s - loss: 0.1331 - accuracy: 0.95 - ETA: 6s - loss: 0.1335 - accuracy: 0.95 - ETA: 6s - loss: 0.1330 - accuracy: 0.95 - ETA: 5s - loss: 0.1332 - accuracy: 0.95 - ETA: 5s - loss: 0.1331 - accuracy: 0.95 - ETA: 5s - loss: 0.1333 - accuracy: 0.95 - ETA: 5s - loss: 0.1330 - accuracy: 0.95 - ETA: 5s - loss: 0.1331 - accuracy: 0.95 - ETA: 5s - loss: 0.1334 - accuracy: 0.95 - ETA: 5s - loss: 0.1335 - accuracy: 0.95 - ETA: 5s - loss: 0.1334 - accuracy: 0.95 - ETA: 5s - loss: 0.1335 - accuracy: 0.95 - ETA: 5s - loss: 0.1335 - accuracy: 0.95 - ETA: 5s - loss: 0.1335 - accuracy: 0.95 - ETA: 4s - loss: 0.1335 - accuracy: 0.95 - ETA: 4s - loss: 0.1334 - accuracy: 0.95 - ETA: 4s - loss: 0.1334 - accuracy: 0.95 - ETA: 4s - loss: 0.1333 - accuracy: 0.95 - ETA: 4s - loss: 0.1330 - accuracy: 0.95 - ETA: 4s - loss: 0.1327 - accuracy: 0.9535"
     ]
    },
    {
     "name": "stdout",
     "output_type": "stream",
     "text": [
      "804/804 [==============================] - ETA: 4s - loss: 0.1329 - accuracy: 0.95 - ETA: 4s - loss: 0.1328 - accuracy: 0.95 - ETA: 4s - loss: 0.1324 - accuracy: 0.95 - ETA: 4s - loss: 0.1318 - accuracy: 0.95 - ETA: 4s - loss: 0.1315 - accuracy: 0.95 - ETA: 4s - loss: 0.1314 - accuracy: 0.95 - ETA: 3s - loss: 0.1314 - accuracy: 0.95 - ETA: 3s - loss: 0.1317 - accuracy: 0.95 - ETA: 3s - loss: 0.1318 - accuracy: 0.95 - ETA: 3s - loss: 0.1320 - accuracy: 0.95 - ETA: 3s - loss: 0.1323 - accuracy: 0.95 - ETA: 3s - loss: 0.1321 - accuracy: 0.95 - ETA: 3s - loss: 0.1319 - accuracy: 0.95 - ETA: 3s - loss: 0.1317 - accuracy: 0.95 - ETA: 3s - loss: 0.1317 - accuracy: 0.95 - ETA: 3s - loss: 0.1314 - accuracy: 0.95 - ETA: 3s - loss: 0.1312 - accuracy: 0.95 - ETA: 2s - loss: 0.1312 - accuracy: 0.95 - ETA: 2s - loss: 0.1313 - accuracy: 0.95 - ETA: 2s - loss: 0.1310 - accuracy: 0.95 - ETA: 2s - loss: 0.1312 - accuracy: 0.95 - ETA: 2s - loss: 0.1316 - accuracy: 0.95 - ETA: 2s - loss: 0.1314 - accuracy: 0.95 - ETA: 2s - loss: 0.1313 - accuracy: 0.95 - ETA: 2s - loss: 0.1317 - accuracy: 0.95 - ETA: 2s - loss: 0.1321 - accuracy: 0.95 - ETA: 2s - loss: 0.1320 - accuracy: 0.95 - ETA: 2s - loss: 0.1318 - accuracy: 0.95 - ETA: 1s - loss: 0.1320 - accuracy: 0.95 - ETA: 1s - loss: 0.1320 - accuracy: 0.95 - ETA: 1s - loss: 0.1321 - accuracy: 0.95 - ETA: 1s - loss: 0.1323 - accuracy: 0.95 - ETA: 1s - loss: 0.1323 - accuracy: 0.95 - ETA: 1s - loss: 0.1320 - accuracy: 0.95 - ETA: 1s - loss: 0.1321 - accuracy: 0.95 - ETA: 1s - loss: 0.1319 - accuracy: 0.95 - ETA: 1s - loss: 0.1320 - accuracy: 0.95 - ETA: 1s - loss: 0.1321 - accuracy: 0.95 - ETA: 1s - loss: 0.1325 - accuracy: 0.95 - ETA: 1s - loss: 0.1324 - accuracy: 0.95 - ETA: 0s - loss: 0.1323 - accuracy: 0.95 - ETA: 0s - loss: 0.1323 - accuracy: 0.95 - ETA: 0s - loss: 0.1324 - accuracy: 0.95 - ETA: 0s - loss: 0.1322 - accuracy: 0.95 - ETA: 0s - loss: 0.1320 - accuracy: 0.95 - ETA: 0s - loss: 0.1319 - accuracy: 0.95 - ETA: 0s - loss: 0.1316 - accuracy: 0.95 - ETA: 0s - loss: 0.1315 - accuracy: 0.95 - ETA: 0s - loss: 0.1314 - accuracy: 0.95 - ETA: 0s - loss: 0.1311 - accuracy: 0.95 - ETA: 0s - loss: 0.1311 - accuracy: 0.95 - ETA: 0s - loss: 0.1311 - accuracy: 0.95 - ETA: 0s - loss: 0.1313 - accuracy: 0.95 - 17s 22ms/step - loss: 0.1313 - accuracy: 0.9538 - val_loss: 0.5226 - val_accuracy: 0.6469\n"
     ]
    },
    {
     "data": {
      "text/html": [
       "<span style=\"color:#4527A0\"><h1 style=\"font-size:18px\">Trial complete</h1></span>"
      ],
      "text/plain": [
       "<IPython.core.display.HTML object>"
      ]
     },
     "metadata": {},
     "output_type": "display_data"
    },
    {
     "data": {
      "text/html": [
       "<span style=\"color:#4527A0\"><h1 style=\"font-size:18px\">Trial summary</h1></span>"
      ],
      "text/plain": [
       "<IPython.core.display.HTML object>"
      ]
     },
     "metadata": {},
     "output_type": "display_data"
    },
    {
     "data": {
      "text/html": [
       "<span style=\"color:cyan\"> |-Trial ID: 0123fdbf9d109dde9d690c9796410d12</span>"
      ],
      "text/plain": [
       "<IPython.core.display.HTML object>"
      ]
     },
     "metadata": {},
     "output_type": "display_data"
    },
    {
     "data": {
      "text/html": [
       "<span style=\"color:cyan\"> |-Score: 0.7861224412918091</span>"
      ],
      "text/plain": [
       "<IPython.core.display.HTML object>"
      ]
     },
     "metadata": {},
     "output_type": "display_data"
    },
    {
     "data": {
      "text/html": [
       "<span style=\"color:cyan\"> |-Best step: 0</span>"
      ],
      "text/plain": [
       "<IPython.core.display.HTML object>"
      ]
     },
     "metadata": {},
     "output_type": "display_data"
    },
    {
     "data": {
      "text/html": [
       "<span style=\"color:#7E57C2\"><h2 style=\"font-size:16px\">Hyperparameters:</h2></span>"
      ],
      "text/plain": [
       "<IPython.core.display.HTML object>"
      ]
     },
     "metadata": {},
     "output_type": "display_data"
    },
    {
     "data": {
      "text/html": [
       "<span style=\"color:cyan\"> |-activation: tanh</span>"
      ],
      "text/plain": [
       "<IPython.core.display.HTML object>"
      ]
     },
     "metadata": {},
     "output_type": "display_data"
    },
    {
     "data": {
      "text/html": [
       "<span style=\"color:blue\"> |-first_units: 75</span>"
      ],
      "text/plain": [
       "<IPython.core.display.HTML object>"
      ]
     },
     "metadata": {},
     "output_type": "display_data"
    },
    {
     "data": {
      "text/html": [
       "<span style=\"color:cyan\"> |-num_layers: 3</span>"
      ],
      "text/plain": [
       "<IPython.core.display.HTML object>"
      ]
     },
     "metadata": {},
     "output_type": "display_data"
    },
    {
     "data": {
      "text/html": [
       "<span style=\"color:blue\"> |-tuner/bracket: 1</span>"
      ],
      "text/plain": [
       "<IPython.core.display.HTML object>"
      ]
     },
     "metadata": {},
     "output_type": "display_data"
    },
    {
     "data": {
      "text/html": [
       "<span style=\"color:cyan\"> |-tuner/epochs: 2</span>"
      ],
      "text/plain": [
       "<IPython.core.display.HTML object>"
      ]
     },
     "metadata": {},
     "output_type": "display_data"
    },
    {
     "data": {
      "text/html": [
       "<span style=\"color:blue\"> |-tuner/initial_epoch: 0</span>"
      ],
      "text/plain": [
       "<IPython.core.display.HTML object>"
      ]
     },
     "metadata": {},
     "output_type": "display_data"
    },
    {
     "data": {
      "text/html": [
       "<span style=\"color:cyan\"> |-tuner/round: 0</span>"
      ],
      "text/plain": [
       "<IPython.core.display.HTML object>"
      ]
     },
     "metadata": {},
     "output_type": "display_data"
    },
    {
     "data": {
      "text/html": [
       "<span style=\"color:blue\"> |-units_0: 45</span>"
      ],
      "text/plain": [
       "<IPython.core.display.HTML object>"
      ]
     },
     "metadata": {},
     "output_type": "display_data"
    },
    {
     "data": {
      "text/html": [
       "<span style=\"color:cyan\"> |-units_1: 40</span>"
      ],
      "text/plain": [
       "<IPython.core.display.HTML object>"
      ]
     },
     "metadata": {},
     "output_type": "display_data"
    },
    {
     "data": {
      "text/html": [
       "<span style=\"color:blue\"> |-units_2: 30</span>"
      ],
      "text/plain": [
       "<IPython.core.display.HTML object>"
      ]
     },
     "metadata": {},
     "output_type": "display_data"
    },
    {
     "data": {
      "text/html": [
       "<span style=\"color:cyan\"> |-units_3: 50</span>"
      ],
      "text/plain": [
       "<IPython.core.display.HTML object>"
      ]
     },
     "metadata": {},
     "output_type": "display_data"
    },
    {
     "data": {
      "text/html": [
       "<span style=\"color:blue\"> |-units_4: 45</span>"
      ],
      "text/plain": [
       "<IPython.core.display.HTML object>"
      ]
     },
     "metadata": {},
     "output_type": "display_data"
    },
    {
     "data": {
      "text/html": [
       "<span style=\"color:#4527A0\"><h1 style=\"font-size:18px\">Starting new trial</h1></span>"
      ],
      "text/plain": [
       "<IPython.core.display.HTML object>"
      ]
     },
     "metadata": {},
     "output_type": "display_data"
    },
    {
     "name": "stdout",
     "output_type": "stream",
     "text": [
      "Epoch 1/2\n",
      "804/804 [==============================] - ETA: 7:54 - loss: 0.7824 - accuracy: 0.31 - ETA: 3s - loss: 0.6551 - accuracy: 0.5848 - ETA: 3s - loss: 0.6411 - accuracy: 0.62 - ETA: 3s - loss: 0.6201 - accuracy: 0.64 - ETA: 3s - loss: 0.6068 - accuracy: 0.65 - ETA: 3s - loss: 0.5989 - accuracy: 0.65 - ETA: 3s - loss: 0.5917 - accuracy: 0.66 - ETA: 3s - loss: 0.5855 - accuracy: 0.67 - ETA: 3s - loss: 0.5797 - accuracy: 0.67 - ETA: 3s - loss: 0.5683 - accuracy: 0.68 - ETA: 3s - loss: 0.5654 - accuracy: 0.69 - ETA: 2s - loss: 0.5563 - accuracy: 0.70 - ETA: 2s - loss: 0.5514 - accuracy: 0.70 - ETA: 2s - loss: 0.5471 - accuracy: 0.70 - ETA: 2s - loss: 0.5436 - accuracy: 0.71 - ETA: 2s - loss: 0.5411 - accuracy: 0.71 - ETA: 2s - loss: 0.5366 - accuracy: 0.72 - ETA: 2s - loss: 0.5320 - accuracy: 0.72 - ETA: 2s - loss: 0.5301 - accuracy: 0.72 - ETA: 2s - loss: 0.5292 - accuracy: 0.72 - ETA: 2s - loss: 0.5288 - accuracy: 0.72 - ETA: 2s - loss: 0.5282 - accuracy: 0.72 - ETA: 2s - loss: 0.5262 - accuracy: 0.73 - ETA: 2s - loss: 0.5265 - accuracy: 0.73 - ETA: 2s - loss: 0.5233 - accuracy: 0.73 - ETA: 2s - loss: 0.5230 - accuracy: 0.73 - ETA: 3s - loss: 0.5232 - accuracy: 0.73 - ETA: 2s - loss: 0.5230 - accuracy: 0.73 - ETA: 2s - loss: 0.5216 - accuracy: 0.73 - ETA: 2s - loss: 0.5218 - accuracy: 0.73 - ETA: 2s - loss: 0.5216 - accuracy: 0.73 - ETA: 2s - loss: 0.5203 - accuracy: 0.73 - ETA: 2s - loss: 0.5186 - accuracy: 0.73 - ETA: 2s - loss: 0.5171 - accuracy: 0.73 - ETA: 2s - loss: 0.5166 - accuracy: 0.74 - ETA: 2s - loss: 0.5144 - accuracy: 0.74 - ETA: 2s - loss: 0.5140 - accuracy: 0.74 - ETA: 2s - loss: 0.5141 - accuracy: 0.74 - ETA: 2s - loss: 0.5132 - accuracy: 0.74 - ETA: 2s - loss: 0.5127 - accuracy: 0.74 - ETA: 2s - loss: 0.5125 - accuracy: 0.74 - ETA: 2s - loss: 0.5123 - accuracy: 0.74 - ETA: 2s - loss: 0.5114 - accuracy: 0.74 - ETA: 2s - loss: 0.5102 - accuracy: 0.74 - ETA: 2s - loss: 0.5095 - accuracy: 0.74 - ETA: 2s - loss: 0.5097 - accuracy: 0.74 - ETA: 2s - loss: 0.5086 - accuracy: 0.74 - ETA: 2s - loss: 0.5075 - accuracy: 0.74 - ETA: 2s - loss: 0.5079 - accuracy: 0.74 - ETA: 2s - loss: 0.5075 - accuracy: 0.74 - ETA: 2s - loss: 0.5071 - accuracy: 0.74 - ETA: 2s - loss: 0.5067 - accuracy: 0.74 - ETA: 2s - loss: 0.5069 - accuracy: 0.74 - ETA: 2s - loss: 0.5063 - accuracy: 0.75 - ETA: 2s - loss: 0.5060 - accuracy: 0.75 - ETA: 3s - loss: 0.5060 - accuracy: 0.75 - ETA: 3s - loss: 0.5059 - accuracy: 0.75 - ETA: 3s - loss: 0.5057 - accuracy: 0.75 - ETA: 3s - loss: 0.5057 - accuracy: 0.75 - ETA: 3s - loss: 0.5057 - accuracy: 0.75 - ETA: 3s - loss: 0.5053 - accuracy: 0.75 - ETA: 3s - loss: 0.5059 - accuracy: 0.75 - ETA: 2s - loss: 0.5051 - accuracy: 0.75 - ETA: 2s - loss: 0.5048 - accuracy: 0.75 - ETA: 2s - loss: 0.5041 - accuracy: 0.75 - ETA: 2s - loss: 0.5040 - accuracy: 0.75 - ETA: 2s - loss: 0.5038 - accuracy: 0.74 - ETA: 2s - loss: 0.5035 - accuracy: 0.74 - ETA: 2s - loss: 0.5037 - accuracy: 0.74 - ETA: 2s - loss: 0.5031 - accuracy: 0.74 - ETA: 2s - loss: 0.5028 - accuracy: 0.74 - ETA: 2s - loss: 0.5029 - accuracy: 0.74 - ETA: 2s - loss: 0.5027 - accuracy: 0.74 - ETA: 2s - loss: 0.5017 - accuracy: 0.75 - ETA: 2s - loss: 0.5002 - accuracy: 0.75 - ETA: 2s - loss: 0.4994 - accuracy: 0.75 - ETA: 2s - loss: 0.4991 - accuracy: 0.75 - ETA: 2s - loss: 0.4985 - accuracy: 0.75 - ETA: 2s - loss: 0.4979 - accuracy: 0.75 - ETA: 2s - loss: 0.4970 - accuracy: 0.75 - ETA: 2s - loss: 0.4966 - accuracy: 0.75 - ETA: 2s - loss: 0.4961 - accuracy: 0.75 - ETA: 2s - loss: 0.4961 - accuracy: 0.75 - ETA: 2s - loss: 0.4958 - accuracy: 0.75 - ETA: 2s - loss: 0.4954 - accuracy: 0.75 - ETA: 2s - loss: 0.4950 - accuracy: 0.75 - ETA: 1s - loss: 0.4948 - accuracy: 0.75 - ETA: 1s - loss: 0.4951 - accuracy: 0.75 - ETA: 1s - loss: 0.4950 - accuracy: 0.75 - ETA: 1s - loss: 0.4946 - accuracy: 0.75 - ETA: 1s - loss: 0.4944 - accuracy: 0.75 - ETA: 1s - loss: 0.4937 - accuracy: 0.75 - ETA: 1s - loss: 0.4931 - accuracy: 0.75 - ETA: 1s - loss: 0.4926 - accuracy: 0.75 - ETA: 1s - loss: 0.4921 - accuracy: 0.75 - ETA: 1s - loss: 0.4927 - accuracy: 0.75 - ETA: 1s - loss: 0.4928 - accuracy: 0.75 - ETA: 1s - loss: 0.4923 - accuracy: 0.75 - ETA: 1s - loss: 0.4917 - accuracy: 0.75 - ETA: 1s - loss: 0.4914 - accuracy: 0.75 - ETA: 1s - loss: 0.4923 - accuracy: 0.75 - ETA: 1s - loss: 0.4917 - accuracy: 0.75 - ETA: 1s - loss: 0.4918 - accuracy: 0.75 - ETA: 1s - loss: 0.4918 - accuracy: 0.75 - ETA: 1s - loss: 0.4917 - accuracy: 0.75 - ETA: 1s - loss: 0.4917 - accuracy: 0.75 - ETA: 1s - loss: 0.4914 - accuracy: 0.75 - ETA: 1s - loss: 0.4913 - accuracy: 0.75 - ETA: 1s - loss: 0.4910 - accuracy: 0.75 - ETA: 1s - loss: 0.4906 - accuracy: 0.75 - ETA: 0s - loss: 0.4904 - accuracy: 0.75 - ETA: 0s - loss: 0.4907 - accuracy: 0.75 - ETA: 0s - loss: 0.4902 - accuracy: 0.75 - ETA: 0s - loss: 0.4897 - accuracy: 0.76 - ETA: 0s - loss: 0.4895 - accuracy: 0.76 - ETA: 0s - loss: 0.4893 - accuracy: 0.76 - ETA: 0s - loss: 0.4892 - accuracy: 0.76 - ETA: 0s - loss: 0.4888 - accuracy: 0.76 - ETA: 0s - loss: 0.4886 - accuracy: 0.76 - ETA: 0s - loss: 0.4882 - accuracy: 0.76 - ETA: 0s - loss: 0.4880 - accuracy: 0.76 - ETA: 0s - loss: 0.4879 - accuracy: 0.76 - ETA: 0s - loss: 0.4878 - accuracy: 0.76 - ETA: 0s - loss: 0.4879 - accuracy: 0.76 - ETA: 0s - loss: 0.4876 - accuracy: 0.76 - ETA: 0s - loss: 0.4874 - accuracy: 0.76 - ETA: 0s - loss: 0.4871 - accuracy: 0.76 - ETA: 0s - loss: 0.4868 - accuracy: 0.76 - ETA: 0s - loss: 0.4868 - accuracy: 0.76 - ETA: 0s - loss: 0.4868 - accuracy: 0.76 - ETA: 0s - loss: 0.4868 - accuracy: 0.76 - 16s 19ms/step - loss: 0.4868 - accuracy: 0.7615 - val_loss: 0.4753 - val_accuracy: 0.7790\n",
      "Epoch 2/2\n"
     ]
    },
    {
     "name": "stdout",
     "output_type": "stream",
     "text": [
      "804/804 [==============================] - ETA: 14s - loss: 0.3514 - accuracy: 0.875 - ETA: 13s - loss: 0.3964 - accuracy: 0.796 - ETA: 10s - loss: 0.3919 - accuracy: 0.822 - ETA: 8s - loss: 0.3482 - accuracy: 0.845 - ETA: 8s - loss: 0.3249 - accuracy: 0.86 - ETA: 8s - loss: 0.2994 - accuracy: 0.87 - ETA: 7s - loss: 0.2695 - accuracy: 0.89 - ETA: 9s - loss: 0.2651 - accuracy: 0.89 - ETA: 11s - loss: 0.2638 - accuracy: 0.899 - ETA: 11s - loss: 0.2562 - accuracy: 0.903 - ETA: 11s - loss: 0.2413 - accuracy: 0.909 - ETA: 22s - loss: 0.2379 - accuracy: 0.910 - ETA: 22s - loss: 0.2330 - accuracy: 0.912 - ETA: 22s - loss: 0.2329 - accuracy: 0.913 - ETA: 20s - loss: 0.2251 - accuracy: 0.919 - ETA: 18s - loss: 0.2166 - accuracy: 0.921 - ETA: 17s - loss: 0.2102 - accuracy: 0.925 - ETA: 26s - loss: 0.2075 - accuracy: 0.926 - ETA: 25s - loss: 0.2069 - accuracy: 0.926 - ETA: 23s - loss: 0.1989 - accuracy: 0.930 - ETA: 22s - loss: 0.1962 - accuracy: 0.931 - ETA: 21s - loss: 0.1902 - accuracy: 0.933 - ETA: 20s - loss: 0.1856 - accuracy: 0.935 - ETA: 19s - loss: 0.1831 - accuracy: 0.936 - ETA: 18s - loss: 0.1835 - accuracy: 0.937 - ETA: 17s - loss: 0.1791 - accuracy: 0.939 - ETA: 16s - loss: 0.1770 - accuracy: 0.940 - ETA: 16s - loss: 0.1749 - accuracy: 0.941 - ETA: 15s - loss: 0.1735 - accuracy: 0.941 - ETA: 15s - loss: 0.1722 - accuracy: 0.942 - ETA: 15s - loss: 0.1714 - accuracy: 0.942 - ETA: 15s - loss: 0.1710 - accuracy: 0.942 - ETA: 15s - loss: 0.1711 - accuracy: 0.942 - ETA: 15s - loss: 0.1702 - accuracy: 0.942 - ETA: 15s - loss: 0.1677 - accuracy: 0.943 - ETA: 15s - loss: 0.1660 - accuracy: 0.943 - ETA: 14s - loss: 0.1659 - accuracy: 0.943 - ETA: 14s - loss: 0.1651 - accuracy: 0.944 - ETA: 14s - loss: 0.1626 - accuracy: 0.945 - ETA: 13s - loss: 0.1623 - accuracy: 0.945 - ETA: 13s - loss: 0.1593 - accuracy: 0.946 - ETA: 12s - loss: 0.1583 - accuracy: 0.946 - ETA: 12s - loss: 0.1583 - accuracy: 0.947 - ETA: 12s - loss: 0.1566 - accuracy: 0.948 - ETA: 12s - loss: 0.1565 - accuracy: 0.948 - ETA: 11s - loss: 0.1552 - accuracy: 0.948 - ETA: 11s - loss: 0.1539 - accuracy: 0.949 - ETA: 11s - loss: 0.1533 - accuracy: 0.949 - ETA: 11s - loss: 0.1526 - accuracy: 0.949 - ETA: 13s - loss: 0.1522 - accuracy: 0.950 - ETA: 12s - loss: 0.1510 - accuracy: 0.950 - ETA: 12s - loss: 0.1499 - accuracy: 0.951 - ETA: 12s - loss: 0.1511 - accuracy: 0.950 - ETA: 12s - loss: 0.1506 - accuracy: 0.950 - ETA: 12s - loss: 0.1501 - accuracy: 0.950 - ETA: 12s - loss: 0.1501 - accuracy: 0.950 - ETA: 12s - loss: 0.1493 - accuracy: 0.951 - ETA: 12s - loss: 0.1503 - accuracy: 0.950 - ETA: 12s - loss: 0.1503 - accuracy: 0.950 - ETA: 12s - loss: 0.1514 - accuracy: 0.949 - ETA: 12s - loss: 0.1502 - accuracy: 0.950 - ETA: 12s - loss: 0.1497 - accuracy: 0.950 - ETA: 12s - loss: 0.1495 - accuracy: 0.950 - ETA: 12s - loss: 0.1500 - accuracy: 0.950 - ETA: 12s - loss: 0.1501 - accuracy: 0.950 - ETA: 12s - loss: 0.1502 - accuracy: 0.950 - ETA: 14s - loss: 0.1497 - accuracy: 0.950 - ETA: 14s - loss: 0.1488 - accuracy: 0.950 - ETA: 13s - loss: 0.1482 - accuracy: 0.950 - ETA: 13s - loss: 0.1502 - accuracy: 0.950 - ETA: 13s - loss: 0.1501 - accuracy: 0.950 - ETA: 13s - loss: 0.1499 - accuracy: 0.950 - ETA: 13s - loss: 0.1494 - accuracy: 0.950 - ETA: 13s - loss: 0.1492 - accuracy: 0.950 - ETA: 12s - loss: 0.1483 - accuracy: 0.950 - ETA: 12s - loss: 0.1478 - accuracy: 0.950 - ETA: 12s - loss: 0.1480 - accuracy: 0.950 - ETA: 12s - loss: 0.1476 - accuracy: 0.950 - ETA: 11s - loss: 0.1460 - accuracy: 0.951 - ETA: 11s - loss: 0.1449 - accuracy: 0.951 - ETA: 11s - loss: 0.1442 - accuracy: 0.952 - ETA: 11s - loss: 0.1438 - accuracy: 0.951 - ETA: 10s - loss: 0.1432 - accuracy: 0.952 - ETA: 10s - loss: 0.1438 - accuracy: 0.952 - ETA: 10s - loss: 0.1432 - accuracy: 0.952 - ETA: 10s - loss: 0.1421 - accuracy: 0.952 - ETA: 9s - loss: 0.1412 - accuracy: 0.953 - ETA: 9s - loss: 0.1418 - accuracy: 0.95 - ETA: 10s - loss: 0.1412 - accuracy: 0.953 - ETA: 9s - loss: 0.1418 - accuracy: 0.952 - ETA: 9s - loss: 0.1417 - accuracy: 0.95 - ETA: 9s - loss: 0.1415 - accuracy: 0.95 - ETA: 9s - loss: 0.1421 - accuracy: 0.95 - ETA: 9s - loss: 0.1420 - accuracy: 0.95 - ETA: 9s - loss: 0.1416 - accuracy: 0.95 - ETA: 9s - loss: 0.1415 - accuracy: 0.95 - ETA: 9s - loss: 0.1414 - accuracy: 0.95 - ETA: 8s - loss: 0.1423 - accuracy: 0.95 - ETA: 8s - loss: 0.1421 - accuracy: 0.95 - ETA: 8s - loss: 0.1416 - accuracy: 0.95 - ETA: 8s - loss: 0.1418 - accuracy: 0.95 - ETA: 8s - loss: 0.1417 - accuracy: 0.95 - ETA: 8s - loss: 0.1414 - accuracy: 0.95 - ETA: 9s - loss: 0.1413 - accuracy: 0.95 - ETA: 9s - loss: 0.1413 - accuracy: 0.95 - ETA: 8s - loss: 0.1405 - accuracy: 0.95 - ETA: 8s - loss: 0.1396 - accuracy: 0.95 - ETA: 8s - loss: 0.1402 - accuracy: 0.95 - ETA: 8s - loss: 0.1402 - accuracy: 0.95 - ETA: 8s - loss: 0.1395 - accuracy: 0.95 - ETA: 8s - loss: 0.1390 - accuracy: 0.95 - ETA: 8s - loss: 0.1388 - accuracy: 0.95 - ETA: 8s - loss: 0.1384 - accuracy: 0.95 - ETA: 8s - loss: 0.1384 - accuracy: 0.95 - ETA: 8s - loss: 0.1383 - accuracy: 0.95 - ETA: 8s - loss: 0.1381 - accuracy: 0.95 - ETA: 8s - loss: 0.1384 - accuracy: 0.95 - ETA: 8s - loss: 0.1375 - accuracy: 0.95 - ETA: 7s - loss: 0.1373 - accuracy: 0.95 - ETA: 7s - loss: 0.1367 - accuracy: 0.95 - ETA: 7s - loss: 0.1375 - accuracy: 0.95 - ETA: 7s - loss: 0.1377 - accuracy: 0.95 - ETA: 7s - loss: 0.1373 - accuracy: 0.95 - ETA: 6s - loss: 0.1370 - accuracy: 0.95 - ETA: 6s - loss: 0.1377 - accuracy: 0.95 - ETA: 6s - loss: 0.1377 - accuracy: 0.95 - ETA: 7s - loss: 0.1379 - accuracy: 0.95 - ETA: 6s - loss: 0.1377 - accuracy: 0.95 - ETA: 6s - loss: 0.1381 - accuracy: 0.95 - ETA: 6s - loss: 0.1378 - accuracy: 0.95 - ETA: 6s - loss: 0.1384 - accuracy: 0.95 - ETA: 6s - loss: 0.1383 - accuracy: 0.95 - ETA: 6s - loss: 0.1387 - accuracy: 0.95 - ETA: 6s - loss: 0.1392 - accuracy: 0.95 - ETA: 5s - loss: 0.1391 - accuracy: 0.95 - ETA: 5s - loss: 0.1390 - accuracy: 0.95 - ETA: 5s - loss: 0.1390 - accuracy: 0.95 - ETA: 5s - loss: 0.1385 - accuracy: 0.95 - ETA: 5s - loss: 0.1384 - accuracy: 0.95 - ETA: 5s - loss: 0.1382 - accuracy: 0.95 - ETA: 5s - loss: 0.1378 - accuracy: 0.95 - ETA: 5s - loss: 0.1377 - accuracy: 0.95 - ETA: 5s - loss: 0.1375 - accuracy: 0.95 - ETA: 5s - loss: 0.1376 - accuracy: 0.95 - ETA: 5s - loss: 0.1378 - accuracy: 0.95 - ETA: 4s - loss: 0.1374 - accuracy: 0.95 - ETA: 4s - loss: 0.1376 - accuracy: 0.95 - ETA: 4s - loss: 0.1373 - accuracy: 0.95 - ETA: 4s - loss: 0.1375 - accuracy: 0.95 - ETA: 4s - loss: 0.1370 - accuracy: 0.95 - ETA: 4s - loss: 0.1370 - accuracy: 0.95 - ETA: 4s - loss: 0.1375 - accuracy: 0.95 - ETA: 3s - loss: 0.1378 - accuracy: 0.95 - ETA: 3s - loss: 0.1377 - accuracy: 0.95 - ETA: 3s - loss: 0.1378 - accuracy: 0.95 - ETA: 3s - loss: 0.1377 - accuracy: 0.95 - ETA: 3s - loss: 0.1373 - accuracy: 0.95 - ETA: 3s - loss: 0.1373 - accuracy: 0.95 - ETA: 3s - loss: 0.1374 - accuracy: 0.95 - ETA: 3s - loss: 0.1373 - accuracy: 0.95 - ETA: 2s - loss: 0.1373 - accuracy: 0.95 - ETA: 2s - loss: 0.1379 - accuracy: 0.95 - ETA: 2s - loss: 0.1377 - accuracy: 0.95 - ETA: 2s - loss: 0.1375 - accuracy: 0.95 - ETA: 2s - loss: 0.1378 - accuracy: 0.95 - ETA: 2s - loss: 0.1375 - accuracy: 0.95 - ETA: 2s - loss: 0.1376 - accuracy: 0.95 - ETA: 2s - loss: 0.1374 - accuracy: 0.95 - ETA: 2s - loss: 0.1374 - accuracy: 0.95 - ETA: 1s - loss: 0.1373 - accuracy: 0.95 - ETA: 1s - loss: 0.1370 - accuracy: 0.95 - ETA: 1s - loss: 0.1366 - accuracy: 0.95 - ETA: 1s - loss: 0.1367 - accuracy: 0.95 - ETA: 1s - loss: 0.1367 - accuracy: 0.95 - ETA: 1s - loss: 0.1366 - accuracy: 0.95 - ETA: 1s - loss: 0.1368 - accuracy: 0.95 - ETA: 1s - loss: 0.1365 - accuracy: 0.95 - ETA: 1s - loss: 0.1366 - accuracy: 0.95 - ETA: 1s - loss: 0.1365 - accuracy: 0.95 - ETA: 1s - loss: 0.1364 - accuracy: 0.95 - ETA: 0s - loss: 0.1362 - accuracy: 0.95 - ETA: 0s - loss: 0.1361 - accuracy: 0.95 - ETA: 0s - loss: 0.1365 - accuracy: 0.95 - ETA: 0s - loss: 0.1362 - accuracy: 0.95 - ETA: 0s - loss: 0.1364 - accuracy: 0.95 - ETA: 0s - loss: 0.1361 - accuracy: 0.95 - ETA: 0s - loss: 0.1366 - accuracy: 0.95 - ETA: 0s - loss: 0.1367 - accuracy: 0.95 - ETA: 0s - loss: 0.1368 - accuracy: 0.95 - 19s 23ms/step - loss: 0.1367 - accuracy: 0.9532 - val_loss: 0.6998 - val_accuracy: 0.5950\n"
     ]
    },
    {
     "data": {
      "text/html": [
       "<span style=\"color:#4527A0\"><h1 style=\"font-size:18px\">Trial complete</h1></span>"
      ],
      "text/plain": [
       "<IPython.core.display.HTML object>"
      ]
     },
     "metadata": {},
     "output_type": "display_data"
    },
    {
     "data": {
      "text/html": [
       "<span style=\"color:#4527A0\"><h1 style=\"font-size:18px\">Trial summary</h1></span>"
      ],
      "text/plain": [
       "<IPython.core.display.HTML object>"
      ]
     },
     "metadata": {},
     "output_type": "display_data"
    },
    {
     "data": {
      "text/html": [
       "<span style=\"color:cyan\"> |-Trial ID: 5615c6c2dc000cd46c530d8c07a6901c</span>"
      ],
      "text/plain": [
       "<IPython.core.display.HTML object>"
      ]
     },
     "metadata": {},
     "output_type": "display_data"
    },
    {
     "data": {
      "text/html": [
       "<span style=\"color:cyan\"> |-Score: 0.7790087461471558</span>"
      ],
      "text/plain": [
       "<IPython.core.display.HTML object>"
      ]
     },
     "metadata": {},
     "output_type": "display_data"
    },
    {
     "data": {
      "text/html": [
       "<span style=\"color:cyan\"> |-Best step: 0</span>"
      ],
      "text/plain": [
       "<IPython.core.display.HTML object>"
      ]
     },
     "metadata": {},
     "output_type": "display_data"
    },
    {
     "data": {
      "text/html": [
       "<span style=\"color:#7E57C2\"><h2 style=\"font-size:16px\">Hyperparameters:</h2></span>"
      ],
      "text/plain": [
       "<IPython.core.display.HTML object>"
      ]
     },
     "metadata": {},
     "output_type": "display_data"
    },
    {
     "data": {
      "text/html": [
       "<span style=\"color:cyan\"> |-activation: tanh</span>"
      ],
      "text/plain": [
       "<IPython.core.display.HTML object>"
      ]
     },
     "metadata": {},
     "output_type": "display_data"
    },
    {
     "data": {
      "text/html": [
       "<span style=\"color:blue\"> |-first_units: 50</span>"
      ],
      "text/plain": [
       "<IPython.core.display.HTML object>"
      ]
     },
     "metadata": {},
     "output_type": "display_data"
    },
    {
     "data": {
      "text/html": [
       "<span style=\"color:cyan\"> |-num_layers: 3</span>"
      ],
      "text/plain": [
       "<IPython.core.display.HTML object>"
      ]
     },
     "metadata": {},
     "output_type": "display_data"
    },
    {
     "data": {
      "text/html": [
       "<span style=\"color:blue\"> |-tuner/bracket: 1</span>"
      ],
      "text/plain": [
       "<IPython.core.display.HTML object>"
      ]
     },
     "metadata": {},
     "output_type": "display_data"
    },
    {
     "data": {
      "text/html": [
       "<span style=\"color:cyan\"> |-tuner/epochs: 2</span>"
      ],
      "text/plain": [
       "<IPython.core.display.HTML object>"
      ]
     },
     "metadata": {},
     "output_type": "display_data"
    },
    {
     "data": {
      "text/html": [
       "<span style=\"color:blue\"> |-tuner/initial_epoch: 0</span>"
      ],
      "text/plain": [
       "<IPython.core.display.HTML object>"
      ]
     },
     "metadata": {},
     "output_type": "display_data"
    },
    {
     "data": {
      "text/html": [
       "<span style=\"color:cyan\"> |-tuner/round: 0</span>"
      ],
      "text/plain": [
       "<IPython.core.display.HTML object>"
      ]
     },
     "metadata": {},
     "output_type": "display_data"
    },
    {
     "data": {
      "text/html": [
       "<span style=\"color:blue\"> |-units_0: 40</span>"
      ],
      "text/plain": [
       "<IPython.core.display.HTML object>"
      ]
     },
     "metadata": {},
     "output_type": "display_data"
    },
    {
     "data": {
      "text/html": [
       "<span style=\"color:cyan\"> |-units_1: 15</span>"
      ],
      "text/plain": [
       "<IPython.core.display.HTML object>"
      ]
     },
     "metadata": {},
     "output_type": "display_data"
    },
    {
     "data": {
      "text/html": [
       "<span style=\"color:blue\"> |-units_2: 45</span>"
      ],
      "text/plain": [
       "<IPython.core.display.HTML object>"
      ]
     },
     "metadata": {},
     "output_type": "display_data"
    },
    {
     "data": {
      "text/html": [
       "<span style=\"color:cyan\"> |-units_3: 45</span>"
      ],
      "text/plain": [
       "<IPython.core.display.HTML object>"
      ]
     },
     "metadata": {},
     "output_type": "display_data"
    },
    {
     "data": {
      "text/html": [
       "<span style=\"color:blue\"> |-units_4: 20</span>"
      ],
      "text/plain": [
       "<IPython.core.display.HTML object>"
      ]
     },
     "metadata": {},
     "output_type": "display_data"
    },
    {
     "data": {
      "text/html": [
       "<span style=\"color:#4527A0\"><h1 style=\"font-size:18px\">Starting new trial</h1></span>"
      ],
      "text/plain": [
       "<IPython.core.display.HTML object>"
      ]
     },
     "metadata": {},
     "output_type": "display_data"
    },
    {
     "name": "stdout",
     "output_type": "stream",
     "text": [
      "Epoch 1/2\n",
      "804/804 [==============================] - ETA: 7:15 - loss: 0.7167 - accuracy: 0.56 - ETA: 4s - loss: 0.6210 - accuracy: 0.6619 - ETA: 4s - loss: 0.6149 - accuracy: 0.66 - ETA: 4s - loss: 0.6094 - accuracy: 0.66 - ETA: 4s - loss: 0.6066 - accuracy: 0.66 - ETA: 4s - loss: 0.5918 - accuracy: 0.68 - ETA: 4s - loss: 0.5795 - accuracy: 0.69 - ETA: 4s - loss: 0.5770 - accuracy: 0.69 - ETA: 4s - loss: 0.5735 - accuracy: 0.69 - ETA: 3s - loss: 0.5694 - accuracy: 0.70 - ETA: 3s - loss: 0.5662 - accuracy: 0.70 - ETA: 3s - loss: 0.5621 - accuracy: 0.71 - ETA: 3s - loss: 0.5580 - accuracy: 0.71 - ETA: 3s - loss: 0.5603 - accuracy: 0.71 - ETA: 3s - loss: 0.5538 - accuracy: 0.72 - ETA: 3s - loss: 0.5500 - accuracy: 0.72 - ETA: 3s - loss: 0.5479 - accuracy: 0.72 - ETA: 3s - loss: 0.5425 - accuracy: 0.72 - ETA: 3s - loss: 0.5363 - accuracy: 0.73 - ETA: 3s - loss: 0.5342 - accuracy: 0.73 - ETA: 3s - loss: 0.5318 - accuracy: 0.73 - ETA: 3s - loss: 0.5332 - accuracy: 0.73 - ETA: 3s - loss: 0.5323 - accuracy: 0.73 - ETA: 3s - loss: 0.5316 - accuracy: 0.73 - ETA: 3s - loss: 0.5304 - accuracy: 0.73 - ETA: 3s - loss: 0.5298 - accuracy: 0.73 - ETA: 3s - loss: 0.5282 - accuracy: 0.73 - ETA: 3s - loss: 0.5257 - accuracy: 0.73 - ETA: 3s - loss: 0.5251 - accuracy: 0.73 - ETA: 3s - loss: 0.5225 - accuracy: 0.74 - ETA: 3s - loss: 0.5209 - accuracy: 0.74 - ETA: 3s - loss: 0.5207 - accuracy: 0.74 - ETA: 3s - loss: 0.5195 - accuracy: 0.74 - ETA: 3s - loss: 0.5186 - accuracy: 0.74 - ETA: 3s - loss: 0.5175 - accuracy: 0.74 - ETA: 3s - loss: 0.5163 - accuracy: 0.74 - ETA: 3s - loss: 0.5156 - accuracy: 0.74 - ETA: 3s - loss: 0.5156 - accuracy: 0.74 - ETA: 3s - loss: 0.5134 - accuracy: 0.74 - ETA: 3s - loss: 0.5115 - accuracy: 0.74 - ETA: 3s - loss: 0.5106 - accuracy: 0.74 - ETA: 3s - loss: 0.5091 - accuracy: 0.75 - ETA: 2s - loss: 0.5084 - accuracy: 0.75 - ETA: 2s - loss: 0.5079 - accuracy: 0.75 - ETA: 2s - loss: 0.5069 - accuracy: 0.75 - ETA: 2s - loss: 0.5062 - accuracy: 0.75 - ETA: 2s - loss: 0.5059 - accuracy: 0.75 - ETA: 2s - loss: 0.5052 - accuracy: 0.75 - ETA: 2s - loss: 0.5040 - accuracy: 0.75 - ETA: 2s - loss: 0.5028 - accuracy: 0.75 - ETA: 2s - loss: 0.5027 - accuracy: 0.75 - ETA: 2s - loss: 0.5036 - accuracy: 0.75 - ETA: 2s - loss: 0.5035 - accuracy: 0.75 - ETA: 2s - loss: 0.5026 - accuracy: 0.75 - ETA: 2s - loss: 0.5029 - accuracy: 0.75 - ETA: 2s - loss: 0.5031 - accuracy: 0.75 - ETA: 2s - loss: 0.5031 - accuracy: 0.75 - ETA: 2s - loss: 0.5027 - accuracy: 0.75 - ETA: 2s - loss: 0.5024 - accuracy: 0.75 - ETA: 2s - loss: 0.5024 - accuracy: 0.75 - ETA: 2s - loss: 0.5021 - accuracy: 0.75 - ETA: 2s - loss: 0.5019 - accuracy: 0.75 - ETA: 2s - loss: 0.5021 - accuracy: 0.75 - ETA: 2s - loss: 0.5013 - accuracy: 0.75 - ETA: 2s - loss: 0.5006 - accuracy: 0.75 - ETA: 2s - loss: 0.5010 - accuracy: 0.75 - ETA: 2s - loss: 0.5005 - accuracy: 0.75 - ETA: 2s - loss: 0.4999 - accuracy: 0.75 - ETA: 2s - loss: 0.4997 - accuracy: 0.75 - ETA: 2s - loss: 0.4997 - accuracy: 0.75 - ETA: 2s - loss: 0.4992 - accuracy: 0.75 - ETA: 2s - loss: 0.4987 - accuracy: 0.75 - ETA: 2s - loss: 0.4985 - accuracy: 0.75 - ETA: 2s - loss: 0.4978 - accuracy: 0.75 - ETA: 2s - loss: 0.4975 - accuracy: 0.75 - ETA: 2s - loss: 0.4977 - accuracy: 0.75 - ETA: 2s - loss: 0.4973 - accuracy: 0.75 - ETA: 2s - loss: 0.4964 - accuracy: 0.75 - ETA: 2s - loss: 0.4956 - accuracy: 0.76 - ETA: 2s - loss: 0.4957 - accuracy: 0.76 - ETA: 2s - loss: 0.4954 - accuracy: 0.76 - ETA: 2s - loss: 0.4947 - accuracy: 0.76 - ETA: 2s - loss: 0.4940 - accuracy: 0.76 - ETA: 2s - loss: 0.4943 - accuracy: 0.76 - ETA: 2s - loss: 0.4940 - accuracy: 0.76 - ETA: 2s - loss: 0.4933 - accuracy: 0.76 - ETA: 2s - loss: 0.4932 - accuracy: 0.76 - ETA: 2s - loss: 0.4927 - accuracy: 0.76 - ETA: 2s - loss: 0.4925 - accuracy: 0.76 - ETA: 2s - loss: 0.4924 - accuracy: 0.76 - ETA: 1s - loss: 0.4926 - accuracy: 0.76 - ETA: 1s - loss: 0.4919 - accuracy: 0.76 - ETA: 1s - loss: 0.4916 - accuracy: 0.76 - ETA: 1s - loss: 0.4917 - accuracy: 0.76 - ETA: 1s - loss: 0.4911 - accuracy: 0.76 - ETA: 1s - loss: 0.4905 - accuracy: 0.76 - ETA: 1s - loss: 0.4904 - accuracy: 0.76 - ETA: 1s - loss: 0.4903 - accuracy: 0.76 - ETA: 1s - loss: 0.4901 - accuracy: 0.76 - ETA: 1s - loss: 0.4899 - accuracy: 0.76 - ETA: 1s - loss: 0.4897 - accuracy: 0.76 - ETA: 1s - loss: 0.4896 - accuracy: 0.76 - ETA: 1s - loss: 0.4893 - accuracy: 0.76 - ETA: 1s - loss: 0.4897 - accuracy: 0.76 - ETA: 1s - loss: 0.4898 - accuracy: 0.76 - ETA: 1s - loss: 0.4896 - accuracy: 0.76 - ETA: 1s - loss: 0.4894 - accuracy: 0.76 - ETA: 1s - loss: 0.4894 - accuracy: 0.76 - ETA: 1s - loss: 0.4891 - accuracy: 0.76 - ETA: 1s - loss: 0.4892 - accuracy: 0.76 - ETA: 1s - loss: 0.4886 - accuracy: 0.76 - ETA: 1s - loss: 0.4880 - accuracy: 0.76 - ETA: 1s - loss: 0.4880 - accuracy: 0.76 - ETA: 1s - loss: 0.4877 - accuracy: 0.76 - ETA: 1s - loss: 0.4871 - accuracy: 0.76 - ETA: 1s - loss: 0.4872 - accuracy: 0.76 - ETA: 1s - loss: 0.4870 - accuracy: 0.76 - ETA: 1s - loss: 0.4869 - accuracy: 0.76 - ETA: 1s - loss: 0.4865 - accuracy: 0.76 - ETA: 1s - loss: 0.4865 - accuracy: 0.76 - ETA: 1s - loss: 0.4864 - accuracy: 0.76 - ETA: 1s - loss: 0.4864 - accuracy: 0.76 - ETA: 1s - loss: 0.4865 - accuracy: 0.76 - ETA: 1s - loss: 0.4864 - accuracy: 0.76 - ETA: 1s - loss: 0.4860 - accuracy: 0.76 - ETA: 0s - loss: 0.4858 - accuracy: 0.76 - ETA: 0s - loss: 0.4854 - accuracy: 0.76 - ETA: 0s - loss: 0.4852 - accuracy: 0.76 - ETA: 0s - loss: 0.4851 - accuracy: 0.76 - ETA: 0s - loss: 0.4846 - accuracy: 0.76 - ETA: 0s - loss: 0.4848 - accuracy: 0.76 - ETA: 0s - loss: 0.4846 - accuracy: 0.76 - ETA: 0s - loss: 0.4842 - accuracy: 0.76 - ETA: 0s - loss: 0.4840 - accuracy: 0.76 - ETA: 0s - loss: 0.4841 - accuracy: 0.76 - ETA: 0s - loss: 0.4837 - accuracy: 0.76 - ETA: 0s - loss: 0.4833 - accuracy: 0.76 - ETA: 0s - loss: 0.4831 - accuracy: 0.76 - ETA: 0s - loss: 0.4827 - accuracy: 0.76 - ETA: 0s - loss: 0.4829 - accuracy: 0.76 - ETA: 0s - loss: 0.4826 - accuracy: 0.76 - ETA: 0s - loss: 0.4826 - accuracy: 0.76 - ETA: 0s - loss: 0.4826 - accuracy: 0.76 - ETA: 0s - loss: 0.4825 - accuracy: 0.76 - ETA: 0s - loss: 0.4824 - accuracy: 0.76 - ETA: 0s - loss: 0.4822 - accuracy: 0.76 - ETA: 0s - loss: 0.4819 - accuracy: 0.76 - ETA: 0s - loss: 0.4817 - accuracy: 0.76 - ETA: 0s - loss: 0.4814 - accuracy: 0.76 - ETA: 0s - loss: 0.4813 - accuracy: 0.76 - ETA: 0s - loss: 0.4809 - accuracy: 0.76 - ETA: 0s - loss: 0.4808 - accuracy: 0.76 - ETA: 0s - loss: 0.4806 - accuracy: 0.76 - 23s 28ms/step - loss: 0.4806 - accuracy: 0.7693 - val_loss: 0.4788 - val_accuracy: 0.7658\n",
      "Epoch 2/2\n"
     ]
    },
    {
     "name": "stdout",
     "output_type": "stream",
     "text": [
      "566/804 [====================>.........] - ETA: 19s - loss: 0.5229 - accuracy: 0.718 - ETA: 22s - loss: 0.3356 - accuracy: 0.833 - ETA: 21s - loss: 0.3477 - accuracy: 0.825 - ETA: 26s - loss: 0.3145 - accuracy: 0.843 - ETA: 25s - loss: 0.3009 - accuracy: 0.847 - ETA: 22s - loss: 0.2607 - accuracy: 0.875 - ETA: 19s - loss: 0.2398 - accuracy: 0.890 - ETA: 17s - loss: 0.2146 - accuracy: 0.904 - ETA: 16s - loss: 0.1945 - accuracy: 0.916 - ETA: 16s - loss: 0.2008 - accuracy: 0.916 - ETA: 17s - loss: 0.2027 - accuracy: 0.917 - ETA: 17s - loss: 0.1996 - accuracy: 0.919 - ETA: 17s - loss: 0.2009 - accuracy: 0.921 - ETA: 16s - loss: 0.1929 - accuracy: 0.924 - ETA: 16s - loss: 0.1940 - accuracy: 0.925 - ETA: 16s - loss: 0.1881 - accuracy: 0.928 - ETA: 15s - loss: 0.1759 - accuracy: 0.934 - ETA: 15s - loss: 0.1709 - accuracy: 0.938 - ETA: 14s - loss: 0.1714 - accuracy: 0.939 - ETA: 14s - loss: 0.1738 - accuracy: 0.938 - ETA: 14s - loss: 0.1693 - accuracy: 0.939 - ETA: 14s - loss: 0.1711 - accuracy: 0.938 - ETA: 13s - loss: 0.1676 - accuracy: 0.939 - ETA: 13s - loss: 0.1649 - accuracy: 0.941 - ETA: 13s - loss: 0.1619 - accuracy: 0.942 - ETA: 13s - loss: 0.1600 - accuracy: 0.943 - ETA: 13s - loss: 0.1588 - accuracy: 0.943 - ETA: 13s - loss: 0.1552 - accuracy: 0.945 - ETA: 13s - loss: 0.1539 - accuracy: 0.945 - ETA: 13s - loss: 0.1514 - accuracy: 0.946 - ETA: 13s - loss: 0.1495 - accuracy: 0.946 - ETA: 13s - loss: 0.1469 - accuracy: 0.947 - ETA: 13s - loss: 0.1467 - accuracy: 0.947 - ETA: 13s - loss: 0.1439 - accuracy: 0.949 - ETA: 13s - loss: 0.1450 - accuracy: 0.948 - ETA: 12s - loss: 0.1435 - accuracy: 0.949 - ETA: 12s - loss: 0.1460 - accuracy: 0.948 - ETA: 12s - loss: 0.1453 - accuracy: 0.948 - ETA: 12s - loss: 0.1438 - accuracy: 0.949 - ETA: 12s - loss: 0.1426 - accuracy: 0.950 - ETA: 12s - loss: 0.1441 - accuracy: 0.949 - ETA: 12s - loss: 0.1430 - accuracy: 0.949 - ETA: 12s - loss: 0.1421 - accuracy: 0.949 - ETA: 12s - loss: 0.1419 - accuracy: 0.949 - ETA: 12s - loss: 0.1416 - accuracy: 0.949 - ETA: 12s - loss: 0.1402 - accuracy: 0.950 - ETA: 12s - loss: 0.1400 - accuracy: 0.950 - ETA: 12s - loss: 0.1390 - accuracy: 0.950 - ETA: 12s - loss: 0.1382 - accuracy: 0.950 - ETA: 12s - loss: 0.1391 - accuracy: 0.950 - ETA: 12s - loss: 0.1385 - accuracy: 0.950 - ETA: 12s - loss: 0.1395 - accuracy: 0.950 - ETA: 12s - loss: 0.1407 - accuracy: 0.950 - ETA: 12s - loss: 0.1415 - accuracy: 0.949 - ETA: 12s - loss: 0.1403 - accuracy: 0.950 - ETA: 12s - loss: 0.1389 - accuracy: 0.950 - ETA: 12s - loss: 0.1401 - accuracy: 0.950 - ETA: 12s - loss: 0.1394 - accuracy: 0.950 - ETA: 11s - loss: 0.1397 - accuracy: 0.950 - ETA: 11s - loss: 0.1411 - accuracy: 0.949 - ETA: 11s - loss: 0.1413 - accuracy: 0.949 - ETA: 11s - loss: 0.1403 - accuracy: 0.950 - ETA: 11s - loss: 0.1399 - accuracy: 0.950 - ETA: 11s - loss: 0.1405 - accuracy: 0.950 - ETA: 11s - loss: 0.1393 - accuracy: 0.950 - ETA: 11s - loss: 0.1395 - accuracy: 0.950 - ETA: 11s - loss: 0.1390 - accuracy: 0.951 - ETA: 11s - loss: 0.1400 - accuracy: 0.950 - ETA: 11s - loss: 0.1391 - accuracy: 0.950 - ETA: 11s - loss: 0.1382 - accuracy: 0.950 - ETA: 11s - loss: 0.1384 - accuracy: 0.950 - ETA: 11s - loss: 0.1375 - accuracy: 0.951 - ETA: 11s - loss: 0.1366 - accuracy: 0.951 - ETA: 11s - loss: 0.1379 - accuracy: 0.951 - ETA: 11s - loss: 0.1380 - accuracy: 0.951 - ETA: 11s - loss: 0.1380 - accuracy: 0.951 - ETA: 10s - loss: 0.1377 - accuracy: 0.951 - ETA: 10s - loss: 0.1389 - accuracy: 0.950 - ETA: 10s - loss: 0.1387 - accuracy: 0.951 - ETA: 10s - loss: 0.1380 - accuracy: 0.951 - ETA: 10s - loss: 0.1382 - accuracy: 0.951 - ETA: 10s - loss: 0.1372 - accuracy: 0.951 - ETA: 10s - loss: 0.1374 - accuracy: 0.951 - ETA: 10s - loss: 0.1367 - accuracy: 0.952 - ETA: 10s - loss: 0.1363 - accuracy: 0.952 - ETA: 10s - loss: 0.1361 - accuracy: 0.952 - ETA: 10s - loss: 0.1357 - accuracy: 0.952 - ETA: 10s - loss: 0.1354 - accuracy: 0.952 - ETA: 10s - loss: 0.1353 - accuracy: 0.952 - ETA: 10s - loss: 0.1349 - accuracy: 0.952 - ETA: 10s - loss: 0.1339 - accuracy: 0.953 - ETA: 10s - loss: 0.1332 - accuracy: 0.953 - ETA: 10s - loss: 0.1335 - accuracy: 0.953 - ETA: 10s - loss: 0.1327 - accuracy: 0.954 - ETA: 10s - loss: 0.1323 - accuracy: 0.954 - ETA: 10s - loss: 0.1322 - accuracy: 0.954 - ETA: 10s - loss: 0.1320 - accuracy: 0.954 - ETA: 10s - loss: 0.1316 - accuracy: 0.954 - ETA: 10s - loss: 0.1309 - accuracy: 0.954 - ETA: 9s - loss: 0.1305 - accuracy: 0.954 - ETA: 9s - loss: 0.1312 - accuracy: 0.95 - ETA: 9s - loss: 0.1323 - accuracy: 0.95 - ETA: 9s - loss: 0.1320 - accuracy: 0.95 - ETA: 9s - loss: 0.1324 - accuracy: 0.95 - ETA: 9s - loss: 0.1319 - accuracy: 0.95 - ETA: 9s - loss: 0.1320 - accuracy: 0.95 - ETA: 9s - loss: 0.1318 - accuracy: 0.95 - ETA: 9s - loss: 0.1322 - accuracy: 0.95 - ETA: 9s - loss: 0.1327 - accuracy: 0.95 - ETA: 9s - loss: 0.1323 - accuracy: 0.95 - ETA: 9s - loss: 0.1319 - accuracy: 0.95 - ETA: 9s - loss: 0.1321 - accuracy: 0.95 - ETA: 9s - loss: 0.1318 - accuracy: 0.95 - ETA: 9s - loss: 0.1327 - accuracy: 0.95 - ETA: 9s - loss: 0.1324 - accuracy: 0.95 - ETA: 8s - loss: 0.1326 - accuracy: 0.95 - ETA: 8s - loss: 0.1323 - accuracy: 0.95 - ETA: 8s - loss: 0.1321 - accuracy: 0.95 - ETA: 8s - loss: 0.1328 - accuracy: 0.95 - ETA: 8s - loss: 0.1322 - accuracy: 0.95 - ETA: 8s - loss: 0.1320 - accuracy: 0.95 - ETA: 8s - loss: 0.1317 - accuracy: 0.95 - ETA: 8s - loss: 0.1317 - accuracy: 0.95 - ETA: 8s - loss: 0.1313 - accuracy: 0.95 - ETA: 8s - loss: 0.1320 - accuracy: 0.95 - ETA: 8s - loss: 0.1318 - accuracy: 0.95 - ETA: 8s - loss: 0.1313 - accuracy: 0.95 - ETA: 8s - loss: 0.1311 - accuracy: 0.95 - ETA: 8s - loss: 0.1305 - accuracy: 0.95 - ETA: 8s - loss: 0.1304 - accuracy: 0.95 - ETA: 8s - loss: 0.1308 - accuracy: 0.95 - ETA: 8s - loss: 0.1309 - accuracy: 0.95 - ETA: 8s - loss: 0.1302 - accuracy: 0.95 - ETA: 8s - loss: 0.1299 - accuracy: 0.95 - ETA: 8s - loss: 0.1297 - accuracy: 0.95 - ETA: 8s - loss: 0.1305 - accuracy: 0.95 - ETA: 8s - loss: 0.1302 - accuracy: 0.95 - ETA: 7s - loss: 0.1305 - accuracy: 0.95 - ETA: 7s - loss: 0.1302 - accuracy: 0.95 - ETA: 7s - loss: 0.1307 - accuracy: 0.95 - ETA: 7s - loss: 0.1320 - accuracy: 0.95 - ETA: 7s - loss: 0.1318 - accuracy: 0.95 - ETA: 7s - loss: 0.1312 - accuracy: 0.95 - ETA: 7s - loss: 0.1312 - accuracy: 0.95 - ETA: 7s - loss: 0.1312 - accuracy: 0.95 - ETA: 7s - loss: 0.1308 - accuracy: 0.95 - ETA: 7s - loss: 0.1306 - accuracy: 0.95 - ETA: 7s - loss: 0.1306 - accuracy: 0.95 - ETA: 7s - loss: 0.1301 - accuracy: 0.95 - ETA: 7s - loss: 0.1298 - accuracy: 0.95 - ETA: 7s - loss: 0.1298 - accuracy: 0.95 - ETA: 6s - loss: 0.1299 - accuracy: 0.95 - ETA: 6s - loss: 0.1296 - accuracy: 0.95 - ETA: 6s - loss: 0.1303 - accuracy: 0.95 - ETA: 6s - loss: 0.1302 - accuracy: 0.95 - ETA: 6s - loss: 0.1298 - accuracy: 0.95 - ETA: 6s - loss: 0.1301 - accuracy: 0.95 - ETA: 6s - loss: 0.1301 - accuracy: 0.95 - ETA: 6s - loss: 0.1299 - accuracy: 0.95 - ETA: 6s - loss: 0.1304 - accuracy: 0.95 - ETA: 6s - loss: 0.1305 - accuracy: 0.95 - ETA: 6s - loss: 0.1302 - accuracy: 0.95 - ETA: 6s - loss: 0.1300 - accuracy: 0.95 - ETA: 6s - loss: 0.1299 - accuracy: 0.95 - ETA: 6s - loss: 0.1297 - accuracy: 0.95 - ETA: 6s - loss: 0.1297 - accuracy: 0.95 - ETA: 6s - loss: 0.1293 - accuracy: 0.95 - ETA: 6s - loss: 0.1293 - accuracy: 0.95 - ETA: 5s - loss: 0.1295 - accuracy: 0.95 - ETA: 5s - loss: 0.1292 - accuracy: 0.95 - ETA: 5s - loss: 0.1291 - accuracy: 0.95 - ETA: 5s - loss: 0.1286 - accuracy: 0.95 - ETA: 5s - loss: 0.1287 - accuracy: 0.95 - ETA: 5s - loss: 0.1291 - accuracy: 0.95 - ETA: 5s - loss: 0.1294 - accuracy: 0.95 - ETA: 5s - loss: 0.1296 - accuracy: 0.95 - ETA: 5s - loss: 0.1294 - accuracy: 0.95 - ETA: 5s - loss: 0.1297 - accuracy: 0.95 - ETA: 5s - loss: 0.1296 - accuracy: 0.95 - ETA: 5s - loss: 0.1293 - accuracy: 0.95 - ETA: 5s - loss: 0.1292 - accuracy: 0.95 - ETA: 5s - loss: 0.1289 - accuracy: 0.95 - ETA: 5s - loss: 0.1290 - accuracy: 0.95 - ETA: 5s - loss: 0.1289 - accuracy: 0.95 - ETA: 4s - loss: 0.1299 - accuracy: 0.95 - ETA: 4s - loss: 0.1295 - accuracy: 0.95 - ETA: 4s - loss: 0.1295 - accuracy: 0.95 - ETA: 4s - loss: 0.1295 - accuracy: 0.95 - ETA: 4s - loss: 0.1294 - accuracy: 0.95 - ETA: 4s - loss: 0.1294 - accuracy: 0.9558"
     ]
    },
    {
     "name": "stdout",
     "output_type": "stream",
     "text": [
      "804/804 [==============================] - ETA: 4s - loss: 0.1297 - accuracy: 0.95 - ETA: 4s - loss: 0.1292 - accuracy: 0.95 - ETA: 4s - loss: 0.1290 - accuracy: 0.95 - ETA: 4s - loss: 0.1290 - accuracy: 0.95 - ETA: 4s - loss: 0.1287 - accuracy: 0.95 - ETA: 4s - loss: 0.1287 - accuracy: 0.95 - ETA: 4s - loss: 0.1285 - accuracy: 0.95 - ETA: 4s - loss: 0.1287 - accuracy: 0.95 - ETA: 4s - loss: 0.1290 - accuracy: 0.95 - ETA: 4s - loss: 0.1290 - accuracy: 0.95 - ETA: 3s - loss: 0.1291 - accuracy: 0.95 - ETA: 3s - loss: 0.1302 - accuracy: 0.95 - ETA: 3s - loss: 0.1302 - accuracy: 0.95 - ETA: 3s - loss: 0.1300 - accuracy: 0.95 - ETA: 3s - loss: 0.1299 - accuracy: 0.95 - ETA: 3s - loss: 0.1296 - accuracy: 0.95 - ETA: 3s - loss: 0.1296 - accuracy: 0.95 - ETA: 3s - loss: 0.1295 - accuracy: 0.95 - ETA: 3s - loss: 0.1292 - accuracy: 0.95 - ETA: 3s - loss: 0.1292 - accuracy: 0.95 - ETA: 3s - loss: 0.1292 - accuracy: 0.95 - ETA: 3s - loss: 0.1291 - accuracy: 0.95 - ETA: 3s - loss: 0.1292 - accuracy: 0.95 - ETA: 3s - loss: 0.1292 - accuracy: 0.95 - ETA: 3s - loss: 0.1292 - accuracy: 0.95 - ETA: 3s - loss: 0.1288 - accuracy: 0.95 - ETA: 3s - loss: 0.1283 - accuracy: 0.95 - ETA: 3s - loss: 0.1282 - accuracy: 0.95 - ETA: 3s - loss: 0.1279 - accuracy: 0.95 - ETA: 2s - loss: 0.1280 - accuracy: 0.95 - ETA: 2s - loss: 0.1284 - accuracy: 0.95 - ETA: 2s - loss: 0.1283 - accuracy: 0.95 - ETA: 2s - loss: 0.1281 - accuracy: 0.95 - ETA: 2s - loss: 0.1280 - accuracy: 0.95 - ETA: 2s - loss: 0.1281 - accuracy: 0.95 - ETA: 2s - loss: 0.1279 - accuracy: 0.95 - ETA: 2s - loss: 0.1280 - accuracy: 0.95 - ETA: 2s - loss: 0.1281 - accuracy: 0.95 - ETA: 2s - loss: 0.1279 - accuracy: 0.95 - ETA: 2s - loss: 0.1281 - accuracy: 0.95 - ETA: 2s - loss: 0.1290 - accuracy: 0.95 - ETA: 1s - loss: 0.1290 - accuracy: 0.95 - ETA: 1s - loss: 0.1292 - accuracy: 0.95 - ETA: 1s - loss: 0.1293 - accuracy: 0.95 - ETA: 1s - loss: 0.1294 - accuracy: 0.95 - ETA: 1s - loss: 0.1293 - accuracy: 0.95 - ETA: 1s - loss: 0.1292 - accuracy: 0.95 - ETA: 1s - loss: 0.1292 - accuracy: 0.95 - ETA: 1s - loss: 0.1291 - accuracy: 0.95 - ETA: 1s - loss: 0.1291 - accuracy: 0.95 - ETA: 1s - loss: 0.1290 - accuracy: 0.95 - ETA: 1s - loss: 0.1293 - accuracy: 0.95 - ETA: 1s - loss: 0.1293 - accuracy: 0.95 - ETA: 1s - loss: 0.1290 - accuracy: 0.95 - ETA: 0s - loss: 0.1291 - accuracy: 0.95 - ETA: 0s - loss: 0.1288 - accuracy: 0.95 - ETA: 0s - loss: 0.1285 - accuracy: 0.95 - ETA: 0s - loss: 0.1282 - accuracy: 0.95 - ETA: 0s - loss: 0.1282 - accuracy: 0.95 - ETA: 0s - loss: 0.1281 - accuracy: 0.95 - ETA: 0s - loss: 0.1280 - accuracy: 0.95 - ETA: 0s - loss: 0.1277 - accuracy: 0.95 - ETA: 0s - loss: 0.1277 - accuracy: 0.95 - ETA: 0s - loss: 0.1283 - accuracy: 0.95 - ETA: 0s - loss: 0.1284 - accuracy: 0.95 - ETA: 0s - loss: 0.1288 - accuracy: 0.95 - ETA: 0s - loss: 0.1286 - accuracy: 0.95 - ETA: 0s - loss: 0.1284 - accuracy: 0.95 - 17s 21ms/step - loss: 0.1285 - accuracy: 0.9563 - val_loss: 0.5294 - val_accuracy: 0.6569\n"
     ]
    },
    {
     "data": {
      "text/html": [
       "<span style=\"color:#4527A0\"><h1 style=\"font-size:18px\">Trial complete</h1></span>"
      ],
      "text/plain": [
       "<IPython.core.display.HTML object>"
      ]
     },
     "metadata": {},
     "output_type": "display_data"
    },
    {
     "data": {
      "text/html": [
       "<span style=\"color:#4527A0\"><h1 style=\"font-size:18px\">Trial summary</h1></span>"
      ],
      "text/plain": [
       "<IPython.core.display.HTML object>"
      ]
     },
     "metadata": {},
     "output_type": "display_data"
    },
    {
     "data": {
      "text/html": [
       "<span style=\"color:cyan\"> |-Trial ID: 90e05f8ffd2730bf5dc5001ad47bde3e</span>"
      ],
      "text/plain": [
       "<IPython.core.display.HTML object>"
      ]
     },
     "metadata": {},
     "output_type": "display_data"
    },
    {
     "data": {
      "text/html": [
       "<span style=\"color:cyan\"> |-Score: 0.7658308744430542</span>"
      ],
      "text/plain": [
       "<IPython.core.display.HTML object>"
      ]
     },
     "metadata": {},
     "output_type": "display_data"
    },
    {
     "data": {
      "text/html": [
       "<span style=\"color:cyan\"> |-Best step: 0</span>"
      ],
      "text/plain": [
       "<IPython.core.display.HTML object>"
      ]
     },
     "metadata": {},
     "output_type": "display_data"
    },
    {
     "data": {
      "text/html": [
       "<span style=\"color:#7E57C2\"><h2 style=\"font-size:16px\">Hyperparameters:</h2></span>"
      ],
      "text/plain": [
       "<IPython.core.display.HTML object>"
      ]
     },
     "metadata": {},
     "output_type": "display_data"
    },
    {
     "data": {
      "text/html": [
       "<span style=\"color:cyan\"> |-activation: tanh</span>"
      ],
      "text/plain": [
       "<IPython.core.display.HTML object>"
      ]
     },
     "metadata": {},
     "output_type": "display_data"
    },
    {
     "data": {
      "text/html": [
       "<span style=\"color:blue\"> |-first_units: 85</span>"
      ],
      "text/plain": [
       "<IPython.core.display.HTML object>"
      ]
     },
     "metadata": {},
     "output_type": "display_data"
    },
    {
     "data": {
      "text/html": [
       "<span style=\"color:cyan\"> |-num_layers: 5</span>"
      ],
      "text/plain": [
       "<IPython.core.display.HTML object>"
      ]
     },
     "metadata": {},
     "output_type": "display_data"
    },
    {
     "data": {
      "text/html": [
       "<span style=\"color:blue\"> |-tuner/bracket: 1</span>"
      ],
      "text/plain": [
       "<IPython.core.display.HTML object>"
      ]
     },
     "metadata": {},
     "output_type": "display_data"
    },
    {
     "data": {
      "text/html": [
       "<span style=\"color:cyan\"> |-tuner/epochs: 2</span>"
      ],
      "text/plain": [
       "<IPython.core.display.HTML object>"
      ]
     },
     "metadata": {},
     "output_type": "display_data"
    },
    {
     "data": {
      "text/html": [
       "<span style=\"color:blue\"> |-tuner/initial_epoch: 0</span>"
      ],
      "text/plain": [
       "<IPython.core.display.HTML object>"
      ]
     },
     "metadata": {},
     "output_type": "display_data"
    },
    {
     "data": {
      "text/html": [
       "<span style=\"color:cyan\"> |-tuner/round: 0</span>"
      ],
      "text/plain": [
       "<IPython.core.display.HTML object>"
      ]
     },
     "metadata": {},
     "output_type": "display_data"
    },
    {
     "data": {
      "text/html": [
       "<span style=\"color:blue\"> |-units_0: 35</span>"
      ],
      "text/plain": [
       "<IPython.core.display.HTML object>"
      ]
     },
     "metadata": {},
     "output_type": "display_data"
    },
    {
     "data": {
      "text/html": [
       "<span style=\"color:cyan\"> |-units_1: 35</span>"
      ],
      "text/plain": [
       "<IPython.core.display.HTML object>"
      ]
     },
     "metadata": {},
     "output_type": "display_data"
    },
    {
     "data": {
      "text/html": [
       "<span style=\"color:blue\"> |-units_2: 45</span>"
      ],
      "text/plain": [
       "<IPython.core.display.HTML object>"
      ]
     },
     "metadata": {},
     "output_type": "display_data"
    },
    {
     "data": {
      "text/html": [
       "<span style=\"color:cyan\"> |-units_3: 10</span>"
      ],
      "text/plain": [
       "<IPython.core.display.HTML object>"
      ]
     },
     "metadata": {},
     "output_type": "display_data"
    },
    {
     "data": {
      "text/html": [
       "<span style=\"color:blue\"> |-units_4: 30</span>"
      ],
      "text/plain": [
       "<IPython.core.display.HTML object>"
      ]
     },
     "metadata": {},
     "output_type": "display_data"
    },
    {
     "data": {
      "text/html": [
       "<span style=\"color:#4527A0\"><h1 style=\"font-size:18px\">Starting new trial</h1></span>"
      ],
      "text/plain": [
       "<IPython.core.display.HTML object>"
      ]
     },
     "metadata": {},
     "output_type": "display_data"
    },
    {
     "name": "stdout",
     "output_type": "stream",
     "text": [
      "Epoch 3/5\n",
      "804/804 [==============================] - ETA: 5:34 - loss: 0.8380 - accuracy: 0.40 - ETA: 3s - loss: 0.6564 - accuracy: 0.6202 - ETA: 3s - loss: 0.6611 - accuracy: 0.61 - ETA: 3s - loss: 0.6449 - accuracy: 0.62 - ETA: 3s - loss: 0.6316 - accuracy: 0.63 - ETA: 3s - loss: 0.6163 - accuracy: 0.64 - ETA: 3s - loss: 0.6100 - accuracy: 0.65 - ETA: 3s - loss: 0.6098 - accuracy: 0.65 - ETA: 3s - loss: 0.6098 - accuracy: 0.65 - ETA: 3s - loss: 0.5973 - accuracy: 0.66 - ETA: 3s - loss: 0.5918 - accuracy: 0.66 - ETA: 3s - loss: 0.5886 - accuracy: 0.66 - ETA: 2s - loss: 0.5829 - accuracy: 0.67 - ETA: 2s - loss: 0.5808 - accuracy: 0.67 - ETA: 2s - loss: 0.5769 - accuracy: 0.67 - ETA: 2s - loss: 0.5715 - accuracy: 0.68 - ETA: 2s - loss: 0.5642 - accuracy: 0.68 - ETA: 2s - loss: 0.5619 - accuracy: 0.68 - ETA: 2s - loss: 0.5607 - accuracy: 0.68 - ETA: 2s - loss: 0.5621 - accuracy: 0.68 - ETA: 2s - loss: 0.5595 - accuracy: 0.69 - ETA: 2s - loss: 0.5582 - accuracy: 0.69 - ETA: 2s - loss: 0.5561 - accuracy: 0.69 - ETA: 2s - loss: 0.5545 - accuracy: 0.69 - ETA: 2s - loss: 0.5513 - accuracy: 0.69 - ETA: 2s - loss: 0.5496 - accuracy: 0.69 - ETA: 2s - loss: 0.5477 - accuracy: 0.69 - ETA: 2s - loss: 0.5456 - accuracy: 0.69 - ETA: 2s - loss: 0.5432 - accuracy: 0.70 - ETA: 2s - loss: 0.5415 - accuracy: 0.70 - ETA: 2s - loss: 0.5389 - accuracy: 0.70 - ETA: 2s - loss: 0.5376 - accuracy: 0.70 - ETA: 2s - loss: 0.5366 - accuracy: 0.70 - ETA: 2s - loss: 0.5378 - accuracy: 0.70 - ETA: 2s - loss: 0.5364 - accuracy: 0.70 - ETA: 2s - loss: 0.5357 - accuracy: 0.70 - ETA: 2s - loss: 0.5356 - accuracy: 0.70 - ETA: 2s - loss: 0.5349 - accuracy: 0.70 - ETA: 2s - loss: 0.5352 - accuracy: 0.70 - ETA: 2s - loss: 0.5344 - accuracy: 0.70 - ETA: 2s - loss: 0.5322 - accuracy: 0.71 - ETA: 2s - loss: 0.5312 - accuracy: 0.71 - ETA: 2s - loss: 0.5304 - accuracy: 0.71 - ETA: 1s - loss: 0.5300 - accuracy: 0.71 - ETA: 1s - loss: 0.5304 - accuracy: 0.71 - ETA: 1s - loss: 0.5309 - accuracy: 0.71 - ETA: 1s - loss: 0.5304 - accuracy: 0.71 - ETA: 1s - loss: 0.5297 - accuracy: 0.71 - ETA: 1s - loss: 0.5281 - accuracy: 0.71 - ETA: 1s - loss: 0.5274 - accuracy: 0.71 - ETA: 1s - loss: 0.5271 - accuracy: 0.71 - ETA: 1s - loss: 0.5273 - accuracy: 0.71 - ETA: 1s - loss: 0.5268 - accuracy: 0.71 - ETA: 1s - loss: 0.5266 - accuracy: 0.71 - ETA: 1s - loss: 0.5253 - accuracy: 0.72 - ETA: 1s - loss: 0.5236 - accuracy: 0.72 - ETA: 1s - loss: 0.5236 - accuracy: 0.72 - ETA: 1s - loss: 0.5231 - accuracy: 0.72 - ETA: 1s - loss: 0.5223 - accuracy: 0.72 - ETA: 1s - loss: 0.5221 - accuracy: 0.72 - ETA: 1s - loss: 0.5217 - accuracy: 0.72 - ETA: 1s - loss: 0.5218 - accuracy: 0.72 - ETA: 1s - loss: 0.5218 - accuracy: 0.72 - ETA: 1s - loss: 0.5214 - accuracy: 0.72 - ETA: 1s - loss: 0.5212 - accuracy: 0.72 - ETA: 1s - loss: 0.5215 - accuracy: 0.72 - ETA: 1s - loss: 0.5210 - accuracy: 0.72 - ETA: 1s - loss: 0.5203 - accuracy: 0.72 - ETA: 1s - loss: 0.5197 - accuracy: 0.72 - ETA: 1s - loss: 0.5197 - accuracy: 0.72 - ETA: 1s - loss: 0.5192 - accuracy: 0.72 - ETA: 1s - loss: 0.5191 - accuracy: 0.72 - ETA: 1s - loss: 0.5184 - accuracy: 0.72 - ETA: 1s - loss: 0.5181 - accuracy: 0.72 - ETA: 1s - loss: 0.5173 - accuracy: 0.72 - ETA: 1s - loss: 0.5172 - accuracy: 0.72 - ETA: 1s - loss: 0.5165 - accuracy: 0.72 - ETA: 1s - loss: 0.5164 - accuracy: 0.72 - ETA: 1s - loss: 0.5162 - accuracy: 0.73 - ETA: 1s - loss: 0.5161 - accuracy: 0.73 - ETA: 1s - loss: 0.5151 - accuracy: 0.73 - ETA: 1s - loss: 0.5144 - accuracy: 0.73 - ETA: 1s - loss: 0.5144 - accuracy: 0.73 - ETA: 1s - loss: 0.5147 - accuracy: 0.73 - ETA: 1s - loss: 0.5147 - accuracy: 0.73 - ETA: 1s - loss: 0.5144 - accuracy: 0.73 - ETA: 1s - loss: 0.5146 - accuracy: 0.73 - ETA: 1s - loss: 0.5144 - accuracy: 0.73 - ETA: 1s - loss: 0.5145 - accuracy: 0.73 - ETA: 1s - loss: 0.5150 - accuracy: 0.73 - ETA: 1s - loss: 0.5151 - accuracy: 0.73 - ETA: 1s - loss: 0.5149 - accuracy: 0.73 - ETA: 1s - loss: 0.5148 - accuracy: 0.73 - ETA: 1s - loss: 0.5148 - accuracy: 0.73 - ETA: 1s - loss: 0.5149 - accuracy: 0.73 - ETA: 1s - loss: 0.5149 - accuracy: 0.73 - ETA: 1s - loss: 0.5150 - accuracy: 0.73 - ETA: 1s - loss: 0.5155 - accuracy: 0.73 - ETA: 1s - loss: 0.5154 - accuracy: 0.73 - ETA: 1s - loss: 0.5157 - accuracy: 0.73 - ETA: 1s - loss: 0.5163 - accuracy: 0.73 - ETA: 1s - loss: 0.5165 - accuracy: 0.73 - ETA: 1s - loss: 0.5166 - accuracy: 0.73 - ETA: 1s - loss: 0.5169 - accuracy: 0.73 - ETA: 1s - loss: 0.5172 - accuracy: 0.73 - ETA: 1s - loss: 0.5173 - accuracy: 0.73 - ETA: 1s - loss: 0.5172 - accuracy: 0.73 - ETA: 1s - loss: 0.5169 - accuracy: 0.73 - ETA: 1s - loss: 0.5173 - accuracy: 0.73 - ETA: 1s - loss: 0.5169 - accuracy: 0.73 - ETA: 1s - loss: 0.5171 - accuracy: 0.73 - ETA: 1s - loss: 0.5169 - accuracy: 0.73 - ETA: 1s - loss: 0.5170 - accuracy: 0.73 - ETA: 1s - loss: 0.5172 - accuracy: 0.73 - ETA: 1s - loss: 0.5173 - accuracy: 0.73 - ETA: 1s - loss: 0.5173 - accuracy: 0.73 - ETA: 1s - loss: 0.5169 - accuracy: 0.74 - ETA: 0s - loss: 0.5169 - accuracy: 0.74 - ETA: 0s - loss: 0.5167 - accuracy: 0.74 - ETA: 0s - loss: 0.5162 - accuracy: 0.74 - ETA: 0s - loss: 0.5161 - accuracy: 0.74 - ETA: 0s - loss: 0.5162 - accuracy: 0.74 - ETA: 0s - loss: 0.5161 - accuracy: 0.74 - ETA: 0s - loss: 0.5157 - accuracy: 0.74 - ETA: 0s - loss: 0.5154 - accuracy: 0.74 - ETA: 0s - loss: 0.5151 - accuracy: 0.74 - ETA: 0s - loss: 0.5152 - accuracy: 0.74 - ETA: 0s - loss: 0.5148 - accuracy: 0.74 - ETA: 0s - loss: 0.5145 - accuracy: 0.74 - ETA: 0s - loss: 0.5144 - accuracy: 0.74 - ETA: 0s - loss: 0.5139 - accuracy: 0.74 - ETA: 0s - loss: 0.5133 - accuracy: 0.74 - ETA: 0s - loss: 0.5135 - accuracy: 0.74 - ETA: 0s - loss: 0.5132 - accuracy: 0.74 - ETA: 0s - loss: 0.5133 - accuracy: 0.74 - ETA: 0s - loss: 0.5130 - accuracy: 0.74 - ETA: 0s - loss: 0.5126 - accuracy: 0.74 - ETA: 0s - loss: 0.5128 - accuracy: 0.74 - 17s 21ms/step - loss: 0.5126 - accuracy: 0.7471 - val_loss: 0.5635 - val_accuracy: 0.6306\n",
      "Epoch 4/5\n"
     ]
    },
    {
     "name": "stdout",
     "output_type": "stream",
     "text": [
      "804/804 [==============================] - ETA: 7s - loss: 0.4542 - accuracy: 0.84 - ETA: 6s - loss: 0.3954 - accuracy: 0.84 - ETA: 6s - loss: 0.3467 - accuracy: 0.87 - ETA: 6s - loss: 0.3310 - accuracy: 0.88 - ETA: 6s - loss: 0.3201 - accuracy: 0.89 - ETA: 6s - loss: 0.3073 - accuracy: 0.90 - ETA: 6s - loss: 0.3000 - accuracy: 0.91 - ETA: 6s - loss: 0.2890 - accuracy: 0.91 - ETA: 6s - loss: 0.2789 - accuracy: 0.91 - ETA: 6s - loss: 0.2809 - accuracy: 0.91 - ETA: 6s - loss: 0.2754 - accuracy: 0.91 - ETA: 6s - loss: 0.2715 - accuracy: 0.91 - ETA: 6s - loss: 0.2657 - accuracy: 0.91 - ETA: 6s - loss: 0.2645 - accuracy: 0.91 - ETA: 6s - loss: 0.2666 - accuracy: 0.91 - ETA: 6s - loss: 0.2628 - accuracy: 0.91 - ETA: 6s - loss: 0.2614 - accuracy: 0.91 - ETA: 6s - loss: 0.2549 - accuracy: 0.91 - ETA: 6s - loss: 0.2513 - accuracy: 0.91 - ETA: 6s - loss: 0.2489 - accuracy: 0.92 - ETA: 6s - loss: 0.2472 - accuracy: 0.92 - ETA: 6s - loss: 0.2439 - accuracy: 0.92 - ETA: 6s - loss: 0.2403 - accuracy: 0.92 - ETA: 6s - loss: 0.2393 - accuracy: 0.92 - ETA: 6s - loss: 0.2378 - accuracy: 0.92 - ETA: 6s - loss: 0.2375 - accuracy: 0.92 - ETA: 6s - loss: 0.2349 - accuracy: 0.92 - ETA: 6s - loss: 0.2343 - accuracy: 0.92 - ETA: 6s - loss: 0.2341 - accuracy: 0.92 - ETA: 6s - loss: 0.2326 - accuracy: 0.92 - ETA: 6s - loss: 0.2319 - accuracy: 0.92 - ETA: 6s - loss: 0.2290 - accuracy: 0.92 - ETA: 6s - loss: 0.2284 - accuracy: 0.92 - ETA: 6s - loss: 0.2269 - accuracy: 0.92 - ETA: 6s - loss: 0.2266 - accuracy: 0.92 - ETA: 6s - loss: 0.2253 - accuracy: 0.92 - ETA: 6s - loss: 0.2265 - accuracy: 0.92 - ETA: 6s - loss: 0.2257 - accuracy: 0.92 - ETA: 6s - loss: 0.2252 - accuracy: 0.92 - ETA: 6s - loss: 0.2218 - accuracy: 0.92 - ETA: 6s - loss: 0.2198 - accuracy: 0.92 - ETA: 6s - loss: 0.2195 - accuracy: 0.92 - ETA: 6s - loss: 0.2203 - accuracy: 0.92 - ETA: 6s - loss: 0.2206 - accuracy: 0.92 - ETA: 6s - loss: 0.2208 - accuracy: 0.92 - ETA: 6s - loss: 0.2189 - accuracy: 0.92 - ETA: 6s - loss: 0.2199 - accuracy: 0.92 - ETA: 6s - loss: 0.2195 - accuracy: 0.92 - ETA: 6s - loss: 0.2186 - accuracy: 0.92 - ETA: 6s - loss: 0.2183 - accuracy: 0.92 - ETA: 6s - loss: 0.2182 - accuracy: 0.92 - ETA: 6s - loss: 0.2161 - accuracy: 0.92 - ETA: 6s - loss: 0.2166 - accuracy: 0.92 - ETA: 6s - loss: 0.2167 - accuracy: 0.92 - ETA: 6s - loss: 0.2172 - accuracy: 0.92 - ETA: 6s - loss: 0.2176 - accuracy: 0.92 - ETA: 6s - loss: 0.2164 - accuracy: 0.92 - ETA: 6s - loss: 0.2152 - accuracy: 0.92 - ETA: 6s - loss: 0.2150 - accuracy: 0.92 - ETA: 6s - loss: 0.2145 - accuracy: 0.92 - ETA: 6s - loss: 0.2137 - accuracy: 0.92 - ETA: 6s - loss: 0.2136 - accuracy: 0.92 - ETA: 5s - loss: 0.2128 - accuracy: 0.92 - ETA: 5s - loss: 0.2130 - accuracy: 0.92 - ETA: 5s - loss: 0.2124 - accuracy: 0.92 - ETA: 5s - loss: 0.2125 - accuracy: 0.92 - ETA: 5s - loss: 0.2126 - accuracy: 0.92 - ETA: 5s - loss: 0.2121 - accuracy: 0.92 - ETA: 5s - loss: 0.2117 - accuracy: 0.92 - ETA: 5s - loss: 0.2120 - accuracy: 0.92 - ETA: 5s - loss: 0.2122 - accuracy: 0.92 - ETA: 5s - loss: 0.2127 - accuracy: 0.92 - ETA: 5s - loss: 0.2123 - accuracy: 0.92 - ETA: 5s - loss: 0.2116 - accuracy: 0.92 - ETA: 5s - loss: 0.2109 - accuracy: 0.92 - ETA: 5s - loss: 0.2109 - accuracy: 0.92 - ETA: 5s - loss: 0.2110 - accuracy: 0.92 - ETA: 5s - loss: 0.2112 - accuracy: 0.92 - ETA: 5s - loss: 0.2117 - accuracy: 0.92 - ETA: 5s - loss: 0.2118 - accuracy: 0.92 - ETA: 5s - loss: 0.2121 - accuracy: 0.92 - ETA: 5s - loss: 0.2117 - accuracy: 0.92 - ETA: 5s - loss: 0.2114 - accuracy: 0.92 - ETA: 5s - loss: 0.2110 - accuracy: 0.92 - ETA: 5s - loss: 0.2105 - accuracy: 0.92 - ETA: 5s - loss: 0.2104 - accuracy: 0.92 - ETA: 5s - loss: 0.2104 - accuracy: 0.92 - ETA: 6s - loss: 0.2105 - accuracy: 0.92 - ETA: 6s - loss: 0.2104 - accuracy: 0.92 - ETA: 6s - loss: 0.2103 - accuracy: 0.92 - ETA: 6s - loss: 0.2105 - accuracy: 0.92 - ETA: 6s - loss: 0.2102 - accuracy: 0.92 - ETA: 6s - loss: 0.2105 - accuracy: 0.92 - ETA: 6s - loss: 0.2104 - accuracy: 0.92 - ETA: 6s - loss: 0.2106 - accuracy: 0.92 - ETA: 6s - loss: 0.2103 - accuracy: 0.92 - ETA: 6s - loss: 0.2115 - accuracy: 0.92 - ETA: 6s - loss: 0.2113 - accuracy: 0.92 - ETA: 6s - loss: 0.2110 - accuracy: 0.92 - ETA: 6s - loss: 0.2121 - accuracy: 0.92 - ETA: 6s - loss: 0.2116 - accuracy: 0.92 - ETA: 6s - loss: 0.2117 - accuracy: 0.92 - ETA: 6s - loss: 0.2120 - accuracy: 0.92 - ETA: 6s - loss: 0.2122 - accuracy: 0.92 - ETA: 6s - loss: 0.2128 - accuracy: 0.92 - ETA: 6s - loss: 0.2122 - accuracy: 0.92 - ETA: 6s - loss: 0.2126 - accuracy: 0.92 - ETA: 5s - loss: 0.2132 - accuracy: 0.92 - ETA: 5s - loss: 0.2124 - accuracy: 0.92 - ETA: 6s - loss: 0.2123 - accuracy: 0.92 - ETA: 6s - loss: 0.2120 - accuracy: 0.92 - ETA: 5s - loss: 0.2126 - accuracy: 0.92 - ETA: 5s - loss: 0.2123 - accuracy: 0.92 - ETA: 5s - loss: 0.2119 - accuracy: 0.92 - ETA: 5s - loss: 0.2115 - accuracy: 0.92 - ETA: 5s - loss: 0.2115 - accuracy: 0.92 - ETA: 5s - loss: 0.2118 - accuracy: 0.92 - ETA: 5s - loss: 0.2122 - accuracy: 0.92 - ETA: 5s - loss: 0.2125 - accuracy: 0.92 - ETA: 5s - loss: 0.2120 - accuracy: 0.92 - ETA: 5s - loss: 0.2116 - accuracy: 0.92 - ETA: 5s - loss: 0.2114 - accuracy: 0.92 - ETA: 4s - loss: 0.2121 - accuracy: 0.92 - ETA: 4s - loss: 0.2121 - accuracy: 0.92 - ETA: 4s - loss: 0.2115 - accuracy: 0.92 - ETA: 4s - loss: 0.2119 - accuracy: 0.92 - ETA: 4s - loss: 0.2111 - accuracy: 0.92 - ETA: 4s - loss: 0.2109 - accuracy: 0.92 - ETA: 4s - loss: 0.2107 - accuracy: 0.92 - ETA: 4s - loss: 0.2104 - accuracy: 0.92 - ETA: 4s - loss: 0.2098 - accuracy: 0.92 - ETA: 4s - loss: 0.2095 - accuracy: 0.92 - ETA: 3s - loss: 0.2090 - accuracy: 0.92 - ETA: 4s - loss: 0.2079 - accuracy: 0.92 - ETA: 4s - loss: 0.2077 - accuracy: 0.92 - ETA: 3s - loss: 0.2076 - accuracy: 0.92 - ETA: 4s - loss: 0.2074 - accuracy: 0.92 - ETA: 3s - loss: 0.2073 - accuracy: 0.92 - ETA: 3s - loss: 0.2071 - accuracy: 0.92 - ETA: 3s - loss: 0.2069 - accuracy: 0.92 - ETA: 3s - loss: 0.2058 - accuracy: 0.93 - ETA: 3s - loss: 0.2059 - accuracy: 0.93 - ETA: 3s - loss: 0.2057 - accuracy: 0.93 - ETA: 2s - loss: 0.2051 - accuracy: 0.93 - ETA: 2s - loss: 0.2050 - accuracy: 0.93 - ETA: 2s - loss: 0.2045 - accuracy: 0.93 - ETA: 2s - loss: 0.2048 - accuracy: 0.93 - ETA: 2s - loss: 0.2049 - accuracy: 0.93 - ETA: 2s - loss: 0.2049 - accuracy: 0.93 - ETA: 2s - loss: 0.2049 - accuracy: 0.93 - ETA: 2s - loss: 0.2044 - accuracy: 0.93 - ETA: 1s - loss: 0.2040 - accuracy: 0.93 - ETA: 1s - loss: 0.2035 - accuracy: 0.93 - ETA: 1s - loss: 0.2039 - accuracy: 0.93 - ETA: 1s - loss: 0.2039 - accuracy: 0.93 - ETA: 1s - loss: 0.2038 - accuracy: 0.93 - ETA: 1s - loss: 0.2035 - accuracy: 0.93 - ETA: 1s - loss: 0.2040 - accuracy: 0.93 - ETA: 1s - loss: 0.2035 - accuracy: 0.93 - ETA: 1s - loss: 0.2034 - accuracy: 0.93 - ETA: 0s - loss: 0.2030 - accuracy: 0.93 - ETA: 0s - loss: 0.2030 - accuracy: 0.93 - ETA: 0s - loss: 0.2028 - accuracy: 0.93 - ETA: 0s - loss: 0.2028 - accuracy: 0.93 - ETA: 0s - loss: 0.2025 - accuracy: 0.93 - ETA: 0s - loss: 0.2026 - accuracy: 0.93 - ETA: 0s - loss: 0.2023 - accuracy: 0.93 - ETA: 0s - loss: 0.2022 - accuracy: 0.93 - ETA: 0s - loss: 0.2019 - accuracy: 0.93 - 15s 19ms/step - loss: 0.2021 - accuracy: 0.9323 - val_loss: 0.5682 - val_accuracy: 0.7932\n",
      "Epoch 5/5\n"
     ]
    },
    {
     "name": "stdout",
     "output_type": "stream",
     "text": [
      "752/804 [===========================>..] - ETA: 9s - loss: 0.0379 - accuracy: 1.00 - ETA: 7s - loss: 0.1223 - accuracy: 0.96 - ETA: 7s - loss: 0.1298 - accuracy: 0.95 - ETA: 7s - loss: 0.1190 - accuracy: 0.96 - ETA: 7s - loss: 0.1128 - accuracy: 0.96 - ETA: 8s - loss: 0.1072 - accuracy: 0.96 - ETA: 7s - loss: 0.1183 - accuracy: 0.96 - ETA: 7s - loss: 0.1293 - accuracy: 0.95 - ETA: 7s - loss: 0.1247 - accuracy: 0.95 - ETA: 7s - loss: 0.1192 - accuracy: 0.95 - ETA: 7s - loss: 0.1176 - accuracy: 0.95 - ETA: 7s - loss: 0.1167 - accuracy: 0.95 - ETA: 7s - loss: 0.1176 - accuracy: 0.95 - ETA: 7s - loss: 0.1144 - accuracy: 0.95 - ETA: 7s - loss: 0.1168 - accuracy: 0.95 - ETA: 7s - loss: 0.1140 - accuracy: 0.95 - ETA: 7s - loss: 0.1118 - accuracy: 0.95 - ETA: 7s - loss: 0.1112 - accuracy: 0.96 - ETA: 7s - loss: 0.1091 - accuracy: 0.96 - ETA: 7s - loss: 0.1089 - accuracy: 0.96 - ETA: 7s - loss: 0.1094 - accuracy: 0.95 - ETA: 7s - loss: 0.1087 - accuracy: 0.95 - ETA: 7s - loss: 0.1083 - accuracy: 0.95 - ETA: 7s - loss: 0.1077 - accuracy: 0.95 - ETA: 7s - loss: 0.1111 - accuracy: 0.95 - ETA: 7s - loss: 0.1108 - accuracy: 0.95 - ETA: 7s - loss: 0.1104 - accuracy: 0.95 - ETA: 7s - loss: 0.1093 - accuracy: 0.95 - ETA: 7s - loss: 0.1093 - accuracy: 0.95 - ETA: 7s - loss: 0.1115 - accuracy: 0.95 - ETA: 7s - loss: 0.1115 - accuracy: 0.95 - ETA: 7s - loss: 0.1107 - accuracy: 0.95 - ETA: 6s - loss: 0.1094 - accuracy: 0.95 - ETA: 7s - loss: 0.1094 - accuracy: 0.95 - ETA: 6s - loss: 0.1094 - accuracy: 0.95 - ETA: 6s - loss: 0.1103 - accuracy: 0.95 - ETA: 6s - loss: 0.1089 - accuracy: 0.96 - ETA: 6s - loss: 0.1081 - accuracy: 0.96 - ETA: 6s - loss: 0.1078 - accuracy: 0.96 - ETA: 6s - loss: 0.1080 - accuracy: 0.96 - ETA: 6s - loss: 0.1081 - accuracy: 0.96 - ETA: 6s - loss: 0.1095 - accuracy: 0.96 - ETA: 6s - loss: 0.1084 - accuracy: 0.96 - ETA: 6s - loss: 0.1086 - accuracy: 0.96 - ETA: 6s - loss: 0.1081 - accuracy: 0.96 - ETA: 6s - loss: 0.1068 - accuracy: 0.96 - ETA: 6s - loss: 0.1073 - accuracy: 0.96 - ETA: 6s - loss: 0.1072 - accuracy: 0.96 - ETA: 6s - loss: 0.1072 - accuracy: 0.96 - ETA: 6s - loss: 0.1065 - accuracy: 0.96 - ETA: 6s - loss: 0.1080 - accuracy: 0.96 - ETA: 6s - loss: 0.1083 - accuracy: 0.96 - ETA: 6s - loss: 0.1085 - accuracy: 0.96 - ETA: 6s - loss: 0.1086 - accuracy: 0.96 - ETA: 6s - loss: 0.1085 - accuracy: 0.96 - ETA: 6s - loss: 0.1084 - accuracy: 0.96 - ETA: 6s - loss: 0.1090 - accuracy: 0.96 - ETA: 6s - loss: 0.1087 - accuracy: 0.96 - ETA: 5s - loss: 0.1083 - accuracy: 0.96 - ETA: 5s - loss: 0.1077 - accuracy: 0.96 - ETA: 5s - loss: 0.1077 - accuracy: 0.96 - ETA: 5s - loss: 0.1074 - accuracy: 0.96 - ETA: 5s - loss: 0.1067 - accuracy: 0.96 - ETA: 5s - loss: 0.1065 - accuracy: 0.96 - ETA: 5s - loss: 0.1068 - accuracy: 0.96 - ETA: 5s - loss: 0.1068 - accuracy: 0.96 - ETA: 5s - loss: 0.1073 - accuracy: 0.96 - ETA: 5s - loss: 0.1070 - accuracy: 0.96 - ETA: 5s - loss: 0.1073 - accuracy: 0.96 - ETA: 5s - loss: 0.1069 - accuracy: 0.96 - ETA: 5s - loss: 0.1071 - accuracy: 0.96 - ETA: 5s - loss: 0.1064 - accuracy: 0.96 - ETA: 5s - loss: 0.1061 - accuracy: 0.96 - ETA: 5s - loss: 0.1062 - accuracy: 0.96 - ETA: 5s - loss: 0.1074 - accuracy: 0.96 - ETA: 5s - loss: 0.1088 - accuracy: 0.96 - ETA: 5s - loss: 0.1089 - accuracy: 0.96 - ETA: 5s - loss: 0.1089 - accuracy: 0.96 - ETA: 5s - loss: 0.1088 - accuracy: 0.96 - ETA: 5s - loss: 0.1084 - accuracy: 0.96 - ETA: 5s - loss: 0.1085 - accuracy: 0.96 - ETA: 5s - loss: 0.1084 - accuracy: 0.96 - ETA: 4s - loss: 0.1076 - accuracy: 0.96 - ETA: 4s - loss: 0.1076 - accuracy: 0.96 - ETA: 4s - loss: 0.1073 - accuracy: 0.96 - ETA: 4s - loss: 0.1071 - accuracy: 0.96 - ETA: 4s - loss: 0.1069 - accuracy: 0.96 - ETA: 4s - loss: 0.1069 - accuracy: 0.96 - ETA: 4s - loss: 0.1069 - accuracy: 0.96 - ETA: 4s - loss: 0.1067 - accuracy: 0.96 - ETA: 4s - loss: 0.1067 - accuracy: 0.96 - ETA: 4s - loss: 0.1068 - accuracy: 0.96 - ETA: 4s - loss: 0.1068 - accuracy: 0.96 - ETA: 4s - loss: 0.1074 - accuracy: 0.96 - ETA: 4s - loss: 0.1072 - accuracy: 0.96 - ETA: 4s - loss: 0.1071 - accuracy: 0.96 - ETA: 4s - loss: 0.1066 - accuracy: 0.96 - ETA: 4s - loss: 0.1066 - accuracy: 0.96 - ETA: 4s - loss: 0.1065 - accuracy: 0.96 - ETA: 4s - loss: 0.1065 - accuracy: 0.96 - ETA: 4s - loss: 0.1064 - accuracy: 0.96 - ETA: 4s - loss: 0.1063 - accuracy: 0.96 - ETA: 4s - loss: 0.1067 - accuracy: 0.96 - ETA: 4s - loss: 0.1068 - accuracy: 0.96 - ETA: 4s - loss: 0.1065 - accuracy: 0.96 - ETA: 4s - loss: 0.1060 - accuracy: 0.96 - ETA: 4s - loss: 0.1061 - accuracy: 0.96 - ETA: 4s - loss: 0.1057 - accuracy: 0.96 - ETA: 4s - loss: 0.1066 - accuracy: 0.96 - ETA: 4s - loss: 0.1066 - accuracy: 0.96 - ETA: 4s - loss: 0.1069 - accuracy: 0.96 - ETA: 4s - loss: 0.1066 - accuracy: 0.96 - ETA: 4s - loss: 0.1065 - accuracy: 0.96 - ETA: 4s - loss: 0.1064 - accuracy: 0.96 - ETA: 4s - loss: 0.1060 - accuracy: 0.96 - ETA: 4s - loss: 0.1059 - accuracy: 0.96 - ETA: 4s - loss: 0.1061 - accuracy: 0.96 - ETA: 4s - loss: 0.1061 - accuracy: 0.96 - ETA: 4s - loss: 0.1063 - accuracy: 0.96 - ETA: 4s - loss: 0.1065 - accuracy: 0.96 - ETA: 4s - loss: 0.1063 - accuracy: 0.96 - ETA: 4s - loss: 0.1064 - accuracy: 0.96 - ETA: 4s - loss: 0.1067 - accuracy: 0.96 - ETA: 4s - loss: 0.1069 - accuracy: 0.96 - ETA: 4s - loss: 0.1070 - accuracy: 0.96 - ETA: 4s - loss: 0.1068 - accuracy: 0.96 - ETA: 4s - loss: 0.1068 - accuracy: 0.96 - ETA: 4s - loss: 0.1067 - accuracy: 0.96 - ETA: 4s - loss: 0.1069 - accuracy: 0.96 - ETA: 4s - loss: 0.1067 - accuracy: 0.96 - ETA: 4s - loss: 0.1067 - accuracy: 0.96 - ETA: 4s - loss: 0.1066 - accuracy: 0.96 - ETA: 4s - loss: 0.1065 - accuracy: 0.96 - ETA: 4s - loss: 0.1064 - accuracy: 0.96 - ETA: 4s - loss: 0.1065 - accuracy: 0.96 - ETA: 4s - loss: 0.1065 - accuracy: 0.96 - ETA: 4s - loss: 0.1063 - accuracy: 0.96 - ETA: 4s - loss: 0.1065 - accuracy: 0.96 - ETA: 4s - loss: 0.1068 - accuracy: 0.96 - ETA: 4s - loss: 0.1070 - accuracy: 0.96 - ETA: 4s - loss: 0.1072 - accuracy: 0.96 - ETA: 3s - loss: 0.1074 - accuracy: 0.96 - ETA: 3s - loss: 0.1070 - accuracy: 0.96 - ETA: 3s - loss: 0.1069 - accuracy: 0.96 - ETA: 3s - loss: 0.1069 - accuracy: 0.96 - ETA: 3s - loss: 0.1074 - accuracy: 0.96 - ETA: 3s - loss: 0.1074 - accuracy: 0.96 - ETA: 3s - loss: 0.1077 - accuracy: 0.96 - ETA: 3s - loss: 0.1085 - accuracy: 0.96 - ETA: 3s - loss: 0.1083 - accuracy: 0.96 - ETA: 3s - loss: 0.1085 - accuracy: 0.96 - ETA: 3s - loss: 0.1082 - accuracy: 0.96 - ETA: 3s - loss: 0.1080 - accuracy: 0.96 - ETA: 3s - loss: 0.1083 - accuracy: 0.96 - ETA: 3s - loss: 0.1085 - accuracy: 0.95 - ETA: 3s - loss: 0.1084 - accuracy: 0.95 - ETA: 3s - loss: 0.1083 - accuracy: 0.96 - ETA: 3s - loss: 0.1083 - accuracy: 0.96 - ETA: 2s - loss: 0.1085 - accuracy: 0.95 - ETA: 2s - loss: 0.1087 - accuracy: 0.95 - ETA: 2s - loss: 0.1083 - accuracy: 0.96 - ETA: 2s - loss: 0.1079 - accuracy: 0.96 - ETA: 2s - loss: 0.1084 - accuracy: 0.96 - ETA: 2s - loss: 0.1083 - accuracy: 0.96 - ETA: 2s - loss: 0.1085 - accuracy: 0.96 - ETA: 2s - loss: 0.1082 - accuracy: 0.96 - ETA: 2s - loss: 0.1084 - accuracy: 0.96 - ETA: 2s - loss: 0.1088 - accuracy: 0.96 - ETA: 2s - loss: 0.1087 - accuracy: 0.96 - ETA: 2s - loss: 0.1086 - accuracy: 0.96 - ETA: 2s - loss: 0.1084 - accuracy: 0.96 - ETA: 2s - loss: 0.1083 - accuracy: 0.96 - ETA: 2s - loss: 0.1084 - accuracy: 0.96 - ETA: 2s - loss: 0.1083 - accuracy: 0.96 - ETA: 1s - loss: 0.1080 - accuracy: 0.96 - ETA: 1s - loss: 0.1083 - accuracy: 0.96 - ETA: 1s - loss: 0.1079 - accuracy: 0.96 - ETA: 1s - loss: 0.1084 - accuracy: 0.96 - ETA: 1s - loss: 0.1081 - accuracy: 0.96 - ETA: 1s - loss: 0.1077 - accuracy: 0.96 - ETA: 1s - loss: 0.1076 - accuracy: 0.96 - ETA: 1s - loss: 0.1077 - accuracy: 0.96 - ETA: 1s - loss: 0.1079 - accuracy: 0.96 - ETA: 1s - loss: 0.1080 - accuracy: 0.96 - ETA: 1s - loss: 0.1081 - accuracy: 0.96 - ETA: 1s - loss: 0.1080 - accuracy: 0.96 - ETA: 1s - loss: 0.1084 - accuracy: 0.96 - ETA: 1s - loss: 0.1082 - accuracy: 0.96 - ETA: 1s - loss: 0.1080 - accuracy: 0.96 - ETA: 1s - loss: 0.1076 - accuracy: 0.96 - ETA: 1s - loss: 0.1073 - accuracy: 0.96 - ETA: 0s - loss: 0.1076 - accuracy: 0.96 - ETA: 0s - loss: 0.1075 - accuracy: 0.96 - ETA: 0s - loss: 0.1074 - accuracy: 0.96 - ETA: 0s - loss: 0.1074 - accuracy: 0.9606"
     ]
    },
    {
     "name": "stdout",
     "output_type": "stream",
     "text": [
      "804/804 [==============================] - ETA: 0s - loss: 0.1075 - accuracy: 0.96 - ETA: 0s - loss: 0.1072 - accuracy: 0.96 - ETA: 0s - loss: 0.1071 - accuracy: 0.96 - ETA: 0s - loss: 0.1071 - accuracy: 0.96 - ETA: 0s - loss: 0.1072 - accuracy: 0.96 - ETA: 0s - loss: 0.1071 - accuracy: 0.96 - ETA: 0s - loss: 0.1071 - accuracy: 0.96 - ETA: 0s - loss: 0.1072 - accuracy: 0.96 - ETA: 0s - loss: 0.1073 - accuracy: 0.96 - ETA: 0s - loss: 0.1071 - accuracy: 0.96 - ETA: 0s - loss: 0.1068 - accuracy: 0.96 - ETA: 0s - loss: 0.1067 - accuracy: 0.96 - ETA: 0s - loss: 0.1065 - accuracy: 0.96 - ETA: 0s - loss: 0.1066 - accuracy: 0.96 - 13s 17ms/step - loss: 0.1065 - accuracy: 0.9609 - val_loss: 0.5942 - val_accuracy: 0.7958\n"
     ]
    },
    {
     "data": {
      "text/html": [
       "<span style=\"color:#4527A0\"><h1 style=\"font-size:18px\">Trial complete</h1></span>"
      ],
      "text/plain": [
       "<IPython.core.display.HTML object>"
      ]
     },
     "metadata": {},
     "output_type": "display_data"
    },
    {
     "data": {
      "text/html": [
       "<span style=\"color:#4527A0\"><h1 style=\"font-size:18px\">Trial summary</h1></span>"
      ],
      "text/plain": [
       "<IPython.core.display.HTML object>"
      ]
     },
     "metadata": {},
     "output_type": "display_data"
    },
    {
     "data": {
      "text/html": [
       "<span style=\"color:cyan\"> |-Trial ID: 09d26c7a7703c25cc8c70fa6418954b2</span>"
      ],
      "text/plain": [
       "<IPython.core.display.HTML object>"
      ]
     },
     "metadata": {},
     "output_type": "display_data"
    },
    {
     "data": {
      "text/html": [
       "<span style=\"color:cyan\"> |-Score: 0.7958017587661743</span>"
      ],
      "text/plain": [
       "<IPython.core.display.HTML object>"
      ]
     },
     "metadata": {},
     "output_type": "display_data"
    },
    {
     "data": {
      "text/html": [
       "<span style=\"color:cyan\"> |-Best step: 0</span>"
      ],
      "text/plain": [
       "<IPython.core.display.HTML object>"
      ]
     },
     "metadata": {},
     "output_type": "display_data"
    },
    {
     "data": {
      "text/html": [
       "<span style=\"color:#7E57C2\"><h2 style=\"font-size:16px\">Hyperparameters:</h2></span>"
      ],
      "text/plain": [
       "<IPython.core.display.HTML object>"
      ]
     },
     "metadata": {},
     "output_type": "display_data"
    },
    {
     "data": {
      "text/html": [
       "<span style=\"color:cyan\"> |-activation: tanh</span>"
      ],
      "text/plain": [
       "<IPython.core.display.HTML object>"
      ]
     },
     "metadata": {},
     "output_type": "display_data"
    },
    {
     "data": {
      "text/html": [
       "<span style=\"color:blue\"> |-first_units: 80</span>"
      ],
      "text/plain": [
       "<IPython.core.display.HTML object>"
      ]
     },
     "metadata": {},
     "output_type": "display_data"
    },
    {
     "data": {
      "text/html": [
       "<span style=\"color:cyan\"> |-num_layers: 1</span>"
      ],
      "text/plain": [
       "<IPython.core.display.HTML object>"
      ]
     },
     "metadata": {},
     "output_type": "display_data"
    },
    {
     "data": {
      "text/html": [
       "<span style=\"color:blue\"> |-tuner/bracket: 1</span>"
      ],
      "text/plain": [
       "<IPython.core.display.HTML object>"
      ]
     },
     "metadata": {},
     "output_type": "display_data"
    },
    {
     "data": {
      "text/html": [
       "<span style=\"color:cyan\"> |-tuner/epochs: 5</span>"
      ],
      "text/plain": [
       "<IPython.core.display.HTML object>"
      ]
     },
     "metadata": {},
     "output_type": "display_data"
    },
    {
     "data": {
      "text/html": [
       "<span style=\"color:blue\"> |-tuner/initial_epoch: 2</span>"
      ],
      "text/plain": [
       "<IPython.core.display.HTML object>"
      ]
     },
     "metadata": {},
     "output_type": "display_data"
    },
    {
     "data": {
      "text/html": [
       "<span style=\"color:cyan\"> |-tuner/round: 1</span>"
      ],
      "text/plain": [
       "<IPython.core.display.HTML object>"
      ]
     },
     "metadata": {},
     "output_type": "display_data"
    },
    {
     "data": {
      "text/html": [
       "<span style=\"color:blue\"> |-tuner/trial_id: dd711750a09584adc1f43e52271a451d</span>"
      ],
      "text/plain": [
       "<IPython.core.display.HTML object>"
      ]
     },
     "metadata": {},
     "output_type": "display_data"
    },
    {
     "data": {
      "text/html": [
       "<span style=\"color:cyan\"> |-units_0: 30</span>"
      ],
      "text/plain": [
       "<IPython.core.display.HTML object>"
      ]
     },
     "metadata": {},
     "output_type": "display_data"
    },
    {
     "data": {
      "text/html": [
       "<span style=\"color:blue\"> |-units_1: 35</span>"
      ],
      "text/plain": [
       "<IPython.core.display.HTML object>"
      ]
     },
     "metadata": {},
     "output_type": "display_data"
    },
    {
     "data": {
      "text/html": [
       "<span style=\"color:cyan\"> |-units_2: 15</span>"
      ],
      "text/plain": [
       "<IPython.core.display.HTML object>"
      ]
     },
     "metadata": {},
     "output_type": "display_data"
    },
    {
     "data": {
      "text/html": [
       "<span style=\"color:blue\"> |-units_3: 30</span>"
      ],
      "text/plain": [
       "<IPython.core.display.HTML object>"
      ]
     },
     "metadata": {},
     "output_type": "display_data"
    },
    {
     "data": {
      "text/html": [
       "<span style=\"color:cyan\"> |-units_4: 40</span>"
      ],
      "text/plain": [
       "<IPython.core.display.HTML object>"
      ]
     },
     "metadata": {},
     "output_type": "display_data"
    },
    {
     "data": {
      "text/html": [
       "<span style=\"color:#4527A0\"><h1 style=\"font-size:18px\">Starting new trial</h1></span>"
      ],
      "text/plain": [
       "<IPython.core.display.HTML object>"
      ]
     },
     "metadata": {},
     "output_type": "display_data"
    },
    {
     "name": "stdout",
     "output_type": "stream",
     "text": [
      "Epoch 3/5\n",
      "804/804 [==============================] - ETA: 7:04 - loss: 0.6755 - accuracy: 0.68 - ETA: 4s - loss: 0.6415 - accuracy: 0.6420 - ETA: 4s - loss: 0.6228 - accuracy: 0.64 - ETA: 3s - loss: 0.6033 - accuracy: 0.66 - ETA: 3s - loss: 0.6001 - accuracy: 0.66 - ETA: 3s - loss: 0.5960 - accuracy: 0.66 - ETA: 3s - loss: 0.5864 - accuracy: 0.67 - ETA: 3s - loss: 0.5811 - accuracy: 0.68 - ETA: 4s - loss: 0.5779 - accuracy: 0.68 - ETA: 4s - loss: 0.5701 - accuracy: 0.68 - ETA: 4s - loss: 0.5646 - accuracy: 0.69 - ETA: 4s - loss: 0.5558 - accuracy: 0.70 - ETA: 4s - loss: 0.5522 - accuracy: 0.70 - ETA: 4s - loss: 0.5471 - accuracy: 0.70 - ETA: 4s - loss: 0.5456 - accuracy: 0.71 - ETA: 4s - loss: 0.5391 - accuracy: 0.71 - ETA: 3s - loss: 0.5348 - accuracy: 0.72 - ETA: 3s - loss: 0.5369 - accuracy: 0.71 - ETA: 3s - loss: 0.5355 - accuracy: 0.71 - ETA: 3s - loss: 0.5328 - accuracy: 0.72 - ETA: 3s - loss: 0.5325 - accuracy: 0.72 - ETA: 3s - loss: 0.5309 - accuracy: 0.72 - ETA: 3s - loss: 0.5282 - accuracy: 0.72 - ETA: 3s - loss: 0.5275 - accuracy: 0.72 - ETA: 3s - loss: 0.5262 - accuracy: 0.73 - ETA: 3s - loss: 0.5242 - accuracy: 0.73 - ETA: 3s - loss: 0.5233 - accuracy: 0.73 - ETA: 3s - loss: 0.5203 - accuracy: 0.73 - ETA: 3s - loss: 0.5175 - accuracy: 0.73 - ETA: 3s - loss: 0.5147 - accuracy: 0.73 - ETA: 3s - loss: 0.5118 - accuracy: 0.74 - ETA: 3s - loss: 0.5127 - accuracy: 0.74 - ETA: 3s - loss: 0.5134 - accuracy: 0.73 - ETA: 3s - loss: 0.5124 - accuracy: 0.74 - ETA: 3s - loss: 0.5119 - accuracy: 0.74 - ETA: 3s - loss: 0.5115 - accuracy: 0.74 - ETA: 3s - loss: 0.5107 - accuracy: 0.74 - ETA: 3s - loss: 0.5109 - accuracy: 0.74 - ETA: 3s - loss: 0.5104 - accuracy: 0.74 - ETA: 3s - loss: 0.5106 - accuracy: 0.74 - ETA: 3s - loss: 0.5105 - accuracy: 0.74 - ETA: 3s - loss: 0.5101 - accuracy: 0.74 - ETA: 3s - loss: 0.5098 - accuracy: 0.74 - ETA: 3s - loss: 0.5096 - accuracy: 0.74 - ETA: 3s - loss: 0.5097 - accuracy: 0.74 - ETA: 3s - loss: 0.5095 - accuracy: 0.74 - ETA: 3s - loss: 0.5093 - accuracy: 0.74 - ETA: 3s - loss: 0.5084 - accuracy: 0.74 - ETA: 3s - loss: 0.5074 - accuracy: 0.74 - ETA: 3s - loss: 0.5073 - accuracy: 0.74 - ETA: 3s - loss: 0.5072 - accuracy: 0.74 - ETA: 3s - loss: 0.5066 - accuracy: 0.74 - ETA: 3s - loss: 0.5057 - accuracy: 0.75 - ETA: 3s - loss: 0.5057 - accuracy: 0.74 - ETA: 3s - loss: 0.5054 - accuracy: 0.74 - ETA: 3s - loss: 0.5038 - accuracy: 0.75 - ETA: 3s - loss: 0.5037 - accuracy: 0.75 - ETA: 3s - loss: 0.5031 - accuracy: 0.75 - ETA: 3s - loss: 0.5018 - accuracy: 0.75 - ETA: 3s - loss: 0.5022 - accuracy: 0.75 - ETA: 3s - loss: 0.5013 - accuracy: 0.75 - ETA: 3s - loss: 0.5013 - accuracy: 0.75 - ETA: 3s - loss: 0.5017 - accuracy: 0.75 - ETA: 3s - loss: 0.5015 - accuracy: 0.75 - ETA: 3s - loss: 0.5012 - accuracy: 0.75 - ETA: 3s - loss: 0.5010 - accuracy: 0.75 - ETA: 3s - loss: 0.5006 - accuracy: 0.75 - ETA: 3s - loss: 0.5004 - accuracy: 0.75 - ETA: 3s - loss: 0.4991 - accuracy: 0.75 - ETA: 3s - loss: 0.4997 - accuracy: 0.75 - ETA: 3s - loss: 0.4989 - accuracy: 0.75 - ETA: 3s - loss: 0.4992 - accuracy: 0.75 - ETA: 3s - loss: 0.4988 - accuracy: 0.75 - ETA: 3s - loss: 0.4983 - accuracy: 0.75 - ETA: 3s - loss: 0.4979 - accuracy: 0.75 - ETA: 3s - loss: 0.4978 - accuracy: 0.75 - ETA: 2s - loss: 0.4977 - accuracy: 0.75 - ETA: 2s - loss: 0.4971 - accuracy: 0.75 - ETA: 2s - loss: 0.4970 - accuracy: 0.75 - ETA: 2s - loss: 0.4964 - accuracy: 0.75 - ETA: 2s - loss: 0.4961 - accuracy: 0.75 - ETA: 2s - loss: 0.4960 - accuracy: 0.75 - ETA: 2s - loss: 0.4957 - accuracy: 0.75 - ETA: 2s - loss: 0.4959 - accuracy: 0.75 - ETA: 2s - loss: 0.4957 - accuracy: 0.75 - ETA: 2s - loss: 0.4949 - accuracy: 0.75 - ETA: 2s - loss: 0.4945 - accuracy: 0.75 - ETA: 2s - loss: 0.4946 - accuracy: 0.75 - ETA: 2s - loss: 0.4945 - accuracy: 0.75 - ETA: 2s - loss: 0.4941 - accuracy: 0.75 - ETA: 2s - loss: 0.4937 - accuracy: 0.75 - ETA: 2s - loss: 0.4940 - accuracy: 0.75 - ETA: 2s - loss: 0.4932 - accuracy: 0.75 - ETA: 2s - loss: 0.4929 - accuracy: 0.75 - ETA: 2s - loss: 0.4929 - accuracy: 0.75 - ETA: 2s - loss: 0.4928 - accuracy: 0.75 - ETA: 2s - loss: 0.4923 - accuracy: 0.75 - ETA: 2s - loss: 0.4922 - accuracy: 0.75 - ETA: 2s - loss: 0.4931 - accuracy: 0.75 - ETA: 2s - loss: 0.4927 - accuracy: 0.75 - ETA: 2s - loss: 0.4925 - accuracy: 0.75 - ETA: 2s - loss: 0.4922 - accuracy: 0.75 - ETA: 2s - loss: 0.4923 - accuracy: 0.75 - ETA: 2s - loss: 0.4915 - accuracy: 0.75 - ETA: 1s - loss: 0.4911 - accuracy: 0.75 - ETA: 1s - loss: 0.4904 - accuracy: 0.75 - ETA: 1s - loss: 0.4900 - accuracy: 0.75 - ETA: 1s - loss: 0.4897 - accuracy: 0.75 - ETA: 1s - loss: 0.4893 - accuracy: 0.75 - ETA: 1s - loss: 0.4890 - accuracy: 0.75 - ETA: 1s - loss: 0.4893 - accuracy: 0.75 - ETA: 1s - loss: 0.4888 - accuracy: 0.75 - ETA: 1s - loss: 0.4887 - accuracy: 0.75 - ETA: 1s - loss: 0.4884 - accuracy: 0.75 - ETA: 1s - loss: 0.4886 - accuracy: 0.75 - ETA: 1s - loss: 0.4884 - accuracy: 0.75 - ETA: 1s - loss: 0.4882 - accuracy: 0.75 - ETA: 1s - loss: 0.4878 - accuracy: 0.75 - ETA: 1s - loss: 0.4877 - accuracy: 0.75 - ETA: 1s - loss: 0.4878 - accuracy: 0.75 - ETA: 1s - loss: 0.4876 - accuracy: 0.75 - ETA: 1s - loss: 0.4875 - accuracy: 0.75 - ETA: 1s - loss: 0.4878 - accuracy: 0.75 - ETA: 1s - loss: 0.4879 - accuracy: 0.75 - ETA: 1s - loss: 0.4881 - accuracy: 0.75 - ETA: 1s - loss: 0.4880 - accuracy: 0.75 - ETA: 1s - loss: 0.4878 - accuracy: 0.75 - ETA: 1s - loss: 0.4875 - accuracy: 0.75 - ETA: 1s - loss: 0.4873 - accuracy: 0.75 - ETA: 1s - loss: 0.4871 - accuracy: 0.75 - ETA: 1s - loss: 0.4867 - accuracy: 0.76 - ETA: 1s - loss: 0.4866 - accuracy: 0.76 - ETA: 1s - loss: 0.4866 - accuracy: 0.76 - ETA: 1s - loss: 0.4867 - accuracy: 0.76 - ETA: 0s - loss: 0.4868 - accuracy: 0.76 - ETA: 0s - loss: 0.4868 - accuracy: 0.76 - ETA: 0s - loss: 0.4865 - accuracy: 0.76 - ETA: 0s - loss: 0.4861 - accuracy: 0.76 - ETA: 0s - loss: 0.4855 - accuracy: 0.76 - ETA: 0s - loss: 0.4854 - accuracy: 0.76 - ETA: 0s - loss: 0.4854 - accuracy: 0.76 - ETA: 0s - loss: 0.4855 - accuracy: 0.76 - ETA: 0s - loss: 0.4852 - accuracy: 0.76 - ETA: 0s - loss: 0.4849 - accuracy: 0.76 - ETA: 0s - loss: 0.4848 - accuracy: 0.76 - ETA: 0s - loss: 0.4851 - accuracy: 0.76 - ETA: 0s - loss: 0.4850 - accuracy: 0.76 - ETA: 0s - loss: 0.4850 - accuracy: 0.76 - ETA: 0s - loss: 0.4851 - accuracy: 0.76 - ETA: 0s - loss: 0.4848 - accuracy: 0.76 - ETA: 0s - loss: 0.4848 - accuracy: 0.76 - ETA: 0s - loss: 0.4853 - accuracy: 0.76 - ETA: 0s - loss: 0.4846 - accuracy: 0.76 - ETA: 0s - loss: 0.4847 - accuracy: 0.76 - ETA: 0s - loss: 0.4846 - accuracy: 0.76 - ETA: 0s - loss: 0.4843 - accuracy: 0.76 - ETA: 0s - loss: 0.4843 - accuracy: 0.76 - ETA: 0s - loss: 0.4842 - accuracy: 0.76 - 18s 22ms/step - loss: 0.4842 - accuracy: 0.7624 - val_loss: 0.4773 - val_accuracy: 0.7956\n",
      "Epoch 4/5\n"
     ]
    },
    {
     "name": "stdout",
     "output_type": "stream",
     "text": [
      "761/804 [===========================>..] - ETA: 15s - loss: 0.1272 - accuracy: 0.968 - ETA: 15s - loss: 0.1438 - accuracy: 0.976 - ETA: 15s - loss: 0.1618 - accuracy: 0.959 - ETA: 10s - loss: 0.1718 - accuracy: 0.957 - ETA: 8s - loss: 0.1678 - accuracy: 0.955 - ETA: 8s - loss: 0.1550 - accuracy: 0.95 - ETA: 7s - loss: 0.1660 - accuracy: 0.95 - ETA: 7s - loss: 0.1602 - accuracy: 0.95 - ETA: 7s - loss: 0.1548 - accuracy: 0.95 - ETA: 7s - loss: 0.1516 - accuracy: 0.95 - ETA: 7s - loss: 0.1539 - accuracy: 0.95 - ETA: 7s - loss: 0.1509 - accuracy: 0.95 - ETA: 7s - loss: 0.1496 - accuracy: 0.95 - ETA: 7s - loss: 0.1445 - accuracy: 0.95 - ETA: 6s - loss: 0.1432 - accuracy: 0.95 - ETA: 6s - loss: 0.1404 - accuracy: 0.95 - ETA: 6s - loss: 0.1377 - accuracy: 0.96 - ETA: 7s - loss: 0.1370 - accuracy: 0.95 - ETA: 7s - loss: 0.1331 - accuracy: 0.96 - ETA: 6s - loss: 0.1316 - accuracy: 0.96 - ETA: 7s - loss: 0.1326 - accuracy: 0.96 - ETA: 7s - loss: 0.1350 - accuracy: 0.95 - ETA: 7s - loss: 0.1343 - accuracy: 0.95 - ETA: 7s - loss: 0.1327 - accuracy: 0.95 - ETA: 7s - loss: 0.1350 - accuracy: 0.95 - ETA: 6s - loss: 0.1362 - accuracy: 0.95 - ETA: 7s - loss: 0.1348 - accuracy: 0.95 - ETA: 7s - loss: 0.1343 - accuracy: 0.95 - ETA: 7s - loss: 0.1328 - accuracy: 0.95 - ETA: 6s - loss: 0.1337 - accuracy: 0.95 - ETA: 7s - loss: 0.1345 - accuracy: 0.95 - ETA: 7s - loss: 0.1326 - accuracy: 0.95 - ETA: 7s - loss: 0.1313 - accuracy: 0.95 - ETA: 7s - loss: 0.1319 - accuracy: 0.95 - ETA: 7s - loss: 0.1325 - accuracy: 0.95 - ETA: 7s - loss: 0.1333 - accuracy: 0.95 - ETA: 9s - loss: 0.1335 - accuracy: 0.95 - ETA: 9s - loss: 0.1322 - accuracy: 0.95 - ETA: 9s - loss: 0.1325 - accuracy: 0.95 - ETA: 9s - loss: 0.1316 - accuracy: 0.95 - ETA: 9s - loss: 0.1308 - accuracy: 0.95 - ETA: 9s - loss: 0.1303 - accuracy: 0.95 - ETA: 9s - loss: 0.1293 - accuracy: 0.95 - ETA: 9s - loss: 0.1283 - accuracy: 0.95 - ETA: 9s - loss: 0.1296 - accuracy: 0.95 - ETA: 13s - loss: 0.1298 - accuracy: 0.958 - ETA: 13s - loss: 0.1299 - accuracy: 0.958 - ETA: 13s - loss: 0.1292 - accuracy: 0.958 - ETA: 13s - loss: 0.1289 - accuracy: 0.958 - ETA: 13s - loss: 0.1280 - accuracy: 0.958 - ETA: 12s - loss: 0.1273 - accuracy: 0.959 - ETA: 12s - loss: 0.1255 - accuracy: 0.959 - ETA: 12s - loss: 0.1246 - accuracy: 0.960 - ETA: 12s - loss: 0.1245 - accuracy: 0.960 - ETA: 12s - loss: 0.1276 - accuracy: 0.959 - ETA: 12s - loss: 0.1267 - accuracy: 0.959 - ETA: 11s - loss: 0.1263 - accuracy: 0.959 - ETA: 11s - loss: 0.1272 - accuracy: 0.959 - ETA: 13s - loss: 0.1273 - accuracy: 0.959 - ETA: 12s - loss: 0.1264 - accuracy: 0.959 - ETA: 12s - loss: 0.1261 - accuracy: 0.959 - ETA: 12s - loss: 0.1260 - accuracy: 0.959 - ETA: 12s - loss: 0.1268 - accuracy: 0.959 - ETA: 12s - loss: 0.1261 - accuracy: 0.959 - ETA: 11s - loss: 0.1267 - accuracy: 0.958 - ETA: 11s - loss: 0.1271 - accuracy: 0.958 - ETA: 11s - loss: 0.1262 - accuracy: 0.959 - ETA: 11s - loss: 0.1255 - accuracy: 0.959 - ETA: 11s - loss: 0.1254 - accuracy: 0.959 - ETA: 11s - loss: 0.1253 - accuracy: 0.959 - ETA: 10s - loss: 0.1245 - accuracy: 0.959 - ETA: 10s - loss: 0.1254 - accuracy: 0.959 - ETA: 10s - loss: 0.1265 - accuracy: 0.958 - ETA: 10s - loss: 0.1257 - accuracy: 0.959 - ETA: 10s - loss: 0.1256 - accuracy: 0.959 - ETA: 10s - loss: 0.1255 - accuracy: 0.958 - ETA: 9s - loss: 0.1253 - accuracy: 0.958 - ETA: 9s - loss: 0.1258 - accuracy: 0.95 - ETA: 9s - loss: 0.1257 - accuracy: 0.95 - ETA: 9s - loss: 0.1262 - accuracy: 0.95 - ETA: 9s - loss: 0.1260 - accuracy: 0.95 - ETA: 9s - loss: 0.1251 - accuracy: 0.95 - ETA: 8s - loss: 0.1254 - accuracy: 0.95 - ETA: 8s - loss: 0.1250 - accuracy: 0.95 - ETA: 8s - loss: 0.1256 - accuracy: 0.95 - ETA: 8s - loss: 0.1249 - accuracy: 0.95 - ETA: 8s - loss: 0.1255 - accuracy: 0.95 - ETA: 8s - loss: 0.1253 - accuracy: 0.95 - ETA: 8s - loss: 0.1255 - accuracy: 0.95 - ETA: 8s - loss: 0.1257 - accuracy: 0.95 - ETA: 8s - loss: 0.1253 - accuracy: 0.95 - ETA: 8s - loss: 0.1247 - accuracy: 0.95 - ETA: 8s - loss: 0.1250 - accuracy: 0.95 - ETA: 7s - loss: 0.1249 - accuracy: 0.95 - ETA: 7s - loss: 0.1244 - accuracy: 0.95 - ETA: 7s - loss: 0.1243 - accuracy: 0.95 - ETA: 7s - loss: 0.1237 - accuracy: 0.95 - ETA: 7s - loss: 0.1244 - accuracy: 0.95 - ETA: 7s - loss: 0.1240 - accuracy: 0.95 - ETA: 7s - loss: 0.1240 - accuracy: 0.95 - ETA: 7s - loss: 0.1238 - accuracy: 0.95 - ETA: 6s - loss: 0.1234 - accuracy: 0.95 - ETA: 6s - loss: 0.1235 - accuracy: 0.95 - ETA: 6s - loss: 0.1235 - accuracy: 0.95 - ETA: 6s - loss: 0.1238 - accuracy: 0.95 - ETA: 6s - loss: 0.1239 - accuracy: 0.95 - ETA: 6s - loss: 0.1240 - accuracy: 0.95 - ETA: 6s - loss: 0.1236 - accuracy: 0.95 - ETA: 6s - loss: 0.1236 - accuracy: 0.95 - ETA: 6s - loss: 0.1243 - accuracy: 0.95 - ETA: 6s - loss: 0.1249 - accuracy: 0.95 - ETA: 5s - loss: 0.1246 - accuracy: 0.95 - ETA: 5s - loss: 0.1248 - accuracy: 0.95 - ETA: 5s - loss: 0.1245 - accuracy: 0.95 - ETA: 5s - loss: 0.1241 - accuracy: 0.95 - ETA: 5s - loss: 0.1238 - accuracy: 0.95 - ETA: 5s - loss: 0.1244 - accuracy: 0.95 - ETA: 5s - loss: 0.1247 - accuracy: 0.95 - ETA: 5s - loss: 0.1260 - accuracy: 0.95 - ETA: 5s - loss: 0.1266 - accuracy: 0.95 - ETA: 5s - loss: 0.1263 - accuracy: 0.95 - ETA: 5s - loss: 0.1267 - accuracy: 0.95 - ETA: 5s - loss: 0.1274 - accuracy: 0.95 - ETA: 4s - loss: 0.1269 - accuracy: 0.95 - ETA: 4s - loss: 0.1268 - accuracy: 0.95 - ETA: 4s - loss: 0.1270 - accuracy: 0.95 - ETA: 4s - loss: 0.1274 - accuracy: 0.95 - ETA: 4s - loss: 0.1271 - accuracy: 0.95 - ETA: 4s - loss: 0.1270 - accuracy: 0.95 - ETA: 4s - loss: 0.1269 - accuracy: 0.95 - ETA: 4s - loss: 0.1265 - accuracy: 0.95 - ETA: 4s - loss: 0.1269 - accuracy: 0.95 - ETA: 4s - loss: 0.1272 - accuracy: 0.95 - ETA: 4s - loss: 0.1268 - accuracy: 0.95 - ETA: 4s - loss: 0.1267 - accuracy: 0.95 - ETA: 4s - loss: 0.1271 - accuracy: 0.95 - ETA: 4s - loss: 0.1271 - accuracy: 0.95 - ETA: 4s - loss: 0.1270 - accuracy: 0.95 - ETA: 3s - loss: 0.1269 - accuracy: 0.95 - ETA: 3s - loss: 0.1269 - accuracy: 0.95 - ETA: 3s - loss: 0.1267 - accuracy: 0.95 - ETA: 3s - loss: 0.1266 - accuracy: 0.95 - ETA: 3s - loss: 0.1265 - accuracy: 0.95 - ETA: 3s - loss: 0.1266 - accuracy: 0.95 - ETA: 3s - loss: 0.1266 - accuracy: 0.95 - ETA: 3s - loss: 0.1267 - accuracy: 0.95 - ETA: 3s - loss: 0.1265 - accuracy: 0.95 - ETA: 3s - loss: 0.1263 - accuracy: 0.95 - ETA: 3s - loss: 0.1259 - accuracy: 0.95 - ETA: 3s - loss: 0.1256 - accuracy: 0.95 - ETA: 3s - loss: 0.1256 - accuracy: 0.95 - ETA: 3s - loss: 0.1258 - accuracy: 0.95 - ETA: 3s - loss: 0.1259 - accuracy: 0.95 - ETA: 3s - loss: 0.1258 - accuracy: 0.95 - ETA: 3s - loss: 0.1259 - accuracy: 0.95 - ETA: 3s - loss: 0.1256 - accuracy: 0.95 - ETA: 2s - loss: 0.1260 - accuracy: 0.95 - ETA: 2s - loss: 0.1257 - accuracy: 0.95 - ETA: 2s - loss: 0.1261 - accuracy: 0.95 - ETA: 2s - loss: 0.1259 - accuracy: 0.95 - ETA: 2s - loss: 0.1256 - accuracy: 0.95 - ETA: 2s - loss: 0.1253 - accuracy: 0.95 - ETA: 2s - loss: 0.1252 - accuracy: 0.95 - ETA: 2s - loss: 0.1251 - accuracy: 0.95 - ETA: 2s - loss: 0.1249 - accuracy: 0.95 - ETA: 2s - loss: 0.1248 - accuracy: 0.95 - ETA: 2s - loss: 0.1244 - accuracy: 0.95 - ETA: 2s - loss: 0.1244 - accuracy: 0.95 - ETA: 2s - loss: 0.1243 - accuracy: 0.95 - ETA: 2s - loss: 0.1246 - accuracy: 0.95 - ETA: 2s - loss: 0.1243 - accuracy: 0.95 - ETA: 2s - loss: 0.1244 - accuracy: 0.95 - ETA: 2s - loss: 0.1241 - accuracy: 0.95 - ETA: 2s - loss: 0.1244 - accuracy: 0.95 - ETA: 2s - loss: 0.1243 - accuracy: 0.95 - ETA: 1s - loss: 0.1243 - accuracy: 0.95 - ETA: 1s - loss: 0.1241 - accuracy: 0.95 - ETA: 1s - loss: 0.1241 - accuracy: 0.95 - ETA: 1s - loss: 0.1239 - accuracy: 0.95 - ETA: 1s - loss: 0.1240 - accuracy: 0.95 - ETA: 1s - loss: 0.1242 - accuracy: 0.95 - ETA: 1s - loss: 0.1244 - accuracy: 0.95 - ETA: 1s - loss: 0.1242 - accuracy: 0.95 - ETA: 1s - loss: 0.1240 - accuracy: 0.95 - ETA: 1s - loss: 0.1245 - accuracy: 0.95 - ETA: 1s - loss: 0.1244 - accuracy: 0.95 - ETA: 1s - loss: 0.1248 - accuracy: 0.95 - ETA: 1s - loss: 0.1246 - accuracy: 0.95 - ETA: 1s - loss: 0.1244 - accuracy: 0.95 - ETA: 1s - loss: 0.1242 - accuracy: 0.95 - ETA: 0s - loss: 0.1244 - accuracy: 0.95 - ETA: 0s - loss: 0.1243 - accuracy: 0.95 - ETA: 0s - loss: 0.1244 - accuracy: 0.9582"
     ]
    },
    {
     "name": "stdout",
     "output_type": "stream",
     "text": [
      "804/804 [==============================] - ETA: 0s - loss: 0.1240 - accuracy: 0.95 - ETA: 0s - loss: 0.1241 - accuracy: 0.95 - ETA: 0s - loss: 0.1241 - accuracy: 0.95 - ETA: 0s - loss: 0.1244 - accuracy: 0.95 - ETA: 0s - loss: 0.1245 - accuracy: 0.95 - ETA: 0s - loss: 0.1247 - accuracy: 0.95 - ETA: 0s - loss: 0.1248 - accuracy: 0.95 - ETA: 0s - loss: 0.1250 - accuracy: 0.95 - ETA: 0s - loss: 0.1252 - accuracy: 0.95 - 17s 21ms/step - loss: 0.1252 - accuracy: 0.9579 - val_loss: 0.4974 - val_accuracy: 0.7289\n",
      "Epoch 5/5\n"
     ]
    },
    {
     "name": "stdout",
     "output_type": "stream",
     "text": [
      "709/804 [=========================>....] - ETA: 13s - loss: 0.1078 - accuracy: 0.937 - ETA: 6s - loss: 0.0695 - accuracy: 0.968 - ETA: 7s - loss: 0.0708 - accuracy: 0.97 - ETA: 7s - loss: 0.0777 - accuracy: 0.96 - ETA: 7s - loss: 0.0685 - accuracy: 0.97 - ETA: 7s - loss: 0.0720 - accuracy: 0.97 - ETA: 7s - loss: 0.0802 - accuracy: 0.97 - ETA: 7s - loss: 0.0913 - accuracy: 0.96 - ETA: 7s - loss: 0.0937 - accuracy: 0.96 - ETA: 7s - loss: 0.0910 - accuracy: 0.96 - ETA: 7s - loss: 0.0875 - accuracy: 0.96 - ETA: 7s - loss: 0.0902 - accuracy: 0.96 - ETA: 7s - loss: 0.0933 - accuracy: 0.96 - ETA: 7s - loss: 0.0938 - accuracy: 0.96 - ETA: 7s - loss: 0.0966 - accuracy: 0.96 - ETA: 7s - loss: 0.0962 - accuracy: 0.96 - ETA: 7s - loss: 0.0946 - accuracy: 0.96 - ETA: 7s - loss: 0.0976 - accuracy: 0.96 - ETA: 7s - loss: 0.0996 - accuracy: 0.96 - ETA: 7s - loss: 0.1014 - accuracy: 0.96 - ETA: 7s - loss: 0.0995 - accuracy: 0.96 - ETA: 7s - loss: 0.0984 - accuracy: 0.96 - ETA: 7s - loss: 0.0972 - accuracy: 0.96 - ETA: 6s - loss: 0.0989 - accuracy: 0.96 - ETA: 6s - loss: 0.0980 - accuracy: 0.96 - ETA: 6s - loss: 0.0972 - accuracy: 0.96 - ETA: 6s - loss: 0.0985 - accuracy: 0.96 - ETA: 6s - loss: 0.1001 - accuracy: 0.96 - ETA: 6s - loss: 0.1012 - accuracy: 0.96 - ETA: 6s - loss: 0.1019 - accuracy: 0.96 - ETA: 6s - loss: 0.1020 - accuracy: 0.96 - ETA: 6s - loss: 0.1017 - accuracy: 0.96 - ETA: 6s - loss: 0.1010 - accuracy: 0.96 - ETA: 6s - loss: 0.1006 - accuracy: 0.96 - ETA: 6s - loss: 0.1006 - accuracy: 0.96 - ETA: 6s - loss: 0.1017 - accuracy: 0.96 - ETA: 6s - loss: 0.1015 - accuracy: 0.96 - ETA: 6s - loss: 0.1018 - accuracy: 0.96 - ETA: 6s - loss: 0.1018 - accuracy: 0.96 - ETA: 6s - loss: 0.1016 - accuracy: 0.96 - ETA: 6s - loss: 0.1019 - accuracy: 0.96 - ETA: 6s - loss: 0.1025 - accuracy: 0.96 - ETA: 6s - loss: 0.1020 - accuracy: 0.96 - ETA: 7s - loss: 0.1018 - accuracy: 0.96 - ETA: 7s - loss: 0.1014 - accuracy: 0.96 - ETA: 7s - loss: 0.1012 - accuracy: 0.96 - ETA: 7s - loss: 0.1016 - accuracy: 0.96 - ETA: 7s - loss: 0.1008 - accuracy: 0.96 - ETA: 7s - loss: 0.1012 - accuracy: 0.96 - ETA: 7s - loss: 0.1008 - accuracy: 0.96 - ETA: 7s - loss: 0.1004 - accuracy: 0.96 - ETA: 7s - loss: 0.1000 - accuracy: 0.96 - ETA: 7s - loss: 0.0994 - accuracy: 0.96 - ETA: 7s - loss: 0.0992 - accuracy: 0.96 - ETA: 7s - loss: 0.0989 - accuracy: 0.96 - ETA: 7s - loss: 0.0987 - accuracy: 0.96 - ETA: 7s - loss: 0.0984 - accuracy: 0.96 - ETA: 8s - loss: 0.0985 - accuracy: 0.96 - ETA: 8s - loss: 0.0982 - accuracy: 0.96 - ETA: 8s - loss: 0.0989 - accuracy: 0.96 - ETA: 7s - loss: 0.0986 - accuracy: 0.96 - ETA: 7s - loss: 0.0975 - accuracy: 0.96 - ETA: 7s - loss: 0.0985 - accuracy: 0.96 - ETA: 7s - loss: 0.0981 - accuracy: 0.96 - ETA: 7s - loss: 0.0981 - accuracy: 0.96 - ETA: 7s - loss: 0.0991 - accuracy: 0.96 - ETA: 7s - loss: 0.0999 - accuracy: 0.96 - ETA: 7s - loss: 0.0997 - accuracy: 0.96 - ETA: 7s - loss: 0.0997 - accuracy: 0.96 - ETA: 7s - loss: 0.0991 - accuracy: 0.96 - ETA: 7s - loss: 0.0990 - accuracy: 0.96 - ETA: 7s - loss: 0.0989 - accuracy: 0.96 - ETA: 7s - loss: 0.0995 - accuracy: 0.96 - ETA: 7s - loss: 0.0991 - accuracy: 0.96 - ETA: 7s - loss: 0.0992 - accuracy: 0.96 - ETA: 7s - loss: 0.0994 - accuracy: 0.96 - ETA: 7s - loss: 0.0995 - accuracy: 0.96 - ETA: 7s - loss: 0.0992 - accuracy: 0.96 - ETA: 8s - loss: 0.0993 - accuracy: 0.96 - ETA: 8s - loss: 0.0993 - accuracy: 0.96 - ETA: 8s - loss: 0.0999 - accuracy: 0.96 - ETA: 8s - loss: 0.1003 - accuracy: 0.96 - ETA: 8s - loss: 0.1004 - accuracy: 0.96 - ETA: 8s - loss: 0.1004 - accuracy: 0.96 - ETA: 8s - loss: 0.1003 - accuracy: 0.96 - ETA: 8s - loss: 0.1004 - accuracy: 0.96 - ETA: 8s - loss: 0.0999 - accuracy: 0.96 - ETA: 8s - loss: 0.1009 - accuracy: 0.95 - ETA: 8s - loss: 0.1016 - accuracy: 0.95 - ETA: 7s - loss: 0.1016 - accuracy: 0.95 - ETA: 7s - loss: 0.1014 - accuracy: 0.96 - ETA: 8s - loss: 0.1013 - accuracy: 0.96 - ETA: 7s - loss: 0.1017 - accuracy: 0.96 - ETA: 7s - loss: 0.1013 - accuracy: 0.96 - ETA: 7s - loss: 0.1011 - accuracy: 0.96 - ETA: 7s - loss: 0.1009 - accuracy: 0.96 - ETA: 7s - loss: 0.1007 - accuracy: 0.96 - ETA: 7s - loss: 0.1007 - accuracy: 0.96 - ETA: 7s - loss: 0.1011 - accuracy: 0.95 - ETA: 7s - loss: 0.1013 - accuracy: 0.95 - ETA: 7s - loss: 0.1011 - accuracy: 0.95 - ETA: 7s - loss: 0.1008 - accuracy: 0.96 - ETA: 7s - loss: 0.1011 - accuracy: 0.95 - ETA: 7s - loss: 0.1013 - accuracy: 0.95 - ETA: 7s - loss: 0.1014 - accuracy: 0.95 - ETA: 7s - loss: 0.1017 - accuracy: 0.95 - ETA: 7s - loss: 0.1009 - accuracy: 0.95 - ETA: 7s - loss: 0.1012 - accuracy: 0.95 - ETA: 6s - loss: 0.1008 - accuracy: 0.95 - ETA: 6s - loss: 0.1010 - accuracy: 0.95 - ETA: 6s - loss: 0.1013 - accuracy: 0.95 - ETA: 6s - loss: 0.1011 - accuracy: 0.95 - ETA: 6s - loss: 0.1010 - accuracy: 0.95 - ETA: 6s - loss: 0.1009 - accuracy: 0.95 - ETA: 6s - loss: 0.1007 - accuracy: 0.95 - ETA: 6s - loss: 0.1004 - accuracy: 0.95 - ETA: 6s - loss: 0.0998 - accuracy: 0.95 - ETA: 6s - loss: 0.0999 - accuracy: 0.95 - ETA: 5s - loss: 0.0999 - accuracy: 0.95 - ETA: 5s - loss: 0.1000 - accuracy: 0.95 - ETA: 5s - loss: 0.0997 - accuracy: 0.95 - ETA: 5s - loss: 0.0996 - accuracy: 0.95 - ETA: 5s - loss: 0.0996 - accuracy: 0.95 - ETA: 5s - loss: 0.0997 - accuracy: 0.95 - ETA: 5s - loss: 0.0999 - accuracy: 0.95 - ETA: 5s - loss: 0.1001 - accuracy: 0.95 - ETA: 5s - loss: 0.1003 - accuracy: 0.95 - ETA: 5s - loss: 0.1000 - accuracy: 0.95 - ETA: 5s - loss: 0.1000 - accuracy: 0.95 - ETA: 5s - loss: 0.1001 - accuracy: 0.95 - ETA: 5s - loss: 0.1005 - accuracy: 0.95 - ETA: 5s - loss: 0.1006 - accuracy: 0.95 - ETA: 5s - loss: 0.1004 - accuracy: 0.95 - ETA: 5s - loss: 0.1005 - accuracy: 0.95 - ETA: 5s - loss: 0.1002 - accuracy: 0.95 - ETA: 5s - loss: 0.0999 - accuracy: 0.95 - ETA: 5s - loss: 0.1001 - accuracy: 0.95 - ETA: 5s - loss: 0.1000 - accuracy: 0.95 - ETA: 5s - loss: 0.0997 - accuracy: 0.95 - ETA: 4s - loss: 0.0992 - accuracy: 0.95 - ETA: 4s - loss: 0.0992 - accuracy: 0.95 - ETA: 4s - loss: 0.0991 - accuracy: 0.95 - ETA: 4s - loss: 0.0996 - accuracy: 0.95 - ETA: 4s - loss: 0.0995 - accuracy: 0.95 - ETA: 4s - loss: 0.0994 - accuracy: 0.95 - ETA: 4s - loss: 0.0993 - accuracy: 0.95 - ETA: 4s - loss: 0.0991 - accuracy: 0.96 - ETA: 4s - loss: 0.0991 - accuracy: 0.96 - ETA: 4s - loss: 0.0988 - accuracy: 0.96 - ETA: 4s - loss: 0.0989 - accuracy: 0.96 - ETA: 4s - loss: 0.0987 - accuracy: 0.96 - ETA: 4s - loss: 0.0986 - accuracy: 0.96 - ETA: 3s - loss: 0.0987 - accuracy: 0.96 - ETA: 3s - loss: 0.0987 - accuracy: 0.96 - ETA: 3s - loss: 0.0984 - accuracy: 0.96 - ETA: 3s - loss: 0.0982 - accuracy: 0.96 - ETA: 3s - loss: 0.0980 - accuracy: 0.96 - ETA: 3s - loss: 0.0977 - accuracy: 0.96 - ETA: 3s - loss: 0.0980 - accuracy: 0.96 - ETA: 3s - loss: 0.0979 - accuracy: 0.96 - ETA: 3s - loss: 0.0978 - accuracy: 0.96 - ETA: 3s - loss: 0.0976 - accuracy: 0.96 - ETA: 3s - loss: 0.0978 - accuracy: 0.96 - ETA: 3s - loss: 0.0978 - accuracy: 0.96 - ETA: 3s - loss: 0.0977 - accuracy: 0.96 - ETA: 3s - loss: 0.0978 - accuracy: 0.96 - ETA: 3s - loss: 0.0981 - accuracy: 0.96 - ETA: 3s - loss: 0.0982 - accuracy: 0.96 - ETA: 3s - loss: 0.0981 - accuracy: 0.96 - ETA: 3s - loss: 0.0979 - accuracy: 0.96 - ETA: 3s - loss: 0.0978 - accuracy: 0.96 - ETA: 2s - loss: 0.0977 - accuracy: 0.96 - ETA: 2s - loss: 0.0976 - accuracy: 0.96 - ETA: 2s - loss: 0.0977 - accuracy: 0.96 - ETA: 2s - loss: 0.0977 - accuracy: 0.96 - ETA: 2s - loss: 0.0979 - accuracy: 0.96 - ETA: 2s - loss: 0.0979 - accuracy: 0.96 - ETA: 2s - loss: 0.0981 - accuracy: 0.96 - ETA: 2s - loss: 0.0979 - accuracy: 0.96 - ETA: 2s - loss: 0.0981 - accuracy: 0.96 - ETA: 2s - loss: 0.0978 - accuracy: 0.96 - ETA: 2s - loss: 0.0980 - accuracy: 0.96 - ETA: 2s - loss: 0.0980 - accuracy: 0.96 - ETA: 2s - loss: 0.0985 - accuracy: 0.96 - ETA: 2s - loss: 0.0985 - accuracy: 0.96 - ETA: 2s - loss: 0.0987 - accuracy: 0.96 - ETA: 2s - loss: 0.0986 - accuracy: 0.96 - ETA: 2s - loss: 0.0986 - accuracy: 0.96 - ETA: 1s - loss: 0.0984 - accuracy: 0.96 - ETA: 1s - loss: 0.0986 - accuracy: 0.96 - ETA: 1s - loss: 0.0985 - accuracy: 0.96 - ETA: 1s - loss: 0.0985 - accuracy: 0.96 - ETA: 1s - loss: 0.0986 - accuracy: 0.96 - ETA: 1s - loss: 0.0989 - accuracy: 0.9603"
     ]
    },
    {
     "name": "stdout",
     "output_type": "stream",
     "text": [
      "804/804 [==============================] - ETA: 1s - loss: 0.0989 - accuracy: 0.96 - ETA: 1s - loss: 0.0989 - accuracy: 0.96 - ETA: 1s - loss: 0.0988 - accuracy: 0.96 - ETA: 1s - loss: 0.0988 - accuracy: 0.96 - ETA: 1s - loss: 0.0987 - accuracy: 0.96 - ETA: 1s - loss: 0.0985 - accuracy: 0.96 - ETA: 1s - loss: 0.0987 - accuracy: 0.96 - ETA: 1s - loss: 0.0990 - accuracy: 0.96 - ETA: 1s - loss: 0.0990 - accuracy: 0.96 - ETA: 1s - loss: 0.0990 - accuracy: 0.96 - ETA: 1s - loss: 0.0988 - accuracy: 0.96 - ETA: 1s - loss: 0.0988 - accuracy: 0.96 - ETA: 1s - loss: 0.0989 - accuracy: 0.96 - ETA: 1s - loss: 0.0987 - accuracy: 0.96 - ETA: 0s - loss: 0.0991 - accuracy: 0.96 - ETA: 0s - loss: 0.0991 - accuracy: 0.96 - ETA: 0s - loss: 0.0991 - accuracy: 0.96 - ETA: 0s - loss: 0.0989 - accuracy: 0.96 - ETA: 0s - loss: 0.0987 - accuracy: 0.96 - ETA: 0s - loss: 0.0987 - accuracy: 0.96 - ETA: 0s - loss: 0.0987 - accuracy: 0.96 - ETA: 0s - loss: 0.0988 - accuracy: 0.96 - ETA: 0s - loss: 0.0988 - accuracy: 0.96 - ETA: 0s - loss: 0.0985 - accuracy: 0.96 - ETA: 0s - loss: 0.0983 - accuracy: 0.96 - ETA: 0s - loss: 0.0982 - accuracy: 0.96 - ETA: 0s - loss: 0.0982 - accuracy: 0.96 - ETA: 0s - loss: 0.0982 - accuracy: 0.96 - ETA: 0s - loss: 0.0983 - accuracy: 0.96 - ETA: 0s - loss: 0.0982 - accuracy: 0.96 - ETA: 0s - loss: 0.0982 - accuracy: 0.96 - ETA: 0s - loss: 0.0981 - accuracy: 0.96 - 16s 20ms/step - loss: 0.0981 - accuracy: 0.9607 - val_loss: 0.4708 - val_accuracy: 0.7757\n"
     ]
    },
    {
     "data": {
      "text/html": [
       "<span style=\"color:#4527A0\"><h1 style=\"font-size:18px\">Trial complete</h1></span>"
      ],
      "text/plain": [
       "<IPython.core.display.HTML object>"
      ]
     },
     "metadata": {},
     "output_type": "display_data"
    },
    {
     "data": {
      "text/html": [
       "<span style=\"color:#4527A0\"><h1 style=\"font-size:18px\">Trial summary</h1></span>"
      ],
      "text/plain": [
       "<IPython.core.display.HTML object>"
      ]
     },
     "metadata": {},
     "output_type": "display_data"
    },
    {
     "data": {
      "text/html": [
       "<span style=\"color:cyan\"> |-Trial ID: 4621e49f462772af6fd34fdc33f92825</span>"
      ],
      "text/plain": [
       "<IPython.core.display.HTML object>"
      ]
     },
     "metadata": {},
     "output_type": "display_data"
    },
    {
     "data": {
      "text/html": [
       "<span style=\"color:cyan\"> |-Score: 0.7955685257911682</span>"
      ],
      "text/plain": [
       "<IPython.core.display.HTML object>"
      ]
     },
     "metadata": {},
     "output_type": "display_data"
    },
    {
     "data": {
      "text/html": [
       "<span style=\"color:cyan\"> |-Best step: 0</span>"
      ],
      "text/plain": [
       "<IPython.core.display.HTML object>"
      ]
     },
     "metadata": {},
     "output_type": "display_data"
    },
    {
     "data": {
      "text/html": [
       "<span style=\"color:#7E57C2\"><h2 style=\"font-size:16px\">Hyperparameters:</h2></span>"
      ],
      "text/plain": [
       "<IPython.core.display.HTML object>"
      ]
     },
     "metadata": {},
     "output_type": "display_data"
    },
    {
     "data": {
      "text/html": [
       "<span style=\"color:cyan\"> |-activation: tanh</span>"
      ],
      "text/plain": [
       "<IPython.core.display.HTML object>"
      ]
     },
     "metadata": {},
     "output_type": "display_data"
    },
    {
     "data": {
      "text/html": [
       "<span style=\"color:blue\"> |-first_units: 75</span>"
      ],
      "text/plain": [
       "<IPython.core.display.HTML object>"
      ]
     },
     "metadata": {},
     "output_type": "display_data"
    },
    {
     "data": {
      "text/html": [
       "<span style=\"color:cyan\"> |-num_layers: 3</span>"
      ],
      "text/plain": [
       "<IPython.core.display.HTML object>"
      ]
     },
     "metadata": {},
     "output_type": "display_data"
    },
    {
     "data": {
      "text/html": [
       "<span style=\"color:blue\"> |-tuner/bracket: 1</span>"
      ],
      "text/plain": [
       "<IPython.core.display.HTML object>"
      ]
     },
     "metadata": {},
     "output_type": "display_data"
    },
    {
     "data": {
      "text/html": [
       "<span style=\"color:cyan\"> |-tuner/epochs: 5</span>"
      ],
      "text/plain": [
       "<IPython.core.display.HTML object>"
      ]
     },
     "metadata": {},
     "output_type": "display_data"
    },
    {
     "data": {
      "text/html": [
       "<span style=\"color:blue\"> |-tuner/initial_epoch: 2</span>"
      ],
      "text/plain": [
       "<IPython.core.display.HTML object>"
      ]
     },
     "metadata": {},
     "output_type": "display_data"
    },
    {
     "data": {
      "text/html": [
       "<span style=\"color:cyan\"> |-tuner/round: 1</span>"
      ],
      "text/plain": [
       "<IPython.core.display.HTML object>"
      ]
     },
     "metadata": {},
     "output_type": "display_data"
    },
    {
     "data": {
      "text/html": [
       "<span style=\"color:blue\"> |-tuner/trial_id: 0123fdbf9d109dde9d690c9796410d12</span>"
      ],
      "text/plain": [
       "<IPython.core.display.HTML object>"
      ]
     },
     "metadata": {},
     "output_type": "display_data"
    },
    {
     "data": {
      "text/html": [
       "<span style=\"color:cyan\"> |-units_0: 45</span>"
      ],
      "text/plain": [
       "<IPython.core.display.HTML object>"
      ]
     },
     "metadata": {},
     "output_type": "display_data"
    },
    {
     "data": {
      "text/html": [
       "<span style=\"color:blue\"> |-units_1: 40</span>"
      ],
      "text/plain": [
       "<IPython.core.display.HTML object>"
      ]
     },
     "metadata": {},
     "output_type": "display_data"
    },
    {
     "data": {
      "text/html": [
       "<span style=\"color:cyan\"> |-units_2: 30</span>"
      ],
      "text/plain": [
       "<IPython.core.display.HTML object>"
      ]
     },
     "metadata": {},
     "output_type": "display_data"
    },
    {
     "data": {
      "text/html": [
       "<span style=\"color:blue\"> |-units_3: 50</span>"
      ],
      "text/plain": [
       "<IPython.core.display.HTML object>"
      ]
     },
     "metadata": {},
     "output_type": "display_data"
    },
    {
     "data": {
      "text/html": [
       "<span style=\"color:cyan\"> |-units_4: 45</span>"
      ],
      "text/plain": [
       "<IPython.core.display.HTML object>"
      ]
     },
     "metadata": {},
     "output_type": "display_data"
    },
    {
     "data": {
      "text/html": [
       "<span style=\"color:#4527A0\"><h1 style=\"font-size:18px\">Starting new trial</h1></span>"
      ],
      "text/plain": [
       "<IPython.core.display.HTML object>"
      ]
     },
     "metadata": {},
     "output_type": "display_data"
    },
    {
     "name": "stdout",
     "output_type": "stream",
     "text": [
      "Epoch 1/5\n"
     ]
    },
    {
     "name": "stdout",
     "output_type": "stream",
     "text": [
      "746/804 [==========================>...] - ETA: 10:17 - loss: 0.7161 - accuracy: 0.531 - ETA: 5s - loss: 0.6543 - accuracy: 0.5938  - ETA: 5s - loss: 0.6527 - accuracy: 0.60 - ETA: 7s - loss: 0.6522 - accuracy: 0.60 - ETA: 7s - loss: 0.6371 - accuracy: 0.61 - ETA: 7s - loss: 0.6262 - accuracy: 0.63 - ETA: 7s - loss: 0.6201 - accuracy: 0.64 - ETA: 7s - loss: 0.6175 - accuracy: 0.64 - ETA: 7s - loss: 0.6126 - accuracy: 0.64 - ETA: 7s - loss: 0.6101 - accuracy: 0.64 - ETA: 7s - loss: 0.6078 - accuracy: 0.65 - ETA: 8s - loss: 0.6037 - accuracy: 0.65 - ETA: 8s - loss: 0.5992 - accuracy: 0.65 - ETA: 8s - loss: 0.5958 - accuracy: 0.66 - ETA: 8s - loss: 0.5943 - accuracy: 0.66 - ETA: 8s - loss: 0.5880 - accuracy: 0.67 - ETA: 9s - loss: 0.5847 - accuracy: 0.67 - ETA: 9s - loss: 0.5814 - accuracy: 0.67 - ETA: 8s - loss: 0.5728 - accuracy: 0.68 - ETA: 9s - loss: 0.5709 - accuracy: 0.68 - ETA: 9s - loss: 0.5698 - accuracy: 0.68 - ETA: 9s - loss: 0.5677 - accuracy: 0.68 - ETA: 9s - loss: 0.5653 - accuracy: 0.68 - ETA: 9s - loss: 0.5625 - accuracy: 0.69 - ETA: 9s - loss: 0.5598 - accuracy: 0.69 - ETA: 8s - loss: 0.5598 - accuracy: 0.69 - ETA: 8s - loss: 0.5595 - accuracy: 0.69 - ETA: 8s - loss: 0.5567 - accuracy: 0.69 - ETA: 8s - loss: 0.5532 - accuracy: 0.69 - ETA: 8s - loss: 0.5500 - accuracy: 0.70 - ETA: 8s - loss: 0.5494 - accuracy: 0.70 - ETA: 8s - loss: 0.5465 - accuracy: 0.70 - ETA: 8s - loss: 0.5449 - accuracy: 0.70 - ETA: 8s - loss: 0.5444 - accuracy: 0.70 - ETA: 8s - loss: 0.5437 - accuracy: 0.70 - ETA: 8s - loss: 0.5412 - accuracy: 0.70 - ETA: 8s - loss: 0.5389 - accuracy: 0.71 - ETA: 8s - loss: 0.5331 - accuracy: 0.71 - ETA: 8s - loss: 0.5307 - accuracy: 0.71 - ETA: 8s - loss: 0.5297 - accuracy: 0.71 - ETA: 8s - loss: 0.5270 - accuracy: 0.72 - ETA: 7s - loss: 0.5251 - accuracy: 0.72 - ETA: 7s - loss: 0.5249 - accuracy: 0.72 - ETA: 7s - loss: 0.5228 - accuracy: 0.72 - ETA: 7s - loss: 0.5225 - accuracy: 0.72 - ETA: 7s - loss: 0.5223 - accuracy: 0.72 - ETA: 7s - loss: 0.5231 - accuracy: 0.72 - ETA: 7s - loss: 0.5238 - accuracy: 0.72 - ETA: 7s - loss: 0.5228 - accuracy: 0.72 - ETA: 7s - loss: 0.5220 - accuracy: 0.72 - ETA: 7s - loss: 0.5212 - accuracy: 0.72 - ETA: 7s - loss: 0.5214 - accuracy: 0.72 - ETA: 7s - loss: 0.5210 - accuracy: 0.72 - ETA: 7s - loss: 0.5199 - accuracy: 0.73 - ETA: 7s - loss: 0.5197 - accuracy: 0.73 - ETA: 7s - loss: 0.5190 - accuracy: 0.73 - ETA: 7s - loss: 0.5177 - accuracy: 0.73 - ETA: 7s - loss: 0.5175 - accuracy: 0.73 - ETA: 7s - loss: 0.5179 - accuracy: 0.73 - ETA: 7s - loss: 0.5169 - accuracy: 0.73 - ETA: 7s - loss: 0.5174 - accuracy: 0.73 - ETA: 7s - loss: 0.5169 - accuracy: 0.73 - ETA: 7s - loss: 0.5165 - accuracy: 0.73 - ETA: 7s - loss: 0.5173 - accuracy: 0.73 - ETA: 7s - loss: 0.5173 - accuracy: 0.73 - ETA: 7s - loss: 0.5169 - accuracy: 0.73 - ETA: 7s - loss: 0.5169 - accuracy: 0.73 - ETA: 7s - loss: 0.5159 - accuracy: 0.73 - ETA: 7s - loss: 0.5163 - accuracy: 0.73 - ETA: 7s - loss: 0.5160 - accuracy: 0.73 - ETA: 7s - loss: 0.5155 - accuracy: 0.74 - ETA: 7s - loss: 0.5148 - accuracy: 0.74 - ETA: 7s - loss: 0.5143 - accuracy: 0.74 - ETA: 7s - loss: 0.5144 - accuracy: 0.74 - ETA: 7s - loss: 0.5140 - accuracy: 0.74 - ETA: 7s - loss: 0.5131 - accuracy: 0.74 - ETA: 7s - loss: 0.5124 - accuracy: 0.74 - ETA: 7s - loss: 0.5114 - accuracy: 0.74 - ETA: 7s - loss: 0.5115 - accuracy: 0.74 - ETA: 7s - loss: 0.5107 - accuracy: 0.74 - ETA: 6s - loss: 0.5114 - accuracy: 0.74 - ETA: 6s - loss: 0.5114 - accuracy: 0.74 - ETA: 6s - loss: 0.5126 - accuracy: 0.74 - ETA: 6s - loss: 0.5120 - accuracy: 0.74 - ETA: 6s - loss: 0.5121 - accuracy: 0.74 - ETA: 6s - loss: 0.5121 - accuracy: 0.74 - ETA: 6s - loss: 0.5118 - accuracy: 0.74 - ETA: 7s - loss: 0.5120 - accuracy: 0.74 - ETA: 6s - loss: 0.5118 - accuracy: 0.74 - ETA: 6s - loss: 0.5110 - accuracy: 0.74 - ETA: 6s - loss: 0.5112 - accuracy: 0.74 - ETA: 6s - loss: 0.5104 - accuracy: 0.74 - ETA: 6s - loss: 0.5104 - accuracy: 0.74 - ETA: 6s - loss: 0.5101 - accuracy: 0.74 - ETA: 7s - loss: 0.5102 - accuracy: 0.74 - ETA: 7s - loss: 0.5099 - accuracy: 0.74 - ETA: 6s - loss: 0.5099 - accuracy: 0.74 - ETA: 6s - loss: 0.5098 - accuracy: 0.74 - ETA: 6s - loss: 0.5091 - accuracy: 0.74 - ETA: 6s - loss: 0.5090 - accuracy: 0.74 - ETA: 6s - loss: 0.5090 - accuracy: 0.74 - ETA: 6s - loss: 0.5084 - accuracy: 0.74 - ETA: 6s - loss: 0.5080 - accuracy: 0.74 - ETA: 6s - loss: 0.5073 - accuracy: 0.74 - ETA: 6s - loss: 0.5063 - accuracy: 0.74 - ETA: 6s - loss: 0.5058 - accuracy: 0.74 - ETA: 6s - loss: 0.5053 - accuracy: 0.74 - ETA: 6s - loss: 0.5057 - accuracy: 0.74 - ETA: 6s - loss: 0.5062 - accuracy: 0.74 - ETA: 6s - loss: 0.5062 - accuracy: 0.74 - ETA: 6s - loss: 0.5068 - accuracy: 0.74 - ETA: 6s - loss: 0.5068 - accuracy: 0.74 - ETA: 5s - loss: 0.5071 - accuracy: 0.74 - ETA: 5s - loss: 0.5076 - accuracy: 0.74 - ETA: 5s - loss: 0.5077 - accuracy: 0.74 - ETA: 5s - loss: 0.5079 - accuracy: 0.74 - ETA: 5s - loss: 0.5080 - accuracy: 0.74 - ETA: 5s - loss: 0.5078 - accuracy: 0.74 - ETA: 5s - loss: 0.5075 - accuracy: 0.74 - ETA: 5s - loss: 0.5078 - accuracy: 0.74 - ETA: 5s - loss: 0.5080 - accuracy: 0.74 - ETA: 5s - loss: 0.5073 - accuracy: 0.74 - ETA: 5s - loss: 0.5071 - accuracy: 0.74 - ETA: 5s - loss: 0.5071 - accuracy: 0.74 - ETA: 5s - loss: 0.5065 - accuracy: 0.74 - ETA: 4s - loss: 0.5065 - accuracy: 0.74 - ETA: 4s - loss: 0.5062 - accuracy: 0.74 - ETA: 4s - loss: 0.5061 - accuracy: 0.74 - ETA: 4s - loss: 0.5056 - accuracy: 0.74 - ETA: 4s - loss: 0.5052 - accuracy: 0.74 - ETA: 4s - loss: 0.5050 - accuracy: 0.74 - ETA: 4s - loss: 0.5048 - accuracy: 0.74 - ETA: 4s - loss: 0.5045 - accuracy: 0.74 - ETA: 4s - loss: 0.5043 - accuracy: 0.74 - ETA: 4s - loss: 0.5040 - accuracy: 0.74 - ETA: 4s - loss: 0.5041 - accuracy: 0.74 - ETA: 4s - loss: 0.5037 - accuracy: 0.74 - ETA: 4s - loss: 0.5035 - accuracy: 0.74 - ETA: 4s - loss: 0.5029 - accuracy: 0.74 - ETA: 4s - loss: 0.5034 - accuracy: 0.74 - ETA: 3s - loss: 0.5026 - accuracy: 0.74 - ETA: 3s - loss: 0.5018 - accuracy: 0.75 - ETA: 3s - loss: 0.5004 - accuracy: 0.75 - ETA: 3s - loss: 0.5009 - accuracy: 0.75 - ETA: 3s - loss: 0.5003 - accuracy: 0.75 - ETA: 3s - loss: 0.4999 - accuracy: 0.75 - ETA: 3s - loss: 0.4990 - accuracy: 0.75 - ETA: 3s - loss: 0.4990 - accuracy: 0.75 - ETA: 3s - loss: 0.4991 - accuracy: 0.75 - ETA: 3s - loss: 0.4988 - accuracy: 0.75 - ETA: 3s - loss: 0.4988 - accuracy: 0.75 - ETA: 3s - loss: 0.4981 - accuracy: 0.75 - ETA: 3s - loss: 0.4979 - accuracy: 0.75 - ETA: 3s - loss: 0.4980 - accuracy: 0.75 - ETA: 3s - loss: 0.4980 - accuracy: 0.75 - ETA: 2s - loss: 0.4983 - accuracy: 0.75 - ETA: 2s - loss: 0.4977 - accuracy: 0.75 - ETA: 2s - loss: 0.4976 - accuracy: 0.75 - ETA: 2s - loss: 0.4975 - accuracy: 0.75 - ETA: 2s - loss: 0.4969 - accuracy: 0.75 - ETA: 2s - loss: 0.4966 - accuracy: 0.75 - ETA: 2s - loss: 0.4962 - accuracy: 0.75 - ETA: 2s - loss: 0.4954 - accuracy: 0.75 - ETA: 2s - loss: 0.4952 - accuracy: 0.75 - ETA: 2s - loss: 0.4955 - accuracy: 0.75 - ETA: 2s - loss: 0.4966 - accuracy: 0.75 - ETA: 2s - loss: 0.4971 - accuracy: 0.75 - ETA: 2s - loss: 0.4967 - accuracy: 0.75 - ETA: 2s - loss: 0.4965 - accuracy: 0.75 - ETA: 2s - loss: 0.4965 - accuracy: 0.75 - ETA: 1s - loss: 0.4973 - accuracy: 0.75 - ETA: 1s - loss: 0.4977 - accuracy: 0.75 - ETA: 1s - loss: 0.4978 - accuracy: 0.75 - ETA: 1s - loss: 0.4982 - accuracy: 0.75 - ETA: 1s - loss: 0.4986 - accuracy: 0.75 - ETA: 1s - loss: 0.4987 - accuracy: 0.75 - ETA: 1s - loss: 0.4987 - accuracy: 0.75 - ETA: 1s - loss: 0.4987 - accuracy: 0.75 - ETA: 1s - loss: 0.4986 - accuracy: 0.75 - ETA: 1s - loss: 0.4986 - accuracy: 0.75 - ETA: 1s - loss: 0.4988 - accuracy: 0.75 - ETA: 1s - loss: 0.4984 - accuracy: 0.75 - ETA: 1s - loss: 0.4986 - accuracy: 0.75 - ETA: 1s - loss: 0.4983 - accuracy: 0.75 - ETA: 1s - loss: 0.4981 - accuracy: 0.75 - ETA: 1s - loss: 0.4980 - accuracy: 0.75 - ETA: 1s - loss: 0.4979 - accuracy: 0.75 - ETA: 0s - loss: 0.4980 - accuracy: 0.76 - ETA: 0s - loss: 0.4979 - accuracy: 0.76 - ETA: 0s - loss: 0.4978 - accuracy: 0.76 - ETA: 0s - loss: 0.4982 - accuracy: 0.75 - ETA: 0s - loss: 0.4984 - accuracy: 0.75 - ETA: 0s - loss: 0.4983 - accuracy: 0.75 - ETA: 0s - loss: 0.4985 - accuracy: 0.7596\b\b\b\b\b\b\b\b\b\b\b\b\b\b\b\b\b\b\b\b\b\b\b\b\b\b\b\b\b\b\b\b\b\b\b\b\b\b\b\b\b\b\b\b\b\b\b\b\b\b\b\b\b\b\b\b\b\b\b\b\b\b\b\b\b\b\b\b\b\b\b\b\b\b\b\b\b\b\b\b\b\b\b\b"
     ]
    },
    {
     "name": "stdout",
     "output_type": "stream",
     "text": [
      "804/804 [==============================] - ETA: 0s - loss: 0.4987 - accuracy: 0.75 - ETA: 0s - loss: 0.4986 - accuracy: 0.75 - ETA: 0s - loss: 0.4986 - accuracy: 0.75 - ETA: 0s - loss: 0.4986 - accuracy: 0.75 - ETA: 0s - loss: 0.4986 - accuracy: 0.75 - ETA: 0s - loss: 0.4988 - accuracy: 0.75 - ETA: 0s - loss: 0.4988 - accuracy: 0.75 - ETA: 0s - loss: 0.4989 - accuracy: 0.75 - ETA: 0s - loss: 0.4986 - accuracy: 0.75 - ETA: 0s - loss: 0.4987 - accuracy: 0.75 - ETA: 0s - loss: 0.4985 - accuracy: 0.76 - ETA: 0s - loss: 0.4981 - accuracy: 0.76 - ETA: 0s - loss: 0.4978 - accuracy: 0.76 - ETA: 0s - loss: 0.4979 - accuracy: 0.76 - ETA: 0s - loss: 0.4978 - accuracy: 0.76 - ETA: 0s - loss: 0.4974 - accuracy: 0.76 - ETA: 0s - loss: 0.4972 - accuracy: 0.76 - ETA: 0s - loss: 0.4968 - accuracy: 0.76 - ETA: 0s - loss: 0.4968 - accuracy: 0.76 - ETA: 0s - loss: 0.4967 - accuracy: 0.76 - ETA: 0s - loss: 0.4966 - accuracy: 0.76 - ETA: 0s - loss: 0.4967 - accuracy: 0.76 - ETA: 0s - loss: 0.4967 - accuracy: 0.76 - ETA: 0s - loss: 0.4965 - accuracy: 0.76 - 28s 34ms/step - loss: 0.4966 - accuracy: 0.7621 - val_loss: 0.6173 - val_accuracy: 0.6245\n",
      "Epoch 2/5\n"
     ]
    },
    {
     "name": "stdout",
     "output_type": "stream",
     "text": [
      "592/804 [=====================>........] - ETA: 35s - loss: 0.4302 - accuracy: 0.812 - ETA: 1:03 - loss: 0.4643 - accuracy: 0.79 - ETA: 53s - loss: 0.4405 - accuracy: 0.8125 - ETA: 39s - loss: 0.4239 - accuracy: 0.837 - ETA: 35s - loss: 0.4099 - accuracy: 0.843 - ETA: 23s - loss: 0.3787 - accuracy: 0.862 - ETA: 18s - loss: 0.3554 - accuracy: 0.876 - ETA: 20s - loss: 0.3512 - accuracy: 0.880 - ETA: 24s - loss: 0.3440 - accuracy: 0.883 - ETA: 24s - loss: 0.3335 - accuracy: 0.885 - ETA: 22s - loss: 0.3082 - accuracy: 0.895 - ETA: 20s - loss: 0.3049 - accuracy: 0.898 - ETA: 19s - loss: 0.2979 - accuracy: 0.903 - ETA: 18s - loss: 0.2961 - accuracy: 0.906 - ETA: 17s - loss: 0.2855 - accuracy: 0.907 - ETA: 17s - loss: 0.2773 - accuracy: 0.909 - ETA: 17s - loss: 0.2670 - accuracy: 0.913 - ETA: 16s - loss: 0.2627 - accuracy: 0.913 - ETA: 15s - loss: 0.2568 - accuracy: 0.916 - ETA: 15s - loss: 0.2574 - accuracy: 0.915 - ETA: 15s - loss: 0.2483 - accuracy: 0.919 - ETA: 15s - loss: 0.2443 - accuracy: 0.920 - ETA: 15s - loss: 0.2456 - accuracy: 0.920 - ETA: 15s - loss: 0.2388 - accuracy: 0.922 - ETA: 15s - loss: 0.2355 - accuracy: 0.923 - ETA: 15s - loss: 0.2292 - accuracy: 0.926 - ETA: 16s - loss: 0.2278 - accuracy: 0.926 - ETA: 16s - loss: 0.2237 - accuracy: 0.928 - ETA: 15s - loss: 0.2164 - accuracy: 0.931 - ETA: 16s - loss: 0.2160 - accuracy: 0.931 - ETA: 16s - loss: 0.2180 - accuracy: 0.930 - ETA: 15s - loss: 0.2169 - accuracy: 0.930 - ETA: 15s - loss: 0.2123 - accuracy: 0.932 - ETA: 14s - loss: 0.2116 - accuracy: 0.933 - ETA: 14s - loss: 0.2083 - accuracy: 0.934 - ETA: 15s - loss: 0.2083 - accuracy: 0.934 - ETA: 15s - loss: 0.2082 - accuracy: 0.933 - ETA: 15s - loss: 0.2046 - accuracy: 0.935 - ETA: 15s - loss: 0.2063 - accuracy: 0.935 - ETA: 15s - loss: 0.2076 - accuracy: 0.934 - ETA: 15s - loss: 0.2075 - accuracy: 0.934 - ETA: 15s - loss: 0.2088 - accuracy: 0.933 - ETA: 15s - loss: 0.2081 - accuracy: 0.933 - ETA: 15s - loss: 0.2098 - accuracy: 0.932 - ETA: 15s - loss: 0.2064 - accuracy: 0.933 - ETA: 15s - loss: 0.2047 - accuracy: 0.934 - ETA: 15s - loss: 0.2033 - accuracy: 0.934 - ETA: 15s - loss: 0.2031 - accuracy: 0.934 - ETA: 15s - loss: 0.2040 - accuracy: 0.933 - ETA: 15s - loss: 0.2036 - accuracy: 0.933 - ETA: 15s - loss: 0.2024 - accuracy: 0.934 - ETA: 15s - loss: 0.2012 - accuracy: 0.934 - ETA: 15s - loss: 0.2012 - accuracy: 0.935 - ETA: 15s - loss: 0.2008 - accuracy: 0.935 - ETA: 15s - loss: 0.2005 - accuracy: 0.934 - ETA: 15s - loss: 0.1993 - accuracy: 0.935 - ETA: 15s - loss: 0.1991 - accuracy: 0.935 - ETA: 15s - loss: 0.2002 - accuracy: 0.934 - ETA: 15s - loss: 0.2011 - accuracy: 0.934 - ETA: 15s - loss: 0.2017 - accuracy: 0.934 - ETA: 15s - loss: 0.1992 - accuracy: 0.935 - ETA: 15s - loss: 0.1986 - accuracy: 0.935 - ETA: 14s - loss: 0.1964 - accuracy: 0.935 - ETA: 14s - loss: 0.1955 - accuracy: 0.936 - ETA: 14s - loss: 0.1943 - accuracy: 0.936 - ETA: 14s - loss: 0.1963 - accuracy: 0.935 - ETA: 13s - loss: 0.1960 - accuracy: 0.935 - ETA: 13s - loss: 0.1946 - accuracy: 0.936 - ETA: 13s - loss: 0.1931 - accuracy: 0.937 - ETA: 13s - loss: 0.1920 - accuracy: 0.937 - ETA: 12s - loss: 0.1911 - accuracy: 0.937 - ETA: 12s - loss: 0.1903 - accuracy: 0.938 - ETA: 12s - loss: 0.1895 - accuracy: 0.938 - ETA: 12s - loss: 0.1888 - accuracy: 0.938 - ETA: 12s - loss: 0.1883 - accuracy: 0.938 - ETA: 12s - loss: 0.1870 - accuracy: 0.939 - ETA: 12s - loss: 0.1868 - accuracy: 0.938 - ETA: 12s - loss: 0.1858 - accuracy: 0.938 - ETA: 11s - loss: 0.1842 - accuracy: 0.939 - ETA: 11s - loss: 0.1827 - accuracy: 0.939 - ETA: 11s - loss: 0.1814 - accuracy: 0.940 - ETA: 11s - loss: 0.1803 - accuracy: 0.940 - ETA: 11s - loss: 0.1789 - accuracy: 0.941 - ETA: 11s - loss: 0.1778 - accuracy: 0.941 - ETA: 11s - loss: 0.1761 - accuracy: 0.942 - ETA: 10s - loss: 0.1759 - accuracy: 0.941 - ETA: 10s - loss: 0.1752 - accuracy: 0.941 - ETA: 10s - loss: 0.1745 - accuracy: 0.941 - ETA: 10s - loss: 0.1745 - accuracy: 0.941 - ETA: 10s - loss: 0.1743 - accuracy: 0.941 - ETA: 10s - loss: 0.1745 - accuracy: 0.941 - ETA: 9s - loss: 0.1758 - accuracy: 0.940 - ETA: 9s - loss: 0.1753 - accuracy: 0.94 - ETA: 9s - loss: 0.1744 - accuracy: 0.94 - ETA: 9s - loss: 0.1741 - accuracy: 0.94 - ETA: 9s - loss: 0.1743 - accuracy: 0.94 - ETA: 9s - loss: 0.1739 - accuracy: 0.94 - ETA: 9s - loss: 0.1739 - accuracy: 0.94 - ETA: 9s - loss: 0.1731 - accuracy: 0.94 - ETA: 9s - loss: 0.1739 - accuracy: 0.94 - ETA: 9s - loss: 0.1744 - accuracy: 0.93 - ETA: 9s - loss: 0.1750 - accuracy: 0.93 - ETA: 8s - loss: 0.1746 - accuracy: 0.93 - ETA: 8s - loss: 0.1765 - accuracy: 0.93 - ETA: 8s - loss: 0.1758 - accuracy: 0.93 - ETA: 8s - loss: 0.1761 - accuracy: 0.93 - ETA: 8s - loss: 0.1767 - accuracy: 0.93 - ETA: 8s - loss: 0.1766 - accuracy: 0.93 - ETA: 8s - loss: 0.1768 - accuracy: 0.93 - ETA: 8s - loss: 0.1764 - accuracy: 0.93 - ETA: 8s - loss: 0.1763 - accuracy: 0.93 - ETA: 8s - loss: 0.1766 - accuracy: 0.93 - ETA: 8s - loss: 0.1758 - accuracy: 0.93 - ETA: 8s - loss: 0.1758 - accuracy: 0.93 - ETA: 8s - loss: 0.1759 - accuracy: 0.93 - ETA: 8s - loss: 0.1761 - accuracy: 0.93 - ETA: 8s - loss: 0.1762 - accuracy: 0.93 - ETA: 8s - loss: 0.1757 - accuracy: 0.93 - ETA: 8s - loss: 0.1758 - accuracy: 0.93 - ETA: 8s - loss: 0.1758 - accuracy: 0.93 - ETA: 8s - loss: 0.1748 - accuracy: 0.94 - ETA: 7s - loss: 0.1751 - accuracy: 0.94 - ETA: 7s - loss: 0.1748 - accuracy: 0.94 - ETA: 8s - loss: 0.1747 - accuracy: 0.94 - ETA: 8s - loss: 0.1746 - accuracy: 0.94 - ETA: 7s - loss: 0.1741 - accuracy: 0.94 - ETA: 7s - loss: 0.1731 - accuracy: 0.94 - ETA: 7s - loss: 0.1730 - accuracy: 0.94 - ETA: 7s - loss: 0.1730 - accuracy: 0.94 - ETA: 7s - loss: 0.1729 - accuracy: 0.94 - ETA: 7s - loss: 0.1728 - accuracy: 0.94 - ETA: 7s - loss: 0.1728 - accuracy: 0.94 - ETA: 7s - loss: 0.1723 - accuracy: 0.94 - ETA: 7s - loss: 0.1727 - accuracy: 0.94 - ETA: 6s - loss: 0.1723 - accuracy: 0.94 - ETA: 6s - loss: 0.1718 - accuracy: 0.94 - ETA: 6s - loss: 0.1712 - accuracy: 0.94 - ETA: 6s - loss: 0.1712 - accuracy: 0.94 - ETA: 6s - loss: 0.1707 - accuracy: 0.94 - ETA: 6s - loss: 0.1707 - accuracy: 0.94 - ETA: 6s - loss: 0.1703 - accuracy: 0.94 - ETA: 6s - loss: 0.1704 - accuracy: 0.94 - ETA: 6s - loss: 0.1704 - accuracy: 0.94 - ETA: 6s - loss: 0.1709 - accuracy: 0.94 - ETA: 6s - loss: 0.1706 - accuracy: 0.94 - ETA: 6s - loss: 0.1706 - accuracy: 0.94 - ETA: 6s - loss: 0.1706 - accuracy: 0.94 - ETA: 6s - loss: 0.1703 - accuracy: 0.94 - ETA: 6s - loss: 0.1697 - accuracy: 0.94 - ETA: 6s - loss: 0.1694 - accuracy: 0.94 - ETA: 6s - loss: 0.1693 - accuracy: 0.94 - ETA: 6s - loss: 0.1692 - accuracy: 0.94 - ETA: 6s - loss: 0.1696 - accuracy: 0.94 - ETA: 6s - loss: 0.1696 - accuracy: 0.94 - ETA: 6s - loss: 0.1699 - accuracy: 0.94 - ETA: 6s - loss: 0.1695 - accuracy: 0.94 - ETA: 6s - loss: 0.1694 - accuracy: 0.94 - ETA: 6s - loss: 0.1699 - accuracy: 0.94 - ETA: 6s - loss: 0.1697 - accuracy: 0.94 - ETA: 6s - loss: 0.1694 - accuracy: 0.94 - ETA: 6s - loss: 0.1695 - accuracy: 0.94 - ETA: 6s - loss: 0.1699 - accuracy: 0.94 - ETA: 5s - loss: 0.1697 - accuracy: 0.94 - ETA: 5s - loss: 0.1692 - accuracy: 0.94 - ETA: 5s - loss: 0.1688 - accuracy: 0.94 - ETA: 5s - loss: 0.1688 - accuracy: 0.94 - ETA: 5s - loss: 0.1683 - accuracy: 0.94 - ETA: 5s - loss: 0.1683 - accuracy: 0.94 - ETA: 5s - loss: 0.1680 - accuracy: 0.94 - ETA: 5s - loss: 0.1682 - accuracy: 0.94 - ETA: 5s - loss: 0.1680 - accuracy: 0.94 - ETA: 5s - loss: 0.1676 - accuracy: 0.94 - ETA: 5s - loss: 0.1673 - accuracy: 0.94 - ETA: 5s - loss: 0.1670 - accuracy: 0.94 - ETA: 5s - loss: 0.1666 - accuracy: 0.94 - ETA: 4s - loss: 0.1665 - accuracy: 0.94 - ETA: 4s - loss: 0.1666 - accuracy: 0.94 - ETA: 4s - loss: 0.1663 - accuracy: 0.94 - ETA: 4s - loss: 0.1662 - accuracy: 0.94 - ETA: 4s - loss: 0.1663 - accuracy: 0.94 - ETA: 4s - loss: 0.1656 - accuracy: 0.94 - ETA: 4s - loss: 0.1651 - accuracy: 0.94 - ETA: 4s - loss: 0.1649 - accuracy: 0.94 - ETA: 4s - loss: 0.1644 - accuracy: 0.94 - ETA: 4s - loss: 0.1644 - accuracy: 0.94 - ETA: 4s - loss: 0.1645 - accuracy: 0.94 - ETA: 4s - loss: 0.1648 - accuracy: 0.94 - ETA: 4s - loss: 0.1645 - accuracy: 0.94 - ETA: 4s - loss: 0.1641 - accuracy: 0.94 - ETA: 4s - loss: 0.1639 - accuracy: 0.9446"
     ]
    },
    {
     "name": "stdout",
     "output_type": "stream",
     "text": [
      "804/804 [==============================] - ETA: 4s - loss: 0.1641 - accuracy: 0.94 - ETA: 4s - loss: 0.1636 - accuracy: 0.94 - ETA: 3s - loss: 0.1631 - accuracy: 0.94 - ETA: 3s - loss: 0.1632 - accuracy: 0.94 - ETA: 3s - loss: 0.1631 - accuracy: 0.94 - ETA: 3s - loss: 0.1627 - accuracy: 0.94 - ETA: 3s - loss: 0.1631 - accuracy: 0.94 - ETA: 3s - loss: 0.1626 - accuracy: 0.94 - ETA: 3s - loss: 0.1624 - accuracy: 0.94 - ETA: 3s - loss: 0.1628 - accuracy: 0.94 - ETA: 3s - loss: 0.1626 - accuracy: 0.94 - ETA: 3s - loss: 0.1625 - accuracy: 0.94 - ETA: 3s - loss: 0.1624 - accuracy: 0.94 - ETA: 3s - loss: 0.1623 - accuracy: 0.94 - ETA: 3s - loss: 0.1620 - accuracy: 0.94 - ETA: 3s - loss: 0.1614 - accuracy: 0.94 - ETA: 3s - loss: 0.1611 - accuracy: 0.94 - ETA: 2s - loss: 0.1608 - accuracy: 0.94 - ETA: 2s - loss: 0.1604 - accuracy: 0.94 - ETA: 2s - loss: 0.1609 - accuracy: 0.94 - ETA: 2s - loss: 0.1614 - accuracy: 0.94 - ETA: 2s - loss: 0.1613 - accuracy: 0.94 - ETA: 2s - loss: 0.1611 - accuracy: 0.94 - ETA: 2s - loss: 0.1611 - accuracy: 0.94 - ETA: 2s - loss: 0.1608 - accuracy: 0.94 - ETA: 2s - loss: 0.1608 - accuracy: 0.94 - ETA: 2s - loss: 0.1608 - accuracy: 0.94 - ETA: 2s - loss: 0.1606 - accuracy: 0.94 - ETA: 2s - loss: 0.1606 - accuracy: 0.94 - ETA: 1s - loss: 0.1607 - accuracy: 0.94 - ETA: 1s - loss: 0.1606 - accuracy: 0.94 - ETA: 1s - loss: 0.1608 - accuracy: 0.94 - ETA: 1s - loss: 0.1610 - accuracy: 0.94 - ETA: 1s - loss: 0.1607 - accuracy: 0.94 - ETA: 1s - loss: 0.1605 - accuracy: 0.94 - ETA: 1s - loss: 0.1604 - accuracy: 0.94 - ETA: 1s - loss: 0.1602 - accuracy: 0.94 - ETA: 1s - loss: 0.1600 - accuracy: 0.94 - ETA: 1s - loss: 0.1602 - accuracy: 0.94 - ETA: 1s - loss: 0.1601 - accuracy: 0.94 - ETA: 1s - loss: 0.1601 - accuracy: 0.94 - ETA: 1s - loss: 0.1599 - accuracy: 0.94 - ETA: 0s - loss: 0.1599 - accuracy: 0.94 - ETA: 0s - loss: 0.1599 - accuracy: 0.94 - ETA: 0s - loss: 0.1601 - accuracy: 0.94 - ETA: 0s - loss: 0.1600 - accuracy: 0.94 - ETA: 0s - loss: 0.1603 - accuracy: 0.94 - ETA: 0s - loss: 0.1605 - accuracy: 0.94 - ETA: 0s - loss: 0.1605 - accuracy: 0.94 - ETA: 0s - loss: 0.1605 - accuracy: 0.94 - ETA: 0s - loss: 0.1604 - accuracy: 0.94 - ETA: 0s - loss: 0.1605 - accuracy: 0.94 - ETA: 0s - loss: 0.1606 - accuracy: 0.94 - ETA: 0s - loss: 0.1604 - accuracy: 0.94 - ETA: 0s - loss: 0.1601 - accuracy: 0.94 - 16s 20ms/step - loss: 0.1600 - accuracy: 0.9460 - val_loss: 0.4744 - val_accuracy: 0.7801\n",
      "Epoch 3/5\n"
     ]
    },
    {
     "name": "stdout",
     "output_type": "stream",
     "text": [
      "802/804 [============================>.] - ETA: 11s - loss: 0.1348 - accuracy: 0.968 - ETA: 8s - loss: 0.1263 - accuracy: 0.947 - ETA: 8s - loss: 0.1155 - accuracy: 0.95 - ETA: 8s - loss: 0.1133 - accuracy: 0.95 - ETA: 8s - loss: 0.1040 - accuracy: 0.95 - ETA: 8s - loss: 0.1009 - accuracy: 0.96 - ETA: 8s - loss: 0.1032 - accuracy: 0.96 - ETA: 8s - loss: 0.1004 - accuracy: 0.96 - ETA: 8s - loss: 0.1006 - accuracy: 0.96 - ETA: 8s - loss: 0.0987 - accuracy: 0.96 - ETA: 8s - loss: 0.0976 - accuracy: 0.96 - ETA: 8s - loss: 0.0973 - accuracy: 0.96 - ETA: 8s - loss: 0.0987 - accuracy: 0.96 - ETA: 8s - loss: 0.1000 - accuracy: 0.96 - ETA: 8s - loss: 0.0989 - accuracy: 0.96 - ETA: 8s - loss: 0.0969 - accuracy: 0.96 - ETA: 8s - loss: 0.1013 - accuracy: 0.96 - ETA: 8s - loss: 0.1028 - accuracy: 0.96 - ETA: 8s - loss: 0.1028 - accuracy: 0.95 - ETA: 8s - loss: 0.1032 - accuracy: 0.95 - ETA: 7s - loss: 0.1036 - accuracy: 0.95 - ETA: 7s - loss: 0.1016 - accuracy: 0.95 - ETA: 7s - loss: 0.0995 - accuracy: 0.96 - ETA: 7s - loss: 0.1030 - accuracy: 0.95 - ETA: 7s - loss: 0.1028 - accuracy: 0.95 - ETA: 7s - loss: 0.1017 - accuracy: 0.96 - ETA: 7s - loss: 0.1025 - accuracy: 0.95 - ETA: 7s - loss: 0.1034 - accuracy: 0.95 - ETA: 7s - loss: 0.1063 - accuracy: 0.95 - ETA: 7s - loss: 0.1056 - accuracy: 0.95 - ETA: 7s - loss: 0.1057 - accuracy: 0.95 - ETA: 7s - loss: 0.1053 - accuracy: 0.95 - ETA: 7s - loss: 0.1046 - accuracy: 0.95 - ETA: 7s - loss: 0.1038 - accuracy: 0.96 - ETA: 7s - loss: 0.1042 - accuracy: 0.95 - ETA: 7s - loss: 0.1047 - accuracy: 0.95 - ETA: 7s - loss: 0.1029 - accuracy: 0.96 - ETA: 7s - loss: 0.1029 - accuracy: 0.96 - ETA: 6s - loss: 0.1033 - accuracy: 0.96 - ETA: 6s - loss: 0.1023 - accuracy: 0.96 - ETA: 6s - loss: 0.1030 - accuracy: 0.96 - ETA: 6s - loss: 0.1038 - accuracy: 0.95 - ETA: 6s - loss: 0.1031 - accuracy: 0.96 - ETA: 6s - loss: 0.1041 - accuracy: 0.95 - ETA: 6s - loss: 0.1033 - accuracy: 0.95 - ETA: 6s - loss: 0.1032 - accuracy: 0.95 - ETA: 6s - loss: 0.1024 - accuracy: 0.96 - ETA: 6s - loss: 0.1035 - accuracy: 0.96 - ETA: 6s - loss: 0.1033 - accuracy: 0.96 - ETA: 6s - loss: 0.1030 - accuracy: 0.96 - ETA: 6s - loss: 0.1019 - accuracy: 0.96 - ETA: 6s - loss: 0.1007 - accuracy: 0.96 - ETA: 6s - loss: 0.1010 - accuracy: 0.96 - ETA: 6s - loss: 0.1000 - accuracy: 0.96 - ETA: 6s - loss: 0.0999 - accuracy: 0.96 - ETA: 5s - loss: 0.0996 - accuracy: 0.96 - ETA: 5s - loss: 0.0990 - accuracy: 0.96 - ETA: 5s - loss: 0.0991 - accuracy: 0.96 - ETA: 5s - loss: 0.0984 - accuracy: 0.96 - ETA: 5s - loss: 0.0991 - accuracy: 0.96 - ETA: 5s - loss: 0.0993 - accuracy: 0.96 - ETA: 5s - loss: 0.0986 - accuracy: 0.96 - ETA: 5s - loss: 0.0981 - accuracy: 0.96 - ETA: 5s - loss: 0.0980 - accuracy: 0.96 - ETA: 5s - loss: 0.0983 - accuracy: 0.96 - ETA: 5s - loss: 0.0975 - accuracy: 0.96 - ETA: 5s - loss: 0.0980 - accuracy: 0.96 - ETA: 5s - loss: 0.0980 - accuracy: 0.96 - ETA: 5s - loss: 0.0978 - accuracy: 0.96 - ETA: 5s - loss: 0.0978 - accuracy: 0.96 - ETA: 5s - loss: 0.0980 - accuracy: 0.96 - ETA: 5s - loss: 0.0984 - accuracy: 0.96 - ETA: 5s - loss: 0.0981 - accuracy: 0.96 - ETA: 5s - loss: 0.0980 - accuracy: 0.96 - ETA: 5s - loss: 0.0979 - accuracy: 0.96 - ETA: 5s - loss: 0.0981 - accuracy: 0.96 - ETA: 5s - loss: 0.0993 - accuracy: 0.96 - ETA: 5s - loss: 0.0993 - accuracy: 0.96 - ETA: 5s - loss: 0.0994 - accuracy: 0.96 - ETA: 5s - loss: 0.0985 - accuracy: 0.96 - ETA: 5s - loss: 0.0996 - accuracy: 0.96 - ETA: 5s - loss: 0.1005 - accuracy: 0.96 - ETA: 5s - loss: 0.1007 - accuracy: 0.96 - ETA: 5s - loss: 0.1009 - accuracy: 0.96 - ETA: 5s - loss: 0.1008 - accuracy: 0.96 - ETA: 5s - loss: 0.1006 - accuracy: 0.96 - ETA: 4s - loss: 0.1007 - accuracy: 0.96 - ETA: 4s - loss: 0.1013 - accuracy: 0.96 - ETA: 4s - loss: 0.1014 - accuracy: 0.96 - ETA: 4s - loss: 0.1012 - accuracy: 0.96 - ETA: 4s - loss: 0.1011 - accuracy: 0.96 - ETA: 4s - loss: 0.1012 - accuracy: 0.96 - ETA: 4s - loss: 0.1015 - accuracy: 0.96 - ETA: 4s - loss: 0.1020 - accuracy: 0.96 - ETA: 4s - loss: 0.1019 - accuracy: 0.96 - ETA: 4s - loss: 0.1022 - accuracy: 0.96 - ETA: 4s - loss: 0.1022 - accuracy: 0.96 - ETA: 4s - loss: 0.1022 - accuracy: 0.96 - ETA: 4s - loss: 0.1024 - accuracy: 0.96 - ETA: 4s - loss: 0.1023 - accuracy: 0.96 - ETA: 4s - loss: 0.1021 - accuracy: 0.96 - ETA: 4s - loss: 0.1023 - accuracy: 0.96 - ETA: 4s - loss: 0.1019 - accuracy: 0.96 - ETA: 4s - loss: 0.1017 - accuracy: 0.96 - ETA: 4s - loss: 0.1021 - accuracy: 0.96 - ETA: 4s - loss: 0.1028 - accuracy: 0.96 - ETA: 4s - loss: 0.1027 - accuracy: 0.96 - ETA: 3s - loss: 0.1022 - accuracy: 0.96 - ETA: 3s - loss: 0.1024 - accuracy: 0.96 - ETA: 3s - loss: 0.1028 - accuracy: 0.96 - ETA: 3s - loss: 0.1028 - accuracy: 0.95 - ETA: 3s - loss: 0.1028 - accuracy: 0.95 - ETA: 3s - loss: 0.1025 - accuracy: 0.96 - ETA: 3s - loss: 0.1031 - accuracy: 0.95 - ETA: 3s - loss: 0.1030 - accuracy: 0.95 - ETA: 3s - loss: 0.1033 - accuracy: 0.95 - ETA: 3s - loss: 0.1033 - accuracy: 0.95 - ETA: 3s - loss: 0.1035 - accuracy: 0.95 - ETA: 3s - loss: 0.1040 - accuracy: 0.95 - ETA: 3s - loss: 0.1038 - accuracy: 0.95 - ETA: 3s - loss: 0.1038 - accuracy: 0.95 - ETA: 3s - loss: 0.1035 - accuracy: 0.95 - ETA: 3s - loss: 0.1031 - accuracy: 0.95 - ETA: 3s - loss: 0.1027 - accuracy: 0.95 - ETA: 3s - loss: 0.1030 - accuracy: 0.95 - ETA: 3s - loss: 0.1033 - accuracy: 0.95 - ETA: 3s - loss: 0.1031 - accuracy: 0.95 - ETA: 3s - loss: 0.1029 - accuracy: 0.96 - ETA: 2s - loss: 0.1025 - accuracy: 0.96 - ETA: 2s - loss: 0.1028 - accuracy: 0.96 - ETA: 2s - loss: 0.1025 - accuracy: 0.96 - ETA: 2s - loss: 0.1027 - accuracy: 0.96 - ETA: 2s - loss: 0.1025 - accuracy: 0.96 - ETA: 2s - loss: 0.1023 - accuracy: 0.96 - ETA: 2s - loss: 0.1023 - accuracy: 0.96 - ETA: 2s - loss: 0.1025 - accuracy: 0.96 - ETA: 2s - loss: 0.1023 - accuracy: 0.96 - ETA: 2s - loss: 0.1027 - accuracy: 0.96 - ETA: 2s - loss: 0.1026 - accuracy: 0.96 - ETA: 2s - loss: 0.1026 - accuracy: 0.96 - ETA: 2s - loss: 0.1029 - accuracy: 0.95 - ETA: 2s - loss: 0.1027 - accuracy: 0.96 - ETA: 2s - loss: 0.1025 - accuracy: 0.96 - ETA: 2s - loss: 0.1025 - accuracy: 0.96 - ETA: 2s - loss: 0.1024 - accuracy: 0.96 - ETA: 2s - loss: 0.1027 - accuracy: 0.96 - ETA: 2s - loss: 0.1030 - accuracy: 0.96 - ETA: 2s - loss: 0.1027 - accuracy: 0.96 - ETA: 2s - loss: 0.1029 - accuracy: 0.96 - ETA: 2s - loss: 0.1028 - accuracy: 0.96 - ETA: 2s - loss: 0.1027 - accuracy: 0.96 - ETA: 2s - loss: 0.1027 - accuracy: 0.96 - ETA: 2s - loss: 0.1027 - accuracy: 0.96 - ETA: 1s - loss: 0.1026 - accuracy: 0.96 - ETA: 1s - loss: 0.1026 - accuracy: 0.96 - ETA: 1s - loss: 0.1025 - accuracy: 0.96 - ETA: 1s - loss: 0.1025 - accuracy: 0.96 - ETA: 1s - loss: 0.1025 - accuracy: 0.96 - ETA: 1s - loss: 0.1028 - accuracy: 0.96 - ETA: 1s - loss: 0.1026 - accuracy: 0.96 - ETA: 1s - loss: 0.1025 - accuracy: 0.96 - ETA: 1s - loss: 0.1025 - accuracy: 0.96 - ETA: 1s - loss: 0.1025 - accuracy: 0.96 - ETA: 1s - loss: 0.1023 - accuracy: 0.96 - ETA: 1s - loss: 0.1023 - accuracy: 0.96 - ETA: 1s - loss: 0.1022 - accuracy: 0.96 - ETA: 1s - loss: 0.1023 - accuracy: 0.96 - ETA: 1s - loss: 0.1021 - accuracy: 0.96 - ETA: 1s - loss: 0.1023 - accuracy: 0.96 - ETA: 1s - loss: 0.1021 - accuracy: 0.96 - ETA: 1s - loss: 0.1021 - accuracy: 0.96 - ETA: 1s - loss: 0.1019 - accuracy: 0.96 - ETA: 1s - loss: 0.1019 - accuracy: 0.96 - ETA: 1s - loss: 0.1019 - accuracy: 0.96 - ETA: 1s - loss: 0.1022 - accuracy: 0.96 - ETA: 1s - loss: 0.1021 - accuracy: 0.96 - ETA: 0s - loss: 0.1018 - accuracy: 0.96 - ETA: 0s - loss: 0.1019 - accuracy: 0.96 - ETA: 0s - loss: 0.1017 - accuracy: 0.96 - ETA: 0s - loss: 0.1014 - accuracy: 0.96 - ETA: 0s - loss: 0.1017 - accuracy: 0.96 - ETA: 0s - loss: 0.1014 - accuracy: 0.96 - ETA: 0s - loss: 0.1013 - accuracy: 0.96 - ETA: 0s - loss: 0.1012 - accuracy: 0.96 - ETA: 0s - loss: 0.1017 - accuracy: 0.96 - ETA: 0s - loss: 0.1017 - accuracy: 0.96 - ETA: 0s - loss: 0.1014 - accuracy: 0.96 - ETA: 0s - loss: 0.1011 - accuracy: 0.96 - ETA: 0s - loss: 0.1013 - accuracy: 0.96 - ETA: 0s - loss: 0.1017 - accuracy: 0.96 - ETA: 0s - loss: 0.1016 - accuracy: 0.96 - ETA: 0s - loss: 0.1018 - accuracy: 0.96 - ETA: 0s - loss: 0.1018 - accuracy: 0.96 - ETA: 0s - loss: 0.1016 - accuracy: 0.9608"
     ]
    },
    {
     "name": "stdout",
     "output_type": "stream",
     "text": [
      "804/804 [==============================] - 12s 15ms/step - loss: 0.1016 - accuracy: 0.9609 - val_loss: 0.4637 - val_accuracy: 0.7832\n",
      "Epoch 4/5\n",
      "804/804 [==============================] - ETA: 12s - loss: 0.2161 - accuracy: 0.906 - ETA: 10s - loss: 0.1029 - accuracy: 0.962 - ETA: 10s - loss: 0.0959 - accuracy: 0.968 - ETA: 10s - loss: 0.0895 - accuracy: 0.971 - ETA: 10s - loss: 0.0979 - accuracy: 0.966 - ETA: 10s - loss: 0.1013 - accuracy: 0.967 - ETA: 10s - loss: 0.1036 - accuracy: 0.963 - ETA: 10s - loss: 0.0957 - accuracy: 0.966 - ETA: 10s - loss: 0.0996 - accuracy: 0.965 - ETA: 10s - loss: 0.1014 - accuracy: 0.964 - ETA: 9s - loss: 0.0974 - accuracy: 0.965 - ETA: 9s - loss: 0.0979 - accuracy: 0.96 - ETA: 9s - loss: 0.0942 - accuracy: 0.96 - ETA: 9s - loss: 0.0915 - accuracy: 0.96 - ETA: 9s - loss: 0.0877 - accuracy: 0.97 - ETA: 9s - loss: 0.0860 - accuracy: 0.97 - ETA: 9s - loss: 0.0871 - accuracy: 0.97 - ETA: 9s - loss: 0.0876 - accuracy: 0.97 - ETA: 9s - loss: 0.0868 - accuracy: 0.97 - ETA: 9s - loss: 0.0857 - accuracy: 0.97 - ETA: 9s - loss: 0.0857 - accuracy: 0.97 - ETA: 9s - loss: 0.0848 - accuracy: 0.97 - ETA: 9s - loss: 0.0884 - accuracy: 0.97 - ETA: 9s - loss: 0.0915 - accuracy: 0.96 - ETA: 9s - loss: 0.0932 - accuracy: 0.96 - ETA: 9s - loss: 0.0917 - accuracy: 0.96 - ETA: 9s - loss: 0.0921 - accuracy: 0.96 - ETA: 8s - loss: 0.0911 - accuracy: 0.96 - ETA: 8s - loss: 0.0917 - accuracy: 0.96 - ETA: 8s - loss: 0.0915 - accuracy: 0.96 - ETA: 8s - loss: 0.0909 - accuracy: 0.96 - ETA: 8s - loss: 0.0908 - accuracy: 0.96 - ETA: 8s - loss: 0.0897 - accuracy: 0.96 - ETA: 8s - loss: 0.0882 - accuracy: 0.96 - ETA: 8s - loss: 0.0880 - accuracy: 0.96 - ETA: 8s - loss: 0.0886 - accuracy: 0.96 - ETA: 8s - loss: 0.0892 - accuracy: 0.96 - ETA: 8s - loss: 0.0875 - accuracy: 0.96 - ETA: 8s - loss: 0.0892 - accuracy: 0.96 - ETA: 8s - loss: 0.0903 - accuracy: 0.96 - ETA: 8s - loss: 0.0898 - accuracy: 0.96 - ETA: 8s - loss: 0.0904 - accuracy: 0.96 - ETA: 8s - loss: 0.0916 - accuracy: 0.96 - ETA: 8s - loss: 0.0916 - accuracy: 0.96 - ETA: 7s - loss: 0.0917 - accuracy: 0.96 - ETA: 7s - loss: 0.0916 - accuracy: 0.96 - ETA: 7s - loss: 0.0917 - accuracy: 0.96 - ETA: 7s - loss: 0.0911 - accuracy: 0.96 - ETA: 7s - loss: 0.0909 - accuracy: 0.96 - ETA: 7s - loss: 0.0914 - accuracy: 0.96 - ETA: 7s - loss: 0.0914 - accuracy: 0.96 - ETA: 7s - loss: 0.0912 - accuracy: 0.96 - ETA: 7s - loss: 0.0908 - accuracy: 0.96 - ETA: 7s - loss: 0.0905 - accuracy: 0.96 - ETA: 7s - loss: 0.0898 - accuracy: 0.96 - ETA: 7s - loss: 0.0901 - accuracy: 0.96 - ETA: 7s - loss: 0.0906 - accuracy: 0.96 - ETA: 7s - loss: 0.0914 - accuracy: 0.96 - ETA: 7s - loss: 0.0919 - accuracy: 0.96 - ETA: 7s - loss: 0.0915 - accuracy: 0.96 - ETA: 7s - loss: 0.0922 - accuracy: 0.96 - ETA: 7s - loss: 0.0917 - accuracy: 0.96 - ETA: 7s - loss: 0.0918 - accuracy: 0.96 - ETA: 6s - loss: 0.0913 - accuracy: 0.96 - ETA: 6s - loss: 0.0924 - accuracy: 0.96 - ETA: 6s - loss: 0.0921 - accuracy: 0.96 - ETA: 6s - loss: 0.0919 - accuracy: 0.96 - ETA: 6s - loss: 0.0915 - accuracy: 0.96 - ETA: 6s - loss: 0.0911 - accuracy: 0.96 - ETA: 6s - loss: 0.0917 - accuracy: 0.96 - ETA: 6s - loss: 0.0922 - accuracy: 0.96 - ETA: 6s - loss: 0.0915 - accuracy: 0.96 - ETA: 6s - loss: 0.0907 - accuracy: 0.96 - ETA: 6s - loss: 0.0904 - accuracy: 0.96 - ETA: 6s - loss: 0.0909 - accuracy: 0.96 - ETA: 6s - loss: 0.0909 - accuracy: 0.96 - ETA: 6s - loss: 0.0901 - accuracy: 0.96 - ETA: 6s - loss: 0.0901 - accuracy: 0.96 - ETA: 6s - loss: 0.0907 - accuracy: 0.96 - ETA: 5s - loss: 0.0903 - accuracy: 0.96 - ETA: 5s - loss: 0.0900 - accuracy: 0.96 - ETA: 5s - loss: 0.0898 - accuracy: 0.96 - ETA: 5s - loss: 0.0894 - accuracy: 0.96 - ETA: 5s - loss: 0.0899 - accuracy: 0.96 - ETA: 5s - loss: 0.0896 - accuracy: 0.96 - ETA: 5s - loss: 0.0895 - accuracy: 0.96 - ETA: 5s - loss: 0.0896 - accuracy: 0.96 - ETA: 5s - loss: 0.0895 - accuracy: 0.96 - ETA: 5s - loss: 0.0896 - accuracy: 0.96 - ETA: 5s - loss: 0.0897 - accuracy: 0.96 - ETA: 5s - loss: 0.0892 - accuracy: 0.96 - ETA: 5s - loss: 0.0904 - accuracy: 0.96 - ETA: 5s - loss: 0.0899 - accuracy: 0.96 - ETA: 5s - loss: 0.0897 - accuracy: 0.96 - ETA: 5s - loss: 0.0893 - accuracy: 0.96 - ETA: 5s - loss: 0.0897 - accuracy: 0.96 - ETA: 4s - loss: 0.0901 - accuracy: 0.96 - ETA: 4s - loss: 0.0899 - accuracy: 0.96 - ETA: 4s - loss: 0.0896 - accuracy: 0.96 - ETA: 4s - loss: 0.0892 - accuracy: 0.96 - ETA: 4s - loss: 0.0890 - accuracy: 0.96 - ETA: 4s - loss: 0.0896 - accuracy: 0.96 - ETA: 4s - loss: 0.0902 - accuracy: 0.96 - ETA: 4s - loss: 0.0900 - accuracy: 0.96 - ETA: 4s - loss: 0.0905 - accuracy: 0.96 - ETA: 4s - loss: 0.0901 - accuracy: 0.96 - ETA: 4s - loss: 0.0898 - accuracy: 0.96 - ETA: 4s - loss: 0.0897 - accuracy: 0.96 - ETA: 4s - loss: 0.0895 - accuracy: 0.96 - ETA: 4s - loss: 0.0896 - accuracy: 0.96 - ETA: 4s - loss: 0.0893 - accuracy: 0.96 - ETA: 4s - loss: 0.0895 - accuracy: 0.96 - ETA: 4s - loss: 0.0895 - accuracy: 0.96 - ETA: 3s - loss: 0.0897 - accuracy: 0.96 - ETA: 3s - loss: 0.0902 - accuracy: 0.96 - ETA: 3s - loss: 0.0903 - accuracy: 0.96 - ETA: 3s - loss: 0.0901 - accuracy: 0.96 - ETA: 3s - loss: 0.0904 - accuracy: 0.96 - ETA: 3s - loss: 0.0904 - accuracy: 0.96 - ETA: 3s - loss: 0.0910 - accuracy: 0.96 - ETA: 3s - loss: 0.0912 - accuracy: 0.96 - ETA: 3s - loss: 0.0911 - accuracy: 0.96 - ETA: 3s - loss: 0.0909 - accuracy: 0.96 - ETA: 3s - loss: 0.0909 - accuracy: 0.96 - ETA: 3s - loss: 0.0908 - accuracy: 0.96 - ETA: 3s - loss: 0.0910 - accuracy: 0.96 - ETA: 3s - loss: 0.0909 - accuracy: 0.96 - ETA: 3s - loss: 0.0912 - accuracy: 0.96 - ETA: 3s - loss: 0.0912 - accuracy: 0.96 - ETA: 3s - loss: 0.0919 - accuracy: 0.96 - ETA: 3s - loss: 0.0919 - accuracy: 0.96 - ETA: 3s - loss: 0.0917 - accuracy: 0.96 - ETA: 2s - loss: 0.0917 - accuracy: 0.96 - ETA: 2s - loss: 0.0918 - accuracy: 0.96 - ETA: 2s - loss: 0.0917 - accuracy: 0.96 - ETA: 2s - loss: 0.0919 - accuracy: 0.96 - ETA: 2s - loss: 0.0920 - accuracy: 0.96 - ETA: 2s - loss: 0.0924 - accuracy: 0.96 - ETA: 2s - loss: 0.0926 - accuracy: 0.96 - ETA: 2s - loss: 0.0926 - accuracy: 0.96 - ETA: 2s - loss: 0.0926 - accuracy: 0.96 - ETA: 2s - loss: 0.0925 - accuracy: 0.96 - ETA: 2s - loss: 0.0923 - accuracy: 0.96 - ETA: 2s - loss: 0.0924 - accuracy: 0.96 - ETA: 2s - loss: 0.0924 - accuracy: 0.96 - ETA: 2s - loss: 0.0926 - accuracy: 0.96 - ETA: 2s - loss: 0.0925 - accuracy: 0.96 - ETA: 2s - loss: 0.0924 - accuracy: 0.96 - ETA: 2s - loss: 0.0926 - accuracy: 0.96 - ETA: 2s - loss: 0.0928 - accuracy: 0.96 - ETA: 2s - loss: 0.0928 - accuracy: 0.96 - ETA: 1s - loss: 0.0928 - accuracy: 0.96 - ETA: 1s - loss: 0.0931 - accuracy: 0.96 - ETA: 1s - loss: 0.0927 - accuracy: 0.96 - ETA: 1s - loss: 0.0929 - accuracy: 0.96 - ETA: 1s - loss: 0.0928 - accuracy: 0.96 - ETA: 1s - loss: 0.0929 - accuracy: 0.96 - ETA: 1s - loss: 0.0927 - accuracy: 0.96 - ETA: 1s - loss: 0.0927 - accuracy: 0.96 - ETA: 1s - loss: 0.0925 - accuracy: 0.96 - ETA: 1s - loss: 0.0925 - accuracy: 0.96 - ETA: 1s - loss: 0.0925 - accuracy: 0.96 - ETA: 1s - loss: 0.0922 - accuracy: 0.96 - ETA: 1s - loss: 0.0921 - accuracy: 0.96 - ETA: 1s - loss: 0.0927 - accuracy: 0.96 - ETA: 1s - loss: 0.0929 - accuracy: 0.96 - ETA: 1s - loss: 0.0931 - accuracy: 0.96 - ETA: 1s - loss: 0.0934 - accuracy: 0.96 - ETA: 1s - loss: 0.0931 - accuracy: 0.96 - ETA: 0s - loss: 0.0930 - accuracy: 0.96 - ETA: 0s - loss: 0.0934 - accuracy: 0.96 - ETA: 0s - loss: 0.0932 - accuracy: 0.96 - ETA: 0s - loss: 0.0930 - accuracy: 0.96 - ETA: 0s - loss: 0.0928 - accuracy: 0.96 - ETA: 0s - loss: 0.0928 - accuracy: 0.96 - ETA: 0s - loss: 0.0926 - accuracy: 0.96 - ETA: 0s - loss: 0.0925 - accuracy: 0.96 - ETA: 0s - loss: 0.0928 - accuracy: 0.96 - ETA: 0s - loss: 0.0928 - accuracy: 0.96 - ETA: 0s - loss: 0.0930 - accuracy: 0.96 - ETA: 0s - loss: 0.0931 - accuracy: 0.96 - ETA: 0s - loss: 0.0934 - accuracy: 0.96 - ETA: 0s - loss: 0.0934 - accuracy: 0.96 - ETA: 0s - loss: 0.0935 - accuracy: 0.96 - ETA: 0s - loss: 0.0936 - accuracy: 0.96 - ETA: 0s - loss: 0.0937 - accuracy: 0.96 - ETA: 0s - loss: 0.0934 - accuracy: 0.96 - ETA: 0s - loss: 0.0934 - accuracy: 0.96 - ETA: 0s - loss: 0.0935 - accuracy: 0.96 - 11s 14ms/step - loss: 0.0935 - accuracy: 0.9625 - val_loss: 0.4603 - val_accuracy: 0.7860\n"
     ]
    },
    {
     "name": "stdout",
     "output_type": "stream",
     "text": [
      "Epoch 5/5\n",
      "804/804 [==============================] - ETA: 10s - loss: 0.0373 - accuracy: 1.000 - ETA: 8s - loss: 0.0948 - accuracy: 0.963 - ETA: 9s - loss: 0.1071 - accuracy: 0.94 - ETA: 9s - loss: 0.1041 - accuracy: 0.94 - ETA: 9s - loss: 0.1008 - accuracy: 0.95 - ETA: 9s - loss: 0.0950 - accuracy: 0.95 - ETA: 9s - loss: 0.0941 - accuracy: 0.95 - ETA: 9s - loss: 0.0921 - accuracy: 0.95 - ETA: 9s - loss: 0.0888 - accuracy: 0.95 - ETA: 9s - loss: 0.0871 - accuracy: 0.95 - ETA: 9s - loss: 0.0869 - accuracy: 0.96 - ETA: 9s - loss: 0.0851 - accuracy: 0.96 - ETA: 9s - loss: 0.0813 - accuracy: 0.96 - ETA: 9s - loss: 0.0800 - accuracy: 0.96 - ETA: 9s - loss: 0.0785 - accuracy: 0.96 - ETA: 9s - loss: 0.0770 - accuracy: 0.96 - ETA: 9s - loss: 0.0784 - accuracy: 0.96 - ETA: 9s - loss: 0.0758 - accuracy: 0.96 - ETA: 9s - loss: 0.0784 - accuracy: 0.96 - ETA: 9s - loss: 0.0780 - accuracy: 0.96 - ETA: 9s - loss: 0.0781 - accuracy: 0.96 - ETA: 9s - loss: 0.0800 - accuracy: 0.96 - ETA: 9s - loss: 0.0797 - accuracy: 0.96 - ETA: 8s - loss: 0.0816 - accuracy: 0.96 - ETA: 8s - loss: 0.0819 - accuracy: 0.96 - ETA: 8s - loss: 0.0811 - accuracy: 0.96 - ETA: 8s - loss: 0.0802 - accuracy: 0.96 - ETA: 8s - loss: 0.0811 - accuracy: 0.96 - ETA: 8s - loss: 0.0807 - accuracy: 0.96 - ETA: 8s - loss: 0.0819 - accuracy: 0.96 - ETA: 8s - loss: 0.0805 - accuracy: 0.96 - ETA: 8s - loss: 0.0806 - accuracy: 0.96 - ETA: 8s - loss: 0.0800 - accuracy: 0.96 - ETA: 8s - loss: 0.0800 - accuracy: 0.96 - ETA: 8s - loss: 0.0804 - accuracy: 0.96 - ETA: 8s - loss: 0.0799 - accuracy: 0.96 - ETA: 8s - loss: 0.0818 - accuracy: 0.96 - ETA: 8s - loss: 0.0818 - accuracy: 0.96 - ETA: 8s - loss: 0.0815 - accuracy: 0.96 - ETA: 8s - loss: 0.0830 - accuracy: 0.96 - ETA: 8s - loss: 0.0834 - accuracy: 0.96 - ETA: 7s - loss: 0.0839 - accuracy: 0.96 - ETA: 7s - loss: 0.0856 - accuracy: 0.96 - ETA: 7s - loss: 0.0850 - accuracy: 0.96 - ETA: 7s - loss: 0.0857 - accuracy: 0.96 - ETA: 7s - loss: 0.0858 - accuracy: 0.96 - ETA: 7s - loss: 0.0849 - accuracy: 0.96 - ETA: 7s - loss: 0.0850 - accuracy: 0.96 - ETA: 7s - loss: 0.0856 - accuracy: 0.96 - ETA: 7s - loss: 0.0854 - accuracy: 0.96 - ETA: 7s - loss: 0.0853 - accuracy: 0.96 - ETA: 7s - loss: 0.0853 - accuracy: 0.96 - ETA: 7s - loss: 0.0846 - accuracy: 0.96 - ETA: 7s - loss: 0.0845 - accuracy: 0.96 - ETA: 7s - loss: 0.0839 - accuracy: 0.96 - ETA: 7s - loss: 0.0843 - accuracy: 0.96 - ETA: 7s - loss: 0.0855 - accuracy: 0.96 - ETA: 7s - loss: 0.0853 - accuracy: 0.96 - ETA: 7s - loss: 0.0854 - accuracy: 0.96 - ETA: 7s - loss: 0.0852 - accuracy: 0.96 - ETA: 6s - loss: 0.0864 - accuracy: 0.96 - ETA: 6s - loss: 0.0865 - accuracy: 0.96 - ETA: 6s - loss: 0.0867 - accuracy: 0.96 - ETA: 6s - loss: 0.0863 - accuracy: 0.96 - ETA: 6s - loss: 0.0861 - accuracy: 0.96 - ETA: 6s - loss: 0.0859 - accuracy: 0.96 - ETA: 6s - loss: 0.0855 - accuracy: 0.96 - ETA: 6s - loss: 0.0868 - accuracy: 0.96 - ETA: 6s - loss: 0.0875 - accuracy: 0.96 - ETA: 6s - loss: 0.0874 - accuracy: 0.96 - ETA: 6s - loss: 0.0870 - accuracy: 0.96 - ETA: 6s - loss: 0.0875 - accuracy: 0.96 - ETA: 6s - loss: 0.0880 - accuracy: 0.96 - ETA: 6s - loss: 0.0883 - accuracy: 0.96 - ETA: 6s - loss: 0.0891 - accuracy: 0.96 - ETA: 6s - loss: 0.0895 - accuracy: 0.96 - ETA: 6s - loss: 0.0895 - accuracy: 0.96 - ETA: 6s - loss: 0.0896 - accuracy: 0.96 - ETA: 6s - loss: 0.0895 - accuracy: 0.96 - ETA: 5s - loss: 0.0900 - accuracy: 0.96 - ETA: 5s - loss: 0.0896 - accuracy: 0.96 - ETA: 5s - loss: 0.0894 - accuracy: 0.96 - ETA: 5s - loss: 0.0894 - accuracy: 0.96 - ETA: 5s - loss: 0.0895 - accuracy: 0.96 - ETA: 5s - loss: 0.0895 - accuracy: 0.96 - ETA: 5s - loss: 0.0891 - accuracy: 0.96 - ETA: 5s - loss: 0.0888 - accuracy: 0.96 - ETA: 5s - loss: 0.0883 - accuracy: 0.96 - ETA: 5s - loss: 0.0875 - accuracy: 0.96 - ETA: 5s - loss: 0.0875 - accuracy: 0.96 - ETA: 5s - loss: 0.0878 - accuracy: 0.96 - ETA: 5s - loss: 0.0880 - accuracy: 0.96 - ETA: 5s - loss: 0.0879 - accuracy: 0.96 - ETA: 5s - loss: 0.0882 - accuracy: 0.96 - ETA: 5s - loss: 0.0884 - accuracy: 0.96 - ETA: 5s - loss: 0.0889 - accuracy: 0.96 - ETA: 5s - loss: 0.0890 - accuracy: 0.96 - ETA: 4s - loss: 0.0895 - accuracy: 0.96 - ETA: 4s - loss: 0.0894 - accuracy: 0.96 - ETA: 4s - loss: 0.0892 - accuracy: 0.96 - ETA: 4s - loss: 0.0894 - accuracy: 0.96 - ETA: 4s - loss: 0.0900 - accuracy: 0.96 - ETA: 4s - loss: 0.0896 - accuracy: 0.96 - ETA: 4s - loss: 0.0898 - accuracy: 0.96 - ETA: 4s - loss: 0.0898 - accuracy: 0.96 - ETA: 4s - loss: 0.0900 - accuracy: 0.96 - ETA: 4s - loss: 0.0895 - accuracy: 0.96 - ETA: 4s - loss: 0.0894 - accuracy: 0.96 - ETA: 4s - loss: 0.0895 - accuracy: 0.96 - ETA: 4s - loss: 0.0896 - accuracy: 0.96 - ETA: 4s - loss: 0.0898 - accuracy: 0.96 - ETA: 4s - loss: 0.0895 - accuracy: 0.96 - ETA: 4s - loss: 0.0891 - accuracy: 0.96 - ETA: 4s - loss: 0.0892 - accuracy: 0.96 - ETA: 4s - loss: 0.0903 - accuracy: 0.96 - ETA: 4s - loss: 0.0899 - accuracy: 0.96 - ETA: 3s - loss: 0.0897 - accuracy: 0.96 - ETA: 3s - loss: 0.0894 - accuracy: 0.96 - ETA: 3s - loss: 0.0893 - accuracy: 0.96 - ETA: 3s - loss: 0.0894 - accuracy: 0.96 - ETA: 3s - loss: 0.0893 - accuracy: 0.96 - ETA: 3s - loss: 0.0897 - accuracy: 0.96 - ETA: 3s - loss: 0.0897 - accuracy: 0.96 - ETA: 3s - loss: 0.0892 - accuracy: 0.96 - ETA: 3s - loss: 0.0895 - accuracy: 0.96 - ETA: 3s - loss: 0.0894 - accuracy: 0.96 - ETA: 3s - loss: 0.0897 - accuracy: 0.96 - ETA: 3s - loss: 0.0896 - accuracy: 0.96 - ETA: 3s - loss: 0.0893 - accuracy: 0.96 - ETA: 3s - loss: 0.0894 - accuracy: 0.96 - ETA: 3s - loss: 0.0894 - accuracy: 0.96 - ETA: 3s - loss: 0.0892 - accuracy: 0.96 - ETA: 3s - loss: 0.0890 - accuracy: 0.96 - ETA: 3s - loss: 0.0890 - accuracy: 0.96 - ETA: 2s - loss: 0.0892 - accuracy: 0.96 - ETA: 2s - loss: 0.0890 - accuracy: 0.96 - ETA: 2s - loss: 0.0890 - accuracy: 0.96 - ETA: 2s - loss: 0.0889 - accuracy: 0.96 - ETA: 2s - loss: 0.0887 - accuracy: 0.96 - ETA: 2s - loss: 0.0885 - accuracy: 0.96 - ETA: 2s - loss: 0.0882 - accuracy: 0.96 - ETA: 2s - loss: 0.0883 - accuracy: 0.96 - ETA: 2s - loss: 0.0884 - accuracy: 0.96 - ETA: 2s - loss: 0.0886 - accuracy: 0.96 - ETA: 2s - loss: 0.0885 - accuracy: 0.96 - ETA: 2s - loss: 0.0884 - accuracy: 0.96 - ETA: 2s - loss: 0.0887 - accuracy: 0.96 - ETA: 2s - loss: 0.0886 - accuracy: 0.96 - ETA: 2s - loss: 0.0886 - accuracy: 0.96 - ETA: 2s - loss: 0.0887 - accuracy: 0.96 - ETA: 2s - loss: 0.0890 - accuracy: 0.96 - ETA: 2s - loss: 0.0889 - accuracy: 0.96 - ETA: 1s - loss: 0.0890 - accuracy: 0.96 - ETA: 1s - loss: 0.0891 - accuracy: 0.96 - ETA: 1s - loss: 0.0890 - accuracy: 0.96 - ETA: 1s - loss: 0.0893 - accuracy: 0.96 - ETA: 1s - loss: 0.0892 - accuracy: 0.96 - ETA: 1s - loss: 0.0891 - accuracy: 0.96 - ETA: 1s - loss: 0.0896 - accuracy: 0.96 - ETA: 1s - loss: 0.0894 - accuracy: 0.96 - ETA: 1s - loss: 0.0896 - accuracy: 0.96 - ETA: 1s - loss: 0.0898 - accuracy: 0.96 - ETA: 1s - loss: 0.0899 - accuracy: 0.96 - ETA: 1s - loss: 0.0903 - accuracy: 0.96 - ETA: 1s - loss: 0.0903 - accuracy: 0.96 - ETA: 1s - loss: 0.0902 - accuracy: 0.96 - ETA: 1s - loss: 0.0902 - accuracy: 0.96 - ETA: 1s - loss: 0.0904 - accuracy: 0.96 - ETA: 1s - loss: 0.0902 - accuracy: 0.96 - ETA: 1s - loss: 0.0904 - accuracy: 0.96 - ETA: 1s - loss: 0.0907 - accuracy: 0.96 - ETA: 0s - loss: 0.0907 - accuracy: 0.96 - ETA: 0s - loss: 0.0906 - accuracy: 0.96 - ETA: 0s - loss: 0.0906 - accuracy: 0.96 - ETA: 0s - loss: 0.0907 - accuracy: 0.96 - ETA: 0s - loss: 0.0906 - accuracy: 0.96 - ETA: 0s - loss: 0.0908 - accuracy: 0.96 - ETA: 0s - loss: 0.0907 - accuracy: 0.96 - ETA: 0s - loss: 0.0909 - accuracy: 0.96 - ETA: 0s - loss: 0.0910 - accuracy: 0.96 - ETA: 0s - loss: 0.0912 - accuracy: 0.96 - ETA: 0s - loss: 0.0911 - accuracy: 0.96 - ETA: 0s - loss: 0.0911 - accuracy: 0.96 - ETA: 0s - loss: 0.0914 - accuracy: 0.96 - ETA: 0s - loss: 0.0915 - accuracy: 0.96 - ETA: 0s - loss: 0.0913 - accuracy: 0.96 - ETA: 0s - loss: 0.0914 - accuracy: 0.96 - ETA: 0s - loss: 0.0914 - accuracy: 0.96 - ETA: 0s - loss: 0.0913 - accuracy: 0.96 - ETA: 0s - loss: 0.0912 - accuracy: 0.96 - 11s 14ms/step - loss: 0.0911 - accuracy: 0.9630 - val_loss: 0.4612 - val_accuracy: 0.7866\n"
     ]
    },
    {
     "data": {
      "text/html": [
       "<span style=\"color:#4527A0\"><h1 style=\"font-size:18px\">Trial complete</h1></span>"
      ],
      "text/plain": [
       "<IPython.core.display.HTML object>"
      ]
     },
     "metadata": {},
     "output_type": "display_data"
    },
    {
     "data": {
      "text/html": [
       "<span style=\"color:#4527A0\"><h1 style=\"font-size:18px\">Trial summary</h1></span>"
      ],
      "text/plain": [
       "<IPython.core.display.HTML object>"
      ]
     },
     "metadata": {},
     "output_type": "display_data"
    },
    {
     "data": {
      "text/html": [
       "<span style=\"color:cyan\"> |-Trial ID: 3154f5121f36d84a788c1df8691cd1bd</span>"
      ],
      "text/plain": [
       "<IPython.core.display.HTML object>"
      ]
     },
     "metadata": {},
     "output_type": "display_data"
    },
    {
     "data": {
      "text/html": [
       "<span style=\"color:cyan\"> |-Score: 0.7865889072418213</span>"
      ],
      "text/plain": [
       "<IPython.core.display.HTML object>"
      ]
     },
     "metadata": {},
     "output_type": "display_data"
    },
    {
     "data": {
      "text/html": [
       "<span style=\"color:cyan\"> |-Best step: 0</span>"
      ],
      "text/plain": [
       "<IPython.core.display.HTML object>"
      ]
     },
     "metadata": {},
     "output_type": "display_data"
    },
    {
     "data": {
      "text/html": [
       "<span style=\"color:#7E57C2\"><h2 style=\"font-size:16px\">Hyperparameters:</h2></span>"
      ],
      "text/plain": [
       "<IPython.core.display.HTML object>"
      ]
     },
     "metadata": {},
     "output_type": "display_data"
    },
    {
     "data": {
      "text/html": [
       "<span style=\"color:cyan\"> |-activation: tanh</span>"
      ],
      "text/plain": [
       "<IPython.core.display.HTML object>"
      ]
     },
     "metadata": {},
     "output_type": "display_data"
    },
    {
     "data": {
      "text/html": [
       "<span style=\"color:blue\"> |-first_units: 75</span>"
      ],
      "text/plain": [
       "<IPython.core.display.HTML object>"
      ]
     },
     "metadata": {},
     "output_type": "display_data"
    },
    {
     "data": {
      "text/html": [
       "<span style=\"color:cyan\"> |-num_layers: 2</span>"
      ],
      "text/plain": [
       "<IPython.core.display.HTML object>"
      ]
     },
     "metadata": {},
     "output_type": "display_data"
    },
    {
     "data": {
      "text/html": [
       "<span style=\"color:blue\"> |-tuner/bracket: 0</span>"
      ],
      "text/plain": [
       "<IPython.core.display.HTML object>"
      ]
     },
     "metadata": {},
     "output_type": "display_data"
    },
    {
     "data": {
      "text/html": [
       "<span style=\"color:cyan\"> |-tuner/epochs: 5</span>"
      ],
      "text/plain": [
       "<IPython.core.display.HTML object>"
      ]
     },
     "metadata": {},
     "output_type": "display_data"
    },
    {
     "data": {
      "text/html": [
       "<span style=\"color:blue\"> |-tuner/initial_epoch: 0</span>"
      ],
      "text/plain": [
       "<IPython.core.display.HTML object>"
      ]
     },
     "metadata": {},
     "output_type": "display_data"
    },
    {
     "data": {
      "text/html": [
       "<span style=\"color:cyan\"> |-tuner/round: 0</span>"
      ],
      "text/plain": [
       "<IPython.core.display.HTML object>"
      ]
     },
     "metadata": {},
     "output_type": "display_data"
    },
    {
     "data": {
      "text/html": [
       "<span style=\"color:blue\"> |-units_0: 25</span>"
      ],
      "text/plain": [
       "<IPython.core.display.HTML object>"
      ]
     },
     "metadata": {},
     "output_type": "display_data"
    },
    {
     "data": {
      "text/html": [
       "<span style=\"color:cyan\"> |-units_1: 45</span>"
      ],
      "text/plain": [
       "<IPython.core.display.HTML object>"
      ]
     },
     "metadata": {},
     "output_type": "display_data"
    },
    {
     "data": {
      "text/html": [
       "<span style=\"color:blue\"> |-units_2: 40</span>"
      ],
      "text/plain": [
       "<IPython.core.display.HTML object>"
      ]
     },
     "metadata": {},
     "output_type": "display_data"
    },
    {
     "data": {
      "text/html": [
       "<span style=\"color:cyan\"> |-units_3: 25</span>"
      ],
      "text/plain": [
       "<IPython.core.display.HTML object>"
      ]
     },
     "metadata": {},
     "output_type": "display_data"
    },
    {
     "data": {
      "text/html": [
       "<span style=\"color:blue\"> |-units_4: 25</span>"
      ],
      "text/plain": [
       "<IPython.core.display.HTML object>"
      ]
     },
     "metadata": {},
     "output_type": "display_data"
    },
    {
     "data": {
      "text/html": [
       "<span style=\"color:#4527A0\"><h1 style=\"font-size:18px\">Starting new trial</h1></span>"
      ],
      "text/plain": [
       "<IPython.core.display.HTML object>"
      ]
     },
     "metadata": {},
     "output_type": "display_data"
    },
    {
     "name": "stdout",
     "output_type": "stream",
     "text": [
      "Epoch 1/5\n",
      "804/804 [==============================] - ETA: 5:59 - loss: 0.6983 - accuracy: 0.46 - ETA: 2s - loss: 0.6475 - accuracy: 0.5938 - ETA: 3s - loss: 0.6397 - accuracy: 0.61 - ETA: 2s - loss: 0.6195 - accuracy: 0.63 - ETA: 2s - loss: 0.5980 - accuracy: 0.66 - ETA: 2s - loss: 0.5876 - accuracy: 0.66 - ETA: 2s - loss: 0.5793 - accuracy: 0.67 - ETA: 2s - loss: 0.5734 - accuracy: 0.68 - ETA: 2s - loss: 0.5720 - accuracy: 0.69 - ETA: 2s - loss: 0.5652 - accuracy: 0.69 - ETA: 2s - loss: 0.5573 - accuracy: 0.70 - ETA: 2s - loss: 0.5530 - accuracy: 0.70 - ETA: 2s - loss: 0.5473 - accuracy: 0.71 - ETA: 2s - loss: 0.5451 - accuracy: 0.71 - ETA: 2s - loss: 0.5424 - accuracy: 0.71 - ETA: 2s - loss: 0.5415 - accuracy: 0.71 - ETA: 2s - loss: 0.5400 - accuracy: 0.71 - ETA: 2s - loss: 0.5356 - accuracy: 0.71 - ETA: 2s - loss: 0.5338 - accuracy: 0.72 - ETA: 2s - loss: 0.5339 - accuracy: 0.72 - ETA: 2s - loss: 0.5322 - accuracy: 0.72 - ETA: 2s - loss: 0.5298 - accuracy: 0.72 - ETA: 2s - loss: 0.5287 - accuracy: 0.72 - ETA: 2s - loss: 0.5266 - accuracy: 0.73 - ETA: 2s - loss: 0.5243 - accuracy: 0.73 - ETA: 2s - loss: 0.5218 - accuracy: 0.73 - ETA: 2s - loss: 0.5198 - accuracy: 0.73 - ETA: 2s - loss: 0.5189 - accuracy: 0.73 - ETA: 2s - loss: 0.5195 - accuracy: 0.73 - ETA: 2s - loss: 0.5174 - accuracy: 0.73 - ETA: 2s - loss: 0.5173 - accuracy: 0.73 - ETA: 2s - loss: 0.5166 - accuracy: 0.73 - ETA: 2s - loss: 0.5158 - accuracy: 0.73 - ETA: 2s - loss: 0.5149 - accuracy: 0.74 - ETA: 2s - loss: 0.5135 - accuracy: 0.74 - ETA: 2s - loss: 0.5116 - accuracy: 0.74 - ETA: 2s - loss: 0.5107 - accuracy: 0.74 - ETA: 2s - loss: 0.5107 - accuracy: 0.74 - ETA: 2s - loss: 0.5098 - accuracy: 0.74 - ETA: 2s - loss: 0.5086 - accuracy: 0.74 - ETA: 2s - loss: 0.5070 - accuracy: 0.74 - ETA: 1s - loss: 0.5053 - accuracy: 0.74 - ETA: 1s - loss: 0.5046 - accuracy: 0.74 - ETA: 1s - loss: 0.5049 - accuracy: 0.74 - ETA: 1s - loss: 0.5046 - accuracy: 0.74 - ETA: 1s - loss: 0.5030 - accuracy: 0.74 - ETA: 1s - loss: 0.5024 - accuracy: 0.74 - ETA: 1s - loss: 0.5011 - accuracy: 0.74 - ETA: 1s - loss: 0.5010 - accuracy: 0.75 - ETA: 1s - loss: 0.5003 - accuracy: 0.75 - ETA: 1s - loss: 0.4991 - accuracy: 0.75 - ETA: 1s - loss: 0.4980 - accuracy: 0.75 - ETA: 1s - loss: 0.4981 - accuracy: 0.75 - ETA: 1s - loss: 0.4974 - accuracy: 0.75 - ETA: 1s - loss: 0.4966 - accuracy: 0.75 - ETA: 1s - loss: 0.4955 - accuracy: 0.75 - ETA: 1s - loss: 0.4957 - accuracy: 0.75 - ETA: 1s - loss: 0.4948 - accuracy: 0.75 - ETA: 1s - loss: 0.4941 - accuracy: 0.75 - ETA: 1s - loss: 0.4937 - accuracy: 0.75 - ETA: 1s - loss: 0.4924 - accuracy: 0.75 - ETA: 1s - loss: 0.4920 - accuracy: 0.75 - ETA: 1s - loss: 0.4909 - accuracy: 0.75 - ETA: 1s - loss: 0.4905 - accuracy: 0.76 - ETA: 1s - loss: 0.4907 - accuracy: 0.75 - ETA: 1s - loss: 0.4903 - accuracy: 0.76 - ETA: 1s - loss: 0.4895 - accuracy: 0.76 - ETA: 1s - loss: 0.4890 - accuracy: 0.76 - ETA: 1s - loss: 0.4890 - accuracy: 0.76 - ETA: 1s - loss: 0.4892 - accuracy: 0.76 - ETA: 1s - loss: 0.4886 - accuracy: 0.76 - ETA: 1s - loss: 0.4882 - accuracy: 0.76 - ETA: 1s - loss: 0.4879 - accuracy: 0.76 - ETA: 1s - loss: 0.4881 - accuracy: 0.76 - ETA: 1s - loss: 0.4878 - accuracy: 0.76 - ETA: 1s - loss: 0.4876 - accuracy: 0.76 - ETA: 0s - loss: 0.4875 - accuracy: 0.76 - ETA: 0s - loss: 0.4868 - accuracy: 0.76 - ETA: 0s - loss: 0.4863 - accuracy: 0.76 - ETA: 0s - loss: 0.4863 - accuracy: 0.76 - ETA: 0s - loss: 0.4861 - accuracy: 0.76 - ETA: 0s - loss: 0.4857 - accuracy: 0.76 - ETA: 0s - loss: 0.4856 - accuracy: 0.76 - ETA: 0s - loss: 0.4858 - accuracy: 0.76 - ETA: 0s - loss: 0.4857 - accuracy: 0.76 - ETA: 0s - loss: 0.4859 - accuracy: 0.76 - ETA: 0s - loss: 0.4855 - accuracy: 0.76 - ETA: 0s - loss: 0.4855 - accuracy: 0.76 - ETA: 0s - loss: 0.4858 - accuracy: 0.76 - ETA: 0s - loss: 0.4861 - accuracy: 0.76 - ETA: 0s - loss: 0.4861 - accuracy: 0.76 - ETA: 0s - loss: 0.4858 - accuracy: 0.76 - ETA: 0s - loss: 0.4855 - accuracy: 0.76 - ETA: 0s - loss: 0.4862 - accuracy: 0.76 - ETA: 0s - loss: 0.4861 - accuracy: 0.76 - ETA: 0s - loss: 0.4863 - accuracy: 0.76 - ETA: 0s - loss: 0.4858 - accuracy: 0.76 - ETA: 0s - loss: 0.4854 - accuracy: 0.76 - ETA: 0s - loss: 0.4847 - accuracy: 0.76 - ETA: 0s - loss: 0.4849 - accuracy: 0.76 - ETA: 0s - loss: 0.4850 - accuracy: 0.76 - ETA: 0s - loss: 0.4845 - accuracy: 0.76 - ETA: 0s - loss: 0.4844 - accuracy: 0.76 - ETA: 0s - loss: 0.4840 - accuracy: 0.76 - ETA: 0s - loss: 0.4840 - accuracy: 0.76 - ETA: 0s - loss: 0.4843 - accuracy: 0.76 - 12s 15ms/step - loss: 0.4842 - accuracy: 0.7642 - val_loss: 0.4580 - val_accuracy: 0.7883\n",
      "Epoch 2/5\n"
     ]
    },
    {
     "name": "stdout",
     "output_type": "stream",
     "text": [
      "804/804 [==============================] - ETA: 5s - loss: 0.5018 - accuracy: 0.75 - ETA: 3s - loss: 0.2439 - accuracy: 0.89 - ETA: 3s - loss: 0.2220 - accuracy: 0.90 - ETA: 3s - loss: 0.2129 - accuracy: 0.91 - ETA: 3s - loss: 0.1970 - accuracy: 0.92 - ETA: 3s - loss: 0.1845 - accuracy: 0.93 - ETA: 3s - loss: 0.1838 - accuracy: 0.93 - ETA: 3s - loss: 0.1762 - accuracy: 0.93 - ETA: 3s - loss: 0.1682 - accuracy: 0.94 - ETA: 3s - loss: 0.1667 - accuracy: 0.94 - ETA: 3s - loss: 0.1673 - accuracy: 0.94 - ETA: 3s - loss: 0.1662 - accuracy: 0.94 - ETA: 3s - loss: 0.1634 - accuracy: 0.94 - ETA: 3s - loss: 0.1666 - accuracy: 0.94 - ETA: 3s - loss: 0.1618 - accuracy: 0.94 - ETA: 3s - loss: 0.1582 - accuracy: 0.94 - ETA: 3s - loss: 0.1539 - accuracy: 0.94 - ETA: 3s - loss: 0.1525 - accuracy: 0.94 - ETA: 3s - loss: 0.1525 - accuracy: 0.94 - ETA: 3s - loss: 0.1526 - accuracy: 0.94 - ETA: 3s - loss: 0.1497 - accuracy: 0.95 - ETA: 3s - loss: 0.1491 - accuracy: 0.95 - ETA: 2s - loss: 0.1483 - accuracy: 0.95 - ETA: 2s - loss: 0.1473 - accuracy: 0.95 - ETA: 2s - loss: 0.1487 - accuracy: 0.95 - ETA: 2s - loss: 0.1472 - accuracy: 0.95 - ETA: 2s - loss: 0.1480 - accuracy: 0.95 - ETA: 2s - loss: 0.1460 - accuracy: 0.95 - ETA: 2s - loss: 0.1460 - accuracy: 0.95 - ETA: 2s - loss: 0.1448 - accuracy: 0.95 - ETA: 2s - loss: 0.1429 - accuracy: 0.95 - ETA: 2s - loss: 0.1432 - accuracy: 0.95 - ETA: 2s - loss: 0.1424 - accuracy: 0.95 - ETA: 2s - loss: 0.1419 - accuracy: 0.95 - ETA: 2s - loss: 0.1412 - accuracy: 0.95 - ETA: 2s - loss: 0.1406 - accuracy: 0.95 - ETA: 2s - loss: 0.1400 - accuracy: 0.95 - ETA: 2s - loss: 0.1398 - accuracy: 0.95 - ETA: 2s - loss: 0.1399 - accuracy: 0.95 - ETA: 2s - loss: 0.1400 - accuracy: 0.95 - ETA: 2s - loss: 0.1398 - accuracy: 0.95 - ETA: 2s - loss: 0.1393 - accuracy: 0.95 - ETA: 2s - loss: 0.1398 - accuracy: 0.95 - ETA: 2s - loss: 0.1398 - accuracy: 0.95 - ETA: 2s - loss: 0.1390 - accuracy: 0.95 - ETA: 2s - loss: 0.1389 - accuracy: 0.95 - ETA: 2s - loss: 0.1392 - accuracy: 0.95 - ETA: 2s - loss: 0.1385 - accuracy: 0.95 - ETA: 2s - loss: 0.1384 - accuracy: 0.95 - ETA: 2s - loss: 0.1380 - accuracy: 0.95 - ETA: 2s - loss: 0.1375 - accuracy: 0.95 - ETA: 2s - loss: 0.1364 - accuracy: 0.95 - ETA: 1s - loss: 0.1360 - accuracy: 0.95 - ETA: 1s - loss: 0.1363 - accuracy: 0.95 - ETA: 1s - loss: 0.1359 - accuracy: 0.95 - ETA: 1s - loss: 0.1360 - accuracy: 0.95 - ETA: 1s - loss: 0.1356 - accuracy: 0.95 - ETA: 1s - loss: 0.1351 - accuracy: 0.95 - ETA: 1s - loss: 0.1351 - accuracy: 0.95 - ETA: 1s - loss: 0.1352 - accuracy: 0.95 - ETA: 1s - loss: 0.1350 - accuracy: 0.95 - ETA: 1s - loss: 0.1346 - accuracy: 0.95 - ETA: 1s - loss: 0.1351 - accuracy: 0.95 - ETA: 1s - loss: 0.1345 - accuracy: 0.95 - ETA: 1s - loss: 0.1347 - accuracy: 0.95 - ETA: 1s - loss: 0.1342 - accuracy: 0.95 - ETA: 1s - loss: 0.1341 - accuracy: 0.95 - ETA: 1s - loss: 0.1339 - accuracy: 0.95 - ETA: 1s - loss: 0.1341 - accuracy: 0.95 - ETA: 1s - loss: 0.1339 - accuracy: 0.95 - ETA: 1s - loss: 0.1338 - accuracy: 0.95 - ETA: 1s - loss: 0.1348 - accuracy: 0.95 - ETA: 1s - loss: 0.1349 - accuracy: 0.95 - ETA: 1s - loss: 0.1345 - accuracy: 0.95 - ETA: 1s - loss: 0.1346 - accuracy: 0.95 - ETA: 1s - loss: 0.1346 - accuracy: 0.95 - ETA: 1s - loss: 0.1346 - accuracy: 0.95 - ETA: 1s - loss: 0.1348 - accuracy: 0.95 - ETA: 1s - loss: 0.1350 - accuracy: 0.95 - ETA: 1s - loss: 0.1350 - accuracy: 0.95 - ETA: 1s - loss: 0.1350 - accuracy: 0.95 - ETA: 1s - loss: 0.1350 - accuracy: 0.95 - ETA: 1s - loss: 0.1351 - accuracy: 0.95 - ETA: 1s - loss: 0.1349 - accuracy: 0.95 - ETA: 1s - loss: 0.1347 - accuracy: 0.95 - ETA: 1s - loss: 0.1344 - accuracy: 0.95 - ETA: 1s - loss: 0.1344 - accuracy: 0.95 - ETA: 1s - loss: 0.1343 - accuracy: 0.95 - ETA: 1s - loss: 0.1344 - accuracy: 0.95 - ETA: 1s - loss: 0.1345 - accuracy: 0.95 - ETA: 1s - loss: 0.1342 - accuracy: 0.95 - ETA: 1s - loss: 0.1340 - accuracy: 0.95 - ETA: 1s - loss: 0.1340 - accuracy: 0.95 - ETA: 1s - loss: 0.1337 - accuracy: 0.95 - ETA: 1s - loss: 0.1338 - accuracy: 0.95 - ETA: 1s - loss: 0.1337 - accuracy: 0.95 - ETA: 1s - loss: 0.1337 - accuracy: 0.95 - ETA: 1s - loss: 0.1338 - accuracy: 0.95 - ETA: 1s - loss: 0.1336 - accuracy: 0.95 - ETA: 0s - loss: 0.1338 - accuracy: 0.95 - ETA: 0s - loss: 0.1339 - accuracy: 0.95 - ETA: 0s - loss: 0.1339 - accuracy: 0.95 - ETA: 0s - loss: 0.1337 - accuracy: 0.95 - ETA: 0s - loss: 0.1337 - accuracy: 0.95 - ETA: 0s - loss: 0.1334 - accuracy: 0.95 - ETA: 0s - loss: 0.1332 - accuracy: 0.95 - ETA: 0s - loss: 0.1331 - accuracy: 0.95 - ETA: 0s - loss: 0.1332 - accuracy: 0.95 - ETA: 0s - loss: 0.1330 - accuracy: 0.95 - ETA: 0s - loss: 0.1334 - accuracy: 0.95 - ETA: 0s - loss: 0.1328 - accuracy: 0.95 - ETA: 0s - loss: 0.1329 - accuracy: 0.95 - ETA: 0s - loss: 0.1328 - accuracy: 0.95 - ETA: 0s - loss: 0.1333 - accuracy: 0.95 - ETA: 0s - loss: 0.1334 - accuracy: 0.95 - ETA: 0s - loss: 0.1334 - accuracy: 0.95 - ETA: 0s - loss: 0.1335 - accuracy: 0.95 - ETA: 0s - loss: 0.1334 - accuracy: 0.95 - ETA: 0s - loss: 0.1331 - accuracy: 0.95 - ETA: 0s - loss: 0.1330 - accuracy: 0.95 - ETA: 0s - loss: 0.1329 - accuracy: 0.95 - ETA: 0s - loss: 0.1329 - accuracy: 0.95 - ETA: 0s - loss: 0.1327 - accuracy: 0.95 - ETA: 0s - loss: 0.1323 - accuracy: 0.95 - 9s 11ms/step - loss: 0.1323 - accuracy: 0.9552 - val_loss: 0.5907 - val_accuracy: 0.6211\n",
      "Epoch 3/5\n"
     ]
    },
    {
     "name": "stdout",
     "output_type": "stream",
     "text": [
      "804/804 [==============================] - ETA: 12s - loss: 0.0677 - accuracy: 0.968 - ETA: 8s - loss: 0.1183 - accuracy: 0.947 - ETA: 8s - loss: 0.0914 - accuracy: 0.96 - ETA: 8s - loss: 0.0995 - accuracy: 0.95 - ETA: 8s - loss: 0.1082 - accuracy: 0.95 - ETA: 7s - loss: 0.1002 - accuracy: 0.95 - ETA: 7s - loss: 0.1060 - accuracy: 0.95 - ETA: 7s - loss: 0.1032 - accuracy: 0.95 - ETA: 7s - loss: 0.1035 - accuracy: 0.94 - ETA: 7s - loss: 0.1089 - accuracy: 0.94 - ETA: 6s - loss: 0.1091 - accuracy: 0.94 - ETA: 6s - loss: 0.1098 - accuracy: 0.94 - ETA: 6s - loss: 0.1074 - accuracy: 0.94 - ETA: 6s - loss: 0.1032 - accuracy: 0.95 - ETA: 6s - loss: 0.1064 - accuracy: 0.95 - ETA: 6s - loss: 0.1059 - accuracy: 0.95 - ETA: 6s - loss: 0.1038 - accuracy: 0.95 - ETA: 6s - loss: 0.1086 - accuracy: 0.95 - ETA: 6s - loss: 0.1078 - accuracy: 0.95 - ETA: 6s - loss: 0.1056 - accuracy: 0.95 - ETA: 6s - loss: 0.1031 - accuracy: 0.95 - ETA: 6s - loss: 0.1020 - accuracy: 0.95 - ETA: 6s - loss: 0.1012 - accuracy: 0.95 - ETA: 6s - loss: 0.1008 - accuracy: 0.95 - ETA: 6s - loss: 0.1001 - accuracy: 0.95 - ETA: 6s - loss: 0.1001 - accuracy: 0.95 - ETA: 6s - loss: 0.1018 - accuracy: 0.95 - ETA: 6s - loss: 0.1001 - accuracy: 0.95 - ETA: 6s - loss: 0.1000 - accuracy: 0.95 - ETA: 6s - loss: 0.1016 - accuracy: 0.95 - ETA: 6s - loss: 0.1034 - accuracy: 0.95 - ETA: 6s - loss: 0.1037 - accuracy: 0.95 - ETA: 6s - loss: 0.1032 - accuracy: 0.95 - ETA: 5s - loss: 0.1034 - accuracy: 0.95 - ETA: 5s - loss: 0.1023 - accuracy: 0.95 - ETA: 5s - loss: 0.1028 - accuracy: 0.95 - ETA: 5s - loss: 0.1017 - accuracy: 0.95 - ETA: 5s - loss: 0.1024 - accuracy: 0.95 - ETA: 5s - loss: 0.1016 - accuracy: 0.95 - ETA: 5s - loss: 0.1024 - accuracy: 0.95 - ETA: 5s - loss: 0.1021 - accuracy: 0.95 - ETA: 5s - loss: 0.1009 - accuracy: 0.95 - ETA: 5s - loss: 0.1014 - accuracy: 0.95 - ETA: 5s - loss: 0.1012 - accuracy: 0.95 - ETA: 5s - loss: 0.1006 - accuracy: 0.95 - ETA: 5s - loss: 0.0997 - accuracy: 0.95 - ETA: 4s - loss: 0.0988 - accuracy: 0.95 - ETA: 4s - loss: 0.0991 - accuracy: 0.95 - ETA: 4s - loss: 0.0984 - accuracy: 0.95 - ETA: 4s - loss: 0.0980 - accuracy: 0.95 - ETA: 4s - loss: 0.0980 - accuracy: 0.95 - ETA: 4s - loss: 0.0975 - accuracy: 0.95 - ETA: 4s - loss: 0.0971 - accuracy: 0.96 - ETA: 4s - loss: 0.0976 - accuracy: 0.96 - ETA: 4s - loss: 0.0978 - accuracy: 0.95 - ETA: 4s - loss: 0.0975 - accuracy: 0.96 - ETA: 4s - loss: 0.0973 - accuracy: 0.96 - ETA: 4s - loss: 0.0969 - accuracy: 0.96 - ETA: 4s - loss: 0.0967 - accuracy: 0.96 - ETA: 4s - loss: 0.0965 - accuracy: 0.96 - ETA: 4s - loss: 0.0961 - accuracy: 0.96 - ETA: 4s - loss: 0.0962 - accuracy: 0.96 - ETA: 4s - loss: 0.0970 - accuracy: 0.96 - ETA: 4s - loss: 0.0968 - accuracy: 0.96 - ETA: 4s - loss: 0.0968 - accuracy: 0.96 - ETA: 4s - loss: 0.0973 - accuracy: 0.96 - ETA: 3s - loss: 0.0966 - accuracy: 0.96 - ETA: 3s - loss: 0.0961 - accuracy: 0.96 - ETA: 3s - loss: 0.0961 - accuracy: 0.96 - ETA: 3s - loss: 0.0966 - accuracy: 0.96 - ETA: 3s - loss: 0.0963 - accuracy: 0.96 - ETA: 3s - loss: 0.0960 - accuracy: 0.96 - ETA: 3s - loss: 0.0965 - accuracy: 0.96 - ETA: 3s - loss: 0.0964 - accuracy: 0.96 - ETA: 3s - loss: 0.0960 - accuracy: 0.96 - ETA: 3s - loss: 0.0964 - accuracy: 0.96 - ETA: 3s - loss: 0.0959 - accuracy: 0.96 - ETA: 3s - loss: 0.0957 - accuracy: 0.96 - ETA: 3s - loss: 0.0958 - accuracy: 0.96 - ETA: 3s - loss: 0.0956 - accuracy: 0.96 - ETA: 3s - loss: 0.0951 - accuracy: 0.96 - ETA: 3s - loss: 0.0954 - accuracy: 0.96 - ETA: 3s - loss: 0.0956 - accuracy: 0.96 - ETA: 3s - loss: 0.0965 - accuracy: 0.96 - ETA: 2s - loss: 0.0969 - accuracy: 0.96 - ETA: 2s - loss: 0.0972 - accuracy: 0.96 - ETA: 2s - loss: 0.0970 - accuracy: 0.96 - ETA: 2s - loss: 0.0970 - accuracy: 0.96 - ETA: 2s - loss: 0.0969 - accuracy: 0.96 - ETA: 2s - loss: 0.0966 - accuracy: 0.96 - ETA: 2s - loss: 0.0963 - accuracy: 0.96 - ETA: 2s - loss: 0.0971 - accuracy: 0.96 - ETA: 2s - loss: 0.0970 - accuracy: 0.96 - ETA: 2s - loss: 0.0974 - accuracy: 0.96 - ETA: 2s - loss: 0.0971 - accuracy: 0.96 - ETA: 2s - loss: 0.0970 - accuracy: 0.96 - ETA: 2s - loss: 0.0969 - accuracy: 0.96 - ETA: 2s - loss: 0.0968 - accuracy: 0.96 - ETA: 2s - loss: 0.0973 - accuracy: 0.96 - ETA: 2s - loss: 0.0967 - accuracy: 0.96 - ETA: 2s - loss: 0.0964 - accuracy: 0.96 - ETA: 2s - loss: 0.0964 - accuracy: 0.96 - ETA: 2s - loss: 0.0965 - accuracy: 0.96 - ETA: 2s - loss: 0.0968 - accuracy: 0.96 - ETA: 1s - loss: 0.0972 - accuracy: 0.96 - ETA: 1s - loss: 0.0975 - accuracy: 0.96 - ETA: 1s - loss: 0.0973 - accuracy: 0.96 - ETA: 1s - loss: 0.0971 - accuracy: 0.96 - ETA: 1s - loss: 0.0978 - accuracy: 0.96 - ETA: 1s - loss: 0.0978 - accuracy: 0.96 - ETA: 1s - loss: 0.0978 - accuracy: 0.96 - ETA: 1s - loss: 0.0977 - accuracy: 0.96 - ETA: 1s - loss: 0.0975 - accuracy: 0.96 - ETA: 1s - loss: 0.0975 - accuracy: 0.96 - ETA: 1s - loss: 0.0973 - accuracy: 0.96 - ETA: 1s - loss: 0.0975 - accuracy: 0.96 - ETA: 1s - loss: 0.0977 - accuracy: 0.96 - ETA: 1s - loss: 0.0977 - accuracy: 0.96 - ETA: 1s - loss: 0.0976 - accuracy: 0.96 - ETA: 1s - loss: 0.0979 - accuracy: 0.96 - ETA: 1s - loss: 0.0978 - accuracy: 0.96 - ETA: 1s - loss: 0.0983 - accuracy: 0.96 - ETA: 0s - loss: 0.0983 - accuracy: 0.96 - ETA: 0s - loss: 0.0983 - accuracy: 0.96 - ETA: 0s - loss: 0.0981 - accuracy: 0.96 - ETA: 0s - loss: 0.0981 - accuracy: 0.96 - ETA: 0s - loss: 0.0982 - accuracy: 0.96 - ETA: 0s - loss: 0.0980 - accuracy: 0.96 - ETA: 0s - loss: 0.0979 - accuracy: 0.96 - ETA: 0s - loss: 0.0979 - accuracy: 0.96 - ETA: 0s - loss: 0.0980 - accuracy: 0.96 - ETA: 0s - loss: 0.0980 - accuracy: 0.96 - ETA: 0s - loss: 0.0982 - accuracy: 0.96 - ETA: 0s - loss: 0.0984 - accuracy: 0.96 - ETA: 0s - loss: 0.0982 - accuracy: 0.96 - ETA: 0s - loss: 0.0982 - accuracy: 0.96 - ETA: 0s - loss: 0.0987 - accuracy: 0.96 - ETA: 0s - loss: 0.0986 - accuracy: 0.96 - ETA: 0s - loss: 0.0988 - accuracy: 0.96 - ETA: 0s - loss: 0.0992 - accuracy: 0.96 - ETA: 0s - loss: 0.0994 - accuracy: 0.96 - 9s 11ms/step - loss: 0.0993 - accuracy: 0.9613 - val_loss: 0.4872 - val_accuracy: 0.7184\n",
      "Epoch 4/5\n"
     ]
    },
    {
     "name": "stdout",
     "output_type": "stream",
     "text": [
      "804/804 [==============================] - ETA: 12s - loss: 0.0475 - accuracy: 1.000 - ETA: 6s - loss: 0.0646 - accuracy: 0.977 - ETA: 6s - loss: 0.0822 - accuracy: 0.96 - ETA: 7s - loss: 0.0986 - accuracy: 0.95 - ETA: 6s - loss: 0.0997 - accuracy: 0.95 - ETA: 6s - loss: 0.0961 - accuracy: 0.96 - ETA: 6s - loss: 0.0977 - accuracy: 0.95 - ETA: 6s - loss: 0.0967 - accuracy: 0.95 - ETA: 6s - loss: 0.1017 - accuracy: 0.95 - ETA: 7s - loss: 0.1016 - accuracy: 0.95 - ETA: 7s - loss: 0.1022 - accuracy: 0.95 - ETA: 7s - loss: 0.1037 - accuracy: 0.95 - ETA: 7s - loss: 0.1053 - accuracy: 0.95 - ETA: 7s - loss: 0.1052 - accuracy: 0.95 - ETA: 7s - loss: 0.1017 - accuracy: 0.95 - ETA: 7s - loss: 0.1013 - accuracy: 0.96 - ETA: 8s - loss: 0.1002 - accuracy: 0.96 - ETA: 7s - loss: 0.0992 - accuracy: 0.96 - ETA: 7s - loss: 0.1031 - accuracy: 0.95 - ETA: 7s - loss: 0.1026 - accuracy: 0.95 - ETA: 7s - loss: 0.1015 - accuracy: 0.95 - ETA: 7s - loss: 0.1017 - accuracy: 0.95 - ETA: 7s - loss: 0.0989 - accuracy: 0.96 - ETA: 7s - loss: 0.0998 - accuracy: 0.96 - ETA: 7s - loss: 0.1005 - accuracy: 0.95 - ETA: 7s - loss: 0.0996 - accuracy: 0.96 - ETA: 7s - loss: 0.0995 - accuracy: 0.96 - ETA: 7s - loss: 0.0991 - accuracy: 0.96 - ETA: 7s - loss: 0.0982 - accuracy: 0.96 - ETA: 7s - loss: 0.0974 - accuracy: 0.96 - ETA: 6s - loss: 0.0963 - accuracy: 0.96 - ETA: 6s - loss: 0.0975 - accuracy: 0.96 - ETA: 6s - loss: 0.0969 - accuracy: 0.96 - ETA: 6s - loss: 0.0979 - accuracy: 0.96 - ETA: 6s - loss: 0.0980 - accuracy: 0.96 - ETA: 6s - loss: 0.0967 - accuracy: 0.96 - ETA: 6s - loss: 0.0973 - accuracy: 0.96 - ETA: 6s - loss: 0.0973 - accuracy: 0.96 - ETA: 6s - loss: 0.0967 - accuracy: 0.96 - ETA: 6s - loss: 0.0963 - accuracy: 0.96 - ETA: 6s - loss: 0.0966 - accuracy: 0.96 - ETA: 6s - loss: 0.0984 - accuracy: 0.96 - ETA: 6s - loss: 0.0984 - accuracy: 0.96 - ETA: 6s - loss: 0.0984 - accuracy: 0.96 - ETA: 6s - loss: 0.0987 - accuracy: 0.96 - ETA: 5s - loss: 0.0993 - accuracy: 0.96 - ETA: 5s - loss: 0.0982 - accuracy: 0.96 - ETA: 5s - loss: 0.0981 - accuracy: 0.96 - ETA: 5s - loss: 0.0987 - accuracy: 0.96 - ETA: 5s - loss: 0.0984 - accuracy: 0.96 - ETA: 5s - loss: 0.0979 - accuracy: 0.96 - ETA: 5s - loss: 0.0973 - accuracy: 0.96 - ETA: 5s - loss: 0.0965 - accuracy: 0.96 - ETA: 5s - loss: 0.0964 - accuracy: 0.96 - ETA: 5s - loss: 0.0978 - accuracy: 0.96 - ETA: 5s - loss: 0.0974 - accuracy: 0.96 - ETA: 5s - loss: 0.0981 - accuracy: 0.96 - ETA: 5s - loss: 0.0979 - accuracy: 0.96 - ETA: 5s - loss: 0.0973 - accuracy: 0.96 - ETA: 5s - loss: 0.0981 - accuracy: 0.96 - ETA: 4s - loss: 0.0977 - accuracy: 0.96 - ETA: 4s - loss: 0.0980 - accuracy: 0.96 - ETA: 4s - loss: 0.0984 - accuracy: 0.96 - ETA: 4s - loss: 0.0977 - accuracy: 0.96 - ETA: 4s - loss: 0.0976 - accuracy: 0.96 - ETA: 4s - loss: 0.0983 - accuracy: 0.96 - ETA: 4s - loss: 0.0980 - accuracy: 0.96 - ETA: 4s - loss: 0.0974 - accuracy: 0.96 - ETA: 4s - loss: 0.0976 - accuracy: 0.96 - ETA: 4s - loss: 0.0974 - accuracy: 0.96 - ETA: 4s - loss: 0.0981 - accuracy: 0.96 - ETA: 4s - loss: 0.0979 - accuracy: 0.96 - ETA: 4s - loss: 0.0975 - accuracy: 0.96 - ETA: 4s - loss: 0.0970 - accuracy: 0.96 - ETA: 4s - loss: 0.0969 - accuracy: 0.96 - ETA: 3s - loss: 0.0963 - accuracy: 0.96 - ETA: 3s - loss: 0.0966 - accuracy: 0.96 - ETA: 3s - loss: 0.0965 - accuracy: 0.96 - ETA: 3s - loss: 0.0967 - accuracy: 0.96 - ETA: 3s - loss: 0.0963 - accuracy: 0.96 - ETA: 3s - loss: 0.0962 - accuracy: 0.96 - ETA: 3s - loss: 0.0959 - accuracy: 0.96 - ETA: 3s - loss: 0.0961 - accuracy: 0.96 - ETA: 3s - loss: 0.0956 - accuracy: 0.96 - ETA: 3s - loss: 0.0961 - accuracy: 0.96 - ETA: 3s - loss: 0.0962 - accuracy: 0.96 - ETA: 3s - loss: 0.0966 - accuracy: 0.96 - ETA: 3s - loss: 0.0964 - accuracy: 0.96 - ETA: 3s - loss: 0.0965 - accuracy: 0.96 - ETA: 3s - loss: 0.0961 - accuracy: 0.96 - ETA: 3s - loss: 0.0960 - accuracy: 0.96 - ETA: 3s - loss: 0.0960 - accuracy: 0.96 - ETA: 3s - loss: 0.0961 - accuracy: 0.96 - ETA: 2s - loss: 0.0959 - accuracy: 0.96 - ETA: 2s - loss: 0.0958 - accuracy: 0.96 - ETA: 2s - loss: 0.0962 - accuracy: 0.96 - ETA: 2s - loss: 0.0962 - accuracy: 0.96 - ETA: 2s - loss: 0.0957 - accuracy: 0.96 - ETA: 2s - loss: 0.0953 - accuracy: 0.96 - ETA: 2s - loss: 0.0949 - accuracy: 0.96 - ETA: 2s - loss: 0.0949 - accuracy: 0.96 - ETA: 2s - loss: 0.0947 - accuracy: 0.96 - ETA: 2s - loss: 0.0943 - accuracy: 0.96 - ETA: 2s - loss: 0.0939 - accuracy: 0.96 - ETA: 2s - loss: 0.0938 - accuracy: 0.96 - ETA: 2s - loss: 0.0939 - accuracy: 0.96 - ETA: 2s - loss: 0.0939 - accuracy: 0.96 - ETA: 2s - loss: 0.0944 - accuracy: 0.96 - ETA: 2s - loss: 0.0947 - accuracy: 0.96 - ETA: 2s - loss: 0.0946 - accuracy: 0.96 - ETA: 2s - loss: 0.0943 - accuracy: 0.96 - ETA: 1s - loss: 0.0943 - accuracy: 0.96 - ETA: 1s - loss: 0.0940 - accuracy: 0.96 - ETA: 1s - loss: 0.0943 - accuracy: 0.96 - ETA: 1s - loss: 0.0938 - accuracy: 0.96 - ETA: 1s - loss: 0.0939 - accuracy: 0.96 - ETA: 1s - loss: 0.0936 - accuracy: 0.96 - ETA: 1s - loss: 0.0934 - accuracy: 0.96 - ETA: 1s - loss: 0.0930 - accuracy: 0.96 - ETA: 1s - loss: 0.0931 - accuracy: 0.96 - ETA: 1s - loss: 0.0939 - accuracy: 0.96 - ETA: 1s - loss: 0.0939 - accuracy: 0.96 - ETA: 1s - loss: 0.0939 - accuracy: 0.96 - ETA: 1s - loss: 0.0941 - accuracy: 0.96 - ETA: 1s - loss: 0.0944 - accuracy: 0.96 - ETA: 1s - loss: 0.0943 - accuracy: 0.96 - ETA: 1s - loss: 0.0943 - accuracy: 0.96 - ETA: 1s - loss: 0.0940 - accuracy: 0.96 - ETA: 1s - loss: 0.0942 - accuracy: 0.96 - ETA: 0s - loss: 0.0941 - accuracy: 0.96 - ETA: 0s - loss: 0.0943 - accuracy: 0.96 - ETA: 0s - loss: 0.0942 - accuracy: 0.96 - ETA: 0s - loss: 0.0944 - accuracy: 0.96 - ETA: 0s - loss: 0.0942 - accuracy: 0.96 - ETA: 0s - loss: 0.0941 - accuracy: 0.96 - ETA: 0s - loss: 0.0941 - accuracy: 0.96 - ETA: 0s - loss: 0.0939 - accuracy: 0.96 - ETA: 0s - loss: 0.0938 - accuracy: 0.96 - ETA: 0s - loss: 0.0938 - accuracy: 0.96 - ETA: 0s - loss: 0.0937 - accuracy: 0.96 - ETA: 0s - loss: 0.0938 - accuracy: 0.96 - ETA: 0s - loss: 0.0938 - accuracy: 0.96 - ETA: 0s - loss: 0.0935 - accuracy: 0.96 - ETA: 0s - loss: 0.0933 - accuracy: 0.96 - ETA: 0s - loss: 0.0931 - accuracy: 0.96 - ETA: 0s - loss: 0.0930 - accuracy: 0.96 - ETA: 0s - loss: 0.0933 - accuracy: 0.96 - 9s 11ms/step - loss: 0.0933 - accuracy: 0.9629 - val_loss: 0.5097 - val_accuracy: 0.7122\n",
      "Epoch 5/5\n"
     ]
    },
    {
     "name": "stdout",
     "output_type": "stream",
     "text": [
      "804/804 [==============================] - ETA: 11s - loss: 0.0239 - accuracy: 1.000 - ETA: 7s - loss: 0.0606 - accuracy: 0.977 - ETA: 7s - loss: 0.0586 - accuracy: 0.97 - ETA: 7s - loss: 0.0668 - accuracy: 0.96 - ETA: 7s - loss: 0.0790 - accuracy: 0.96 - ETA: 7s - loss: 0.0799 - accuracy: 0.96 - ETA: 7s - loss: 0.0880 - accuracy: 0.95 - ETA: 7s - loss: 0.0865 - accuracy: 0.95 - ETA: 7s - loss: 0.0839 - accuracy: 0.96 - ETA: 7s - loss: 0.0854 - accuracy: 0.96 - ETA: 7s - loss: 0.0870 - accuracy: 0.96 - ETA: 7s - loss: 0.0872 - accuracy: 0.96 - ETA: 7s - loss: 0.0844 - accuracy: 0.96 - ETA: 7s - loss: 0.0876 - accuracy: 0.96 - ETA: 7s - loss: 0.0867 - accuracy: 0.96 - ETA: 6s - loss: 0.0852 - accuracy: 0.96 - ETA: 6s - loss: 0.0875 - accuracy: 0.96 - ETA: 6s - loss: 0.0905 - accuracy: 0.96 - ETA: 6s - loss: 0.0903 - accuracy: 0.96 - ETA: 6s - loss: 0.0886 - accuracy: 0.96 - ETA: 6s - loss: 0.0891 - accuracy: 0.96 - ETA: 6s - loss: 0.0875 - accuracy: 0.96 - ETA: 6s - loss: 0.0868 - accuracy: 0.96 - ETA: 6s - loss: 0.0872 - accuracy: 0.96 - ETA: 6s - loss: 0.0883 - accuracy: 0.96 - ETA: 6s - loss: 0.0891 - accuracy: 0.96 - ETA: 6s - loss: 0.0879 - accuracy: 0.96 - ETA: 6s - loss: 0.0871 - accuracy: 0.96 - ETA: 6s - loss: 0.0861 - accuracy: 0.96 - ETA: 6s - loss: 0.0855 - accuracy: 0.96 - ETA: 5s - loss: 0.0852 - accuracy: 0.96 - ETA: 5s - loss: 0.0873 - accuracy: 0.96 - ETA: 5s - loss: 0.0866 - accuracy: 0.96 - ETA: 5s - loss: 0.0877 - accuracy: 0.96 - ETA: 5s - loss: 0.0870 - accuracy: 0.96 - ETA: 5s - loss: 0.0863 - accuracy: 0.96 - ETA: 5s - loss: 0.0873 - accuracy: 0.96 - ETA: 5s - loss: 0.0880 - accuracy: 0.96 - ETA: 5s - loss: 0.0882 - accuracy: 0.96 - ETA: 5s - loss: 0.0879 - accuracy: 0.96 - ETA: 5s - loss: 0.0883 - accuracy: 0.96 - ETA: 5s - loss: 0.0875 - accuracy: 0.96 - ETA: 5s - loss: 0.0868 - accuracy: 0.96 - ETA: 5s - loss: 0.0866 - accuracy: 0.96 - ETA: 5s - loss: 0.0863 - accuracy: 0.96 - ETA: 5s - loss: 0.0866 - accuracy: 0.96 - ETA: 5s - loss: 0.0864 - accuracy: 0.96 - ETA: 4s - loss: 0.0874 - accuracy: 0.96 - ETA: 4s - loss: 0.0873 - accuracy: 0.96 - ETA: 4s - loss: 0.0872 - accuracy: 0.96 - ETA: 4s - loss: 0.0867 - accuracy: 0.96 - ETA: 4s - loss: 0.0867 - accuracy: 0.96 - ETA: 4s - loss: 0.0868 - accuracy: 0.96 - ETA: 4s - loss: 0.0875 - accuracy: 0.96 - ETA: 4s - loss: 0.0877 - accuracy: 0.96 - ETA: 4s - loss: 0.0877 - accuracy: 0.96 - ETA: 4s - loss: 0.0883 - accuracy: 0.96 - ETA: 4s - loss: 0.0885 - accuracy: 0.96 - ETA: 4s - loss: 0.0889 - accuracy: 0.96 - ETA: 4s - loss: 0.0886 - accuracy: 0.96 - ETA: 4s - loss: 0.0893 - accuracy: 0.96 - ETA: 4s - loss: 0.0893 - accuracy: 0.96 - ETA: 4s - loss: 0.0888 - accuracy: 0.96 - ETA: 4s - loss: 0.0897 - accuracy: 0.96 - ETA: 3s - loss: 0.0895 - accuracy: 0.96 - ETA: 3s - loss: 0.0893 - accuracy: 0.96 - ETA: 3s - loss: 0.0903 - accuracy: 0.96 - ETA: 3s - loss: 0.0911 - accuracy: 0.96 - ETA: 3s - loss: 0.0910 - accuracy: 0.96 - ETA: 3s - loss: 0.0908 - accuracy: 0.96 - ETA: 3s - loss: 0.0906 - accuracy: 0.96 - ETA: 3s - loss: 0.0909 - accuracy: 0.96 - ETA: 3s - loss: 0.0906 - accuracy: 0.96 - ETA: 3s - loss: 0.0906 - accuracy: 0.96 - ETA: 3s - loss: 0.0910 - accuracy: 0.96 - ETA: 3s - loss: 0.0909 - accuracy: 0.96 - ETA: 3s - loss: 0.0913 - accuracy: 0.96 - ETA: 3s - loss: 0.0908 - accuracy: 0.96 - ETA: 3s - loss: 0.0906 - accuracy: 0.96 - ETA: 3s - loss: 0.0905 - accuracy: 0.96 - ETA: 3s - loss: 0.0908 - accuracy: 0.96 - ETA: 3s - loss: 0.0911 - accuracy: 0.96 - ETA: 2s - loss: 0.0908 - accuracy: 0.96 - ETA: 2s - loss: 0.0908 - accuracy: 0.96 - ETA: 2s - loss: 0.0912 - accuracy: 0.96 - ETA: 2s - loss: 0.0913 - accuracy: 0.96 - ETA: 2s - loss: 0.0915 - accuracy: 0.96 - ETA: 2s - loss: 0.0912 - accuracy: 0.96 - ETA: 2s - loss: 0.0914 - accuracy: 0.96 - ETA: 2s - loss: 0.0914 - accuracy: 0.96 - ETA: 2s - loss: 0.0912 - accuracy: 0.96 - ETA: 2s - loss: 0.0916 - accuracy: 0.96 - ETA: 2s - loss: 0.0917 - accuracy: 0.96 - ETA: 2s - loss: 0.0915 - accuracy: 0.96 - ETA: 2s - loss: 0.0913 - accuracy: 0.96 - ETA: 2s - loss: 0.0913 - accuracy: 0.96 - ETA: 2s - loss: 0.0914 - accuracy: 0.96 - ETA: 2s - loss: 0.0912 - accuracy: 0.96 - ETA: 2s - loss: 0.0912 - accuracy: 0.96 - ETA: 2s - loss: 0.0910 - accuracy: 0.96 - ETA: 2s - loss: 0.0906 - accuracy: 0.96 - ETA: 2s - loss: 0.0907 - accuracy: 0.96 - ETA: 2s - loss: 0.0906 - accuracy: 0.96 - ETA: 2s - loss: 0.0903 - accuracy: 0.96 - ETA: 2s - loss: 0.0902 - accuracy: 0.96 - ETA: 1s - loss: 0.0909 - accuracy: 0.96 - ETA: 1s - loss: 0.0909 - accuracy: 0.96 - ETA: 1s - loss: 0.0911 - accuracy: 0.96 - ETA: 1s - loss: 0.0911 - accuracy: 0.96 - ETA: 1s - loss: 0.0914 - accuracy: 0.96 - ETA: 1s - loss: 0.0914 - accuracy: 0.96 - ETA: 1s - loss: 0.0916 - accuracy: 0.96 - ETA: 1s - loss: 0.0914 - accuracy: 0.96 - ETA: 1s - loss: 0.0913 - accuracy: 0.96 - ETA: 1s - loss: 0.0914 - accuracy: 0.96 - ETA: 1s - loss: 0.0915 - accuracy: 0.96 - ETA: 1s - loss: 0.0914 - accuracy: 0.96 - ETA: 1s - loss: 0.0912 - accuracy: 0.96 - ETA: 1s - loss: 0.0912 - accuracy: 0.96 - ETA: 1s - loss: 0.0910 - accuracy: 0.96 - ETA: 1s - loss: 0.0912 - accuracy: 0.96 - ETA: 1s - loss: 0.0914 - accuracy: 0.96 - ETA: 1s - loss: 0.0914 - accuracy: 0.96 - ETA: 1s - loss: 0.0912 - accuracy: 0.96 - ETA: 0s - loss: 0.0912 - accuracy: 0.96 - ETA: 0s - loss: 0.0911 - accuracy: 0.96 - ETA: 0s - loss: 0.0907 - accuracy: 0.96 - ETA: 0s - loss: 0.0905 - accuracy: 0.96 - ETA: 0s - loss: 0.0911 - accuracy: 0.96 - ETA: 0s - loss: 0.0913 - accuracy: 0.96 - ETA: 0s - loss: 0.0914 - accuracy: 0.96 - ETA: 0s - loss: 0.0913 - accuracy: 0.96 - ETA: 0s - loss: 0.0916 - accuracy: 0.96 - ETA: 0s - loss: 0.0918 - accuracy: 0.96 - ETA: 0s - loss: 0.0918 - accuracy: 0.96 - ETA: 0s - loss: 0.0919 - accuracy: 0.96 - ETA: 0s - loss: 0.0918 - accuracy: 0.96 - ETA: 0s - loss: 0.0917 - accuracy: 0.96 - ETA: 0s - loss: 0.0915 - accuracy: 0.96 - ETA: 0s - loss: 0.0916 - accuracy: 0.96 - ETA: 0s - loss: 0.0912 - accuracy: 0.96 - ETA: 0s - loss: 0.0911 - accuracy: 0.96 - 9s 11ms/step - loss: 0.0912 - accuracy: 0.9629 - val_loss: 0.6357 - val_accuracy: 0.5963\n"
     ]
    },
    {
     "data": {
      "text/html": [
       "<span style=\"color:#4527A0\"><h1 style=\"font-size:18px\">Trial complete</h1></span>"
      ],
      "text/plain": [
       "<IPython.core.display.HTML object>"
      ]
     },
     "metadata": {},
     "output_type": "display_data"
    },
    {
     "data": {
      "text/html": [
       "<span style=\"color:#4527A0\"><h1 style=\"font-size:18px\">Trial summary</h1></span>"
      ],
      "text/plain": [
       "<IPython.core.display.HTML object>"
      ]
     },
     "metadata": {},
     "output_type": "display_data"
    },
    {
     "data": {
      "text/html": [
       "<span style=\"color:cyan\"> |-Trial ID: 1a75e15ba82486817a56e4340a3a880f</span>"
      ],
      "text/plain": [
       "<IPython.core.display.HTML object>"
      ]
     },
     "metadata": {},
     "output_type": "display_data"
    },
    {
     "data": {
      "text/html": [
       "<span style=\"color:cyan\"> |-Score: 0.7883381843566895</span>"
      ],
      "text/plain": [
       "<IPython.core.display.HTML object>"
      ]
     },
     "metadata": {},
     "output_type": "display_data"
    },
    {
     "data": {
      "text/html": [
       "<span style=\"color:cyan\"> |-Best step: 0</span>"
      ],
      "text/plain": [
       "<IPython.core.display.HTML object>"
      ]
     },
     "metadata": {},
     "output_type": "display_data"
    },
    {
     "data": {
      "text/html": [
       "<span style=\"color:#7E57C2\"><h2 style=\"font-size:16px\">Hyperparameters:</h2></span>"
      ],
      "text/plain": [
       "<IPython.core.display.HTML object>"
      ]
     },
     "metadata": {},
     "output_type": "display_data"
    },
    {
     "data": {
      "text/html": [
       "<span style=\"color:cyan\"> |-activation: tanh</span>"
      ],
      "text/plain": [
       "<IPython.core.display.HTML object>"
      ]
     },
     "metadata": {},
     "output_type": "display_data"
    },
    {
     "data": {
      "text/html": [
       "<span style=\"color:blue\"> |-first_units: 55</span>"
      ],
      "text/plain": [
       "<IPython.core.display.HTML object>"
      ]
     },
     "metadata": {},
     "output_type": "display_data"
    },
    {
     "data": {
      "text/html": [
       "<span style=\"color:cyan\"> |-num_layers: 3</span>"
      ],
      "text/plain": [
       "<IPython.core.display.HTML object>"
      ]
     },
     "metadata": {},
     "output_type": "display_data"
    },
    {
     "data": {
      "text/html": [
       "<span style=\"color:blue\"> |-tuner/bracket: 0</span>"
      ],
      "text/plain": [
       "<IPython.core.display.HTML object>"
      ]
     },
     "metadata": {},
     "output_type": "display_data"
    },
    {
     "data": {
      "text/html": [
       "<span style=\"color:cyan\"> |-tuner/epochs: 5</span>"
      ],
      "text/plain": [
       "<IPython.core.display.HTML object>"
      ]
     },
     "metadata": {},
     "output_type": "display_data"
    },
    {
     "data": {
      "text/html": [
       "<span style=\"color:blue\"> |-tuner/initial_epoch: 0</span>"
      ],
      "text/plain": [
       "<IPython.core.display.HTML object>"
      ]
     },
     "metadata": {},
     "output_type": "display_data"
    },
    {
     "data": {
      "text/html": [
       "<span style=\"color:cyan\"> |-tuner/round: 0</span>"
      ],
      "text/plain": [
       "<IPython.core.display.HTML object>"
      ]
     },
     "metadata": {},
     "output_type": "display_data"
    },
    {
     "data": {
      "text/html": [
       "<span style=\"color:blue\"> |-units_0: 25</span>"
      ],
      "text/plain": [
       "<IPython.core.display.HTML object>"
      ]
     },
     "metadata": {},
     "output_type": "display_data"
    },
    {
     "data": {
      "text/html": [
       "<span style=\"color:cyan\"> |-units_1: 45</span>"
      ],
      "text/plain": [
       "<IPython.core.display.HTML object>"
      ]
     },
     "metadata": {},
     "output_type": "display_data"
    },
    {
     "data": {
      "text/html": [
       "<span style=\"color:blue\"> |-units_2: 25</span>"
      ],
      "text/plain": [
       "<IPython.core.display.HTML object>"
      ]
     },
     "metadata": {},
     "output_type": "display_data"
    },
    {
     "data": {
      "text/html": [
       "<span style=\"color:cyan\"> |-units_3: 35</span>"
      ],
      "text/plain": [
       "<IPython.core.display.HTML object>"
      ]
     },
     "metadata": {},
     "output_type": "display_data"
    },
    {
     "data": {
      "text/html": [
       "<span style=\"color:blue\"> |-units_4: 15</span>"
      ],
      "text/plain": [
       "<IPython.core.display.HTML object>"
      ]
     },
     "metadata": {},
     "output_type": "display_data"
    },
    {
     "data": {
      "text/html": [
       "<span style=\"color:#4527A0\"><h1 style=\"font-size:18px\">Starting new trial</h1></span>"
      ],
      "text/plain": [
       "<IPython.core.display.HTML object>"
      ]
     },
     "metadata": {},
     "output_type": "display_data"
    },
    {
     "name": "stdout",
     "output_type": "stream",
     "text": [
      "Epoch 1/5\n",
      "804/804 [==============================] - ETA: 6:19 - loss: 0.7426 - accuracy: 0.43 - ETA: 3s - loss: 0.6463 - accuracy: 0.6154 - ETA: 3s - loss: 0.6328 - accuracy: 0.64 - ETA: 3s - loss: 0.6161 - accuracy: 0.67 - ETA: 3s - loss: 0.6022 - accuracy: 0.68 - ETA: 3s - loss: 0.5955 - accuracy: 0.68 - ETA: 3s - loss: 0.5883 - accuracy: 0.69 - ETA: 3s - loss: 0.5827 - accuracy: 0.69 - ETA: 3s - loss: 0.5730 - accuracy: 0.70 - ETA: 3s - loss: 0.5679 - accuracy: 0.70 - ETA: 3s - loss: 0.5633 - accuracy: 0.71 - ETA: 3s - loss: 0.5601 - accuracy: 0.71 - ETA: 3s - loss: 0.5567 - accuracy: 0.71 - ETA: 3s - loss: 0.5532 - accuracy: 0.71 - ETA: 2s - loss: 0.5514 - accuracy: 0.72 - ETA: 2s - loss: 0.5479 - accuracy: 0.72 - ETA: 2s - loss: 0.5470 - accuracy: 0.72 - ETA: 2s - loss: 0.5434 - accuracy: 0.72 - ETA: 2s - loss: 0.5388 - accuracy: 0.73 - ETA: 2s - loss: 0.5362 - accuracy: 0.73 - ETA: 2s - loss: 0.5328 - accuracy: 0.73 - ETA: 2s - loss: 0.5297 - accuracy: 0.73 - ETA: 2s - loss: 0.5276 - accuracy: 0.73 - ETA: 2s - loss: 0.5244 - accuracy: 0.74 - ETA: 2s - loss: 0.5228 - accuracy: 0.74 - ETA: 2s - loss: 0.5237 - accuracy: 0.74 - ETA: 2s - loss: 0.5232 - accuracy: 0.74 - ETA: 2s - loss: 0.5237 - accuracy: 0.74 - ETA: 2s - loss: 0.5235 - accuracy: 0.74 - ETA: 2s - loss: 0.5219 - accuracy: 0.74 - ETA: 2s - loss: 0.5214 - accuracy: 0.74 - ETA: 2s - loss: 0.5203 - accuracy: 0.74 - ETA: 2s - loss: 0.5202 - accuracy: 0.74 - ETA: 2s - loss: 0.5186 - accuracy: 0.74 - ETA: 2s - loss: 0.5183 - accuracy: 0.74 - ETA: 2s - loss: 0.5179 - accuracy: 0.74 - ETA: 2s - loss: 0.5167 - accuracy: 0.74 - ETA: 2s - loss: 0.5154 - accuracy: 0.74 - ETA: 2s - loss: 0.5134 - accuracy: 0.74 - ETA: 2s - loss: 0.5138 - accuracy: 0.74 - ETA: 2s - loss: 0.5129 - accuracy: 0.74 - ETA: 2s - loss: 0.5124 - accuracy: 0.74 - ETA: 2s - loss: 0.5124 - accuracy: 0.74 - ETA: 2s - loss: 0.5121 - accuracy: 0.74 - ETA: 2s - loss: 0.5120 - accuracy: 0.74 - ETA: 2s - loss: 0.5118 - accuracy: 0.74 - ETA: 2s - loss: 0.5111 - accuracy: 0.75 - ETA: 2s - loss: 0.5113 - accuracy: 0.75 - ETA: 2s - loss: 0.5111 - accuracy: 0.75 - ETA: 2s - loss: 0.5111 - accuracy: 0.75 - ETA: 2s - loss: 0.5117 - accuracy: 0.75 - ETA: 2s - loss: 0.5104 - accuracy: 0.75 - ETA: 2s - loss: 0.5095 - accuracy: 0.75 - ETA: 1s - loss: 0.5087 - accuracy: 0.75 - ETA: 1s - loss: 0.5077 - accuracy: 0.75 - ETA: 1s - loss: 0.5067 - accuracy: 0.75 - ETA: 1s - loss: 0.5054 - accuracy: 0.75 - ETA: 1s - loss: 0.5046 - accuracy: 0.75 - ETA: 1s - loss: 0.5048 - accuracy: 0.75 - ETA: 1s - loss: 0.5049 - accuracy: 0.75 - ETA: 1s - loss: 0.5043 - accuracy: 0.75 - ETA: 1s - loss: 0.5040 - accuracy: 0.75 - ETA: 1s - loss: 0.5037 - accuracy: 0.75 - ETA: 1s - loss: 0.5039 - accuracy: 0.75 - ETA: 1s - loss: 0.5042 - accuracy: 0.75 - ETA: 1s - loss: 0.5037 - accuracy: 0.75 - ETA: 1s - loss: 0.5035 - accuracy: 0.75 - ETA: 1s - loss: 0.5037 - accuracy: 0.75 - ETA: 1s - loss: 0.5039 - accuracy: 0.75 - ETA: 1s - loss: 0.5031 - accuracy: 0.75 - ETA: 1s - loss: 0.5027 - accuracy: 0.75 - ETA: 1s - loss: 0.5017 - accuracy: 0.75 - ETA: 1s - loss: 0.5012 - accuracy: 0.75 - ETA: 1s - loss: 0.5006 - accuracy: 0.75 - ETA: 1s - loss: 0.4995 - accuracy: 0.75 - ETA: 1s - loss: 0.4995 - accuracy: 0.75 - ETA: 1s - loss: 0.4988 - accuracy: 0.75 - ETA: 1s - loss: 0.4987 - accuracy: 0.75 - ETA: 1s - loss: 0.4983 - accuracy: 0.75 - ETA: 1s - loss: 0.4984 - accuracy: 0.75 - ETA: 1s - loss: 0.4981 - accuracy: 0.75 - ETA: 1s - loss: 0.4980 - accuracy: 0.75 - ETA: 1s - loss: 0.4977 - accuracy: 0.75 - ETA: 1s - loss: 0.4972 - accuracy: 0.75 - ETA: 1s - loss: 0.4964 - accuracy: 0.75 - ETA: 1s - loss: 0.4964 - accuracy: 0.75 - ETA: 1s - loss: 0.4962 - accuracy: 0.75 - ETA: 1s - loss: 0.4956 - accuracy: 0.76 - ETA: 1s - loss: 0.4960 - accuracy: 0.76 - ETA: 1s - loss: 0.4964 - accuracy: 0.75 - ETA: 1s - loss: 0.4962 - accuracy: 0.75 - ETA: 1s - loss: 0.4963 - accuracy: 0.75 - ETA: 1s - loss: 0.4956 - accuracy: 0.75 - ETA: 1s - loss: 0.4953 - accuracy: 0.76 - ETA: 1s - loss: 0.4948 - accuracy: 0.76 - ETA: 1s - loss: 0.4950 - accuracy: 0.76 - ETA: 0s - loss: 0.4947 - accuracy: 0.76 - ETA: 0s - loss: 0.4941 - accuracy: 0.76 - ETA: 0s - loss: 0.4936 - accuracy: 0.76 - ETA: 0s - loss: 0.4936 - accuracy: 0.76 - ETA: 0s - loss: 0.4936 - accuracy: 0.76 - ETA: 0s - loss: 0.4933 - accuracy: 0.76 - ETA: 0s - loss: 0.4933 - accuracy: 0.76 - ETA: 0s - loss: 0.4930 - accuracy: 0.76 - ETA: 0s - loss: 0.4925 - accuracy: 0.76 - ETA: 0s - loss: 0.4922 - accuracy: 0.76 - ETA: 0s - loss: 0.4918 - accuracy: 0.76 - ETA: 0s - loss: 0.4914 - accuracy: 0.76 - ETA: 0s - loss: 0.4912 - accuracy: 0.76 - ETA: 0s - loss: 0.4909 - accuracy: 0.76 - ETA: 0s - loss: 0.4905 - accuracy: 0.76 - ETA: 0s - loss: 0.4900 - accuracy: 0.76 - ETA: 0s - loss: 0.4896 - accuracy: 0.76 - ETA: 0s - loss: 0.4895 - accuracy: 0.76 - ETA: 0s - loss: 0.4892 - accuracy: 0.76 - ETA: 0s - loss: 0.4889 - accuracy: 0.76 - ETA: 0s - loss: 0.4884 - accuracy: 0.76 - ETA: 0s - loss: 0.4883 - accuracy: 0.76 - ETA: 0s - loss: 0.4875 - accuracy: 0.76 - ETA: 0s - loss: 0.4871 - accuracy: 0.76 - ETA: 0s - loss: 0.4871 - accuracy: 0.76 - ETA: 0s - loss: 0.4869 - accuracy: 0.76 - ETA: 0s - loss: 0.4865 - accuracy: 0.76 - ETA: 0s - loss: 0.4864 - accuracy: 0.76 - ETA: 0s - loss: 0.4858 - accuracy: 0.76 - ETA: 0s - loss: 0.4855 - accuracy: 0.76 - ETA: 0s - loss: 0.4848 - accuracy: 0.76 - 16s 19ms/step - loss: 0.4848 - accuracy: 0.7679 - val_loss: 0.4826 - val_accuracy: 0.7693\n",
      "Epoch 2/5\n"
     ]
    },
    {
     "name": "stdout",
     "output_type": "stream",
     "text": [
      "765/804 [===========================>..] - ETA: 17s - loss: 0.4236 - accuracy: 0.812 - ETA: 15s - loss: 0.2795 - accuracy: 0.867 - ETA: 15s - loss: 0.3622 - accuracy: 0.803 - ETA: 12s - loss: 0.3094 - accuracy: 0.838 - ETA: 11s - loss: 0.2644 - accuracy: 0.867 - ETA: 10s - loss: 0.2457 - accuracy: 0.879 - ETA: 9s - loss: 0.2470 - accuracy: 0.887 - ETA: 9s - loss: 0.2374 - accuracy: 0.89 - ETA: 9s - loss: 0.2277 - accuracy: 0.89 - ETA: 9s - loss: 0.2168 - accuracy: 0.90 - ETA: 9s - loss: 0.2103 - accuracy: 0.90 - ETA: 9s - loss: 0.2020 - accuracy: 0.91 - ETA: 9s - loss: 0.1912 - accuracy: 0.92 - ETA: 9s - loss: 0.1862 - accuracy: 0.92 - ETA: 9s - loss: 0.1857 - accuracy: 0.92 - ETA: 9s - loss: 0.1797 - accuracy: 0.92 - ETA: 8s - loss: 0.1774 - accuracy: 0.93 - ETA: 9s - loss: 0.1707 - accuracy: 0.93 - ETA: 8s - loss: 0.1670 - accuracy: 0.93 - ETA: 8s - loss: 0.1668 - accuracy: 0.93 - ETA: 8s - loss: 0.1669 - accuracy: 0.93 - ETA: 9s - loss: 0.1655 - accuracy: 0.93 - ETA: 9s - loss: 0.1657 - accuracy: 0.93 - ETA: 9s - loss: 0.1614 - accuracy: 0.93 - ETA: 9s - loss: 0.1582 - accuracy: 0.93 - ETA: 9s - loss: 0.1553 - accuracy: 0.94 - ETA: 9s - loss: 0.1541 - accuracy: 0.94 - ETA: 8s - loss: 0.1519 - accuracy: 0.94 - ETA: 8s - loss: 0.1501 - accuracy: 0.94 - ETA: 8s - loss: 0.1493 - accuracy: 0.94 - ETA: 8s - loss: 0.1472 - accuracy: 0.94 - ETA: 8s - loss: 0.1464 - accuracy: 0.94 - ETA: 8s - loss: 0.1482 - accuracy: 0.94 - ETA: 8s - loss: 0.1477 - accuracy: 0.94 - ETA: 8s - loss: 0.1472 - accuracy: 0.94 - ETA: 8s - loss: 0.1461 - accuracy: 0.94 - ETA: 7s - loss: 0.1484 - accuracy: 0.94 - ETA: 7s - loss: 0.1477 - accuracy: 0.94 - ETA: 7s - loss: 0.1503 - accuracy: 0.94 - ETA: 7s - loss: 0.1514 - accuracy: 0.94 - ETA: 7s - loss: 0.1515 - accuracy: 0.94 - ETA: 7s - loss: 0.1516 - accuracy: 0.94 - ETA: 7s - loss: 0.1499 - accuracy: 0.94 - ETA: 7s - loss: 0.1501 - accuracy: 0.94 - ETA: 7s - loss: 0.1512 - accuracy: 0.94 - ETA: 7s - loss: 0.1523 - accuracy: 0.94 - ETA: 7s - loss: 0.1519 - accuracy: 0.94 - ETA: 7s - loss: 0.1503 - accuracy: 0.94 - ETA: 7s - loss: 0.1493 - accuracy: 0.94 - ETA: 7s - loss: 0.1482 - accuracy: 0.94 - ETA: 7s - loss: 0.1468 - accuracy: 0.94 - ETA: 6s - loss: 0.1464 - accuracy: 0.94 - ETA: 6s - loss: 0.1461 - accuracy: 0.94 - ETA: 6s - loss: 0.1457 - accuracy: 0.94 - ETA: 6s - loss: 0.1452 - accuracy: 0.94 - ETA: 6s - loss: 0.1449 - accuracy: 0.94 - ETA: 6s - loss: 0.1438 - accuracy: 0.94 - ETA: 6s - loss: 0.1423 - accuracy: 0.95 - ETA: 6s - loss: 0.1414 - accuracy: 0.95 - ETA: 6s - loss: 0.1417 - accuracy: 0.95 - ETA: 6s - loss: 0.1425 - accuracy: 0.95 - ETA: 6s - loss: 0.1432 - accuracy: 0.95 - ETA: 6s - loss: 0.1427 - accuracy: 0.95 - ETA: 6s - loss: 0.1420 - accuracy: 0.95 - ETA: 6s - loss: 0.1425 - accuracy: 0.95 - ETA: 6s - loss: 0.1423 - accuracy: 0.95 - ETA: 6s - loss: 0.1420 - accuracy: 0.95 - ETA: 6s - loss: 0.1417 - accuracy: 0.95 - ETA: 6s - loss: 0.1415 - accuracy: 0.95 - ETA: 5s - loss: 0.1404 - accuracy: 0.95 - ETA: 5s - loss: 0.1407 - accuracy: 0.95 - ETA: 5s - loss: 0.1403 - accuracy: 0.95 - ETA: 5s - loss: 0.1405 - accuracy: 0.95 - ETA: 5s - loss: 0.1407 - accuracy: 0.95 - ETA: 5s - loss: 0.1410 - accuracy: 0.95 - ETA: 5s - loss: 0.1414 - accuracy: 0.95 - ETA: 5s - loss: 0.1417 - accuracy: 0.95 - ETA: 5s - loss: 0.1422 - accuracy: 0.95 - ETA: 5s - loss: 0.1417 - accuracy: 0.95 - ETA: 5s - loss: 0.1415 - accuracy: 0.95 - ETA: 5s - loss: 0.1421 - accuracy: 0.95 - ETA: 5s - loss: 0.1423 - accuracy: 0.95 - ETA: 5s - loss: 0.1419 - accuracy: 0.95 - ETA: 5s - loss: 0.1416 - accuracy: 0.95 - ETA: 5s - loss: 0.1414 - accuracy: 0.95 - ETA: 5s - loss: 0.1410 - accuracy: 0.95 - ETA: 5s - loss: 0.1412 - accuracy: 0.95 - ETA: 5s - loss: 0.1416 - accuracy: 0.95 - ETA: 5s - loss: 0.1410 - accuracy: 0.95 - ETA: 5s - loss: 0.1412 - accuracy: 0.95 - ETA: 5s - loss: 0.1411 - accuracy: 0.95 - ETA: 5s - loss: 0.1406 - accuracy: 0.95 - ETA: 5s - loss: 0.1402 - accuracy: 0.95 - ETA: 4s - loss: 0.1404 - accuracy: 0.95 - ETA: 4s - loss: 0.1399 - accuracy: 0.95 - ETA: 4s - loss: 0.1399 - accuracy: 0.95 - ETA: 4s - loss: 0.1398 - accuracy: 0.95 - ETA: 4s - loss: 0.1399 - accuracy: 0.95 - ETA: 4s - loss: 0.1404 - accuracy: 0.95 - ETA: 4s - loss: 0.1400 - accuracy: 0.95 - ETA: 4s - loss: 0.1409 - accuracy: 0.95 - ETA: 4s - loss: 0.1402 - accuracy: 0.95 - ETA: 4s - loss: 0.1404 - accuracy: 0.95 - ETA: 4s - loss: 0.1405 - accuracy: 0.95 - ETA: 4s - loss: 0.1402 - accuracy: 0.95 - ETA: 4s - loss: 0.1396 - accuracy: 0.95 - ETA: 4s - loss: 0.1392 - accuracy: 0.95 - ETA: 4s - loss: 0.1388 - accuracy: 0.95 - ETA: 4s - loss: 0.1392 - accuracy: 0.95 - ETA: 4s - loss: 0.1392 - accuracy: 0.95 - ETA: 4s - loss: 0.1390 - accuracy: 0.95 - ETA: 4s - loss: 0.1388 - accuracy: 0.95 - ETA: 4s - loss: 0.1387 - accuracy: 0.95 - ETA: 3s - loss: 0.1380 - accuracy: 0.95 - ETA: 3s - loss: 0.1378 - accuracy: 0.95 - ETA: 3s - loss: 0.1374 - accuracy: 0.95 - ETA: 3s - loss: 0.1373 - accuracy: 0.95 - ETA: 3s - loss: 0.1373 - accuracy: 0.95 - ETA: 3s - loss: 0.1375 - accuracy: 0.95 - ETA: 3s - loss: 0.1372 - accuracy: 0.95 - ETA: 3s - loss: 0.1374 - accuracy: 0.95 - ETA: 3s - loss: 0.1370 - accuracy: 0.95 - ETA: 3s - loss: 0.1370 - accuracy: 0.95 - ETA: 3s - loss: 0.1371 - accuracy: 0.95 - ETA: 3s - loss: 0.1373 - accuracy: 0.95 - ETA: 3s - loss: 0.1377 - accuracy: 0.95 - ETA: 3s - loss: 0.1378 - accuracy: 0.95 - ETA: 3s - loss: 0.1377 - accuracy: 0.95 - ETA: 3s - loss: 0.1374 - accuracy: 0.95 - ETA: 3s - loss: 0.1375 - accuracy: 0.95 - ETA: 3s - loss: 0.1374 - accuracy: 0.95 - ETA: 3s - loss: 0.1372 - accuracy: 0.95 - ETA: 3s - loss: 0.1370 - accuracy: 0.95 - ETA: 3s - loss: 0.1365 - accuracy: 0.95 - ETA: 3s - loss: 0.1364 - accuracy: 0.95 - ETA: 3s - loss: 0.1364 - accuracy: 0.95 - ETA: 2s - loss: 0.1361 - accuracy: 0.95 - ETA: 2s - loss: 0.1358 - accuracy: 0.95 - ETA: 2s - loss: 0.1358 - accuracy: 0.95 - ETA: 2s - loss: 0.1360 - accuracy: 0.95 - ETA: 2s - loss: 0.1359 - accuracy: 0.95 - ETA: 2s - loss: 0.1359 - accuracy: 0.95 - ETA: 2s - loss: 0.1354 - accuracy: 0.95 - ETA: 2s - loss: 0.1357 - accuracy: 0.95 - ETA: 2s - loss: 0.1355 - accuracy: 0.95 - ETA: 2s - loss: 0.1351 - accuracy: 0.95 - ETA: 2s - loss: 0.1348 - accuracy: 0.95 - ETA: 2s - loss: 0.1354 - accuracy: 0.95 - ETA: 2s - loss: 0.1353 - accuracy: 0.95 - ETA: 2s - loss: 0.1354 - accuracy: 0.95 - ETA: 2s - loss: 0.1356 - accuracy: 0.95 - ETA: 2s - loss: 0.1353 - accuracy: 0.95 - ETA: 2s - loss: 0.1354 - accuracy: 0.95 - ETA: 2s - loss: 0.1354 - accuracy: 0.95 - ETA: 2s - loss: 0.1353 - accuracy: 0.95 - ETA: 2s - loss: 0.1354 - accuracy: 0.95 - ETA: 2s - loss: 0.1352 - accuracy: 0.95 - ETA: 2s - loss: 0.1352 - accuracy: 0.95 - ETA: 2s - loss: 0.1355 - accuracy: 0.95 - ETA: 2s - loss: 0.1352 - accuracy: 0.95 - ETA: 2s - loss: 0.1351 - accuracy: 0.95 - ETA: 2s - loss: 0.1351 - accuracy: 0.95 - ETA: 1s - loss: 0.1352 - accuracy: 0.95 - ETA: 1s - loss: 0.1349 - accuracy: 0.95 - ETA: 1s - loss: 0.1352 - accuracy: 0.95 - ETA: 1s - loss: 0.1350 - accuracy: 0.95 - ETA: 1s - loss: 0.1350 - accuracy: 0.95 - ETA: 1s - loss: 0.1349 - accuracy: 0.95 - ETA: 1s - loss: 0.1347 - accuracy: 0.95 - ETA: 1s - loss: 0.1344 - accuracy: 0.95 - ETA: 1s - loss: 0.1346 - accuracy: 0.95 - ETA: 1s - loss: 0.1346 - accuracy: 0.95 - ETA: 1s - loss: 0.1344 - accuracy: 0.95 - ETA: 1s - loss: 0.1343 - accuracy: 0.95 - ETA: 1s - loss: 0.1344 - accuracy: 0.95 - ETA: 1s - loss: 0.1346 - accuracy: 0.95 - ETA: 1s - loss: 0.1348 - accuracy: 0.95 - ETA: 1s - loss: 0.1346 - accuracy: 0.95 - ETA: 1s - loss: 0.1344 - accuracy: 0.95 - ETA: 1s - loss: 0.1343 - accuracy: 0.95 - ETA: 1s - loss: 0.1341 - accuracy: 0.95 - ETA: 1s - loss: 0.1341 - accuracy: 0.95 - ETA: 1s - loss: 0.1340 - accuracy: 0.95 - ETA: 1s - loss: 0.1342 - accuracy: 0.95 - ETA: 1s - loss: 0.1339 - accuracy: 0.95 - ETA: 1s - loss: 0.1336 - accuracy: 0.95 - ETA: 0s - loss: 0.1339 - accuracy: 0.95 - ETA: 0s - loss: 0.1339 - accuracy: 0.95 - ETA: 0s - loss: 0.1338 - accuracy: 0.95 - ETA: 0s - loss: 0.1336 - accuracy: 0.95 - ETA: 0s - loss: 0.1333 - accuracy: 0.95 - ETA: 0s - loss: 0.1333 - accuracy: 0.95 - ETA: 0s - loss: 0.1331 - accuracy: 0.95 - ETA: 0s - loss: 0.1330 - accuracy: 0.9540"
     ]
    },
    {
     "name": "stdout",
     "output_type": "stream",
     "text": [
      "804/804 [==============================] - ETA: 0s - loss: 0.1330 - accuracy: 0.95 - ETA: 0s - loss: 0.1328 - accuracy: 0.95 - ETA: 0s - loss: 0.1328 - accuracy: 0.95 - ETA: 0s - loss: 0.1329 - accuracy: 0.95 - ETA: 0s - loss: 0.1327 - accuracy: 0.95 - ETA: 0s - loss: 0.1324 - accuracy: 0.95 - ETA: 0s - loss: 0.1321 - accuracy: 0.95 - ETA: 0s - loss: 0.1321 - accuracy: 0.95 - ETA: 0s - loss: 0.1320 - accuracy: 0.95 - ETA: 0s - loss: 0.1319 - accuracy: 0.95 - 14s 17ms/step - loss: 0.1318 - accuracy: 0.9544 - val_loss: 0.4839 - val_accuracy: 0.7574\n",
      "Epoch 3/5\n"
     ]
    },
    {
     "name": "stdout",
     "output_type": "stream",
     "text": [
      "783/804 [============================>.] - ETA: 19s - loss: 0.0673 - accuracy: 0.968 - ETA: 11s - loss: 0.1238 - accuracy: 0.956 - ETA: 11s - loss: 0.1216 - accuracy: 0.947 - ETA: 12s - loss: 0.1192 - accuracy: 0.953 - ETA: 12s - loss: 0.1179 - accuracy: 0.954 - ETA: 12s - loss: 0.1065 - accuracy: 0.957 - ETA: 11s - loss: 0.0994 - accuracy: 0.959 - ETA: 11s - loss: 0.0902 - accuracy: 0.964 - ETA: 11s - loss: 0.0941 - accuracy: 0.961 - ETA: 11s - loss: 0.0986 - accuracy: 0.959 - ETA: 11s - loss: 0.1020 - accuracy: 0.960 - ETA: 11s - loss: 0.1038 - accuracy: 0.960 - ETA: 12s - loss: 0.1062 - accuracy: 0.958 - ETA: 12s - loss: 0.1046 - accuracy: 0.960 - ETA: 12s - loss: 0.1017 - accuracy: 0.960 - ETA: 11s - loss: 0.1002 - accuracy: 0.961 - ETA: 11s - loss: 0.1005 - accuracy: 0.961 - ETA: 11s - loss: 0.1004 - accuracy: 0.961 - ETA: 11s - loss: 0.1028 - accuracy: 0.960 - ETA: 11s - loss: 0.1062 - accuracy: 0.959 - ETA: 11s - loss: 0.1032 - accuracy: 0.960 - ETA: 11s - loss: 0.1023 - accuracy: 0.961 - ETA: 10s - loss: 0.1004 - accuracy: 0.962 - ETA: 10s - loss: 0.1030 - accuracy: 0.960 - ETA: 10s - loss: 0.1024 - accuracy: 0.960 - ETA: 10s - loss: 0.1024 - accuracy: 0.960 - ETA: 10s - loss: 0.1018 - accuracy: 0.961 - ETA: 10s - loss: 0.1027 - accuracy: 0.961 - ETA: 10s - loss: 0.1042 - accuracy: 0.960 - ETA: 10s - loss: 0.1041 - accuracy: 0.960 - ETA: 10s - loss: 0.1028 - accuracy: 0.961 - ETA: 10s - loss: 0.1035 - accuracy: 0.960 - ETA: 10s - loss: 0.1032 - accuracy: 0.961 - ETA: 9s - loss: 0.1034 - accuracy: 0.960 - ETA: 9s - loss: 0.1039 - accuracy: 0.96 - ETA: 9s - loss: 0.1043 - accuracy: 0.96 - ETA: 9s - loss: 0.1056 - accuracy: 0.95 - ETA: 9s - loss: 0.1064 - accuracy: 0.95 - ETA: 9s - loss: 0.1061 - accuracy: 0.95 - ETA: 9s - loss: 0.1061 - accuracy: 0.95 - ETA: 9s - loss: 0.1075 - accuracy: 0.95 - ETA: 9s - loss: 0.1076 - accuracy: 0.95 - ETA: 8s - loss: 0.1062 - accuracy: 0.95 - ETA: 8s - loss: 0.1079 - accuracy: 0.95 - ETA: 8s - loss: 0.1067 - accuracy: 0.95 - ETA: 8s - loss: 0.1065 - accuracy: 0.95 - ETA: 8s - loss: 0.1053 - accuracy: 0.96 - ETA: 8s - loss: 0.1056 - accuracy: 0.96 - ETA: 8s - loss: 0.1050 - accuracy: 0.96 - ETA: 8s - loss: 0.1056 - accuracy: 0.95 - ETA: 8s - loss: 0.1054 - accuracy: 0.95 - ETA: 8s - loss: 0.1048 - accuracy: 0.95 - ETA: 8s - loss: 0.1042 - accuracy: 0.95 - ETA: 8s - loss: 0.1035 - accuracy: 0.96 - ETA: 8s - loss: 0.1038 - accuracy: 0.96 - ETA: 8s - loss: 0.1030 - accuracy: 0.96 - ETA: 7s - loss: 0.1017 - accuracy: 0.96 - ETA: 7s - loss: 0.1012 - accuracy: 0.96 - ETA: 7s - loss: 0.1012 - accuracy: 0.96 - ETA: 7s - loss: 0.1013 - accuracy: 0.96 - ETA: 7s - loss: 0.1014 - accuracy: 0.96 - ETA: 7s - loss: 0.1021 - accuracy: 0.96 - ETA: 7s - loss: 0.1031 - accuracy: 0.96 - ETA: 7s - loss: 0.1033 - accuracy: 0.96 - ETA: 7s - loss: 0.1033 - accuracy: 0.96 - ETA: 7s - loss: 0.1034 - accuracy: 0.96 - ETA: 7s - loss: 0.1027 - accuracy: 0.96 - ETA: 7s - loss: 0.1022 - accuracy: 0.96 - ETA: 7s - loss: 0.1021 - accuracy: 0.96 - ETA: 7s - loss: 0.1015 - accuracy: 0.96 - ETA: 7s - loss: 0.1012 - accuracy: 0.96 - ETA: 7s - loss: 0.1007 - accuracy: 0.96 - ETA: 6s - loss: 0.1008 - accuracy: 0.96 - ETA: 6s - loss: 0.1013 - accuracy: 0.96 - ETA: 6s - loss: 0.1015 - accuracy: 0.96 - ETA: 6s - loss: 0.1016 - accuracy: 0.96 - ETA: 6s - loss: 0.1025 - accuracy: 0.96 - ETA: 6s - loss: 0.1028 - accuracy: 0.96 - ETA: 6s - loss: 0.1027 - accuracy: 0.96 - ETA: 6s - loss: 0.1028 - accuracy: 0.96 - ETA: 6s - loss: 0.1028 - accuracy: 0.96 - ETA: 6s - loss: 0.1033 - accuracy: 0.96 - ETA: 6s - loss: 0.1033 - accuracy: 0.96 - ETA: 6s - loss: 0.1030 - accuracy: 0.96 - ETA: 6s - loss: 0.1027 - accuracy: 0.96 - ETA: 6s - loss: 0.1025 - accuracy: 0.96 - ETA: 6s - loss: 0.1025 - accuracy: 0.96 - ETA: 6s - loss: 0.1021 - accuracy: 0.96 - ETA: 6s - loss: 0.1015 - accuracy: 0.96 - ETA: 6s - loss: 0.1012 - accuracy: 0.96 - ETA: 6s - loss: 0.1014 - accuracy: 0.96 - ETA: 6s - loss: 0.1014 - accuracy: 0.96 - ETA: 5s - loss: 0.1013 - accuracy: 0.96 - ETA: 5s - loss: 0.1014 - accuracy: 0.96 - ETA: 5s - loss: 0.1023 - accuracy: 0.96 - ETA: 5s - loss: 0.1023 - accuracy: 0.96 - ETA: 5s - loss: 0.1021 - accuracy: 0.96 - ETA: 5s - loss: 0.1022 - accuracy: 0.96 - ETA: 5s - loss: 0.1025 - accuracy: 0.96 - ETA: 5s - loss: 0.1023 - accuracy: 0.96 - ETA: 5s - loss: 0.1028 - accuracy: 0.96 - ETA: 5s - loss: 0.1024 - accuracy: 0.96 - ETA: 5s - loss: 0.1022 - accuracy: 0.96 - ETA: 5s - loss: 0.1021 - accuracy: 0.96 - ETA: 5s - loss: 0.1020 - accuracy: 0.96 - ETA: 5s - loss: 0.1018 - accuracy: 0.96 - ETA: 5s - loss: 0.1017 - accuracy: 0.96 - ETA: 5s - loss: 0.1013 - accuracy: 0.96 - ETA: 5s - loss: 0.1010 - accuracy: 0.96 - ETA: 5s - loss: 0.1005 - accuracy: 0.96 - ETA: 4s - loss: 0.1005 - accuracy: 0.96 - ETA: 4s - loss: 0.1000 - accuracy: 0.96 - ETA: 4s - loss: 0.1004 - accuracy: 0.96 - ETA: 4s - loss: 0.1007 - accuracy: 0.96 - ETA: 4s - loss: 0.1007 - accuracy: 0.96 - ETA: 4s - loss: 0.1004 - accuracy: 0.96 - ETA: 4s - loss: 0.1002 - accuracy: 0.96 - ETA: 4s - loss: 0.1000 - accuracy: 0.96 - ETA: 4s - loss: 0.0995 - accuracy: 0.96 - ETA: 4s - loss: 0.0996 - accuracy: 0.96 - ETA: 4s - loss: 0.1003 - accuracy: 0.96 - ETA: 4s - loss: 0.1007 - accuracy: 0.96 - ETA: 4s - loss: 0.1004 - accuracy: 0.96 - ETA: 4s - loss: 0.1002 - accuracy: 0.96 - ETA: 4s - loss: 0.0998 - accuracy: 0.96 - ETA: 4s - loss: 0.0997 - accuracy: 0.96 - ETA: 3s - loss: 0.1004 - accuracy: 0.96 - ETA: 3s - loss: 0.1004 - accuracy: 0.96 - ETA: 3s - loss: 0.1001 - accuracy: 0.96 - ETA: 3s - loss: 0.1008 - accuracy: 0.96 - ETA: 3s - loss: 0.1008 - accuracy: 0.96 - ETA: 3s - loss: 0.1008 - accuracy: 0.96 - ETA: 3s - loss: 0.1006 - accuracy: 0.96 - ETA: 3s - loss: 0.1009 - accuracy: 0.96 - ETA: 3s - loss: 0.1014 - accuracy: 0.96 - ETA: 3s - loss: 0.1009 - accuracy: 0.96 - ETA: 3s - loss: 0.1008 - accuracy: 0.96 - ETA: 3s - loss: 0.1015 - accuracy: 0.96 - ETA: 3s - loss: 0.1015 - accuracy: 0.96 - ETA: 3s - loss: 0.1016 - accuracy: 0.96 - ETA: 3s - loss: 0.1018 - accuracy: 0.96 - ETA: 3s - loss: 0.1013 - accuracy: 0.96 - ETA: 3s - loss: 0.1011 - accuracy: 0.96 - ETA: 2s - loss: 0.1012 - accuracy: 0.96 - ETA: 2s - loss: 0.1017 - accuracy: 0.96 - ETA: 2s - loss: 0.1020 - accuracy: 0.96 - ETA: 2s - loss: 0.1020 - accuracy: 0.96 - ETA: 2s - loss: 0.1023 - accuracy: 0.96 - ETA: 2s - loss: 0.1021 - accuracy: 0.96 - ETA: 2s - loss: 0.1023 - accuracy: 0.96 - ETA: 2s - loss: 0.1025 - accuracy: 0.96 - ETA: 2s - loss: 0.1022 - accuracy: 0.96 - ETA: 2s - loss: 0.1025 - accuracy: 0.96 - ETA: 2s - loss: 0.1025 - accuracy: 0.96 - ETA: 2s - loss: 0.1029 - accuracy: 0.95 - ETA: 2s - loss: 0.1025 - accuracy: 0.96 - ETA: 2s - loss: 0.1023 - accuracy: 0.96 - ETA: 2s - loss: 0.1021 - accuracy: 0.96 - ETA: 2s - loss: 0.1022 - accuracy: 0.96 - ETA: 1s - loss: 0.1019 - accuracy: 0.96 - ETA: 1s - loss: 0.1017 - accuracy: 0.96 - ETA: 1s - loss: 0.1017 - accuracy: 0.96 - ETA: 1s - loss: 0.1016 - accuracy: 0.96 - ETA: 1s - loss: 0.1017 - accuracy: 0.96 - ETA: 1s - loss: 0.1016 - accuracy: 0.96 - ETA: 1s - loss: 0.1014 - accuracy: 0.96 - ETA: 1s - loss: 0.1013 - accuracy: 0.96 - ETA: 1s - loss: 0.1010 - accuracy: 0.96 - ETA: 1s - loss: 0.1007 - accuracy: 0.96 - ETA: 1s - loss: 0.1004 - accuracy: 0.96 - ETA: 1s - loss: 0.1003 - accuracy: 0.96 - ETA: 1s - loss: 0.1003 - accuracy: 0.96 - ETA: 1s - loss: 0.1007 - accuracy: 0.96 - ETA: 1s - loss: 0.1004 - accuracy: 0.96 - ETA: 1s - loss: 0.1003 - accuracy: 0.96 - ETA: 1s - loss: 0.1005 - accuracy: 0.96 - ETA: 1s - loss: 0.1003 - accuracy: 0.96 - ETA: 1s - loss: 0.1002 - accuracy: 0.96 - ETA: 1s - loss: 0.1000 - accuracy: 0.96 - ETA: 1s - loss: 0.1000 - accuracy: 0.96 - ETA: 0s - loss: 0.0999 - accuracy: 0.96 - ETA: 0s - loss: 0.1000 - accuracy: 0.96 - ETA: 0s - loss: 0.1001 - accuracy: 0.96 - ETA: 0s - loss: 0.1003 - accuracy: 0.96 - ETA: 0s - loss: 0.1007 - accuracy: 0.96 - ETA: 0s - loss: 0.1008 - accuracy: 0.96 - ETA: 0s - loss: 0.1008 - accuracy: 0.96 - ETA: 0s - loss: 0.1006 - accuracy: 0.96 - ETA: 0s - loss: 0.1006 - accuracy: 0.96 - ETA: 0s - loss: 0.1008 - accuracy: 0.96 - ETA: 0s - loss: 0.1008 - accuracy: 0.96 - ETA: 0s - loss: 0.1005 - accuracy: 0.96 - ETA: 0s - loss: 0.1006 - accuracy: 0.9614"
     ]
    },
    {
     "name": "stdout",
     "output_type": "stream",
     "text": [
      "804/804 [==============================] - ETA: 0s - loss: 0.1005 - accuracy: 0.96 - ETA: 0s - loss: 0.1004 - accuracy: 0.96 - ETA: 0s - loss: 0.1004 - accuracy: 0.96 - ETA: 0s - loss: 0.1005 - accuracy: 0.96 - ETA: 0s - loss: 0.1008 - accuracy: 0.96 - 12s 15ms/step - loss: 0.1008 - accuracy: 0.9614 - val_loss: 0.5383 - val_accuracy: 0.6991\n",
      "Epoch 4/5\n"
     ]
    },
    {
     "name": "stdout",
     "output_type": "stream",
     "text": [
      "804/804 [==============================] - ETA: 32s - loss: 0.1660 - accuracy: 0.906 - ETA: 56s - loss: 0.1929 - accuracy: 0.921 - ETA: 49s - loss: 0.1524 - accuracy: 0.937 - ETA: 28s - loss: 0.1797 - accuracy: 0.937 - ETA: 20s - loss: 0.1381 - accuracy: 0.953 - ETA: 17s - loss: 0.1221 - accuracy: 0.959 - ETA: 15s - loss: 0.1134 - accuracy: 0.963 - ETA: 14s - loss: 0.1154 - accuracy: 0.961 - ETA: 14s - loss: 0.1154 - accuracy: 0.957 - ETA: 13s - loss: 0.1116 - accuracy: 0.960 - ETA: 13s - loss: 0.1077 - accuracy: 0.961 - ETA: 13s - loss: 0.1066 - accuracy: 0.962 - ETA: 12s - loss: 0.1068 - accuracy: 0.962 - ETA: 12s - loss: 0.1062 - accuracy: 0.962 - ETA: 11s - loss: 0.1041 - accuracy: 0.961 - ETA: 11s - loss: 0.1076 - accuracy: 0.959 - ETA: 11s - loss: 0.1061 - accuracy: 0.959 - ETA: 11s - loss: 0.1049 - accuracy: 0.961 - ETA: 10s - loss: 0.1039 - accuracy: 0.961 - ETA: 10s - loss: 0.1017 - accuracy: 0.962 - ETA: 10s - loss: 0.1011 - accuracy: 0.962 - ETA: 10s - loss: 0.1015 - accuracy: 0.963 - ETA: 10s - loss: 0.1004 - accuracy: 0.963 - ETA: 9s - loss: 0.0991 - accuracy: 0.964 - ETA: 9s - loss: 0.1006 - accuracy: 0.96 - ETA: 9s - loss: 0.1026 - accuracy: 0.96 - ETA: 9s - loss: 0.1028 - accuracy: 0.96 - ETA: 9s - loss: 0.1024 - accuracy: 0.96 - ETA: 9s - loss: 0.1037 - accuracy: 0.96 - ETA: 9s - loss: 0.1031 - accuracy: 0.96 - ETA: 9s - loss: 0.1041 - accuracy: 0.95 - ETA: 9s - loss: 0.1033 - accuracy: 0.96 - ETA: 9s - loss: 0.1032 - accuracy: 0.95 - ETA: 9s - loss: 0.1027 - accuracy: 0.95 - ETA: 8s - loss: 0.1016 - accuracy: 0.96 - ETA: 8s - loss: 0.1015 - accuracy: 0.95 - ETA: 8s - loss: 0.1013 - accuracy: 0.95 - ETA: 8s - loss: 0.1023 - accuracy: 0.95 - ETA: 8s - loss: 0.1006 - accuracy: 0.96 - ETA: 8s - loss: 0.0986 - accuracy: 0.96 - ETA: 8s - loss: 0.0990 - accuracy: 0.96 - ETA: 8s - loss: 0.0995 - accuracy: 0.95 - ETA: 8s - loss: 0.0994 - accuracy: 0.95 - ETA: 8s - loss: 0.0994 - accuracy: 0.95 - ETA: 8s - loss: 0.0986 - accuracy: 0.95 - ETA: 8s - loss: 0.0978 - accuracy: 0.96 - ETA: 8s - loss: 0.0972 - accuracy: 0.96 - ETA: 8s - loss: 0.0973 - accuracy: 0.96 - ETA: 8s - loss: 0.0978 - accuracy: 0.96 - ETA: 7s - loss: 0.0976 - accuracy: 0.96 - ETA: 7s - loss: 0.0983 - accuracy: 0.96 - ETA: 7s - loss: 0.0985 - accuracy: 0.95 - ETA: 7s - loss: 0.0987 - accuracy: 0.95 - ETA: 7s - loss: 0.0984 - accuracy: 0.95 - ETA: 7s - loss: 0.0980 - accuracy: 0.96 - ETA: 7s - loss: 0.0974 - accuracy: 0.96 - ETA: 7s - loss: 0.0975 - accuracy: 0.96 - ETA: 7s - loss: 0.0972 - accuracy: 0.96 - ETA: 7s - loss: 0.0975 - accuracy: 0.96 - ETA: 7s - loss: 0.0980 - accuracy: 0.96 - ETA: 7s - loss: 0.0973 - accuracy: 0.96 - ETA: 7s - loss: 0.0981 - accuracy: 0.96 - ETA: 6s - loss: 0.0988 - accuracy: 0.95 - ETA: 6s - loss: 0.0995 - accuracy: 0.95 - ETA: 6s - loss: 0.0993 - accuracy: 0.95 - ETA: 6s - loss: 0.0991 - accuracy: 0.95 - ETA: 6s - loss: 0.0988 - accuracy: 0.95 - ETA: 6s - loss: 0.0990 - accuracy: 0.95 - ETA: 6s - loss: 0.0991 - accuracy: 0.95 - ETA: 6s - loss: 0.0991 - accuracy: 0.95 - ETA: 6s - loss: 0.0984 - accuracy: 0.96 - ETA: 6s - loss: 0.0982 - accuracy: 0.96 - ETA: 6s - loss: 0.0987 - accuracy: 0.95 - ETA: 6s - loss: 0.0984 - accuracy: 0.95 - ETA: 6s - loss: 0.0989 - accuracy: 0.95 - ETA: 6s - loss: 0.0985 - accuracy: 0.95 - ETA: 6s - loss: 0.0988 - accuracy: 0.95 - ETA: 6s - loss: 0.0982 - accuracy: 0.96 - ETA: 5s - loss: 0.0979 - accuracy: 0.96 - ETA: 5s - loss: 0.0976 - accuracy: 0.96 - ETA: 5s - loss: 0.0979 - accuracy: 0.96 - ETA: 5s - loss: 0.0980 - accuracy: 0.96 - ETA: 5s - loss: 0.0974 - accuracy: 0.96 - ETA: 5s - loss: 0.0978 - accuracy: 0.96 - ETA: 5s - loss: 0.0972 - accuracy: 0.96 - ETA: 5s - loss: 0.0967 - accuracy: 0.96 - ETA: 5s - loss: 0.0962 - accuracy: 0.96 - ETA: 5s - loss: 0.0972 - accuracy: 0.96 - ETA: 5s - loss: 0.0975 - accuracy: 0.96 - ETA: 5s - loss: 0.0979 - accuracy: 0.96 - ETA: 5s - loss: 0.0977 - accuracy: 0.96 - ETA: 5s - loss: 0.0980 - accuracy: 0.96 - ETA: 5s - loss: 0.0985 - accuracy: 0.96 - ETA: 5s - loss: 0.0984 - accuracy: 0.96 - ETA: 4s - loss: 0.0982 - accuracy: 0.96 - ETA: 4s - loss: 0.0980 - accuracy: 0.96 - ETA: 4s - loss: 0.0979 - accuracy: 0.96 - ETA: 4s - loss: 0.0979 - accuracy: 0.96 - ETA: 4s - loss: 0.0980 - accuracy: 0.96 - ETA: 4s - loss: 0.0983 - accuracy: 0.96 - ETA: 4s - loss: 0.0983 - accuracy: 0.96 - ETA: 4s - loss: 0.0982 - accuracy: 0.96 - ETA: 4s - loss: 0.0979 - accuracy: 0.96 - ETA: 4s - loss: 0.0976 - accuracy: 0.96 - ETA: 4s - loss: 0.0973 - accuracy: 0.96 - ETA: 4s - loss: 0.0974 - accuracy: 0.96 - ETA: 4s - loss: 0.0973 - accuracy: 0.96 - ETA: 4s - loss: 0.0970 - accuracy: 0.96 - ETA: 4s - loss: 0.0972 - accuracy: 0.96 - ETA: 4s - loss: 0.0971 - accuracy: 0.96 - ETA: 4s - loss: 0.0969 - accuracy: 0.96 - ETA: 4s - loss: 0.0966 - accuracy: 0.96 - ETA: 4s - loss: 0.0965 - accuracy: 0.96 - ETA: 3s - loss: 0.0964 - accuracy: 0.96 - ETA: 3s - loss: 0.0959 - accuracy: 0.96 - ETA: 3s - loss: 0.0959 - accuracy: 0.96 - ETA: 3s - loss: 0.0960 - accuracy: 0.96 - ETA: 3s - loss: 0.0957 - accuracy: 0.96 - ETA: 3s - loss: 0.0956 - accuracy: 0.96 - ETA: 3s - loss: 0.0954 - accuracy: 0.96 - ETA: 3s - loss: 0.0949 - accuracy: 0.96 - ETA: 3s - loss: 0.0949 - accuracy: 0.96 - ETA: 3s - loss: 0.0946 - accuracy: 0.96 - ETA: 3s - loss: 0.0948 - accuracy: 0.96 - ETA: 3s - loss: 0.0944 - accuracy: 0.96 - ETA: 3s - loss: 0.0940 - accuracy: 0.96 - ETA: 3s - loss: 0.0941 - accuracy: 0.96 - ETA: 3s - loss: 0.0940 - accuracy: 0.96 - ETA: 3s - loss: 0.0938 - accuracy: 0.96 - ETA: 3s - loss: 0.0936 - accuracy: 0.96 - ETA: 3s - loss: 0.0935 - accuracy: 0.96 - ETA: 3s - loss: 0.0931 - accuracy: 0.96 - ETA: 3s - loss: 0.0935 - accuracy: 0.96 - ETA: 2s - loss: 0.0935 - accuracy: 0.96 - ETA: 2s - loss: 0.0939 - accuracy: 0.96 - ETA: 2s - loss: 0.0936 - accuracy: 0.96 - ETA: 2s - loss: 0.0940 - accuracy: 0.96 - ETA: 2s - loss: 0.0940 - accuracy: 0.96 - ETA: 2s - loss: 0.0944 - accuracy: 0.96 - ETA: 2s - loss: 0.0941 - accuracy: 0.96 - ETA: 2s - loss: 0.0940 - accuracy: 0.96 - ETA: 2s - loss: 0.0939 - accuracy: 0.96 - ETA: 2s - loss: 0.0938 - accuracy: 0.96 - ETA: 2s - loss: 0.0942 - accuracy: 0.96 - ETA: 2s - loss: 0.0942 - accuracy: 0.96 - ETA: 2s - loss: 0.0942 - accuracy: 0.96 - ETA: 2s - loss: 0.0945 - accuracy: 0.96 - ETA: 2s - loss: 0.0945 - accuracy: 0.96 - ETA: 2s - loss: 0.0941 - accuracy: 0.96 - ETA: 2s - loss: 0.0942 - accuracy: 0.96 - ETA: 2s - loss: 0.0942 - accuracy: 0.96 - ETA: 2s - loss: 0.0940 - accuracy: 0.96 - ETA: 1s - loss: 0.0940 - accuracy: 0.96 - ETA: 1s - loss: 0.0941 - accuracy: 0.96 - ETA: 1s - loss: 0.0942 - accuracy: 0.96 - ETA: 1s - loss: 0.0942 - accuracy: 0.96 - ETA: 1s - loss: 0.0941 - accuracy: 0.96 - ETA: 1s - loss: 0.0941 - accuracy: 0.96 - ETA: 1s - loss: 0.0943 - accuracy: 0.96 - ETA: 1s - loss: 0.0944 - accuracy: 0.96 - ETA: 1s - loss: 0.0943 - accuracy: 0.96 - ETA: 1s - loss: 0.0944 - accuracy: 0.96 - ETA: 1s - loss: 0.0946 - accuracy: 0.96 - ETA: 1s - loss: 0.0943 - accuracy: 0.96 - ETA: 1s - loss: 0.0944 - accuracy: 0.96 - ETA: 1s - loss: 0.0945 - accuracy: 0.96 - ETA: 1s - loss: 0.0943 - accuracy: 0.96 - ETA: 1s - loss: 0.0945 - accuracy: 0.96 - ETA: 1s - loss: 0.0945 - accuracy: 0.96 - ETA: 1s - loss: 0.0942 - accuracy: 0.96 - ETA: 1s - loss: 0.0941 - accuracy: 0.96 - ETA: 0s - loss: 0.0939 - accuracy: 0.96 - ETA: 0s - loss: 0.0941 - accuracy: 0.96 - ETA: 0s - loss: 0.0940 - accuracy: 0.96 - ETA: 0s - loss: 0.0943 - accuracy: 0.96 - ETA: 0s - loss: 0.0942 - accuracy: 0.96 - ETA: 0s - loss: 0.0941 - accuracy: 0.96 - ETA: 0s - loss: 0.0940 - accuracy: 0.96 - ETA: 0s - loss: 0.0940 - accuracy: 0.96 - ETA: 0s - loss: 0.0946 - accuracy: 0.96 - ETA: 0s - loss: 0.0945 - accuracy: 0.96 - ETA: 0s - loss: 0.0943 - accuracy: 0.96 - ETA: 0s - loss: 0.0945 - accuracy: 0.96 - ETA: 0s - loss: 0.0944 - accuracy: 0.96 - ETA: 0s - loss: 0.0942 - accuracy: 0.96 - ETA: 0s - loss: 0.0940 - accuracy: 0.96 - ETA: 0s - loss: 0.0939 - accuracy: 0.96 - ETA: 0s - loss: 0.0941 - accuracy: 0.96 - ETA: 0s - loss: 0.0939 - accuracy: 0.96 - 12s 15ms/step - loss: 0.0938 - accuracy: 0.9623 - val_loss: 0.5185 - val_accuracy: 0.7245\n",
      "Epoch 5/5\n"
     ]
    },
    {
     "name": "stdout",
     "output_type": "stream",
     "text": [
      "700/804 [=========================>....] - ETA: 15s - loss: 0.1264 - accuracy: 0.968 - ETA: 8s - loss: 0.0723 - accuracy: 0.984 - ETA: 9s - loss: 0.0948 - accuracy: 0.96 - ETA: 9s - loss: 0.0813 - accuracy: 0.96 - ETA: 10s - loss: 0.0732 - accuracy: 0.970 - ETA: 10s - loss: 0.0782 - accuracy: 0.970 - ETA: 10s - loss: 0.0950 - accuracy: 0.964 - ETA: 10s - loss: 0.1009 - accuracy: 0.960 - ETA: 10s - loss: 0.0940 - accuracy: 0.963 - ETA: 10s - loss: 0.0941 - accuracy: 0.962 - ETA: 10s - loss: 0.0952 - accuracy: 0.962 - ETA: 10s - loss: 0.0921 - accuracy: 0.964 - ETA: 10s - loss: 0.0897 - accuracy: 0.964 - ETA: 9s - loss: 0.0921 - accuracy: 0.963 - ETA: 9s - loss: 0.0930 - accuracy: 0.96 - ETA: 10s - loss: 0.0931 - accuracy: 0.961 - ETA: 9s - loss: 0.0934 - accuracy: 0.961 - ETA: 9s - loss: 0.0918 - accuracy: 0.96 - ETA: 9s - loss: 0.0925 - accuracy: 0.96 - ETA: 9s - loss: 0.0920 - accuracy: 0.96 - ETA: 9s - loss: 0.0924 - accuracy: 0.96 - ETA: 9s - loss: 0.0932 - accuracy: 0.96 - ETA: 9s - loss: 0.0945 - accuracy: 0.96 - ETA: 9s - loss: 0.0937 - accuracy: 0.96 - ETA: 9s - loss: 0.0931 - accuracy: 0.96 - ETA: 9s - loss: 0.0928 - accuracy: 0.96 - ETA: 9s - loss: 0.0940 - accuracy: 0.96 - ETA: 9s - loss: 0.0939 - accuracy: 0.96 - ETA: 9s - loss: 0.0943 - accuracy: 0.96 - ETA: 9s - loss: 0.0941 - accuracy: 0.96 - ETA: 9s - loss: 0.0942 - accuracy: 0.96 - ETA: 9s - loss: 0.0943 - accuracy: 0.96 - ETA: 9s - loss: 0.0931 - accuracy: 0.96 - ETA: 8s - loss: 0.0936 - accuracy: 0.96 - ETA: 8s - loss: 0.0925 - accuracy: 0.96 - ETA: 8s - loss: 0.0921 - accuracy: 0.96 - ETA: 8s - loss: 0.0912 - accuracy: 0.96 - ETA: 8s - loss: 0.0899 - accuracy: 0.96 - ETA: 8s - loss: 0.0890 - accuracy: 0.96 - ETA: 8s - loss: 0.0897 - accuracy: 0.96 - ETA: 8s - loss: 0.0893 - accuracy: 0.96 - ETA: 8s - loss: 0.0895 - accuracy: 0.96 - ETA: 8s - loss: 0.0900 - accuracy: 0.96 - ETA: 8s - loss: 0.0920 - accuracy: 0.96 - ETA: 8s - loss: 0.0921 - accuracy: 0.96 - ETA: 8s - loss: 0.0914 - accuracy: 0.96 - ETA: 8s - loss: 0.0913 - accuracy: 0.96 - ETA: 8s - loss: 0.0921 - accuracy: 0.96 - ETA: 8s - loss: 0.0926 - accuracy: 0.96 - ETA: 8s - loss: 0.0924 - accuracy: 0.96 - ETA: 8s - loss: 0.0932 - accuracy: 0.96 - ETA: 8s - loss: 0.0926 - accuracy: 0.96 - ETA: 8s - loss: 0.0942 - accuracy: 0.96 - ETA: 8s - loss: 0.0940 - accuracy: 0.96 - ETA: 8s - loss: 0.0940 - accuracy: 0.96 - ETA: 8s - loss: 0.0940 - accuracy: 0.96 - ETA: 8s - loss: 0.0935 - accuracy: 0.96 - ETA: 8s - loss: 0.0936 - accuracy: 0.96 - ETA: 8s - loss: 0.0944 - accuracy: 0.96 - ETA: 8s - loss: 0.0953 - accuracy: 0.96 - ETA: 8s - loss: 0.0949 - accuracy: 0.96 - ETA: 8s - loss: 0.0949 - accuracy: 0.96 - ETA: 8s - loss: 0.0950 - accuracy: 0.96 - ETA: 8s - loss: 0.0948 - accuracy: 0.96 - ETA: 8s - loss: 0.0947 - accuracy: 0.96 - ETA: 8s - loss: 0.0961 - accuracy: 0.96 - ETA: 8s - loss: 0.0959 - accuracy: 0.96 - ETA: 8s - loss: 0.0950 - accuracy: 0.96 - ETA: 8s - loss: 0.0952 - accuracy: 0.96 - ETA: 8s - loss: 0.0949 - accuracy: 0.96 - ETA: 8s - loss: 0.0949 - accuracy: 0.96 - ETA: 8s - loss: 0.0943 - accuracy: 0.96 - ETA: 8s - loss: 0.0944 - accuracy: 0.96 - ETA: 7s - loss: 0.0942 - accuracy: 0.96 - ETA: 7s - loss: 0.0942 - accuracy: 0.96 - ETA: 7s - loss: 0.0941 - accuracy: 0.96 - ETA: 7s - loss: 0.0945 - accuracy: 0.96 - ETA: 7s - loss: 0.0941 - accuracy: 0.96 - ETA: 7s - loss: 0.0939 - accuracy: 0.96 - ETA: 7s - loss: 0.0937 - accuracy: 0.96 - ETA: 7s - loss: 0.0941 - accuracy: 0.96 - ETA: 7s - loss: 0.0939 - accuracy: 0.96 - ETA: 7s - loss: 0.0936 - accuracy: 0.96 - ETA: 7s - loss: 0.0936 - accuracy: 0.96 - ETA: 7s - loss: 0.0939 - accuracy: 0.96 - ETA: 7s - loss: 0.0935 - accuracy: 0.96 - ETA: 7s - loss: 0.0942 - accuracy: 0.96 - ETA: 7s - loss: 0.0940 - accuracy: 0.96 - ETA: 7s - loss: 0.0942 - accuracy: 0.96 - ETA: 7s - loss: 0.0937 - accuracy: 0.96 - ETA: 6s - loss: 0.0937 - accuracy: 0.96 - ETA: 6s - loss: 0.0937 - accuracy: 0.96 - ETA: 6s - loss: 0.0938 - accuracy: 0.96 - ETA: 6s - loss: 0.0936 - accuracy: 0.96 - ETA: 6s - loss: 0.0938 - accuracy: 0.96 - ETA: 6s - loss: 0.0935 - accuracy: 0.96 - ETA: 6s - loss: 0.0931 - accuracy: 0.96 - ETA: 6s - loss: 0.0937 - accuracy: 0.96 - ETA: 6s - loss: 0.0942 - accuracy: 0.96 - ETA: 6s - loss: 0.0938 - accuracy: 0.96 - ETA: 6s - loss: 0.0938 - accuracy: 0.96 - ETA: 6s - loss: 0.0935 - accuracy: 0.96 - ETA: 6s - loss: 0.0932 - accuracy: 0.96 - ETA: 6s - loss: 0.0934 - accuracy: 0.96 - ETA: 6s - loss: 0.0936 - accuracy: 0.96 - ETA: 5s - loss: 0.0935 - accuracy: 0.96 - ETA: 5s - loss: 0.0934 - accuracy: 0.96 - ETA: 5s - loss: 0.0932 - accuracy: 0.96 - ETA: 5s - loss: 0.0928 - accuracy: 0.96 - ETA: 5s - loss: 0.0926 - accuracy: 0.96 - ETA: 5s - loss: 0.0925 - accuracy: 0.96 - ETA: 5s - loss: 0.0924 - accuracy: 0.96 - ETA: 5s - loss: 0.0925 - accuracy: 0.96 - ETA: 5s - loss: 0.0927 - accuracy: 0.96 - ETA: 5s - loss: 0.0930 - accuracy: 0.96 - ETA: 5s - loss: 0.0931 - accuracy: 0.96 - ETA: 5s - loss: 0.0929 - accuracy: 0.96 - ETA: 5s - loss: 0.0930 - accuracy: 0.96 - ETA: 5s - loss: 0.0929 - accuracy: 0.96 - ETA: 5s - loss: 0.0927 - accuracy: 0.96 - ETA: 5s - loss: 0.0925 - accuracy: 0.96 - ETA: 5s - loss: 0.0923 - accuracy: 0.96 - ETA: 5s - loss: 0.0921 - accuracy: 0.96 - ETA: 5s - loss: 0.0922 - accuracy: 0.96 - ETA: 5s - loss: 0.0921 - accuracy: 0.96 - ETA: 5s - loss: 0.0919 - accuracy: 0.96 - ETA: 5s - loss: 0.0918 - accuracy: 0.96 - ETA: 5s - loss: 0.0917 - accuracy: 0.96 - ETA: 5s - loss: 0.0917 - accuracy: 0.96 - ETA: 5s - loss: 0.0916 - accuracy: 0.96 - ETA: 5s - loss: 0.0915 - accuracy: 0.96 - ETA: 5s - loss: 0.0915 - accuracy: 0.96 - ETA: 5s - loss: 0.0914 - accuracy: 0.96 - ETA: 5s - loss: 0.0910 - accuracy: 0.96 - ETA: 5s - loss: 0.0910 - accuracy: 0.96 - ETA: 5s - loss: 0.0912 - accuracy: 0.96 - ETA: 5s - loss: 0.0910 - accuracy: 0.96 - ETA: 4s - loss: 0.0911 - accuracy: 0.96 - ETA: 4s - loss: 0.0910 - accuracy: 0.96 - ETA: 4s - loss: 0.0909 - accuracy: 0.96 - ETA: 4s - loss: 0.0911 - accuracy: 0.96 - ETA: 4s - loss: 0.0912 - accuracy: 0.96 - ETA: 4s - loss: 0.0910 - accuracy: 0.96 - ETA: 4s - loss: 0.0910 - accuracy: 0.96 - ETA: 4s - loss: 0.0908 - accuracy: 0.96 - ETA: 4s - loss: 0.0907 - accuracy: 0.96 - ETA: 4s - loss: 0.0907 - accuracy: 0.96 - ETA: 4s - loss: 0.0904 - accuracy: 0.96 - ETA: 4s - loss: 0.0903 - accuracy: 0.96 - ETA: 4s - loss: 0.0902 - accuracy: 0.96 - ETA: 4s - loss: 0.0905 - accuracy: 0.96 - ETA: 4s - loss: 0.0906 - accuracy: 0.96 - ETA: 4s - loss: 0.0905 - accuracy: 0.96 - ETA: 4s - loss: 0.0905 - accuracy: 0.96 - ETA: 4s - loss: 0.0906 - accuracy: 0.96 - ETA: 4s - loss: 0.0905 - accuracy: 0.96 - ETA: 3s - loss: 0.0904 - accuracy: 0.96 - ETA: 3s - loss: 0.0908 - accuracy: 0.96 - ETA: 3s - loss: 0.0908 - accuracy: 0.96 - ETA: 3s - loss: 0.0906 - accuracy: 0.96 - ETA: 3s - loss: 0.0904 - accuracy: 0.96 - ETA: 3s - loss: 0.0903 - accuracy: 0.96 - ETA: 3s - loss: 0.0904 - accuracy: 0.96 - ETA: 3s - loss: 0.0905 - accuracy: 0.96 - ETA: 3s - loss: 0.0905 - accuracy: 0.96 - ETA: 3s - loss: 0.0907 - accuracy: 0.96 - ETA: 3s - loss: 0.0906 - accuracy: 0.96 - ETA: 3s - loss: 0.0905 - accuracy: 0.96 - ETA: 3s - loss: 0.0904 - accuracy: 0.96 - ETA: 3s - loss: 0.0907 - accuracy: 0.96 - ETA: 3s - loss: 0.0909 - accuracy: 0.96 - ETA: 3s - loss: 0.0914 - accuracy: 0.96 - ETA: 3s - loss: 0.0917 - accuracy: 0.96 - ETA: 2s - loss: 0.0916 - accuracy: 0.96 - ETA: 2s - loss: 0.0916 - accuracy: 0.96 - ETA: 2s - loss: 0.0917 - accuracy: 0.96 - ETA: 2s - loss: 0.0916 - accuracy: 0.96 - ETA: 2s - loss: 0.0918 - accuracy: 0.96 - ETA: 2s - loss: 0.0919 - accuracy: 0.96 - ETA: 2s - loss: 0.0921 - accuracy: 0.96 - ETA: 2s - loss: 0.0924 - accuracy: 0.96 - ETA: 2s - loss: 0.0924 - accuracy: 0.96 - ETA: 2s - loss: 0.0923 - accuracy: 0.96 - ETA: 2s - loss: 0.0925 - accuracy: 0.96 - ETA: 2s - loss: 0.0927 - accuracy: 0.96 - ETA: 2s - loss: 0.0926 - accuracy: 0.96 - ETA: 2s - loss: 0.0926 - accuracy: 0.96 - ETA: 2s - loss: 0.0924 - accuracy: 0.96 - ETA: 2s - loss: 0.0926 - accuracy: 0.96 - ETA: 1s - loss: 0.0926 - accuracy: 0.96 - ETA: 1s - loss: 0.0927 - accuracy: 0.96 - ETA: 1s - loss: 0.0925 - accuracy: 0.96 - ETA: 1s - loss: 0.0925 - accuracy: 0.96 - ETA: 1s - loss: 0.0924 - accuracy: 0.9623"
     ]
    },
    {
     "name": "stdout",
     "output_type": "stream",
     "text": [
      "804/804 [==============================] - ETA: 1s - loss: 0.0923 - accuracy: 0.96 - ETA: 1s - loss: 0.0922 - accuracy: 0.96 - ETA: 1s - loss: 0.0921 - accuracy: 0.96 - ETA: 1s - loss: 0.0919 - accuracy: 0.96 - ETA: 1s - loss: 0.0920 - accuracy: 0.96 - ETA: 1s - loss: 0.0919 - accuracy: 0.96 - ETA: 1s - loss: 0.0918 - accuracy: 0.96 - ETA: 1s - loss: 0.0916 - accuracy: 0.96 - ETA: 1s - loss: 0.0914 - accuracy: 0.96 - ETA: 1s - loss: 0.0915 - accuracy: 0.96 - ETA: 1s - loss: 0.0913 - accuracy: 0.96 - ETA: 1s - loss: 0.0914 - accuracy: 0.96 - ETA: 1s - loss: 0.0913 - accuracy: 0.96 - ETA: 0s - loss: 0.0911 - accuracy: 0.96 - ETA: 0s - loss: 0.0910 - accuracy: 0.96 - ETA: 0s - loss: 0.0914 - accuracy: 0.96 - ETA: 0s - loss: 0.0914 - accuracy: 0.96 - ETA: 0s - loss: 0.0912 - accuracy: 0.96 - ETA: 0s - loss: 0.0913 - accuracy: 0.96 - ETA: 0s - loss: 0.0911 - accuracy: 0.96 - ETA: 0s - loss: 0.0913 - accuracy: 0.96 - ETA: 0s - loss: 0.0913 - accuracy: 0.96 - ETA: 0s - loss: 0.0912 - accuracy: 0.96 - ETA: 0s - loss: 0.0913 - accuracy: 0.96 - ETA: 0s - loss: 0.0917 - accuracy: 0.96 - ETA: 0s - loss: 0.0914 - accuracy: 0.96 - ETA: 0s - loss: 0.0913 - accuracy: 0.96 - ETA: 0s - loss: 0.0915 - accuracy: 0.96 - ETA: 0s - loss: 0.0914 - accuracy: 0.96 - ETA: 0s - loss: 0.0914 - accuracy: 0.96 - ETA: 0s - loss: 0.0917 - accuracy: 0.96 - ETA: 0s - loss: 0.0918 - accuracy: 0.96 - ETA: 0s - loss: 0.0917 - accuracy: 0.96 - ETA: 0s - loss: 0.0918 - accuracy: 0.96 - 15s 19ms/step - loss: 0.0917 - accuracy: 0.9631 - val_loss: 0.4893 - val_accuracy: 0.7332\n"
     ]
    },
    {
     "data": {
      "text/html": [
       "<span style=\"color:#4527A0\"><h1 style=\"font-size:18px\">Trial complete</h1></span>"
      ],
      "text/plain": [
       "<IPython.core.display.HTML object>"
      ]
     },
     "metadata": {},
     "output_type": "display_data"
    },
    {
     "data": {
      "text/html": [
       "<span style=\"color:#4527A0\"><h1 style=\"font-size:18px\">Trial summary</h1></span>"
      ],
      "text/plain": [
       "<IPython.core.display.HTML object>"
      ]
     },
     "metadata": {},
     "output_type": "display_data"
    },
    {
     "data": {
      "text/html": [
       "<span style=\"color:cyan\"> |-Trial ID: 4ef83db512e132e760050a023a7440b5</span>"
      ],
      "text/plain": [
       "<IPython.core.display.HTML object>"
      ]
     },
     "metadata": {},
     "output_type": "display_data"
    },
    {
     "data": {
      "text/html": [
       "<span style=\"color:cyan\"> |-Score: 0.7693294286727905</span>"
      ],
      "text/plain": [
       "<IPython.core.display.HTML object>"
      ]
     },
     "metadata": {},
     "output_type": "display_data"
    },
    {
     "data": {
      "text/html": [
       "<span style=\"color:cyan\"> |-Best step: 0</span>"
      ],
      "text/plain": [
       "<IPython.core.display.HTML object>"
      ]
     },
     "metadata": {},
     "output_type": "display_data"
    },
    {
     "data": {
      "text/html": [
       "<span style=\"color:#7E57C2\"><h2 style=\"font-size:16px\">Hyperparameters:</h2></span>"
      ],
      "text/plain": [
       "<IPython.core.display.HTML object>"
      ]
     },
     "metadata": {},
     "output_type": "display_data"
    },
    {
     "data": {
      "text/html": [
       "<span style=\"color:cyan\"> |-activation: tanh</span>"
      ],
      "text/plain": [
       "<IPython.core.display.HTML object>"
      ]
     },
     "metadata": {},
     "output_type": "display_data"
    },
    {
     "data": {
      "text/html": [
       "<span style=\"color:blue\"> |-first_units: 85</span>"
      ],
      "text/plain": [
       "<IPython.core.display.HTML object>"
      ]
     },
     "metadata": {},
     "output_type": "display_data"
    },
    {
     "data": {
      "text/html": [
       "<span style=\"color:cyan\"> |-num_layers: 4</span>"
      ],
      "text/plain": [
       "<IPython.core.display.HTML object>"
      ]
     },
     "metadata": {},
     "output_type": "display_data"
    },
    {
     "data": {
      "text/html": [
       "<span style=\"color:blue\"> |-tuner/bracket: 0</span>"
      ],
      "text/plain": [
       "<IPython.core.display.HTML object>"
      ]
     },
     "metadata": {},
     "output_type": "display_data"
    },
    {
     "data": {
      "text/html": [
       "<span style=\"color:cyan\"> |-tuner/epochs: 5</span>"
      ],
      "text/plain": [
       "<IPython.core.display.HTML object>"
      ]
     },
     "metadata": {},
     "output_type": "display_data"
    },
    {
     "data": {
      "text/html": [
       "<span style=\"color:blue\"> |-tuner/initial_epoch: 0</span>"
      ],
      "text/plain": [
       "<IPython.core.display.HTML object>"
      ]
     },
     "metadata": {},
     "output_type": "display_data"
    },
    {
     "data": {
      "text/html": [
       "<span style=\"color:cyan\"> |-tuner/round: 0</span>"
      ],
      "text/plain": [
       "<IPython.core.display.HTML object>"
      ]
     },
     "metadata": {},
     "output_type": "display_data"
    },
    {
     "data": {
      "text/html": [
       "<span style=\"color:blue\"> |-units_0: 15</span>"
      ],
      "text/plain": [
       "<IPython.core.display.HTML object>"
      ]
     },
     "metadata": {},
     "output_type": "display_data"
    },
    {
     "data": {
      "text/html": [
       "<span style=\"color:cyan\"> |-units_1: 15</span>"
      ],
      "text/plain": [
       "<IPython.core.display.HTML object>"
      ]
     },
     "metadata": {},
     "output_type": "display_data"
    },
    {
     "data": {
      "text/html": [
       "<span style=\"color:blue\"> |-units_2: 30</span>"
      ],
      "text/plain": [
       "<IPython.core.display.HTML object>"
      ]
     },
     "metadata": {},
     "output_type": "display_data"
    },
    {
     "data": {
      "text/html": [
       "<span style=\"color:cyan\"> |-units_3: 30</span>"
      ],
      "text/plain": [
       "<IPython.core.display.HTML object>"
      ]
     },
     "metadata": {},
     "output_type": "display_data"
    },
    {
     "data": {
      "text/html": [
       "<span style=\"color:blue\"> |-units_4: 15</span>"
      ],
      "text/plain": [
       "<IPython.core.display.HTML object>"
      ]
     },
     "metadata": {},
     "output_type": "display_data"
    },
    {
     "name": "stdout",
     "output_type": "stream",
     "text": [
      "INFO:tensorflow:Oracle triggered exit\n"
     ]
    }
   ],
   "source": [
    "# Run the kerastuner search for best hyperparameters\n",
    "tuner.search(X_train_scaled,y_train,epochs=5,validation_data=(X_test_scaled,y_test))"
   ]
  },
  {
   "cell_type": "code",
   "execution_count": 19,
   "metadata": {},
   "outputs": [
    {
     "name": "stdout",
     "output_type": "stream",
     "text": [
      "{'activation': 'tanh', 'first_units': 80, 'num_layers': 1, 'units_0': 30, 'units_1': 35, 'units_2': 15, 'units_3': 30, 'units_4': 40, 'tuner/epochs': 2, 'tuner/initial_epoch': 0, 'tuner/bracket': 1, 'tuner/round': 0}\n",
      "{'activation': 'tanh', 'first_units': 80, 'num_layers': 1, 'units_0': 30, 'units_1': 35, 'units_2': 15, 'units_3': 30, 'units_4': 40, 'tuner/epochs': 5, 'tuner/initial_epoch': 2, 'tuner/bracket': 1, 'tuner/round': 1, 'tuner/trial_id': 'dd711750a09584adc1f43e52271a451d'}\n",
      "{'activation': 'tanh', 'first_units': 75, 'num_layers': 3, 'units_0': 45, 'units_1': 40, 'units_2': 30, 'units_3': 50, 'units_4': 45, 'tuner/epochs': 5, 'tuner/initial_epoch': 2, 'tuner/bracket': 1, 'tuner/round': 1, 'tuner/trial_id': '0123fdbf9d109dde9d690c9796410d12'}\n"
     ]
    }
   ],
   "source": [
    "# Get top 3 model hyperparameters and print the values\n",
    "top_hyper = tuner.get_best_hyperparameters(3)\n",
    "for param in top_hyper:\n",
    "    print(param.values)"
   ]
  },
  {
   "cell_type": "code",
   "execution_count": 20,
   "metadata": {},
   "outputs": [
    {
     "name": "stdout",
     "output_type": "stream",
     "text": [
      "268/268 - 0s - loss: 0.5417 - accuracy: 0.7977\n",
      "Loss: 0.5417230129241943, Accuracy: 0.7976676225662231\n",
      "268/268 - 1s - loss: 0.5942 - accuracy: 0.7958\n",
      "Loss: 0.5941565632820129, Accuracy: 0.7958017587661743\n",
      "268/268 - 1s - loss: 0.4773 - accuracy: 0.7956\n",
      "Loss: 0.47731533646583557, Accuracy: 0.7955685257911682\n"
     ]
    }
   ],
   "source": [
    "# Evaluate the top 3 models against the test dataset\n",
    "top_model = tuner.get_best_models(3)\n",
    "for model in top_model:\n",
    "    model_loss, model_accuracy = model.evaluate(X_test_scaled,y_test,verbose=2)\n",
    "    print(f\"Loss: {model_loss}, Accuracy: {model_accuracy}\")"
   ]
  },
  {
   "cell_type": "code",
   "execution_count": 26,
   "metadata": {},
   "outputs": [
    {
     "name": "stdout",
     "output_type": "stream",
     "text": [
      "WARNING:tensorflow:Unresolved object in checkpoint: (root).optimizer.iter\n",
      "WARNING:tensorflow:Unresolved object in checkpoint: (root).optimizer.beta_1\n",
      "WARNING:tensorflow:Unresolved object in checkpoint: (root).optimizer.beta_2\n",
      "WARNING:tensorflow:Unresolved object in checkpoint: (root).optimizer.decay\n",
      "WARNING:tensorflow:Unresolved object in checkpoint: (root).optimizer.learning_rate\n",
      "WARNING:tensorflow:A checkpoint was restored (e.g. tf.train.Checkpoint.restore or tf.keras.Model.load_weights) but not all checkpointed values were used. See above for specific issues. Use expect_partial() on the load status object, e.g. tf.train.Checkpoint.restore(...).expect_partial(), to silence these warnings, or use assert_consumed() to make the check explicit. See https://www.tensorflow.org/guide/checkpoint#loading_mechanics for details.\n"
     ]
    }
   ],
   "source": [
    "# Export our model to HDF5 file\n",
    "model = tuner.get_best_models(1)[0]\n",
    "model.save('AlphabetSoupCharity_Optimization.h5')"
   ]
  },
  {
   "cell_type": "code",
   "execution_count": null,
   "metadata": {},
   "outputs": [],
   "source": []
  }
 ],
 "metadata": {
  "kernelspec": {
   "display_name": "Python 3",
   "language": "python",
   "name": "python3"
  },
  "language_info": {
   "codemirror_mode": {
    "name": "ipython",
    "version": 3
   },
   "file_extension": ".py",
   "mimetype": "text/x-python",
   "name": "python",
   "nbconvert_exporter": "python",
   "pygments_lexer": "ipython3",
   "version": "3.8.5"
  }
 },
 "nbformat": 4,
 "nbformat_minor": 4
}
